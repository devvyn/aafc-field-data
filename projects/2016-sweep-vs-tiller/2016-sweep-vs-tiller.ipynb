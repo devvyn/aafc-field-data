{
 "cells": [
  {
   "cell_type": "code",
   "execution_count": 16,
   "outputs": [],
   "source": [
    "\"\"\"Python imports\"\"\"\n",
    "\n",
    "from helper import get_sheets, drop_except"
   ],
   "metadata": {
    "collapsed": false,
    "pycharm": {
     "name": "#%%\n",
     "is_executing": false
    }
   }
  },
  {
   "cell_type": "code",
   "execution_count": 17,
   "outputs": [],
   "source": [
    "\"\"\"Load spreadsheet into DataFrames\"\"\"\n",
    "\n",
    "filename: str = '../../data/2016-sweep-vs-tiller/2016 combination.xlsx'\n",
    "HEAD_COUNTS: str = 'Head Counts'\n",
    "SHEET2: str = 'Sheet2'\n",
    "sheet_names = (HEAD_COUNTS, SHEET2)\n",
    "frames: dict = get_sheets(filename, sheet_names,)"
   ],
   "metadata": {
    "collapsed": false,
    "pycharm": {
     "name": "#%%\n",
     "is_executing": false
    }
   }
  },
  {
   "cell_type": "code",
   "execution_count": 18,
   "outputs": [],
   "source": [
    "\"\"\"\n",
    "* drop columns\n",
    "* rename columns\n",
    "\"\"\"\n",
    "\n",
    "columns = {\n",
    "    HEAD_COUNTS: {\n",
    "        'Site': 'site',\n",
    "        'Crop': 'crop',\n",
    "        'Date': 'date',\n",
    "        'Field': 'field',\n",
    "        'EGA_head': 'ega_head',\n",
    "        'EGA_leaf': 'ega_leaf',\n",
    "        'BCO_head': 'bco_head',\n",
    "        'BCO_leaf': 'bco_leaf',\n",
    "        'EGA_grn': 'ega_grn',\n",
    "        'EGA_alate': 'ega_alate',\n",
    "        'EGA_apt': 'ega_apt',\n",
    "        'EGA_total': 'ega_total',\n",
    "        'BCO_apt': 'bco_apt',\n",
    "        'BCO_total': 'bco_total',\n",
    "        'greenbug_alate': 'greenbug_alate',\n",
    "        'greenbug_apt': 'greenbug_apt',\n",
    "        'aphids_total': 'aphids_total',\n",
    "    },\n",
    "    SHEET2: {\n",
    "        'Collection_Date': 'date',\n",
    "        'Site': 'site',\n",
    "        'Field_name': 'field',\n",
    "        'Crop': 'crop',\n",
    "        'Distance(m)': 'distance',\n",
    "        'Sitobion_avenae_EGA_green (wingless)': 'ega green apt',\n",
    "        'Sitobion_avenae_EGA_red': 'ega red',\n",
    "        'EGA alate': 'ega alate',\n",
    "        'Bird_Cherry_Oat_Aphid': 'bird_cherry_oat_aphid',\n",
    "        'greenbug_aphid': 'greenbug_aphid',\n",
    "        'pea aphids': 'pea aphids',\n",
    "        'Total_apterous_aphids': 'total apterous',\n",
    "        'Total_alate_aphids': 'total alate',\n",
    "        '4th_Instar_Pre-alate': 'ega instar_4 pre-alate',\n",
    "        '3rd_Instar_EGA': 'ega instar_3',\n",
    "        '3rd_Instar_EGA_Pre-alate': 'ega instar_3 pre-alate',\n",
    "        '2nd_Instar_EGA': 'ega instar_2',\n",
    "        '1st_Instar_EGA': 'ega instar_1',\n",
    "    },\n",
    "}\n",
    "\n",
    "for sheet_name in columns.keys():\n",
    "    frames[sheet_name] = drop_except(\n",
    "        frames[sheet_name],\n",
    "        columns[sheet_name].keys(),\n",
    "    ).rename(\n",
    "        columns=columns[sheet_name],\n",
    "        inplace=False,\n",
    "    )\n"
   ],
   "metadata": {
    "collapsed": false,
    "pycharm": {
     "name": "#%%\n",
     "is_executing": false
    }
   }
  }
 ],
 "metadata": {
  "kernelspec": {
   "name": "pycharm-45ab62c0",
   "language": "python",
   "display_name": "PyCharm (aafc-field-data)"
  },
  "language_info": {
   "codemirror_mode": {
    "name": "ipython",
    "version": 3
   },
   "file_extension": ".py",
   "mimetype": "text/x-python",
   "name": "python",
   "nbconvert_exporter": "python",
   "pygments_lexer": "ipython3",
   "version": "3.6.7"
  },
  "toc": {
   "base_numbering": 1,
   "nav_menu": {},
   "number_sections": true,
   "sideBar": true,
   "skip_h1_title": false,
   "title_cell": "Table of Contents",
   "title_sidebar": "Contents",
   "toc_cell": false,
   "toc_position": {},
   "toc_section_display": true,
   "toc_window_display": false
  },
  "pycharm": {
   "stem_cell": {
    "cell_type": "raw",
    "source": [],
    "metadata": {
     "collapsed": false
    }
   }
  }
 },
 "nbformat": 4,
 "nbformat_minor": 0
}
