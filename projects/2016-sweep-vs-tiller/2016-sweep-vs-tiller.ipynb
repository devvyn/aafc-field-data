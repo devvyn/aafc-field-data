{
 "cells": [
  {
   "cell_type": "code",
   "execution_count": 1,
   "outputs": [],
   "source": [
    "from typing import Tuple, Mapping, ValuesView\n",
    "\n",
    "import pandas\n",
    "from pandas import DataFrame, Series\n",
    "\n",
    "from helper import get_sheets, normalize_str, alphanumeric_lower\n",
    "\n",
    "# # Load frames\n",
    "\n",
    "filename: str = '../../data/2016-sweep-vs-tiller/2016 combination.xlsx'\n",
    "HEAD_COUNTS: str = 'Head Counts'\n",
    "SHEET2: str = 'Sheet2'\n",
    "sheet_names: Tuple[str, str] = (HEAD_COUNTS, SHEET2,)\n",
    "sheets_to_compare: Mapping[str, DataFrame] = get_sheets(\n",
    "    filename,\n",
    "    sheet_names,\n",
    ")\n",
    "frames: ValuesView[\n",
    "    DataFrame] = sheets_to_compare.values()  # assumes preserved order\n",
    "sheet2: DataFrame = sheets_to_compare[SHEET2]\n",
    "head_counts: DataFrame = sheets_to_compare[HEAD_COUNTS]\n"
   ],
   "metadata": {
    "collapsed": false,
    "pycharm": {
     "name": "#%%\n",
     "is_executing": false
    }
   }
  },
  {
   "cell_type": "markdown",
   "source": [
    "# clean"
   ],
   "metadata": {
    "collapsed": false,
    "pycharm": {
     "name": "#%% md\n"
    }
   }
  },
  {
   "cell_type": "markdown",
   "source": [
    "## sheet2"
   ],
   "metadata": {
    "collapsed": false
   }
  },
  {
   "cell_type": "code",
   "execution_count": null,
   "outputs": [],
   "source": [
    "# all columns lowercase, no leading or trailing spaces\n",
    "sheet2.columns = sheet2.columns.str.strip().str.lower()\n",
    "\n",
    "# replace bad date column with good data\n",
    "sheet2.drop(columns='date', inplace=True)\n",
    "sheet2.rename(\n",
    "    columns={'collection_date': 'date'},\n",
    "    inplace=True,\n",
    ")\n",
    "sheet2['date'] = pandas.to_datetime(\n",
    "    sheet2['date'],\n",
    "    format='%d_%m_%Y',\n",
    ")"
   ],
   "metadata": {
    "collapsed": false,
    "pycharm": {
     "name": "#%%\n"
    }
   }
  },
  {
   "cell_type": "markdown",
   "source": [
    "## head_counts"
   ],
   "metadata": {
    "collapsed": false,
    "pycharm": {
     "name": "#%% md\n"
    }
   }
  },
  {
   "cell_type": "code",
   "execution_count": null,
   "outputs": [],
   "source": [
    "# all columns lowercase, no leading or trailing spaces\n",
    "head_counts.columns = head_counts.columns.str.strip().str.lower()\n",
    "\n",
    "# replace bad date column with good data\n",
    "head_counts['date'] = pandas.to_datetime(\n",
    "    head_counts['date'],\n",
    "    format='%d/%m/%Y',\n",
    ")"
   ],
   "metadata": {
    "collapsed": false,
    "pycharm": {
     "name": "#%%\n"
    }
   }
  },
  {
   "cell_type": "markdown",
   "source": [
    "## all"
   ],
   "metadata": {
    "collapsed": false,
    "pycharm": {
     "name": "#%% md\n"
    }
   }
  },
  {
   "cell_type": "code",
   "execution_count": null,
   "outputs": [],
   "source": [
    "for frame in frames:\n",
    "    frame.rename(\n",
    "        columns={'field_name': 'field'},  # @todo: check if loop is necessary\n",
    "        inplace=True,\n",
    "    )\n",
    "    frame.crop = frame.crop.apply(normalize_str)\n",
    "site_values: DataFrame = (\n",
    "    pandas.concat(\n",
    "        (\n",
    "            frame[['site']] for frame in frames\n",
    "        ),\n",
    "        keys=sheet_names,\n",
    "        names=['Sheet Name', 'index', ],\n",
    "    ).drop_duplicates().sort_values('site')\n",
    ")\n",
    "preferred_site_id: Series = pandas.Series(\n",
    "    name='site',\n",
    "    data={\n",
    "        alphanumeric_lower(item): item\n",
    "        for item in [\n",
    "            'Alvena',\n",
    "            'Clavet',\n",
    "            'Indian Head',\n",
    "            'Kernan',\n",
    "            'Llewellyn',\n",
    "            'Meadow Lake',\n",
    "            'Melfort',\n",
    "            'Outlook',\n",
    "            'SEF',\n",
    "            'Wakaw',\n",
    "            'Yellow Creek',\n",
    "        ]\n",
    "    },\n",
    ")\n",
    "preferred_site_id.index.set_names(['site_index'], inplace=True)\n",
    "frames_site_values_ = tuple(frames) + (site_values,)\n",
    "for frame in frames_site_values_:\n",
    "    frame['site_index'] = frame.site.apply(alphanumeric_lower)\n",
    "    frame.set_index('site_index', append=True, inplace=True)\n",
    "for frame in frames:\n",
    "    frame.loc[:, 'site'] = (\n",
    "        preferred_site_id.to_frame().combine_first(frame).loc[:, 'site']\n",
    "    )\n",
    "    frame.reset_index(\n",
    "        level='site_index',\n",
    "        drop=True,\n",
    "        inplace=True,\n",
    "    )\n",
    "    frame.field = (\n",
    "        frame.field.str.extract(\n",
    "            pat=r'(?P<text>\\D*)(?P<number>\\d*)').loc[:, 'number'].apply(\n",
    "            pandas.to_numeric, downcast='integer'))\n"
   ],
   "metadata": {
    "collapsed": false,
    "pycharm": {
     "name": "#%%\n"
    }
   }
  }
 ],
 "metadata": {
  "kernelspec": {
   "name": "python3",
   "language": "python",
   "display_name": "Python 3"
  },
  "language_info": {
   "codemirror_mode": {
    "name": "ipython",
    "version": 3
   },
   "file_extension": ".py",
   "mimetype": "text/x-python",
   "name": "python",
   "nbconvert_exporter": "python",
   "pygments_lexer": "ipython3",
   "version": "3.6.7"
  },
  "toc": {
   "base_numbering": 1,
   "nav_menu": {},
   "number_sections": true,
   "sideBar": true,
   "skip_h1_title": false,
   "title_cell": "Table of Contents",
   "title_sidebar": "Contents",
   "toc_cell": false,
   "toc_position": {},
   "toc_section_display": true,
   "toc_window_display": false
  },
  "pycharm": {
   "stem_cell": {
    "cell_type": "raw",
    "source": [],
    "metadata": {
     "collapsed": false
    }
   }
  }
 },
 "nbformat": 4,
 "nbformat_minor": 0
}