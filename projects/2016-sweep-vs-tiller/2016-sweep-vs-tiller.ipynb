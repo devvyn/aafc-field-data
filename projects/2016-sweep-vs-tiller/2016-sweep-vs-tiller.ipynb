{
 "cells": [
  {
   "cell_type": "markdown",
   "metadata": {
    "collapsed": true
   },
   "source": [
    "# Introduction"
   ]
  },
  {
   "cell_type": "markdown",
   "metadata": {
    "collapsed": true
   },
   "source": [
    "## Objective"
   ]
  },
  {
   "cell_type": "markdown",
   "metadata": {
    "collapsed": true
   },
   "source": [
    "* Answer the question:\n",
    "  * For any given day and place is the relationship between observations\n",
    "  recorded as \"head counts\" and those recorded as \"sweeps\"?\n",
    "* Document the process of finding the answer so that the exact steps are\n",
    "replicable and clearly demonstrated here."
   ]
  },
  {
   "cell_type": "markdown",
   "metadata": {
    "collapsed": true
   },
   "source": [
    "## About the Data"
   ]
  },
  {
   "cell_type": "markdown",
   "metadata": {
    "collapsed": true
   },
   "source": [
    "![\"Perfectly straight line in graph comparing supposedly independent variables\n",
    "in Head Count and Sweeps workbook, in Excel Online\"\n",
    "](head-count-sweeps-graph-excel-online.png)"
   ]
  },
  {
   "cell_type": "markdown",
   "metadata": {
    "collapsed": true
   },
   "source": [
    "I'm troubleshooting a spreadsheet document that was prepared by someone else.\n",
    "Whoever prepared it probably handed it off to someone else before I came into\n",
    "contact. The information in the document looks like it's been copied from other\n",
    "documents which I'm not certain I have access to.\n",
    "\n",
    "In this document, there's a graph that demonstrates the goal of the document:\n",
    "to compare the relationship between two observation methods. Unfortunately, the\n",
    "graph shows a suspicious degree of idealness: a perfect one-to-one ratio across\n",
    "the entire domain.\n",
    "\n",
    "My assignment is to trace the error and correct the graph so that it displays\n",
    "the precise ratios calculated from appropriate samples. The samples available\n",
    "for this purpose are counts of aphids collected by the two methods described in\n",
    "the [Objective].\n",
    "\n",
    "[Objective]: #Objective"
   ]
  },
  {
   "cell_type": "markdown",
   "metadata": {
    "collapsed": true
   },
   "source": [
    "### Explore Worksheets"
   ]
  },
  {
   "cell_type": "markdown",
   "metadata": {
    "collapsed": true
   },
   "source": [
    "Before getting hands on with _pandas_, I'll open the document in Excel and\n",
    "record what my senses tell me."
   ]
  },
  {
   "cell_type": "markdown",
   "metadata": {
    "collapsed": true
   },
   "source": [
    "#### Unbelievable Graph"
   ]
  },
  {
   "cell_type": "markdown",
   "metadata": {
    "collapsed": true
   },
   "source": [
    "* There's a graph in a worksheet called \"head counts vs sweeps graphs\" which\n",
    "demonstrates the analytical problem encountered/developed by someone else.\n",
    "* The data supposedly being compared in the graph is cannot be the data that\n",
    "was intended for comparison because the ratio depicted is perfectly linear even\n",
    "though it's comparing real world samples."
   ]
  },
  {
   "cell_type": "markdown",
   "metadata": {
    "collapsed": true
   },
   "source": [
    "#### Work Not Shown"
   ]
  },
  {
   "cell_type": "markdown",
   "metadata": {
    "collapsed": true
   },
   "source": [
    "It's clear that the Excel workbook has the results of many calculations, yet\n",
    "there are no spreadsheet formulas in any cells. Spreadsheet formulas would have\n",
    "greatly expedited the verification of the calculations; without any reference\n",
    "to how the calculations were performed and on what values, I'll need to\n",
    "replicate them from scratch."
   ]
  },
  {
   "cell_type": "markdown",
   "metadata": {
    "collapsed": true
   },
   "source": [
    "#### Metadata and Document History"
   ]
  },
  {
   "cell_type": "markdown",
   "metadata": {
    "collapsed": true
   },
   "source": [
    "* Data may have been copied from multiple, unidentified sources.\n",
    "* It's not clear which data is \"original\" and which is duplicated, amongst the\n",
    "worksheets in the workbook.\n",
    "* Some data appears to have been summed and then mixed back in with the rest of\n",
    "the data.\n",
    "* There are no notes from editors of the workbook, and the editors are\n",
    "unidentifiable."
   ]
  },
  {
   "cell_type": "markdown",
   "metadata": {
    "collapsed": true
   },
   "source": [
    "### Summary of Issues"
   ]
  },
  {
   "cell_type": "markdown",
   "metadata": {
    "collapsed": true
   },
   "source": [
    "* No metadata\n",
    "* No convention for categorical label values\n",
    "* Mixed aggregation levels (some sums mixed with non-summed data)\n",
    "* Graph plot is based on incorrect values"
   ]
  },
  {
   "cell_type": "markdown",
   "metadata": {
    "collapsed": true
   },
   "source": [
    "## Analytical Goals"
   ]
  },
  {
   "cell_type": "markdown",
   "metadata": {
    "collapsed": true
   },
   "source": [
    "### Tidy & Plot Ratios"
   ]
  },
  {
   "cell_type": "markdown",
   "metadata": {
    "collapsed": true
   },
   "source": [
    "* Data is clean and indexed well enough to align quantitative samples from the\n",
    "two field collection methods.\n",
    "* Upon plotting the ratios of dependent variables corresponding with each\n",
    "collection method, the graph should not depict an absolutely perfect fit to a\n",
    "line. That is to say, there should be some variation."
   ]
  },
  {
   "cell_type": "markdown",
   "metadata": {
    "collapsed": true
   },
   "source": [
    "### Retain for Reference"
   ]
  },
  {
   "cell_type": "markdown",
   "metadata": {
    "collapsed": true
   },
   "source": [
    "* For posterity, the data should be easy to align with any similar data. This\n",
    "makes it possible to identify whether the same data exists in any other file."
   ]
  },
  {
   "cell_type": "markdown",
   "metadata": {
    "collapsed": true
   },
   "source": [
    "# Pre-analysis"
   ]
  },
  {
   "cell_type": "markdown",
   "metadata": {
    "collapsed": true
   },
   "source": [
    "## Setup Computing Environment"
   ]
  },
  {
   "cell_type": "markdown",
   "metadata": {
    "collapsed": true
   },
   "source": [
    "### Import Python Packages"
   ]
  },
  {
   "cell_type": "code",
   "execution_count": 2,
   "metadata": {
    "collapsed": false,
    "pycharm": {
     "is_executing": false
    }
   },
   "outputs": [],
   "source": [
    "import re\n",
    "from os import getcwd\n",
    "\n",
    "import pandas\n",
    "from markdown import markdown\n",
    "from IPython.display import HTML, display"
   ]
  },
  {
   "cell_type": "markdown",
   "metadata": {
    "collapsed": true
   },
   "source": [
    "## Load Worksheets into _pandas_"
   ]
  },
  {
   "cell_type": "markdown",
   "source": [
    "I'll make a dictionary of names and data frames, so I can examine the file\n",
    "overall."
   ],
   "metadata": {
    "collapsed": false
   }
  },
  {
   "cell_type": "code",
   "execution_count": 3,
   "metadata": {
    "collapsed": false,
    "pycharm": {
     "is_executing": false
    }
   },
   "outputs": [],
   "source": [
    "data_file = pandas.ExcelFile(\n",
    "    '../../data/2016-sweep-vs-tiller/2016 combination.xlsx')\n",
    "sheets = {\n",
    "    sheet_name: data_file.parse(sheet_name)\n",
    "    for sheet_name in data_file.sheet_names\n",
    "}"
   ]
  },
  {
   "cell_type": "markdown",
   "metadata": {
    "collapsed": false
   },
   "source": [
    "For convenience, I'll put sheet names and sheet cells in shorthand variables:"
   ]
  },
  {
   "cell_type": "code",
   "execution_count": 4,
   "metadata": {
    "collapsed": false,
    "pycharm": {
     "is_executing": false
    }
   },
   "outputs": [],
   "source": [
    "sheet_names = sheets.keys()\n",
    "sheet_frames = sheets.values()"
   ]
  },
  {
   "cell_type": "markdown",
   "metadata": {
    "collapsed": true
   },
   "source": [
    "### Classify Worksheets"
   ]
  },
  {
   "cell_type": "markdown",
   "metadata": {
    "collapsed": false
   },
   "source": [
    "Because I can't trust the accuracy of the data used by the plot in Excel, I\n",
    "need to look at all the sheets and determine the most complete and\n",
    "unadulterated data sets. I'll determine which data belongs to each category,\n",
    "and compare the sets."
   ]
  },
  {
   "cell_type": "markdown",
   "metadata": {
    "collapsed": false
   },
   "source": [
    "#### Compare Columns"
   ]
  },
  {
   "cell_type": "markdown",
   "metadata": {
    "collapsed": true
   },
   "source": [
    "To begin to discern which data is original, I'll preview some column names of\n",
    "each worksheet. Knowing which sheets have dates and places will provide me a\n",
    "with a sense for the differences in data structures."
   ]
  },
  {
   "cell_type": "code",
   "execution_count": 5,
   "metadata": {
    "collapsed": false,
    "pycharm": {
     "is_executing": false
    }
   },
   "outputs": [],
   "source": [
    "pandas.DataFrame(\n",
    "    data=[frame.columns for frame in sheet_frames],\n",
    "    index=pandas.Index(data=sheet_names),\n",
    ").loc[:, :8]"
   ]
  },
  {
   "cell_type": "markdown",
   "metadata": {
    "collapsed": true
   },
   "source": [
    "Based on sheet names, column names, and similarities between columns sets, I\n",
    "can probably group the sheets like so:\n",
    "#### Tiller Head Count\n",
    "* **Head Counts**\n",
    "* **Head Counts Edited**\n",
    "#### Net Sweep\n",
    "* **Sheet2**\n",
    "* **Sweep Samples Cereals**\n",
    "* **Sweep Samples Cereals Edited**\n",
    "* **leafhoppers 2016 cereal sweeps**\n",
    "#### Extraneous\n",
    "* Analytical experiments:\n",
    "  * **Data Sheets Combined**\n",
    "  * **Pivot chart LH phen**\n",
    "  * **Sheet3**\n",
    "  * **aphid sweep vs head count**\n",
    "  * **head counts vs sweeps graphs**"
   ]
  },
  {
   "cell_type": "markdown",
   "metadata": {
    "collapsed": false
   },
   "source": [
    "I don't want any of the sheets grouped under \"extraneous\". The **Data Sheets\n",
    "Combined** sheet is uninteresting to me because I want to combine the data in\n",
    "the sheets in my own way, rather than trust analytical artifacts."
   ]
  },
  {
   "cell_type": "markdown",
   "metadata": {
    "collapsed": true
   },
   "source": [
    "## Tidy Up"
   ]
  },
  {
   "cell_type": "markdown",
   "metadata": {
    "collapsed": true
   },
   "source": [
    "### Normalize Column Names"
   ]
  },
  {
   "cell_type": "markdown",
   "metadata": {
    "collapsed": true
   },
   "source": [
    "I've already noticed at least one leading space on a column name (\"spiders\"),\n",
    "and variations in capitalization. To compensate for this, I'll strip all\n",
    "leading and trailing whitespace from the column names."
   ]
  },
  {
   "cell_type": "markdown",
   "metadata": {
    "collapsed": true
   },
   "source": [
    "To avoid confusion due to variations in capitalization, I'll convert all column\n",
    "names to lower case."
   ]
  },
  {
   "cell_type": "code",
   "execution_count": 6,
   "metadata": {
    "collapsed": false,
    "pycharm": {
     "is_executing": false
    }
   },
   "outputs": [],
   "source": [
    "for sheet in sheets.values():\n",
    "    if sheet.columns.size > 0:\n",
    "        sheet.columns = sheet.columns.str.strip().str.lower()"
   ]
  },
  {
   "cell_type": "markdown",
   "metadata": {
    "collapsed": true
   },
   "source": [
    "### Convert Date & Time Format"
   ]
  },
  {
   "cell_type": "markdown",
   "metadata": {
    "collapsed": true
   },
   "source": [
    "Before I can easily examine dates from the worksheets, I must convert them to\n",
    "proper date values for Python and *pandas*. I'll check the date formats from\n",
    "the first row of all sheets:"
   ]
  },
  {
   "cell_type": "code",
   "execution_count": 7,
   "metadata": {
    "collapsed": false,
    "scrolled": true,
    "pycharm": {
     "is_executing": false
    }
   },
   "outputs": [],
   "source": [
    "(\n",
    "    pandas.concat(\n",
    "        {\n",
    "            name: sheet.loc[\n",
    "                :,\n",
    "                sheet.columns.str.contains('date')\n",
    "            ].reset_index(drop=True)\n",
    "            for (name, sheet) in sheets.items()\n",
    "                if sheet.columns.size > 0\n",
    "        },\n",
    "        axis='columns',\n",
    "    )\n",
    "    .loc[0]\n",
    "    .unstack()\n",
    "    .fillna('')\n",
    ")"
   ]
  },
  {
   "cell_type": "markdown",
   "metadata": {
    "collapsed": true
   },
   "source": [
    "According to the documentation for [`pandas.to_datetime`], I can convert a\n",
    "string to a true datetime value. The function uses [Python datetime format\n",
    "strings]. Here are the date columns, the format strings, and the worksheet\n",
    "names I see:\n",
    "\n",
    "***collection_date*** (`%m_%d_%Y`):\n",
    "\n",
    "* **leafhoppers 2016 cereal sweeps**\n",
    "* **Sheet2**\n",
    "* **Sweep Samples Cereals**\n",
    "\n",
    "date (`%m/%d/%Y`):\n",
    "\n",
    "* **Head Counts**\n",
    "\n",
    "***date*** (no conversion):\n",
    "\n",
    "* **aphid sweep vs head count**\n",
    "* **Sweep Samples Cereals Edited**\n",
    "* **Head Counts Edited**\n",
    "* **Data Sheets Combined**\n",
    "\n",
    "In some worksheets, the ***date*** column is present even though there's a\n",
    "better column for the date (***collection_date***). I'll drop the ***date***\n",
    "column and rename the ***collection_date*** column to fill its place.\n",
    "\n",
    "After conversion, I'll output a sample date from the column to prove that the\n",
    "column ***date*** is in fact a datetime.\n",
    "\n",
    "[`pandas.to_datetime`]: http://pandas.pydata.org/pandas-docs/version/0.23/generated/pandas.to_datetime.html\n",
    "[Python datetime format strings]: https://docs.python.org/3/library/datetime.html#strftime-and-strptime-behavior"
   ]
  },
  {
   "cell_type": "code",
   "execution_count": 8,
   "metadata": {
    "collapsed": false,
    "pycharm": {
     "is_executing": false
    }
   },
   "outputs": [],
   "source": [
    "for name, sheet in ((name, sheets[name]) for name in (\n",
    "    'Head Counts',\n",
    "    'Sheet2',\n",
    "    'Sweep Samples Cereals',\n",
    "    'leafhoppers 2016 cereal sweeps',\n",
    ")):\n",
    "    display(HTML(markdown(f'#### {name}')))\n",
    "    if name == 'Head Counts':\n",
    "        sheet['date'] = pandas.to_datetime(\n",
    "            sheet['date'],\n",
    "            format='%d/%m/%Y',\n",
    "        )\n",
    "    else:\n",
    "        sheet.drop(columns='date', inplace=True)\n",
    "        sheet.rename(\n",
    "            columns={'collection_date': 'date'},\n",
    "            inplace=True,\n",
    "        )\n",
    "        sheet['date'] = pandas.to_datetime(\n",
    "            sheet['date'],\n",
    "            format='%d_%m_%Y',\n",
    "        )\n",
    "    display(sheet.date.head(1))"
   ]
  },
  {
   "cell_type": "markdown",
   "metadata": {
    "collapsed": true
   },
   "source": [
    "# Select Primary Data Sets"
   ]
  },
  {
   "cell_type": "markdown",
   "metadata": {
    "collapsed": true
   },
   "source": [
    "## Sweep Samples"
   ]
  },
  {
   "cell_type": "markdown",
   "metadata": {
    "collapsed": true
   },
   "source": [
    "### Candidates"
   ]
  },
  {
   "cell_type": "markdown",
   "metadata": {
    "collapsed": true
   },
   "source": [
    "* **Sheet2**\n",
    "* **Sweep Samples Cereals**\n",
    "* **Sweep Samples Cereals Edited**\n",
    "* **leafhoppers 2016 cereal sweeps**"
   ]
  },
  {
   "cell_type": "markdown",
   "metadata": {
    "collapsed": true
   },
   "source": [
    "From my hands-on exploration in Excel, I got the feeling that **Sheet2** is the\n",
    "most complete. It generally had more rows and looked tidiest. I'll compare it\n",
    "to the other candidates, one at a time."
   ]
  },
  {
   "cell_type": "markdown",
   "metadata": {
    "collapsed": true
   },
   "source": [
    "### **Sheet2** vs **Sweep Samples Cereals**"
   ]
  },
  {
   "cell_type": "markdown",
   "metadata": {
    "collapsed": true
   },
   "source": [
    "I'd like to confirm my hope that all data in **Sweep Samples Cereals** is\n",
    "included in the vaguely named **Sheet2**. I'll put them both in a dictionary\n",
    "called **compare_sheets** for quick reference."
   ]
  },
  {
   "cell_type": "code",
   "execution_count": 9,
   "metadata": {
    "collapsed": false,
    "pycharm": {
     "is_executing": false
    }
   },
   "outputs": [],
   "source": [
    "sheet_names = (\n",
    "    'Sweep Samples Cereals',\n",
    "    'Sheet2',\n",
    ")\n",
    "sheets_to_compare = {\n",
    "    name: sheets[name]\n",
    "    for name in sheet_names\n",
    "}"
   ]
  },
  {
   "cell_type": "markdown",
   "metadata": {
    "collapsed": true
   },
   "source": [
    "I'll refer to **Sweep Sample Cereals** as `ssc` and I'll continue to refer to\n",
    "**Sheet2** as `s2`. "
   ]
  },
  {
   "cell_type": "code",
   "execution_count": 10,
   "metadata": {
    "collapsed": false,
    "pycharm": {
     "is_executing": false
    }
   },
   "outputs": [],
   "source": [
    "ssc, s2 = sheets_to_compare.values()"
   ]
  },
  {
   "cell_type": "markdown",
   "metadata": {
    "collapsed": true
   },
   "source": [
    "#### Columns"
   ]
  },
  {
   "cell_type": "markdown",
   "metadata": {
    "collapsed": true
   },
   "source": [
    "I'll convert each column list to a `Series` and display them side-by-side in a\n",
    "`DataFrame`."
   ]
  },
  {
   "cell_type": "code",
   "execution_count": 11,
   "metadata": {
    "collapsed": false,
    "pycharm": {
     "is_executing": false
    }
   },
   "outputs": [],
   "source": [
    "from typing import Dict\n",
    "\n",
    "\n",
    "def emojify_boolean(frame: pandas.DataFrame) -> pandas.DataFrame:\n",
    "    return (\n",
    "        frame.replace({\n",
    "            True: '✅',\n",
    "            False: '✖️',\n",
    "        })\n",
    "    )\n",
    "\n",
    "\n",
    "def compare_columns(frames: Dict[str, pandas.DataFrame]) -> pandas.DataFrame:\n",
    "    return emojify_boolean(\n",
    "        pandas.DataFrame(\n",
    "            data={\n",
    "                name: sheet.columns.to_series(name=name)\n",
    "                for name, sheet in frames.items()\n",
    "            }\n",
    "        ).notna()\n",
    "    )"
   ]
  },
  {
   "cell_type": "code",
   "execution_count": 12,
   "metadata": {
    "collapsed": false,
    "scrolled": true,
    "pycharm": {
     "is_executing": false
    }
   },
   "outputs": [],
   "source": [
    "compare_columns(sheets_to_compare)"
   ]
  },
  {
   "cell_type": "markdown",
   "metadata": {
    "collapsed": true
   },
   "source": [
    "I see only a few differences. I'll determine the exact asymmetry using\n",
    "*pandas*'s `Index.symmetric_difference`:"
   ]
  },
  {
   "cell_type": "code",
   "execution_count": 13,
   "metadata": {
    "collapsed": false,
    "pycharm": {
     "is_executing": false
    }
   },
   "outputs": [],
   "source": [
    "ssc.columns.symmetric_difference(s2.columns).tolist()"
   ]
  },
  {
   "cell_type": "markdown",
   "metadata": {
    "collapsed": true
   },
   "source": [
    "I believe the unnamed columns are empty. The other columns have calculated\n",
    "values that I don't trust. **Sweep Samples Cereals** is probably useless for my\n",
    "purposes."
   ]
  },
  {
   "cell_type": "markdown",
   "metadata": {
    "collapsed": true
   },
   "source": [
    "#### Date Range"
   ]
  },
  {
   "cell_type": "code",
   "execution_count": 14,
   "metadata": {
    "collapsed": false,
    "pycharm": {
     "is_executing": false
    }
   },
   "outputs": [],
   "source": [
    "def len_unique(pandas_object):\n",
    "    return len(pandas_object.unique())\n",
    "\n",
    "\n",
    "# noinspection PyTypeChecker\n",
    "pandas.DataFrame(\n",
    "    {\n",
    "        name: frame.date\n",
    "        for name, frame in sheets_to_compare.items()\n",
    "    }\n",
    ").apply(\n",
    "    [\n",
    "        pandas.Series.max,\n",
    "        pandas.Series.min,\n",
    "        len_unique,\n",
    "    ]\n",
    ")"
   ]
  },
  {
   "cell_type": "markdown",
   "metadata": {
    "collapsed": true
   },
   "source": [
    "I need to check if *all* the dates in **Sweep Samples Cereals** are in\n",
    "**Sheet2**."
   ]
  },
  {
   "cell_type": "code",
   "execution_count": 15,
   "metadata": {
    "collapsed": false,
    "pycharm": {
     "is_executing": false
    }
   },
   "outputs": [],
   "source": [
    "ssc.date.isin(s2.date).all()"
   ]
  },
  {
   "cell_type": "markdown",
   "metadata": {
    "collapsed": true
   },
   "source": [
    "I'm curious if the converse is also true:"
   ]
  },
  {
   "cell_type": "code",
   "execution_count": 16,
   "metadata": {
    "collapsed": false,
    "pycharm": {
     "is_executing": false
    }
   },
   "outputs": [],
   "source": [
    "s2.date.isin(ssc.date).all()"
   ]
  },
  {
   "cell_type": "markdown",
   "metadata": {
    "collapsed": true
   },
   "source": [
    "Since **s2** has some dates which **ssc** does not, I'd like to know how big\n",
    "the difference is. I'll view all date values in **s2** which fail to match with\n",
    "those in **ssc**, ignoring duplicates."
   ]
  },
  {
   "cell_type": "code",
   "execution_count": 17,
   "metadata": {
    "collapsed": false,
    "pycharm": {
     "is_executing": false
    }
   },
   "outputs": [],
   "source": [
    "(\n",
    "    s2.date.loc[~s2.date.isin(ssc.date)]\n",
    "    .drop_duplicates()\n",
    ")"
   ]
  },
  {
   "cell_type": "markdown",
   "metadata": {
    "collapsed": true
   },
   "source": [
    "So, this isn't a lot, but it's worth noting. These dates are only in **s2**."
   ]
  },
  {
   "cell_type": "markdown",
   "metadata": {
    "collapsed": true
   },
   "source": [
    "#### Avoiding reduced data (totals)"
   ]
  },
  {
   "cell_type": "markdown",
   "metadata": {
    "collapsed": true
   },
   "source": [
    "I see a \"**_total sweeps_**\" column only in **Sweep Samples Cereals**, which\n",
    "leads me to suspect that **Sweep Samples Cereals** comprises aggregates (sums),\n",
    "possibly based on values present in **Sheet2**. However, **Sheet2** has two\n",
    "additional dates, which means that it has data that the other worksheet doesn't.\n",
    "Now, it's a matter of determining whether **Sheet2** is comprehensive enough to\n",
    "preclude the use of **Sweep Samples Cereals**."
   ]
  },
  {
   "cell_type": "markdown",
   "metadata": {
    "collapsed": true
   },
   "source": [
    "##### Value Counts on ***distance(m)***"
   ]
  },
  {
   "cell_type": "markdown",
   "metadata": {
    "collapsed": true
   },
   "source": [
    "It's my impression that the actual, physical sweeps were at different distances\n",
    "from some physical origin, and later reduced to sums. If I peek at the\n",
    "***distance(m)*** column, I should see a clear difference between these varied\n",
    "distances and the \"distance\" value used by records which have multiple sweeps\n",
    "combined. (Ideally, there wouldn't be a distance value for aggregates at all,\n",
    "but this illustrates the problem of mixing raw data with partially analysed\n",
    "data.)"
   ]
  },
  {
   "cell_type": "code",
   "execution_count": 18,
   "metadata": {
    "collapsed": false,
    "pycharm": {
     "is_executing": false
    }
   },
   "outputs": [],
   "source": [
    "display(\n",
    "    pandas.concat(\n",
    "        {\n",
    "            name: frame['distance(m)']\n",
    "            for name, frame in sheets_to_compare.items()\n",
    "        },\n",
    "        axis='columns',\n",
    "    )\n",
    "    .apply(pandas.value_counts)\n",
    "    .fillna('-')\n",
    ")"
   ]
  },
  {
   "cell_type": "markdown",
   "metadata": {
    "collapsed": true
   },
   "source": [
    "Indeed, **Sheet2** has data from observations at various \"distances\", while\n",
    "**Sweep Samples Cereals** has only the label, ***Combined***.\n",
    "\n",
    "**Sheet2** has more rows because it isn't totalling up the sweeps from various\n",
    "distances. That makes **Sheet2** less processed, and therefore more \"raw\" (less\n",
    "likely to be corrupted by human error during prior analysis). Since I don't want\n",
    "reduced (summed) data, I don't want **Sweep Samples Cereals**."
   ]
  },
  {
   "cell_type": "markdown",
   "metadata": {
    "collapsed": true
   },
   "source": [
    "#### Conclusion"
   ]
  },
  {
   "cell_type": "markdown",
   "metadata": {
    "collapsed": true
   },
   "source": [
    "Most optimal of these two:\n",
    "\n",
    "* **Sheet2**"
   ]
  },
  {
   "cell_type": "markdown",
   "metadata": {
    "collapsed": true
   },
   "source": [
    "### **Sheet2** vs **Sweep Samples Cereals Edited**"
   ]
  },
  {
   "cell_type": "code",
   "execution_count": 19,
   "metadata": {
    "collapsed": false,
    "pycharm": {
     "is_executing": false
    }
   },
   "outputs": [],
   "source": [
    "sheets_to_compare = {\n",
    "    name: sheets[name]\n",
    "    for name in (\n",
    "        'Sweep Samples Cereals Edited',\n",
    "        'Sheet2',\n",
    "    )\n",
    "}\n",
    "ssce, s2 = sheets_to_compare.values()\n",
    "sheet_names = sheets_to_compare.keys()"
   ]
  },
  {
   "cell_type": "markdown",
   "metadata": {
    "collapsed": true
   },
   "source": [
    "#### Columns"
   ]
  },
  {
   "cell_type": "code",
   "execution_count": 20,
   "metadata": {
    "collapsed": false,
    "scrolled": true,
    "pycharm": {
     "is_executing": false
    }
   },
   "outputs": [],
   "source": [
    "pandas.options.display.max_rows = 140\n",
    "\n",
    "compare_columns(sheets_to_compare)"
   ]
  },
  {
   "cell_type": "markdown",
   "metadata": {
    "collapsed": true
   },
   "source": [
    "**Sweep Samples Cereals Edited** seems to have left out some columns that would\n",
    "be expected to carry finely categorized subjects, such as various instars of\n",
    "aphids. Furthermore, it appears that **Sweep Samples Cereals Edited** has a\n",
    "column, ***Total Sweeps***, which is probably an artefact from previous analysis\n",
    "efforts. It's also missing the ***Distance(m)*** column; another sign of\n",
    "analysis, and therefore loss of some information.\n",
    "\n",
    "Unless analysis of date labels reveals that **Sweep Samples Cereals Edited** has\n",
    "dates that are missing from **Sheet2**, I'll assume it's not worth closer\n",
    "examination."
   ]
  },
  {
   "cell_type": "markdown",
   "metadata": {
    "collapsed": true
   },
   "source": [
    "#### Date Range"
   ]
  },
  {
   "cell_type": "code",
   "execution_count": 21,
   "metadata": {
    "collapsed": false,
    "pycharm": {
     "is_executing": false
    }
   },
   "outputs": [],
   "source": [
    "def len_unique(pandas_object):\n",
    "    return len(pandas_object.unique())\n",
    "\n",
    "\n",
    "# noinspection PyTypeChecker\n",
    "pandas.DataFrame(\n",
    "    {\n",
    "        name: frame.date\n",
    "        for name, frame in sheets_to_compare.items()\n",
    "    }\n",
    ").apply([\n",
    "    pandas.Series.max,\n",
    "    pandas.Series.min,\n",
    "    len_unique,\n",
    "    len,\n",
    "])"
   ]
  },
  {
   "cell_type": "markdown",
   "metadata": {
    "collapsed": true
   },
   "source": [
    "It appears that **Sweep Samples Cereals Edited**, like **Sweep Samples\n",
    "Cereals**, has slightly fewer unique dates than **Sheet2** but the same range,\n",
    "so I probably won't miss anything if I ignore it. To be sure, I need to check if\n",
    "all those specific dates in **Sweep Samples Cereals Edited** are actually in\n",
    "**Sheet2**, and not just the range."
   ]
  },
  {
   "cell_type": "code",
   "execution_count": 22,
   "metadata": {
    "collapsed": false,
    "pycharm": {
     "is_executing": false
    }
   },
   "outputs": [],
   "source": [
    "ssce.date.isin(s2.date).all()"
   ]
  },
  {
   "cell_type": "markdown",
   "metadata": {
    "collapsed": true
   },
   "source": [
    "Excellent. I see no reason to pay attention to **Sweep Samples Cereals Edited**\n",
    "or **Sweep Samples Cereals** anymore, except for the possibility that the actual\n",
    "sample data differs. For the time being, I'll ignore that possibility and move\n",
    "ahead. "
   ]
  },
  {
   "cell_type": "markdown",
   "metadata": {
    "collapsed": true
   },
   "source": [
    "#### Conclusion"
   ]
  },
  {
   "cell_type": "markdown",
   "metadata": {
    "collapsed": true
   },
   "source": [
    "Optimal candidate regarding these two sheets:\n",
    "\n",
    "* **Sheet2**"
   ]
  },
  {
   "cell_type": "markdown",
   "metadata": {
    "collapsed": true
   },
   "source": [
    "### **Sheet2** vs **leafhoppers 2016 cereal sweeps**"
   ]
  },
  {
   "cell_type": "code",
   "execution_count": 23,
   "metadata": {
    "collapsed": false,
    "pycharm": {
     "is_executing": false
    }
   },
   "outputs": [],
   "source": [
    "sheets_to_compare = {\n",
    "    name: sheets[name]\n",
    "    for name in (\n",
    "        'leafhoppers 2016 cereal sweeps',\n",
    "        'Sheet2',\n",
    "    )\n",
    "}\n",
    "lh2016, s2 = sheets_to_compare.values()\n",
    "sheet_names = sheets_to_compare.keys()"
   ]
  },
  {
   "cell_type": "markdown",
   "metadata": {
    "collapsed": true
   },
   "source": [
    "#### Columns"
   ]
  },
  {
   "cell_type": "code",
   "execution_count": 24,
   "metadata": {
    "collapsed": false,
    "scrolled": true,
    "pycharm": {
     "is_executing": false
    }
   },
   "outputs": [],
   "source": [
    "compare_columns(sheets_to_compare)"
   ]
  },
  {
   "cell_type": "markdown",
   "metadata": {
    "collapsed": true
   },
   "source": [
    "Clearly, **leafhoppers 2016 cereal sweeps** is focused on leafhoppers. Because\n",
    "the objective goal of this analysis is to compare aphid numbers, I don't see the\n",
    "relevance of this leafhopper data."
   ]
  },
  {
   "cell_type": "markdown",
   "metadata": {
    "collapsed": true
   },
   "source": [
    "#### Conclusion"
   ]
  },
  {
   "cell_type": "markdown",
   "metadata": {
    "collapsed": true
   },
   "source": [
    "Given that the leafhopper data isn't pertinent, **Sheet2** remains the best\n",
    "candidate."
   ]
  },
  {
   "cell_type": "markdown",
   "metadata": {
    "collapsed": true
   },
   "source": [
    "### Sweeps: Overall Best Data Source"
   ]
  },
  {
   "cell_type": "markdown",
   "metadata": {
    "collapsed": true
   },
   "source": [
    "After all analysis, **Sheet2** appears to be the purest, most relevant base for\n",
    "comparison of \"sweep\" sample data to that of \"tiller\" count data."
   ]
  },
  {
   "cell_type": "markdown",
   "metadata": {
    "collapsed": true
   },
   "source": [
    "## Tiller Head Counts"
   ]
  },
  {
   "cell_type": "markdown",
   "metadata": {
    "collapsed": true
   },
   "source": [
    "### Candidates"
   ]
  },
  {
   "cell_type": "markdown",
   "metadata": {
    "collapsed": true
   },
   "source": [
    "Only two worksheets in the source Excel workbook seem relevant to my need for\n",
    "\"tiller head\" samples:\n",
    "\n",
    "* **Head Counts**\n",
    "* **Head Counts Edited**"
   ]
  },
  {
   "cell_type": "markdown",
   "metadata": {
    "collapsed": true
   },
   "source": [
    "### **Head Counts** vs **Head Counts Edited**"
   ]
  },
  {
   "cell_type": "code",
   "execution_count": 25,
   "metadata": {
    "collapsed": false,
    "pycharm": {
     "is_executing": false
    }
   },
   "outputs": [],
   "source": [
    "sheets_to_compare = {\n",
    "    name: sheets[name]\n",
    "    for name in (\n",
    "        'Head Counts',\n",
    "        'Head Counts Edited',\n",
    "    )\n",
    "}\n",
    "hc, hce = sheets_to_compare.values()\n",
    "sheet_names = sheets_to_compare.keys()"
   ]
  },
  {
   "cell_type": "markdown",
   "metadata": {
    "collapsed": true
   },
   "source": [
    "#### Columns"
   ]
  },
  {
   "cell_type": "code",
   "execution_count": 26,
   "metadata": {
    "collapsed": false,
    "scrolled": true,
    "pycharm": {
     "is_executing": false
    }
   },
   "outputs": [],
   "source": [
    "compare_columns(sheets_to_compare)"
   ]
  },
  {
   "cell_type": "markdown",
   "metadata": {
    "collapsed": true
   },
   "source": [
    "The main difference here seems to be the aggregation in the \"edited\" sheet,\n",
    "indicated by the columns named ***EGA/head***, ***EGA_total***, etc. For the\n",
    "purpose of achieving the project objective, the columns representing sums of\n",
    "values from other columns would likely be redundant because I intend to use the\n",
    "original data only."
   ]
  },
  {
   "cell_type": "markdown",
   "metadata": {
    "collapsed": true
   },
   "source": [
    "#### Date Range"
   ]
  },
  {
   "cell_type": "markdown",
   "metadata": {
    "collapsed": true
   },
   "source": [
    "Now, compare for completeness:"
   ]
  },
  {
   "cell_type": "code",
   "execution_count": 27,
   "metadata": {
    "collapsed": false,
    "pycharm": {
     "is_executing": false
    }
   },
   "outputs": [],
   "source": [
    "def len_unique(pandas_object):\n",
    "    return len(pandas_object.unique())"
   ]
  },
  {
   "cell_type": "code",
   "execution_count": 28,
   "metadata": {
    "collapsed": false,
    "pycharm": {
     "is_executing": false
    }
   },
   "outputs": [],
   "source": [
    "# noinspection PyTypeChecker\n",
    "pandas.DataFrame(\n",
    "    {\n",
    "        name: frame.date\n",
    "        for name, frame in sheets_to_compare.items()\n",
    "    }\n",
    ").apply([\n",
    "    pandas.Series.max,\n",
    "    pandas.Series.min,\n",
    "    len_unique,\n",
    "    len,\n",
    "])"
   ]
  },
  {
   "cell_type": "markdown",
   "metadata": {
    "collapsed": true
   },
   "source": [
    "These may be using the exact same set of dates. I'll confirm:"
   ]
  },
  {
   "cell_type": "code",
   "execution_count": 29,
   "metadata": {
    "collapsed": false,
    "pycharm": {
     "is_executing": false
    }
   },
   "outputs": [],
   "source": [
    "hc.date.index.isin(hce.date.index).all()"
   ]
  },
  {
   "cell_type": "markdown",
   "metadata": {
    "collapsed": true
   },
   "source": [
    "Identical date and time for the index of each, so the ***date*** column shows no\n",
    "basis for choosing one over the other."
   ]
  },
  {
   "cell_type": "markdown",
   "metadata": {
    "collapsed": true
   },
   "source": [
    "### Head Counts: Overall Best Data Source"
   ]
  },
  {
   "cell_type": "markdown",
   "metadata": {
    "collapsed": true
   },
   "source": [
    "Since the only difference between these two frames is the unwanted extra\n",
    "columns, the simplest sheet wins this.\n",
    "\n",
    "* **Head Counts**"
   ]
  },
  {
   "cell_type": "markdown",
   "metadata": {
    "collapsed": true
   },
   "source": [
    "# Align Selected Data Sets"
   ]
  },
  {
   "cell_type": "markdown",
   "metadata": {
    "collapsed": true
   },
   "source": [
    "The names and corresponding data frames, from the worksheets in the source\n",
    "workbook document (Excel):"
   ]
  },
  {
   "cell_type": "code",
   "execution_count": 30,
   "metadata": {
    "collapsed": false,
    "pycharm": {
     "is_executing": false
    }
   },
   "outputs": [],
   "source": [
    "sheets_to_compare = {\n",
    "    'Head Counts': hc,\n",
    "    'Sheet2': s2,\n",
    "}\n",
    "sheet_names = sheets_to_compare.keys()"
   ]
  },
  {
   "cell_type": "markdown",
   "metadata": {
    "collapsed": true
   },
   "source": [
    "## Compare Columns"
   ]
  },
  {
   "cell_type": "markdown",
   "metadata": {
    "collapsed": true
   },
   "source": [
    "Comparing alphabetically sorted column names between our two primary data sets:"
   ]
  },
  {
   "cell_type": "code",
   "execution_count": 31,
   "metadata": {
    "collapsed": false,
    "scrolled": true,
    "pycharm": {
     "is_executing": false
    }
   },
   "outputs": [],
   "source": [
    "pandas.concat(\n",
    "    (\n",
    "        pandas.DataFrame(\n",
    "            data={\n",
    "                'Sheet2': s2.columns.difference(hc.columns),\n",
    "            }\n",
    "        ),\n",
    "        pandas.DataFrame(\n",
    "            data={\n",
    "                'Head Counts': hc.columns.difference(s2.columns),\n",
    "            }\n",
    "        ),\n",
    "        pandas.DataFrame(\n",
    "            data={\n",
    "                'common': s2.columns.intersection(hc.columns),\n",
    "            }\n",
    "        ),\n",
    "    ),\n",
    "    sort=False,\n",
    "    axis='columns',\n",
    ").fillna('--')"
   ]
  },
  {
   "cell_type": "markdown",
   "metadata": {
    "collapsed": false
   },
   "source": [
    "That's quite a large difference in columns for these sets. Because my target\n",
    "sample set is only aphids, I can first drop the unimportant columns, then\n",
    "normalize all remaining labels."
   ]
  },
  {
   "cell_type": "markdown",
   "metadata": {
    "collapsed": true
   },
   "source": [
    "Before dropping any columns, I need to identify any remaining columns with\n",
    "correlative values, such as time and place labels which can serve as indices for\n",
    "alignment."
   ]
  },
  {
   "cell_type": "markdown",
   "metadata": {
    "collapsed": true
   },
   "source": [
    "### Lookup Columns (Record Indices)"
   ]
  },
  {
   "cell_type": "markdown",
   "metadata": {
    "collapsed": true
   },
   "source": [
    "Reading through the list of remaining, non-aphid related columns, I see some\n",
    "that don't mention any organism by name. These columns may be useful for\n",
    "indexing, which is crucial to aligning the two data sources."
   ]
  },
  {
   "cell_type": "code",
   "execution_count": 32,
   "metadata": {
    "collapsed": false,
    "pycharm": {
     "is_executing": false
    }
   },
   "outputs": [],
   "source": [
    "non_organism_column_names = pandas.Series(data=(\n",
    "    'crop',               # location\n",
    "    'date',               # time\n",
    "    'date_by_week',       # redundant date coding\n",
    "    'distance(m)',        # location\n",
    "    'field',              # location\n",
    "    'field_name',         # location\n",
    "    'id',                 # not relevant for this analysis\n",
    "    'julian_date',        # redundant date coding\n",
    "    'number of samples',  # used for sums, which are redundant\n",
    "    'province',           # location\n",
    "    'site',               # location\n",
    "    'zadoks_stage',       # not relevant for this analysis\n",
    "))"
   ]
  },
  {
   "cell_type": "markdown",
   "metadata": {
    "collapsed": true
   },
   "source": [
    "Here are the names of the matching columns from each frame:"
   ]
  },
  {
   "cell_type": "code",
   "execution_count": 33,
   "metadata": {
    "collapsed": false,
    "pycharm": {
     "is_executing": false
    }
   },
   "outputs": [],
   "source": [
    "emojify_boolean(pandas.DataFrame(\n",
    "    {\n",
    "        name: dict(zip(non_organism_column_names,\n",
    "                       non_organism_column_names.isin(frame.columns)))\n",
    "        for name, frame\n",
    "        in zip(sheet_names, (hc, s2))\n",
    "    }\n",
    "))"
   ]
  },
  {
   "cell_type": "markdown",
   "metadata": {
    "collapsed": true
   },
   "source": [
    "## Align Columns"
   ]
  },
  {
   "cell_type": "markdown",
   "metadata": {
    "collapsed": true
   },
   "source": [
    "My next goal is to determine ensure the record label columns are in a common\n",
    "format so that I can align the frames. I'll need to clean up ***crop***, \n",
    "***field*** and ***site***, but ***date*** is already well formed."
   ]
  },
  {
   "cell_type": "markdown",
   "metadata": {
    "collapsed": true
   },
   "source": [
    "### ***field*** vs ***field_name***"
   ]
  },
  {
   "cell_type": "markdown",
   "metadata": {
    "collapsed": true
   },
   "source": [
    "The columns **hc**.***field*** and **s2**.***field_name*** seem to relate to\n",
    "***site*** and ***crop***. Before I address the values of the columns, I'll\n",
    "rename **s2**.***field_name*** for consistency."
   ]
  },
  {
   "cell_type": "code",
   "execution_count": 34,
   "metadata": {
    "collapsed": false,
    "pycharm": {
     "is_executing": false
    }
   },
   "outputs": [],
   "source": [
    "for frame in (hc, s2):\n",
    "    frame.rename(\n",
    "        columns={'field_name': 'field'},\n",
    "        inplace=True,\n",
    "    )"
   ]
  },
  {
   "cell_type": "markdown",
   "metadata": {
    "collapsed": true
   },
   "source": [
    "### Time (Date)"
   ]
  },
  {
   "cell_type": "markdown",
   "metadata": {
    "collapsed": true
   },
   "source": [
    "The columns containing time information were normalized in an [earlier stage] of\n",
    "my analysis. Those columns are ready to align in combination with other unique\n",
    "index labels. Here's how the rest of the index labels shape up when the frames\n",
    "are aligned by date:\n",
    "\n",
    "[earlier stage]: #Convert-Date-&-Time-Format"
   ]
  },
  {
   "cell_type": "code",
   "execution_count": 35,
   "metadata": {
    "collapsed": false,
    "scrolled": true,
    "pycharm": {
     "is_executing": false
    }
   },
   "outputs": [],
   "source": [
    "hhc = hc.set_index('date')\n",
    "ss2 = s2.set_index('date')\n",
    "pandas.concat(\n",
    "    (\n",
    "        pandas.concat(  # convenient way to add sheet name to column hierarchy\n",
    "            {name: sheet},\n",
    "            axis='columns',\n",
    "        ).reorder_levels([1, 0], axis='columns')\n",
    "        # Sheet names paired with date-indexed frames.\n",
    "        for name, sheet in zip(sheet_names, (hhc, ss2))\n",
    "    ),\n",
    "    axis='rows',\n",
    ").loc[\n",
    "    # Overlapping dates in date-index frames:\n",
    "    hhc.index.intersection(ss2.index),\n",
    "    # Non-date indices:\n",
    "    (\n",
    "        [\n",
    "            'site',\n",
    "            'field',\n",
    "            'field_name',\n",
    "            'crop',\n",
    "        ],\n",
    "    )\n",
    "]"
   ]
  },
  {
   "cell_type": "markdown",
   "metadata": {
    "collapsed": false
   },
   "source": [
    "Not bad at all. I just need to normalize the string values so I can code them as\n",
    "labels and align the data sets optimally."
   ]
  },
  {
   "cell_type": "markdown",
   "metadata": {
    "collapsed": true
   },
   "source": [
    "### Visualize Leading & Trailing Whitespace"
   ]
  },
  {
   "cell_type": "markdown",
   "metadata": {
    "collapsed": true
   },
   "source": [
    "I've noticed irregular use of space characters in some of the non-numeric values\n",
    "within the `DataFrame` objects. I could just strip all leading and trailing\n",
    "spaces, but it's not a good habit to attempt to clean text too early in the\n",
    "course of analysis because I might overlook something significant and lose\n",
    "important metadata before I notice the problem.\n",
    "\n",
    "To visualize these invisible characters, I'll compose a function that replaces\n",
    "the space character with something more visible (an emojii). Displaying values\n",
    "this way makes trailing or leading whitespace obvious, without overwriting any\n",
    "data."
   ]
  },
  {
   "cell_type": "code",
   "execution_count": 36,
   "metadata": {
    "collapsed": false,
    "pycharm": {
     "is_executing": false
    }
   },
   "outputs": [],
   "source": [
    "def show_spaces(x):\n",
    "    return x.str.replace(\n",
    "        ' ', '⬜️'\n",
    "    )"
   ]
  },
  {
   "cell_type": "markdown",
   "metadata": {
    "collapsed": false
   },
   "source": [
    "Here's an example:"
   ]
  },
  {
   "cell_type": "code",
   "execution_count": 37,
   "metadata": {
    "collapsed": false,
    "pycharm": {
     "is_executing": false
    }
   },
   "outputs": [],
   "source": [
    "show_spaces(\n",
    "    pandas.Series(\n",
    "        [\n",
    "            ' hello, friend ',\n",
    "            'I love    space    !',\n",
    "        ]\n",
    "    )\n",
    ")"
   ]
  },
  {
   "cell_type": "markdown",
   "metadata": {
    "collapsed": true
   },
   "source": [
    "### Crop"
   ]
  },
  {
   "cell_type": "markdown",
   "metadata": {
    "collapsed": true
   },
   "source": [
    "Here are the ***crop*** values for both data frames:"
   ]
  },
  {
   "cell_type": "code",
   "execution_count": 38,
   "metadata": {
    "collapsed": false,
    "pycharm": {
     "is_executing": false
    }
   },
   "outputs": [],
   "source": [
    "crops = pandas.concat(\n",
    "    (\n",
    "        frame.crop.apply(str)\n",
    "        for frame in sheets_to_compare.values()\n",
    "    ),\n",
    "    keys=sheet_names,\n",
    "    sort=True,\n",
    ").drop_duplicates().reset_index(drop=True).sort_values()\n",
    "\n",
    "show_spaces(crops)"
   ]
  },
  {
   "cell_type": "markdown",
   "metadata": {
    "collapsed": true
   },
   "source": [
    "Clearly, there are some variations that should be corrected, in both data\n",
    "frames.\n",
    "\n",
    "* whitespace\n",
    "* letter case\n",
    "* word separation"
   ]
  },
  {
   "cell_type": "markdown",
   "metadata": {
    "collapsed": true
   },
   "source": [
    "I'll write a function that transforms any given ***crop*** value into a uniform\n",
    "representation of the crop it's intended to represent."
   ]
  },
  {
   "cell_type": "code",
   "execution_count": 39,
   "metadata": {
    "collapsed": false,
    "pycharm": {
     "is_executing": false
    }
   },
   "outputs": [],
   "source": [
    "def normalize_str(value:(str, float), separator:str=' ')->(str, float):\n",
    "    if value == pandas.np.nan:\n",
    "        return value\n",
    "    str_value = str(value)\n",
    "\n",
    "    # Convert camel case strings. E.g.: \"WinterWheat\" -> \"winter wheat\"\n",
    "    is_mixed_case = (\n",
    "        not (str_value.islower() or str_value.isupper())\n",
    "        and (str_value.upper() != str_value.lower())\n",
    "    )\n",
    "    if is_mixed_case:\n",
    "        word_index = [\n",
    "            # Remember starting positions of all uppercase characters.\n",
    "            index for index, char in enumerate(str_value)\n",
    "            if char.isupper()\n",
    "        ] + [None]  # Final null for string slicing with […:word_index[i + 1]].\n",
    "        if word_index:\n",
    "            words = [\n",
    "                # Strip leading and trailing whitespace from each word.\n",
    "                str_value[word_index[i]:word_index[i + 1]].strip()\n",
    "                for i in range(len(word_index) - 1)\n",
    "            ]\n",
    "            str_value = separator.join(words)  # Rejoin words.\n",
    "\n",
    "    # Replace non-alphanumeric characters with separator (default: space).\n",
    "    transformed = re.compile(r'[^a-zA-Z0-9]').sub(separator, str_value.lower())\n",
    "\n",
    "    # De-pluralize special case.\n",
    "    if transformed.endswith('oats'):\n",
    "        transformed = transformed[:-1]\n",
    "\n",
    "    return transformed"
   ]
  },
  {
   "cell_type": "markdown",
   "metadata": {
    "collapsed": true
   },
   "source": [
    "Previewing the results, with the square brackets added again:"
   ]
  },
  {
   "cell_type": "code",
   "execution_count": 40,
   "metadata": {
    "collapsed": false,
    "pycharm": {
     "is_executing": false
    }
   },
   "outputs": [],
   "source": [
    "pandas.concat(\n",
    "    (\n",
    "        crops,\n",
    "        crops.apply(normalize_str),\n",
    "    ),\n",
    "    keys=(\"Before\", \"After\"),\n",
    "    axis='columns',\n",
    ").sort_values('After').apply(show_spaces)"
   ]
  },
  {
   "cell_type": "markdown",
   "metadata": {
    "collapsed": true
   },
   "source": [
    "There are some concerning names, such as \"nan\", \"unlisted\", and \"0\", but the\n",
    "renaming result looks good. I'll apply the changes:"
   ]
  },
  {
   "cell_type": "code",
   "execution_count": 41,
   "metadata": {
    "collapsed": false,
    "pycharm": {
     "is_executing": false
    }
   },
   "outputs": [],
   "source": [
    "for frame in (hc, s2):\n",
    "    frame.crop = frame.crop.apply(normalize_str)"
   ]
  },
  {
   "cell_type": "markdown",
   "metadata": {
    "collapsed": true
   },
   "source": [
    "### Site"
   ]
  },
  {
   "cell_type": "code",
   "execution_count": 42,
   "metadata": {
    "collapsed": false,
    "pycharm": {
     "is_executing": false
    }
   },
   "outputs": [],
   "source": [
    "site_values = (\n",
    "    pandas.concat(\n",
    "        (frame[['site']] for frame in (hc, s2)),\n",
    "        keys=sheet_names,\n",
    "        names=['Sheet Name', 'index',],\n",
    "    )\n",
    "    .drop_duplicates()\n",
    "    .sort_values('site')\n",
    ")\n",
    "show_spaces(site_values.site)"
   ]
  },
  {
   "cell_type": "markdown",
   "metadata": {
    "collapsed": true
   },
   "source": [
    "This is also going to need some normalization. I'll write a string reducer\n",
    "function to transform any given value into a uniform representation by stripping\n",
    "insignificant characters and letter case. From that, I can map the values to\n",
    "preferred representations."
   ]
  },
  {
   "cell_type": "markdown",
   "metadata": {
    "collapsed": true
   },
   "source": [
    "#### Reduce Label Value"
   ]
  },
  {
   "cell_type": "markdown",
   "metadata": {
    "collapsed": true
   },
   "source": [
    "In order to match badly formed labels with their normal representation, I need a\n",
    "string transformation function so that the values in the data frame can be used\n",
    "to look up the preferred, normal form.\n",
    "\n",
    "* convert numeric values to text\n",
    "* strip non alphanumeric characters\n",
    "* convert alphabetic characters to lower case"
   ]
  },
  {
   "cell_type": "code",
   "execution_count": 43,
   "metadata": {
    "collapsed": false,
    "pycharm": {
     "is_executing": false
    }
   },
   "outputs": [],
   "source": [
    "def alphanumeric_lower(value):\n",
    "    return re.compile(r\"[^a-z0-9]\").sub('', str(value).lower())"
   ]
  },
  {
   "cell_type": "markdown",
   "metadata": {
    "collapsed": true
   },
   "source": [
    "#### Nominal Values"
   ]
  },
  {
   "cell_type": "markdown",
   "metadata": {
    "collapsed": true
   },
   "source": [
    "If I had a larger data set, I would use the `mode` function to automatically\n",
    "find the most frequently used representation for any given reduced value.\n",
    "Unfortunately, the groups are far too small and the values too varied:"
   ]
  },
  {
   "cell_type": "code",
   "execution_count": 44,
   "metadata": {
    "collapsed": false,
    "pycharm": {
     "is_executing": false
    }
   },
   "outputs": [],
   "source": [
    "(\n",
    "    site_values\n",
    "    .reset_index(level='index', drop=True)\n",
    "    .loc[:, ['site']]\n",
    "    .apply(show_spaces)\n",
    ")"
   ]
  },
  {
   "cell_type": "markdown",
   "metadata": {
    "collapsed": true
   },
   "source": [
    "Even if I strip the leading and trailing whitespace, I would still end up with\n",
    "ambiguous candidate selections. The work required to make a function that would\n",
    "know to how and when to convert labels like \"`Yellowcreek`\" to \"`Yellow Creek`\"\n",
    "would be unreasonable given the scope of this project, so automation might not\n",
    "be the best choice for choosing normal forms.\n",
    "\n",
    "I'll make the preferred identifier list manually, then apply the changes\n",
    "automatically. Here is that list along with the equivalent normal value for\n",
    "indexing:"
   ]
  },
  {
   "cell_type": "code",
   "execution_count": 45,
   "metadata": {
    "collapsed": false,
    "pycharm": {
     "is_executing": false
    }
   },
   "outputs": [],
   "source": [
    "preferred_site_id = pandas.Series(\n",
    "    name='site',\n",
    "    data={\n",
    "        alphanumeric_lower(item): item\n",
    "        for item in [\n",
    "          'Alvena',\n",
    "          'Clavet',\n",
    "          'Indian Head',\n",
    "          'Kernan',\n",
    "          'Llewellyn',\n",
    "          'Meadow Lake',\n",
    "          'Melfort',\n",
    "          'Outlook',\n",
    "          'SEF',\n",
    "          'Wakaw',\n",
    "          'Yellow Creek',\n",
    "        ]\n",
    "    },\n",
    ")\n",
    "preferred_site_id.index.set_names(['site_index'], inplace=True)\n",
    "preferred_site_id.to_frame()"
   ]
  },
  {
   "cell_type": "markdown",
   "metadata": {
    "collapsed": true
   },
   "source": [
    "With this list, I can compare the normalized values to the ones in the actual\n",
    "data and apply the preferred name where it matches. I'll add this index to both\n",
    "data frames:"
   ]
  },
  {
   "cell_type": "code",
   "execution_count": 46,
   "metadata": {
    "collapsed": false,
    "pycharm": {
     "is_executing": false
    }
   },
   "outputs": [],
   "source": [
    "for frame in (hc, s2) + (site_values, ):\n",
    "    frame['site_index'] = frame.site.apply(alphanumeric_lower)\n",
    "    frame.set_index('site_index', append=True, inplace=True)"
   ]
  },
  {
   "cell_type": "markdown",
   "metadata": {
    "collapsed": true
   },
   "source": [
    "Everything that isn't in the preferred site name list:"
   ]
  },
  {
   "cell_type": "code",
   "execution_count": 47,
   "metadata": {
    "collapsed": false,
    "pycharm": {
     "is_executing": false
    }
   },
   "outputs": [],
   "source": [
    "site_values[\n",
    "    ~ (  # ~ is the 'not' operator\n",
    "        site_values.index.get_level_values('site_index')\n",
    "        .isin(preferred_site_id.index)\n",
    "    )\n",
    "].reset_index('index', drop=True)"
   ]
  },
  {
   "cell_type": "markdown",
   "metadata": {
    "collapsed": true
   },
   "source": [
    "These outliers are only in one of the sheets/frames, so I can move on without\n",
    "doing anything further on these.\n",
    "\n",
    "[unique site]: #Site"
   ]
  },
  {
   "cell_type": "markdown",
   "metadata": {
    "collapsed": true
   },
   "source": [
    "Which records would be changed if I relabel ***site***?"
   ]
  },
  {
   "cell_type": "code",
   "execution_count": 48,
   "metadata": {
    "collapsed": false,
    "pycharm": {
     "is_executing": false
    }
   },
   "outputs": [],
   "source": [
    "(\n",
    "    pandas.concat(\n",
    "        (\n",
    "            site_values,\n",
    "            preferred_site_id.to_frame().combine_first(site_values),\n",
    "        ),\n",
    "        keys=['Before', 'After'],\n",
    "        axis='columns',\n",
    "    )\n",
    "    .reorder_levels([1, 0], axis='columns')\n",
    "    .reset_index(['site_index', 'index'], drop=True)\n",
    "    .apply(show_spaces)\n",
    ")"
   ]
  },
  {
   "cell_type": "markdown",
   "metadata": {
    "collapsed": true
   },
   "source": [
    "This looks good to me. I'll apply the names:"
   ]
  },
  {
   "cell_type": "code",
   "execution_count": 49,
   "metadata": {
    "collapsed": false,
    "pycharm": {
     "is_executing": false
    }
   },
   "outputs": [],
   "source": [
    "for frame in (hc, s2):\n",
    "    frame.loc[:, 'site'] = (\n",
    "        preferred_site_id.to_frame()\n",
    "        .combine_first(frame)\n",
    "        .loc[:, 'site']\n",
    "    )\n",
    "    frame.reset_index(\n",
    "        level='site_index',\n",
    "        drop=True,\n",
    "        inplace=True,\n",
    "    )"
   ]
  },
  {
   "cell_type": "markdown",
   "metadata": {
    "collapsed": true
   },
   "source": [
    "I'll review the label values for ***site*** in both data frames, to see the\n",
    "result of those changes:"
   ]
  },
  {
   "cell_type": "code",
   "execution_count": 50,
   "metadata": {
    "collapsed": false,
    "pycharm": {
     "is_executing": false
    }
   },
   "outputs": [],
   "source": [
    "show_spaces(\n",
    "    pandas.concat(\n",
    "        (frame[['site']] for frame in (hc, s2)),\n",
    "    )\n",
    "    .loc[:, 'site']\n",
    "    .reset_index(drop=True)\n",
    "    .sort_values()\n",
    "    .drop_duplicates()\n",
    ")"
   ]
  },
  {
   "cell_type": "markdown",
   "metadata": {
    "collapsed": false
   },
   "source": [
    "### Field"
   ]
  },
  {
   "cell_type": "markdown",
   "metadata": {
    "collapsed": true
   },
   "source": [
    "Now, regarding the values, I suspect redundancy in ***field***. Here's why I\n",
    "feel that way—look at some of the values from both data sets:"
   ]
  },
  {
   "cell_type": "code",
   "execution_count": 51,
   "metadata": {
    "collapsed": false,
    "scrolled": true,
    "pycharm": {
     "is_executing": false
    }
   },
   "outputs": [],
   "source": [
    "pandas.options.display.max_rows = 20\n",
    "\n",
    "index_column_names = ['crop', 'site', 'date', 'field',]\n",
    "(\n",
    "    pandas.concat(\n",
    "        (\n",
    "            hc[index_column_names],\n",
    "            s2[index_column_names],\n",
    "        ),\n",
    "        keys=sheet_names,\n",
    "        names=['worksheet', 'index',],\n",
    "    )\n",
    "    .sort_values(\n",
    "        by=index_column_names,\n",
    "    )\n",
    "    .set_index(\n",
    "        keys=['crop', 'site'],\n",
    "    )\n",
    "    .drop_duplicates()\n",
    "    .apply(\n",
    "        {\n",
    "            'field': show_spaces,\n",
    "            'date': lambda x: x,\n",
    "        }\n",
    "    )\n",
    ")"
   ]
  },
  {
   "cell_type": "markdown",
   "metadata": {
    "collapsed": true
   },
   "source": [
    "It's clear to my eyes that in some cases, ***site*** and ***crop*** have been\n",
    "concatenated together to produce the value in ***field***.\n",
    "\n",
    "* ***site*** + ***crop*** = ***field***\n",
    "\n",
    "Therefore, I can think of the columns as falling into two categories:\n",
    "\n",
    "**Primary data:**\n",
    "\n",
    "* ***site***\n",
    "* ***crop***\n",
    "\n",
    "**Mixed data:**\n",
    "\n",
    "* ***field***\n",
    "\n",
    "I think it's most beneficial to use ***crop*** and ***site*** rather than\n",
    "***field*** whenever possible. Therefore, I can safely disregard that derived\n",
    "column and rely on the the more normalized ***crop*** and ***site*** for\n",
    "indexing.\n",
    "\n",
    "The only complication is the numeric suffix present in some values of\n",
    "***field***, which delineates areas of the site at which the samples were\n",
    "observed. The numeric values are unique per date-crop-place combination but not\n",
    "unique per site-crop combination, so I'll have to treat it as a separate column\n",
    "that represents an additional dimension to our independent variables.\n",
    "\n",
    "Extracting the unique pairs of dates and the corresponding numerals from the\n",
    "processed ***field*** value for that date:"
   ]
  },
  {
   "cell_type": "code",
   "execution_count": 52,
   "metadata": {
    "collapsed": false,
    "pycharm": {
     "is_executing": false
    }
   },
   "outputs": [],
   "source": [
    "pandas.options.display.max_rows = 40\n",
    "\n",
    "(\n",
    "    _  # Previous cell output.\n",
    "    .reset_index()\n",
    "    .apply(\n",
    "        dict(\n",
    "            tuple(\n",
    "                dict.fromkeys(\n",
    "                    (\n",
    "                        'date',\n",
    "                        'site',\n",
    "                        'crop',\n",
    "                    ),\n",
    "                    lambda x: x,\n",
    "                ).items() \n",
    "            ) + tuple(\n",
    "                {\n",
    "                    'field': lambda x: x.str.extract(\n",
    "                        pat=r'(?P<text>\\D*)(?P<number>\\d*)',\n",
    "                    ),\n",
    "                }.items(),\n",
    "            ),\n",
    "        )\n",
    "    )\n",
    "    .drop_duplicates(\n",
    "        subset=[\n",
    "            ('date', 'date'),\n",
    "            ('field', 'number'),\n",
    "        ],\n",
    "    )\n",
    "    .dropna(\n",
    "        subset=[\n",
    "            ('date', 'date'),\n",
    "            ('field', 'number'),  # @todo: needed?\n",
    "        ],\n",
    "    )\n",
    ")\n"
   ]
  },
  {
   "cell_type": "markdown",
   "metadata": {
    "collapsed": true
   },
   "source": [
    "Based on this look at the information, I'd like to throw away the remaining text\n",
    "portion after extractinng the numbers when I apply this to my data set."
   ]
  },
  {
   "cell_type": "markdown",
   "metadata": {
    "collapsed": true
   },
   "source": [
    "Just a reminder: the samples corresponding to ***site*** values `Alberta` and\n",
    "`Manitoba` aren't in the other `DataFrame`, so the fact that the ***field***\n",
    "values for these records have a different pattern and are therefore mangled is\n",
    "completely fine for this project—they'll be entirely dropped when the frames are\n",
    "aligned."
   ]
  },
  {
   "cell_type": "markdown",
   "metadata": {
    "collapsed": true
   },
   "source": [
    "I'll replace the messy values of the ***field*** column with just the number\n",
    "portion:"
   ]
  },
  {
   "cell_type": "code",
   "execution_count": 53,
   "metadata": {
    "collapsed": false,
    "pycharm": {
     "is_executing": false
    }
   },
   "outputs": [],
   "source": [
    "for sheet in (hc, s2):\n",
    "    sheet.field = (\n",
    "        sheet.field\n",
    "        .str.extract(pat=r'(?P<text>\\D*)(?P<number>\\d*)')\n",
    "        .loc[:, 'number']\n",
    "        .apply(pandas.to_numeric, downcast='integer')\n",
    "    )"
   ]
  },
  {
   "cell_type": "markdown",
   "metadata": {
    "collapsed": true
   },
   "source": [
    "### Number of Samples & Distance"
   ]
  },
  {
   "cell_type": "markdown",
   "metadata": {
    "collapsed": true
   },
   "source": [
    "The ***number of samples*** field is only present in **Sheet2**. I want to know\n",
    "a little bit about the values:"
   ]
  },
  {
   "cell_type": "code",
   "execution_count": 54,
   "metadata": {
    "collapsed": false,
    "pycharm": {
     "is_executing": false
    }
   },
   "outputs": [],
   "source": [
    "s2['number of samples'].value_counts(dropna=False)"
   ]
  },
  {
   "cell_type": "markdown",
   "metadata": {
    "collapsed": true
   },
   "source": [
    "There are many missing values in this column. I presume the number of samples\n",
    "only relates to the \"combined\" values, but I need to confirm. Here's **Sheet2**\n",
    "with only the two relevant columns, summarized:"
   ]
  },
  {
   "cell_type": "code",
   "execution_count": 55,
   "metadata": {
    "collapsed": false,
    "pycharm": {
     "is_executing": false
    }
   },
   "outputs": [],
   "source": [
    "s2[\n",
    "    ['distance(m)', 'number of samples']\n",
    "].dropna(how='all').drop_duplicates()"
   ]
  },
  {
   "cell_type": "markdown",
   "metadata": {
    "collapsed": true
   },
   "source": [
    "This confirms that where the ***number of samples*** is not indicated, the\n",
    "corresponding ***distance(m)*** value is numeric. The converse is also true:\n",
    "non-numeric ***distance(m)*** corresponds with positive values in ***number of\n",
    "samples***. That's consistent with my expectations for the appearance of labels\n",
    "on previously aggregated data. I'll be throwing those \"Combined\" records away."
   ]
  },
  {
   "cell_type": "markdown",
   "metadata": {
    "collapsed": false
   },
   "source": [
    "Drop records with **_distance(m)_** equal to \"`Combined`\":"
   ]
  },
  {
   "cell_type": "code",
   "execution_count": 56,
   "metadata": {
    "collapsed": false,
    "scrolled": true,
    "pycharm": {
     "is_executing": false
    }
   },
   "outputs": [],
   "source": [
    "s2 = s2.loc[s2['distance(m)'] != 'Combined']"
   ]
  },
  {
   "cell_type": "markdown",
   "metadata": {
    "collapsed": true
   },
   "source": [
    "### Identify Columns With Aphid Sample Data"
   ]
  },
  {
   "cell_type": "markdown",
   "metadata": {
    "collapsed": true
   },
   "source": [
    "The first step in normalizing column names for aphid samples is identifying the\n",
    "set of columns that mention aphids by name. For better comparison, I'll filter\n",
    "for columns referring to aphids.\n",
    "\n",
    "Here are some terms I know to be indicative of a relationship to aphid samples:\n",
    "\n",
    "* aphid\n",
    "* ega\n",
    "* bco\n",
    "* greenbug\n",
    "\n",
    "Not aphid related:\n",
    "\n",
    "* aphidencyrtus\n",
    "* aphidiius\n",
    "\n",
    "Categorized as natural enemy:\n",
    "\n",
    "* aphid_mummies\n",
    "\n",
    "Analytical artifacts:\n",
    "\n",
    "* total"
   ]
  },
  {
   "cell_type": "markdown",
   "metadata": {
    "collapsed": true
   },
   "source": [
    "Following these guidelines, the relevant columns are:\n",
    "\n",
    "**English grain aphid**:\n",
    "\n",
    "* ***1st_instar_ega***\n",
    "* ***2nd_instar_ega***\n",
    "* ***3rd_instar_ega***\n",
    "* ***3rd_instar_ega_pre-alate***\n",
    "* ***ega alate***\n",
    "* ***ega_alate***\n",
    "* ***ega_apt***\n",
    "* ***ega_grn***\n",
    "* ***ega_head***\n",
    "* ***ega_leaf***\n",
    "* ***ega_red***\n",
    "* ***sitobion_avenae_ega_green (wingless)***\n",
    "* ***sitobion_avenae_ega_red***\n",
    "\n",
    "This one is ambiguous, but it's probably referring to EGA:\n",
    "\n",
    "* ***4th_instar_pre-alate***\n",
    "\n",
    "**Bird cherry oat aphid**:\n",
    "\n",
    "* ***bco_alate***\n",
    "* ***bco_apt***\n",
    "* ***bco_head***\n",
    "* ***bco_leaf***\n",
    "* ***bird_cherry_oat_aphid***\n",
    "\n",
    "**Greenbug aphid**:\n",
    "\n",
    "* ***greenbug_alate***\n",
    "* ***greenbug_apt***\n",
    "* ***greenbug_aphid***\n",
    "\n",
    "**Pea aphid**:\n",
    "\n",
    "* ***pea aphids***\n",
    "\n",
    "The pea aphid data is only in **s2**, so it can be disregarded. The remaining\n",
    "column names can go in a list for quick reference:"
   ]
  },
  {
   "cell_type": "markdown",
   "metadata": {
    "collapsed": false
   },
   "source": [
    "Some tags for the columns:"
   ]
  },
  {
   "cell_type": "code",
   "execution_count": 57,
   "metadata": {
    "collapsed": false,
    "pycharm": {
     "is_executing": false
    }
   },
   "outputs": [],
   "source": [
    "aphid_column_names = {\n",
    "    'ega': (\n",
    "        '1st_instar_ega',\n",
    "        '2nd_instar_ega',\n",
    "        '3rd_instar_ega',\n",
    "        '3rd_instar_ega_pre-alate',\n",
    "        'ega alate',\n",
    "        'ega_alate',\n",
    "        'ega_apt',\n",
    "        'ega_grn',\n",
    "        'ega_head',\n",
    "        'ega_leaf',\n",
    "        'ega_red',\n",
    "        'sitobion_avenae_ega_green (wingless)',\n",
    "        'sitobion_avenae_ega_red',\n",
    "        '4th_instar_pre-alate',\n",
    "    ),\n",
    "    'bco': (\n",
    "        'bco_alate',\n",
    "        'bco_apt',\n",
    "        'bco_head',\n",
    "        'bco_leaf',\n",
    "        'bird_cherry_oat_aphid',\n",
    "    ),\n",
    "    'greenbug': (\n",
    "        'greenbug_alate',\n",
    "        'greenbug_apt',\n",
    "        'greenbug_aphid',\n",
    "    ),\n",
    "    'pea': (\n",
    "        'pea aphids',\n",
    "    ),\n",
    "}\n",
    "aphid_column_names_level_names = ['aphid_type', 'column_name']"
   ]
  },
  {
   "cell_type": "code",
   "execution_count": 58,
   "metadata": {
    "collapsed": false,
    "scrolled": true,
    "pycharm": {
     "is_executing": false
    }
   },
   "outputs": [],
   "source": [
    "emojify_boolean(\n",
    "    pandas.DataFrame(\n",
    "        data={\n",
    "            name: sheet.columns[\n",
    "                sheet.columns.isin(\n",
    "                    sum(\n",
    "                        aphid_column_names.values(),\n",
    "                        ()\n",
    "                    )\n",
    "                )\n",
    "            ].to_series(name=name)\n",
    "            for name, sheet in sheets_to_compare.items()\n",
    "        },\n",
    "    ).notna()\n",
    ")"
   ]
  },
  {
   "cell_type": "code",
   "execution_count": 59,
   "metadata": {
    "collapsed": false,
    "scrolled": true,
    "pycharm": {
     "is_executing": false
    }
   },
   "outputs": [],
   "source": [
    "index_columns = ['date', 'site', 'crop', 'field']\n",
    "pandas.concat(\n",
    "    (frame.set_index(index_columns).loc[hhc.index.intersection(ss2.index)]\n",
    "     for frame in sheets_to_compare.values()),\n",
    "    sort=False,\n",
    ").reindex(\n",
    "    columns=pandas.MultiIndex.from_tuples(\n",
    "        tuple(((aphid_type, column_name)\n",
    "               for aphid_type, column_names in aphid_column_names.items()\n",
    "               for column_name in column_names)),\n",
    "        names=aphid_column_names_level_names,\n",
    "    ),\n",
    "    level=1,\n",
    ")"
   ]
  },
  {
   "cell_type": "code",
   "execution_count": 60,
   "metadata": {
    "collapsed": false,
    "pycharm": {
     "is_executing": false
    }
   },
   "outputs": [],
   "source": [
    "aphid_column_names = {\n",
    "    'ega': {\n",
    "        'alate': (\n",
    "            'ega alate',\n",
    "            'ega_alate',\n",
    "        ),\n",
    "        'apterous': (\n",
    "            'ega_apt',\n",
    "            'sitobion_avenae_ega_green (wingless)',\n",
    "        ),\n",
    "        'pre-alate': (\n",
    "            '3rd_instar_ega_pre-alate',\n",
    "            '4th_instar_pre-alate',\n",
    "        ),\n",
    "        'red': (\n",
    "            'ega_red',\n",
    "            'sitobion_avenae_ega_red',\n",
    "        ),\n",
    "        'green': (\n",
    "            'ega_grn',\n",
    "            'sitobion_avenae_ega_green (wingless)',\n",
    "        ),\n",
    "        'head': (\n",
    "            'ega_head',\n",
    "        ),\n",
    "        'leaf': (\n",
    "            'ega_leaf',\n",
    "        ),\n",
    "        'uncategorized': (\n",
    "            '1st_instar_ega',\n",
    "            '2nd_instar_ega',\n",
    "            '3rd_instar_ega',\n",
    "        )\n",
    "    },\n",
    "    'bco': {\n",
    "        'alate': (\n",
    "            'bco_alate',\n",
    "        ),\n",
    "        'apterous': (\n",
    "            'bco_apt',\n",
    "        ),\n",
    "        'head': (\n",
    "            'bco_head',\n",
    "        ),\n",
    "        'leaf': (\n",
    "            'bco_leaf',\n",
    "        ),\n",
    "        'uncategorized': (\n",
    "            'bird_cherry_oat_aphid',\n",
    "        ),\n",
    "    },\n",
    "    'greenbug': {\n",
    "        'alate': (\n",
    "            'greenbug_alate',\n",
    "        ),\n",
    "        'apterous': (\n",
    "            'greenbug_apt',\n",
    "        ),\n",
    "        'uncategorized': (\n",
    "            'greenbug_aphid',\n",
    "        ),\n",
    "    },\n",
    "    'pea': {\n",
    "        'uncategorized': (\n",
    "            'pea aphids',\n",
    "        ),\n",
    "    },\n",
    "}\n",
    "aphid_column_names_level_names = ['aphid_type', 'category', 'column_name']"
   ]
  },
  {
   "cell_type": "markdown",
   "metadata": {
    "collapsed": true
   },
   "source": [
    "### Observation Data"
   ]
  },
  {
   "cell_type": "markdown",
   "metadata": {
    "collapsed": true
   },
   "source": [
    "Now that the data frame are properly indexed by **_date_**, **_site_**,\n",
    "**_field_** and **_crop_**, here's a preview of the frames aligned by place and\n",
    "time:"
   ]
  },
  {
   "cell_type": "code",
   "execution_count": 61,
   "metadata": {
    "collapsed": false,
    "scrolled": true,
    "pycharm": {
     "is_executing": false
    }
   },
   "outputs": [],
   "source": [
    "pandas.options.display.max_columns = 100\n",
    "\n",
    "indices = [\n",
    "    'date',\n",
    "    'site',\n",
    "    'crop',\n",
    "    'field',\n",
    "]\n",
    "hhc, ss2 = (frame.set_index(indices) for frame in (hc, s2))\n",
    "ss2 = ss2.set_index(['distance(m)', 'id'], append=True).sum(level=[0, 1, 2, 3,])\n",
    "ss2"
   ]
  },
  {
   "cell_type": "code",
   "execution_count": 62,
   "metadata": {
    "collapsed": false,
    "pycharm": {
     "is_executing": false
    }
   },
   "outputs": [],
   "source": [
    "hc.columns.to_list()"
   ]
  },
  {
   "cell_type": "code",
   "execution_count": 63,
   "metadata": {
    "collapsed": false,
    "pycharm": {
     "is_executing": false
    }
   },
   "outputs": [],
   "source": [
    "s2_labels = {\n",
    "    'id': (\n",
    "        'index', 'unique',),\n",
    "    'province': (\n",
    "        'index', 'place',),\n",
    "    'date': (\n",
    "        'index', 'time',),\n",
    "    'sample_by_week': (\n",
    "        'not applicable',),\n",
    "    'date_by_week': (\n",
    "        'not applicable',),\n",
    "    'julian_date': (\n",
    "        'not applicable',),\n",
    "    'site': (\n",
    "        'index', 'place',),\n",
    "    'field': (\n",
    "        'index', 'place',),\n",
    "    'crop': (\n",
    "        'observation', 'crop', 'type',),\n",
    "    'distance(m)': ('index', 'place',),\n",
    "    'number of samples': (\n",
    "        'not applicable',),\n",
    "    'sitobion_avenae_ega_green (wingless)': (\n",
    "    'observation', 'aphid', 'count', 'ega', 'apterous',),\n",
    "    'sitobion_avenae_ega_red': (\n",
    "        'observation', 'aphid', 'count', 'ega', 'uncategorized',),\n",
    "    'ega alate': (\n",
    "        'observation', 'aphid', 'count', 'ega', 'alate',),\n",
    "    'bird_cherry_oat_aphid': (\n",
    "        'observation', 'aphid', 'count', 'bco', 'uncategorized',),\n",
    "    'greenbug_aphid': (\n",
    "        'observation', 'aphid', 'count', 'greenbug', 'uncategorized',),\n",
    "    'pea aphids': (\n",
    "        'observation', 'aphid', 'count', 'pea', 'uncategorized',),\n",
    "    'total_apterous_aphids': (\n",
    "        'observation', 'aphid', 'count', 'uncategorized', 'apterous',),\n",
    "    'total_alate_aphids': (\n",
    "        'observation', 'aphid', 'count', 'uncategorized', 'apterous',),\n",
    "    '4th_instar_pre-alate': (\n",
    "        'observation', 'aphid', 'count', 'uncategorized', 'pre-alate',),\n",
    "    '3rd_instar_ega': (\n",
    "        'observation', 'aphid', 'count', 'ega', 'uncategorized',),\n",
    "    '3rd_instar_ega_pre-alate': (\n",
    "        'observation', 'aphid', 'count', 'ega', 'pre-alate',),\n",
    "    '2nd_instar_ega': (\n",
    "        'observation', 'aphid', 'count', 'ega', 'uncategorized',),\n",
    "    '1st_instar_ega': (\n",
    "        'observation', 'aphid', 'count', 'ega', 'uncategorized',),\n",
    "    'aphid_mummies_aphelinus_black': (\n",
    "        'not applicable',),\n",
    "    'aphid_mummies_aphidius_brown': (\n",
    "        'not applicable',),\n",
    "    'aphid_mummies': (\n",
    "        'not applicable',),\n",
    "    'female_macrosteles_quadrilineatus': (\n",
    "        'not applicable',),\n",
    "    'male_macrosteles_quadrilineatus': (\n",
    "        'not applicable',),\n",
    "    'macrosteles_quadrilineatus nymphs': (\n",
    "        'not applicable',),\n",
    "    '1st_instar_macrosteles': (\n",
    "        'not applicable',),\n",
    "    '2nd_instar_macrosteles': (\n",
    "        'not applicable',),\n",
    "    '3rd_instar_macrosteles': (\n",
    "        'not applicable',),\n",
    "    '4th_instar_macrosteles': (\n",
    "        'not applicable',),\n",
    "    'athysanus_argentarius': (\n",
    "        'not applicable',),\n",
    "    'doratura_sp.': (\n",
    "        'not applicable',),\n",
    "    'errastunus_ocellaris_lh': (\n",
    "        'not applicable',),\n",
    "    'other_leafhoppers': (\n",
    "        'not applicable',),\n",
    "    'other coccinellid_adults': (\n",
    "        'not applicable',),\n",
    "    'hippodamia_tredecimpunctata_c13': (\n",
    "        'not applicable',),\n",
    "    'coccinella_septempunctata_c7': (\n",
    "        'not applicable',),\n",
    "    'ladybugs- larvae': (\n",
    "        'not applicable',),\n",
    "    'chrysopidae_adults': (\n",
    "        'not applicable',),\n",
    "    'chrysoperla_carnea_adult': (\n",
    "        'not applicable',),\n",
    "    'chrysopa_oculata_adult': (\n",
    "        'not applicable',),\n",
    "    'chrysoperla_carnea_larva': (\n",
    "        'not applicable',),\n",
    "    'chrysopa_oculata_larvae': (\n",
    "        'not applicable',),\n",
    "    'g_lacewing_larvae': (\n",
    "        'not applicable',),\n",
    "    'orius_tristicolor': (\n",
    "        'not applicable',),\n",
    "    'anthocoridae': (\n",
    "        'not applicable',),\n",
    "    '(damsel bug)nabis_americoferus_adult': ('not applicable',),\n",
    "    'nabis_americoferus_nymph': (\n",
    "        'not applicable',),\n",
    "    'nabicula': (\n",
    "        'not applicable',),\n",
    "    'nabis_alternatus': (\n",
    "        'not applicable',),\n",
    "    'chalcid_wasps': (\n",
    "        'not applicable',),\n",
    "    'aphelinus_varipes': (\n",
    "        'not applicable',),\n",
    "    'aphelinus_asychis': (\n",
    "        'not applicable',),\n",
    "    'aphelinus_albipodus': (\n",
    "        'not applicable',),\n",
    "    'braconid_wasps': (\n",
    "        'not applicable',),\n",
    "    'aphidiius_sp.': (\n",
    "        'not applicable',),\n",
    "    'any parasitoid_adults': (\n",
    "        'not applicable',),\n",
    "    'hyperparasitoids ???': (\n",
    "        'not applicable',),\n",
    "    'aphidencyrtus_sp': (\n",
    "        'not applicable',),\n",
    "    'asaphes_suspensus': (\n",
    "        'not applicable',),\n",
    "    'flies': (\n",
    "        'not applicable',),\n",
    "    'lauxaniidae': (\n",
    "        'not applicable',),\n",
    "    'dolichopodidae': (\n",
    "        'not applicable',),\n",
    "    'syrphid_flies': (\n",
    "        'not applicable',),\n",
    "    'hoverflies': (\n",
    "        'not applicable',),\n",
    "    'female_delia_sp_1': (\n",
    "        'not applicable',),\n",
    "    'male_delia_sp_1': (\n",
    "        'not applicable',),\n",
    "    'female_delia_sp_2': (\n",
    "        'not applicable',),\n",
    "    'male_delia_sp_2': (\n",
    "        'not applicable',),\n",
    "    'anthomyiidae-delia': (\n",
    "        'not applicable',),\n",
    "    'midge': (\n",
    "        'not applicable',),\n",
    "    'lygus_punctatus': (\n",
    "        'not applicable',),\n",
    "    'lygus_elisus': (\n",
    "        'not applicable',),\n",
    "    'miridae_lygus lineolaris': (\n",
    "        'not applicable',),\n",
    "    'lygus_nymph': (\n",
    "        'not applicable',),\n",
    "    'green_grass_bugs_trigonotylus_coelestialium miridae': (\n",
    "        'not applicable',),\n",
    "    'green_grass nymphs': (\n",
    "        'not applicable',),\n",
    "    'capsus_simulans': (\n",
    "        'not applicable',),\n",
    "    'katydids': (\n",
    "        'not applicable',),\n",
    "    'thrips': (\n",
    "        'not applicable',),\n",
    "    'grasshoppers': (\n",
    "        'not applicable',),\n",
    "    'spiders': (\n",
    "        'not applicable',),\n",
    "    'spider_tetragnathidae': (\n",
    "        'not applicable',),\n",
    "    'mosquitoes': (\n",
    "        'not applicable',),\n",
    "    'dragonflies+damsel fly': (\n",
    "        'not applicable',),\n",
    "    'flea_beetles hop': (\n",
    "        'not applicable',),\n",
    "    'flea_beetles striped': (\n",
    "        'not applicable',),\n",
    "    'flea_beetles crucifer': (\n",
    "        'not applicable',),\n",
    "    'cicindela': (\n",
    "        'not applicable',),\n",
    "    'tychius_picirostris (weevil)': ('not applicable',),\n",
    "    'bertha_armyworms': (\n",
    "        'not applicable',),\n",
    "    'shield_bugs': (\n",
    "        'not applicable',),\n",
    "    'worms': (\n",
    "        'not applicable',),\n",
    "    'beetles': (\n",
    "        'not applicable',),\n",
    "    'maggots': (\n",
    "        'not applicable',),\n",
    "    'stink_bugs (adult and nymph)': ('not applicable',),\n",
    "    'red_mite': (\n",
    "        'not applicable',),\n",
    "    'moths': (\n",
    "        'not applicable',),\n",
    "    'plant_bugs': (\n",
    "        'not applicable',),\n",
    "    'pirate_bugs': (\n",
    "        'not applicable',),\n",
    "    'assassin_bug (reduviid bugs)': ('not applicable',),\n",
    "    'bees': (\n",
    "        'not applicable',),\n",
    "    'harvestman': (\n",
    "        'not applicable',),\n",
    "    'treehoppers': (\n",
    "        'not applicable',),\n",
    "    'cabbage_butterfly': (\n",
    "        'not applicable',),\n",
    "    'caterpillar': (\n",
    "        'not applicable',),\n",
    "    'legume_bug': (\n",
    "        'not applicable',),\n",
    "    'chinch_bug': (\n",
    "        'not applicable',),\n",
    "    'ambush_bugs': (\n",
    "        'not applicable',),\n",
    "    'ichneumonidae': (\n",
    "        'not applicable',),\n",
    "    'pumace_flies (drosophilidae)': ('not applicable',),\n",
    "    'scorpion_flies': (\n",
    "        'not applicable',),\n",
    "    'seed bugs (lygaeidea)': ('not applicable',),\n",
    "    'seed_corn_beetles': (\n",
    "        'not applicable',),\n",
    "    'ufi_bugs': (\n",
    "        'not applicable',),\n",
    "    'wasps_other': (\n",
    "        'not applicable',),\n",
    "    'eulophid_wasp': (\n",
    "        'not applicable',),\n",
    "    'oribatid': (\n",
    "        'not applicable',),\n",
    "    'spider_mites': (\n",
    "        'not applicable',),\n",
    "    'springtails': (\n",
    "        'not applicable',),\n",
    "    'mollusks': (\n",
    "        'not applicable',),\n",
    "    'formicidae': (\n",
    "        'not applicable',),\n",
    "    'weevil': (\n",
    "        'not applicable',),\n",
    "    'lepidopteran_pupa': (\n",
    "        'not applicable',),\n",
    "    'unnamed: 129': (\n",
    "        'not applicable',),\n",
    "    'hymenoptera_proctotrupidae': (\n",
    "        'not applicable',),\n",
    "    'hymenoptera_pteromalidae': (\n",
    "        'not applicable',),\n",
    "    'hymenoptera_apidae': (\n",
    "        'not applicable',),\n",
    "    'hymenoptera_diplazontinae': (\n",
    "        'not applicable',),\n",
    "    'hymenoptera_figitidae': (\n",
    "        'not applicable',),\n",
    "    'hymenoptera_aphelinidae': (\n",
    "        'not applicable',),\n",
    "    'hymenoptera_perilampidae': (\n",
    "        'not applicable',),\n",
    "    'hymenoptera_chalcidoidea': (\n",
    "        'not applicable',),\n",
    "    'hymenoptera_ichneumondoidea': (\n",
    "        'not applicable',),\n",
    "    'hymenoptera_proctotrupoidea': (\n",
    "        'not applicable',),\n",
    "}"
   ]
  },
  {
   "cell_type": "code",
   "execution_count": 64,
   "metadata": {
    "collapsed": false,
    "scrolled": true,
    "pycharm": {
     "is_executing": false
    }
   },
   "outputs": [],
   "source": [
    "[(key, *values) for key, values in s2_labels.items()]"
   ]
  },
  {
   "cell_type": "code",
   "execution_count": 65,
   "metadata": {
    "collapsed": false,
    "scrolled": true,
    "pycharm": {
     "is_executing": false
    }
   },
   "outputs": [],
   "source": [
    "pandas.MultiIndex.from_tuples(\n",
    "    (key, *values) for key, values in s2_labels.items()).to_frame().T"
   ]
  },
  {
   "cell_type": "code",
   "execution_count": 66,
   "metadata": {
    "collapsed": false,
    "scrolled": true,
    "pycharm": {
     "is_executing": false
    }
   },
   "outputs": [],
   "source": [
    "sheets_to_compare = dict(zip(\n",
    "    sheet_names, (hhc, ss2)))  # Sheet name paired with date-indexed frame.\n",
    "\n",
    "pandas.concat(\n",
    "    (\n",
    "        pandas.concat(  # Convenient way to add sheet name to column hierarchy.\n",
    "            {\n",
    "                name: sheet.loc[\n",
    "                    hhc.index.intersection(ss2.index),  # only dates in common\n",
    "                ].reindex(\n",
    "                    columns=pandas.MultiIndex.from_tuples(\n",
    "                        (\n",
    "                            (\n",
    "                                aphid_type,\n",
    "                                aphid_categorization,\n",
    "                                column_name,\n",
    "                            )\n",
    "                            for aphid_type, inner_hierarchy in aphid_column_names.items()\n",
    "                            for aphid_categorization, column_names in inner_hierarchy.items()\n",
    "                            for column_name in column_names\n",
    "                        ),\n",
    "                        names=aphid_column_names_level_names\n",
    "                    ),\n",
    "                    level=2,\n",
    "                )\n",
    "            },\n",
    "            axis='columns',\n",
    "        ).reorder_levels(\n",
    "            [1, 2, 3, 0,],\n",
    "            axis='columns',\n",
    "        )  # So sheet names don't ruin alignment.\n",
    "        for name, sheet in sheets_to_compare.items()\n",
    "    ),\n",
    "    axis='rows',\n",
    ")"
   ]
  },
  {
   "cell_type": "markdown",
   "metadata": {
    "collapsed": false
   },
   "source": [
    "Some column names are similar to ones in the opposite `DataFrame`; if I\n",
    "normalize the names, I can expect to align the corresponding sample values."
   ]
  },
  {
   "cell_type": "markdown",
   "metadata": {
    "collapsed": true
   },
   "source": [
    "#### Correlate Aphid Columns by Aphid Type"
   ]
  },
  {
   "cell_type": "markdown",
   "metadata": {
    "collapsed": true
   },
   "source": [
    "I'll be looking for data about aphid types that were measured in both sources,\n",
    "and I'll ultimately want only one column from each `DataFrame` for each type of\n",
    "aphid that is present in both sources, because I'll be computing the ratios of\n",
    "corresponding counts across frames."
   ]
  },
  {
   "cell_type": "markdown",
   "metadata": {
    "collapsed": true
   },
   "source": [
    "**Bird cherry oat:**\n",
    "\n",
    "* s2:\n",
    "  * bird_cherry_oat_aphid\n",
    "* hc:\n",
    "  * bco_alate\n",
    "  * bco_apt\n",
    "  * bco_head\n",
    "  * bco_leaf\n",
    "\n",
    "**EGA:**\n",
    "\n",
    "* alate:\n",
    "  * hc:\n",
    "    - ega_alate\n",
    "  * s2:\n",
    "    - ega alate\n",
    "\n",
    "**Greenbug:**\n",
    "\n",
    "* hc:\n",
    "  * sum of greenbug_.+\n",
    "* s2:\n",
    "  * greenbug_aphid\n",
    "\n",
    "**All:**\n",
    "\n",
    "* s2:\n",
    "  * sum all\n",
    "* hc:\n",
    "  * sum of any of [apt, alate], [grn, red], [head, leaf]"
   ]
  },
  {
   "cell_type": "markdown",
   "metadata": {
    "collapsed": true
   },
   "source": [
    "The column labels for aphids indicate multiple variations and probably multiple\n",
    "representations of the same aphid species count in the same `DataFrame`. For\n",
    "example, English grain aphids from **Head Counts** are counted in opposing\n",
    "pairs: \"winged\" versus \"wingless\", and \"red\" versus \"green\"—but there are also\n",
    "\"head\" and \"leaf\" counts. Compare that with the data labels in **Sheet2**, where\n",
    "there are various instars (life stages), pre-alate versus alate, red versus\n",
    "green, wingless (green) versus wingless (no colour specified)—but no\n",
    "correspondirg **_ega_leaf_** or **_ega_head_**.\n",
    "\n",
    "I'll have to figure out which columns to combine and which to ignore. I'll begin\n",
    "with the presumption that ***ega_head*** plus ***ega_leaf*** should produce the\n",
    "same total as the pairings of ***ega_apt*** plus ***ega_alate*** or\n",
    "***ega_red*** plus ***ega_grn***. If I can make sense of those columns in **Head\n",
    "yCounts**, I'll proceed to examine the value totals in **Sheet2** with the same\n",
    "strategy.\n",
    "\n",
    "Greenbugs will be much simpler, given that I'll be cross referencing one simple\n",
    "column, **_greenbug_aphid_**, against only two mutually-exclusive columns from\n",
    "the other worksheet, **_greenbug_alate_** and **_greenbug_apt_**. The sum of\n",
    "counts for the two greenbug phenotypes of **Sheet2** should correspond fully\n",
    "with the solitary counterpart in **Head Counts**."
   ]
  },
  {
   "cell_type": "markdown",
   "metadata": {
    "collapsed": false
   },
   "source": [
    "### @todo\n",
    "\n",
    "* [ ] **match (between sheets) columns like 'alate' rather than overall sums!**"
   ]
  },
  {
   "cell_type": "markdown",
   "metadata": {
    "collapsed": false
   },
   "source": [
    "##### English Grain Aphid from **Head Counts**"
   ]
  },
  {
   "cell_type": "markdown",
   "metadata": {
    "collapsed": true
   },
   "source": [
    "I'm considering which columns to use, and I'm thinking of using the sum of\n",
    "***ega_head*** and ***ega_leaf***. Given all complementary pairings of EGA\n",
    "columns in **Head Counts**, I expect the sums to be identical amongst all three\n",
    "pairs for each of the sampling dates."
   ]
  },
  {
   "cell_type": "code",
   "execution_count": 67,
   "metadata": {
    "collapsed": false,
    "pycharm": {
     "is_executing": false
    }
   },
   "outputs": [],
   "source": [
    "hc_ega_sums = pandas.concat(\n",
    "    {\n",
    "        'head + leaf': (hc['ega_head'] + hc['ega_leaf']),\n",
    "        'apt + alate': (hc['ega_apt']  + hc['ega_alate']),\n",
    "        'reg + grn':   (hc['ega_red']  + hc['ega_grn']),\n",
    "    },\n",
    "    axis='columns',\n",
    ")"
   ]
  },
  {
   "cell_type": "markdown",
   "metadata": {
    "collapsed": false
   },
   "source": [
    "If I add a column showing the standard deviation for each row, I should easily\n",
    "see where there's significant inconsistency. Showing the 25 worst records:"
   ]
  },
  {
   "cell_type": "code",
   "execution_count": 68,
   "metadata": {
    "collapsed": false,
    "scrolled": true,
    "pycharm": {
     "is_executing": false
    }
   },
   "outputs": [],
   "source": [
    "pandas.options.display.max_rows = 25\n",
    "pandas.concat(\n",
    "    (\n",
    "        hc_ega_sums,\n",
    "        pandas.Series(\n",
    "            data=hc_ega_sums.std(axis='columns'),\n",
    "            name='std',\n",
    "        ),\n",
    "    ),\n",
    "    axis='columns',\n",
    ").sort_values(\n",
    "    by='std',\n",
    "    ascending=False\n",
    ").head(25)"
   ]
  },
  {
   "cell_type": "markdown",
   "metadata": {
    "collapsed": false
   },
   "source": [
    "Looks like there are many invalid counts, but **_34_**, **_80_**, **_33_** and\n",
    "**_81_** show the biggest clue about which column is the most realistic:"
   ]
  },
  {
   "cell_type": "code",
   "execution_count": 69,
   "metadata": {
    "collapsed": false,
    "scrolled": true,
    "pycharm": {
     "is_executing": false
    }
   },
   "outputs": [],
   "source": [
    "# figure\n",
    "_.loc[[34, 80, 33, 81]]"
   ]
  },
  {
   "cell_type": "markdown",
   "metadata": {
    "collapsed": true
   },
   "source": [
    "It's very unusual to find no aphids at all, and if the same plant was supposedly\n",
    "bearing 160 aphids, but none of them were red nor green, I'd have to make\n",
    "various assumptions in order to validate that portion of the data. However,\n",
    "since nothing can both have and not have wings, I don't need to make *as many*\n",
    "assumptions about this portion of data. With those two points in mind, the fact\n",
    "that zeros appear coincidental to each other only in the **_apt + alate_**\n",
    "column and the **_red + green_** columns suggests these zeros represent missing\n",
    "observation data rather than an observed count of 0 aphids of those types. With\n",
    "high confidence, I could disregard the supposed counts of 0 in those instances."
   ]
  },
  {
   "cell_type": "markdown",
   "metadata": {
    "collapsed": false
   },
   "source": [
    "A separate issue is what's happening in records numbered **_14_**, **_75_** and\n",
    "**_155_**, where all three columns disagree slightly:"
   ]
  },
  {
   "cell_type": "code",
   "execution_count": 70,
   "metadata": {
    "collapsed": false,
    "scrolled": true,
    "pycharm": {
     "is_executing": false
    }
   },
   "outputs": [],
   "source": [
    "# figure\n",
    "__.loc[[14, 75, 155]]"
   ]
  },
  {
   "cell_type": "markdown",
   "metadata": {
    "collapsed": true
   },
   "source": [
    "##### @todo:\n",
    "\n",
    "* [ ] apply normalized aphid names"
   ]
  },
  {
   "cell_type": "markdown",
   "metadata": {
    "collapsed": true
   },
   "source": [
    "### Remove Unnecessary Columns"
   ]
  },
  {
   "cell_type": "markdown",
   "metadata": {
    "collapsed": true
   },
   "source": [
    "Aligning the records will be simplest if there are no extraneous columns.\n",
    "Ideally, I should be able to align the rows and start using the joined data set,\n",
    "without selecting columns. What non-aphid, non-lookup columns remain?"
   ]
  },
  {
   "cell_type": "markdown",
   "metadata": {
    "collapsed": true
   },
   "source": [
    "##### @todo:\n",
    "\n",
    "* [ ] identify remaining columns\n",
    "* [ ] drop other columns"
   ]
  },
  {
   "cell_type": "markdown",
   "metadata": {
    "collapsed": true
   },
   "source": [
    "### Compare Group Sums to Pre-existing \"Combined\""
   ]
  },
  {
   "cell_type": "markdown",
   "metadata": {
    "collapsed": true
   },
   "source": [
    "I didn't expect that the data set from **Sheet2** would have sums (presumably\n",
    "from groupings of ***distance(m)*** values), yet also some non-aggregated\n",
    "values. Normally, these wouldn't be mixed, because they represent different\n",
    "dimensional orders. Because this data set's dimensional order is inconsistent,\n",
    "there is probably redundancy in the total information available, and possibly\n",
    "contradictions.\n",
    "\n",
    "Any redundancy, whether contradictory or not, would affect calculation for the\n",
    "intended [objective], unless there's exactly one record for each space and time\n",
    "combination—that is to say, if there are discrete values as well as previously\n",
    "\"combined\" values for the same point along the index, I'll have to avoid\n",
    "including the pre-calculated sum when aggregating my own sums, otherwise the\n",
    "resulting totals will be doubled.\n",
    "\n",
    "[objective]: #Objective"
   ]
  },
  {
   "cell_type": "markdown",
   "metadata": {
    "collapsed": true
   },
   "source": [
    "I'll separate discrete and aggregated sets, then compare my sums of discrete\n",
    "sample values to pre-existing aggregations.\n",
    "\n",
    "Before I can compare"
   ]
  },
  {
   "cell_type": "markdown",
   "metadata": {
    "collapsed": true
   },
   "source": [
    "## Align Rows"
   ]
  },
  {
   "cell_type": "markdown",
   "metadata": {
    "collapsed": true
   },
   "source": [
    "##### @todo:\n",
    "\n",
    "* [ ] mark bad dates, drop rows when aligning rows"
   ]
  }
 ],
 "metadata": {
  "kernelspec": {
   "name": "pycharm-45ab62c0",
   "language": "python",
   "display_name": "PyCharm (aafc-field-data)"
  },
  "language_info": {
   "codemirror_mode": {
    "name": "ipython",
    "version": 3
   },
   "file_extension": ".py",
   "mimetype": "text/x-python",
   "name": "python",
   "nbconvert_exporter": "python",
   "pygments_lexer": "ipython3",
   "version": "3.6.7"
  },
  "toc": {
   "base_numbering": 1,
   "nav_menu": {},
   "number_sections": true,
   "sideBar": true,
   "skip_h1_title": false,
   "title_cell": "Table of Contents",
   "title_sidebar": "Contents",
   "toc_cell": false,
   "toc_position": {},
   "toc_section_display": true,
   "toc_window_display": false
  },
  "pycharm": {
   "stem_cell": {
    "cell_type": "raw",
    "source": [],
    "metadata": {
     "collapsed": false
    }
   }
  }
 },
 "nbformat": 4,
 "nbformat_minor": 0
}