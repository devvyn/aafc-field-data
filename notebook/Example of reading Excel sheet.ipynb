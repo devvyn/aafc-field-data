{
 "cells": [
  {
   "cell_type": "code",
   "execution_count": 1,
   "metadata": {},
   "outputs": [],
   "source": [
    "import pandas"
   ]
  },
  {
   "cell_type": "code",
   "execution_count": 2,
   "metadata": {},
   "outputs": [],
   "source": [
    "data_file = pandas.ExcelFile('./src/real data/2017 CAM data from iPads/2017 CAM data from iPads.xlsx')"
   ]
  },
  {
   "cell_type": "code",
   "execution_count": 3,
   "metadata": {},
   "outputs": [
    {
     "data": {
      "text/plain": [
       "['2017 CAM data Erl',\n",
       " 'schema (WIP reverse engineer)',\n",
       " '2017 CAM iPad data Tyler',\n",
       " 'Combined iPad 2017 CAM data']"
      ]
     },
     "execution_count": 3,
     "metadata": {},
     "output_type": "execute_result"
    }
   ],
   "source": [
    "data_file.sheet_names"
   ]
  },
  {
   "cell_type": "code",
   "execution_count": 4,
   "metadata": {},
   "outputs": [],
   "source": [
    "# read the data from one of the sheets into a dataframe\n",
    "df = data_file.parse('2017 CAM data Erl')"
   ]
  },
  {
   "cell_type": "code",
   "execution_count": 5,
   "metadata": {},
   "outputs": [
    {
     "name": "stdout",
     "output_type": "stream",
     "text": [
      "<class 'pandas.core.frame.DataFrame'>\n",
      "RangeIndex: 910 entries, 0 to 909\n",
      "Data columns (total 50 columns):\n",
      "fields__client__company                                             8 non-null object\n",
      "fields__client__name                                                8 non-null object\n",
      "fields__client__fname                                               8 non-null object\n",
      "fields__client__lname                                               8 non-null object\n",
      "fields__client__displayText                                         8 non-null object\n",
      "fields__name                                                        8 non-null object\n",
      "fields__crop                                                        8 non-null object\n",
      "fields__desc                                                        7 non-null object\n",
      "fields__image                                                       8 non-null object\n",
      "fields__date                                                        8 non-null object\n",
      "fields__oSets__date                                                 9 non-null object\n",
      "fields__oSets__dateCompare                                          9 non-null datetime64[ns]\n",
      "fields__oSets__growthStage Zadoks                                   9 non-null float64\n",
      "fields__oSets__desc                                                 0 non-null float64\n",
      "fields__oSets__obsName                                              9 non-null object\n",
      "fields__oSets__totalSets                                            9 non-null float64\n",
      "fields__oSets__completeSets                                         9 non-null float64\n",
      "fields__oSets__results                                              8 non-null object\n",
      "fields__oSets__oPoints__id                                          65 non-null float64\n",
      "fields__oSets__oPoints__name                                        65 non-null object\n",
      "fields__oSets__oPoints__observations__id                            390 non-null float64\n",
      "fields__oSets__oPoints__observations__name                          390 non-null object\n",
      "fields__oSets__oPoints__observations__enum                          65 non-null float64\n",
      "fields__oSets__oPoints__observations__eVnum Natural enemy totals    65 non-null float64\n",
      "fields__oSets__oPoints__observations__anum TotalAPhids              325 non-null float64\n",
      "fields__oSets__oPoints__observations__a1__number EGA                124 non-null float64\n",
      "fields__oSets__oPoints__observations__a2__number BCO                30 non-null float64\n",
      "fields__oSets__oPoints__observations__a3__number Greenbug           0 non-null float64\n",
      "fields__oSets__oPoints__observations__disabled                      0 non-null float64\n",
      "fields__oSets__oPoints__observations__complete                      365 non-null float64\n",
      "fields__oSets__oPoints__observations__|                             585 non-null object\n",
      "fields__oSets__oPoints__observations__|__number                     52 non-null float64\n",
      "fields__oSets__oPoints__location__coords__latitude                  56 non-null float64\n",
      "fields__oSets__oPoints__location__coords__longitude                 56 non-null float64\n",
      "fields__oSets__oPoints__location__coords__accuracy                  56 non-null float64\n",
      "fields__oSets__oPoints__location__coords__altitude                  56 non-null float64\n",
      "fields__oSets__oPoints__location__coords__heading                   56 non-null float64\n",
      "fields__oSets__oPoints__location__coords__speed                     56 non-null float64\n",
      "fields__oSets__oPoints__location__coords__altitudeAccuracy          56 non-null float64\n",
      "fields__oSets__oPoints__location__timestamp                         56 non-null float64\n",
      "fields__oSets__totalA1                                              8 non-null float64\n",
      "fields__oSets__totalA2                                              8 non-null float64\n",
      "fields__oSets__totalA3                                              8 non-null float64\n",
      "fields__oSets__totalA4                                              8 non-null float64\n",
      "clients__company                                                    0 non-null float64\n",
      "clients__name                                                       0 non-null float64\n",
      "clients__fname                                                      0 non-null float64\n",
      "clients__lname                                                      0 non-null float64\n",
      "clients__displayText                                                0 non-null float64\n",
      "observers                                                           0 non-null float64\n",
      "dtypes: datetime64[ns](1), float64(33), object(16)\n",
      "memory usage: 355.5+ KB\n"
     ]
    }
   ],
   "source": [
    "# what's the general structure of the sheet?\n",
    "df.info()"
   ]
  },
  {
   "cell_type": "code",
   "execution_count": 6,
   "metadata": {},
   "outputs": [
    {
     "data": {
      "text/plain": [
       "0    2017-08-02T13:12:09.542\n",
       "1    2017-08-09T09:25:11.710\n",
       "2    2017-08-09T10:06:25.480\n",
       "3    2017-08-09T11:21:01.555\n",
       "4    2017-08-09T11:37:20.862\n",
       "5    2017-08-17T11:12:02.820\n",
       "6    2017-08-17T13:06:30.183\n",
       "7    2017-08-22T15:42:05.751\n",
       "8    2017-08-22T16:02:50.682\n",
       "dtype: object"
      ]
     },
     "execution_count": 6,
     "metadata": {},
     "output_type": "execute_result"
    }
   ],
   "source": [
    "# Which dates are in this dataset?\n",
    "pandas.Series(df.fields__oSets__date.dropna().sort_values().unique())"
   ]
  },
  {
   "cell_type": "code",
   "execution_count": 7,
   "metadata": {},
   "outputs": [
    {
     "data": {
      "text/html": [
       "<div>\n",
       "<style scoped>\n",
       "    .dataframe tbody tr th:only-of-type {\n",
       "        vertical-align: middle;\n",
       "    }\n",
       "\n",
       "    .dataframe tbody tr th {\n",
       "        vertical-align: top;\n",
       "    }\n",
       "\n",
       "    .dataframe thead th {\n",
       "        text-align: right;\n",
       "    }\n",
       "</style>\n",
       "<table border=\"1\" class=\"dataframe\">\n",
       "  <thead>\n",
       "    <tr style=\"text-align: right;\">\n",
       "      <th></th>\n",
       "      <th>fields__oSets__oPoints__location__coords__latitude</th>\n",
       "      <th>fields__oSets__oPoints__location__coords__longitude</th>\n",
       "    </tr>\n",
       "  </thead>\n",
       "  <tbody>\n",
       "    <tr>\n",
       "      <th>350</th>\n",
       "      <td>52.155109</td>\n",
       "      <td>-106.728488</td>\n",
       "    </tr>\n",
       "    <tr>\n",
       "      <th>84</th>\n",
       "      <td>52.134350</td>\n",
       "      <td>-106.634421</td>\n",
       "    </tr>\n",
       "    <tr>\n",
       "      <th>490</th>\n",
       "      <td>52.143679</td>\n",
       "      <td>-106.543992</td>\n",
       "    </tr>\n",
       "  </tbody>\n",
       "</table>\n",
       "</div>"
      ],
      "text/plain": [
       "     fields__oSets__oPoints__location__coords__latitude  \\\n",
       "350                                          52.155109    \n",
       "84                                           52.134350    \n",
       "490                                          52.143679    \n",
       "\n",
       "     fields__oSets__oPoints__location__coords__longitude  \n",
       "350                                        -106.728488    \n",
       "84                                         -106.634421    \n",
       "490                                        -106.543992    "
      ]
     },
     "metadata": {},
     "output_type": "display_data"
    }
   ],
   "source": [
    "# make the really long column names easier to reference\n",
    "lat_col, long_col = ('fields__oSets__oPoints__location__coords__latitude',\n",
    "                     'fields__oSets__oPoints__location__coords__longitude')\n",
    "\n",
    "# pick unique rows with extreme coordinates, just for the sake of variety\n",
    "locations = df.loc[[df[lat_col].idxmax(),\n",
    "                    df[long_col].idxmin(),\n",
    "                    df[lat_col].idxmin(),\n",
    "                    df[long_col].idxmax(),\n",
    "                   ]].drop_duplicates()\n",
    "\n",
    "# focus on just the latitude and longitude columns\n",
    "map_centers = locations[[lat_col, long_col]]\n",
    "\n",
    "display(map_centers)"
   ]
  },
  {
   "cell_type": "code",
   "execution_count": 8,
   "metadata": {
    "scrolled": false
   },
   "outputs": [
    {
     "data": {
      "text/plain": [
       "fields__name                              SEF Oats\n",
       "fields__crop                            CROPS.OATS\n",
       "fields__desc    Next to SEF peas and a wheat field\n",
       "Name: 350, dtype: object"
      ]
     },
     "metadata": {},
     "output_type": "display_data"
    },
    {
     "data": {
      "application/vnd.jupyter.widget-view+json": {
       "model_id": "df6a836740d546a8941a0ab3088cc869",
       "version_major": 2,
       "version_minor": 0
      },
      "text/plain": [
       "Map(basemap={'url': 'https://{s}.tile.openstreetmap.org/{z}/{x}/{y}.png', 'max_zoom': 19, 'attribution': 'Map …"
      ]
     },
     "metadata": {},
     "output_type": "display_data"
    },
    {
     "data": {
      "text/plain": [
       "fields__name    NaN\n",
       "fields__crop    NaN\n",
       "fields__desc    NaN\n",
       "Name: 84, dtype: object"
      ]
     },
     "metadata": {},
     "output_type": "display_data"
    },
    {
     "data": {
      "application/vnd.jupyter.widget-view+json": {
       "model_id": "3b278f437e534eadb4b5c0865b5eec21",
       "version_major": 2,
       "version_minor": 0
      },
      "text/plain": [
       "Map(basemap={'url': 'https://{s}.tile.openstreetmap.org/{z}/{x}/{y}.png', 'max_zoom': 19, 'attribution': 'Map …"
      ]
     },
     "metadata": {},
     "output_type": "display_data"
    },
    {
     "data": {
      "text/plain": [
       "fields__name         Kernen wheat\n",
       "fields__crop          CROPS.WHEAT\n",
       "fields__desc    Kernen cover crop\n",
       "Name: 490, dtype: object"
      ]
     },
     "metadata": {},
     "output_type": "display_data"
    },
    {
     "data": {
      "application/vnd.jupyter.widget-view+json": {
       "model_id": "feba7235c0dc45ad8bfe9d19943ac23a",
       "version_major": 2,
       "version_minor": 0
      },
      "text/plain": [
       "Map(basemap={'url': 'https://{s}.tile.openstreetmap.org/{z}/{x}/{y}.png', 'max_zoom': 19, 'attribution': 'Map …"
      ]
     },
     "metadata": {},
     "output_type": "display_data"
    }
   ],
   "source": [
    "from ipyleaflet import Map\n",
    "\n",
    "# display a map for each coordinate set\n",
    "for index, map_center in map_centers.iterrows():\n",
    "    coordinates = map_center.values.tolist()\n",
    "    display(df[['fields__name', 'fields__crop', 'fields__desc']].loc[index],\n",
    "            Map(center=coordinates, zoom=13))"
   ]
  }
 ],
 "metadata": {
  "kernelspec": {
   "display_name": "Python 3",
   "language": "python",
   "name": "python3"
  },
  "language_info": {
   "codemirror_mode": {
    "name": "ipython",
    "version": 3
   },
   "file_extension": ".py",
   "mimetype": "text/x-python",
   "name": "python",
   "nbconvert_exporter": "python",
   "pygments_lexer": "ipython3",
   "version": "3.6.4"
  },
  "widgets": {
   "application/vnd.jupyter.widget-state+json": {
    "state": {
     "02799fe027a54b65ad05717e53e854af": {
      "model_module": "jupyter-leaflet",
      "model_module_version": "~0.7.3",
      "model_name": "LeafletTileLayerModel",
      "state": {
       "_model_module_version": "~0.7.3",
       "_view_count": null,
       "_view_module_version": "~0.7.3",
       "base": true,
       "max_zoom": 19,
       "min_zoom": 1,
       "options": [
        "attribution",
        "detect_retina",
        "max_zoom",
        "min_zoom",
        "tile_size"
       ]
      }
     },
     "03157e4b6c4642488147d14eb1f0d9a5": {
      "model_module": "jupyter-leaflet",
      "model_module_version": "~0.7.3",
      "model_name": "LeafletTileLayerModel",
      "state": {
       "_model_module_version": "~0.7.3",
       "_view_count": null,
       "_view_module_version": "~0.7.3",
       "base": true,
       "max_zoom": 19,
       "min_zoom": 1,
       "options": [
        "attribution",
        "detect_retina",
        "max_zoom",
        "min_zoom",
        "tile_size"
       ]
      }
     },
     "0577e7e9722d432a8450bccc9377c7fd": {
      "model_module": "jupyter-leaflet",
      "model_module_version": "~0.7.3",
      "model_name": "LeafletTileLayerModel",
      "state": {
       "_model_module_version": "~0.7.3",
       "_view_count": null,
       "_view_module_version": "~0.7.3",
       "base": true,
       "max_zoom": 19,
       "min_zoom": 1,
       "options": [
        "attribution",
        "detect_retina",
        "max_zoom",
        "min_zoom",
        "tile_size"
       ]
      }
     },
     "0bbfcadb803c4dd3b10689914dfda460": {
      "model_module": "jupyter-leaflet",
      "model_module_version": "~0.7.3",
      "model_name": "LeafletMapModel",
      "state": {
       "_dom_classes": [],
       "_model_module_version": "~0.7.3",
       "_view_count": null,
       "_view_module_version": "~0.7.3",
       "basemap": {
        "attribution": "Map data (c) <a href=\"https://openstreetmap.org\">OpenStreetMap</a> contributors",
        "max_zoom": 19,
        "url": "https://{s}.tile.openstreetmap.org/{z}/{x}/{y}.png"
       },
       "center": [
        52.155109111459,
        -106.728487550491
       ],
       "east": -106.64428710937501,
       "layers": [
        "IPY_MODEL_43f860c2296a43588307d42de3b9f5ba"
       ],
       "layout": "IPY_MODEL_e59d235c89a140b98bdda5ff559a5e84",
       "modisdate": "yesterday",
       "north": 52.17614239521893,
       "options": [
        "attribution_control",
        "basemap",
        "bounce_at_zoom_limits",
        "box_zoom",
        "center",
        "close_popup_on_click",
        "double_click_zoom",
        "dragging",
        "inertia",
        "inertia_deceleration",
        "inertia_max_speed",
        "keyboard",
        "keyboard_pan_offset",
        "keyboard_zoom_offset",
        "max_zoom",
        "min_zoom",
        "scroll_wheel_zoom",
        "tap",
        "tap_tolerance",
        "touch_zoom",
        "world_copy_jump",
        "zoom",
        "zoom_animation_threshold",
        "zoom_control",
        "zoom_start"
       ],
       "south": 52.1340148869305,
       "west": -106.81268692016603,
       "zoom": 13
      }
     },
     "0ee64f2bebb9473886e9bc48b847fcde": {
      "model_module": "jupyter-leaflet",
      "model_module_version": "~0.7.3",
      "model_name": "LeafletMapModel",
      "state": {
       "_dom_classes": [],
       "_model_module_version": "~0.7.3",
       "_view_count": null,
       "_view_module_version": "~0.7.3",
       "basemap": {
        "attribution": "Map data (c) <a href=\"https://openstreetmap.org\">OpenStreetMap</a> contributors",
        "max_zoom": 19,
        "url": "https://{s}.tile.openstreetmap.org/{z}/{x}/{y}.png"
       },
       "center": [
        52.1343500227328,
        -106.634421371724
       ],
       "east": -106.5502166748047,
       "layers": [
        "IPY_MODEL_0577e7e9722d432a8450bccc9377c7fd"
       ],
       "layout": "IPY_MODEL_2da2c9a7f3ac4b78ab1505758a1d04e2",
       "modisdate": "yesterday",
       "north": 52.155399579752284,
       "options": [
        "attribution_control",
        "basemap",
        "bounce_at_zoom_limits",
        "box_zoom",
        "center",
        "close_popup_on_click",
        "double_click_zoom",
        "dragging",
        "inertia",
        "inertia_deceleration",
        "inertia_max_speed",
        "keyboard",
        "keyboard_pan_offset",
        "keyboard_zoom_offset",
        "max_zoom",
        "min_zoom",
        "scroll_wheel_zoom",
        "tap",
        "tap_tolerance",
        "touch_zoom",
        "world_copy_jump",
        "zoom",
        "zoom_animation_threshold",
        "zoom_control",
        "zoom_start"
       ],
       "south": 52.11325243469633,
       "west": -106.71861648559572,
       "zoom": 13
      }
     },
     "0f218e509c5b478089eb2039046e5746": {
      "model_module": "jupyter-leaflet",
      "model_module_version": "~0.7.3",
      "model_name": "LeafletTileLayerModel",
      "state": {
       "_model_module_version": "~0.7.3",
       "_view_count": null,
       "_view_module_version": "~0.7.3",
       "base": true,
       "max_zoom": 19,
       "min_zoom": 1,
       "options": [
        "attribution",
        "detect_retina",
        "max_zoom",
        "min_zoom",
        "tile_size"
       ]
      }
     },
     "14bf41d1c7ee48e793036e3bece23efe": {
      "model_module": "jupyter-leaflet",
      "model_module_version": "~0.7.3",
      "model_name": "LeafletMapModel",
      "state": {
       "_dom_classes": [],
       "_model_module_version": "~0.7.3",
       "_view_count": null,
       "_view_module_version": "~0.7.3",
       "basemap": {
        "attribution": "Map data (c) <a href=\"https://openstreetmap.org\">OpenStreetMap</a> contributors",
        "max_zoom": 19,
        "url": "https://{s}.tile.openstreetmap.org/{z}/{x}/{y}.png"
       },
       "center": [
        52.155109111459,
        -106.728487550491
       ],
       "east": -106.64428710937501,
       "layers": [
        "IPY_MODEL_41e265b50dd949c1b58a4ffdab7af9d4"
       ],
       "layout": "IPY_MODEL_6abdafccc79044598cc77183c4550e70",
       "modisdate": "yesterday",
       "north": 52.17614239521893,
       "options": [
        "attribution_control",
        "basemap",
        "bounce_at_zoom_limits",
        "box_zoom",
        "center",
        "close_popup_on_click",
        "double_click_zoom",
        "dragging",
        "inertia",
        "inertia_deceleration",
        "inertia_max_speed",
        "keyboard",
        "keyboard_pan_offset",
        "keyboard_zoom_offset",
        "max_zoom",
        "min_zoom",
        "scroll_wheel_zoom",
        "tap",
        "tap_tolerance",
        "touch_zoom",
        "world_copy_jump",
        "zoom",
        "zoom_animation_threshold",
        "zoom_control",
        "zoom_start"
       ],
       "south": 52.1340148869305,
       "west": -106.81268692016603,
       "zoom": 13
      }
     },
     "175c21dcde124b8fa436aeca18f19640": {
      "model_module": "jupyter-leaflet",
      "model_module_version": "~0.7.3",
      "model_name": "LeafletTileLayerModel",
      "state": {
       "_model_module_version": "~0.7.3",
       "_view_count": null,
       "_view_module_version": "~0.7.3",
       "base": true,
       "max_zoom": 19,
       "min_zoom": 1,
       "options": [
        "attribution",
        "detect_retina",
        "max_zoom",
        "min_zoom",
        "tile_size"
       ]
      }
     },
     "17a55b307e2f4fbba2421385c3f5f256": {
      "model_module": "@jupyter-widgets/base",
      "model_module_version": "1.0.0",
      "model_name": "LayoutModel",
      "state": {}
     },
     "1ae51a99ff544c8ab2e2d58b71ed0702": {
      "model_module": "@jupyter-widgets/base",
      "model_module_version": "1.0.0",
      "model_name": "LayoutModel",
      "state": {}
     },
     "1bcd6b7f4a9d48638da853263ed8e7c4": {
      "model_module": "jupyter-leaflet",
      "model_module_version": "~0.7.3",
      "model_name": "LeafletMapModel",
      "state": {
       "_dom_classes": [],
       "_model_module_version": "~0.7.3",
       "_view_count": null,
       "_view_module_version": "~0.7.3",
       "basemap": {
        "attribution": "Map data (c) <a href=\"https://openstreetmap.org\">OpenStreetMap</a> contributors",
        "max_zoom": 19,
        "url": "https://{s}.tile.openstreetmap.org/{z}/{x}/{y}.png"
       },
       "center": [
        52.1343500227328,
        -106.634421371724
       ],
       "east": -106.5502166748047,
       "layers": [
        "IPY_MODEL_5bb074a090f041229d10ead101833614"
       ],
       "layout": "IPY_MODEL_b78d77fb0fd04f5dbdd3ddc50311fe9f",
       "modisdate": "yesterday",
       "north": 52.155399579752284,
       "options": [
        "attribution_control",
        "basemap",
        "bounce_at_zoom_limits",
        "box_zoom",
        "center",
        "close_popup_on_click",
        "double_click_zoom",
        "dragging",
        "inertia",
        "inertia_deceleration",
        "inertia_max_speed",
        "keyboard",
        "keyboard_pan_offset",
        "keyboard_zoom_offset",
        "max_zoom",
        "min_zoom",
        "scroll_wheel_zoom",
        "tap",
        "tap_tolerance",
        "touch_zoom",
        "world_copy_jump",
        "zoom",
        "zoom_animation_threshold",
        "zoom_control",
        "zoom_start"
       ],
       "south": 52.11325243469633,
       "west": -106.71861648559572,
       "zoom": 13
      }
     },
     "1e409b123755425b9b652375f58cd898": {
      "model_module": "jupyter-leaflet",
      "model_module_version": "~0.7.3",
      "model_name": "LeafletMapModel",
      "state": {
       "_dom_classes": [],
       "_model_module_version": "~0.7.3",
       "_view_count": null,
       "_view_module_version": "~0.7.3",
       "basemap": {
        "attribution": "Map data (c) <a href=\"https://openstreetmap.org\">OpenStreetMap</a> contributors",
        "max_zoom": 19,
        "url": "https://{s}.tile.openstreetmap.org/{z}/{x}/{y}.png"
       },
       "center": [
        52.1343500227328,
        -106.634421371724
       ],
       "east": -106.5502166748047,
       "layers": [
        "IPY_MODEL_abb796407bba43cbb9c46569ed5cb509"
       ],
       "layout": "IPY_MODEL_1ae51a99ff544c8ab2e2d58b71ed0702",
       "modisdate": "yesterday",
       "north": 52.155399579752284,
       "options": [
        "attribution_control",
        "basemap",
        "bounce_at_zoom_limits",
        "box_zoom",
        "center",
        "close_popup_on_click",
        "double_click_zoom",
        "dragging",
        "inertia",
        "inertia_deceleration",
        "inertia_max_speed",
        "keyboard",
        "keyboard_pan_offset",
        "keyboard_zoom_offset",
        "max_zoom",
        "min_zoom",
        "scroll_wheel_zoom",
        "tap",
        "tap_tolerance",
        "touch_zoom",
        "world_copy_jump",
        "zoom",
        "zoom_animation_threshold",
        "zoom_control",
        "zoom_start"
       ],
       "south": 52.11325243469633,
       "west": -106.71861648559572,
       "zoom": 13
      }
     },
     "1f25f9421bb34306ad527cb62739b37f": {
      "model_module": "jupyter-leaflet",
      "model_module_version": "~0.7.3",
      "model_name": "LeafletMapModel",
      "state": {
       "_dom_classes": [],
       "_model_module_version": "~0.7.3",
       "_view_count": null,
       "_view_module_version": "~0.7.3",
       "basemap": {
        "attribution": "Map data (c) <a href=\"https://openstreetmap.org\">OpenStreetMap</a> contributors",
        "max_zoom": 19,
        "url": "https://{s}.tile.openstreetmap.org/{z}/{x}/{y}.png"
       },
       "center": [
        52.1343500227328,
        -106.634421371724
       ],
       "east": -106.5502166748047,
       "layers": [
        "IPY_MODEL_4689f347e8ff41f2b595682f4faeae01"
       ],
       "layout": "IPY_MODEL_6a6e22bbec2e471a88b352ab1cf3c1b9",
       "modisdate": "yesterday",
       "north": 52.155399579752284,
       "options": [
        "attribution_control",
        "basemap",
        "bounce_at_zoom_limits",
        "box_zoom",
        "center",
        "close_popup_on_click",
        "double_click_zoom",
        "dragging",
        "inertia",
        "inertia_deceleration",
        "inertia_max_speed",
        "keyboard",
        "keyboard_pan_offset",
        "keyboard_zoom_offset",
        "max_zoom",
        "min_zoom",
        "scroll_wheel_zoom",
        "tap",
        "tap_tolerance",
        "touch_zoom",
        "world_copy_jump",
        "zoom",
        "zoom_animation_threshold",
        "zoom_control",
        "zoom_start"
       ],
       "south": 52.11325243469633,
       "west": -106.71861648559572,
       "zoom": 13
      }
     },
     "278b2b961bb54f6e8af40884a09ec8e5": {
      "model_module": "@jupyter-widgets/base",
      "model_module_version": "1.0.0",
      "model_name": "LayoutModel",
      "state": {}
     },
     "2c48877d5ce84c6bac995c384765f352": {
      "model_module": "jupyter-leaflet",
      "model_module_version": "~0.7.3",
      "model_name": "LeafletTileLayerModel",
      "state": {
       "_model_module_version": "~0.7.3",
       "_view_count": null,
       "_view_module_version": "~0.7.3",
       "base": true,
       "max_zoom": 19,
       "min_zoom": 1,
       "options": [
        "attribution",
        "detect_retina",
        "max_zoom",
        "min_zoom",
        "tile_size"
       ]
      }
     },
     "2da2c9a7f3ac4b78ab1505758a1d04e2": {
      "model_module": "@jupyter-widgets/base",
      "model_module_version": "1.0.0",
      "model_name": "LayoutModel",
      "state": {}
     },
     "2f30339df45a4af9adaeb09918666ca3": {
      "model_module": "@jupyter-widgets/base",
      "model_module_version": "1.0.0",
      "model_name": "LayoutModel",
      "state": {}
     },
     "317a0205b1154ca98f8184fd8de90106": {
      "model_module": "@jupyter-widgets/base",
      "model_module_version": "1.0.0",
      "model_name": "LayoutModel",
      "state": {}
     },
     "3b278f437e534eadb4b5c0865b5eec21": {
      "model_module": "jupyter-leaflet",
      "model_module_version": "~0.7.3",
      "model_name": "LeafletMapModel",
      "state": {
       "_dom_classes": [],
       "_model_module_version": "~0.7.3",
       "_view_count": null,
       "_view_module_version": "~0.7.3",
       "basemap": {
        "attribution": "Map data (c) <a href=\"https://openstreetmap.org\">OpenStreetMap</a> contributors",
        "max_zoom": 19,
        "url": "https://{s}.tile.openstreetmap.org/{z}/{x}/{y}.png"
       },
       "center": [
        52.1343500227328,
        -106.634421371724
       ],
       "east": -106.5502166748047,
       "layers": [
        "IPY_MODEL_9163f72d611942aa83a02324e75d5e0a"
       ],
       "layout": "IPY_MODEL_b53d4bcc704c49b89c160081e275d15a",
       "modisdate": "yesterday",
       "north": 52.155399579752284,
       "options": [
        "attribution_control",
        "basemap",
        "bounce_at_zoom_limits",
        "box_zoom",
        "center",
        "close_popup_on_click",
        "double_click_zoom",
        "dragging",
        "inertia",
        "inertia_deceleration",
        "inertia_max_speed",
        "keyboard",
        "keyboard_pan_offset",
        "keyboard_zoom_offset",
        "max_zoom",
        "min_zoom",
        "scroll_wheel_zoom",
        "tap",
        "tap_tolerance",
        "touch_zoom",
        "world_copy_jump",
        "zoom",
        "zoom_animation_threshold",
        "zoom_control",
        "zoom_start"
       ],
       "south": 52.11325243469633,
       "west": -106.71861648559572,
       "zoom": 13
      }
     },
     "3f526c7d0e6349a09db54f4011bbe277": {
      "model_module": "jupyter-leaflet",
      "model_module_version": "~0.7.3",
      "model_name": "LeafletTileLayerModel",
      "state": {
       "_model_module_version": "~0.7.3",
       "_view_count": null,
       "_view_module_version": "~0.7.3",
       "base": true,
       "max_zoom": 19,
       "min_zoom": 1,
       "options": [
        "attribution",
        "detect_retina",
        "max_zoom",
        "min_zoom",
        "tile_size"
       ]
      }
     },
     "41e265b50dd949c1b58a4ffdab7af9d4": {
      "model_module": "jupyter-leaflet",
      "model_module_version": "~0.7.3",
      "model_name": "LeafletTileLayerModel",
      "state": {
       "_model_module_version": "~0.7.3",
       "_view_count": null,
       "_view_module_version": "~0.7.3",
       "base": true,
       "max_zoom": 19,
       "min_zoom": 1,
       "options": [
        "attribution",
        "detect_retina",
        "max_zoom",
        "min_zoom",
        "tile_size"
       ]
      }
     },
     "42af969940b24fefb3af9f4afaa88560": {
      "model_module": "@jupyter-widgets/base",
      "model_module_version": "1.0.0",
      "model_name": "LayoutModel",
      "state": {}
     },
     "43d2acdb891f4ff1a5ef9df767cdfe75": {
      "model_module": "@jupyter-widgets/base",
      "model_module_version": "1.0.0",
      "model_name": "LayoutModel",
      "state": {}
     },
     "43f860c2296a43588307d42de3b9f5ba": {
      "model_module": "jupyter-leaflet",
      "model_module_version": "~0.7.3",
      "model_name": "LeafletTileLayerModel",
      "state": {
       "_model_module_version": "~0.7.3",
       "_view_count": null,
       "_view_module_version": "~0.7.3",
       "base": true,
       "max_zoom": 19,
       "min_zoom": 1,
       "options": [
        "attribution",
        "detect_retina",
        "max_zoom",
        "min_zoom",
        "tile_size"
       ]
      }
     },
     "45016dd9a38d4a86bb5a00ee1d121403": {
      "model_module": "@jupyter-widgets/base",
      "model_module_version": "1.0.0",
      "model_name": "LayoutModel",
      "state": {}
     },
     "4689f347e8ff41f2b595682f4faeae01": {
      "model_module": "jupyter-leaflet",
      "model_module_version": "~0.7.3",
      "model_name": "LeafletTileLayerModel",
      "state": {
       "_model_module_version": "~0.7.3",
       "_view_count": null,
       "_view_module_version": "~0.7.3",
       "base": true,
       "max_zoom": 19,
       "min_zoom": 1,
       "options": [
        "attribution",
        "detect_retina",
        "max_zoom",
        "min_zoom",
        "tile_size"
       ]
      }
     },
     "4a0ec75647164dd49f6de614051cd66a": {
      "model_module": "@jupyter-widgets/base",
      "model_module_version": "1.0.0",
      "model_name": "LayoutModel",
      "state": {}
     },
     "4a46da7588b04833ba8efb45c8b72d8a": {
      "model_module": "@jupyter-widgets/base",
      "model_module_version": "1.0.0",
      "model_name": "LayoutModel",
      "state": {}
     },
     "4b9c7f7d91a7421883b3bc882261d9dd": {
      "model_module": "jupyter-leaflet",
      "model_module_version": "~0.7.3",
      "model_name": "LeafletTileLayerModel",
      "state": {
       "_model_module_version": "~0.7.3",
       "_view_count": null,
       "_view_module_version": "~0.7.3",
       "base": true,
       "max_zoom": 19,
       "min_zoom": 1,
       "options": [
        "attribution",
        "detect_retina",
        "max_zoom",
        "min_zoom",
        "tile_size"
       ]
      }
     },
     "4bf40d42152e43b9a1053e0666d5e547": {
      "model_module": "@jupyter-widgets/base",
      "model_module_version": "1.0.0",
      "model_name": "LayoutModel",
      "state": {}
     },
     "5084b3cf7cfd420eaec7c3586a016fa9": {
      "model_module": "@jupyter-widgets/base",
      "model_module_version": "1.0.0",
      "model_name": "LayoutModel",
      "state": {}
     },
     "508ecf5b60eb43eab3dc78f78a9bc45d": {
      "model_module": "jupyter-leaflet",
      "model_module_version": "~0.7.3",
      "model_name": "LeafletMapModel",
      "state": {
       "_dom_classes": [],
       "_model_module_version": "~0.7.3",
       "_view_count": null,
       "_view_module_version": "~0.7.3",
       "basemap": {
        "attribution": "Map data (c) <a href=\"https://openstreetmap.org\">OpenStreetMap</a> contributors",
        "max_zoom": 19,
        "url": "https://{s}.tile.openstreetmap.org/{z}/{x}/{y}.png"
       },
       "center": [
        52.155109111459,
        -106.728487550491
       ],
       "east": -106.64428710937501,
       "layers": [
        "IPY_MODEL_0f218e509c5b478089eb2039046e5746"
       ],
       "layout": "IPY_MODEL_4a0ec75647164dd49f6de614051cd66a",
       "modisdate": "yesterday",
       "north": 52.17614239521893,
       "options": [
        "attribution_control",
        "basemap",
        "bounce_at_zoom_limits",
        "box_zoom",
        "center",
        "close_popup_on_click",
        "double_click_zoom",
        "dragging",
        "inertia",
        "inertia_deceleration",
        "inertia_max_speed",
        "keyboard",
        "keyboard_pan_offset",
        "keyboard_zoom_offset",
        "max_zoom",
        "min_zoom",
        "scroll_wheel_zoom",
        "tap",
        "tap_tolerance",
        "touch_zoom",
        "world_copy_jump",
        "zoom",
        "zoom_animation_threshold",
        "zoom_control",
        "zoom_start"
       ],
       "south": 52.1340148869305,
       "west": -106.81268692016603,
       "zoom": 13
      }
     },
     "57002be4ccd24309b51f3c744b707ca8": {
      "model_module": "@jupyter-widgets/base",
      "model_module_version": "1.0.0",
      "model_name": "LayoutModel",
      "state": {}
     },
     "5bb074a090f041229d10ead101833614": {
      "model_module": "jupyter-leaflet",
      "model_module_version": "~0.7.3",
      "model_name": "LeafletTileLayerModel",
      "state": {
       "_model_module_version": "~0.7.3",
       "_view_count": null,
       "_view_module_version": "~0.7.3",
       "base": true,
       "max_zoom": 19,
       "min_zoom": 1,
       "options": [
        "attribution",
        "detect_retina",
        "max_zoom",
        "min_zoom",
        "tile_size"
       ]
      }
     },
     "5e3c785dfc4d4d029b316119ed7dcaeb": {
      "model_module": "jupyter-leaflet",
      "model_module_version": "~0.7.3",
      "model_name": "LeafletTileLayerModel",
      "state": {
       "_model_module_version": "~0.7.3",
       "_view_count": null,
       "_view_module_version": "~0.7.3",
       "base": true,
       "max_zoom": 19,
       "min_zoom": 1,
       "options": [
        "attribution",
        "detect_retina",
        "max_zoom",
        "min_zoom",
        "tile_size"
       ]
      }
     },
     "631bcbf4f3bc422ea92cd9cd6079da91": {
      "model_module": "@jupyter-widgets/base",
      "model_module_version": "1.0.0",
      "model_name": "LayoutModel",
      "state": {}
     },
     "67d4255ca71a4c31b60333bdb8c69fa3": {
      "model_module": "jupyter-leaflet",
      "model_module_version": "~0.7.3",
      "model_name": "LeafletMapModel",
      "state": {
       "_dom_classes": [],
       "_model_module_version": "~0.7.3",
       "_view_count": null,
       "_view_module_version": "~0.7.3",
       "basemap": {
        "attribution": "Map data (c) <a href=\"https://openstreetmap.org\">OpenStreetMap</a> contributors",
        "max_zoom": 19,
        "url": "https://{s}.tile.openstreetmap.org/{z}/{x}/{y}.png"
       },
       "center": [
        52.155109111459,
        -106.728487550491
       ],
       "east": -106.56017303466798,
       "layers": [
        "IPY_MODEL_03157e4b6c4642488147d14eb1f0d9a5"
       ],
       "layout": "IPY_MODEL_ee08c09a7fab48888aa1f1510441d191",
       "modisdate": "yesterday",
       "north": 52.19729641975414,
       "options": [
        "attribution_control",
        "basemap",
        "bounce_at_zoom_limits",
        "box_zoom",
        "center",
        "close_popup_on_click",
        "double_click_zoom",
        "dragging",
        "inertia",
        "inertia_deceleration",
        "inertia_max_speed",
        "keyboard",
        "keyboard_pan_offset",
        "keyboard_zoom_offset",
        "max_zoom",
        "min_zoom",
        "scroll_wheel_zoom",
        "tap",
        "tap_tolerance",
        "touch_zoom",
        "world_copy_jump",
        "zoom",
        "zoom_animation_threshold",
        "zoom_control",
        "zoom_start"
       ],
       "south": 52.113041598778075,
       "west": -106.89697265625001
      }
     },
     "6a6e22bbec2e471a88b352ab1cf3c1b9": {
      "model_module": "@jupyter-widgets/base",
      "model_module_version": "1.0.0",
      "model_name": "LayoutModel",
      "state": {}
     },
     "6abdafccc79044598cc77183c4550e70": {
      "model_module": "@jupyter-widgets/base",
      "model_module_version": "1.0.0",
      "model_name": "LayoutModel",
      "state": {}
     },
     "6dee1f7e67884d0289f0745c5e7682e8": {
      "model_module": "jupyter-leaflet",
      "model_module_version": "~0.7.3",
      "model_name": "LeafletMapModel",
      "state": {
       "_dom_classes": [],
       "_model_module_version": "~0.7.3",
       "_view_count": null,
       "_view_module_version": "~0.7.3",
       "basemap": {
        "attribution": "Map data (c) <a href=\"https://openstreetmap.org\">OpenStreetMap</a> contributors",
        "max_zoom": 19,
        "url": "https://{s}.tile.openstreetmap.org/{z}/{x}/{y}.png"
       },
       "center": [
        52.1436788847649,
        -106.543991598223
       ],
       "east": -106.4597511291504,
       "layers": [
        "IPY_MODEL_5e3c785dfc4d4d029b316119ed7dcaeb"
       ],
       "layout": "IPY_MODEL_a12715a91fcd4bcbb52ed49baba78f04",
       "modisdate": "yesterday",
       "north": 52.16477189685263,
       "options": [
        "attribution_control",
        "basemap",
        "bounce_at_zoom_limits",
        "box_zoom",
        "center",
        "close_popup_on_click",
        "double_click_zoom",
        "dragging",
        "inertia",
        "inertia_deceleration",
        "inertia_max_speed",
        "keyboard",
        "keyboard_pan_offset",
        "keyboard_zoom_offset",
        "max_zoom",
        "min_zoom",
        "scroll_wheel_zoom",
        "tap",
        "tap_tolerance",
        "touch_zoom",
        "world_copy_jump",
        "zoom",
        "zoom_animation_threshold",
        "zoom_control",
        "zoom_start"
       ],
       "south": 52.12263362367837,
       "west": -106.62815093994142,
       "zoom": 13
      }
     },
     "75b457ef76fc48b79358ce82155dc6f8": {
      "model_module": "jupyter-leaflet",
      "model_module_version": "~0.7.3",
      "model_name": "LeafletMapModel",
      "state": {
       "_dom_classes": [],
       "_model_module_version": "~0.7.3",
       "_view_count": null,
       "_view_module_version": "~0.7.3",
       "basemap": {
        "attribution": "Map data (c) <a href=\"https://openstreetmap.org\">OpenStreetMap</a> contributors",
        "max_zoom": 19,
        "url": "https://{s}.tile.openstreetmap.org/{z}/{x}/{y}.png"
       },
       "center": [
        52.1436788847649,
        -106.543991598223
       ],
       "east": -106.4597511291504,
       "layers": [
        "IPY_MODEL_8a57a9d48e2e4c70b30bae4eb12bd829"
       ],
       "layout": "IPY_MODEL_e0a92b6bd18f4d40b7f7d5a181a16a58",
       "modisdate": "yesterday",
       "north": 52.16477189685263,
       "options": [
        "attribution_control",
        "basemap",
        "bounce_at_zoom_limits",
        "box_zoom",
        "center",
        "close_popup_on_click",
        "double_click_zoom",
        "dragging",
        "inertia",
        "inertia_deceleration",
        "inertia_max_speed",
        "keyboard",
        "keyboard_pan_offset",
        "keyboard_zoom_offset",
        "max_zoom",
        "min_zoom",
        "scroll_wheel_zoom",
        "tap",
        "tap_tolerance",
        "touch_zoom",
        "world_copy_jump",
        "zoom",
        "zoom_animation_threshold",
        "zoom_control",
        "zoom_start"
       ],
       "south": 52.12263362367837,
       "west": -106.62815093994142,
       "zoom": 13
      }
     },
     "7905bbcbc25646158baa9a72fd3b8ed4": {
      "model_module": "@jupyter-widgets/base",
      "model_module_version": "1.0.0",
      "model_name": "LayoutModel",
      "state": {}
     },
     "83edb14474c7476898448abc041e9503": {
      "model_module": "jupyter-leaflet",
      "model_module_version": "~0.7.3",
      "model_name": "LeafletTileLayerModel",
      "state": {
       "_model_module_version": "~0.7.3",
       "_view_count": null,
       "_view_module_version": "~0.7.3",
       "base": true,
       "max_zoom": 19,
       "min_zoom": 1,
       "options": [
        "attribution",
        "detect_retina",
        "max_zoom",
        "min_zoom",
        "tile_size"
       ]
      }
     },
     "89f4b76ce53f4c238a0956c66c69d28f": {
      "model_module": "jupyter-leaflet",
      "model_module_version": "~0.7.3",
      "model_name": "LeafletTileLayerModel",
      "state": {
       "_model_module_version": "~0.7.3",
       "_view_count": null,
       "_view_module_version": "~0.7.3",
       "base": true,
       "max_zoom": 19,
       "min_zoom": 1,
       "options": [
        "attribution",
        "detect_retina",
        "max_zoom",
        "min_zoom",
        "tile_size"
       ]
      }
     },
     "8a57a9d48e2e4c70b30bae4eb12bd829": {
      "model_module": "jupyter-leaflet",
      "model_module_version": "~0.7.3",
      "model_name": "LeafletTileLayerModel",
      "state": {
       "_model_module_version": "~0.7.3",
       "_view_count": null,
       "_view_module_version": "~0.7.3",
       "base": true,
       "max_zoom": 19,
       "min_zoom": 1,
       "options": [
        "attribution",
        "detect_retina",
        "max_zoom",
        "min_zoom",
        "tile_size"
       ]
      }
     },
     "8c3a7b71b1a34b0282fccb4c7d496653": {
      "model_module": "jupyter-leaflet",
      "model_module_version": "~0.7.3",
      "model_name": "LeafletTileLayerModel",
      "state": {
       "_model_module_version": "~0.7.3",
       "_view_count": null,
       "_view_module_version": "~0.7.3",
       "base": true,
       "max_zoom": 19,
       "min_zoom": 1,
       "options": [
        "attribution",
        "detect_retina",
        "max_zoom",
        "min_zoom",
        "tile_size"
       ]
      }
     },
     "8dcd1fea53c24f69a8625262939d29b7": {
      "model_module": "jupyter-leaflet",
      "model_module_version": "~0.7.3",
      "model_name": "LeafletMapModel",
      "state": {
       "_dom_classes": [],
       "_model_module_version": "~0.7.3",
       "_view_count": null,
       "_view_module_version": "~0.7.3",
       "basemap": {
        "attribution": "Map data (c) <a href=\"https://openstreetmap.org\">OpenStreetMap</a> contributors",
        "max_zoom": 19,
        "url": "https://{s}.tile.openstreetmap.org/{z}/{x}/{y}.png"
       },
       "center": [
        52.155109111459,
        -106.728487550491
       ],
       "east": -106.64428710937501,
       "layers": [
        "IPY_MODEL_da96cfbb1e874ec6b1686e027a951bd1"
       ],
       "layout": "IPY_MODEL_fc83bed092484db896cddf1e2c6f0a7d",
       "modisdate": "yesterday",
       "north": 52.17614239521893,
       "options": [
        "attribution_control",
        "basemap",
        "bounce_at_zoom_limits",
        "box_zoom",
        "center",
        "close_popup_on_click",
        "double_click_zoom",
        "dragging",
        "inertia",
        "inertia_deceleration",
        "inertia_max_speed",
        "keyboard",
        "keyboard_pan_offset",
        "keyboard_zoom_offset",
        "max_zoom",
        "min_zoom",
        "scroll_wheel_zoom",
        "tap",
        "tap_tolerance",
        "touch_zoom",
        "world_copy_jump",
        "zoom",
        "zoom_animation_threshold",
        "zoom_control",
        "zoom_start"
       ],
       "south": 52.1340148869305,
       "west": -106.81268692016603,
       "zoom": 13
      }
     },
     "9056fe09d9524721af7826b31b8a7549": {
      "model_module": "jupyter-leaflet",
      "model_module_version": "~0.7.3",
      "model_name": "LeafletTileLayerModel",
      "state": {
       "_model_module_version": "~0.7.3",
       "_view_count": null,
       "_view_module_version": "~0.7.3",
       "base": true,
       "max_zoom": 19,
       "min_zoom": 1,
       "options": [
        "attribution",
        "detect_retina",
        "max_zoom",
        "min_zoom",
        "tile_size"
       ]
      }
     },
     "914b236c63bc48d7934a01daddf98ad4": {
      "model_module": "@jupyter-widgets/base",
      "model_module_version": "1.0.0",
      "model_name": "LayoutModel",
      "state": {}
     },
     "9163f72d611942aa83a02324e75d5e0a": {
      "model_module": "jupyter-leaflet",
      "model_module_version": "~0.7.3",
      "model_name": "LeafletTileLayerModel",
      "state": {
       "_model_module_version": "~0.7.3",
       "_view_count": null,
       "_view_module_version": "~0.7.3",
       "base": true,
       "max_zoom": 19,
       "min_zoom": 1,
       "options": [
        "attribution",
        "detect_retina",
        "max_zoom",
        "min_zoom",
        "tile_size"
       ]
      }
     },
     "93b35768942c48f1a749ac0500b680c5": {
      "model_module": "jupyter-leaflet",
      "model_module_version": "~0.7.3",
      "model_name": "LeafletTileLayerModel",
      "state": {
       "_model_module_version": "~0.7.3",
       "_view_count": null,
       "_view_module_version": "~0.7.3",
       "base": true,
       "max_zoom": 19,
       "min_zoom": 1,
       "options": [
        "attribution",
        "detect_retina",
        "max_zoom",
        "min_zoom",
        "tile_size"
       ]
      }
     },
     "9cbd43ab5b6249e9a52651a695455538": {
      "model_module": "jupyter-leaflet",
      "model_module_version": "~0.7.3",
      "model_name": "LeafletMapModel",
      "state": {
       "_dom_classes": [],
       "_model_module_version": "~0.7.3",
       "_view_count": null,
       "_view_module_version": "~0.7.3",
       "basemap": {
        "attribution": "Map data (c) <a href=\"https://openstreetmap.org\">OpenStreetMap</a> contributors",
        "max_zoom": 19,
        "url": "https://{s}.tile.openstreetmap.org/{z}/{x}/{y}.png"
       },
       "center": [
        52.1436788847649,
        -106.543991598223
       ],
       "east": -106.4597511291504,
       "layers": [
        "IPY_MODEL_b1854d924de1435cb9e04a67c220e196"
       ],
       "layout": "IPY_MODEL_b5712c75838b4ba78a246cba7fa9aab5",
       "modisdate": "yesterday",
       "north": 52.16477189685263,
       "options": [
        "attribution_control",
        "basemap",
        "bounce_at_zoom_limits",
        "box_zoom",
        "center",
        "close_popup_on_click",
        "double_click_zoom",
        "dragging",
        "inertia",
        "inertia_deceleration",
        "inertia_max_speed",
        "keyboard",
        "keyboard_pan_offset",
        "keyboard_zoom_offset",
        "max_zoom",
        "min_zoom",
        "scroll_wheel_zoom",
        "tap",
        "tap_tolerance",
        "touch_zoom",
        "world_copy_jump",
        "zoom",
        "zoom_animation_threshold",
        "zoom_control",
        "zoom_start"
       ],
       "south": 52.12263362367837,
       "west": -106.62815093994142,
       "zoom": 13
      }
     },
     "9ea23b67ec5a418b86fbd023eed15c38": {
      "model_module": "jupyter-leaflet",
      "model_module_version": "~0.7.3",
      "model_name": "LeafletMapModel",
      "state": {
       "_dom_classes": [],
       "_model_module_version": "~0.7.3",
       "_view_count": null,
       "_view_module_version": "~0.7.3",
       "basemap": {
        "attribution": "Map data (c) <a href=\"https://openstreetmap.org\">OpenStreetMap</a> contributors",
        "max_zoom": 19,
        "url": "https://{s}.tile.openstreetmap.org/{z}/{x}/{y}.png"
       },
       "center": [
        52.1436788847649,
        -106.543991598223
       ],
       "east": -106.4597511291504,
       "layers": [
        "IPY_MODEL_dd8b42ab172940aab7b9933aa3981b49"
       ],
       "layout": "IPY_MODEL_4bf40d42152e43b9a1053e0666d5e547",
       "modisdate": "yesterday",
       "north": 52.16477189685263,
       "options": [
        "attribution_control",
        "basemap",
        "bounce_at_zoom_limits",
        "box_zoom",
        "center",
        "close_popup_on_click",
        "double_click_zoom",
        "dragging",
        "inertia",
        "inertia_deceleration",
        "inertia_max_speed",
        "keyboard",
        "keyboard_pan_offset",
        "keyboard_zoom_offset",
        "max_zoom",
        "min_zoom",
        "scroll_wheel_zoom",
        "tap",
        "tap_tolerance",
        "touch_zoom",
        "world_copy_jump",
        "zoom",
        "zoom_animation_threshold",
        "zoom_control",
        "zoom_start"
       ],
       "south": 52.12263362367837,
       "west": -106.62815093994142,
       "zoom": 13
      }
     },
     "a12715a91fcd4bcbb52ed49baba78f04": {
      "model_module": "@jupyter-widgets/base",
      "model_module_version": "1.0.0",
      "model_name": "LayoutModel",
      "state": {}
     },
     "a2e56a220b904618bf5f7a2d14b7bb6b": {
      "model_module": "jupyter-leaflet",
      "model_module_version": "~0.7.3",
      "model_name": "LeafletMapModel",
      "state": {
       "_dom_classes": [],
       "_model_module_version": "~0.7.3",
       "_view_count": null,
       "_view_module_version": "~0.7.3",
       "basemap": {
        "attribution": "Map data (c) <a href=\"https://openstreetmap.org\">OpenStreetMap</a> contributors",
        "max_zoom": 19,
        "url": "https://{s}.tile.openstreetmap.org/{z}/{x}/{y}.png"
       },
       "center": [
        52.1343500227328,
        -106.634421371724
       ],
       "east": -106.5502166748047,
       "layers": [
        "IPY_MODEL_4b9c7f7d91a7421883b3bc882261d9dd"
       ],
       "layout": "IPY_MODEL_b71f9cb62f0445b7a1629d777fd7ab11",
       "modisdate": "yesterday",
       "north": 52.155399579752284,
       "options": [
        "attribution_control",
        "basemap",
        "bounce_at_zoom_limits",
        "box_zoom",
        "center",
        "close_popup_on_click",
        "double_click_zoom",
        "dragging",
        "inertia",
        "inertia_deceleration",
        "inertia_max_speed",
        "keyboard",
        "keyboard_pan_offset",
        "keyboard_zoom_offset",
        "max_zoom",
        "min_zoom",
        "scroll_wheel_zoom",
        "tap",
        "tap_tolerance",
        "touch_zoom",
        "world_copy_jump",
        "zoom",
        "zoom_animation_threshold",
        "zoom_control",
        "zoom_start"
       ],
       "south": 52.11325243469633,
       "west": -106.71861648559572,
       "zoom": 13
      }
     },
     "a2fc3aaf0fd645679d45d11ed5084d95": {
      "model_module": "jupyter-leaflet",
      "model_module_version": "~0.7.3",
      "model_name": "LeafletTileLayerModel",
      "state": {
       "_model_module_version": "~0.7.3",
       "_view_count": null,
       "_view_module_version": "~0.7.3",
       "base": true,
       "max_zoom": 19,
       "min_zoom": 1,
       "options": [
        "attribution",
        "detect_retina",
        "max_zoom",
        "min_zoom",
        "tile_size"
       ]
      }
     },
     "a363a8d54de348d79fc3c9dd5da53640": {
      "model_module": "jupyter-leaflet",
      "model_module_version": "~0.7.3",
      "model_name": "LeafletMapModel",
      "state": {
       "_dom_classes": [],
       "_model_module_version": "~0.7.3",
       "_view_count": null,
       "_view_module_version": "~0.7.3",
       "basemap": {
        "attribution": "Map data (c) <a href=\"https://openstreetmap.org\">OpenStreetMap</a> contributors",
        "max_zoom": 19,
        "url": "https://{s}.tile.openstreetmap.org/{z}/{x}/{y}.png"
       },
       "center": [
        52.1436788847649,
        -106.543991598223
       ],
       "east": -106.4597511291504,
       "layers": [
        "IPY_MODEL_89f4b76ce53f4c238a0956c66c69d28f"
       ],
       "layout": "IPY_MODEL_45016dd9a38d4a86bb5a00ee1d121403",
       "modisdate": "yesterday",
       "north": 52.16477189685263,
       "options": [
        "attribution_control",
        "basemap",
        "bounce_at_zoom_limits",
        "box_zoom",
        "center",
        "close_popup_on_click",
        "double_click_zoom",
        "dragging",
        "inertia",
        "inertia_deceleration",
        "inertia_max_speed",
        "keyboard",
        "keyboard_pan_offset",
        "keyboard_zoom_offset",
        "max_zoom",
        "min_zoom",
        "scroll_wheel_zoom",
        "tap",
        "tap_tolerance",
        "touch_zoom",
        "world_copy_jump",
        "zoom",
        "zoom_animation_threshold",
        "zoom_control",
        "zoom_start"
       ],
       "south": 52.12263362367837,
       "west": -106.62815093994142,
       "zoom": 13
      }
     },
     "a39edfa4e9e641aa81d02dea9e636445": {
      "model_module": "jupyter-leaflet",
      "model_module_version": "~0.7.3",
      "model_name": "LeafletMapModel",
      "state": {
       "_dom_classes": [],
       "_model_module_version": "~0.7.3",
       "_view_count": null,
       "_view_module_version": "~0.7.3",
       "basemap": {
        "attribution": "Map data (c) <a href=\"https://openstreetmap.org\">OpenStreetMap</a> contributors",
        "max_zoom": 19,
        "url": "https://{s}.tile.openstreetmap.org/{z}/{x}/{y}.png"
       },
       "center": [
        52.1343500227328,
        -106.634421371724
       ],
       "east": -106.5502166748047,
       "layers": [
        "IPY_MODEL_c6647856c2454b32b7a4c08992f4a803"
       ],
       "layout": "IPY_MODEL_631bcbf4f3bc422ea92cd9cd6079da91",
       "modisdate": "yesterday",
       "north": 52.155399579752284,
       "options": [
        "attribution_control",
        "basemap",
        "bounce_at_zoom_limits",
        "box_zoom",
        "center",
        "close_popup_on_click",
        "double_click_zoom",
        "dragging",
        "inertia",
        "inertia_deceleration",
        "inertia_max_speed",
        "keyboard",
        "keyboard_pan_offset",
        "keyboard_zoom_offset",
        "max_zoom",
        "min_zoom",
        "scroll_wheel_zoom",
        "tap",
        "tap_tolerance",
        "touch_zoom",
        "world_copy_jump",
        "zoom",
        "zoom_animation_threshold",
        "zoom_control",
        "zoom_start"
       ],
       "south": 52.11325243469633,
       "west": -106.71861648559572,
       "zoom": 13
      }
     },
     "a3c5aa1ac2eb47e9a9fbe9ae0d514416": {
      "model_module": "jupyter-leaflet",
      "model_module_version": "~0.7.3",
      "model_name": "LeafletMapModel",
      "state": {
       "_dom_classes": [],
       "_model_module_version": "~0.7.3",
       "_view_count": null,
       "_view_module_version": "~0.7.3",
       "basemap": {
        "attribution": "Map data (c) <a href=\"https://openstreetmap.org\">OpenStreetMap</a> contributors",
        "max_zoom": 19,
        "url": "https://{s}.tile.openstreetmap.org/{z}/{x}/{y}.png"
       },
       "center": [
        52.1343500227328,
        -106.634421371724
       ],
       "east": -106.5502166748047,
       "layers": [
        "IPY_MODEL_8c3a7b71b1a34b0282fccb4c7d496653"
       ],
       "layout": "IPY_MODEL_57002be4ccd24309b51f3c744b707ca8",
       "modisdate": "yesterday",
       "north": 52.155399579752284,
       "options": [
        "attribution_control",
        "basemap",
        "bounce_at_zoom_limits",
        "box_zoom",
        "center",
        "close_popup_on_click",
        "double_click_zoom",
        "dragging",
        "inertia",
        "inertia_deceleration",
        "inertia_max_speed",
        "keyboard",
        "keyboard_pan_offset",
        "keyboard_zoom_offset",
        "max_zoom",
        "min_zoom",
        "scroll_wheel_zoom",
        "tap",
        "tap_tolerance",
        "touch_zoom",
        "world_copy_jump",
        "zoom",
        "zoom_animation_threshold",
        "zoom_control",
        "zoom_start"
       ],
       "south": 52.11325243469633,
       "west": -106.71861648559572,
       "zoom": 13
      }
     },
     "a63bb5525846404882b72fde955b132e": {
      "model_module": "jupyter-leaflet",
      "model_module_version": "~0.7.3",
      "model_name": "LeafletTileLayerModel",
      "state": {
       "_model_module_version": "~0.7.3",
       "_view_count": null,
       "_view_module_version": "~0.7.3",
       "base": true,
       "max_zoom": 19,
       "min_zoom": 1,
       "options": [
        "attribution",
        "detect_retina",
        "max_zoom",
        "min_zoom",
        "tile_size"
       ]
      }
     },
     "a9aa6543593a4096adf47bda66ff4d91": {
      "model_module": "jupyter-leaflet",
      "model_module_version": "~0.7.3",
      "model_name": "LeafletTileLayerModel",
      "state": {
       "_model_module_version": "~0.7.3",
       "_view_count": null,
       "_view_module_version": "~0.7.3",
       "base": true,
       "max_zoom": 19,
       "min_zoom": 1,
       "options": [
        "attribution",
        "detect_retina",
        "max_zoom",
        "min_zoom",
        "tile_size"
       ]
      }
     },
     "ab10661c148d438f88c955e8d92a82b7": {
      "model_module": "jupyter-leaflet",
      "model_module_version": "~0.7.3",
      "model_name": "LeafletMapModel",
      "state": {
       "_dom_classes": [],
       "_model_module_version": "~0.7.3",
       "_view_count": null,
       "_view_module_version": "~0.7.3",
       "basemap": {
        "attribution": "Map data (c) <a href=\"https://openstreetmap.org\">OpenStreetMap</a> contributors",
        "max_zoom": 19,
        "url": "https://{s}.tile.openstreetmap.org/{z}/{x}/{y}.png"
       },
       "center": [
        52.1436788847649,
        -106.543991598223
       ],
       "east": -106.3754653930664,
       "layers": [
        "IPY_MODEL_a9aa6543593a4096adf47bda66ff4d91"
       ],
       "layout": "IPY_MODEL_43d2acdb891f4ff1a5ef9df767cdfe75",
       "modisdate": "yesterday",
       "north": 52.18572083717691,
       "options": [
        "attribution_control",
        "basemap",
        "bounce_at_zoom_limits",
        "box_zoom",
        "center",
        "close_popup_on_click",
        "double_click_zoom",
        "dragging",
        "inertia",
        "inertia_deceleration",
        "inertia_max_speed",
        "keyboard",
        "keyboard_pan_offset",
        "keyboard_zoom_offset",
        "max_zoom",
        "min_zoom",
        "scroll_wheel_zoom",
        "tap",
        "tap_tolerance",
        "touch_zoom",
        "world_copy_jump",
        "zoom",
        "zoom_animation_threshold",
        "zoom_control",
        "zoom_start"
       ],
       "south": 52.101444087734635,
       "west": -106.71226501464845
      }
     },
     "abb796407bba43cbb9c46569ed5cb509": {
      "model_module": "jupyter-leaflet",
      "model_module_version": "~0.7.3",
      "model_name": "LeafletTileLayerModel",
      "state": {
       "_model_module_version": "~0.7.3",
       "_view_count": null,
       "_view_module_version": "~0.7.3",
       "base": true,
       "max_zoom": 19,
       "min_zoom": 1,
       "options": [
        "attribution",
        "detect_retina",
        "max_zoom",
        "min_zoom",
        "tile_size"
       ]
      }
     },
     "ac119428ef0d4a50b3da8e556a1d13c8": {
      "model_module": "jupyter-leaflet",
      "model_module_version": "~0.7.3",
      "model_name": "LeafletTileLayerModel",
      "state": {
       "_model_module_version": "~0.7.3",
       "_view_count": null,
       "_view_module_version": "~0.7.3",
       "base": true,
       "max_zoom": 19,
       "min_zoom": 1,
       "options": [
        "attribution",
        "detect_retina",
        "max_zoom",
        "min_zoom",
        "tile_size"
       ]
      }
     },
     "af5d7613aac041d9b406583597e61492": {
      "model_module": "jupyter-leaflet",
      "model_module_version": "~0.7.3",
      "model_name": "LeafletMapModel",
      "state": {
       "_dom_classes": [],
       "_model_module_version": "~0.7.3",
       "_view_count": null,
       "_view_module_version": "~0.7.3",
       "basemap": {
        "attribution": "Map data (c) <a href=\"https://openstreetmap.org\">OpenStreetMap</a> contributors",
        "max_zoom": 19,
        "url": "https://{s}.tile.openstreetmap.org/{z}/{x}/{y}.png"
       },
       "center": [
        52.155109111459,
        -106.728487550491
       ],
       "east": -106.64428710937501,
       "layers": [
        "IPY_MODEL_a2fc3aaf0fd645679d45d11ed5084d95"
       ],
       "layout": "IPY_MODEL_17a55b307e2f4fbba2421385c3f5f256",
       "modisdate": "yesterday",
       "north": 52.17614239521893,
       "options": [
        "attribution_control",
        "basemap",
        "bounce_at_zoom_limits",
        "box_zoom",
        "center",
        "close_popup_on_click",
        "double_click_zoom",
        "dragging",
        "inertia",
        "inertia_deceleration",
        "inertia_max_speed",
        "keyboard",
        "keyboard_pan_offset",
        "keyboard_zoom_offset",
        "max_zoom",
        "min_zoom",
        "scroll_wheel_zoom",
        "tap",
        "tap_tolerance",
        "touch_zoom",
        "world_copy_jump",
        "zoom",
        "zoom_animation_threshold",
        "zoom_control",
        "zoom_start"
       ],
       "south": 52.1340148869305,
       "west": -106.81268692016603,
       "zoom": 13
      }
     },
     "b1854d924de1435cb9e04a67c220e196": {
      "model_module": "jupyter-leaflet",
      "model_module_version": "~0.7.3",
      "model_name": "LeafletTileLayerModel",
      "state": {
       "_model_module_version": "~0.7.3",
       "_view_count": null,
       "_view_module_version": "~0.7.3",
       "base": true,
       "max_zoom": 19,
       "min_zoom": 1,
       "options": [
        "attribution",
        "detect_retina",
        "max_zoom",
        "min_zoom",
        "tile_size"
       ]
      }
     },
     "b53d4bcc704c49b89c160081e275d15a": {
      "model_module": "@jupyter-widgets/base",
      "model_module_version": "1.0.0",
      "model_name": "LayoutModel",
      "state": {}
     },
     "b5712c75838b4ba78a246cba7fa9aab5": {
      "model_module": "@jupyter-widgets/base",
      "model_module_version": "1.0.0",
      "model_name": "LayoutModel",
      "state": {}
     },
     "b6c897245e3442dca04314e60710c649": {
      "model_module": "jupyter-leaflet",
      "model_module_version": "~0.7.3",
      "model_name": "LeafletTileLayerModel",
      "state": {
       "_model_module_version": "~0.7.3",
       "_view_count": null,
       "_view_module_version": "~0.7.3",
       "base": true,
       "max_zoom": 19,
       "min_zoom": 1,
       "options": [
        "attribution",
        "detect_retina",
        "max_zoom",
        "min_zoom",
        "tile_size"
       ]
      }
     },
     "b71f9cb62f0445b7a1629d777fd7ab11": {
      "model_module": "@jupyter-widgets/base",
      "model_module_version": "1.0.0",
      "model_name": "LayoutModel",
      "state": {}
     },
     "b78d77fb0fd04f5dbdd3ddc50311fe9f": {
      "model_module": "@jupyter-widgets/base",
      "model_module_version": "1.0.0",
      "model_name": "LayoutModel",
      "state": {}
     },
     "bc1c9e8934db408c8bcd705f1c05ea08": {
      "model_module": "jupyter-leaflet",
      "model_module_version": "~0.7.3",
      "model_name": "LeafletMapModel",
      "state": {
       "_dom_classes": [],
       "_model_module_version": "~0.7.3",
       "_view_count": null,
       "_view_module_version": "~0.7.3",
       "basemap": {
        "attribution": "Map data (c) <a href=\"https://openstreetmap.org\">OpenStreetMap</a> contributors",
        "max_zoom": 19,
        "url": "https://{s}.tile.openstreetmap.org/{z}/{x}/{y}.png"
       },
       "center": [
        52.155109111459,
        -106.728487550491
       ],
       "east": -106.64428710937501,
       "layers": [
        "IPY_MODEL_83edb14474c7476898448abc041e9503"
       ],
       "layout": "IPY_MODEL_278b2b961bb54f6e8af40884a09ec8e5",
       "modisdate": "yesterday",
       "north": 52.17614239521893,
       "options": [
        "attribution_control",
        "basemap",
        "bounce_at_zoom_limits",
        "box_zoom",
        "center",
        "close_popup_on_click",
        "double_click_zoom",
        "dragging",
        "inertia",
        "inertia_deceleration",
        "inertia_max_speed",
        "keyboard",
        "keyboard_pan_offset",
        "keyboard_zoom_offset",
        "max_zoom",
        "min_zoom",
        "scroll_wheel_zoom",
        "tap",
        "tap_tolerance",
        "touch_zoom",
        "world_copy_jump",
        "zoom",
        "zoom_animation_threshold",
        "zoom_control",
        "zoom_start"
       ],
       "south": 52.1340148869305,
       "west": -106.81268692016603,
       "zoom": 13
      }
     },
     "bcd5eb06f3e7478694368ea799b24f9a": {
      "model_module": "jupyter-leaflet",
      "model_module_version": "~0.7.3",
      "model_name": "LeafletTileLayerModel",
      "state": {
       "_model_module_version": "~0.7.3",
       "_view_count": null,
       "_view_module_version": "~0.7.3",
       "base": true,
       "max_zoom": 19,
       "min_zoom": 1,
       "options": [
        "attribution",
        "detect_retina",
        "max_zoom",
        "min_zoom",
        "tile_size"
       ]
      }
     },
     "c108d76a9d6745f0b196700db656f02a": {
      "model_module": "@jupyter-widgets/base",
      "model_module_version": "1.0.0",
      "model_name": "LayoutModel",
      "state": {}
     },
     "c21308ace94948d292f8a914cb053868": {
      "model_module": "jupyter-leaflet",
      "model_module_version": "~0.7.3",
      "model_name": "LeafletMapModel",
      "state": {
       "_dom_classes": [],
       "_model_module_version": "~0.7.3",
       "_view_count": null,
       "_view_module_version": "~0.7.3",
       "basemap": {
        "attribution": "Map data (c) <a href=\"https://openstreetmap.org\">OpenStreetMap</a> contributors",
        "max_zoom": 19,
        "url": "https://{s}.tile.openstreetmap.org/{z}/{x}/{y}.png"
       },
       "center": [
        52.1343500227328,
        -106.634421371724
       ],
       "east": -106.5502166748047,
       "layers": [
        "IPY_MODEL_ac119428ef0d4a50b3da8e556a1d13c8"
       ],
       "layout": "IPY_MODEL_f2b62e7dd8eb42adaeb63b9d7fe14a93",
       "modisdate": "yesterday",
       "north": 52.155399579752284,
       "options": [
        "attribution_control",
        "basemap",
        "bounce_at_zoom_limits",
        "box_zoom",
        "center",
        "close_popup_on_click",
        "double_click_zoom",
        "dragging",
        "inertia",
        "inertia_deceleration",
        "inertia_max_speed",
        "keyboard",
        "keyboard_pan_offset",
        "keyboard_zoom_offset",
        "max_zoom",
        "min_zoom",
        "scroll_wheel_zoom",
        "tap",
        "tap_tolerance",
        "touch_zoom",
        "world_copy_jump",
        "zoom",
        "zoom_animation_threshold",
        "zoom_control",
        "zoom_start"
       ],
       "south": 52.11325243469633,
       "west": -106.71861648559572,
       "zoom": 13
      }
     },
     "c6647856c2454b32b7a4c08992f4a803": {
      "model_module": "jupyter-leaflet",
      "model_module_version": "~0.7.3",
      "model_name": "LeafletTileLayerModel",
      "state": {
       "_model_module_version": "~0.7.3",
       "_view_count": null,
       "_view_module_version": "~0.7.3",
       "base": true,
       "max_zoom": 19,
       "min_zoom": 1,
       "options": [
        "attribution",
        "detect_retina",
        "max_zoom",
        "min_zoom",
        "tile_size"
       ]
      }
     },
     "c8354cc2567d4a829b68c93a0e8851bc": {
      "model_module": "jupyter-leaflet",
      "model_module_version": "~0.7.3",
      "model_name": "LeafletMapModel",
      "state": {
       "_dom_classes": [],
       "_model_module_version": "~0.7.3",
       "_view_count": null,
       "_view_module_version": "~0.7.3",
       "basemap": {
        "attribution": "Map data (c) <a href=\"https://openstreetmap.org\">OpenStreetMap</a> contributors",
        "max_zoom": 19,
        "url": "https://{s}.tile.openstreetmap.org/{z}/{x}/{y}.png"
       },
       "center": [
        52.155109111459,
        -106.728487550491
       ],
       "east": -106.64428710937501,
       "layers": [
        "IPY_MODEL_175c21dcde124b8fa436aeca18f19640"
       ],
       "layout": "IPY_MODEL_dd4db5a5c22d48f9af0675d029cc1524",
       "modisdate": "yesterday",
       "north": 52.17614239521893,
       "options": [
        "attribution_control",
        "basemap",
        "bounce_at_zoom_limits",
        "box_zoom",
        "center",
        "close_popup_on_click",
        "double_click_zoom",
        "dragging",
        "inertia",
        "inertia_deceleration",
        "inertia_max_speed",
        "keyboard",
        "keyboard_pan_offset",
        "keyboard_zoom_offset",
        "max_zoom",
        "min_zoom",
        "scroll_wheel_zoom",
        "tap",
        "tap_tolerance",
        "touch_zoom",
        "world_copy_jump",
        "zoom",
        "zoom_animation_threshold",
        "zoom_control",
        "zoom_start"
       ],
       "south": 52.1340148869305,
       "west": -106.81268692016603,
       "zoom": 13
      }
     },
     "cb98a07e4519484d8c2fce3e5db90096": {
      "model_module": "jupyter-leaflet",
      "model_module_version": "~0.7.3",
      "model_name": "LeafletMapModel",
      "state": {
       "_dom_classes": [],
       "_model_module_version": "~0.7.3",
       "_view_count": null,
       "_view_module_version": "~0.7.3",
       "basemap": {
        "attribution": "Map data (c) <a href=\"https://openstreetmap.org\">OpenStreetMap</a> contributors",
        "max_zoom": 19,
        "url": "https://{s}.tile.openstreetmap.org/{z}/{x}/{y}.png"
       },
       "center": [
        52.155109111459,
        -106.728487550491
       ],
       "east": -106.64428710937501,
       "layers": [
        "IPY_MODEL_9056fe09d9524721af7826b31b8a7549"
       ],
       "layout": "IPY_MODEL_c108d76a9d6745f0b196700db656f02a",
       "modisdate": "yesterday",
       "north": 52.17614239521893,
       "options": [
        "attribution_control",
        "basemap",
        "bounce_at_zoom_limits",
        "box_zoom",
        "center",
        "close_popup_on_click",
        "double_click_zoom",
        "dragging",
        "inertia",
        "inertia_deceleration",
        "inertia_max_speed",
        "keyboard",
        "keyboard_pan_offset",
        "keyboard_zoom_offset",
        "max_zoom",
        "min_zoom",
        "scroll_wheel_zoom",
        "tap",
        "tap_tolerance",
        "touch_zoom",
        "world_copy_jump",
        "zoom",
        "zoom_animation_threshold",
        "zoom_control",
        "zoom_start"
       ],
       "south": 52.1340148869305,
       "west": -106.81268692016603,
       "zoom": 13
      }
     },
     "d357b58cc5ec42f0a3d1732740c2fcf7": {
      "model_module": "jupyter-leaflet",
      "model_module_version": "~0.7.3",
      "model_name": "LeafletMapModel",
      "state": {
       "_dom_classes": [],
       "_model_module_version": "~0.7.3",
       "_view_count": null,
       "_view_module_version": "~0.7.3",
       "basemap": {
        "attribution": "Map data (c) <a href=\"https://openstreetmap.org\">OpenStreetMap</a> contributors",
        "max_zoom": 19,
        "url": "https://{s}.tile.openstreetmap.org/{z}/{x}/{y}.png"
       },
       "center": [
        52.1436788847649,
        -106.543991598223
       ],
       "east": -106.4597511291504,
       "layers": [
        "IPY_MODEL_e64c8ff4119a4d858120ee42cc07a0e5"
       ],
       "layout": "IPY_MODEL_5084b3cf7cfd420eaec7c3586a016fa9",
       "modisdate": "yesterday",
       "north": 52.16477189685263,
       "options": [
        "attribution_control",
        "basemap",
        "bounce_at_zoom_limits",
        "box_zoom",
        "center",
        "close_popup_on_click",
        "double_click_zoom",
        "dragging",
        "inertia",
        "inertia_deceleration",
        "inertia_max_speed",
        "keyboard",
        "keyboard_pan_offset",
        "keyboard_zoom_offset",
        "max_zoom",
        "min_zoom",
        "scroll_wheel_zoom",
        "tap",
        "tap_tolerance",
        "touch_zoom",
        "world_copy_jump",
        "zoom",
        "zoom_animation_threshold",
        "zoom_control",
        "zoom_start"
       ],
       "south": 52.12263362367837,
       "west": -106.62815093994142,
       "zoom": 13
      }
     },
     "da96cfbb1e874ec6b1686e027a951bd1": {
      "model_module": "jupyter-leaflet",
      "model_module_version": "~0.7.3",
      "model_name": "LeafletTileLayerModel",
      "state": {
       "_model_module_version": "~0.7.3",
       "_view_count": null,
       "_view_module_version": "~0.7.3",
       "base": true,
       "max_zoom": 19,
       "min_zoom": 1,
       "options": [
        "attribution",
        "detect_retina",
        "max_zoom",
        "min_zoom",
        "tile_size"
       ]
      }
     },
     "db4067f64a45403fb448903c43581bda": {
      "model_module": "jupyter-leaflet",
      "model_module_version": "~0.7.3",
      "model_name": "LeafletMapModel",
      "state": {
       "_dom_classes": [],
       "_model_module_version": "~0.7.3",
       "_view_count": null,
       "_view_module_version": "~0.7.3",
       "basemap": {
        "attribution": "Map data (c) <a href=\"https://openstreetmap.org\">OpenStreetMap</a> contributors",
        "max_zoom": 19,
        "url": "https://{s}.tile.openstreetmap.org/{z}/{x}/{y}.png"
       },
       "center": [
        52.155109111459,
        -106.728487550491
       ],
       "east": -106.64428710937501,
       "layers": [
        "IPY_MODEL_a63bb5525846404882b72fde955b132e"
       ],
       "layout": "IPY_MODEL_ed8eec28f31042a8b75d6906861559e1",
       "modisdate": "yesterday",
       "north": 52.17614239521893,
       "options": [
        "attribution_control",
        "basemap",
        "bounce_at_zoom_limits",
        "box_zoom",
        "center",
        "close_popup_on_click",
        "double_click_zoom",
        "dragging",
        "inertia",
        "inertia_deceleration",
        "inertia_max_speed",
        "keyboard",
        "keyboard_pan_offset",
        "keyboard_zoom_offset",
        "max_zoom",
        "min_zoom",
        "scroll_wheel_zoom",
        "tap",
        "tap_tolerance",
        "touch_zoom",
        "world_copy_jump",
        "zoom",
        "zoom_animation_threshold",
        "zoom_control",
        "zoom_start"
       ],
       "south": 52.1340148869305,
       "west": -106.81268692016603,
       "zoom": 13
      }
     },
     "dc710d1735c54eeb9874314f2e1d7c96": {
      "model_module": "jupyter-leaflet",
      "model_module_version": "~0.7.3",
      "model_name": "LeafletMapModel",
      "state": {
       "_dom_classes": [],
       "_model_module_version": "~0.7.3",
       "_view_count": null,
       "_view_module_version": "~0.7.3",
       "basemap": {
        "attribution": "Map data (c) <a href=\"https://openstreetmap.org\">OpenStreetMap</a> contributors",
        "max_zoom": 19,
        "url": "https://{s}.tile.openstreetmap.org/{z}/{x}/{y}.png"
       },
       "center": [
        52.1343500227328,
        -106.634421371724
       ],
       "east": -106.5502166748047,
       "layers": [
        "IPY_MODEL_fa53b2aba0ca48be8f258da5275e50d7"
       ],
       "layout": "IPY_MODEL_7905bbcbc25646158baa9a72fd3b8ed4",
       "modisdate": "yesterday",
       "north": 52.155399579752284,
       "options": [
        "attribution_control",
        "basemap",
        "bounce_at_zoom_limits",
        "box_zoom",
        "center",
        "close_popup_on_click",
        "double_click_zoom",
        "dragging",
        "inertia",
        "inertia_deceleration",
        "inertia_max_speed",
        "keyboard",
        "keyboard_pan_offset",
        "keyboard_zoom_offset",
        "max_zoom",
        "min_zoom",
        "scroll_wheel_zoom",
        "tap",
        "tap_tolerance",
        "touch_zoom",
        "world_copy_jump",
        "zoom",
        "zoom_animation_threshold",
        "zoom_control",
        "zoom_start"
       ],
       "south": 52.11325243469633,
       "west": -106.71861648559572,
       "zoom": 13
      }
     },
     "dd4db5a5c22d48f9af0675d029cc1524": {
      "model_module": "@jupyter-widgets/base",
      "model_module_version": "1.0.0",
      "model_name": "LayoutModel",
      "state": {}
     },
     "dd8b42ab172940aab7b9933aa3981b49": {
      "model_module": "jupyter-leaflet",
      "model_module_version": "~0.7.3",
      "model_name": "LeafletTileLayerModel",
      "state": {
       "_model_module_version": "~0.7.3",
       "_view_count": null,
       "_view_module_version": "~0.7.3",
       "base": true,
       "max_zoom": 19,
       "min_zoom": 1,
       "options": [
        "attribution",
        "detect_retina",
        "max_zoom",
        "min_zoom",
        "tile_size"
       ]
      }
     },
     "df6a836740d546a8941a0ab3088cc869": {
      "model_module": "jupyter-leaflet",
      "model_module_version": "~0.7.3",
      "model_name": "LeafletMapModel",
      "state": {
       "_dom_classes": [],
       "_model_module_version": "~0.7.3",
       "_view_count": null,
       "_view_module_version": "~0.7.3",
       "basemap": {
        "attribution": "Map data (c) <a href=\"https://openstreetmap.org\">OpenStreetMap</a> contributors",
        "max_zoom": 19,
        "url": "https://{s}.tile.openstreetmap.org/{z}/{x}/{y}.png"
       },
       "center": [
        52.155109111459,
        -106.728487550491
       ],
       "east": -106.64428710937501,
       "layers": [
        "IPY_MODEL_bcd5eb06f3e7478694368ea799b24f9a"
       ],
       "layout": "IPY_MODEL_317a0205b1154ca98f8184fd8de90106",
       "modisdate": "yesterday",
       "north": 52.17614239521893,
       "options": [
        "attribution_control",
        "basemap",
        "bounce_at_zoom_limits",
        "box_zoom",
        "center",
        "close_popup_on_click",
        "double_click_zoom",
        "dragging",
        "inertia",
        "inertia_deceleration",
        "inertia_max_speed",
        "keyboard",
        "keyboard_pan_offset",
        "keyboard_zoom_offset",
        "max_zoom",
        "min_zoom",
        "scroll_wheel_zoom",
        "tap",
        "tap_tolerance",
        "touch_zoom",
        "world_copy_jump",
        "zoom",
        "zoom_animation_threshold",
        "zoom_control",
        "zoom_start"
       ],
       "south": 52.1340148869305,
       "west": -106.81268692016603,
       "zoom": 13
      }
     },
     "e0a92b6bd18f4d40b7f7d5a181a16a58": {
      "model_module": "@jupyter-widgets/base",
      "model_module_version": "1.0.0",
      "model_name": "LayoutModel",
      "state": {}
     },
     "e399a805c62c4691a1935aa85352ec75": {
      "model_module": "jupyter-leaflet",
      "model_module_version": "~0.7.3",
      "model_name": "LeafletMapModel",
      "state": {
       "_dom_classes": [],
       "_model_module_version": "~0.7.3",
       "_view_count": null,
       "_view_module_version": "~0.7.3",
       "basemap": {
        "attribution": "Map data (c) <a href=\"https://openstreetmap.org\">OpenStreetMap</a> contributors",
        "max_zoom": 19,
        "url": "https://{s}.tile.openstreetmap.org/{z}/{x}/{y}.png"
       },
       "center": [
        52.1436788847649,
        -106.543991598223
       ],
       "east": -106.4597511291504,
       "layers": [
        "IPY_MODEL_3f526c7d0e6349a09db54f4011bbe277"
       ],
       "layout": "IPY_MODEL_4a46da7588b04833ba8efb45c8b72d8a",
       "modisdate": "yesterday",
       "north": 52.16477189685263,
       "options": [
        "attribution_control",
        "basemap",
        "bounce_at_zoom_limits",
        "box_zoom",
        "center",
        "close_popup_on_click",
        "double_click_zoom",
        "dragging",
        "inertia",
        "inertia_deceleration",
        "inertia_max_speed",
        "keyboard",
        "keyboard_pan_offset",
        "keyboard_zoom_offset",
        "max_zoom",
        "min_zoom",
        "scroll_wheel_zoom",
        "tap",
        "tap_tolerance",
        "touch_zoom",
        "world_copy_jump",
        "zoom",
        "zoom_animation_threshold",
        "zoom_control",
        "zoom_start"
       ],
       "south": 52.12263362367837,
       "west": -106.62815093994142,
       "zoom": 13
      }
     },
     "e59d235c89a140b98bdda5ff559a5e84": {
      "model_module": "@jupyter-widgets/base",
      "model_module_version": "1.0.0",
      "model_name": "LayoutModel",
      "state": {}
     },
     "e64c8ff4119a4d858120ee42cc07a0e5": {
      "model_module": "jupyter-leaflet",
      "model_module_version": "~0.7.3",
      "model_name": "LeafletTileLayerModel",
      "state": {
       "_model_module_version": "~0.7.3",
       "_view_count": null,
       "_view_module_version": "~0.7.3",
       "base": true,
       "max_zoom": 19,
       "min_zoom": 1,
       "options": [
        "attribution",
        "detect_retina",
        "max_zoom",
        "min_zoom",
        "tile_size"
       ]
      }
     },
     "e6ca969929e849599a7a86d30610ebd7": {
      "model_module": "jupyter-leaflet",
      "model_module_version": "~0.7.3",
      "model_name": "LeafletMapModel",
      "state": {
       "_dom_classes": [],
       "_model_module_version": "~0.7.3",
       "_view_count": null,
       "_view_module_version": "~0.7.3",
       "basemap": {
        "attribution": "Map data (c) <a href=\"https://openstreetmap.org\">OpenStreetMap</a> contributors",
        "max_zoom": 19,
        "url": "https://{s}.tile.openstreetmap.org/{z}/{x}/{y}.png"
       },
       "center": [
        52.1436788847649,
        -106.543991598223
       ],
       "east": -106.4597511291504,
       "layers": [
        "IPY_MODEL_2c48877d5ce84c6bac995c384765f352"
       ],
       "layout": "IPY_MODEL_f185385be4cc45319ccc1fef35889188",
       "modisdate": "yesterday",
       "north": 52.16477189685263,
       "options": [
        "attribution_control",
        "basemap",
        "bounce_at_zoom_limits",
        "box_zoom",
        "center",
        "close_popup_on_click",
        "double_click_zoom",
        "dragging",
        "inertia",
        "inertia_deceleration",
        "inertia_max_speed",
        "keyboard",
        "keyboard_pan_offset",
        "keyboard_zoom_offset",
        "max_zoom",
        "min_zoom",
        "scroll_wheel_zoom",
        "tap",
        "tap_tolerance",
        "touch_zoom",
        "world_copy_jump",
        "zoom",
        "zoom_animation_threshold",
        "zoom_control",
        "zoom_start"
       ],
       "south": 52.12263362367837,
       "west": -106.62815093994142,
       "zoom": 13
      }
     },
     "e95b25f1a28949aa999ceb291d149ebb": {
      "model_module": "jupyter-leaflet",
      "model_module_version": "~0.7.3",
      "model_name": "LeafletMapModel",
      "state": {
       "_dom_classes": [],
       "_model_module_version": "~0.7.3",
       "_view_count": null,
       "_view_module_version": "~0.7.3",
       "basemap": {
        "attribution": "Map data (c) <a href=\"https://openstreetmap.org\">OpenStreetMap</a> contributors",
        "max_zoom": 19,
        "url": "https://{s}.tile.openstreetmap.org/{z}/{x}/{y}.png"
       },
       "center": [
        52.1436788847649,
        -106.543991598223
       ],
       "east": -106.4597511291504,
       "layers": [
        "IPY_MODEL_b6c897245e3442dca04314e60710c649"
       ],
       "layout": "IPY_MODEL_914b236c63bc48d7934a01daddf98ad4",
       "modisdate": "yesterday",
       "north": 52.16477189685263,
       "options": [
        "attribution_control",
        "basemap",
        "bounce_at_zoom_limits",
        "box_zoom",
        "center",
        "close_popup_on_click",
        "double_click_zoom",
        "dragging",
        "inertia",
        "inertia_deceleration",
        "inertia_max_speed",
        "keyboard",
        "keyboard_pan_offset",
        "keyboard_zoom_offset",
        "max_zoom",
        "min_zoom",
        "scroll_wheel_zoom",
        "tap",
        "tap_tolerance",
        "touch_zoom",
        "world_copy_jump",
        "zoom",
        "zoom_animation_threshold",
        "zoom_control",
        "zoom_start"
       ],
       "south": 52.12263362367837,
       "west": -106.62815093994142,
       "zoom": 13
      }
     },
     "ed8eec28f31042a8b75d6906861559e1": {
      "model_module": "@jupyter-widgets/base",
      "model_module_version": "1.0.0",
      "model_name": "LayoutModel",
      "state": {}
     },
     "ee08c09a7fab48888aa1f1510441d191": {
      "model_module": "@jupyter-widgets/base",
      "model_module_version": "1.0.0",
      "model_name": "LayoutModel",
      "state": {}
     },
     "f185385be4cc45319ccc1fef35889188": {
      "model_module": "@jupyter-widgets/base",
      "model_module_version": "1.0.0",
      "model_name": "LayoutModel",
      "state": {}
     },
     "f2b62e7dd8eb42adaeb63b9d7fe14a93": {
      "model_module": "@jupyter-widgets/base",
      "model_module_version": "1.0.0",
      "model_name": "LayoutModel",
      "state": {}
     },
     "f57ad4c533bd4d35912f249cc4d0e664": {
      "model_module": "jupyter-leaflet",
      "model_module_version": "~0.7.3",
      "model_name": "LeafletMapModel",
      "state": {
       "_dom_classes": [],
       "_model_module_version": "~0.7.3",
       "_view_count": null,
       "_view_module_version": "~0.7.3",
       "basemap": {
        "attribution": "Map data (c) <a href=\"https://openstreetmap.org\">OpenStreetMap</a> contributors",
        "max_zoom": 19,
        "url": "https://{s}.tile.openstreetmap.org/{z}/{x}/{y}.png"
       },
       "center": [
        52.1343500227328,
        -106.634421371724
       ],
       "east": -106.46610260009767,
       "layers": [
        "IPY_MODEL_93b35768942c48f1a749ac0500b680c5"
       ],
       "layout": "IPY_MODEL_42af969940b24fefb3af9f4afaa88560",
       "modisdate": "yesterday",
       "north": 52.176458200914624,
       "options": [
        "attribution_control",
        "basemap",
        "bounce_at_zoom_limits",
        "box_zoom",
        "center",
        "close_popup_on_click",
        "double_click_zoom",
        "dragging",
        "inertia",
        "inertia_deceleration",
        "inertia_max_speed",
        "keyboard",
        "keyboard_pan_offset",
        "keyboard_zoom_offset",
        "max_zoom",
        "min_zoom",
        "scroll_wheel_zoom",
        "tap",
        "tap_tolerance",
        "touch_zoom",
        "world_copy_jump",
        "zoom",
        "zoom_animation_threshold",
        "zoom_control",
        "zoom_start"
       ],
       "south": 52.092163907072816,
       "west": -106.8029022216797
      }
     },
     "fa53b2aba0ca48be8f258da5275e50d7": {
      "model_module": "jupyter-leaflet",
      "model_module_version": "~0.7.3",
      "model_name": "LeafletTileLayerModel",
      "state": {
       "_model_module_version": "~0.7.3",
       "_view_count": null,
       "_view_module_version": "~0.7.3",
       "base": true,
       "max_zoom": 19,
       "min_zoom": 1,
       "options": [
        "attribution",
        "detect_retina",
        "max_zoom",
        "min_zoom",
        "tile_size"
       ]
      }
     },
     "fc83bed092484db896cddf1e2c6f0a7d": {
      "model_module": "@jupyter-widgets/base",
      "model_module_version": "1.0.0",
      "model_name": "LayoutModel",
      "state": {}
     },
     "feba7235c0dc45ad8bfe9d19943ac23a": {
      "model_module": "jupyter-leaflet",
      "model_module_version": "~0.7.3",
      "model_name": "LeafletMapModel",
      "state": {
       "_dom_classes": [],
       "_model_module_version": "~0.7.3",
       "_view_count": null,
       "_view_module_version": "~0.7.3",
       "basemap": {
        "attribution": "Map data (c) <a href=\"https://openstreetmap.org\">OpenStreetMap</a> contributors",
        "max_zoom": 19,
        "url": "https://{s}.tile.openstreetmap.org/{z}/{x}/{y}.png"
       },
       "center": [
        52.1436788847649,
        -106.543991598223
       ],
       "east": -106.4597511291504,
       "layers": [
        "IPY_MODEL_02799fe027a54b65ad05717e53e854af"
       ],
       "layout": "IPY_MODEL_2f30339df45a4af9adaeb09918666ca3",
       "modisdate": "yesterday",
       "north": 52.16477189685263,
       "options": [
        "attribution_control",
        "basemap",
        "bounce_at_zoom_limits",
        "box_zoom",
        "center",
        "close_popup_on_click",
        "double_click_zoom",
        "dragging",
        "inertia",
        "inertia_deceleration",
        "inertia_max_speed",
        "keyboard",
        "keyboard_pan_offset",
        "keyboard_zoom_offset",
        "max_zoom",
        "min_zoom",
        "scroll_wheel_zoom",
        "tap",
        "tap_tolerance",
        "touch_zoom",
        "world_copy_jump",
        "zoom",
        "zoom_animation_threshold",
        "zoom_control",
        "zoom_start"
       ],
       "south": 52.12263362367837,
       "west": -106.62815093994142,
       "zoom": 13
      }
     }
    },
    "version_major": 2,
    "version_minor": 0
   }
  }
 },
 "nbformat": 4,
 "nbformat_minor": 2
}
