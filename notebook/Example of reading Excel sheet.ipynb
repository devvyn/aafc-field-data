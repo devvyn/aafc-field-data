{
 "cells": [
  {
   "cell_type": "code",
   "execution_count": 1,
   "metadata": {},
   "outputs": [],
   "source": [
    "import pandas as pd"
   ]
  },
  {
   "cell_type": "code",
   "execution_count": 2,
   "metadata": {},
   "outputs": [],
   "source": [
    "data_file = pd.ExcelFile('./src/real data/2017 CAM data from iPads/2017 CAM data from iPads.xlsx')"
   ]
  },
  {
   "cell_type": "code",
   "execution_count": 3,
   "metadata": {},
   "outputs": [
    {
     "data": {
      "text/plain": [
       "['2017 CAM data Erl',\n",
       " 'schema (WIP reverse engineer)',\n",
       " '2017 CAM iPad data Tyler',\n",
       " 'Combined iPad 2017 CAM data']"
      ]
     },
     "execution_count": 3,
     "metadata": {},
     "output_type": "execute_result"
    }
   ],
   "source": [
    "data_file.sheet_names"
   ]
  },
  {
   "cell_type": "code",
   "execution_count": 4,
   "metadata": {},
   "outputs": [],
   "source": [
    "# read the data from one of the sheets into a dataframe\n",
    "cam_combo_df = data_file.parse('2017 CAM data Erl')"
   ]
  },
  {
   "cell_type": "code",
   "execution_count": 5,
   "metadata": {},
   "outputs": [
    {
     "name": "stdout",
     "output_type": "stream",
     "text": [
      "<class 'pandas.core.frame.DataFrame'>\n",
      "RangeIndex: 910 entries, 0 to 909\n",
      "Data columns (total 50 columns):\n",
      "fields__client__company                                             8 non-null object\n",
      "fields__client__name                                                8 non-null object\n",
      "fields__client__fname                                               8 non-null object\n",
      "fields__client__lname                                               8 non-null object\n",
      "fields__client__displayText                                         8 non-null object\n",
      "fields__name                                                        8 non-null object\n",
      "fields__crop                                                        8 non-null object\n",
      "fields__desc                                                        7 non-null object\n",
      "fields__image                                                       8 non-null object\n",
      "fields__date                                                        8 non-null object\n",
      "fields__oSets__date                                                 9 non-null object\n",
      "fields__oSets__dateCompare                                          9 non-null datetime64[ns]\n",
      "fields__oSets__growthStage Zadoks                                   9 non-null float64\n",
      "fields__oSets__desc                                                 0 non-null float64\n",
      "fields__oSets__obsName                                              9 non-null object\n",
      "fields__oSets__totalSets                                            9 non-null float64\n",
      "fields__oSets__completeSets                                         9 non-null float64\n",
      "fields__oSets__results                                              8 non-null object\n",
      "fields__oSets__oPoints__id                                          65 non-null float64\n",
      "fields__oSets__oPoints__name                                        65 non-null object\n",
      "fields__oSets__oPoints__observations__id                            390 non-null float64\n",
      "fields__oSets__oPoints__observations__name                          390 non-null object\n",
      "fields__oSets__oPoints__observations__enum                          65 non-null float64\n",
      "fields__oSets__oPoints__observations__eVnum Natural enemy totals    65 non-null float64\n",
      "fields__oSets__oPoints__observations__anum TotalAPhids              325 non-null float64\n",
      "fields__oSets__oPoints__observations__a1__number EGA                124 non-null float64\n",
      "fields__oSets__oPoints__observations__a2__number BCO                30 non-null float64\n",
      "fields__oSets__oPoints__observations__a3__number Greenbug           0 non-null float64\n",
      "fields__oSets__oPoints__observations__disabled                      0 non-null float64\n",
      "fields__oSets__oPoints__observations__complete                      365 non-null float64\n",
      "fields__oSets__oPoints__observations__|                             585 non-null object\n",
      "fields__oSets__oPoints__observations__|__number                     52 non-null float64\n",
      "fields__oSets__oPoints__location__coords__latitude                  56 non-null float64\n",
      "fields__oSets__oPoints__location__coords__longitude                 56 non-null float64\n",
      "fields__oSets__oPoints__location__coords__accuracy                  56 non-null float64\n",
      "fields__oSets__oPoints__location__coords__altitude                  56 non-null float64\n",
      "fields__oSets__oPoints__location__coords__heading                   56 non-null float64\n",
      "fields__oSets__oPoints__location__coords__speed                     56 non-null float64\n",
      "fields__oSets__oPoints__location__coords__altitudeAccuracy          56 non-null float64\n",
      "fields__oSets__oPoints__location__timestamp                         56 non-null float64\n",
      "fields__oSets__totalA1                                              8 non-null float64\n",
      "fields__oSets__totalA2                                              8 non-null float64\n",
      "fields__oSets__totalA3                                              8 non-null float64\n",
      "fields__oSets__totalA4                                              8 non-null float64\n",
      "clients__company                                                    0 non-null float64\n",
      "clients__name                                                       0 non-null float64\n",
      "clients__fname                                                      0 non-null float64\n",
      "clients__lname                                                      0 non-null float64\n",
      "clients__displayText                                                0 non-null float64\n",
      "observers                                                           0 non-null float64\n",
      "dtypes: datetime64[ns](1), float64(33), object(16)\n",
      "memory usage: 355.5+ KB\n"
     ]
    }
   ],
   "source": [
    "# what's the general structure of the sheet?\n",
    "cam_combo_df.info()"
   ]
  },
  {
   "cell_type": "code",
   "execution_count": 6,
   "metadata": {},
   "outputs": [
    {
     "data": {
      "text/plain": [
       "0    2017-08-02T13:12:09.542\n",
       "1    2017-08-09T09:25:11.710\n",
       "2    2017-08-09T10:06:25.480\n",
       "3    2017-08-09T11:21:01.555\n",
       "4    2017-08-09T11:37:20.862\n",
       "5    2017-08-17T11:12:02.820\n",
       "6    2017-08-17T13:06:30.183\n",
       "7    2017-08-22T15:42:05.751\n",
       "8    2017-08-22T16:02:50.682\n",
       "9                        NaN\n",
       "dtype: object"
      ]
     },
     "execution_count": 6,
     "metadata": {},
     "output_type": "execute_result"
    }
   ],
   "source": [
    "# If I want to read data from the \"fields__oSets__date\" column, will it work?\n",
    "pd.Series(cam_combo_df.fields__oSets__date.sort_values().unique())"
   ]
  },
  {
   "cell_type": "code",
   "execution_count": 7,
   "metadata": {},
   "outputs": [
    {
     "data": {
      "text/html": [
       "<div>\n",
       "<style scoped>\n",
       "    .dataframe tbody tr th:only-of-type {\n",
       "        vertical-align: middle;\n",
       "    }\n",
       "\n",
       "    .dataframe tbody tr th {\n",
       "        vertical-align: top;\n",
       "    }\n",
       "\n",
       "    .dataframe thead th {\n",
       "        text-align: right;\n",
       "    }\n",
       "</style>\n",
       "<table border=\"1\" class=\"dataframe\">\n",
       "  <thead>\n",
       "    <tr style=\"text-align: right;\">\n",
       "      <th></th>\n",
       "      <th>fields__oSets__oPoints__location__coords__latitude</th>\n",
       "      <th>fields__oSets__oPoints__location__coords__longitude</th>\n",
       "    </tr>\n",
       "  </thead>\n",
       "  <tbody>\n",
       "    <tr>\n",
       "      <th>350</th>\n",
       "      <td>52.155109</td>\n",
       "      <td>-106.728488</td>\n",
       "    </tr>\n",
       "    <tr>\n",
       "      <th>84</th>\n",
       "      <td>52.134350</td>\n",
       "      <td>-106.634421</td>\n",
       "    </tr>\n",
       "    <tr>\n",
       "      <th>490</th>\n",
       "      <td>52.143679</td>\n",
       "      <td>-106.543992</td>\n",
       "    </tr>\n",
       "  </tbody>\n",
       "</table>\n",
       "</div>"
      ],
      "text/plain": [
       "     fields__oSets__oPoints__location__coords__latitude  \\\n",
       "350                                          52.155109    \n",
       "84                                           52.134350    \n",
       "490                                          52.143679    \n",
       "\n",
       "     fields__oSets__oPoints__location__coords__longitude  \n",
       "350                                        -106.728488    \n",
       "84                                         -106.634421    \n",
       "490                                        -106.543992    "
      ]
     },
     "metadata": {},
     "output_type": "display_data"
    }
   ],
   "source": [
    "# make the really long column names easier to reference\n",
    "lat_col, long_col = ('fields__oSets__oPoints__location__coords__latitude',\n",
    "                     'fields__oSets__oPoints__location__coords__longitude')\n",
    "\n",
    "# focus on just those two columns from the dataframe\n",
    "coords = cam_combo_df[[lat_col, long_col]]\n",
    "\n",
    "# pick only the rows with extreme coordinates, just for the sake of variety\n",
    "map_centers = coords.loc[[\n",
    "    coords[lat_col].idxmax(),\n",
    "    coords[long_col].idxmin(),\n",
    "    coords[lat_col].idxmin(),\n",
    "    coords[long_col].idxmax(),\n",
    "]].drop_duplicates()\n",
    "\n",
    "# view at the chosen coordinates values\n",
    "display(map_centers)\n"
   ]
  },
  {
   "cell_type": "code",
   "execution_count": 8,
   "metadata": {
    "scrolled": false
   },
   "outputs": [
    {
     "data": {
      "application/vnd.jupyter.widget-view+json": {
       "model_id": "08e75726f41a4a83a6b0618fe42d72c8",
       "version_major": 2,
       "version_minor": 0
      },
      "text/plain": [
       "Map(basemap={'url': 'https://{s}.tile.openstreetmap.org/{z}/{x}/{y}.png', 'max_zoom': 19, 'attribution': 'Map …"
      ]
     },
     "metadata": {},
     "output_type": "display_data"
    },
    {
     "data": {
      "application/vnd.jupyter.widget-view+json": {
       "model_id": "8443e06d895a48728d80ca98d9709370",
       "version_major": 2,
       "version_minor": 0
      },
      "text/plain": [
       "Map(basemap={'url': 'https://{s}.tile.openstreetmap.org/{z}/{x}/{y}.png', 'max_zoom': 19, 'attribution': 'Map …"
      ]
     },
     "metadata": {},
     "output_type": "display_data"
    },
    {
     "data": {
      "application/vnd.jupyter.widget-view+json": {
       "model_id": "9d2c81003758472abb2ca3f979201718",
       "version_major": 2,
       "version_minor": 0
      },
      "text/plain": [
       "Map(basemap={'url': 'https://{s}.tile.openstreetmap.org/{z}/{x}/{y}.png', 'max_zoom': 19, 'attribution': 'Map …"
      ]
     },
     "metadata": {},
     "output_type": "display_data"
    }
   ],
   "source": [
    "from ipyleaflet import Map\n",
    "\n",
    "# display a map for each coordinate set\n",
    "for index, map_center in map_centers.iterrows():\n",
    "    display(Map(center=map_center.values.tolist(), zoom=12))"
   ]
  }
 ],
 "metadata": {
  "kernelspec": {
   "display_name": "Python 3",
   "language": "python",
   "name": "python3"
  },
  "language_info": {
   "codemirror_mode": {
    "name": "ipython",
    "version": 3
   },
   "file_extension": ".py",
   "mimetype": "text/x-python",
   "name": "python",
   "nbconvert_exporter": "python",
   "pygments_lexer": "ipython3",
   "version": "3.6.4"
  }
 },
 "nbformat": 4,
 "nbformat_minor": 2
}
