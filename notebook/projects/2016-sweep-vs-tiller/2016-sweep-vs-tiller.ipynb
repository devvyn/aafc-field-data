{
 "cells": [
  {
   "cell_type": "markdown",
   "metadata": {},
   "source": [
    "# Objective"
   ]
  },
  {
   "cell_type": "markdown",
   "metadata": {},
   "source": [
    "- Answer the question:\n",
    "  * What is the relationship between observations recorded as \"head counts\" and those recorded as \"sweeps\"?\n",
    "- Document the process of finding the answer so that the exact steps are replicable and clearly demonstrated here."
   ]
  },
  {
   "cell_type": "markdown",
   "metadata": {},
   "source": [
    "## Background"
   ]
  },
  {
   "cell_type": "markdown",
   "metadata": {},
   "source": [
    "![\"Perfectly straight line in graph comparing supposedly independent variables in Head Count and Sweeps workbook, in Excel Online\"](head-count-sweeps-graph-excel-online.png)"
   ]
  },
  {
   "cell_type": "markdown",
   "metadata": {},
   "source": [
    "I'm troubleshooting a spreadsheet document that was prepared by someone else. Whoever prepared it probably handed it off to someone else before I came into contact. The information in the document looks like it's been copied from other documents which I'm not certain I have access to.\n",
    "\n",
    "In this document, there's a graph that demonstrates the goal of the document: to compare the relationship between two observation methods. Unfortunately, the graph shows a suspicious degree of idealness: a perfect one-to-one ratio across the entire domain.\n",
    "\n",
    "My assignment is to trace the error and correct the graph so that it displays the precise ratios calculated from appropriate samples.\n",
    "\n",
    "Other issues:\n",
    "\n",
    "- No metadata\n",
    "- No naming convention for categorical labels\n",
    "- Mixed aggregation levels"
   ]
  },
  {
   "cell_type": "markdown",
   "metadata": {},
   "source": [
    "## Expected Results"
   ]
  },
  {
   "cell_type": "markdown",
   "metadata": {},
   "source": [
    "- Upon plotting the ratio of numbers of specimens by each of two collection methods, the graph should suggest a trend that is not perfectly linear.\n",
    "- Category labels have no redundancy.\n",
    "- Sample numeric values, when summed by groups based on common indices, suffer no effects of redundancy.\n",
    "- Uniform level of aggregation across all sample numeric values.\n",
    "- Data is clean and indexed well enough to align with similar data in other documents (allowing detection of redundancy amongst many sample sets)."
   ]
  },
  {
   "cell_type": "markdown",
   "metadata": {},
   "source": [
    "# Procedure"
   ]
  },
  {
   "cell_type": "markdown",
   "metadata": {},
   "source": [
    "## Setup"
   ]
  },
  {
   "cell_type": "markdown",
   "metadata": {},
   "source": [
    "* Document handling and analysis will be conducted in [Jupyter] Notebook/Lab, using [Python] 3.\n",
    "* Microsoft [Office] Excel Online will be used to create and embed a graph. The offline version would also suffice.\n",
    "* To setup a live workspace, consult the [README] for the home project comprising this document and its associated files.\n",
    "* If your live workspace doesn't include it, [install _pandas_] before continuing. The commonly recommended way to do this is with `pip install pandas`. (If you're using [Anaconda], you probably already have _pandas_.)\n",
    "\n",
    "[Anaconda]: http://docs.continuum.io/anaconda/\n",
    "[Jupyter]: https://jupyter.org/\n",
    "[Office]: https://www.office.com/\n",
    "[Python]: https://www.python.org/about/\n",
    "[README]: https://github.com/devvyn/aafc-field-data/blob/master/README.md\n",
    "[install _pandas_]: https://pandas.pydata.org/pandas-docs/stable/install.html"
   ]
  },
  {
   "cell_type": "markdown",
   "metadata": {},
   "source": [
    "### Install Required Python Packages"
   ]
  },
  {
   "cell_type": "markdown",
   "metadata": {},
   "source": [
    "Within Jupyter notebook:\n",
    "\n",
    "```\n",
    "!pip install pandas markdown\n",
    "```\n",
    "\n",
    "From a terminal to the notebook host:\n",
    "\n",
    "```\n",
    "pip install pandas markdown\n",
    "```"
   ]
  },
  {
   "cell_type": "markdown",
   "metadata": {},
   "source": [
    "### Import Python's Regular Expression Library"
   ]
  },
  {
   "cell_type": "markdown",
   "metadata": {},
   "source": [
    "From time to time during this project, I'll be matching patterns of text in order to correct for variations in identifiers."
   ]
  },
  {
   "cell_type": "code",
   "execution_count": 2,
   "metadata": {},
   "outputs": [],
   "source": [
    "import re"
   ]
  },
  {
   "cell_type": "markdown",
   "metadata": {},
   "source": [
    "### Import the `pandas` Library"
   ]
  },
  {
   "cell_type": "code",
   "execution_count": 3,
   "metadata": {},
   "outputs": [],
   "source": [
    "import pandas"
   ]
  },
  {
   "cell_type": "markdown",
   "metadata": {},
   "source": [
    "### Import markdown and HTML"
   ]
  },
  {
   "cell_type": "code",
   "execution_count": 4,
   "metadata": {},
   "outputs": [],
   "source": [
    "from markdown import markdown\n",
    "from IPython.display import HTML"
   ]
  },
  {
   "cell_type": "markdown",
   "metadata": {},
   "source": [
    "## Input Data"
   ]
  },
  {
   "cell_type": "markdown",
   "metadata": {},
   "source": [
    "Direct access to [`2016-sweep-vs-tiller.xlsx`][file] is required in the live workspace. [Download][file] from GitHub if you're following along without cloning the source [repository].\n",
    "\n",
    "[repository]: https://github.com/devvyn/aafc-field-data/\n",
    "[file]: https://github.com/devvyn/aafc-field-data/blob/master/notebook/projects/2016-sweep-vs-tiller/2016-sweep-vs-tiller.xlsx"
   ]
  },
  {
   "cell_type": "markdown",
   "metadata": {},
   "source": [
    "I'll make a dictionary of names and data frames, so I can examine the file overall."
   ]
  },
  {
   "cell_type": "code",
   "execution_count": 5,
   "metadata": {},
   "outputs": [],
   "source": [
    "data_file = pandas.ExcelFile('2016-sweep-vs-tiller.xlsx')\n",
    "sheets = {\n",
    "    sheet_name: data_file.parse(sheet_name)\n",
    "    for sheet_name in data_file.sheet_names\n",
    "}"
   ]
  },
  {
   "cell_type": "markdown",
   "metadata": {},
   "source": [
    "### Explore Worksheets"
   ]
  },
  {
   "cell_type": "markdown",
   "metadata": {},
   "source": [
    "#### Two Sources of Observational Data"
   ]
  },
  {
   "cell_type": "markdown",
   "metadata": {},
   "source": [
    "Data sets to compare:\n",
    "\n",
    "* \"cereal sweeps\" or just \"sweeps\"\n",
    "* \"head counts\" or \"tillers\""
   ]
  },
  {
   "cell_type": "markdown",
   "metadata": {},
   "source": [
    "#### Unbelievable Graph"
   ]
  },
  {
   "cell_type": "markdown",
   "metadata": {},
   "source": [
    "- There's a graph in a worksheet called \"head counts vs sweeps graphs\" which demonstrates the analytical problem encountered/developed by someone else.\n",
    "- The data supposedly being compared in the graph is cannot be the data that was intended for comparison because the ratio depicted is perfectly linear even though it's comparing real world samples."
   ]
  },
  {
   "cell_type": "markdown",
   "metadata": {},
   "source": [
    "#### Lack of Spreadsheet Formulas"
   ]
  },
  {
   "cell_type": "markdown",
   "metadata": {},
   "source": [
    "It's clear that the Excel workbook has the results of many calculations, yet there are no formula cells. In order to check the accuracy of the calculations, I need to replicate them from scratch."
   ]
  },
  {
   "cell_type": "markdown",
   "metadata": {},
   "source": [
    "#### Ambiguously Duplicated Data"
   ]
  },
  {
   "cell_type": "markdown",
   "metadata": {},
   "source": [
    "When I opened the workbook in Excel Online, what I saw gave me these impressions:\n",
    "\n",
    "- Data may have been copied from multiple, unidentified sources.\n",
    "- It's not clear which data is \"original\" and which is duplicated, amongst the worksheets in the workbook.\n",
    "- Multiple editors have made changes or additions to the workbook, and nobody left notes."
   ]
  },
  {
   "cell_type": "markdown",
   "metadata": {},
   "source": [
    "#### Compare Columns"
   ]
  },
  {
   "cell_type": "markdown",
   "metadata": {},
   "source": [
    "To discern which data is original, I'll begin by listing the columns of all sheets, which will offer some descriptive terms for the data in each:"
   ]
  },
  {
   "cell_type": "code",
   "execution_count": 6,
   "metadata": {},
   "outputs": [
    {
     "data": {
      "text/html": [
       "<div>\n",
       "<style scoped>\n",
       "    .dataframe tbody tr th:only-of-type {\n",
       "        vertical-align: middle;\n",
       "    }\n",
       "\n",
       "    .dataframe tbody tr th {\n",
       "        vertical-align: top;\n",
       "    }\n",
       "\n",
       "    .dataframe thead th {\n",
       "        text-align: right;\n",
       "    }\n",
       "</style>\n",
       "<table border=\"1\" class=\"dataframe\">\n",
       "  <thead>\n",
       "    <tr style=\"text-align: right;\">\n",
       "      <th></th>\n",
       "      <th>0</th>\n",
       "      <th>1</th>\n",
       "      <th>2</th>\n",
       "      <th>3</th>\n",
       "      <th>4</th>\n",
       "      <th>5</th>\n",
       "      <th>6</th>\n",
       "      <th>7</th>\n",
       "      <th>8</th>\n",
       "      <th>9</th>\n",
       "      <th>...</th>\n",
       "      <th>134</th>\n",
       "      <th>135</th>\n",
       "      <th>136</th>\n",
       "      <th>137</th>\n",
       "      <th>138</th>\n",
       "      <th>139</th>\n",
       "      <th>140</th>\n",
       "      <th>141</th>\n",
       "      <th>142</th>\n",
       "      <th>143</th>\n",
       "    </tr>\n",
       "    <tr>\n",
       "      <th>Worksheet Name</th>\n",
       "      <th></th>\n",
       "      <th></th>\n",
       "      <th></th>\n",
       "      <th></th>\n",
       "      <th></th>\n",
       "      <th></th>\n",
       "      <th></th>\n",
       "      <th></th>\n",
       "      <th></th>\n",
       "      <th></th>\n",
       "      <th></th>\n",
       "      <th></th>\n",
       "      <th></th>\n",
       "      <th></th>\n",
       "      <th></th>\n",
       "      <th></th>\n",
       "      <th></th>\n",
       "      <th></th>\n",
       "      <th></th>\n",
       "      <th></th>\n",
       "      <th></th>\n",
       "    </tr>\n",
       "  </thead>\n",
       "  <tbody>\n",
       "    <tr>\n",
       "      <th>Head Counts</th>\n",
       "      <td>Site</td>\n",
       "      <td>Crop</td>\n",
       "      <td>Date</td>\n",
       "      <td>Field</td>\n",
       "      <td>Zadoks_stage</td>\n",
       "      <td>Tiller</td>\n",
       "      <td>EGA_head</td>\n",
       "      <td>EGA_leaf</td>\n",
       "      <td>BCO_head</td>\n",
       "      <td>BCO_leaf</td>\n",
       "      <td>...</td>\n",
       "      <td>None</td>\n",
       "      <td>None</td>\n",
       "      <td>None</td>\n",
       "      <td>None</td>\n",
       "      <td>None</td>\n",
       "      <td>None</td>\n",
       "      <td>None</td>\n",
       "      <td>None</td>\n",
       "      <td>None</td>\n",
       "      <td>None</td>\n",
       "    </tr>\n",
       "    <tr>\n",
       "      <th>Sheet2</th>\n",
       "      <td>ID</td>\n",
       "      <td>Province</td>\n",
       "      <td>Collection_Date</td>\n",
       "      <td>Sample_by_week</td>\n",
       "      <td>Date_by_week</td>\n",
       "      <td>Date</td>\n",
       "      <td>Julian_date</td>\n",
       "      <td>Site</td>\n",
       "      <td>Field_name</td>\n",
       "      <td>Crop</td>\n",
       "      <td>...</td>\n",
       "      <td>Hymenoptera_Figitidae</td>\n",
       "      <td>Hymenoptera_Aphelinidae</td>\n",
       "      <td>Hymenoptera_Perilampidae</td>\n",
       "      <td>Hymenoptera_Chalcidoidea</td>\n",
       "      <td>Hymenoptera_Ichneumondoidea</td>\n",
       "      <td>Hymenoptera_Proctotrupoidea</td>\n",
       "      <td>None</td>\n",
       "      <td>None</td>\n",
       "      <td>None</td>\n",
       "      <td>None</td>\n",
       "    </tr>\n",
       "    <tr>\n",
       "      <th>Sweep Samples Cereals</th>\n",
       "      <td>ID</td>\n",
       "      <td>Province</td>\n",
       "      <td>Collection_Date</td>\n",
       "      <td>Sample_by_week</td>\n",
       "      <td>Date_by_week</td>\n",
       "      <td>Date</td>\n",
       "      <td>Julian_date</td>\n",
       "      <td>Site</td>\n",
       "      <td>Field_name</td>\n",
       "      <td>Crop</td>\n",
       "      <td>...</td>\n",
       "      <td>Hymenoptera_Proctotrupidae</td>\n",
       "      <td>Hymenoptera_Pteromalidae</td>\n",
       "      <td>Hymenoptera_Apidae</td>\n",
       "      <td>Hymenoptera_Diplazontinae</td>\n",
       "      <td>Hymenoptera_Figitidae</td>\n",
       "      <td>Hymenoptera_Aphelinidae</td>\n",
       "      <td>Hymenoptera_Perilampidae</td>\n",
       "      <td>Hymenoptera_Chalcidoidea</td>\n",
       "      <td>Hymenoptera_Ichneumondoidea</td>\n",
       "      <td>Hymenoptera_Proctotrupoidea</td>\n",
       "    </tr>\n",
       "    <tr>\n",
       "      <th>Head Counts Edited</th>\n",
       "      <td>Date</td>\n",
       "      <td>Site</td>\n",
       "      <td>Crop</td>\n",
       "      <td>Field</td>\n",
       "      <td>Sample Type</td>\n",
       "      <td>Unnamed: 5</td>\n",
       "      <td>Zadoks_stage</td>\n",
       "      <td>Tiller</td>\n",
       "      <td>EGA_alate</td>\n",
       "      <td>EGA_apt</td>\n",
       "      <td>...</td>\n",
       "      <td>None</td>\n",
       "      <td>None</td>\n",
       "      <td>None</td>\n",
       "      <td>None</td>\n",
       "      <td>None</td>\n",
       "      <td>None</td>\n",
       "      <td>None</td>\n",
       "      <td>None</td>\n",
       "      <td>None</td>\n",
       "      <td>None</td>\n",
       "    </tr>\n",
       "    <tr>\n",
       "      <th>Sweep Samples Cereals Edited</th>\n",
       "      <td>Date</td>\n",
       "      <td>Site</td>\n",
       "      <td>Crop</td>\n",
       "      <td>Field_name</td>\n",
       "      <td>Sample Type</td>\n",
       "      <td>Total Sweeps</td>\n",
       "      <td>Unnamed: 6</td>\n",
       "      <td>Unnamed: 7</td>\n",
       "      <td>EGA_alate</td>\n",
       "      <td>EGA_apt</td>\n",
       "      <td>...</td>\n",
       "      <td>None</td>\n",
       "      <td>None</td>\n",
       "      <td>None</td>\n",
       "      <td>None</td>\n",
       "      <td>None</td>\n",
       "      <td>None</td>\n",
       "      <td>None</td>\n",
       "      <td>None</td>\n",
       "      <td>None</td>\n",
       "      <td>None</td>\n",
       "    </tr>\n",
       "    <tr>\n",
       "      <th>Data Sheets Combined</th>\n",
       "      <td>ID</td>\n",
       "      <td>Date</td>\n",
       "      <td>Site</td>\n",
       "      <td>Crop</td>\n",
       "      <td>Field_name</td>\n",
       "      <td>Sample Type</td>\n",
       "      <td>Total Sweeps</td>\n",
       "      <td>Zadoks_stage</td>\n",
       "      <td>Tiller</td>\n",
       "      <td>EGA_alate</td>\n",
       "      <td>...</td>\n",
       "      <td>None</td>\n",
       "      <td>None</td>\n",
       "      <td>None</td>\n",
       "      <td>None</td>\n",
       "      <td>None</td>\n",
       "      <td>None</td>\n",
       "      <td>None</td>\n",
       "      <td>None</td>\n",
       "      <td>None</td>\n",
       "      <td>None</td>\n",
       "    </tr>\n",
       "    <tr>\n",
       "      <th>Pivot chart LH phen</th>\n",
       "      <td>None</td>\n",
       "      <td>None</td>\n",
       "      <td>None</td>\n",
       "      <td>None</td>\n",
       "      <td>None</td>\n",
       "      <td>None</td>\n",
       "      <td>None</td>\n",
       "      <td>None</td>\n",
       "      <td>None</td>\n",
       "      <td>None</td>\n",
       "      <td>...</td>\n",
       "      <td>None</td>\n",
       "      <td>None</td>\n",
       "      <td>None</td>\n",
       "      <td>None</td>\n",
       "      <td>None</td>\n",
       "      <td>None</td>\n",
       "      <td>None</td>\n",
       "      <td>None</td>\n",
       "      <td>None</td>\n",
       "      <td>None</td>\n",
       "    </tr>\n",
       "    <tr>\n",
       "      <th>leafhoppers 2016 cereal sweeps</th>\n",
       "      <td>Collection_Date</td>\n",
       "      <td>Sample_by_week</td>\n",
       "      <td>Date_by_week</td>\n",
       "      <td>Date</td>\n",
       "      <td>Julian_date</td>\n",
       "      <td>Site</td>\n",
       "      <td>Field_name</td>\n",
       "      <td>Crop</td>\n",
       "      <td>Distance(m)</td>\n",
       "      <td>Number of Samples</td>\n",
       "      <td>...</td>\n",
       "      <td>None</td>\n",
       "      <td>None</td>\n",
       "      <td>None</td>\n",
       "      <td>None</td>\n",
       "      <td>None</td>\n",
       "      <td>None</td>\n",
       "      <td>None</td>\n",
       "      <td>None</td>\n",
       "      <td>None</td>\n",
       "      <td>None</td>\n",
       "    </tr>\n",
       "    <tr>\n",
       "      <th>Sheet3</th>\n",
       "      <td>None</td>\n",
       "      <td>None</td>\n",
       "      <td>None</td>\n",
       "      <td>None</td>\n",
       "      <td>None</td>\n",
       "      <td>None</td>\n",
       "      <td>None</td>\n",
       "      <td>None</td>\n",
       "      <td>None</td>\n",
       "      <td>None</td>\n",
       "      <td>...</td>\n",
       "      <td>None</td>\n",
       "      <td>None</td>\n",
       "      <td>None</td>\n",
       "      <td>None</td>\n",
       "      <td>None</td>\n",
       "      <td>None</td>\n",
       "      <td>None</td>\n",
       "      <td>None</td>\n",
       "      <td>None</td>\n",
       "      <td>None</td>\n",
       "    </tr>\n",
       "    <tr>\n",
       "      <th>aphid sweep vs head count</th>\n",
       "      <td>ID</td>\n",
       "      <td>Date</td>\n",
       "      <td>Site</td>\n",
       "      <td>Crop</td>\n",
       "      <td>Field_name</td>\n",
       "      <td>Sample Type</td>\n",
       "      <td>Total Sweeps</td>\n",
       "      <td>Zadoks_stage</td>\n",
       "      <td>Tiller</td>\n",
       "      <td>EGA_alate</td>\n",
       "      <td>...</td>\n",
       "      <td>None</td>\n",
       "      <td>None</td>\n",
       "      <td>None</td>\n",
       "      <td>None</td>\n",
       "      <td>None</td>\n",
       "      <td>None</td>\n",
       "      <td>None</td>\n",
       "      <td>None</td>\n",
       "      <td>None</td>\n",
       "      <td>None</td>\n",
       "    </tr>\n",
       "    <tr>\n",
       "      <th>head counts vs sweeps graphs</th>\n",
       "      <td>Total_aphids_sweep</td>\n",
       "      <td>Aphids/head</td>\n",
       "      <td>Unnamed: 2</td>\n",
       "      <td>Unnamed: 3</td>\n",
       "      <td>Unnamed: 4</td>\n",
       "      <td>Unnamed: 5</td>\n",
       "      <td>Unnamed: 6</td>\n",
       "      <td>Unnamed: 7</td>\n",
       "      <td>Unnamed: 8</td>\n",
       "      <td>Unnamed: 9</td>\n",
       "      <td>...</td>\n",
       "      <td>None</td>\n",
       "      <td>None</td>\n",
       "      <td>None</td>\n",
       "      <td>None</td>\n",
       "      <td>None</td>\n",
       "      <td>None</td>\n",
       "      <td>None</td>\n",
       "      <td>None</td>\n",
       "      <td>None</td>\n",
       "      <td>None</td>\n",
       "    </tr>\n",
       "  </tbody>\n",
       "</table>\n",
       "<p>11 rows × 144 columns</p>\n",
       "</div>"
      ],
      "text/plain": [
       "                                               0               1    \\\n",
       "Worksheet Name                                                       \n",
       "Head Counts                                   Site            Crop   \n",
       "Sheet2                                          ID        Province   \n",
       "Sweep Samples Cereals                           ID        Province   \n",
       "Head Counts Edited                            Date            Site   \n",
       "Sweep Samples Cereals Edited                  Date            Site   \n",
       "Data Sheets Combined                            ID            Date   \n",
       "Pivot chart LH phen                           None            None   \n",
       "leafhoppers 2016 cereal sweeps     Collection_Date  Sample_by_week   \n",
       "Sheet3                                        None            None   \n",
       "aphid sweep vs head count                       ID            Date   \n",
       "head counts vs sweeps graphs    Total_aphids_sweep     Aphids/head   \n",
       "\n",
       "                                            2               3             4    \\\n",
       "Worksheet Name                                                                  \n",
       "Head Counts                                Date           Field  Zadoks_stage   \n",
       "Sheet2                          Collection_Date  Sample_by_week  Date_by_week   \n",
       "Sweep Samples Cereals           Collection_Date  Sample_by_week  Date_by_week   \n",
       "Head Counts Edited                         Crop           Field   Sample Type   \n",
       "Sweep Samples Cereals Edited               Crop      Field_name   Sample Type   \n",
       "Data Sheets Combined                       Site            Crop    Field_name   \n",
       "Pivot chart LH phen                        None            None          None   \n",
       "leafhoppers 2016 cereal sweeps     Date_by_week            Date   Julian_date   \n",
       "Sheet3                                     None            None          None   \n",
       "aphid sweep vs head count                  Site            Crop    Field_name   \n",
       "head counts vs sweeps graphs         Unnamed: 2      Unnamed: 3    Unnamed: 4   \n",
       "\n",
       "                                         5             6             7    \\\n",
       "Worksheet Name                                                             \n",
       "Head Counts                           Tiller      EGA_head      EGA_leaf   \n",
       "Sheet2                                  Date   Julian_date          Site   \n",
       "Sweep Samples Cereals                   Date   Julian_date          Site   \n",
       "Head Counts Edited                Unnamed: 5  Zadoks_stage        Tiller   \n",
       "Sweep Samples Cereals Edited    Total Sweeps    Unnamed: 6    Unnamed: 7   \n",
       "Data Sheets Combined             Sample Type  Total Sweeps  Zadoks_stage   \n",
       "Pivot chart LH phen                     None          None          None   \n",
       "leafhoppers 2016 cereal sweeps          Site    Field_name          Crop   \n",
       "Sheet3                                  None          None          None   \n",
       "aphid sweep vs head count        Sample Type  Total Sweeps  Zadoks_stage   \n",
       "head counts vs sweeps graphs      Unnamed: 5    Unnamed: 6    Unnamed: 7   \n",
       "\n",
       "                                        8                  9    \\\n",
       "Worksheet Name                                                   \n",
       "Head Counts                        BCO_head           BCO_leaf   \n",
       "Sheet2                           Field_name               Crop   \n",
       "Sweep Samples Cereals            Field_name               Crop   \n",
       "Head Counts Edited                EGA_alate            EGA_apt   \n",
       "Sweep Samples Cereals Edited      EGA_alate            EGA_apt   \n",
       "Data Sheets Combined                 Tiller          EGA_alate   \n",
       "Pivot chart LH phen                    None               None   \n",
       "leafhoppers 2016 cereal sweeps  Distance(m)  Number of Samples   \n",
       "Sheet3                                 None               None   \n",
       "aphid sweep vs head count            Tiller          EGA_alate   \n",
       "head counts vs sweeps graphs     Unnamed: 8         Unnamed: 9   \n",
       "\n",
       "                                           ...               \\\n",
       "Worksheet Name                             ...                \n",
       "Head Counts                                ...                \n",
       "Sheet2                                     ...                \n",
       "Sweep Samples Cereals                      ...                \n",
       "Head Counts Edited                         ...                \n",
       "Sweep Samples Cereals Edited               ...                \n",
       "Data Sheets Combined                       ...                \n",
       "Pivot chart LH phen                        ...                \n",
       "leafhoppers 2016 cereal sweeps             ...                \n",
       "Sheet3                                     ...                \n",
       "aphid sweep vs head count                  ...                \n",
       "head counts vs sweeps graphs               ...                \n",
       "\n",
       "                                                       134  \\\n",
       "Worksheet Name                                               \n",
       "Head Counts                                           None   \n",
       "Sheet2                               Hymenoptera_Figitidae   \n",
       "Sweep Samples Cereals           Hymenoptera_Proctotrupidae   \n",
       "Head Counts Edited                                    None   \n",
       "Sweep Samples Cereals Edited                          None   \n",
       "Data Sheets Combined                                  None   \n",
       "Pivot chart LH phen                                   None   \n",
       "leafhoppers 2016 cereal sweeps                        None   \n",
       "Sheet3                                                None   \n",
       "aphid sweep vs head count                             None   \n",
       "head counts vs sweeps graphs                          None   \n",
       "\n",
       "                                                     135  \\\n",
       "Worksheet Name                                             \n",
       "Head Counts                                         None   \n",
       "Sheet2                           Hymenoptera_Aphelinidae   \n",
       "Sweep Samples Cereals           Hymenoptera_Pteromalidae   \n",
       "Head Counts Edited                                  None   \n",
       "Sweep Samples Cereals Edited                        None   \n",
       "Data Sheets Combined                                None   \n",
       "Pivot chart LH phen                                 None   \n",
       "leafhoppers 2016 cereal sweeps                      None   \n",
       "Sheet3                                              None   \n",
       "aphid sweep vs head count                           None   \n",
       "head counts vs sweeps graphs                        None   \n",
       "\n",
       "                                                     136  \\\n",
       "Worksheet Name                                             \n",
       "Head Counts                                         None   \n",
       "Sheet2                          Hymenoptera_Perilampidae   \n",
       "Sweep Samples Cereals                 Hymenoptera_Apidae   \n",
       "Head Counts Edited                                  None   \n",
       "Sweep Samples Cereals Edited                        None   \n",
       "Data Sheets Combined                                None   \n",
       "Pivot chart LH phen                                 None   \n",
       "leafhoppers 2016 cereal sweeps                      None   \n",
       "Sheet3                                              None   \n",
       "aphid sweep vs head count                           None   \n",
       "head counts vs sweeps graphs                        None   \n",
       "\n",
       "                                                      137  \\\n",
       "Worksheet Name                                              \n",
       "Head Counts                                          None   \n",
       "Sheet2                           Hymenoptera_Chalcidoidea   \n",
       "Sweep Samples Cereals           Hymenoptera_Diplazontinae   \n",
       "Head Counts Edited                                   None   \n",
       "Sweep Samples Cereals Edited                         None   \n",
       "Data Sheets Combined                                 None   \n",
       "Pivot chart LH phen                                  None   \n",
       "leafhoppers 2016 cereal sweeps                       None   \n",
       "Sheet3                                               None   \n",
       "aphid sweep vs head count                            None   \n",
       "head counts vs sweeps graphs                         None   \n",
       "\n",
       "                                                        138  \\\n",
       "Worksheet Name                                                \n",
       "Head Counts                                            None   \n",
       "Sheet2                          Hymenoptera_Ichneumondoidea   \n",
       "Sweep Samples Cereals                 Hymenoptera_Figitidae   \n",
       "Head Counts Edited                                     None   \n",
       "Sweep Samples Cereals Edited                           None   \n",
       "Data Sheets Combined                                   None   \n",
       "Pivot chart LH phen                                    None   \n",
       "leafhoppers 2016 cereal sweeps                         None   \n",
       "Sheet3                                                 None   \n",
       "aphid sweep vs head count                              None   \n",
       "head counts vs sweeps graphs                           None   \n",
       "\n",
       "                                                        139  \\\n",
       "Worksheet Name                                                \n",
       "Head Counts                                            None   \n",
       "Sheet2                          Hymenoptera_Proctotrupoidea   \n",
       "Sweep Samples Cereals               Hymenoptera_Aphelinidae   \n",
       "Head Counts Edited                                     None   \n",
       "Sweep Samples Cereals Edited                           None   \n",
       "Data Sheets Combined                                   None   \n",
       "Pivot chart LH phen                                    None   \n",
       "leafhoppers 2016 cereal sweeps                         None   \n",
       "Sheet3                                                 None   \n",
       "aphid sweep vs head count                              None   \n",
       "head counts vs sweeps graphs                           None   \n",
       "\n",
       "                                                     140  \\\n",
       "Worksheet Name                                             \n",
       "Head Counts                                         None   \n",
       "Sheet2                                              None   \n",
       "Sweep Samples Cereals           Hymenoptera_Perilampidae   \n",
       "Head Counts Edited                                  None   \n",
       "Sweep Samples Cereals Edited                        None   \n",
       "Data Sheets Combined                                None   \n",
       "Pivot chart LH phen                                 None   \n",
       "leafhoppers 2016 cereal sweeps                      None   \n",
       "Sheet3                                              None   \n",
       "aphid sweep vs head count                           None   \n",
       "head counts vs sweeps graphs                        None   \n",
       "\n",
       "                                                     141  \\\n",
       "Worksheet Name                                             \n",
       "Head Counts                                         None   \n",
       "Sheet2                                              None   \n",
       "Sweep Samples Cereals           Hymenoptera_Chalcidoidea   \n",
       "Head Counts Edited                                  None   \n",
       "Sweep Samples Cereals Edited                        None   \n",
       "Data Sheets Combined                                None   \n",
       "Pivot chart LH phen                                 None   \n",
       "leafhoppers 2016 cereal sweeps                      None   \n",
       "Sheet3                                              None   \n",
       "aphid sweep vs head count                           None   \n",
       "head counts vs sweeps graphs                        None   \n",
       "\n",
       "                                                        142  \\\n",
       "Worksheet Name                                                \n",
       "Head Counts                                            None   \n",
       "Sheet2                                                 None   \n",
       "Sweep Samples Cereals           Hymenoptera_Ichneumondoidea   \n",
       "Head Counts Edited                                     None   \n",
       "Sweep Samples Cereals Edited                           None   \n",
       "Data Sheets Combined                                   None   \n",
       "Pivot chart LH phen                                    None   \n",
       "leafhoppers 2016 cereal sweeps                         None   \n",
       "Sheet3                                                 None   \n",
       "aphid sweep vs head count                              None   \n",
       "head counts vs sweeps graphs                           None   \n",
       "\n",
       "                                                        143  \n",
       "Worksheet Name                                               \n",
       "Head Counts                                            None  \n",
       "Sheet2                                                 None  \n",
       "Sweep Samples Cereals           Hymenoptera_Proctotrupoidea  \n",
       "Head Counts Edited                                     None  \n",
       "Sweep Samples Cereals Edited                           None  \n",
       "Data Sheets Combined                                   None  \n",
       "Pivot chart LH phen                                    None  \n",
       "leafhoppers 2016 cereal sweeps                         None  \n",
       "Sheet3                                                 None  \n",
       "aphid sweep vs head count                              None  \n",
       "head counts vs sweeps graphs                           None  \n",
       "\n",
       "[11 rows x 144 columns]"
      ]
     },
     "execution_count": 6,
     "metadata": {},
     "output_type": "execute_result"
    }
   ],
   "source": [
    "pandas.DataFrame(\n",
    "    data=[frame.columns for frame in sheets.values()],\n",
    "    index=pandas.Index(data=sheets.keys(), name='Worksheet Name',),\n",
    ")"
   ]
  },
  {
   "cell_type": "markdown",
   "metadata": {},
   "source": [
    "### Initial Grouping"
   ]
  },
  {
   "cell_type": "markdown",
   "metadata": {},
   "source": [
    "Based on sheet names, column names, and similarities between columns sets, I can probably group the sheets like so:\n",
    "\n",
    "- Head counts:\n",
    "  - Head Counts\n",
    "  - Head Counts Edited\n",
    "- Sweep:\n",
    "  - Sheet2\n",
    "  - Sweep Samples Cereals\n",
    "  - Sweep Samples Cereals Edited\n",
    "  - leafhoppers 2016 cereal sweeps\n",
    "- United:\n",
    "  - Data Sheets Combined\n",
    "- Analytical experiments:\n",
    "  - Pivot chart LH phen\n",
    "  - Sheet3\n",
    "  - aphid sweep vs head count\n",
    "  - head counts vs sweeps graphs"
   ]
  },
  {
   "cell_type": "markdown",
   "metadata": {},
   "source": [
    "Because I can't trust the accuracy of the data used in the graph, I need to look at all the sheets and determine the most complete and unadulterated data sets. I'll determine which data belongs to each category, and compare the sets."
   ]
  },
  {
   "cell_type": "markdown",
   "metadata": {},
   "source": [
    "## Select Primary Data Set: Sweep"
   ]
  },
  {
   "cell_type": "markdown",
   "metadata": {},
   "source": [
    "- Sheet2\n",
    "- Sweep Samples Cereals\n",
    "- Sweep Samples Cereals Edited\n",
    "- leafhoppers 2016 cereal sweeps"
   ]
  },
  {
   "cell_type": "markdown",
   "metadata": {},
   "source": [
    "### Convert Date & Time Format"
   ]
  },
  {
   "cell_type": "markdown",
   "metadata": {},
   "source": [
    "Before I can easily examine dates from the worksheets, I must convert them to proper date values for Python & *pandas*:"
   ]
  },
  {
   "cell_type": "code",
   "execution_count": 22,
   "metadata": {},
   "outputs": [
    {
     "data": {
      "text/html": [
       "<h4>Head Counts</h4>"
      ],
      "text/plain": [
       "<IPython.core.display.HTML object>"
      ]
     },
     "metadata": {},
     "output_type": "display_data"
    },
    {
     "data": {
      "text/plain": [
       "Index(['Date'], dtype='object')"
      ]
     },
     "metadata": {},
     "output_type": "display_data"
    },
    {
     "data": {
      "text/plain": [
       "Date    04/08/2016\n",
       "Name: 0, dtype: object"
      ]
     },
     "metadata": {},
     "output_type": "display_data"
    },
    {
     "data": {
      "text/html": [
       "<h4>Sheet2</h4>"
      ],
      "text/plain": [
       "<IPython.core.display.HTML object>"
      ]
     },
     "metadata": {},
     "output_type": "display_data"
    },
    {
     "data": {
      "text/plain": [
       "Index(['Collection_Date', 'Date_by_week', 'Date', 'Julian_date'], dtype='object')"
      ]
     },
     "metadata": {},
     "output_type": "display_data"
    },
    {
     "data": {
      "text/plain": [
       "Collection_Date    12_08_2016\n",
       "Date_by_week                0\n",
       "Date                   Aug_12\n",
       "Julian_date                 0\n",
       "Name: 0, dtype: object"
      ]
     },
     "metadata": {},
     "output_type": "display_data"
    },
    {
     "data": {
      "text/html": [
       "<h4>Sweep Samples Cereals</h4>"
      ],
      "text/plain": [
       "<IPython.core.display.HTML object>"
      ]
     },
     "metadata": {},
     "output_type": "display_data"
    },
    {
     "data": {
      "text/plain": [
       "Index(['Collection_Date', 'Date_by_week', 'Date', 'Julian_date'], dtype='object')"
      ]
     },
     "metadata": {},
     "output_type": "display_data"
    },
    {
     "data": {
      "text/plain": [
       "Collection_Date    12_08_2016\n",
       "Date_by_week                0\n",
       "Date                   Aug_12\n",
       "Julian_date                 0\n",
       "Name: 0, dtype: object"
      ]
     },
     "metadata": {},
     "output_type": "display_data"
    },
    {
     "data": {
      "text/html": [
       "<h4>Head Counts Edited</h4>"
      ],
      "text/plain": [
       "<IPython.core.display.HTML object>"
      ]
     },
     "metadata": {},
     "output_type": "display_data"
    },
    {
     "data": {
      "text/plain": [
       "Index(['Date'], dtype='object')"
      ]
     },
     "metadata": {},
     "output_type": "display_data"
    },
    {
     "data": {
      "text/plain": [
       "Date    2016-08-04 00:00:00\n",
       "Name: 0, dtype: object"
      ]
     },
     "metadata": {},
     "output_type": "display_data"
    },
    {
     "data": {
      "text/html": [
       "<h4>Sweep Samples Cereals Edited</h4>"
      ],
      "text/plain": [
       "<IPython.core.display.HTML object>"
      ]
     },
     "metadata": {},
     "output_type": "display_data"
    },
    {
     "data": {
      "text/plain": [
       "Index(['Date'], dtype='object')"
      ]
     },
     "metadata": {},
     "output_type": "display_data"
    },
    {
     "data": {
      "text/plain": [
       "Date    2016-08-12 00:00:00\n",
       "Name: 0, dtype: object"
      ]
     },
     "metadata": {},
     "output_type": "display_data"
    },
    {
     "data": {
      "text/html": [
       "<h4>Data Sheets Combined</h4>"
      ],
      "text/plain": [
       "<IPython.core.display.HTML object>"
      ]
     },
     "metadata": {},
     "output_type": "display_data"
    },
    {
     "data": {
      "text/plain": [
       "Index(['Date'], dtype='object')"
      ]
     },
     "metadata": {},
     "output_type": "display_data"
    },
    {
     "data": {
      "text/plain": [
       "Date    2016-08-12 00:00:00\n",
       "Name: 0, dtype: object"
      ]
     },
     "metadata": {},
     "output_type": "display_data"
    },
    {
     "ename": "IndexError",
     "evalue": "boolean index did not match indexed array along dimension 0; dimension is 0 but corresponding boolean dimension is 39",
     "output_type": "error",
     "traceback": [
      "\u001b[0;31m---------------------------------------------------------------------------\u001b[0m",
      "\u001b[0;31mIndexError\u001b[0m                                Traceback (most recent call last)",
      "\u001b[0;32m<ipython-input-22-33f7bc9c4205>\u001b[0m in \u001b[0;36m<module>\u001b[0;34m()\u001b[0m\n\u001b[1;32m     17\u001b[0m \u001b[0;31m#             format='%d_%m_%Y',\u001b[0m\u001b[0;34m\u001b[0m\u001b[0;34m\u001b[0m\u001b[0m\n\u001b[1;32m     18\u001b[0m \u001b[0;31m#         )\u001b[0m\u001b[0;34m\u001b[0m\u001b[0;34m\u001b[0m\u001b[0m\n\u001b[0;32m---> 19\u001b[0;31m     \u001b[0moutput_lines\u001b[0m \u001b[0;34m+=\u001b[0m \u001b[0;34m(\u001b[0m\u001b[0msheet\u001b[0m\u001b[0;34m.\u001b[0m\u001b[0mloc\u001b[0m\u001b[0;34m[\u001b[0m\u001b[0;36m0\u001b[0m\u001b[0;34m,\u001b[0m \u001b[0msheet\u001b[0m\u001b[0;34m.\u001b[0m\u001b[0mcolumns\u001b[0m\u001b[0;34m[\u001b[0m\u001b[0mindexer\u001b[0m\u001b[0;34m]\u001b[0m\u001b[0;34m]\u001b[0m\u001b[0;34m,\u001b[0m\u001b[0;34m)\u001b[0m\u001b[0;34m\u001b[0m\u001b[0m\n\u001b[0m\u001b[1;32m     20\u001b[0m     \u001b[0;32mfor\u001b[0m \u001b[0mline_out\u001b[0m \u001b[0;32min\u001b[0m \u001b[0moutput_lines\u001b[0m\u001b[0;34m:\u001b[0m\u001b[0;34m\u001b[0m\u001b[0m\n\u001b[1;32m     21\u001b[0m         \u001b[0mdisplay\u001b[0m\u001b[0;34m(\u001b[0m\u001b[0mline_out\u001b[0m\u001b[0;34m)\u001b[0m\u001b[0;34m\u001b[0m\u001b[0m\n",
      "\u001b[0;32m~/.local/share/virtualenvs/notebook-qwFIhkl_/lib/python3.6/site-packages/pandas/core/indexes/base.py\u001b[0m in \u001b[0;36m__getitem__\u001b[0;34m(self, key)\u001b[0m\n\u001b[1;32m   2079\u001b[0m \u001b[0;34m\u001b[0m\u001b[0m\n\u001b[1;32m   2080\u001b[0m         \u001b[0mkey\u001b[0m \u001b[0;34m=\u001b[0m \u001b[0mcom\u001b[0m\u001b[0;34m.\u001b[0m\u001b[0m_values_from_object\u001b[0m\u001b[0;34m(\u001b[0m\u001b[0mkey\u001b[0m\u001b[0;34m)\u001b[0m\u001b[0;34m\u001b[0m\u001b[0m\n\u001b[0;32m-> 2081\u001b[0;31m         \u001b[0mresult\u001b[0m \u001b[0;34m=\u001b[0m \u001b[0mgetitem\u001b[0m\u001b[0;34m(\u001b[0m\u001b[0mkey\u001b[0m\u001b[0;34m)\u001b[0m\u001b[0;34m\u001b[0m\u001b[0m\n\u001b[0m\u001b[1;32m   2082\u001b[0m         \u001b[0;32mif\u001b[0m \u001b[0;32mnot\u001b[0m \u001b[0mis_scalar\u001b[0m\u001b[0;34m(\u001b[0m\u001b[0mresult\u001b[0m\u001b[0;34m)\u001b[0m\u001b[0;34m:\u001b[0m\u001b[0;34m\u001b[0m\u001b[0m\n\u001b[1;32m   2083\u001b[0m             \u001b[0;32mreturn\u001b[0m \u001b[0mpromote\u001b[0m\u001b[0;34m(\u001b[0m\u001b[0mresult\u001b[0m\u001b[0;34m)\u001b[0m\u001b[0;34m\u001b[0m\u001b[0m\n",
      "\u001b[0;31mIndexError\u001b[0m: boolean index did not match indexed array along dimension 0; dimension is 0 but corresponding boolean dimension is 39"
     ]
    }
   ],
   "source": [
    "for name, sheet in sheets.items():\n",
    "    output_lines = (HTML(markdown(f'#### {name}')),)\n",
    "    if sheet.columns.size != 0:\n",
    "        indexer = (\n",
    "            sheet.columns\n",
    "            .map(str)\n",
    "            .str.lower()\n",
    "            .str.contains('date')\n",
    "        )\n",
    "        output_lines += (sheet.columns[indexer],)\n",
    "#         sheet.rename(\n",
    "#             columns={'Collection_Date': 'date'},\n",
    "#             inplace=True,\n",
    "#         )\n",
    "#         sheet['date'] = pandas.to_datetime(\n",
    "#             sheet['date'],\n",
    "#             format='%d_%m_%Y',\n",
    "#         )\n",
    "    output_lines += (sheet.loc[0, sheet.columns[indexer]],)\n",
    "    for line_out in output_lines:\n",
    "        display(line_out)"
   ]
  },
  {
   "cell_type": "markdown",
   "metadata": {},
   "source": [
    "### Sheet2"
   ]
  },
  {
   "cell_type": "markdown",
   "metadata": {},
   "source": [
    "From my hands-on exploration in Excel, I got the feeling that `Sheet2` is the most complete. I'll compare it to the others."
   ]
  },
  {
   "cell_type": "markdown",
   "metadata": {},
   "source": [
    "### Sweep Samples Cereals"
   ]
  },
  {
   "cell_type": "code",
   "execution_count": null,
   "metadata": {},
   "outputs": [],
   "source": [
    "sheet_names = [\n",
    "    'Sweep Samples Cereals',\n",
    "    'Sheet2',\n",
    "]\n",
    "compare_sheets = ssc, s2 = [\n",
    "    sheets[sheet_name]\n",
    "    for sheet_name in sheet_names\n",
    "]"
   ]
  },
  {
   "cell_type": "markdown",
   "metadata": {},
   "source": [
    "I'd like to confirm that the vaguely named **Sheet2** is what it seems to be: a combination of worksheets that includes **Sweep Samples Cereals**."
   ]
  },
  {
   "cell_type": "code",
   "execution_count": null,
   "metadata": {},
   "outputs": [],
   "source": [
    "display(HTML(markdown('#### Data Frame Shape')))\n",
    "display(\n",
    "    pandas.DataFrame(\n",
    "        data=[\n",
    "            sheets[sheet_name].shape\n",
    "            for sheet_name in sheet_names\n",
    "        ],\n",
    "        index=sheet_names,\n",
    "        columns=('rows', 'columns'),\n",
    "    )\n",
    ")"
   ]
  },
  {
   "cell_type": "markdown",
   "metadata": {},
   "source": [
    "The overall shape doesn't preclude that possibility.\n",
    "\n",
    "I'll take a closer look."
   ]
  },
  {
   "cell_type": "markdown",
   "metadata": {},
   "source": [
    "#### Columns"
   ]
  },
  {
   "cell_type": "code",
   "execution_count": null,
   "metadata": {},
   "outputs": [],
   "source": [
    "pandas.DataFrame(\n",
    "    data=[sheet.columns for sheet in compare_sheets],\n",
    "    index=sheet_names\n",
    ").T"
   ]
  },
  {
   "cell_type": "markdown",
   "metadata": {},
   "source": [
    "That seems to confirm that **Sheet2** has the same columns as **Sweep Samples Cereals** except for four columns that were removed.\n",
    "\n",
    "Compare lists of column names:"
   ]
  },
  {
   "cell_type": "code",
   "execution_count": null,
   "metadata": {},
   "outputs": [],
   "source": [
    "set.symmetric_difference(*(\n",
    "    set(sheet.columns.tolist())\n",
    "    for sheet in compare_sheets\n",
    "))"
   ]
  },
  {
   "cell_type": "markdown",
   "metadata": {},
   "source": [
    "The unnamed columns are inconsequential to our analysis. In fact, I believe they're empty. The rest have aggregate values that I don't trust. **Sweep Samples Cereals** is probably useless for my purposes."
   ]
  },
  {
   "cell_type": "markdown",
   "metadata": {},
   "source": [
    "#### Rows"
   ]
  },
  {
   "cell_type": "markdown",
   "metadata": {},
   "source": [
    "It's pretty clear there is a lot more data in **Sheet2**. I suspect that **Sheet2** has additional data added to it. I'll have to take a closer look at the values, especially dates."
   ]
  },
  {
   "cell_type": "markdown",
   "metadata": {},
   "source": [
    "##### Analyze Dates"
   ]
  },
  {
   "cell_type": "markdown",
   "metadata": {},
   "source": [
    "How closely do the dates overlap?"
   ]
  },
  {
   "cell_type": "code",
   "execution_count": null,
   "metadata": {},
   "outputs": [],
   "source": [
    "pandas.concat(\n",
    "    dict(zip(sheet_names, compare_sheets)),\n",
    "    sort=True,\n",
    "    axis='columns'\n",
    ").loc[:, pandas.IndexSlice[:, 'date']].describe()"
   ]
  },
  {
   "cell_type": "markdown",
   "metadata": {},
   "source": [
    "The range of dates is identical, but the distribution is not. I need to check if *all* the dates in **Sweep Samples Cereals** are in **Sheet2**."
   ]
  },
  {
   "cell_type": "code",
   "execution_count": null,
   "metadata": {},
   "outputs": [],
   "source": [
    "ssc.date.isin(s2.date).all()"
   ]
  },
  {
   "cell_type": "markdown",
   "metadata": {},
   "source": [
    "I presume the converse is untrue. I'll verify."
   ]
  },
  {
   "cell_type": "code",
   "execution_count": null,
   "metadata": {},
   "outputs": [],
   "source": [
    "s2.date.isin(ssc.date).all()"
   ]
  },
  {
   "cell_type": "markdown",
   "metadata": {},
   "source": [
    "I presume **Sweep Samples Cereals** is most likely either a subset of **Sheet2**, or a reduced version of the same source data. I'll keep my eye out for signs of reduction if I decide to use the smaller data set — but I doubt I will."
   ]
  },
  {
   "cell_type": "markdown",
   "metadata": {},
   "source": [
    "#### Aggregation"
   ]
  },
  {
   "cell_type": "markdown",
   "metadata": {},
   "source": [
    "**Sheet2** has two additional dates. I'm especially suspicious that one is aggregated from the other because I see a ***total sweeps*** column in **Sweep Samples Cereals**."
   ]
  },
  {
   "cell_type": "code",
   "execution_count": null,
   "metadata": {},
   "outputs": [],
   "source": [
    "ssc['Total Sweeps'].head()"
   ]
  },
  {
   "cell_type": "markdown",
   "metadata": {},
   "source": [
    "I suspect that the sweeps were at different distances, and later reduced to sums. If I peek at the `Distance(m)` column, I should see a clear difference."
   ]
  },
  {
   "cell_type": "code",
   "execution_count": null,
   "metadata": {},
   "outputs": [],
   "source": [
    "display(HTML(markdown('#### Value Counts')))\n",
    "display(\n",
    "    pandas.concat(\n",
    "        dict(zip(sheet_names, compare_sheets)),\n",
    "        axis='columns',\n",
    "        sort=True,\n",
    "    )\n",
    "    .loc[:, pandas.IndexSlice[:, ['Distance(m)']]]\n",
    "    .apply(pandas.value_counts)\n",
    "    .stack()\n",
    "    .reorder_levels((1, 0))\n",
    "    .T\n",
    "    .fillna('')\n",
    ")"
   ]
  },
  {
   "cell_type": "code",
   "execution_count": null,
   "metadata": {},
   "outputs": [],
   "source": [
    "s2['Distance(m)'].unique()"
   ]
  },
  {
   "cell_type": "markdown",
   "metadata": {},
   "source": [
    "Indeed, **Sheet2** has observations at various \"distances\", while **Sweep Samples Cereals** has only the label, ***Combined***.\n",
    "\n",
    "**Sheet2** has more rows because it isn't totalling up the sweeps from various distances. That makes **Sheet2** less reduced, and more \"raw\".\n",
    "Since I don't want reduced (aggregated) data, I don't want **Sweep Samples Cereals**."
   ]
  },
  {
   "cell_type": "markdown",
   "metadata": {},
   "source": [
    "#### Conclusion"
   ]
  },
  {
   "cell_type": "markdown",
   "metadata": {},
   "source": [
    "Optimal candidate:\n",
    "\n",
    "- **Sheet2**"
   ]
  },
  {
   "cell_type": "markdown",
   "metadata": {},
   "source": [
    "### Sweep Samples Cereals Edited vs Sheet2"
   ]
  },
  {
   "cell_type": "code",
   "execution_count": null,
   "metadata": {},
   "outputs": [],
   "source": [
    "ssce = sheets['Sweep Samples Cereals Edited']\n",
    "compare_sheets = ssce, s2"
   ]
  },
  {
   "cell_type": "markdown",
   "metadata": {},
   "source": [
    "#### Columns"
   ]
  },
  {
   "cell_type": "code",
   "execution_count": null,
   "metadata": {},
   "outputs": [],
   "source": [
    "pandas.options.display.max_rows = 140\n",
    "pandas.DataFrame(\n",
    "    data=[sheet.columns for sheet in compare_sheets],\n",
    "    index=['Sweep Samples Cereals Edited', 'Sheet2']\n",
    ").T"
   ]
  },
  {
   "cell_type": "markdown",
   "metadata": {},
   "source": [
    "**Sweep Samples Cereals Edited** seems to have left out some columns that would be expected to carry finely categorized subjects, such as various instars of aphids and leafhoppers. This makes it less likely to have information I'll need, because I'll be comparing aphid numbers. Furthermore, it appears that **Sweep Samples Cereals Edited** has a column, ***Total Sweeps***, that's probably an artefact from pre-existing aggregation. It's also missing the ***Distance(m)*** column; another sign of aggregation, and therefore loss of some information.\n",
    "\n",
    "Unless further analysis reveals that **Sweep Samples Cereals Edited** has dates that are missing from **Sheet2**, I'll assume it's not worth closer examination."
   ]
  },
  {
   "cell_type": "markdown",
   "metadata": {},
   "source": [
    "#### Rows"
   ]
  },
  {
   "cell_type": "code",
   "execution_count": null,
   "metadata": {},
   "outputs": [],
   "source": [
    "f'{ssce.index.size / s2.index.size:.0%}'"
   ]
  },
  {
   "cell_type": "markdown",
   "metadata": {},
   "source": [
    "**Sweep Samples Cereals Edited** has 14% the number of rows as **Sheet2**, so it's not likely to be useful, unless the dates don't fully overlap."
   ]
  },
  {
   "cell_type": "code",
   "execution_count": null,
   "metadata": {},
   "outputs": [],
   "source": [
    "def len_unique(pandas_object):\n",
    "    return len(pandas_object.unique())\n",
    "\n",
    "\n",
    "descriptors = [pandas.Series.max, pandas.Series.min, len_unique]\n",
    "for frame in compare_sheets:\n",
    "    frame.date.apply(descriptors)"
   ]
  },
  {
   "cell_type": "markdown",
   "metadata": {},
   "source": [
    "It appears that **Sweep Samples Cereals Edited**, like **Sweep Samples Cereals**, has a much shorter date range, so we won't be missing anything if we ignore it. To be sure, I need to check if all the dates in **Sweep Samples Cereals Edited** are in **Sheet2**."
   ]
  },
  {
   "cell_type": "code",
   "execution_count": null,
   "metadata": {},
   "outputs": [],
   "source": [
    "ssce.Date.isin(s2.Collection_Date).all()"
   ]
  },
  {
   "cell_type": "markdown",
   "metadata": {},
   "source": [
    "Excellent. I see no reason to pay attention to **Sweep Samples Cereals Edited** or **Sweep Samples Cereals** anymore. \n",
    "\n",
    "If I have time after fixing the graph, I may trace the cause of the error, which may lead me back to one of those worksheets."
   ]
  },
  {
   "cell_type": "markdown",
   "metadata": {},
   "source": [
    "#### Conclusion"
   ]
  },
  {
   "cell_type": "markdown",
   "metadata": {},
   "source": [
    "Optimal candidate:\n",
    "\n",
    "- **Sheet2** (again)"
   ]
  },
  {
   "cell_type": "markdown",
   "metadata": {},
   "source": [
    "### leafhoppers 2016 cereal sweeps vs Sheet2"
   ]
  },
  {
   "cell_type": "code",
   "execution_count": null,
   "metadata": {},
   "outputs": [],
   "source": [
    "sheet_names = ['leafhoppers 2016 cereal sweeps', 'Sheet2']\n",
    "compare_sheets = lh2016, s2 = [\n",
    "    sheets[sheet_name]\n",
    "    for sheet_name in sheet_names\n",
    "]"
   ]
  },
  {
   "cell_type": "markdown",
   "metadata": {},
   "source": [
    "#### Columns"
   ]
  },
  {
   "cell_type": "code",
   "execution_count": null,
   "metadata": {},
   "outputs": [],
   "source": [
    "columns = [frame.columns for frame in compare_sheets]\n",
    "pandas.DataFrame(\n",
    "    data=columns,\n",
    "    index=sheet_names\n",
    ").T.head(lh2016.columns.size)"
   ]
  },
  {
   "cell_type": "markdown",
   "metadata": {},
   "source": [
    "Clearly, **leafhoppers 2016 cereal sweeps** is focused on leafhoppers. Because the object of our analysis is to compare aphid numbers, I don't see the relevance of this leafhopper data."
   ]
  },
  {
   "cell_type": "code",
   "execution_count": null,
   "metadata": {},
   "outputs": [],
   "source": [
    "lh2016['Total Sweeps'].unique()"
   ]
  },
  {
   "cell_type": "code",
   "execution_count": null,
   "metadata": {},
   "outputs": [],
   "source": [
    "lh2016['Distance(m)'].unique()"
   ]
  },
  {
   "cell_type": "code",
   "execution_count": null,
   "metadata": {},
   "outputs": [],
   "source": [
    "lh2016['Number of Samples'].unique()"
   ]
  },
  {
   "cell_type": "markdown",
   "metadata": {},
   "source": [
    "#### Rows"
   ]
  },
  {
   "cell_type": "code",
   "execution_count": null,
   "metadata": {},
   "outputs": [],
   "source": [
    "pandas.DataFrame(data={sheet_name: sheet.index.size for sheet_name, sheet in zip(sheet_names, compare_sheets)}, index=['number of rows']).rename_axis(['worksheet'], axis='columns').T.sort_values(by='number of rows')"
   ]
  },
  {
   "cell_type": "markdown",
   "metadata": {},
   "source": [
    "Sheet2 has the most rows. But do the times align?\n",
    "\n",
    "First, what date format is used in lh2016?"
   ]
  },
  {
   "cell_type": "code",
   "execution_count": null,
   "metadata": {},
   "outputs": [],
   "source": [
    "lh2016.Collection_Date.head()"
   ]
  },
  {
   "cell_type": "markdown",
   "metadata": {},
   "source": [
    "Seems like a text expression. Day, month, year; separated by underscores. The function `pandas.to_datetime` solves this."
   ]
  },
  {
   "cell_type": "code",
   "execution_count": null,
   "metadata": {},
   "outputs": [],
   "source": [
    "lh2016.Collection_Date = pandas.to_datetime(lh2016.Collection_Date, format='%d_%m_%Y')\n",
    "lh2016.Collection_Date.head()"
   ]
  },
  {
   "cell_type": "markdown",
   "metadata": {},
   "source": [
    "Now, to compare dimensions:"
   ]
  },
  {
   "cell_type": "code",
   "execution_count": null,
   "metadata": {},
   "outputs": [],
   "source": [
    "pandas.DataFrame(\n",
    "    data=[\n",
    "        len_unique(frame.Collection_Date.index)\n",
    "        for frame in compare_sheets\n",
    "    ],\n",
    "    index=sheet_names,\n",
    "    columns=[\n",
    "        'unique datetimes',\n",
    "    ],\n",
    ")"
   ]
  },
  {
   "cell_type": "markdown",
   "metadata": {},
   "source": [
    "Seeing that `leafhoppers 2016 cereal sweeps` is smaller, check that its index is a subset of `Sheet2`:"
   ]
  },
  {
   "cell_type": "code",
   "execution_count": null,
   "metadata": {},
   "outputs": [],
   "source": [
    "lh2016.Collection_Date.index.isin(s2.index).all()"
   ]
  },
  {
   "cell_type": "markdown",
   "metadata": {},
   "source": [
    "All of the dates in the leafhopper counts are present in `Sheet2`."
   ]
  },
  {
   "cell_type": "markdown",
   "metadata": {},
   "source": [
    "#### Conclusion"
   ]
  },
  {
   "cell_type": "markdown",
   "metadata": {},
   "source": [
    "Given that the leafhopper data isn't pertinent, `Sheet2` remains the best candidate for the primary source of data points about aphids collected and counted according to the \"sweep\" method.\n",
    "\n",
    "If it's ultimately determined that the data *is* relevant, it may be useful in that case because the datetime index overlaps with that of `Sheet2`."
   ]
  },
  {
   "cell_type": "markdown",
   "metadata": {},
   "source": [
    "### Conclusion"
   ]
  },
  {
   "cell_type": "markdown",
   "metadata": {},
   "source": [
    "After all analysis, `Sheet2` appears to be the purest, most relevant base for comparison of \"sweep\" sample data to that of \"tiller\" count data."
   ]
  },
  {
   "cell_type": "markdown",
   "metadata": {},
   "source": [
    "## Select Primary Data Set: Tiller Head"
   ]
  },
  {
   "cell_type": "markdown",
   "metadata": {},
   "source": [
    "- Head Counts\n",
    "- Head Counts Edited"
   ]
  },
  {
   "cell_type": "markdown",
   "metadata": {},
   "source": [
    "### Head Counts vs Head Counts Edited"
   ]
  },
  {
   "cell_type": "markdown",
   "metadata": {},
   "source": [
    "I presume the relationship between these two worksheets is the same as that between the equivalent \"sweep\" worksheets. Therefore, I expect the \"edited\" version to be less useful."
   ]
  },
  {
   "cell_type": "code",
   "execution_count": null,
   "metadata": {},
   "outputs": [],
   "source": [
    "sheet_names = [\n",
    "    'Head Counts',\n",
    "    'Head Counts Edited'\n",
    "]\n",
    "compare_sheets = hc, hce = [sheets[sheet_name] for sheet_name in sheet_names]"
   ]
  },
  {
   "cell_type": "markdown",
   "metadata": {},
   "source": [
    "#### Columns"
   ]
  },
  {
   "cell_type": "code",
   "execution_count": null,
   "metadata": {},
   "outputs": [],
   "source": [
    "pandas.DataFrame(\n",
    "    index=sheet_names,\n",
    "    data=[sheet.columns for sheet in compare_sheets],\n",
    ").T"
   ]
  },
  {
   "cell_type": "markdown",
   "metadata": {},
   "source": [
    "The main difference here seems to be the aggregation in the \"edited\" sheet, indicated by the columns named \"EGA/head\", \"EGA_total\", etc. I expect the \"unedited\" data to be more complete and reliable."
   ]
  },
  {
   "cell_type": "markdown",
   "metadata": {},
   "source": [
    "#### Rows"
   ]
  },
  {
   "cell_type": "code",
   "execution_count": null,
   "metadata": {},
   "outputs": [],
   "source": [
    "hce.Date.head()"
   ]
  },
  {
   "cell_type": "code",
   "execution_count": null,
   "metadata": {},
   "outputs": [],
   "source": [
    "hc.Date.head()"
   ]
  },
  {
   "cell_type": "markdown",
   "metadata": {},
   "source": [
    "I'll fix the date format with `pandas.to_datetime` again."
   ]
  },
  {
   "cell_type": "code",
   "execution_count": null,
   "metadata": {},
   "outputs": [],
   "source": [
    "hc.Date = pandas.to_datetime(hc.Date,\n",
    "                             format='%d/%m/%Y')\n",
    "hc.Date.head()"
   ]
  },
  {
   "cell_type": "markdown",
   "metadata": {},
   "source": [
    "Now, compare for completeness:"
   ]
  },
  {
   "cell_type": "code",
   "execution_count": null,
   "metadata": {},
   "outputs": [],
   "source": [
    "[len_unique(column) for column in (\n",
    "    hc.Date,\n",
    "    hce.Date\n",
    ")]"
   ]
  },
  {
   "cell_type": "code",
   "execution_count": null,
   "metadata": {},
   "outputs": [],
   "source": [
    "hc.Date.index.isin(hce.Date.index).all()"
   ]
  },
  {
   "cell_type": "markdown",
   "metadata": {},
   "source": [
    "Identical date & time for the index of each, so no basis for choosing one over the other."
   ]
  },
  {
   "cell_type": "markdown",
   "metadata": {},
   "source": [
    "### Conclusion"
   ]
  },
  {
   "cell_type": "markdown",
   "metadata": {},
   "source": [
    "Based on the columns, the best candidate for pure, reliable data is:\n",
    "\n",
    "- `Head Counts`"
   ]
  },
  {
   "cell_type": "markdown",
   "metadata": {},
   "source": [
    "## Align Primary Data Sets"
   ]
  },
  {
   "cell_type": "markdown",
   "metadata": {},
   "source": [
    "The names and corresponding data frames, from the worksheets in the source workbook document (Excel):"
   ]
  },
  {
   "cell_type": "code",
   "execution_count": null,
   "metadata": {},
   "outputs": [],
   "source": [
    "sheet_names, compare_sheets = zip(\n",
    "    ('Head Counts', hc),\n",
    "    ('Sheet2', s2),\n",
    ")"
   ]
  },
  {
   "cell_type": "code",
   "execution_count": null,
   "metadata": {},
   "outputs": [],
   "source": [
    "hc is compare_sheets[0]"
   ]
  },
  {
   "cell_type": "code",
   "execution_count": null,
   "metadata": {},
   "outputs": [],
   "source": [
    "s2 is compare_sheets[1]"
   ]
  },
  {
   "cell_type": "markdown",
   "metadata": {},
   "source": [
    "#### Visualize Whitespace"
   ]
  },
  {
   "cell_type": "markdown",
   "metadata": {},
   "source": [
    "For the sake of visualization, I'll write a function that wraps any value in square brackets. This makes trailing or leading whitespace obvious."
   ]
  },
  {
   "cell_type": "code",
   "execution_count": null,
   "metadata": {},
   "outputs": [],
   "source": [
    "def wrap_brackets(x):\n",
    "    return x if pandas.isna(x) else f'[{str(x)}]'"
   ]
  },
  {
   "cell_type": "code",
   "execution_count": null,
   "metadata": {},
   "outputs": [],
   "source": [
    "# Example:\n",
    "pandas.Series([' a ', 'b ', 'c', '', ' ', pandas.np.NaN]).apply(wrap_brackets)"
   ]
  },
  {
   "cell_type": "markdown",
   "metadata": {},
   "source": [
    "### Compare Columns"
   ]
  },
  {
   "cell_type": "markdown",
   "metadata": {},
   "source": [
    "I've already noticed at least one leading space on a column name (\"spiders\"), and variations in capitalization. To compensate for this, I'll strip all leading and trailing whitespace from the lower case column names.\n",
    "\n",
    "Comparing alphabetically sorted column names between our two primary data sets:"
   ]
  },
  {
   "cell_type": "code",
   "execution_count": null,
   "metadata": {},
   "outputs": [],
   "source": [
    "for sheet in compare_sheets:\n",
    "    sheet.columns = sheet.columns.str.strip().str.lower()\n",
    "    sheet.sort_index(axis='columns', inplace=True)"
   ]
  },
  {
   "cell_type": "code",
   "execution_count": null,
   "metadata": {},
   "outputs": [],
   "source": [
    "pandas.DataFrame(\n",
    "    index=sheet_names,\n",
    "    data=[sheet.columns for sheet in compare_sheets]\n",
    ").fillna('').T"
   ]
  },
  {
   "cell_type": "markdown",
   "metadata": {},
   "source": [
    "Wow, that's quite a large difference in columns for these sets. Since the object of the comparison is aphids only, we can ignore most of these columns from `Sheet2`. For better comparison, let's filter for columns referring to aphids."
   ]
  },
  {
   "cell_type": "markdown",
   "metadata": {},
   "source": [
    "#### Aphid Columns"
   ]
  },
  {
   "cell_type": "markdown",
   "metadata": {},
   "source": [
    "Aphid related terms:\n",
    "\n",
    "* aphid\n",
    "* ega\n",
    "* bco\n",
    "* greenbug"
   ]
  },
  {
   "cell_type": "code",
   "execution_count": null,
   "metadata": {},
   "outputs": [],
   "source": [
    "aphid_terms = (\n",
    "    r'aphids?',\n",
    "    r'ega',\n",
    "    r'bco',\n",
    "    r'greenbug',\n",
    ")\n",
    "aphid_term_pattern = '|'.join(aphid_terms)\n",
    "\n",
    "hc_aphid_columns, s2_aphid_columns = [\n",
    "    sheet.columns[\n",
    "        sheet.columns.str.contains(aphid_term_pattern)\n",
    "    ] for sheet in compare_sheets\n",
    "]\n",
    "\n",
    "sorted(hc_aphid_columns.tolist() + s2_aphid_columns.tolist())"
   ]
  },
  {
   "cell_type": "markdown",
   "metadata": {},
   "source": [
    "I see some problems with this list.\n",
    "\n",
    "Not aphid related:\n",
    "\n",
    "- aphidencyrtus_sp\n",
    "- aphidiius_sp\n",
    "- aphid_mummies\n",
    "- aphid_mummies_aphelinus_black\n",
    "- aphid_mummies_aphidius_brown\n",
    "- aphid_mummies_blk\n",
    "- aphid_mummies_brown\n",
    "\n",
    "Not primary data:\n",
    "\n",
    "- aphids_total\n",
    "- bco_total\n",
    "- ega_total\n",
    "- total_alate_aphids\n",
    "- total_apterous_aphids"
   ]
  },
  {
   "cell_type": "markdown",
   "metadata": {},
   "source": [
    "I can prevent the matching of words containing \"aphid\" by adding a word boundary definition:"
   ]
  },
  {
   "cell_type": "code",
   "execution_count": null,
   "metadata": {},
   "outputs": [],
   "source": [
    "boundary = r'(?:_|^|$|\\b)'\n",
    "aphid_term_pattern = ''.join((\n",
    "    boundary,\n",
    "    r'(?:', '|'.join(aphid_terms), r')',\n",
    "    boundary,\n",
    "))\n",
    "\n",
    "hc_aphid_columns, s2_aphid_columns = [\n",
    "    sheet.columns[\n",
    "        sheet.columns.str.contains(aphid_term_pattern)\n",
    "    ] for sheet in compare_sheets\n",
    "]\n",
    "\n",
    "sorted(hc_aphid_columns.tolist() + s2_aphid_columns.tolist())"
   ]
  },
  {
   "cell_type": "markdown",
   "metadata": {},
   "source": [
    "Better. Still need to exclude \"total\" and \"mummies\"."
   ]
  },
  {
   "cell_type": "code",
   "execution_count": null,
   "metadata": {},
   "outputs": [],
   "source": [
    "excluded_terms = (\n",
    "    r'mumm(?:y|ies)',\n",
    "    r'total',\n",
    ")\n",
    "aphid_term_pattern, excluded_term_pattern = (\n",
    "    r''.join((\n",
    "        boundary,\n",
    "        r'(?:', '|'.join(pattern), r')',\n",
    "        boundary,\n",
    "    )) for pattern in (aphid_terms, excluded_terms)\n",
    ")\n",
    "\n",
    "hc_aphid_columns, s2_aphid_columns = [\n",
    "    sheet.columns[\n",
    "        sheet.columns.str.contains(aphid_term_pattern) & ~ sheet.columns.str.contains(excluded_term_pattern)\n",
    "    ] for sheet in compare_sheets\n",
    "]\n",
    "\n",
    "sorted(hc_aphid_columns.tolist() + s2_aphid_columns.tolist())"
   ]
  },
  {
   "cell_type": "markdown",
   "metadata": {},
   "source": [
    "Great! Aphid columns identified.\n",
    "\n",
    "Before combining the data sets for mathematical processing, I'll need to normalize those column names."
   ]
  },
  {
   "cell_type": "markdown",
   "metadata": {},
   "source": [
    "##### @todo: normalize aphid names"
   ]
  },
  {
   "cell_type": "markdown",
   "metadata": {},
   "source": [
    "#### Non-aphid Related Columns"
   ]
  },
  {
   "cell_type": "markdown",
   "metadata": {},
   "source": [
    "What non-aphid columns remain?"
   ]
  },
  {
   "cell_type": "code",
   "execution_count": null,
   "metadata": {},
   "outputs": [],
   "source": [
    "hc_remainder, s2_remainder = (\n",
    "    frame.columns[~frame.columns.isin(frame_aphid)]\n",
    "    for frame, frame_aphid in zip((hc, s2), (hc_aphid_columns, s2_aphid_columns))\n",
    ")\n",
    "\n",
    "sorted(hc_remainder.tolist() + s2_remainder.tolist())"
   ]
  },
  {
   "cell_type": "markdown",
   "metadata": {},
   "source": [
    "#### Lookup Columns (Record Index)"
   ]
  },
  {
   "cell_type": "markdown",
   "metadata": {},
   "source": [
    "Reading through the list of remaining, non-aphid related columns, I see some that don't mention any organism by name. These columns may be useful for indexing, which is crucial to aligning the two data sources."
   ]
  },
  {
   "cell_type": "code",
   "execution_count": null,
   "metadata": {},
   "outputs": [],
   "source": [
    "non_organism_column_names = pandas.Series(data=(\n",
    "    'collection_date',\n",
    "    'comments',\n",
    "    'crop',\n",
    "    'date',\n",
    "    'date_by_week',\n",
    "    'distance(m)',\n",
    "    'field',\n",
    "    'field_name',\n",
    "    'id',\n",
    "    'julian_date',\n",
    "    'number of samples',\n",
    "    'province',\n",
    "    'sample_by_week',\n",
    "    'site',\n",
    "    'zadoks_stage',\n",
    "))"
   ]
  },
  {
   "cell_type": "markdown",
   "metadata": {},
   "source": [
    "Here are the names of the matching columns from each frame:"
   ]
  },
  {
   "cell_type": "code",
   "execution_count": null,
   "metadata": {},
   "outputs": [],
   "source": [
    "non_organism_columns_common = pandas.DataFrame(\n",
    "    {\n",
    "        name: dict(zip(non_organism_column_names,\n",
    "                       non_organism_column_names.isin(frame.columns)))\n",
    "        for name, frame\n",
    "        in zip(sheet_names, compare_sheets)\n",
    "    }\n",
    ").replace(to_replace={False: '', True: '✅'})\n",
    "non_organism_columns_common"
   ]
  },
  {
   "cell_type": "markdown",
   "metadata": {},
   "source": [
    "### Align Columns"
   ]
  },
  {
   "cell_type": "markdown",
   "metadata": {},
   "source": [
    "Our next goal is to determine which columns are in common and ensure they're of the same data type, so we can concatenate the frames."
   ]
  },
  {
   "cell_type": "code",
   "execution_count": null,
   "metadata": {},
   "outputs": [],
   "source": [
    "non_organism_columns_common.index[\n",
    "    non_organism_columns_common.all(axis='columns')\n",
    "].tolist()"
   ]
  },
  {
   "cell_type": "markdown",
   "metadata": {},
   "source": [
    "Those columns alone are probably enough to align the data.\n",
    "\n",
    "I'll need to clean up `crop` and `site`, but `date` and `collection_date` are already well formed.\n",
    "\n",
    "These columns warrant examination as well:\n",
    "\n",
    "- collection_date\n",
    "- date\n",
    "- distance(m)\n",
    "- field\n",
    "- field_name\n",
    "- number of samples"
   ]
  },
  {
   "cell_type": "markdown",
   "metadata": {},
   "source": [
    "#### Date"
   ]
  },
  {
   "cell_type": "markdown",
   "metadata": {},
   "source": [
    "The columns containing date information were normalized in an [earlier stage] of analysis. Those columns are ready to align in combination with other unique index labels.\n",
    "\n",
    "[earlier stage]: #Convert-Date-&amp;amp;-Time-Format"
   ]
  },
  {
   "cell_type": "markdown",
   "metadata": {},
   "source": [
    "#### Index Columns: Site, Field, Crop"
   ]
  },
  {
   "cell_type": "markdown",
   "metadata": {},
   "source": [
    "The columns `hc.field` and `s2.field_name` seem to relate to `site` and `crop`. Before I address the values of the columns, I'll rename `field_name` for consistency."
   ]
  },
  {
   "cell_type": "code",
   "execution_count": null,
   "metadata": {},
   "outputs": [],
   "source": [
    "for frame in compare_sheets:\n",
    "    frame.rename(\n",
    "        columns={'field_name': 'field'},\n",
    "        inplace=True,\n",
    "    )"
   ]
  },
  {
   "cell_type": "markdown",
   "metadata": {},
   "source": [
    "Now, regarding the values, I suspect redundancy. Here's why I feel that way; look at some of the values from both data sets:"
   ]
  },
  {
   "cell_type": "code",
   "execution_count": null,
   "metadata": {},
   "outputs": [],
   "source": [
    "index_location_column_names = ['site', 'crop', 'field',]\n",
    "site_and_field_name = pandas.concat(\n",
    "    (\n",
    "        hc[index_column_names],\n",
    "        s2[index_column_names],\n",
    "    ),\n",
    "    keys=sheet_names,\n",
    "    sort=True,\n",
    ")\n",
    "site_and_field_name.applymap(wrap_brackets).head(15)"
   ]
  },
  {
   "cell_type": "markdown",
   "metadata": {},
   "source": [
    "It's clear to my eyes that in most cases, `site` and `crop` have been concatenated together to produce the value in `field` or `field_name`.\n",
    "\n",
    "- site + crop = field(_name)\n",
    "\n",
    "Primary data:\n",
    "\n",
    "- site\n",
    "- crop\n",
    "\n",
    "Aggregated data:\n",
    "\n",
    "- field\n",
    "- field_name\n",
    "\n",
    "Therefore, in those cases, I can safely disregard those derived columns and rely on the the more normalized forms for indexing. That is to say I think it's most beneficial to use `crop` and `site` whenever possible."
   ]
  },
  {
   "cell_type": "markdown",
   "metadata": {},
   "source": [
    "##### Outliers"
   ]
  },
  {
   "cell_type": "markdown",
   "metadata": {},
   "source": [
    "There are outliers that deviate from the pattern. So, the next question is, do they have plausible matches in the complementary data set? If the outliers are only in one frame, they'd won't be ususable for calculating ratios of counts."
   ]
  },
  {
   "cell_type": "code",
   "execution_count": null,
   "metadata": {},
   "outputs": [],
   "source": [
    "site_and_field_name.loc[site_and_field_name.field.str.contains('-')]"
   ]
  },
  {
   "cell_type": "markdown",
   "metadata": {},
   "source": [
    "All are from the `Head Counts` frame. I can safely ignore these records because they have no counterpart in `Sheet2`. When the time comes to do the comparison of numbers, they'll be discarded automatically. I can move on to another task."
   ]
  },
  {
   "cell_type": "markdown",
   "metadata": {},
   "source": [
    "#### Normalize Site"
   ]
  },
  {
   "cell_type": "code",
   "execution_count": null,
   "metadata": {},
   "outputs": [],
   "source": [
    "site_values = (\n",
    "    pandas.concat(\n",
    "        (frame[['site']] for frame in compare_sheets),\n",
    "        keys=sheet_names,\n",
    "        names=['Sheet Name', 'index',],\n",
    "    )\n",
    "    .drop_duplicates()\n",
    "    .sort_values('site')\n",
    ")\n",
    "site_values.site.apply(wrap_brackets)"
   ]
  },
  {
   "cell_type": "markdown",
   "metadata": {},
   "source": [
    "This is going to need some normalization. I'll write a string reducer function to transform any given value into a uniformly reducible representation by stripping insignificant characters and letter case. From that, I can build a hash table that maps to preferred representations, and apply that mapping to the values in a renaming operation."
   ]
  },
  {
   "cell_type": "markdown",
   "metadata": {},
   "source": [
    "##### Index by Reduced Label Value"
   ]
  },
  {
   "cell_type": "markdown",
   "metadata": {},
   "source": [
    "In order to match badly formed labels with their normal representation, I need a string function similar to a hash, so the values in the data frame can be used to look up the preferred, normal form.\n",
    "\n",
    "- convert numeric values to text\n",
    "- strip non alphanumeric characters\n",
    "- convert alphabetic characters to lower case"
   ]
  },
  {
   "cell_type": "code",
   "execution_count": null,
   "metadata": {},
   "outputs": [],
   "source": [
    "def hash_like(value):\n",
    "    return re.compile(r\"[^a-z0-9]\").sub('', str(value).lower())"
   ]
  },
  {
   "cell_type": "markdown",
   "metadata": {},
   "source": [
    "Applying this to all frames:"
   ]
  },
  {
   "cell_type": "code",
   "execution_count": null,
   "metadata": {},
   "outputs": [],
   "source": [
    "for frame in compare_sheets + (site_values, ):\n",
    "    frame['site_index'] = frame.site.apply(hash_like)\n",
    "    frame.set_index('site_index', append=True, inplace=True)"
   ]
  },
  {
   "cell_type": "markdown",
   "metadata": {},
   "source": [
    "##### Choosing Normal Form"
   ]
  },
  {
   "cell_type": "markdown",
   "metadata": {},
   "source": [
    "If I had a larger data set, I could automatically find the most frequently used representation for any given reduced value (\"hash\"); I would use the `mode` function. Unfortunately, the groups are far too small and the values too varied:"
   ]
  },
  {
   "cell_type": "code",
   "execution_count": null,
   "metadata": {},
   "outputs": [],
   "source": [
    "(\n",
    "    site_values.site\n",
    "    .apply(wrap_brackets)\n",
    "    .unstack()\n",
    "    .fillna('')\n",
    ")"
   ]
  },
  {
   "cell_type": "markdown",
   "metadata": {},
   "source": [
    "Even if I strip the leading and trailing whitespace, I would still end up with ambiguous candidate selections (eg: \"yellowcreek\" values). The work required to make a function that would know to convert \"Yellowcreek\" to \"Yellow Creek\" would be unreasonable, so automation might not be the best choice for choosing normal forms.\n",
    "\n",
    "I'll make the preferred identifier list manually. Here it is as a data frame with the appropriately reduced version of each label as the index:"
   ]
  },
  {
   "cell_type": "code",
   "execution_count": null,
   "metadata": {},
   "outputs": [],
   "source": [
    "preferred_site_id = pandas.Series(\n",
    "    name='site',\n",
    "    data={hash_like(item): item\n",
    "          for item in [\n",
    "              'Alvena',\n",
    "              'Clavet',\n",
    "              'Indian Head',\n",
    "              'Kernan',\n",
    "              'Llewellyn',\n",
    "              'Meadow Lake',\n",
    "              'Melfort',\n",
    "              'Outlook',\n",
    "              'SEF',\n",
    "              'Wakaw',\n",
    "              'Yellow Creek',\n",
    "          ]},\n",
    ")\n",
    "preferred_site_id.index.set_names(['site_index'], inplace=True)\n",
    "preferred_site_id.to_frame().T"
   ]
  },
  {
   "cell_type": "markdown",
   "metadata": {},
   "source": [
    "With this list, I can compare the reduced (\"hashed\") values to the ones in the actual data and apply the preferred name where it matches."
   ]
  },
  {
   "cell_type": "markdown",
   "metadata": {},
   "source": [
    "##### Confirm Expected Outliers"
   ]
  },
  {
   "cell_type": "markdown",
   "metadata": {},
   "source": [
    "Everything that isn't in the preferred site name list:"
   ]
  },
  {
   "cell_type": "code",
   "execution_count": null,
   "metadata": {},
   "outputs": [],
   "source": [
    "site_values[\n",
    "    ~ site_values.index.get_level_values('site_index')\n",
    "    .isin(preferred_site_id.index)\n",
    "]"
   ]
  },
  {
   "cell_type": "markdown",
   "metadata": {},
   "source": [
    "These outliers are from the unmatchable records I mentioned upon my first look at the [unique site] labels. I can move on without doing anything further on these.\n",
    "\n",
    "[unique site]: #Outliers"
   ]
  },
  {
   "cell_type": "markdown",
   "metadata": {},
   "source": [
    "Report on which records would be changed if I relabel `site`:"
   ]
  },
  {
   "cell_type": "code",
   "execution_count": null,
   "metadata": {},
   "outputs": [],
   "source": [
    "pandas.concat(\n",
    "    (\n",
    "        site_values,\n",
    "        preferred_site_id.to_frame().combine_first(site_values),\n",
    "    ),\n",
    "    keys=['Before', 'After'],\n",
    "    axis='columns',\n",
    ").reset_index('site_index', drop=True).applymap(wrap_brackets)"
   ]
  },
  {
   "cell_type": "markdown",
   "metadata": {},
   "source": [
    "This looks good to me. I'll apply the names:"
   ]
  },
  {
   "cell_type": "code",
   "execution_count": null,
   "metadata": {},
   "outputs": [],
   "source": [
    "for frame in compare_sheets:\n",
    "    frame.site = preferred_site_id.to_frame().combine_first(frame).site"
   ]
  },
  {
   "cell_type": "markdown",
   "metadata": {},
   "source": [
    "I'll review the label values for `site` in both data frames, to see the result of those changes:"
   ]
  },
  {
   "cell_type": "code",
   "execution_count": null,
   "metadata": {},
   "outputs": [],
   "source": [
    "(\n",
    "    pandas.concat(\n",
    "        (frame[['site']] for frame in compare_sheets),\n",
    "        keys=sheet_names,\n",
    "        names=['Sheet Name', 'index', 'site_index'],\n",
    "    )\n",
    "    .site\n",
    "    .drop_duplicates()\n",
    "    .reset_index('site_index', drop=True)\n",
    "    .sort_values()\n",
    "    .apply(wrap_brackets)\n",
    ")"
   ]
  },
  {
   "cell_type": "markdown",
   "metadata": {},
   "source": [
    "#### Normalize Crop"
   ]
  },
  {
   "cell_type": "markdown",
   "metadata": {},
   "source": [
    "Here are the `crop` field values for both data frames. (Since I've noticed some sneaky whitespace, I'll wrap the `crop` values in brackets for visualization.)"
   ]
  },
  {
   "cell_type": "code",
   "execution_count": null,
   "metadata": {},
   "outputs": [],
   "source": [
    "crops = pandas.concat(\n",
    "    (\n",
    "        frame.crop.apply(str)\n",
    "        for frame in compare_sheets\n",
    "    ),\n",
    "    keys=sheet_names,\n",
    "    sort=True,\n",
    ").drop_duplicates().reset_index(drop=True).sort_values()\n",
    "crops.apply(wrap_brackets)"
   ]
  },
  {
   "cell_type": "markdown",
   "metadata": {},
   "source": [
    "Clearly, there are some variations that should be corrected, in both data frames.\n",
    "\n",
    "- whitespace\n",
    "- letter case\n",
    "- word separation"
   ]
  },
  {
   "cell_type": "markdown",
   "metadata": {},
   "source": [
    "I'll write a function that transforms any given \"crop\" value into a uniform representation of the crop it's intended to represent."
   ]
  },
  {
   "cell_type": "code",
   "execution_count": null,
   "metadata": {},
   "outputs": [],
   "source": [
    "def normalize_str(value, separator=' '):\n",
    "    if value is pandas.np.nan:\n",
    "        return value\n",
    "\n",
    "    str_value = str(value)\n",
    "\n",
    "    # Add separators between words, title case\n",
    "    is_mixed_case = str_value.upper() != str_value.lower() and not (str_value.islower() or str_value.isupper())\n",
    "    if is_mixed_case:\n",
    "        word_index = [\n",
    "            index for index, char in enumerate(str_value) \n",
    "            if char.isupper()\n",
    "        ] + [None]\n",
    "        if word_index:\n",
    "            words = [\n",
    "                str_value[word_index[i]:word_index[i + 1]].strip()\n",
    "                for i in range(len(word_index) - 1)\n",
    "            ]\n",
    "            str_value = separator.join(words)\n",
    "    \n",
    "    transformed = re.compile(r'[^a-zA-Z0-9]').sub(separator, str(str_value).title())\n",
    "    \n",
    "    # De-pluralize\n",
    "    if transformed.endswith('Oats'):\n",
    "        transformed = transformed[:-1]\n",
    "    \n",
    "    return transformed"
   ]
  },
  {
   "cell_type": "markdown",
   "metadata": {},
   "source": [
    "Previewing the results, with the square brackets added again:"
   ]
  },
  {
   "cell_type": "code",
   "execution_count": null,
   "metadata": {},
   "outputs": [],
   "source": [
    "pandas.concat(\n",
    "    (\n",
    "        crops,\n",
    "        crops.apply(normalize_str),\n",
    "    ),\n",
    "    keys=(\"Before\", \"After\"),\n",
    "    axis='columns',\n",
    ").sort_values('After').applymap(wrap_brackets)"
   ]
  },
  {
   "cell_type": "markdown",
   "metadata": {},
   "source": [
    "There are some concerning names, such as \"nan\", \"unlisted\", and \"0\", but the renaming result looks good. I'll apply the changes:"
   ]
  },
  {
   "cell_type": "code",
   "execution_count": null,
   "metadata": {},
   "outputs": [],
   "source": [
    "for frame in compare_sheets:\n",
    "    frame.crop = frame.crop.apply(normalize_str)"
   ]
  },
  {
   "cell_type": "markdown",
   "metadata": {},
   "source": [
    "#### Index"
   ]
  },
  {
   "cell_type": "code",
   "execution_count": null,
   "metadata": {},
   "outputs": [],
   "source": [
    "index_column_names = index_location_column_names + ['date',]\n",
    "for frame in compare_sheets:\n",
    "    frame.set_index(index_column_names, inplace=True)"
   ]
  },
  {
   "cell_type": "code",
   "execution_count": null,
   "metadata": {},
   "outputs": [],
   "source": [
    "s2"
   ]
  },
  {
   "cell_type": "markdown",
   "metadata": {},
   "source": [
    "#### Number of Samples & Distance"
   ]
  },
  {
   "cell_type": "markdown",
   "metadata": {},
   "source": [
    "In order to get basic index information when viewing single columns during analysis, I'll set index columns:"
   ]
  },
  {
   "cell_type": "code",
   "execution_count": null,
   "metadata": {},
   "outputs": [],
   "source": [
    "# @todo: rename collection_date\n",
    "s2_indexed = s2.set_index(['site', 'crop', 'collection_date'])"
   ]
  },
  {
   "cell_type": "markdown",
   "metadata": {},
   "source": [
    "##### Number of Samples"
   ]
  },
  {
   "cell_type": "markdown",
   "metadata": {},
   "source": [
    "This field is only present in `Sheet2`. I want to know a little bit about the values:"
   ]
  },
  {
   "cell_type": "code",
   "execution_count": null,
   "metadata": {},
   "outputs": [],
   "source": [
    "s2_indexed['number of samples'].value_counts(dropna=False)"
   ]
  },
  {
   "cell_type": "markdown",
   "metadata": {},
   "source": [
    "There are many missing values in this column, which (like the \"Combined\" value in the `distance(m)` column) suggests a mixture of data from multiple sources — some aggregated and some not. I presume the number of samples relates to the \"combined\" values, but I need to confirm:"
   ]
  },
  {
   "cell_type": "code",
   "execution_count": null,
   "metadata": {},
   "outputs": [],
   "source": [
    "s2_indexed.loc[\n",
    "    s2_indexed['number of samples'].isna() | (s2_indexed['distance(m)'] == 'Combined'),\n",
    "    ['distance(m)', 'number of samples']\n",
    "].drop_duplicates()"
   ]
  },
  {
   "cell_type": "markdown",
   "metadata": {},
   "source": [
    "This confirms that where the number of samples is not indicated, the corresponding distance value is numeric. That's consistent with aggregation of the data, so I feel I understand what I'll be dealing with in preparation for the value comparison phase of my analysis."
   ]
  },
  {
   "cell_type": "markdown",
   "metadata": {},
   "source": [
    "##### Distance"
   ]
  },
  {
   "cell_type": "code",
   "execution_count": null,
   "metadata": {},
   "outputs": [],
   "source": [
    "s2_indexed['distance(m)'].drop_duplicates()"
   ]
  },
  {
   "cell_type": "markdown",
   "metadata": {},
   "source": [
    "I've been concerned about redundancy and potential loss of precision due to the presence of a non-numerical value for `distance(m)`. Some records have a distance value of \"Combined\". I must decide whether to include both types of records.\n",
    "\n",
    "With a values at the same physical location, date, and of the same crop type:\n",
    "- Can I be assured that the presence of \"Combined\" in the distance field always indicates the sum of all corresponding values?\n",
    "- Conversely, if the non-combined (discrete) values do not account for the \"Combined\" value, can I be assured that there is no relationship — and therefore I should use both as separate samples?\n",
    "\n",
    "To answer these questions, I'll separate discrete and aggregated sets, then examine:\n",
    "\n",
    "- Overlap of independent variables (site, crop, date).\n",
    "- Sum of discrete sample values, as compared with values in the \"Combined\" set."
   ]
  },
  {
   "cell_type": "code",
   "execution_count": null,
   "metadata": {},
   "outputs": [],
   "source": [
    "s2_indexed_special_distance, s2_special_distance = (\n",
    "    series[series['distance(m)'] != 'Combined'].sort_index()\n",
    "    for series in (s2_indexed, s2))\n",
    "s2_indexed_special_distance.index.size / s2_special_distance.index.size"
   ]
  },
  {
   "cell_type": "code",
   "execution_count": null,
   "metadata": {},
   "outputs": [],
   "source": [
    "s2_distance_combined = s2_indexed[s2_indexed['distance(m)'] == 'Combined'].sort_index()\n",
    "s2_distance_discrete = s2_indexed[s2_indexed['distance(m)'] != 'Combined'].sort_index()"
   ]
  },
  {
   "cell_type": "markdown",
   "metadata": {},
   "source": [
    "Quick sanity check by comparing index size:"
   ]
  },
  {
   "cell_type": "code",
   "execution_count": null,
   "metadata": {},
   "outputs": [],
   "source": [
    "s2_distance_discrete.index.drop_duplicates().size / s2_distance_combined.index.drop_duplicates().size"
   ]
  },
  {
   "cell_type": "markdown",
   "metadata": {},
   "source": [
    "That's to be expected, since many values tend to aggregate down to fewer values."
   ]
  },
  {
   "cell_type": "markdown",
   "metadata": {},
   "source": [
    "The actual unique difference, per set theory:"
   ]
  },
  {
   "cell_type": "code",
   "execution_count": null,
   "metadata": {},
   "outputs": [],
   "source": [
    "(s2_distance_combined.index ^ s2_distance_discrete.index).size"
   ]
  },
  {
   "cell_type": "markdown",
   "metadata": {},
   "source": [
    "Oh? Nine unexpected index entries? Are they in \"discrete\"? Maybe some rows were overlooked during aggregation, or maybe multiple sources were merged into one worksheet—some being aggregated and some not."
   ]
  },
  {
   "cell_type": "code",
   "execution_count": null,
   "metadata": {},
   "outputs": [],
   "source": [
    "(s2_distance_combined.index ^ s2_distance_discrete.index).isin(s2_distance_discrete.index).size"
   ]
  },
  {
   "cell_type": "markdown",
   "metadata": {},
   "source": [
    "All nine are accounted for in \"discrete\". "
   ]
  },
  {
   "cell_type": "markdown",
   "metadata": {},
   "source": [
    "##### Compare Group Sums to Pre-existing \"Combined\""
   ]
  },
  {
   "cell_type": "markdown",
   "metadata": {},
   "source": [
    "I didn't expect that the data set from `Sheet2` would have sums (presumably from groupings of `distance(m)` values), yet also some non-aggregated values. Normally, these wouldn't be mixed, because they represent different dimensional orders. Because this data set's dimensional order is inconsistent, there could be some redundancy in the total information available, or contradictions.\n",
    "\n",
    "Any redundancy, whether contradictory or not, would affect the calculation of sums for the for the intended [objective], unless there's exactly one record for each space and time combination — that is to say, if there are discrete values as well as previously \"combined\" values for the same point along the index, I'll have to avoid including the pre-calculated sum when aggregating my own sums, otherwise the resulting totals will be doubled.\n",
    "\n",
    "[objective]: #Objective"
   ]
  },
  {
   "cell_type": "code",
   "execution_count": null,
   "metadata": {},
   "outputs": [],
   "source": [
    "s2_grouped = s2_indexed.groupby(s2_indexed.index.names + [s2_indexed['distance(m)'] == 'Combined'])"
   ]
  },
  {
   "cell_type": "code",
   "execution_count": null,
   "metadata": {},
   "outputs": [],
   "source": [
    "s2_grouped.size().describe()"
   ]
  },
  {
   "cell_type": "markdown",
   "metadata": {},
   "source": [
    "When grouped by all the indices, I hoped to see a `max = 1` for group size. Since the size some groups is greater than one, there are multiple values in some places. Therefore, it's worth checking for the consistency of values between discrete and aggregated for each combination of place, time, and specimen. If there are discrepencies, they'll need to be reconciled."
   ]
  },
  {
   "cell_type": "markdown",
   "metadata": {},
   "source": [
    "My sums and the source file's sums, side-by-side:"
   ]
  },
  {
   "cell_type": "code",
   "execution_count": null,
   "metadata": {},
   "outputs": [],
   "source": [
    "s2_distance_check = (\n",
    "    s2_grouped\n",
    "    .sum()\n",
    "    .sum(axis='columns')\n",
    "    .rename(index={False: 'Mine', True: 'Theirs'}, level='distance(m)')\n",
    "    .unstack()\n",
    ")\n",
    "s2_distance_check#.head()"
   ]
  },
  {
   "cell_type": "code",
   "execution_count": null,
   "metadata": {},
   "outputs": [],
   "source": [
    "s2_distance_combined.eq(s2_distance_discrete).head()"
   ]
  },
  {
   "cell_type": "markdown",
   "metadata": {},
   "source": [
    "#### Observation Data"
   ]
  },
  {
   "cell_type": "markdown",
   "metadata": {},
   "source": [
    "Now that the data frame indices I built from the `date`, `site`, `field` and `crop` columns align, I need to determine which phenotypes observation were recorded in both data frames."
   ]
  },
  {
   "cell_type": "markdown",
   "metadata": {},
   "source": [
    "##### @todo: select aphid columns, check if others exist in common"
   ]
  },
  {
   "cell_type": "markdown",
   "metadata": {},
   "source": [
    "# WIP "
   ]
  },
  {
   "cell_type": "code",
   "execution_count": null,
   "metadata": {},
   "outputs": [],
   "source": [
    "pandas.concat(\n",
    "    dict(zip(sheet_names, compare_sheets)),\n",
    "    sort=True,\n",
    ")"
   ]
  }
 ],
 "metadata": {
  "kernelspec": {
   "display_name": "Python 3",
   "language": "python",
   "name": "python3"
  },
  "language_info": {
   "codemirror_mode": {
    "name": "ipython",
    "version": 3
   },
   "file_extension": ".py",
   "mimetype": "text/x-python",
   "name": "python",
   "nbconvert_exporter": "python",
   "pygments_lexer": "ipython3",
   "version": "3.6.5"
  },
  "toc": {
   "base_numbering": 1,
   "nav_menu": {},
   "number_sections": true,
   "sideBar": true,
   "skip_h1_title": false,
   "title_cell": "Table of Contents",
   "title_sidebar": "Contents",
   "toc_cell": false,
   "toc_position": {},
   "toc_section_display": true,
   "toc_window_display": false
  }
 },
 "nbformat": 4,
 "nbformat_minor": 2
}
