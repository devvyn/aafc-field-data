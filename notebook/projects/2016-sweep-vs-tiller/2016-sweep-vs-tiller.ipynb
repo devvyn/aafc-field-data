{
 "cells": [
  {
   "cell_type": "markdown",
   "metadata": {
    "collapsed": true
   },
   "source": [
    "# Introduction "
   ]
  },
  {
   "cell_type": "markdown",
   "metadata": {
    "collapsed": true
   },
   "source": [
    "## Objective"
   ]
  },
  {
   "cell_type": "markdown",
   "metadata": {
    "collapsed": true
   },
   "source": [
    "- Answer the question:\n",
    "  * For any given day and place is the relationship between observations recorded as \"head counts\" and those recorded as \"sweeps\"?\n",
    "- Document the process of finding the answer so that the exact steps are replicable and clearly demonstrated here."
   ]
  },
  {
   "cell_type": "markdown",
   "metadata": {
    "collapsed": true
   },
   "source": [
    "## About the Data"
   ]
  },
  {
   "cell_type": "markdown",
   "metadata": {
    "collapsed": true
   },
   "source": [
    "![\"Perfectly straight line in graph comparing supposedly independent variables in Head Count and Sweeps workbook, in Excel Online\"](head-count-sweeps-graph-excel-online.png)"
   ]
  },
  {
   "cell_type": "markdown",
   "metadata": {
    "collapsed": true
   },
   "source": [
    "I'm troubleshooting a spreadsheet document that was prepared by someone else. Whoever prepared it probably handed it off to someone else before I came into contact. The information in the document looks like it's been copied from other documents which I'm not certain I have access to.\n",
    "\n",
    "In this document, there's a graph that demonstrates the goal of the document: to compare the relationship between two observation methods. Unfortunately, the graph shows a suspicious degree of idealness: a perfect one-to-one ratio across the entire domain.\n",
    "\n",
    "My assignment is to trace the error and correct the graph so that it displays the precise ratios calculated from appropriate samples. The samples available for this purpose are counts of aphids collected by the two methods described in the [Objective].\n",
    "\n",
    "[Objective]: #Objective"
   ]
  },
  {
   "cell_type": "markdown",
   "metadata": {
    "collapsed": true
   },
   "source": [
    "### Explore Worksheets"
   ]
  },
  {
   "cell_type": "markdown",
   "metadata": {
    "collapsed": true
   },
   "source": [
    "Before getting hands on with _pandas_, I'll open the document in Excel and record what my senses tell me."
   ]
  },
  {
   "cell_type": "markdown",
   "metadata": {
    "collapsed": true
   },
   "source": [
    "#### Unbelievable Graph"
   ]
  },
  {
   "cell_type": "markdown",
   "metadata": {
    "collapsed": true
   },
   "source": [
    "- There's a graph in a worksheet called \"head counts vs sweeps graphs\" which demonstrates the analytical problem encountered/developed by someone else.\n",
    "- The data supposedly being compared in the graph is cannot be the data that was intended for comparison because the ratio depicted is perfectly linear even though it's comparing real world samples."
   ]
  },
  {
   "cell_type": "markdown",
   "metadata": {
    "collapsed": true
   },
   "source": [
    "#### Work Not Shown"
   ]
  },
  {
   "cell_type": "markdown",
   "metadata": {
    "collapsed": true
   },
   "source": [
    "It's clear that the Excel workbook has the results of many calculations, yet there are no spreadsheet formulas in any cells. Spreadsheet formulas would have greatly expedited the verification of the calculations; without any reference to how the calculations were performed and on what values, I'll need to replicate them from scratch."
   ]
  },
  {
   "cell_type": "markdown",
   "metadata": {
    "collapsed": true
   },
   "source": [
    "#### Metadata and Document History"
   ]
  },
  {
   "cell_type": "markdown",
   "metadata": {
    "collapsed": true
   },
   "source": [
    "- Data may have been copied from multiple, unidentified sources.\n",
    "- It's not clear which data is \"original\" and which is duplicated, amongst the worksheets in the workbook.\n",
    "- Some data appears to have been summed and then mixed back in with the rest of the data.\n",
    "- There are no notes from editors of the workbook, and the editors are unidentifiable."
   ]
  },
  {
   "cell_type": "markdown",
   "metadata": {
    "collapsed": true
   },
   "source": [
    "### Summary of Issues"
   ]
  },
  {
   "cell_type": "markdown",
   "metadata": {
    "collapsed": true
   },
   "source": [
    "- No metadata\n",
    "- No convention for categorical label values\n",
    "- Mixed aggregation levels (some sums mixed with non-summed data)\n",
    "- Graph plot is based on incorrect values"
   ]
  },
  {
   "cell_type": "markdown",
   "metadata": {
    "collapsed": true
   },
   "source": [
    "## Analytical Goals"
   ]
  },
  {
   "cell_type": "markdown",
   "metadata": {
    "collapsed": true
   },
   "source": [
    "### Tidy & Plot Ratios"
   ]
  },
  {
   "cell_type": "markdown",
   "metadata": {
    "collapsed": true
   },
   "source": [
    "- Data is clean and indexed well enough to align quantitative samples from the two field collection methods.\n",
    "- Upon plotting the ratios of dependent variables corresponding with each collection method, the graph should not depict an absolutely perfect fit to a line. That is to say, there should be some variation."
   ]
  },
  {
   "cell_type": "markdown",
   "metadata": {
    "collapsed": true
   },
   "source": [
    "### Retain for Reference"
   ]
  },
  {
   "cell_type": "markdown",
   "metadata": {
    "collapsed": true
   },
   "source": [
    "- For posterity, the data should be easy to align with any similar data. This makes it possible to identify whether the same data exists in any other file."
   ]
  },
  {
   "cell_type": "markdown",
   "metadata": {
    "collapsed": true
   },
   "source": [
    "# Pre-analysis"
   ]
  },
  {
   "cell_type": "markdown",
   "metadata": {
    "collapsed": true
   },
   "source": [
    "## Setup Computing Environment"
   ]
  },
  {
   "cell_type": "markdown",
   "metadata": {
    "collapsed": true
   },
   "source": [
    "### Import Python Packages"
   ]
  },
  {
   "cell_type": "code",
   "execution_count": 1,
   "metadata": {
    "collapsed": false
   },
   "outputs": [
   ],
   "source": [
    "import re\n",
    "\n",
    "import pandas\n",
    "from markdown import markdown\n",
    "from IPython.display import HTML"
   ]
  },
  {
   "cell_type": "markdown",
   "metadata": {
    "collapsed": true
   },
   "source": [
    "## Load Worksheets into _pandas_"
   ]
  },
  {
   "cell_type": "markdown",
   "metadata": {
    "collapsed": true
   },
   "source": [
    "I'll make a dictionary of names and data frames, so I can examine the file overall."
   ]
  },
  {
   "cell_type": "code",
   "execution_count": 2,
   "metadata": {
    "collapsed": false
   },
   "outputs": [
   ],
   "source": [
    "data_file = pandas.ExcelFile('../data/2016 combination.xlsx')\n",
    "sheets = {\n",
    "    sheet_name: data_file.parse(sheet_name)\n",
    "    for sheet_name in data_file.sheet_names\n",
    "}\n",
    "sheet_names = sheets.keys()\n",
    "sheet_frames = sheets.values()"
   ]
  },
  {
   "cell_type": "markdown",
   "metadata": {
    "collapsed": true
   },
   "source": [
    "### Classify Worksheets"
   ]
  },
  {
   "cell_type": "markdown",
   "metadata": {
    "collapsed": false
   },
   "source": [
    "Because I can't trust the accuracy of the data used by the plot in Excel, I need to look at all the sheets and determine the most complete and unadulterated data sets. I'll determine which data belongs to each category, and compare the sets."
   ]
  },
  {
   "cell_type": "markdown",
   "metadata": {
    "collapsed": false
   },
   "source": [
    "#### Compare Columns"
   ]
  },
  {
   "cell_type": "markdown",
   "metadata": {
    "collapsed": true
   },
   "source": [
    "To begin to discern which data is original, I'll list the first eight columns of each worksheet, which will provide me a sense for the difference in data structures:"
   ]
  },
  {
   "cell_type": "code",
   "execution_count": 3,
   "metadata": {
    "collapsed": false
   },
   "outputs": [
    {
     "data": {
      "text/html": [
       "<div>\n",
       "<style scoped>\n",
       "    .dataframe tbody tr th:only-of-type {\n",
       "        vertical-align: middle;\n",
       "    }\n",
       "\n",
       "    .dataframe tbody tr th {\n",
       "        vertical-align: top;\n",
       "    }\n",
       "\n",
       "    .dataframe thead th {\n",
       "        text-align: right;\n",
       "    }\n",
       "</style>\n",
       "<table border=\"1\" class=\"dataframe\">\n",
       "  <thead>\n",
       "    <tr style=\"text-align: right;\">\n",
       "      <th></th>\n",
       "      <th>0</th>\n",
       "      <th>1</th>\n",
       "      <th>2</th>\n",
       "      <th>3</th>\n",
       "      <th>4</th>\n",
       "      <th>5</th>\n",
       "      <th>6</th>\n",
       "      <th>7</th>\n",
       "      <th>8</th>\n",
       "    </tr>\n",
       "  </thead>\n",
       "  <tbody>\n",
       "    <tr>\n",
       "      <th>Head Counts</th>\n",
       "      <td>Site</td>\n",
       "      <td>Crop</td>\n",
       "      <td>Date</td>\n",
       "      <td>Field</td>\n",
       "      <td>Zadoks_stage</td>\n",
       "      <td>Tiller</td>\n",
       "      <td>EGA_head</td>\n",
       "      <td>EGA_leaf</td>\n",
       "      <td>BCO_head</td>\n",
       "    </tr>\n",
       "    <tr>\n",
       "      <th>Sheet2</th>\n",
       "      <td>ID</td>\n",
       "      <td>Province</td>\n",
       "      <td>Collection_Date</td>\n",
       "      <td>Sample_by_week</td>\n",
       "      <td>Date_by_week</td>\n",
       "      <td>Date</td>\n",
       "      <td>Julian_date</td>\n",
       "      <td>Site</td>\n",
       "      <td>Field_name</td>\n",
       "    </tr>\n",
       "    <tr>\n",
       "      <th>Sweep Samples Cereals</th>\n",
       "      <td>ID</td>\n",
       "      <td>Province</td>\n",
       "      <td>Collection_Date</td>\n",
       "      <td>Sample_by_week</td>\n",
       "      <td>Date_by_week</td>\n",
       "      <td>Date</td>\n",
       "      <td>Julian_date</td>\n",
       "      <td>Site</td>\n",
       "      <td>Field_name</td>\n",
       "    </tr>\n",
       "    <tr>\n",
       "      <th>Head Counts Edited</th>\n",
       "      <td>Date</td>\n",
       "      <td>Site</td>\n",
       "      <td>Crop</td>\n",
       "      <td>Field</td>\n",
       "      <td>Sample Type</td>\n",
       "      <td>Unnamed: 5</td>\n",
       "      <td>Zadoks_stage</td>\n",
       "      <td>Tiller</td>\n",
       "      <td>EGA_alate</td>\n",
       "    </tr>\n",
       "    <tr>\n",
       "      <th>Sweep Samples Cereals Edited</th>\n",
       "      <td>Date</td>\n",
       "      <td>Site</td>\n",
       "      <td>Crop</td>\n",
       "      <td>Field_name</td>\n",
       "      <td>Sample Type</td>\n",
       "      <td>Total Sweeps</td>\n",
       "      <td>Unnamed: 6</td>\n",
       "      <td>Unnamed: 7</td>\n",
       "      <td>EGA_alate</td>\n",
       "    </tr>\n",
       "    <tr>\n",
       "      <th>Data Sheets Combined</th>\n",
       "      <td>ID</td>\n",
       "      <td>Date</td>\n",
       "      <td>Site</td>\n",
       "      <td>Crop</td>\n",
       "      <td>Field_name</td>\n",
       "      <td>Sample Type</td>\n",
       "      <td>Total Sweeps</td>\n",
       "      <td>Zadoks_stage</td>\n",
       "      <td>Tiller</td>\n",
       "    </tr>\n",
       "    <tr>\n",
       "      <th>Pivot chart LH phen</th>\n",
       "      <td>None</td>\n",
       "      <td>None</td>\n",
       "      <td>None</td>\n",
       "      <td>None</td>\n",
       "      <td>None</td>\n",
       "      <td>None</td>\n",
       "      <td>None</td>\n",
       "      <td>None</td>\n",
       "      <td>None</td>\n",
       "    </tr>\n",
       "    <tr>\n",
       "      <th>leafhoppers 2016 cereal sweeps</th>\n",
       "      <td>Collection_Date</td>\n",
       "      <td>Sample_by_week</td>\n",
       "      <td>Date_by_week</td>\n",
       "      <td>Date</td>\n",
       "      <td>Julian_date</td>\n",
       "      <td>Site</td>\n",
       "      <td>Field_name</td>\n",
       "      <td>Crop</td>\n",
       "      <td>Distance(m)</td>\n",
       "    </tr>\n",
       "    <tr>\n",
       "      <th>Sheet3</th>\n",
       "      <td>None</td>\n",
       "      <td>None</td>\n",
       "      <td>None</td>\n",
       "      <td>None</td>\n",
       "      <td>None</td>\n",
       "      <td>None</td>\n",
       "      <td>None</td>\n",
       "      <td>None</td>\n",
       "      <td>None</td>\n",
       "    </tr>\n",
       "    <tr>\n",
       "      <th>aphid sweep vs head count</th>\n",
       "      <td>ID</td>\n",
       "      <td>Date</td>\n",
       "      <td>Site</td>\n",
       "      <td>Crop</td>\n",
       "      <td>Field_name</td>\n",
       "      <td>Sample Type</td>\n",
       "      <td>Total Sweeps</td>\n",
       "      <td>Zadoks_stage</td>\n",
       "      <td>Tiller</td>\n",
       "    </tr>\n",
       "    <tr>\n",
       "      <th>head counts vs sweeps graphs</th>\n",
       "      <td>Unnamed: 0</td>\n",
       "      <td>Total_aphids_sweep</td>\n",
       "      <td>Aphids/head</td>\n",
       "      <td>Unnamed: 3</td>\n",
       "      <td>Unnamed: 4</td>\n",
       "      <td>Unnamed: 5</td>\n",
       "      <td>Unnamed: 6</td>\n",
       "      <td>Unnamed: 7</td>\n",
       "      <td>Unnamed: 8</td>\n",
       "    </tr>\n",
       "  </tbody>\n",
       "</table>\n",
       "</div>"
      ],
      "text/plain": [
       "                                              0                   1  \\\n",
       "Head Counts                                Site                Crop   \n",
       "Sheet2                                       ID            Province   \n",
       "Sweep Samples Cereals                        ID            Province   \n",
       "Head Counts Edited                         Date                Site   \n",
       "Sweep Samples Cereals Edited               Date                Site   \n",
       "Data Sheets Combined                         ID                Date   \n",
       "Pivot chart LH phen                        None                None   \n",
       "leafhoppers 2016 cereal sweeps  Collection_Date      Sample_by_week   \n",
       "Sheet3                                     None                None   \n",
       "aphid sweep vs head count                    ID                Date   \n",
       "head counts vs sweeps graphs         Unnamed: 0  Total_aphids_sweep   \n",
       "\n",
       "                                              2               3             4  \\\n",
       "Head Counts                                Date           Field  Zadoks_stage   \n",
       "Sheet2                          Collection_Date  Sample_by_week  Date_by_week   \n",
       "Sweep Samples Cereals           Collection_Date  Sample_by_week  Date_by_week   \n",
       "Head Counts Edited                         Crop           Field   Sample Type   \n",
       "Sweep Samples Cereals Edited               Crop      Field_name   Sample Type   \n",
       "Data Sheets Combined                       Site            Crop    Field_name   \n",
       "Pivot chart LH phen                        None            None          None   \n",
       "leafhoppers 2016 cereal sweeps     Date_by_week            Date   Julian_date   \n",
       "Sheet3                                     None            None          None   \n",
       "aphid sweep vs head count                  Site            Crop    Field_name   \n",
       "head counts vs sweeps graphs        Aphids/head      Unnamed: 3    Unnamed: 4   \n",
       "\n",
       "                                           5             6             7  \\\n",
       "Head Counts                           Tiller      EGA_head      EGA_leaf   \n",
       "Sheet2                                  Date   Julian_date          Site   \n",
       "Sweep Samples Cereals                   Date   Julian_date          Site   \n",
       "Head Counts Edited                Unnamed: 5  Zadoks_stage        Tiller   \n",
       "Sweep Samples Cereals Edited    Total Sweeps    Unnamed: 6    Unnamed: 7   \n",
       "Data Sheets Combined             Sample Type  Total Sweeps  Zadoks_stage   \n",
       "Pivot chart LH phen                     None          None          None   \n",
       "leafhoppers 2016 cereal sweeps          Site    Field_name          Crop   \n",
       "Sheet3                                  None          None          None   \n",
       "aphid sweep vs head count        Sample Type  Total Sweeps  Zadoks_stage   \n",
       "head counts vs sweeps graphs      Unnamed: 5    Unnamed: 6    Unnamed: 7   \n",
       "\n",
       "                                          8  \n",
       "Head Counts                        BCO_head  \n",
       "Sheet2                           Field_name  \n",
       "Sweep Samples Cereals            Field_name  \n",
       "Head Counts Edited                EGA_alate  \n",
       "Sweep Samples Cereals Edited      EGA_alate  \n",
       "Data Sheets Combined                 Tiller  \n",
       "Pivot chart LH phen                    None  \n",
       "leafhoppers 2016 cereal sweeps  Distance(m)  \n",
       "Sheet3                                 None  \n",
       "aphid sweep vs head count            Tiller  \n",
       "head counts vs sweeps graphs     Unnamed: 8  "
      ]
     },
     "execution_count": 3,
     "metadata": {
     },
     "output_type": "execute_result"
    }
   ],
   "source": [
    "pandas.DataFrame(\n",
    "    data=[frame.columns for frame in sheet_frames],\n",
    "    index=pandas.Index(data=sheet_names),\n",
    ").loc[:, :8]"
   ]
  },
  {
   "cell_type": "markdown",
   "metadata": {
    "collapsed": true
   },
   "source": [
    "Based on sheet names, column names, and similarities between columns sets, I can probably group the sheets like so:"
   ]
  },
  {
   "cell_type": "markdown",
   "metadata": {
    "collapsed": true
   },
   "source": [
    "#### Tiller Head Count"
   ]
  },
  {
   "cell_type": "markdown",
   "metadata": {
    "collapsed": true
   },
   "source": [
    "- **Head Counts**\n",
    "- **Head Counts Edited**"
   ]
  },
  {
   "cell_type": "markdown",
   "metadata": {
    "collapsed": true
   },
   "source": [
    "#### Net Sweep"
   ]
  },
  {
   "cell_type": "markdown",
   "metadata": {
    "collapsed": true
   },
   "source": [
    "- **Sheet2**\n",
    "- **Sweep Samples Cereals**\n",
    "- **Sweep Samples Cereals Edited**\n",
    "- **leafhoppers 2016 cereal sweeps**"
   ]
  },
  {
   "cell_type": "markdown",
   "metadata": {
    "collapsed": true
   },
   "source": [
    "#### Extraneous"
   ]
  },
  {
   "cell_type": "markdown",
   "metadata": {
    "collapsed": true
   },
   "source": [
    "- United:\n",
    "  - **Data Sheets Combined**\n",
    "- Analytical experiments:\n",
    "  - **Pivot chart LH phen**\n",
    "  - **Sheet3**\n",
    "  - **aphid sweep vs head count**\n",
    "  - **head counts vs sweeps graphs**"
   ]
  },
  {
   "cell_type": "markdown",
   "metadata": {
    "collapsed": false
   },
   "source": [
    "I don't want any of the sheets grouped under \"extraneous\". The **Data Sheets Combined** sheet is uninteresting to me because I want to \"combine\" the sheets in my own way, rather than trust duplicated spreadsheet ranges."
   ]
  },
  {
   "cell_type": "markdown",
   "metadata": {
    "collapsed": true
   },
   "source": [
    "## Tidy Up"
   ]
  },
  {
   "cell_type": "markdown",
   "metadata": {
    "collapsed": true
   },
   "source": [
    "### Normalize Column Names"
   ]
  },
  {
   "cell_type": "markdown",
   "metadata": {
    "collapsed": true
   },
   "source": [
    "I've already noticed at least one leading space on a column name (\"spiders\"), and variations in capitalization. To compensate for this, I'll strip all leading and trailing whitespace from the column names."
   ]
  },
  {
   "cell_type": "markdown",
   "metadata": {
    "collapsed": true
   },
   "source": [
    "To avoid confusion due to variations in capitalization, I'll convert all column names to lower case."
   ]
  },
  {
   "cell_type": "code",
   "execution_count": 4,
   "metadata": {
    "collapsed": false
   },
   "outputs": [
   ],
   "source": [
    "for sheet in sheets.values():\n",
    "    if sheet.columns.size > 0:\n",
    "        sheet.columns = sheet.columns.str.strip().str.lower()"
   ]
  },
  {
   "cell_type": "markdown",
   "metadata": {
    "collapsed": true
   },
   "source": [
    "### Convert Date & Time Format"
   ]
  },
  {
   "cell_type": "markdown",
   "metadata": {
    "collapsed": true
   },
   "source": [
    "Before I can easily examine dates from the worksheets, I must convert them to proper date values for Python and *pandas*. I'll check the date formats:"
   ]
  },
  {
   "cell_type": "code",
   "execution_count": 5,
   "metadata": {
    "collapsed": false
   },
   "outputs": [
    {
     "data": {
      "text/html": [
       "<div>\n",
       "<style scoped>\n",
       "    .dataframe tbody tr th:only-of-type {\n",
       "        vertical-align: middle;\n",
       "    }\n",
       "\n",
       "    .dataframe tbody tr th {\n",
       "        vertical-align: top;\n",
       "    }\n",
       "\n",
       "    .dataframe thead th {\n",
       "        text-align: right;\n",
       "    }\n",
       "</style>\n",
       "<table border=\"1\" class=\"dataframe\">\n",
       "  <thead>\n",
       "    <tr style=\"text-align: right;\">\n",
       "      <th></th>\n",
       "      <th>collection_date</th>\n",
       "      <th>date</th>\n",
       "      <th>date_by_week</th>\n",
       "      <th>julian_date</th>\n",
       "    </tr>\n",
       "  </thead>\n",
       "  <tbody>\n",
       "    <tr>\n",
       "      <th>Data Sheets Combined</th>\n",
       "      <td></td>\n",
       "      <td>2016-08-12 00:00:00</td>\n",
       "      <td></td>\n",
       "      <td></td>\n",
       "    </tr>\n",
       "    <tr>\n",
       "      <th>Head Counts</th>\n",
       "      <td></td>\n",
       "      <td>04/08/2016</td>\n",
       "      <td></td>\n",
       "      <td></td>\n",
       "    </tr>\n",
       "    <tr>\n",
       "      <th>Head Counts Edited</th>\n",
       "      <td></td>\n",
       "      <td>2016-08-04 00:00:00</td>\n",
       "      <td></td>\n",
       "      <td></td>\n",
       "    </tr>\n",
       "    <tr>\n",
       "      <th>Sheet2</th>\n",
       "      <td>12_08_2016</td>\n",
       "      <td>Aug_12</td>\n",
       "      <td>0</td>\n",
       "      <td>0</td>\n",
       "    </tr>\n",
       "    <tr>\n",
       "      <th>Sweep Samples Cereals</th>\n",
       "      <td>12_08_2016</td>\n",
       "      <td>Aug_12</td>\n",
       "      <td>0</td>\n",
       "      <td>0</td>\n",
       "    </tr>\n",
       "    <tr>\n",
       "      <th>Sweep Samples Cereals Edited</th>\n",
       "      <td></td>\n",
       "      <td>2016-08-12 00:00:00</td>\n",
       "      <td></td>\n",
       "      <td></td>\n",
       "    </tr>\n",
       "    <tr>\n",
       "      <th>aphid sweep vs head count</th>\n",
       "      <td></td>\n",
       "      <td>2016-08-04 00:00:00</td>\n",
       "      <td></td>\n",
       "      <td></td>\n",
       "    </tr>\n",
       "    <tr>\n",
       "      <th>leafhoppers 2016 cereal sweeps</th>\n",
       "      <td>12_08_2016</td>\n",
       "      <td>Aug_12</td>\n",
       "      <td>0</td>\n",
       "      <td>0</td>\n",
       "    </tr>\n",
       "  </tbody>\n",
       "</table>\n",
       "</div>"
      ],
      "text/plain": [
       "                               collection_date                 date  \\\n",
       "Data Sheets Combined                            2016-08-12 00:00:00   \n",
       "Head Counts                                              04/08/2016   \n",
       "Head Counts Edited                              2016-08-04 00:00:00   \n",
       "Sheet2                              12_08_2016               Aug_12   \n",
       "Sweep Samples Cereals               12_08_2016               Aug_12   \n",
       "Sweep Samples Cereals Edited                    2016-08-12 00:00:00   \n",
       "aphid sweep vs head count                       2016-08-04 00:00:00   \n",
       "leafhoppers 2016 cereal sweeps      12_08_2016               Aug_12   \n",
       "\n",
       "                               date_by_week julian_date  \n",
       "Data Sheets Combined                                     \n",
       "Head Counts                                              \n",
       "Head Counts Edited                                       \n",
       "Sheet2                                    0           0  \n",
       "Sweep Samples Cereals                     0           0  \n",
       "Sweep Samples Cereals Edited                             \n",
       "aphid sweep vs head count                                \n",
       "leafhoppers 2016 cereal sweeps            0           0  "
      ]
     },
     "execution_count": 5,
     "metadata": {
     },
     "output_type": "execute_result"
    }
   ],
   "source": [
    "(\n",
    "    pandas.concat(\n",
    "        {\n",
    "            name: sheet.loc[\n",
    "                :,\n",
    "                sheet.columns.str.contains('date')\n",
    "            ].reset_index(drop=True)\n",
    "            for (name, sheet) in sheets.items()\n",
    "                if sheet.columns.size > 0\n",
    "        },\n",
    "        axis='columns',\n",
    "    )\n",
    "    .loc[0]\n",
    "    .unstack()\n",
    "    .fillna('')\n",
    ")"
   ]
  },
  {
   "cell_type": "markdown",
   "metadata": {
    "collapsed": true
   },
   "source": [
    "According to the documentation for [`pandas.to_datetime`], I can convert a string to a true datetime value. The function uses [Python datetime format strings]. Here are the date columns, the format strings, and the worksheet names I see:\n",
    "\n",
    "***collection_date*** (`%m_%d_%Y`):\n",
    "\n",
    "- **leafhoppers 2016 cereal sweeps**\n",
    "- **Sheet2**\n",
    "- **Sweep Samples Cereals**\n",
    "\n",
    "***date*** (`%m/%d/%Y`):\n",
    "\n",
    "- **Head Counts**\n",
    "\n",
    "***date*** (no conversion):\n",
    "\n",
    "- **aphid sweep vs head count**\n",
    "- **Sweep Samples Cereals Edited**\n",
    "- **Head Counts Edited**\n",
    "- **Data Sheets Combined**\n",
    "\n",
    "In some worksheets, the ***date*** column is present even though there's a better column for the date (***collection_date***). I'll drop the ***date*** column and rename the ***collection_date*** column to fill its place.\n",
    "\n",
    "After conversion, I'll output a sample date from the column to prove that the column ***date*** is in fact a datetime.\n",
    "\n",
    "[`pandas.to_datetime`]: http://pandas.pydata.org/pandas-docs/version/0.23/generated/pandas.to_datetime.html\n",
    "[Python datetime format strings]: https://docs.python.org/3/library/datetime.html#strftime-and-strptime-behavior"
   ]
  },
  {
   "cell_type": "code",
   "execution_count": 6,
   "metadata": {
    "collapsed": false
   },
   "outputs": [
    {
     "data": {
      "text/html": [
       "<h4>Head Counts</h4>"
      ],
      "text/plain": [
       "<IPython.core.display.HTML object>"
      ]
     },
     "execution_count": 6,
     "metadata": {
     },
     "output_type": "execute_result"
    },
    {
     "data": {
      "text/plain": [
       "0   2016-08-04\n",
       "Name: date, dtype: datetime64[ns]"
      ]
     },
     "execution_count": 6,
     "metadata": {
     },
     "output_type": "execute_result"
    },
    {
     "data": {
      "text/html": [
       "<h4>Sheet2</h4>"
      ],
      "text/plain": [
       "<IPython.core.display.HTML object>"
      ]
     },
     "execution_count": 6,
     "metadata": {
     },
     "output_type": "execute_result"
    },
    {
     "data": {
      "text/plain": [
       "0   2016-08-12\n",
       "Name: date, dtype: datetime64[ns]"
      ]
     },
     "execution_count": 6,
     "metadata": {
     },
     "output_type": "execute_result"
    },
    {
     "data": {
      "text/html": [
       "<h4>Sweep Samples Cereals</h4>"
      ],
      "text/plain": [
       "<IPython.core.display.HTML object>"
      ]
     },
     "execution_count": 6,
     "metadata": {
     },
     "output_type": "execute_result"
    },
    {
     "data": {
      "text/plain": [
       "0   2016-08-12\n",
       "Name: date, dtype: datetime64[ns]"
      ]
     },
     "execution_count": 6,
     "metadata": {
     },
     "output_type": "execute_result"
    },
    {
     "data": {
      "text/html": [
       "<h4>leafhoppers 2016 cereal sweeps</h4>"
      ],
      "text/plain": [
       "<IPython.core.display.HTML object>"
      ]
     },
     "execution_count": 6,
     "metadata": {
     },
     "output_type": "execute_result"
    },
    {
     "data": {
      "text/plain": [
       "0   2016-08-12\n",
       "Name: date, dtype: datetime64[ns]"
      ]
     },
     "execution_count": 6,
     "metadata": {
     },
     "output_type": "execute_result"
    }
   ],
   "source": [
    "for name, sheet in ((name, sheets[name]) for name in (\n",
    "    'Head Counts',\n",
    "    'Sheet2',\n",
    "    'Sweep Samples Cereals',\n",
    "    'leafhoppers 2016 cereal sweeps',\n",
    ")):\n",
    "    display(HTML(markdown(f'#### {name}')))\n",
    "    if name == 'Head Counts':\n",
    "        sheet['date'] = pandas.to_datetime(\n",
    "            sheet['date'],\n",
    "            format='%d/%m/%Y',\n",
    "        )\n",
    "    else:\n",
    "        sheet.drop(columns='date', inplace=True)\n",
    "        sheet.rename(\n",
    "            columns={'collection_date': 'date'},\n",
    "            inplace=True,\n",
    "        )\n",
    "        sheet['date'] = pandas.to_datetime(\n",
    "            sheet['date'],\n",
    "            format='%d_%m_%Y',\n",
    "        )\n",
    "    display(sheet.date.head(1))"
   ]
  },
  {
   "cell_type": "markdown",
   "metadata": {
    "collapsed": true
   },
   "source": [
    "# Select Primary Data Sets"
   ]
  },
  {
   "cell_type": "markdown",
   "metadata": {
    "collapsed": true
   },
   "source": [
    "## Sweep Samples"
   ]
  },
  {
   "cell_type": "markdown",
   "metadata": {
    "collapsed": true
   },
   "source": [
    "### Candidates"
   ]
  },
  {
   "cell_type": "markdown",
   "metadata": {
    "collapsed": true
   },
   "source": [
    "- **Sheet2**\n",
    "- **Sweep Samples Cereals**\n",
    "- **Sweep Samples Cereals Edited**\n",
    "- **leafhoppers 2016 cereal sweeps**"
   ]
  },
  {
   "cell_type": "markdown",
   "metadata": {
    "collapsed": true
   },
   "source": [
    "From my hands-on exploration in Excel, I got the feeling that **Sheet2** is the most complete. It generally had more rows and looked tidiest. I'll compare it to the other candidates, one at a time."
   ]
  },
  {
   "cell_type": "markdown",
   "metadata": {
    "collapsed": true
   },
   "source": [
    "### **Sheet2** vs **Sweep Samples Cereals**"
   ]
  },
  {
   "cell_type": "markdown",
   "metadata": {
    "collapsed": true
   },
   "source": [
    "I'd like to confirm my hope that all data in **Sweep Samples Cereals** is included in the vaguely named **Sheet2**. I'll put them both in a dictionary called **compare_sheets** for quick reference."
   ]
  },
  {
   "cell_type": "code",
   "execution_count": 7,
   "metadata": {
    "collapsed": false
   },
   "outputs": [
   ],
   "source": [
    "sheet_names = (\n",
    "    'Sweep Samples Cereals',\n",
    "    'Sheet2',\n",
    ")\n",
    "sheets_to_compare = {\n",
    "    name: sheets[name]\n",
    "    for name in sheet_names\n",
    "}"
   ]
  },
  {
   "cell_type": "markdown",
   "metadata": {
    "collapsed": true
   },
   "source": [
    "I'll refer to **Sweep Sample Cereals** as **ssc** and I'll continue to refer to **Sheet2** as **s2**. "
   ]
  },
  {
   "cell_type": "code",
   "execution_count": 8,
   "metadata": {
    "collapsed": false
   },
   "outputs": [
   ],
   "source": [
    "ssc, s2 = sheets_to_compare.values()"
   ]
  },
  {
   "cell_type": "markdown",
   "metadata": {
    "collapsed": true
   },
   "source": [
    "#### Columns"
   ]
  },
  {
   "cell_type": "markdown",
   "metadata": {
    "collapsed": true
   },
   "source": [
    "I'll convert each column list to a `Series` and display them side-by-side in a `DataFrame`."
   ]
  },
  {
   "cell_type": "code",
   "execution_count": 9,
   "metadata": {
    "collapsed": false
   },
   "outputs": [
   ],
   "source": [
    "from typing import Dict\n",
    "\n",
    "\n",
    "def emojify_boolean(frame: pandas.DataFrame) -> pandas.DataFrame:\n",
    "    return (\n",
    "        frame.replace({\n",
    "            True: '✅',\n",
    "            False: '✖️',\n",
    "        })\n",
    "    )\n",
    "\n",
    "\n",
    "def compare_columns(sheets_to_compare: Dict[str, pandas.DataFrame]) -> pandas.DataFrame:\n",
    "    return emojify_boolean(\n",
    "        ~pandas.DataFrame(\n",
    "            data={\n",
    "                name: sheet.columns.to_series(name=name)\n",
    "                for name, sheet in sheets_to_compare.items()\n",
    "            }\n",
    "        ).isna()\n",
    "    )"
   ]
  },
  {
   "cell_type": "code",
   "execution_count": 10,
   "metadata": {
    "collapsed": false,
    "scrolled": true
   },
   "outputs": [
    {
     "data": {
      "text/html": [
       "<div>\n",
       "<style scoped>\n",
       "    .dataframe tbody tr th:only-of-type {\n",
       "        vertical-align: middle;\n",
       "    }\n",
       "\n",
       "    .dataframe tbody tr th {\n",
       "        vertical-align: top;\n",
       "    }\n",
       "\n",
       "    .dataframe thead th {\n",
       "        text-align: right;\n",
       "    }\n",
       "</style>\n",
       "<table border=\"1\" class=\"dataframe\">\n",
       "  <thead>\n",
       "    <tr style=\"text-align: right;\">\n",
       "      <th></th>\n",
       "      <th>Sweep Samples Cereals</th>\n",
       "      <th>Sheet2</th>\n",
       "    </tr>\n",
       "  </thead>\n",
       "  <tbody>\n",
       "    <tr>\n",
       "      <th>( damsel bug)nabis_americoferus_adult</th>\n",
       "      <td>✅</td>\n",
       "      <td>✅</td>\n",
       "    </tr>\n",
       "    <tr>\n",
       "      <th>1st_instar_ega</th>\n",
       "      <td>✅</td>\n",
       "      <td>✅</td>\n",
       "    </tr>\n",
       "    <tr>\n",
       "      <th>1st_instar_macrosteles</th>\n",
       "      <td>✅</td>\n",
       "      <td>✅</td>\n",
       "    </tr>\n",
       "    <tr>\n",
       "      <th>2nd_instar_ega</th>\n",
       "      <td>✅</td>\n",
       "      <td>✅</td>\n",
       "    </tr>\n",
       "    <tr>\n",
       "      <th>2nd_instar_macrosteles</th>\n",
       "      <td>✅</td>\n",
       "      <td>✅</td>\n",
       "    </tr>\n",
       "    <tr>\n",
       "      <th>3rd_instar_ega</th>\n",
       "      <td>✅</td>\n",
       "      <td>✅</td>\n",
       "    </tr>\n",
       "    <tr>\n",
       "      <th>3rd_instar_ega_pre-alate</th>\n",
       "      <td>✅</td>\n",
       "      <td>✅</td>\n",
       "    </tr>\n",
       "    <tr>\n",
       "      <th>3rd_instar_macrosteles</th>\n",
       "      <td>✅</td>\n",
       "      <td>✅</td>\n",
       "    </tr>\n",
       "    <tr>\n",
       "      <th>4th_instar_macrosteles</th>\n",
       "      <td>✅</td>\n",
       "      <td>✅</td>\n",
       "    </tr>\n",
       "    <tr>\n",
       "      <th>4th_instar_pre-alate</th>\n",
       "      <td>✅</td>\n",
       "      <td>✅</td>\n",
       "    </tr>\n",
       "    <tr>\n",
       "      <th>ambush_bugs</th>\n",
       "      <td>✅</td>\n",
       "      <td>✅</td>\n",
       "    </tr>\n",
       "    <tr>\n",
       "      <th>anthocoridae</th>\n",
       "      <td>✅</td>\n",
       "      <td>✅</td>\n",
       "    </tr>\n",
       "    <tr>\n",
       "      <th>anthomyiidae-delia</th>\n",
       "      <td>✅</td>\n",
       "      <td>✅</td>\n",
       "    </tr>\n",
       "    <tr>\n",
       "      <th>any parasitoid_adults</th>\n",
       "      <td>✅</td>\n",
       "      <td>✅</td>\n",
       "    </tr>\n",
       "    <tr>\n",
       "      <th>aphelinus_albipodus</th>\n",
       "      <td>✅</td>\n",
       "      <td>✅</td>\n",
       "    </tr>\n",
       "    <tr>\n",
       "      <th>aphelinus_asychis</th>\n",
       "      <td>✅</td>\n",
       "      <td>✅</td>\n",
       "    </tr>\n",
       "    <tr>\n",
       "      <th>aphelinus_varipes</th>\n",
       "      <td>✅</td>\n",
       "      <td>✅</td>\n",
       "    </tr>\n",
       "    <tr>\n",
       "      <th>aphid_mummies</th>\n",
       "      <td>✅</td>\n",
       "      <td>✅</td>\n",
       "    </tr>\n",
       "    <tr>\n",
       "      <th>aphid_mummies_aphelinus_black</th>\n",
       "      <td>✅</td>\n",
       "      <td>✅</td>\n",
       "    </tr>\n",
       "    <tr>\n",
       "      <th>aphid_mummies_aphidius_brown</th>\n",
       "      <td>✅</td>\n",
       "      <td>✅</td>\n",
       "    </tr>\n",
       "    <tr>\n",
       "      <th>aphidencyrtus_sp</th>\n",
       "      <td>✅</td>\n",
       "      <td>✅</td>\n",
       "    </tr>\n",
       "    <tr>\n",
       "      <th>aphidiius_sp.</th>\n",
       "      <td>✅</td>\n",
       "      <td>✅</td>\n",
       "    </tr>\n",
       "    <tr>\n",
       "      <th>asaphes_suspensus</th>\n",
       "      <td>✅</td>\n",
       "      <td>✅</td>\n",
       "    </tr>\n",
       "    <tr>\n",
       "      <th>assassin_bug (reduviid bugs)</th>\n",
       "      <td>✅</td>\n",
       "      <td>✅</td>\n",
       "    </tr>\n",
       "    <tr>\n",
       "      <th>athysanus_argentarius</th>\n",
       "      <td>✅</td>\n",
       "      <td>✅</td>\n",
       "    </tr>\n",
       "    <tr>\n",
       "      <th>bees</th>\n",
       "      <td>✅</td>\n",
       "      <td>✅</td>\n",
       "    </tr>\n",
       "    <tr>\n",
       "      <th>beetles</th>\n",
       "      <td>✅</td>\n",
       "      <td>✅</td>\n",
       "    </tr>\n",
       "    <tr>\n",
       "      <th>bertha_armyworms</th>\n",
       "      <td>✅</td>\n",
       "      <td>✅</td>\n",
       "    </tr>\n",
       "    <tr>\n",
       "      <th>bird_cherry_oat_aphid</th>\n",
       "      <td>✅</td>\n",
       "      <td>✅</td>\n",
       "    </tr>\n",
       "    <tr>\n",
       "      <th>braconid_wasps</th>\n",
       "      <td>✅</td>\n",
       "      <td>✅</td>\n",
       "    </tr>\n",
       "    <tr>\n",
       "      <th>...</th>\n",
       "      <td>...</td>\n",
       "      <td>...</td>\n",
       "    </tr>\n",
       "    <tr>\n",
       "      <th>province</th>\n",
       "      <td>✅</td>\n",
       "      <td>✅</td>\n",
       "    </tr>\n",
       "    <tr>\n",
       "      <th>pumace_flies (drosophilidae)</th>\n",
       "      <td>✅</td>\n",
       "      <td>✅</td>\n",
       "    </tr>\n",
       "    <tr>\n",
       "      <th>red_mite</th>\n",
       "      <td>✅</td>\n",
       "      <td>✅</td>\n",
       "    </tr>\n",
       "    <tr>\n",
       "      <th>sample_by_week</th>\n",
       "      <td>✅</td>\n",
       "      <td>✅</td>\n",
       "    </tr>\n",
       "    <tr>\n",
       "      <th>scorpion_flies</th>\n",
       "      <td>✅</td>\n",
       "      <td>✅</td>\n",
       "    </tr>\n",
       "    <tr>\n",
       "      <th>seed bugs (lygaeidea)</th>\n",
       "      <td>✅</td>\n",
       "      <td>✅</td>\n",
       "    </tr>\n",
       "    <tr>\n",
       "      <th>seed_corn_beetles</th>\n",
       "      <td>✅</td>\n",
       "      <td>✅</td>\n",
       "    </tr>\n",
       "    <tr>\n",
       "      <th>shield_bugs</th>\n",
       "      <td>✅</td>\n",
       "      <td>✅</td>\n",
       "    </tr>\n",
       "    <tr>\n",
       "      <th>site</th>\n",
       "      <td>✅</td>\n",
       "      <td>✅</td>\n",
       "    </tr>\n",
       "    <tr>\n",
       "      <th>sitobion_avenae_ega_green (wingless)</th>\n",
       "      <td>✅</td>\n",
       "      <td>✅</td>\n",
       "    </tr>\n",
       "    <tr>\n",
       "      <th>sitobion_avenae_ega_red</th>\n",
       "      <td>✅</td>\n",
       "      <td>✅</td>\n",
       "    </tr>\n",
       "    <tr>\n",
       "      <th>spider_mites</th>\n",
       "      <td>✅</td>\n",
       "      <td>✅</td>\n",
       "    </tr>\n",
       "    <tr>\n",
       "      <th>spider_tetragnathidae</th>\n",
       "      <td>✅</td>\n",
       "      <td>✅</td>\n",
       "    </tr>\n",
       "    <tr>\n",
       "      <th>spiders</th>\n",
       "      <td>✅</td>\n",
       "      <td>✅</td>\n",
       "    </tr>\n",
       "    <tr>\n",
       "      <th>springtails</th>\n",
       "      <td>✅</td>\n",
       "      <td>✅</td>\n",
       "    </tr>\n",
       "    <tr>\n",
       "      <th>stink_bugs (adult and nymph)</th>\n",
       "      <td>✅</td>\n",
       "      <td>✅</td>\n",
       "    </tr>\n",
       "    <tr>\n",
       "      <th>syrphid_flies</th>\n",
       "      <td>✅</td>\n",
       "      <td>✅</td>\n",
       "    </tr>\n",
       "    <tr>\n",
       "      <th>thrips</th>\n",
       "      <td>✅</td>\n",
       "      <td>✅</td>\n",
       "    </tr>\n",
       "    <tr>\n",
       "      <th>total ega</th>\n",
       "      <td>✅</td>\n",
       "      <td>✖️</td>\n",
       "    </tr>\n",
       "    <tr>\n",
       "      <th>total sweeps</th>\n",
       "      <td>✅</td>\n",
       "      <td>✖️</td>\n",
       "    </tr>\n",
       "    <tr>\n",
       "      <th>total_alate_aphids</th>\n",
       "      <td>✅</td>\n",
       "      <td>✅</td>\n",
       "    </tr>\n",
       "    <tr>\n",
       "      <th>total_apterous_aphids</th>\n",
       "      <td>✅</td>\n",
       "      <td>✅</td>\n",
       "    </tr>\n",
       "    <tr>\n",
       "      <th>treehoppers</th>\n",
       "      <td>✅</td>\n",
       "      <td>✅</td>\n",
       "    </tr>\n",
       "    <tr>\n",
       "      <th>tychius_picirostris (weevil)</th>\n",
       "      <td>✅</td>\n",
       "      <td>✅</td>\n",
       "    </tr>\n",
       "    <tr>\n",
       "      <th>ufi_bugs</th>\n",
       "      <td>✅</td>\n",
       "      <td>✅</td>\n",
       "    </tr>\n",
       "    <tr>\n",
       "      <th>unnamed: 129</th>\n",
       "      <td>✖️</td>\n",
       "      <td>✅</td>\n",
       "    </tr>\n",
       "    <tr>\n",
       "      <th>unnamed: 133</th>\n",
       "      <td>✅</td>\n",
       "      <td>✖️</td>\n",
       "    </tr>\n",
       "    <tr>\n",
       "      <th>wasps_other</th>\n",
       "      <td>✅</td>\n",
       "      <td>✅</td>\n",
       "    </tr>\n",
       "    <tr>\n",
       "      <th>weevil</th>\n",
       "      <td>✅</td>\n",
       "      <td>✅</td>\n",
       "    </tr>\n",
       "    <tr>\n",
       "      <th>worms</th>\n",
       "      <td>✅</td>\n",
       "      <td>✅</td>\n",
       "    </tr>\n",
       "  </tbody>\n",
       "</table>\n",
       "<p>144 rows × 2 columns</p>\n",
       "</div>"
      ],
      "text/plain": [
       "                                      Sweep Samples Cereals Sheet2\n",
       "( damsel bug)nabis_americoferus_adult                     ✅      ✅\n",
       "1st_instar_ega                                            ✅      ✅\n",
       "1st_instar_macrosteles                                    ✅      ✅\n",
       "2nd_instar_ega                                            ✅      ✅\n",
       "2nd_instar_macrosteles                                    ✅      ✅\n",
       "3rd_instar_ega                                            ✅      ✅\n",
       "3rd_instar_ega_pre-alate                                  ✅      ✅\n",
       "3rd_instar_macrosteles                                    ✅      ✅\n",
       "4th_instar_macrosteles                                    ✅      ✅\n",
       "4th_instar_pre-alate                                      ✅      ✅\n",
       "ambush_bugs                                               ✅      ✅\n",
       "anthocoridae                                              ✅      ✅\n",
       "anthomyiidae-delia                                        ✅      ✅\n",
       "any parasitoid_adults                                     ✅      ✅\n",
       "aphelinus_albipodus                                       ✅      ✅\n",
       "aphelinus_asychis                                         ✅      ✅\n",
       "aphelinus_varipes                                         ✅      ✅\n",
       "aphid_mummies                                             ✅      ✅\n",
       "aphid_mummies_aphelinus_black                             ✅      ✅\n",
       "aphid_mummies_aphidius_brown                              ✅      ✅\n",
       "aphidencyrtus_sp                                          ✅      ✅\n",
       "aphidiius_sp.                                             ✅      ✅\n",
       "asaphes_suspensus                                         ✅      ✅\n",
       "assassin_bug (reduviid bugs)                              ✅      ✅\n",
       "athysanus_argentarius                                     ✅      ✅\n",
       "bees                                                      ✅      ✅\n",
       "beetles                                                   ✅      ✅\n",
       "bertha_armyworms                                          ✅      ✅\n",
       "bird_cherry_oat_aphid                                     ✅      ✅\n",
       "braconid_wasps                                            ✅      ✅\n",
       "...                                                     ...    ...\n",
       "province                                                  ✅      ✅\n",
       "pumace_flies (drosophilidae)                              ✅      ✅\n",
       "red_mite                                                  ✅      ✅\n",
       "sample_by_week                                            ✅      ✅\n",
       "scorpion_flies                                            ✅      ✅\n",
       "seed bugs (lygaeidea)                                     ✅      ✅\n",
       "seed_corn_beetles                                         ✅      ✅\n",
       "shield_bugs                                               ✅      ✅\n",
       "site                                                      ✅      ✅\n",
       "sitobion_avenae_ega_green (wingless)                      ✅      ✅\n",
       "sitobion_avenae_ega_red                                   ✅      ✅\n",
       "spider_mites                                              ✅      ✅\n",
       "spider_tetragnathidae                                     ✅      ✅\n",
       "spiders                                                   ✅      ✅\n",
       "springtails                                               ✅      ✅\n",
       "stink_bugs (adult and nymph)                              ✅      ✅\n",
       "syrphid_flies                                             ✅      ✅\n",
       "thrips                                                    ✅      ✅\n",
       "total ega                                                 ✅     ✖️\n",
       "total sweeps                                              ✅     ✖️\n",
       "total_alate_aphids                                        ✅      ✅\n",
       "total_apterous_aphids                                     ✅      ✅\n",
       "treehoppers                                               ✅      ✅\n",
       "tychius_picirostris (weevil)                              ✅      ✅\n",
       "ufi_bugs                                                  ✅      ✅\n",
       "unnamed: 129                                             ✖️      ✅\n",
       "unnamed: 133                                              ✅     ✖️\n",
       "wasps_other                                               ✅      ✅\n",
       "weevil                                                    ✅      ✅\n",
       "worms                                                     ✅      ✅\n",
       "\n",
       "[144 rows x 2 columns]"
      ]
     },
     "execution_count": 10,
     "metadata": {
     },
     "output_type": "execute_result"
    }
   ],
   "source": [
    "compare_columns(sheets_to_compare)"
   ]
  },
  {
   "cell_type": "markdown",
   "metadata": {
    "collapsed": true
   },
   "source": [
    "I see only a few differences. I'll determine the exact asymmetry using *pandas*'s `Index.symmetric_difference` (which is available on the `columns` property, since columns are technically also an `Index`):"
   ]
  },
  {
   "cell_type": "code",
   "execution_count": 11,
   "metadata": {
    "collapsed": false
   },
   "outputs": [
    {
     "data": {
      "text/plain": [
       "['ega/20 sweeps',\n",
       " 'ega/sweep',\n",
       " 'total ega',\n",
       " 'total sweeps',\n",
       " 'unnamed: 129',\n",
       " 'unnamed: 133']"
      ]
     },
     "execution_count": 11,
     "metadata": {
     },
     "output_type": "execute_result"
    }
   ],
   "source": [
    "ssc.columns.symmetric_difference(s2.columns).tolist()"
   ]
  },
  {
   "cell_type": "markdown",
   "metadata": {
    "collapsed": true
   },
   "source": [
    "I believe the unnamed columns are empty. The other columns have calculated values that I don't trust. **Sweep Samples Cereals** is probably useless for my purposes."
   ]
  },
  {
   "cell_type": "markdown",
   "metadata": {
    "collapsed": true
   },
   "source": [
    "#### Date Range"
   ]
  },
  {
   "cell_type": "code",
   "execution_count": 13,
   "metadata": {
    "collapsed": false
   },
   "outputs": [
    {
     "data": {
      "text/html": [
       "<div>\n",
       "<style scoped>\n",
       "    .dataframe tbody tr th:only-of-type {\n",
       "        vertical-align: middle;\n",
       "    }\n",
       "\n",
       "    .dataframe tbody tr th {\n",
       "        vertical-align: top;\n",
       "    }\n",
       "\n",
       "    .dataframe thead th {\n",
       "        text-align: right;\n",
       "    }\n",
       "</style>\n",
       "<table border=\"1\" class=\"dataframe\">\n",
       "  <thead>\n",
       "    <tr style=\"text-align: right;\">\n",
       "      <th></th>\n",
       "      <th>Sweep Samples Cereals</th>\n",
       "      <th>Sheet2</th>\n",
       "    </tr>\n",
       "  </thead>\n",
       "  <tbody>\n",
       "    <tr>\n",
       "      <th>max</th>\n",
       "      <td>2017-07-08 00:00:00</td>\n",
       "      <td>2017-07-08 00:00:00</td>\n",
       "    </tr>\n",
       "    <tr>\n",
       "      <th>min</th>\n",
       "      <td>2016-06-05 00:00:00</td>\n",
       "      <td>2016-06-05 00:00:00</td>\n",
       "    </tr>\n",
       "    <tr>\n",
       "      <th>len_unique</th>\n",
       "      <td>33</td>\n",
       "      <td>34</td>\n",
       "    </tr>\n",
       "  </tbody>\n",
       "</table>\n",
       "</div>"
      ],
      "text/plain": [
       "           Sweep Samples Cereals               Sheet2\n",
       "max          2017-07-08 00:00:00  2017-07-08 00:00:00\n",
       "min          2016-06-05 00:00:00  2016-06-05 00:00:00\n",
       "len_unique                    33                   34"
      ]
     },
     "execution_count": 13,
     "metadata": {
     },
     "output_type": "execute_result"
    }
   ],
   "source": [
    "def len_unique(pandas_object):\n",
    "    return len(pandas_object.unique())\n",
    "\n",
    "\n",
    "pandas.DataFrame(\n",
    "    {\n",
    "        name: frame.date\n",
    "        for name, frame in sheets_to_compare.items()\n",
    "    }\n",
    ").apply(\n",
    "    [\n",
    "        pandas.Series.max,\n",
    "        pandas.Series.min,\n",
    "        len_unique,\n",
    "    ]\n",
    ")"
   ]
  },
  {
   "cell_type": "markdown",
   "metadata": {
    "collapsed": true
   },
   "source": [
    "I need to check if *all* the dates in **Sweep Samples Cereals** are in **Sheet2**."
   ]
  },
  {
   "cell_type": "code",
   "execution_count": 14,
   "metadata": {
    "collapsed": false
   },
   "outputs": [
    {
     "data": {
      "text/plain": [
       "True"
      ]
     },
     "execution_count": 14,
     "metadata": {
     },
     "output_type": "execute_result"
    }
   ],
   "source": [
    "ssc.date.isin(s2.date).all()"
   ]
  },
  {
   "cell_type": "markdown",
   "metadata": {
    "collapsed": true
   },
   "source": [
    "I'm curious if the converse is also true:"
   ]
  },
  {
   "cell_type": "code",
   "execution_count": 15,
   "metadata": {
    "collapsed": false
   },
   "outputs": [
    {
     "data": {
      "text/plain": [
       "False"
      ]
     },
     "execution_count": 15,
     "metadata": {
     },
     "output_type": "execute_result"
    }
   ],
   "source": [
    "s2.date.isin(ssc.date).all()"
   ]
  },
  {
   "cell_type": "markdown",
   "metadata": {
    "collapsed": true
   },
   "source": [
    "Since **s2** has some dates which **ssc** does not, I'd like to know how big the difference is. I'll view all date values in **s2** which fail to match with those in **ssc**, ignoring duplicates."
   ]
  },
  {
   "cell_type": "code",
   "execution_count": 16,
   "metadata": {
    "collapsed": false
   },
   "outputs": [
    {
     "data": {
      "text/plain": [
       "486   2017-06-17\n",
       "568   2016-06-06\n",
       "Name: date, dtype: datetime64[ns]"
      ]
     },
     "execution_count": 16,
     "metadata": {
     },
     "output_type": "execute_result"
    }
   ],
   "source": [
    "(\n",
    "    s2.date.loc[~s2.date.isin(ssc.date)]\n",
    "    .drop_duplicates()\n",
    ")"
   ]
  },
  {
   "cell_type": "markdown",
   "metadata": {
    "collapsed": true
   },
   "source": [
    "So, this isn't a lot, but it's worth noting. These dates are only in **s2**."
   ]
  },
  {
   "cell_type": "markdown",
   "metadata": {
    "collapsed": true
   },
   "source": [
    "#### Possible need to merge two sheets; avoiding reduced data (totals)"
   ]
  },
  {
   "cell_type": "markdown",
   "metadata": {
    "collapsed": true
   },
   "source": [
    "I see a ***total sweeps*** column only in **Sweep Samples Cereals**, which leads me to suspect that **Sweep Samples Cereals** comprises aggregates (sums), possibly based on values present in **Sheet2**. However, **Sheet2** has two additional dates, which means that it has data that the other worksheet doesn't. Now, it's a matter of determining whether **Sheet2** is comprehensive enough to preclude the use of **Sweep Samples Cereals**."
   ]
  },
  {
   "cell_type": "markdown",
   "metadata": {
    "collapsed": true
   },
   "source": [
    "##### Value Counts on ***distance(m)***"
   ]
  },
  {
   "cell_type": "markdown",
   "metadata": {
    "collapsed": true
   },
   "source": [
    "It's my impression that the actual, physical sweeps were at different distances from some physical origin, and later reduced to sums. If I peek at the ***distance(m)*** column, I should see a clear difference between these varied distances and the \"distance\" value used by records which have multiple sweeps combined. (Ideally, there wouldn't be a distance value for aggregates at all, but this illustrates the problem of mixing raw data with partially analysed data.)"
   ]
  },
  {
   "cell_type": "code",
   "execution_count": 18,
   "metadata": {
    "collapsed": false
   },
   "outputs": [
    {
     "data": {
      "text/html": [
       "<div>\n",
       "<style scoped>\n",
       "    .dataframe tbody tr th:only-of-type {\n",
       "        vertical-align: middle;\n",
       "    }\n",
       "\n",
       "    .dataframe tbody tr th {\n",
       "        vertical-align: top;\n",
       "    }\n",
       "\n",
       "    .dataframe thead th {\n",
       "        text-align: right;\n",
       "    }\n",
       "</style>\n",
       "<table border=\"1\" class=\"dataframe\">\n",
       "  <thead>\n",
       "    <tr style=\"text-align: right;\">\n",
       "      <th></th>\n",
       "      <th>Sheet2</th>\n",
       "      <th>Sweep Samples Cereals</th>\n",
       "    </tr>\n",
       "  </thead>\n",
       "  <tbody>\n",
       "    <tr>\n",
       "      <th>5</th>\n",
       "      <td>105</td>\n",
       "      <td>-</td>\n",
       "    </tr>\n",
       "    <tr>\n",
       "      <th>10</th>\n",
       "      <td>107</td>\n",
       "      <td>-</td>\n",
       "    </tr>\n",
       "    <tr>\n",
       "      <th>25</th>\n",
       "      <td>106</td>\n",
       "      <td>-</td>\n",
       "    </tr>\n",
       "    <tr>\n",
       "      <th>50</th>\n",
       "      <td>109</td>\n",
       "      <td>-</td>\n",
       "    </tr>\n",
       "    <tr>\n",
       "      <th>100</th>\n",
       "      <td>93</td>\n",
       "      <td>-</td>\n",
       "    </tr>\n",
       "    <tr>\n",
       "      <th>Combined</th>\n",
       "      <td>92</td>\n",
       "      <td>92</td>\n",
       "    </tr>\n",
       "    <tr>\n",
       "      <th>0</th>\n",
       "      <td>56</td>\n",
       "      <td>-</td>\n",
       "    </tr>\n",
       "  </tbody>\n",
       "</table>\n",
       "</div>"
      ],
      "text/plain": [
       "          Sheet2 Sweep Samples Cereals\n",
       "5            105                     -\n",
       "10           107                     -\n",
       "25           106                     -\n",
       "50           109                     -\n",
       "100           93                     -\n",
       "Combined      92                    92\n",
       "0             56                     -"
      ]
     },
     "execution_count": 18,
     "metadata": {
     },
     "output_type": "execute_result"
    }
   ],
   "source": [
    "display(\n",
    "    pandas.concat(\n",
    "        {\n",
    "            name: frame['distance(m)']\n",
    "            for name, frame in sheets_to_compare.items()\n",
    "        },\n",
    "        axis='columns',\n",
    "    )\n",
    "    .apply(pandas.value_counts)\n",
    "    .fillna('-')\n",
    ")"
   ]
  },
  {
   "cell_type": "markdown",
   "metadata": {
    "collapsed": true
   },
   "source": [
    "Indeed, **Sheet2** has data from observations at various \"distances\", while **Sweep Samples Cereals** has only the label, ***Combined***.\n",
    "\n",
    "**Sheet2** has more rows because it isn't totalling up the sweeps from various distances. That makes **Sheet2** less processed, and therefore more \"raw\" (less likely to be corrupted by human error during prior analysis).\n",
    "Since I don't want reduced (summed) data, I don't want **Sweep Samples Cereals**."
   ]
  },
  {
   "cell_type": "markdown",
   "metadata": {
    "collapsed": true
   },
   "source": [
    "#### Conclusion"
   ]
  },
  {
   "cell_type": "markdown",
   "metadata": {
    "collapsed": true
   },
   "source": [
    "Most optimal of these two:\n",
    "\n",
    "- **Sheet2**"
   ]
  },
  {
   "cell_type": "markdown",
   "metadata": {
    "collapsed": true
   },
   "source": [
    "### **Sheet2** vs **Sweep Samples Cereals Edited**"
   ]
  },
  {
   "cell_type": "code",
   "execution_count": 19,
   "metadata": {
    "collapsed": false
   },
   "outputs": [
   ],
   "source": [
    "sheets_to_compare = {\n",
    "    name: sheets[name]\n",
    "    for name in (\n",
    "        'Sweep Samples Cereals Edited', \n",
    "        'Sheet2',\n",
    "    )\n",
    "}\n",
    "ssce, s2 = sheets_to_compare.values()\n",
    "sheet_names = sheets_to_compare.keys()"
   ]
  },
  {
   "cell_type": "markdown",
   "metadata": {
    "collapsed": true
   },
   "source": [
    "#### Columns"
   ]
  },
  {
   "cell_type": "code",
   "execution_count": 20,
   "metadata": {
    "collapsed": false,
    "scrolled": true
   },
   "outputs": [
    {
     "data": {
      "text/html": [
       "<div>\n",
       "<style scoped>\n",
       "    .dataframe tbody tr th:only-of-type {\n",
       "        vertical-align: middle;\n",
       "    }\n",
       "\n",
       "    .dataframe tbody tr th {\n",
       "        vertical-align: top;\n",
       "    }\n",
       "\n",
       "    .dataframe thead th {\n",
       "        text-align: right;\n",
       "    }\n",
       "</style>\n",
       "<table border=\"1\" class=\"dataframe\">\n",
       "  <thead>\n",
       "    <tr style=\"text-align: right;\">\n",
       "      <th></th>\n",
       "      <th>Sweep Samples Cereals Edited</th>\n",
       "      <th>Sheet2</th>\n",
       "    </tr>\n",
       "  </thead>\n",
       "  <tbody>\n",
       "    <tr>\n",
       "      <th>( damsel bug)nabis_americoferus_adult</th>\n",
       "      <td>✅</td>\n",
       "      <td>✅</td>\n",
       "    </tr>\n",
       "    <tr>\n",
       "      <th>1st_instar_ega</th>\n",
       "      <td>✖️</td>\n",
       "      <td>✅</td>\n",
       "    </tr>\n",
       "    <tr>\n",
       "      <th>1st_instar_macrosteles</th>\n",
       "      <td>✖️</td>\n",
       "      <td>✅</td>\n",
       "    </tr>\n",
       "    <tr>\n",
       "      <th>2nd_instar_ega</th>\n",
       "      <td>✖️</td>\n",
       "      <td>✅</td>\n",
       "    </tr>\n",
       "    <tr>\n",
       "      <th>2nd_instar_macrosteles</th>\n",
       "      <td>✖️</td>\n",
       "      <td>✅</td>\n",
       "    </tr>\n",
       "    <tr>\n",
       "      <th>3rd_instar_ega</th>\n",
       "      <td>✖️</td>\n",
       "      <td>✅</td>\n",
       "    </tr>\n",
       "    <tr>\n",
       "      <th>3rd_instar_ega_pre-alate</th>\n",
       "      <td>✖️</td>\n",
       "      <td>✅</td>\n",
       "    </tr>\n",
       "    <tr>\n",
       "      <th>3rd_instar_macrosteles</th>\n",
       "      <td>✖️</td>\n",
       "      <td>✅</td>\n",
       "    </tr>\n",
       "    <tr>\n",
       "      <th>4th_instar_macrosteles</th>\n",
       "      <td>✖️</td>\n",
       "      <td>✅</td>\n",
       "    </tr>\n",
       "    <tr>\n",
       "      <th>4th_instar_pre-alate</th>\n",
       "      <td>✖️</td>\n",
       "      <td>✅</td>\n",
       "    </tr>\n",
       "    <tr>\n",
       "      <th>ambush_bugs</th>\n",
       "      <td>✅</td>\n",
       "      <td>✅</td>\n",
       "    </tr>\n",
       "    <tr>\n",
       "      <th>anthocoridae</th>\n",
       "      <td>✅</td>\n",
       "      <td>✅</td>\n",
       "    </tr>\n",
       "    <tr>\n",
       "      <th>anthomyiidae-delia</th>\n",
       "      <td>✅</td>\n",
       "      <td>✅</td>\n",
       "    </tr>\n",
       "    <tr>\n",
       "      <th>any parasitoid_adults</th>\n",
       "      <td>✅</td>\n",
       "      <td>✅</td>\n",
       "    </tr>\n",
       "    <tr>\n",
       "      <th>aphelinus_albipodus</th>\n",
       "      <td>✅</td>\n",
       "      <td>✅</td>\n",
       "    </tr>\n",
       "    <tr>\n",
       "      <th>aphelinus_asychis</th>\n",
       "      <td>✅</td>\n",
       "      <td>✅</td>\n",
       "    </tr>\n",
       "    <tr>\n",
       "      <th>aphelinus_varipes</th>\n",
       "      <td>✅</td>\n",
       "      <td>✅</td>\n",
       "    </tr>\n",
       "    <tr>\n",
       "      <th>aphid_mummies</th>\n",
       "      <td>✅</td>\n",
       "      <td>✅</td>\n",
       "    </tr>\n",
       "    <tr>\n",
       "      <th>aphid_mummies_aphelinus_black</th>\n",
       "      <td>✖️</td>\n",
       "      <td>✅</td>\n",
       "    </tr>\n",
       "    <tr>\n",
       "      <th>aphid_mummies_aphidius_brown</th>\n",
       "      <td>✅</td>\n",
       "      <td>✅</td>\n",
       "    </tr>\n",
       "    <tr>\n",
       "      <th>aphidencyrtus_sp</th>\n",
       "      <td>✅</td>\n",
       "      <td>✅</td>\n",
       "    </tr>\n",
       "    <tr>\n",
       "      <th>aphidiius_sp.</th>\n",
       "      <td>✅</td>\n",
       "      <td>✅</td>\n",
       "    </tr>\n",
       "    <tr>\n",
       "      <th>asaphes_suspensus</th>\n",
       "      <td>✅</td>\n",
       "      <td>✅</td>\n",
       "    </tr>\n",
       "    <tr>\n",
       "      <th>assassin_bug (reduviid bugs)</th>\n",
       "      <td>✅</td>\n",
       "      <td>✅</td>\n",
       "    </tr>\n",
       "    <tr>\n",
       "      <th>athysanus_argentarius</th>\n",
       "      <td>✖️</td>\n",
       "      <td>✅</td>\n",
       "    </tr>\n",
       "    <tr>\n",
       "      <th>bco/sweep</th>\n",
       "      <td>✅</td>\n",
       "      <td>✖️</td>\n",
       "    </tr>\n",
       "    <tr>\n",
       "      <th>bees</th>\n",
       "      <td>✅</td>\n",
       "      <td>✅</td>\n",
       "    </tr>\n",
       "    <tr>\n",
       "      <th>beetles</th>\n",
       "      <td>✅</td>\n",
       "      <td>✅</td>\n",
       "    </tr>\n",
       "    <tr>\n",
       "      <th>bertha_armyworms</th>\n",
       "      <td>✅</td>\n",
       "      <td>✅</td>\n",
       "    </tr>\n",
       "    <tr>\n",
       "      <th>bird_cherry_oat_aphid</th>\n",
       "      <td>✅</td>\n",
       "      <td>✅</td>\n",
       "    </tr>\n",
       "    <tr>\n",
       "      <th>braconid_wasps</th>\n",
       "      <td>✅</td>\n",
       "      <td>✅</td>\n",
       "    </tr>\n",
       "    <tr>\n",
       "      <th>cabbage_butterfly</th>\n",
       "      <td>✅</td>\n",
       "      <td>✅</td>\n",
       "    </tr>\n",
       "    <tr>\n",
       "      <th>capsus_simulans</th>\n",
       "      <td>✅</td>\n",
       "      <td>✅</td>\n",
       "    </tr>\n",
       "    <tr>\n",
       "      <th>caterpillar</th>\n",
       "      <td>✅</td>\n",
       "      <td>✅</td>\n",
       "    </tr>\n",
       "    <tr>\n",
       "      <th>chalcid_wasps</th>\n",
       "      <td>✅</td>\n",
       "      <td>✅</td>\n",
       "    </tr>\n",
       "    <tr>\n",
       "      <th>chinch_bug</th>\n",
       "      <td>✅</td>\n",
       "      <td>✅</td>\n",
       "    </tr>\n",
       "    <tr>\n",
       "      <th>chrysopa_oculata_adult</th>\n",
       "      <td>✅</td>\n",
       "      <td>✅</td>\n",
       "    </tr>\n",
       "    <tr>\n",
       "      <th>chrysopa_oculata_larvae</th>\n",
       "      <td>✅</td>\n",
       "      <td>✅</td>\n",
       "    </tr>\n",
       "    <tr>\n",
       "      <th>chrysoperla_carnea_adult</th>\n",
       "      <td>✅</td>\n",
       "      <td>✅</td>\n",
       "    </tr>\n",
       "    <tr>\n",
       "      <th>chrysoperla_carnea_larva</th>\n",
       "      <td>✅</td>\n",
       "      <td>✅</td>\n",
       "    </tr>\n",
       "    <tr>\n",
       "      <th>chrysopidae_adults</th>\n",
       "      <td>✅</td>\n",
       "      <td>✅</td>\n",
       "    </tr>\n",
       "    <tr>\n",
       "      <th>cicindela</th>\n",
       "      <td>✅</td>\n",
       "      <td>✅</td>\n",
       "    </tr>\n",
       "    <tr>\n",
       "      <th>coccinella_septempunctata_c7</th>\n",
       "      <td>✅</td>\n",
       "      <td>✅</td>\n",
       "    </tr>\n",
       "    <tr>\n",
       "      <th>crop</th>\n",
       "      <td>✅</td>\n",
       "      <td>✅</td>\n",
       "    </tr>\n",
       "    <tr>\n",
       "      <th>date</th>\n",
       "      <td>✅</td>\n",
       "      <td>✅</td>\n",
       "    </tr>\n",
       "    <tr>\n",
       "      <th>date_by_week</th>\n",
       "      <td>✖️</td>\n",
       "      <td>✅</td>\n",
       "    </tr>\n",
       "    <tr>\n",
       "      <th>distance(m)</th>\n",
       "      <td>✖️</td>\n",
       "      <td>✅</td>\n",
       "    </tr>\n",
       "    <tr>\n",
       "      <th>dolichopodidae</th>\n",
       "      <td>✅</td>\n",
       "      <td>✅</td>\n",
       "    </tr>\n",
       "    <tr>\n",
       "      <th>doratura_sp.</th>\n",
       "      <td>✖️</td>\n",
       "      <td>✅</td>\n",
       "    </tr>\n",
       "    <tr>\n",
       "      <th>dragonflies+damsel fly</th>\n",
       "      <td>✅</td>\n",
       "      <td>✅</td>\n",
       "    </tr>\n",
       "    <tr>\n",
       "      <th>ega alate</th>\n",
       "      <td>✖️</td>\n",
       "      <td>✅</td>\n",
       "    </tr>\n",
       "    <tr>\n",
       "      <th>ega/20 sweeps</th>\n",
       "      <td>✅</td>\n",
       "      <td>✖️</td>\n",
       "    </tr>\n",
       "    <tr>\n",
       "      <th>ega/sweep</th>\n",
       "      <td>✅</td>\n",
       "      <td>✖️</td>\n",
       "    </tr>\n",
       "    <tr>\n",
       "      <th>ega_alate</th>\n",
       "      <td>✅</td>\n",
       "      <td>✖️</td>\n",
       "    </tr>\n",
       "    <tr>\n",
       "      <th>ega_apt</th>\n",
       "      <td>✅</td>\n",
       "      <td>✖️</td>\n",
       "    </tr>\n",
       "    <tr>\n",
       "      <th>errastunus_ocellaris_lh</th>\n",
       "      <td>✖️</td>\n",
       "      <td>✅</td>\n",
       "    </tr>\n",
       "    <tr>\n",
       "      <th>eulophid_wasp</th>\n",
       "      <td>✅</td>\n",
       "      <td>✅</td>\n",
       "    </tr>\n",
       "    <tr>\n",
       "      <th>female_delia_sp_1</th>\n",
       "      <td>✅</td>\n",
       "      <td>✅</td>\n",
       "    </tr>\n",
       "    <tr>\n",
       "      <th>female_delia_sp_2</th>\n",
       "      <td>✅</td>\n",
       "      <td>✅</td>\n",
       "    </tr>\n",
       "    <tr>\n",
       "      <th>female_macrosteles_quadrilineatus</th>\n",
       "      <td>✖️</td>\n",
       "      <td>✅</td>\n",
       "    </tr>\n",
       "    <tr>\n",
       "      <th>field_name</th>\n",
       "      <td>✅</td>\n",
       "      <td>✅</td>\n",
       "    </tr>\n",
       "    <tr>\n",
       "      <th>flea_beetles crucifer</th>\n",
       "      <td>✅</td>\n",
       "      <td>✅</td>\n",
       "    </tr>\n",
       "    <tr>\n",
       "      <th>flea_beetles hop</th>\n",
       "      <td>✅</td>\n",
       "      <td>✅</td>\n",
       "    </tr>\n",
       "    <tr>\n",
       "      <th>flea_beetles striped</th>\n",
       "      <td>✅</td>\n",
       "      <td>✅</td>\n",
       "    </tr>\n",
       "    <tr>\n",
       "      <th>flies</th>\n",
       "      <td>✅</td>\n",
       "      <td>✅</td>\n",
       "    </tr>\n",
       "    <tr>\n",
       "      <th>formicidae</th>\n",
       "      <td>✅</td>\n",
       "      <td>✅</td>\n",
       "    </tr>\n",
       "    <tr>\n",
       "      <th>g_lacewing_larvae</th>\n",
       "      <td>✅</td>\n",
       "      <td>✅</td>\n",
       "    </tr>\n",
       "    <tr>\n",
       "      <th>grasshoppers</th>\n",
       "      <td>✅</td>\n",
       "      <td>✅</td>\n",
       "    </tr>\n",
       "    <tr>\n",
       "      <th>green_grass nymphs</th>\n",
       "      <td>✅</td>\n",
       "      <td>✅</td>\n",
       "    </tr>\n",
       "    <tr>\n",
       "      <th>green_grass_bugs_trigonotylus_coelestialium miridae</th>\n",
       "      <td>✅</td>\n",
       "      <td>✅</td>\n",
       "    </tr>\n",
       "    <tr>\n",
       "      <th>...</th>\n",
       "      <td>...</td>\n",
       "      <td>...</td>\n",
       "    </tr>\n",
       "    <tr>\n",
       "      <th>lacewing_adult</th>\n",
       "      <td>✅</td>\n",
       "      <td>✖️</td>\n",
       "    </tr>\n",
       "    <tr>\n",
       "      <th>lacewing_larvae</th>\n",
       "      <td>✅</td>\n",
       "      <td>✖️</td>\n",
       "    </tr>\n",
       "    <tr>\n",
       "      <th>ladybugs- larvae</th>\n",
       "      <td>✅</td>\n",
       "      <td>✅</td>\n",
       "    </tr>\n",
       "    <tr>\n",
       "      <th>ladybugs_adults</th>\n",
       "      <td>✅</td>\n",
       "      <td>✖️</td>\n",
       "    </tr>\n",
       "    <tr>\n",
       "      <th>ladybugs_total</th>\n",
       "      <td>✅</td>\n",
       "      <td>✖️</td>\n",
       "    </tr>\n",
       "    <tr>\n",
       "      <th>lauxaniidae</th>\n",
       "      <td>✅</td>\n",
       "      <td>✅</td>\n",
       "    </tr>\n",
       "    <tr>\n",
       "      <th>legume_bug</th>\n",
       "      <td>✅</td>\n",
       "      <td>✅</td>\n",
       "    </tr>\n",
       "    <tr>\n",
       "      <th>lepidopteran_pupa</th>\n",
       "      <td>✅</td>\n",
       "      <td>✅</td>\n",
       "    </tr>\n",
       "    <tr>\n",
       "      <th>lygus_elisus</th>\n",
       "      <td>✅</td>\n",
       "      <td>✅</td>\n",
       "    </tr>\n",
       "    <tr>\n",
       "      <th>lygus_nymph</th>\n",
       "      <td>✅</td>\n",
       "      <td>✅</td>\n",
       "    </tr>\n",
       "    <tr>\n",
       "      <th>lygus_punctatus</th>\n",
       "      <td>✅</td>\n",
       "      <td>✅</td>\n",
       "    </tr>\n",
       "    <tr>\n",
       "      <th>macrosteles_quadrilineatus nymphs</th>\n",
       "      <td>✖️</td>\n",
       "      <td>✅</td>\n",
       "    </tr>\n",
       "    <tr>\n",
       "      <th>maggots</th>\n",
       "      <td>✅</td>\n",
       "      <td>✅</td>\n",
       "    </tr>\n",
       "    <tr>\n",
       "      <th>male_delia_sp_1</th>\n",
       "      <td>✅</td>\n",
       "      <td>✅</td>\n",
       "    </tr>\n",
       "    <tr>\n",
       "      <th>male_delia_sp_2</th>\n",
       "      <td>✅</td>\n",
       "      <td>✅</td>\n",
       "    </tr>\n",
       "    <tr>\n",
       "      <th>male_macrosteles_quadrilineatus</th>\n",
       "      <td>✖️</td>\n",
       "      <td>✅</td>\n",
       "    </tr>\n",
       "    <tr>\n",
       "      <th>midge</th>\n",
       "      <td>✅</td>\n",
       "      <td>✅</td>\n",
       "    </tr>\n",
       "    <tr>\n",
       "      <th>miridae_lygus lineolaris</th>\n",
       "      <td>✅</td>\n",
       "      <td>✅</td>\n",
       "    </tr>\n",
       "    <tr>\n",
       "      <th>mollusks</th>\n",
       "      <td>✅</td>\n",
       "      <td>✅</td>\n",
       "    </tr>\n",
       "    <tr>\n",
       "      <th>mosquitoes</th>\n",
       "      <td>✅</td>\n",
       "      <td>✅</td>\n",
       "    </tr>\n",
       "    <tr>\n",
       "      <th>moths</th>\n",
       "      <td>✅</td>\n",
       "      <td>✅</td>\n",
       "    </tr>\n",
       "    <tr>\n",
       "      <th>nabicula</th>\n",
       "      <td>✅</td>\n",
       "      <td>✅</td>\n",
       "    </tr>\n",
       "    <tr>\n",
       "      <th>nabis_alternatus</th>\n",
       "      <td>✅</td>\n",
       "      <td>✅</td>\n",
       "    </tr>\n",
       "    <tr>\n",
       "      <th>nabis_americoferus_nymph</th>\n",
       "      <td>✅</td>\n",
       "      <td>✅</td>\n",
       "    </tr>\n",
       "    <tr>\n",
       "      <th>number of samples</th>\n",
       "      <td>✖️</td>\n",
       "      <td>✅</td>\n",
       "    </tr>\n",
       "    <tr>\n",
       "      <th>oribatid</th>\n",
       "      <td>✅</td>\n",
       "      <td>✅</td>\n",
       "    </tr>\n",
       "    <tr>\n",
       "      <th>orius_tristicolor</th>\n",
       "      <td>✅</td>\n",
       "      <td>✅</td>\n",
       "    </tr>\n",
       "    <tr>\n",
       "      <th>other coccinellid_adults</th>\n",
       "      <td>✅</td>\n",
       "      <td>✅</td>\n",
       "    </tr>\n",
       "    <tr>\n",
       "      <th>other_leafhoppers</th>\n",
       "      <td>✖️</td>\n",
       "      <td>✅</td>\n",
       "    </tr>\n",
       "    <tr>\n",
       "      <th>pea aphids</th>\n",
       "      <td>✖️</td>\n",
       "      <td>✅</td>\n",
       "    </tr>\n",
       "    <tr>\n",
       "      <th>pirate_bugs</th>\n",
       "      <td>✅</td>\n",
       "      <td>✅</td>\n",
       "    </tr>\n",
       "    <tr>\n",
       "      <th>plant_bugs</th>\n",
       "      <td>✅</td>\n",
       "      <td>✅</td>\n",
       "    </tr>\n",
       "    <tr>\n",
       "      <th>province</th>\n",
       "      <td>✖️</td>\n",
       "      <td>✅</td>\n",
       "    </tr>\n",
       "    <tr>\n",
       "      <th>pumace_flies (drosophilidae)</th>\n",
       "      <td>✅</td>\n",
       "      <td>✅</td>\n",
       "    </tr>\n",
       "    <tr>\n",
       "      <th>red_mite</th>\n",
       "      <td>✅</td>\n",
       "      <td>✅</td>\n",
       "    </tr>\n",
       "    <tr>\n",
       "      <th>sample type</th>\n",
       "      <td>✅</td>\n",
       "      <td>✖️</td>\n",
       "    </tr>\n",
       "    <tr>\n",
       "      <th>sample_by_week</th>\n",
       "      <td>✖️</td>\n",
       "      <td>✅</td>\n",
       "    </tr>\n",
       "    <tr>\n",
       "      <th>scorpion_flies</th>\n",
       "      <td>✅</td>\n",
       "      <td>✅</td>\n",
       "    </tr>\n",
       "    <tr>\n",
       "      <th>seed bugs (lygaeidea)</th>\n",
       "      <td>✅</td>\n",
       "      <td>✅</td>\n",
       "    </tr>\n",
       "    <tr>\n",
       "      <th>seed_corn_beetles</th>\n",
       "      <td>✅</td>\n",
       "      <td>✅</td>\n",
       "    </tr>\n",
       "    <tr>\n",
       "      <th>shield_bugs</th>\n",
       "      <td>✅</td>\n",
       "      <td>✅</td>\n",
       "    </tr>\n",
       "    <tr>\n",
       "      <th>site</th>\n",
       "      <td>✅</td>\n",
       "      <td>✅</td>\n",
       "    </tr>\n",
       "    <tr>\n",
       "      <th>sitobion_avenae_ega_green (wingless)</th>\n",
       "      <td>✖️</td>\n",
       "      <td>✅</td>\n",
       "    </tr>\n",
       "    <tr>\n",
       "      <th>sitobion_avenae_ega_red</th>\n",
       "      <td>✖️</td>\n",
       "      <td>✅</td>\n",
       "    </tr>\n",
       "    <tr>\n",
       "      <th>spider_mites</th>\n",
       "      <td>✅</td>\n",
       "      <td>✅</td>\n",
       "    </tr>\n",
       "    <tr>\n",
       "      <th>spider_tetragnathidae</th>\n",
       "      <td>✅</td>\n",
       "      <td>✅</td>\n",
       "    </tr>\n",
       "    <tr>\n",
       "      <th>spiders</th>\n",
       "      <td>✅</td>\n",
       "      <td>✅</td>\n",
       "    </tr>\n",
       "    <tr>\n",
       "      <th>springtails</th>\n",
       "      <td>✅</td>\n",
       "      <td>✅</td>\n",
       "    </tr>\n",
       "    <tr>\n",
       "      <th>stink_bugs (adult and nymph)</th>\n",
       "      <td>✅</td>\n",
       "      <td>✅</td>\n",
       "    </tr>\n",
       "    <tr>\n",
       "      <th>syrphid_flies</th>\n",
       "      <td>✅</td>\n",
       "      <td>✅</td>\n",
       "    </tr>\n",
       "    <tr>\n",
       "      <th>thrips</th>\n",
       "      <td>✅</td>\n",
       "      <td>✅</td>\n",
       "    </tr>\n",
       "    <tr>\n",
       "      <th>total ega</th>\n",
       "      <td>✅</td>\n",
       "      <td>✖️</td>\n",
       "    </tr>\n",
       "    <tr>\n",
       "      <th>total sweeps</th>\n",
       "      <td>✅</td>\n",
       "      <td>✖️</td>\n",
       "    </tr>\n",
       "    <tr>\n",
       "      <th>total_alate_aphids</th>\n",
       "      <td>✖️</td>\n",
       "      <td>✅</td>\n",
       "    </tr>\n",
       "    <tr>\n",
       "      <th>total_apterous_aphids</th>\n",
       "      <td>✖️</td>\n",
       "      <td>✅</td>\n",
       "    </tr>\n",
       "    <tr>\n",
       "      <th>treehoppers</th>\n",
       "      <td>✅</td>\n",
       "      <td>✅</td>\n",
       "    </tr>\n",
       "    <tr>\n",
       "      <th>tychius_picirostris (weevil)</th>\n",
       "      <td>✅</td>\n",
       "      <td>✅</td>\n",
       "    </tr>\n",
       "    <tr>\n",
       "      <th>ufi_bugs</th>\n",
       "      <td>✅</td>\n",
       "      <td>✅</td>\n",
       "    </tr>\n",
       "    <tr>\n",
       "      <th>unnamed: 116</th>\n",
       "      <td>✅</td>\n",
       "      <td>✖️</td>\n",
       "    </tr>\n",
       "    <tr>\n",
       "      <th>unnamed: 129</th>\n",
       "      <td>✖️</td>\n",
       "      <td>✅</td>\n",
       "    </tr>\n",
       "    <tr>\n",
       "      <th>unnamed: 13</th>\n",
       "      <td>✅</td>\n",
       "      <td>✖️</td>\n",
       "    </tr>\n",
       "    <tr>\n",
       "      <th>unnamed: 14</th>\n",
       "      <td>✅</td>\n",
       "      <td>✖️</td>\n",
       "    </tr>\n",
       "    <tr>\n",
       "      <th>unnamed: 15</th>\n",
       "      <td>✅</td>\n",
       "      <td>✖️</td>\n",
       "    </tr>\n",
       "    <tr>\n",
       "      <th>unnamed: 18</th>\n",
       "      <td>✅</td>\n",
       "      <td>✖️</td>\n",
       "    </tr>\n",
       "    <tr>\n",
       "      <th>unnamed: 20</th>\n",
       "      <td>✅</td>\n",
       "      <td>✖️</td>\n",
       "    </tr>\n",
       "    <tr>\n",
       "      <th>unnamed: 6</th>\n",
       "      <td>✅</td>\n",
       "      <td>✖️</td>\n",
       "    </tr>\n",
       "    <tr>\n",
       "      <th>unnamed: 7</th>\n",
       "      <td>✅</td>\n",
       "      <td>✖️</td>\n",
       "    </tr>\n",
       "    <tr>\n",
       "      <th>wasps_other</th>\n",
       "      <td>✅</td>\n",
       "      <td>✅</td>\n",
       "    </tr>\n",
       "    <tr>\n",
       "      <th>weevil</th>\n",
       "      <td>✅</td>\n",
       "      <td>✅</td>\n",
       "    </tr>\n",
       "    <tr>\n",
       "      <th>worms</th>\n",
       "      <td>✅</td>\n",
       "      <td>✅</td>\n",
       "    </tr>\n",
       "  </tbody>\n",
       "</table>\n",
       "<p>159 rows × 2 columns</p>\n",
       "</div>"
      ],
      "text/plain": [
       "                                                   Sweep Samples Cereals Edited  \\\n",
       "( damsel bug)nabis_americoferus_adult                                         ✅   \n",
       "1st_instar_ega                                                               ✖️   \n",
       "1st_instar_macrosteles                                                       ✖️   \n",
       "2nd_instar_ega                                                               ✖️   \n",
       "2nd_instar_macrosteles                                                       ✖️   \n",
       "3rd_instar_ega                                                               ✖️   \n",
       "3rd_instar_ega_pre-alate                                                     ✖️   \n",
       "3rd_instar_macrosteles                                                       ✖️   \n",
       "4th_instar_macrosteles                                                       ✖️   \n",
       "4th_instar_pre-alate                                                         ✖️   \n",
       "ambush_bugs                                                                   ✅   \n",
       "anthocoridae                                                                  ✅   \n",
       "anthomyiidae-delia                                                            ✅   \n",
       "any parasitoid_adults                                                         ✅   \n",
       "aphelinus_albipodus                                                           ✅   \n",
       "aphelinus_asychis                                                             ✅   \n",
       "aphelinus_varipes                                                             ✅   \n",
       "aphid_mummies                                                                 ✅   \n",
       "aphid_mummies_aphelinus_black                                                ✖️   \n",
       "aphid_mummies_aphidius_brown                                                  ✅   \n",
       "aphidencyrtus_sp                                                              ✅   \n",
       "aphidiius_sp.                                                                 ✅   \n",
       "asaphes_suspensus                                                             ✅   \n",
       "assassin_bug (reduviid bugs)                                                  ✅   \n",
       "athysanus_argentarius                                                        ✖️   \n",
       "bco/sweep                                                                     ✅   \n",
       "bees                                                                          ✅   \n",
       "beetles                                                                       ✅   \n",
       "bertha_armyworms                                                              ✅   \n",
       "bird_cherry_oat_aphid                                                         ✅   \n",
       "braconid_wasps                                                                ✅   \n",
       "cabbage_butterfly                                                             ✅   \n",
       "capsus_simulans                                                               ✅   \n",
       "caterpillar                                                                   ✅   \n",
       "chalcid_wasps                                                                 ✅   \n",
       "chinch_bug                                                                    ✅   \n",
       "chrysopa_oculata_adult                                                        ✅   \n",
       "chrysopa_oculata_larvae                                                       ✅   \n",
       "chrysoperla_carnea_adult                                                      ✅   \n",
       "chrysoperla_carnea_larva                                                      ✅   \n",
       "chrysopidae_adults                                                            ✅   \n",
       "cicindela                                                                     ✅   \n",
       "coccinella_septempunctata_c7                                                  ✅   \n",
       "crop                                                                          ✅   \n",
       "date                                                                          ✅   \n",
       "date_by_week                                                                 ✖️   \n",
       "distance(m)                                                                  ✖️   \n",
       "dolichopodidae                                                                ✅   \n",
       "doratura_sp.                                                                 ✖️   \n",
       "dragonflies+damsel fly                                                        ✅   \n",
       "ega alate                                                                    ✖️   \n",
       "ega/20 sweeps                                                                 ✅   \n",
       "ega/sweep                                                                     ✅   \n",
       "ega_alate                                                                     ✅   \n",
       "ega_apt                                                                       ✅   \n",
       "errastunus_ocellaris_lh                                                      ✖️   \n",
       "eulophid_wasp                                                                 ✅   \n",
       "female_delia_sp_1                                                             ✅   \n",
       "female_delia_sp_2                                                             ✅   \n",
       "female_macrosteles_quadrilineatus                                            ✖️   \n",
       "field_name                                                                    ✅   \n",
       "flea_beetles crucifer                                                         ✅   \n",
       "flea_beetles hop                                                              ✅   \n",
       "flea_beetles striped                                                          ✅   \n",
       "flies                                                                         ✅   \n",
       "formicidae                                                                    ✅   \n",
       "g_lacewing_larvae                                                             ✅   \n",
       "grasshoppers                                                                  ✅   \n",
       "green_grass nymphs                                                            ✅   \n",
       "green_grass_bugs_trigonotylus_coelestialium mir...                            ✅   \n",
       "...                                                                         ...   \n",
       "lacewing_adult                                                                ✅   \n",
       "lacewing_larvae                                                               ✅   \n",
       "ladybugs- larvae                                                              ✅   \n",
       "ladybugs_adults                                                               ✅   \n",
       "ladybugs_total                                                                ✅   \n",
       "lauxaniidae                                                                   ✅   \n",
       "legume_bug                                                                    ✅   \n",
       "lepidopteran_pupa                                                             ✅   \n",
       "lygus_elisus                                                                  ✅   \n",
       "lygus_nymph                                                                   ✅   \n",
       "lygus_punctatus                                                               ✅   \n",
       "macrosteles_quadrilineatus nymphs                                            ✖️   \n",
       "maggots                                                                       ✅   \n",
       "male_delia_sp_1                                                               ✅   \n",
       "male_delia_sp_2                                                               ✅   \n",
       "male_macrosteles_quadrilineatus                                              ✖️   \n",
       "midge                                                                         ✅   \n",
       "miridae_lygus lineolaris                                                      ✅   \n",
       "mollusks                                                                      ✅   \n",
       "mosquitoes                                                                    ✅   \n",
       "moths                                                                         ✅   \n",
       "nabicula                                                                      ✅   \n",
       "nabis_alternatus                                                              ✅   \n",
       "nabis_americoferus_nymph                                                      ✅   \n",
       "number of samples                                                            ✖️   \n",
       "oribatid                                                                      ✅   \n",
       "orius_tristicolor                                                             ✅   \n",
       "other coccinellid_adults                                                      ✅   \n",
       "other_leafhoppers                                                            ✖️   \n",
       "pea aphids                                                                   ✖️   \n",
       "pirate_bugs                                                                   ✅   \n",
       "plant_bugs                                                                    ✅   \n",
       "province                                                                     ✖️   \n",
       "pumace_flies (drosophilidae)                                                  ✅   \n",
       "red_mite                                                                      ✅   \n",
       "sample type                                                                   ✅   \n",
       "sample_by_week                                                               ✖️   \n",
       "scorpion_flies                                                                ✅   \n",
       "seed bugs (lygaeidea)                                                         ✅   \n",
       "seed_corn_beetles                                                             ✅   \n",
       "shield_bugs                                                                   ✅   \n",
       "site                                                                          ✅   \n",
       "sitobion_avenae_ega_green (wingless)                                         ✖️   \n",
       "sitobion_avenae_ega_red                                                      ✖️   \n",
       "spider_mites                                                                  ✅   \n",
       "spider_tetragnathidae                                                         ✅   \n",
       "spiders                                                                       ✅   \n",
       "springtails                                                                   ✅   \n",
       "stink_bugs (adult and nymph)                                                  ✅   \n",
       "syrphid_flies                                                                 ✅   \n",
       "thrips                                                                        ✅   \n",
       "total ega                                                                     ✅   \n",
       "total sweeps                                                                  ✅   \n",
       "total_alate_aphids                                                           ✖️   \n",
       "total_apterous_aphids                                                        ✖️   \n",
       "treehoppers                                                                   ✅   \n",
       "tychius_picirostris (weevil)                                                  ✅   \n",
       "ufi_bugs                                                                      ✅   \n",
       "unnamed: 116                                                                  ✅   \n",
       "unnamed: 129                                                                 ✖️   \n",
       "unnamed: 13                                                                   ✅   \n",
       "unnamed: 14                                                                   ✅   \n",
       "unnamed: 15                                                                   ✅   \n",
       "unnamed: 18                                                                   ✅   \n",
       "unnamed: 20                                                                   ✅   \n",
       "unnamed: 6                                                                    ✅   \n",
       "unnamed: 7                                                                    ✅   \n",
       "wasps_other                                                                   ✅   \n",
       "weevil                                                                        ✅   \n",
       "worms                                                                         ✅   \n",
       "\n",
       "                                                   Sheet2  \n",
       "( damsel bug)nabis_americoferus_adult                   ✅  \n",
       "1st_instar_ega                                          ✅  \n",
       "1st_instar_macrosteles                                  ✅  \n",
       "2nd_instar_ega                                          ✅  \n",
       "2nd_instar_macrosteles                                  ✅  \n",
       "3rd_instar_ega                                          ✅  \n",
       "3rd_instar_ega_pre-alate                                ✅  \n",
       "3rd_instar_macrosteles                                  ✅  \n",
       "4th_instar_macrosteles                                  ✅  \n",
       "4th_instar_pre-alate                                    ✅  \n",
       "ambush_bugs                                             ✅  \n",
       "anthocoridae                                            ✅  \n",
       "anthomyiidae-delia                                      ✅  \n",
       "any parasitoid_adults                                   ✅  \n",
       "aphelinus_albipodus                                     ✅  \n",
       "aphelinus_asychis                                       ✅  \n",
       "aphelinus_varipes                                       ✅  \n",
       "aphid_mummies                                           ✅  \n",
       "aphid_mummies_aphelinus_black                           ✅  \n",
       "aphid_mummies_aphidius_brown                            ✅  \n",
       "aphidencyrtus_sp                                        ✅  \n",
       "aphidiius_sp.                                           ✅  \n",
       "asaphes_suspensus                                       ✅  \n",
       "assassin_bug (reduviid bugs)                            ✅  \n",
       "athysanus_argentarius                                   ✅  \n",
       "bco/sweep                                              ✖️  \n",
       "bees                                                    ✅  \n",
       "beetles                                                 ✅  \n",
       "bertha_armyworms                                        ✅  \n",
       "bird_cherry_oat_aphid                                   ✅  \n",
       "braconid_wasps                                          ✅  \n",
       "cabbage_butterfly                                       ✅  \n",
       "capsus_simulans                                         ✅  \n",
       "caterpillar                                             ✅  \n",
       "chalcid_wasps                                           ✅  \n",
       "chinch_bug                                              ✅  \n",
       "chrysopa_oculata_adult                                  ✅  \n",
       "chrysopa_oculata_larvae                                 ✅  \n",
       "chrysoperla_carnea_adult                                ✅  \n",
       "chrysoperla_carnea_larva                                ✅  \n",
       "chrysopidae_adults                                      ✅  \n",
       "cicindela                                               ✅  \n",
       "coccinella_septempunctata_c7                            ✅  \n",
       "crop                                                    ✅  \n",
       "date                                                    ✅  \n",
       "date_by_week                                            ✅  \n",
       "distance(m)                                             ✅  \n",
       "dolichopodidae                                          ✅  \n",
       "doratura_sp.                                            ✅  \n",
       "dragonflies+damsel fly                                  ✅  \n",
       "ega alate                                               ✅  \n",
       "ega/20 sweeps                                          ✖️  \n",
       "ega/sweep                                              ✖️  \n",
       "ega_alate                                              ✖️  \n",
       "ega_apt                                                ✖️  \n",
       "errastunus_ocellaris_lh                                 ✅  \n",
       "eulophid_wasp                                           ✅  \n",
       "female_delia_sp_1                                       ✅  \n",
       "female_delia_sp_2                                       ✅  \n",
       "female_macrosteles_quadrilineatus                       ✅  \n",
       "field_name                                              ✅  \n",
       "flea_beetles crucifer                                   ✅  \n",
       "flea_beetles hop                                        ✅  \n",
       "flea_beetles striped                                    ✅  \n",
       "flies                                                   ✅  \n",
       "formicidae                                              ✅  \n",
       "g_lacewing_larvae                                       ✅  \n",
       "grasshoppers                                            ✅  \n",
       "green_grass nymphs                                      ✅  \n",
       "green_grass_bugs_trigonotylus_coelestialium mir...      ✅  \n",
       "...                                                   ...  \n",
       "lacewing_adult                                         ✖️  \n",
       "lacewing_larvae                                        ✖️  \n",
       "ladybugs- larvae                                        ✅  \n",
       "ladybugs_adults                                        ✖️  \n",
       "ladybugs_total                                         ✖️  \n",
       "lauxaniidae                                             ✅  \n",
       "legume_bug                                              ✅  \n",
       "lepidopteran_pupa                                       ✅  \n",
       "lygus_elisus                                            ✅  \n",
       "lygus_nymph                                             ✅  \n",
       "lygus_punctatus                                         ✅  \n",
       "macrosteles_quadrilineatus nymphs                       ✅  \n",
       "maggots                                                 ✅  \n",
       "male_delia_sp_1                                         ✅  \n",
       "male_delia_sp_2                                         ✅  \n",
       "male_macrosteles_quadrilineatus                         ✅  \n",
       "midge                                                   ✅  \n",
       "miridae_lygus lineolaris                                ✅  \n",
       "mollusks                                                ✅  \n",
       "mosquitoes                                              ✅  \n",
       "moths                                                   ✅  \n",
       "nabicula                                                ✅  \n",
       "nabis_alternatus                                        ✅  \n",
       "nabis_americoferus_nymph                                ✅  \n",
       "number of samples                                       ✅  \n",
       "oribatid                                                ✅  \n",
       "orius_tristicolor                                       ✅  \n",
       "other coccinellid_adults                                ✅  \n",
       "other_leafhoppers                                       ✅  \n",
       "pea aphids                                              ✅  \n",
       "pirate_bugs                                             ✅  \n",
       "plant_bugs                                              ✅  \n",
       "province                                                ✅  \n",
       "pumace_flies (drosophilidae)                            ✅  \n",
       "red_mite                                                ✅  \n",
       "sample type                                            ✖️  \n",
       "sample_by_week                                          ✅  \n",
       "scorpion_flies                                          ✅  \n",
       "seed bugs (lygaeidea)                                   ✅  \n",
       "seed_corn_beetles                                       ✅  \n",
       "shield_bugs                                             ✅  \n",
       "site                                                    ✅  \n",
       "sitobion_avenae_ega_green (wingless)                    ✅  \n",
       "sitobion_avenae_ega_red                                 ✅  \n",
       "spider_mites                                            ✅  \n",
       "spider_tetragnathidae                                   ✅  \n",
       "spiders                                                 ✅  \n",
       "springtails                                             ✅  \n",
       "stink_bugs (adult and nymph)                            ✅  \n",
       "syrphid_flies                                           ✅  \n",
       "thrips                                                  ✅  \n",
       "total ega                                              ✖️  \n",
       "total sweeps                                           ✖️  \n",
       "total_alate_aphids                                      ✅  \n",
       "total_apterous_aphids                                   ✅  \n",
       "treehoppers                                             ✅  \n",
       "tychius_picirostris (weevil)                            ✅  \n",
       "ufi_bugs                                                ✅  \n",
       "unnamed: 116                                           ✖️  \n",
       "unnamed: 129                                            ✅  \n",
       "unnamed: 13                                            ✖️  \n",
       "unnamed: 14                                            ✖️  \n",
       "unnamed: 15                                            ✖️  \n",
       "unnamed: 18                                            ✖️  \n",
       "unnamed: 20                                            ✖️  \n",
       "unnamed: 6                                             ✖️  \n",
       "unnamed: 7                                             ✖️  \n",
       "wasps_other                                             ✅  \n",
       "weevil                                                  ✅  \n",
       "worms                                                   ✅  \n",
       "\n",
       "[159 rows x 2 columns]"
      ]
     },
     "execution_count": 20,
     "metadata": {
     },
     "output_type": "execute_result"
    }
   ],
   "source": [
    "pandas.options.display.max_rows = 140\n",
    "\n",
    "compare_columns(sheets_to_compare)"
   ]
  },
  {
   "cell_type": "markdown",
   "metadata": {
    "collapsed": true
   },
   "source": [
    "**Sweep Samples Cereals Edited** seems to have left out some columns that would be expected to carry finely categorized subjects, such as various instars of aphids. Furthermore, it appears that **Sweep Samples Cereals Edited** has a column, ***Total Sweeps***, which is probably an artefact from previous analysis efforts. It's also missing the ***Distance(m)*** column; another sign of analysis, and therefore loss of some information.\n",
    "\n",
    "Unless analysis of date labels reveals that **Sweep Samples Cereals Edited** has dates that are missing from **Sheet2**, I'll assume it's not worth closer examination."
   ]
  },
  {
   "cell_type": "markdown",
   "metadata": {
    "collapsed": true
   },
   "source": [
    "#### Date Range"
   ]
  },
  {
   "cell_type": "code",
   "execution_count": 21,
   "metadata": {
    "collapsed": false
   },
   "outputs": [
    {
     "data": {
      "text/html": [
       "<div>\n",
       "<style scoped>\n",
       "    .dataframe tbody tr th:only-of-type {\n",
       "        vertical-align: middle;\n",
       "    }\n",
       "\n",
       "    .dataframe tbody tr th {\n",
       "        vertical-align: top;\n",
       "    }\n",
       "\n",
       "    .dataframe thead th {\n",
       "        text-align: right;\n",
       "    }\n",
       "</style>\n",
       "<table border=\"1\" class=\"dataframe\">\n",
       "  <thead>\n",
       "    <tr style=\"text-align: right;\">\n",
       "      <th></th>\n",
       "      <th>Sweep Samples Cereals Edited</th>\n",
       "      <th>Sheet2</th>\n",
       "    </tr>\n",
       "  </thead>\n",
       "  <tbody>\n",
       "    <tr>\n",
       "      <th>max</th>\n",
       "      <td>2016-08-15 00:00:00</td>\n",
       "      <td>2017-07-08 00:00:00</td>\n",
       "    </tr>\n",
       "    <tr>\n",
       "      <th>min</th>\n",
       "      <td>2016-06-05 00:00:00</td>\n",
       "      <td>2016-06-05 00:00:00</td>\n",
       "    </tr>\n",
       "    <tr>\n",
       "      <th>len_unique</th>\n",
       "      <td>32</td>\n",
       "      <td>34</td>\n",
       "    </tr>\n",
       "    <tr>\n",
       "      <th>len</th>\n",
       "      <td>668</td>\n",
       "      <td>668</td>\n",
       "    </tr>\n",
       "  </tbody>\n",
       "</table>\n",
       "</div>"
      ],
      "text/plain": [
       "           Sweep Samples Cereals Edited               Sheet2\n",
       "max                 2016-08-15 00:00:00  2017-07-08 00:00:00\n",
       "min                 2016-06-05 00:00:00  2016-06-05 00:00:00\n",
       "len_unique                           32                   34\n",
       "len                                 668                  668"
      ]
     },
     "execution_count": 21,
     "metadata": {
     },
     "output_type": "execute_result"
    }
   ],
   "source": [
    "def len_unique(pandas_object):\n",
    "    return len(pandas_object.unique())\n",
    "\n",
    "\n",
    "pandas.DataFrame(\n",
    "    {\n",
    "        name: frame.date\n",
    "        for name, frame in sheets_to_compare.items()\n",
    "    }\n",
    ").apply([\n",
    "    pandas.Series.max,\n",
    "    pandas.Series.min,\n",
    "    len_unique,\n",
    "    len,\n",
    "])"
   ]
  },
  {
   "cell_type": "markdown",
   "metadata": {
    "collapsed": true
   },
   "source": [
    "It appears that **Sweep Samples Cereals Edited**, like **Sweep Samples Cereals**, has slightly fewer unique dates than **Sheet2** but the same range, so I probably won't miss anything if I ignore it. To be sure, I need to check if all those specific dates in **Sweep Samples Cereals Edited** are actually in **Sheet2**, and not just the range."
   ]
  },
  {
   "cell_type": "code",
   "execution_count": 22,
   "metadata": {
    "collapsed": false
   },
   "outputs": [
    {
     "data": {
      "text/plain": [
       "True"
      ]
     },
     "execution_count": 22,
     "metadata": {
     },
     "output_type": "execute_result"
    }
   ],
   "source": [
    "ssce.date.isin(s2.date).all()"
   ]
  },
  {
   "cell_type": "markdown",
   "metadata": {
    "collapsed": true
   },
   "source": [
    "Excellent. I see no reason to pay attention to **Sweep Samples Cereals Edited** or **Sweep Samples Cereals** anymore, except for the possibility that the actual sample data differs. For the time being, I'll ignore that possibility and move ahead. "
   ]
  },
  {
   "cell_type": "markdown",
   "metadata": {
    "collapsed": true
   },
   "source": [
    "#### Conclusion"
   ]
  },
  {
   "cell_type": "markdown",
   "metadata": {
    "collapsed": true
   },
   "source": [
    "Optimal candidate regarding these two sheets:\n",
    "\n",
    "- **Sheet2**"
   ]
  },
  {
   "cell_type": "markdown",
   "metadata": {
    "collapsed": true
   },
   "source": [
    "### **Sheet2** vs **leafhoppers 2016 cereal sweeps**"
   ]
  },
  {
   "cell_type": "code",
   "execution_count": 23,
   "metadata": {
    "collapsed": false
   },
   "outputs": [
   ],
   "source": [
    "sheets_to_compare = {\n",
    "    name: sheets[name]\n",
    "    for name in (\n",
    "        'leafhoppers 2016 cereal sweeps',\n",
    "        'Sheet2',\n",
    "    )\n",
    "}\n",
    "lh2016, s2 = sheets_to_compare.values()\n",
    "sheet_names = sheets_to_compare.keys()"
   ]
  },
  {
   "cell_type": "markdown",
   "metadata": {
    "collapsed": true
   },
   "source": [
    "#### Columns"
   ]
  },
  {
   "cell_type": "code",
   "execution_count": 24,
   "metadata": {
    "collapsed": false,
    "scrolled": true
   },
   "outputs": [
    {
     "data": {
      "text/html": [
       "<div>\n",
       "<style scoped>\n",
       "    .dataframe tbody tr th:only-of-type {\n",
       "        vertical-align: middle;\n",
       "    }\n",
       "\n",
       "    .dataframe tbody tr th {\n",
       "        vertical-align: top;\n",
       "    }\n",
       "\n",
       "    .dataframe thead th {\n",
       "        text-align: right;\n",
       "    }\n",
       "</style>\n",
       "<table border=\"1\" class=\"dataframe\">\n",
       "  <thead>\n",
       "    <tr style=\"text-align: right;\">\n",
       "      <th></th>\n",
       "      <th>leafhoppers 2016 cereal sweeps</th>\n",
       "      <th>Sheet2</th>\n",
       "    </tr>\n",
       "  </thead>\n",
       "  <tbody>\n",
       "    <tr>\n",
       "      <th>( damsel bug)nabis_americoferus_adult</th>\n",
       "      <td>✖️</td>\n",
       "      <td>✅</td>\n",
       "    </tr>\n",
       "    <tr>\n",
       "      <th>1st_instar_ega</th>\n",
       "      <td>✖️</td>\n",
       "      <td>✅</td>\n",
       "    </tr>\n",
       "    <tr>\n",
       "      <th>1st_instar_macrosteles</th>\n",
       "      <td>✅</td>\n",
       "      <td>✅</td>\n",
       "    </tr>\n",
       "    <tr>\n",
       "      <th>2nd_instar_ega</th>\n",
       "      <td>✖️</td>\n",
       "      <td>✅</td>\n",
       "    </tr>\n",
       "    <tr>\n",
       "      <th>2nd_instar_macrosteles</th>\n",
       "      <td>✅</td>\n",
       "      <td>✅</td>\n",
       "    </tr>\n",
       "    <tr>\n",
       "      <th>3rd_instar_ega</th>\n",
       "      <td>✖️</td>\n",
       "      <td>✅</td>\n",
       "    </tr>\n",
       "    <tr>\n",
       "      <th>3rd_instar_ega_pre-alate</th>\n",
       "      <td>✖️</td>\n",
       "      <td>✅</td>\n",
       "    </tr>\n",
       "    <tr>\n",
       "      <th>3rd_instar_macrosteles</th>\n",
       "      <td>✅</td>\n",
       "      <td>✅</td>\n",
       "    </tr>\n",
       "    <tr>\n",
       "      <th>4th_instar_macrosteles</th>\n",
       "      <td>✅</td>\n",
       "      <td>✅</td>\n",
       "    </tr>\n",
       "    <tr>\n",
       "      <th>4th_instar_pre-alate</th>\n",
       "      <td>✖️</td>\n",
       "      <td>✅</td>\n",
       "    </tr>\n",
       "    <tr>\n",
       "      <th>ambush_bugs</th>\n",
       "      <td>✖️</td>\n",
       "      <td>✅</td>\n",
       "    </tr>\n",
       "    <tr>\n",
       "      <th>anthocoridae</th>\n",
       "      <td>✖️</td>\n",
       "      <td>✅</td>\n",
       "    </tr>\n",
       "    <tr>\n",
       "      <th>anthomyiidae-delia</th>\n",
       "      <td>✖️</td>\n",
       "      <td>✅</td>\n",
       "    </tr>\n",
       "    <tr>\n",
       "      <th>any parasitoid_adults</th>\n",
       "      <td>✖️</td>\n",
       "      <td>✅</td>\n",
       "    </tr>\n",
       "    <tr>\n",
       "      <th>aphelinus_albipodus</th>\n",
       "      <td>✖️</td>\n",
       "      <td>✅</td>\n",
       "    </tr>\n",
       "    <tr>\n",
       "      <th>aphelinus_asychis</th>\n",
       "      <td>✖️</td>\n",
       "      <td>✅</td>\n",
       "    </tr>\n",
       "    <tr>\n",
       "      <th>aphelinus_varipes</th>\n",
       "      <td>✖️</td>\n",
       "      <td>✅</td>\n",
       "    </tr>\n",
       "    <tr>\n",
       "      <th>aphid_mummies</th>\n",
       "      <td>✖️</td>\n",
       "      <td>✅</td>\n",
       "    </tr>\n",
       "    <tr>\n",
       "      <th>aphid_mummies_aphelinus_black</th>\n",
       "      <td>✖️</td>\n",
       "      <td>✅</td>\n",
       "    </tr>\n",
       "    <tr>\n",
       "      <th>aphid_mummies_aphidius_brown</th>\n",
       "      <td>✖️</td>\n",
       "      <td>✅</td>\n",
       "    </tr>\n",
       "    <tr>\n",
       "      <th>aphidencyrtus_sp</th>\n",
       "      <td>✖️</td>\n",
       "      <td>✅</td>\n",
       "    </tr>\n",
       "    <tr>\n",
       "      <th>aphidiius_sp.</th>\n",
       "      <td>✖️</td>\n",
       "      <td>✅</td>\n",
       "    </tr>\n",
       "    <tr>\n",
       "      <th>asaphes_suspensus</th>\n",
       "      <td>✖️</td>\n",
       "      <td>✅</td>\n",
       "    </tr>\n",
       "    <tr>\n",
       "      <th>assassin_bug (reduviid bugs)</th>\n",
       "      <td>✖️</td>\n",
       "      <td>✅</td>\n",
       "    </tr>\n",
       "    <tr>\n",
       "      <th>athysanus_argentarius</th>\n",
       "      <td>✅</td>\n",
       "      <td>✅</td>\n",
       "    </tr>\n",
       "    <tr>\n",
       "      <th>bees</th>\n",
       "      <td>✖️</td>\n",
       "      <td>✅</td>\n",
       "    </tr>\n",
       "    <tr>\n",
       "      <th>beetles</th>\n",
       "      <td>✖️</td>\n",
       "      <td>✅</td>\n",
       "    </tr>\n",
       "    <tr>\n",
       "      <th>bertha_armyworms</th>\n",
       "      <td>✖️</td>\n",
       "      <td>✅</td>\n",
       "    </tr>\n",
       "    <tr>\n",
       "      <th>bird_cherry_oat_aphid</th>\n",
       "      <td>✖️</td>\n",
       "      <td>✅</td>\n",
       "    </tr>\n",
       "    <tr>\n",
       "      <th>braconid_wasps</th>\n",
       "      <td>✖️</td>\n",
       "      <td>✅</td>\n",
       "    </tr>\n",
       "    <tr>\n",
       "      <th>cabbage_butterfly</th>\n",
       "      <td>✖️</td>\n",
       "      <td>✅</td>\n",
       "    </tr>\n",
       "    <tr>\n",
       "      <th>capsus_simulans</th>\n",
       "      <td>✖️</td>\n",
       "      <td>✅</td>\n",
       "    </tr>\n",
       "    <tr>\n",
       "      <th>caterpillar</th>\n",
       "      <td>✖️</td>\n",
       "      <td>✅</td>\n",
       "    </tr>\n",
       "    <tr>\n",
       "      <th>chalcid_wasps</th>\n",
       "      <td>✖️</td>\n",
       "      <td>✅</td>\n",
       "    </tr>\n",
       "    <tr>\n",
       "      <th>chinch_bug</th>\n",
       "      <td>✖️</td>\n",
       "      <td>✅</td>\n",
       "    </tr>\n",
       "    <tr>\n",
       "      <th>chrysopa_oculata_adult</th>\n",
       "      <td>✖️</td>\n",
       "      <td>✅</td>\n",
       "    </tr>\n",
       "    <tr>\n",
       "      <th>chrysopa_oculata_larvae</th>\n",
       "      <td>✖️</td>\n",
       "      <td>✅</td>\n",
       "    </tr>\n",
       "    <tr>\n",
       "      <th>chrysoperla_carnea_adult</th>\n",
       "      <td>✖️</td>\n",
       "      <td>✅</td>\n",
       "    </tr>\n",
       "    <tr>\n",
       "      <th>chrysoperla_carnea_larva</th>\n",
       "      <td>✖️</td>\n",
       "      <td>✅</td>\n",
       "    </tr>\n",
       "    <tr>\n",
       "      <th>chrysopidae_adults</th>\n",
       "      <td>✖️</td>\n",
       "      <td>✅</td>\n",
       "    </tr>\n",
       "    <tr>\n",
       "      <th>cicindela</th>\n",
       "      <td>✖️</td>\n",
       "      <td>✅</td>\n",
       "    </tr>\n",
       "    <tr>\n",
       "      <th>coccinella_septempunctata_c7</th>\n",
       "      <td>✖️</td>\n",
       "      <td>✅</td>\n",
       "    </tr>\n",
       "    <tr>\n",
       "      <th>crop</th>\n",
       "      <td>✅</td>\n",
       "      <td>✅</td>\n",
       "    </tr>\n",
       "    <tr>\n",
       "      <th>date</th>\n",
       "      <td>✅</td>\n",
       "      <td>✅</td>\n",
       "    </tr>\n",
       "    <tr>\n",
       "      <th>date_by_week</th>\n",
       "      <td>✅</td>\n",
       "      <td>✅</td>\n",
       "    </tr>\n",
       "    <tr>\n",
       "      <th>distance(m)</th>\n",
       "      <td>✅</td>\n",
       "      <td>✅</td>\n",
       "    </tr>\n",
       "    <tr>\n",
       "      <th>dolichopodidae</th>\n",
       "      <td>✖️</td>\n",
       "      <td>✅</td>\n",
       "    </tr>\n",
       "    <tr>\n",
       "      <th>doratura_sp.</th>\n",
       "      <td>✅</td>\n",
       "      <td>✅</td>\n",
       "    </tr>\n",
       "    <tr>\n",
       "      <th>dragonflies+damsel fly</th>\n",
       "      <td>✖️</td>\n",
       "      <td>✅</td>\n",
       "    </tr>\n",
       "    <tr>\n",
       "      <th>ega alate</th>\n",
       "      <td>✖️</td>\n",
       "      <td>✅</td>\n",
       "    </tr>\n",
       "    <tr>\n",
       "      <th>errastunus_ocellaris_lh</th>\n",
       "      <td>✅</td>\n",
       "      <td>✅</td>\n",
       "    </tr>\n",
       "    <tr>\n",
       "      <th>eulophid_wasp</th>\n",
       "      <td>✖️</td>\n",
       "      <td>✅</td>\n",
       "    </tr>\n",
       "    <tr>\n",
       "      <th>female_delia_sp_1</th>\n",
       "      <td>✖️</td>\n",
       "      <td>✅</td>\n",
       "    </tr>\n",
       "    <tr>\n",
       "      <th>female_delia_sp_2</th>\n",
       "      <td>✖️</td>\n",
       "      <td>✅</td>\n",
       "    </tr>\n",
       "    <tr>\n",
       "      <th>female_macrosteles_quadrilineatus</th>\n",
       "      <td>✅</td>\n",
       "      <td>✅</td>\n",
       "    </tr>\n",
       "    <tr>\n",
       "      <th>field_name</th>\n",
       "      <td>✅</td>\n",
       "      <td>✅</td>\n",
       "    </tr>\n",
       "    <tr>\n",
       "      <th>flea_beetles crucifer</th>\n",
       "      <td>✖️</td>\n",
       "      <td>✅</td>\n",
       "    </tr>\n",
       "    <tr>\n",
       "      <th>flea_beetles hop</th>\n",
       "      <td>✖️</td>\n",
       "      <td>✅</td>\n",
       "    </tr>\n",
       "    <tr>\n",
       "      <th>flea_beetles striped</th>\n",
       "      <td>✖️</td>\n",
       "      <td>✅</td>\n",
       "    </tr>\n",
       "    <tr>\n",
       "      <th>flies</th>\n",
       "      <td>✖️</td>\n",
       "      <td>✅</td>\n",
       "    </tr>\n",
       "    <tr>\n",
       "      <th>formicidae</th>\n",
       "      <td>✖️</td>\n",
       "      <td>✅</td>\n",
       "    </tr>\n",
       "    <tr>\n",
       "      <th>g_lacewing_larvae</th>\n",
       "      <td>✖️</td>\n",
       "      <td>✅</td>\n",
       "    </tr>\n",
       "    <tr>\n",
       "      <th>grasshoppers</th>\n",
       "      <td>✖️</td>\n",
       "      <td>✅</td>\n",
       "    </tr>\n",
       "    <tr>\n",
       "      <th>green_grass nymphs</th>\n",
       "      <td>✖️</td>\n",
       "      <td>✅</td>\n",
       "    </tr>\n",
       "    <tr>\n",
       "      <th>green_grass_bugs_trigonotylus_coelestialium miridae</th>\n",
       "      <td>✖️</td>\n",
       "      <td>✅</td>\n",
       "    </tr>\n",
       "    <tr>\n",
       "      <th>greenbug_aphid</th>\n",
       "      <td>✖️</td>\n",
       "      <td>✅</td>\n",
       "    </tr>\n",
       "    <tr>\n",
       "      <th>harvestman</th>\n",
       "      <td>✖️</td>\n",
       "      <td>✅</td>\n",
       "    </tr>\n",
       "    <tr>\n",
       "      <th>hippodamia_tredecimpunctata_c13</th>\n",
       "      <td>✖️</td>\n",
       "      <td>✅</td>\n",
       "    </tr>\n",
       "    <tr>\n",
       "      <th>hoverflies</th>\n",
       "      <td>✖️</td>\n",
       "      <td>✅</td>\n",
       "    </tr>\n",
       "    <tr>\n",
       "      <th>hymenoptera_aphelinidae</th>\n",
       "      <td>✖️</td>\n",
       "      <td>✅</td>\n",
       "    </tr>\n",
       "    <tr>\n",
       "      <th>hymenoptera_apidae</th>\n",
       "      <td>✖️</td>\n",
       "      <td>✅</td>\n",
       "    </tr>\n",
       "    <tr>\n",
       "      <th>hymenoptera_chalcidoidea</th>\n",
       "      <td>✖️</td>\n",
       "      <td>✅</td>\n",
       "    </tr>\n",
       "    <tr>\n",
       "      <th>hymenoptera_diplazontinae</th>\n",
       "      <td>✖️</td>\n",
       "      <td>✅</td>\n",
       "    </tr>\n",
       "    <tr>\n",
       "      <th>hymenoptera_figitidae</th>\n",
       "      <td>✖️</td>\n",
       "      <td>✅</td>\n",
       "    </tr>\n",
       "    <tr>\n",
       "      <th>hymenoptera_ichneumondoidea</th>\n",
       "      <td>✖️</td>\n",
       "      <td>✅</td>\n",
       "    </tr>\n",
       "    <tr>\n",
       "      <th>hymenoptera_perilampidae</th>\n",
       "      <td>✖️</td>\n",
       "      <td>✅</td>\n",
       "    </tr>\n",
       "    <tr>\n",
       "      <th>hymenoptera_proctotrupidae</th>\n",
       "      <td>✖️</td>\n",
       "      <td>✅</td>\n",
       "    </tr>\n",
       "    <tr>\n",
       "      <th>hymenoptera_proctotrupoidea</th>\n",
       "      <td>✖️</td>\n",
       "      <td>✅</td>\n",
       "    </tr>\n",
       "    <tr>\n",
       "      <th>hymenoptera_pteromalidae</th>\n",
       "      <td>✖️</td>\n",
       "      <td>✅</td>\n",
       "    </tr>\n",
       "    <tr>\n",
       "      <th>hyperparasitoids ???</th>\n",
       "      <td>✖️</td>\n",
       "      <td>✅</td>\n",
       "    </tr>\n",
       "    <tr>\n",
       "      <th>ichneumonidae</th>\n",
       "      <td>✖️</td>\n",
       "      <td>✅</td>\n",
       "    </tr>\n",
       "    <tr>\n",
       "      <th>id</th>\n",
       "      <td>✖️</td>\n",
       "      <td>✅</td>\n",
       "    </tr>\n",
       "    <tr>\n",
       "      <th>julian_date</th>\n",
       "      <td>✅</td>\n",
       "      <td>✅</td>\n",
       "    </tr>\n",
       "    <tr>\n",
       "      <th>katydids</th>\n",
       "      <td>✖️</td>\n",
       "      <td>✅</td>\n",
       "    </tr>\n",
       "    <tr>\n",
       "      <th>ladybugs- larvae</th>\n",
       "      <td>✖️</td>\n",
       "      <td>✅</td>\n",
       "    </tr>\n",
       "    <tr>\n",
       "      <th>lauxaniidae</th>\n",
       "      <td>✖️</td>\n",
       "      <td>✅</td>\n",
       "    </tr>\n",
       "    <tr>\n",
       "      <th>legume_bug</th>\n",
       "      <td>✖️</td>\n",
       "      <td>✅</td>\n",
       "    </tr>\n",
       "    <tr>\n",
       "      <th>lepidopteran_pupa</th>\n",
       "      <td>✖️</td>\n",
       "      <td>✅</td>\n",
       "    </tr>\n",
       "    <tr>\n",
       "      <th>lygus_elisus</th>\n",
       "      <td>✖️</td>\n",
       "      <td>✅</td>\n",
       "    </tr>\n",
       "    <tr>\n",
       "      <th>lygus_nymph</th>\n",
       "      <td>✖️</td>\n",
       "      <td>✅</td>\n",
       "    </tr>\n",
       "    <tr>\n",
       "      <th>lygus_punctatus</th>\n",
       "      <td>✖️</td>\n",
       "      <td>✅</td>\n",
       "    </tr>\n",
       "    <tr>\n",
       "      <th>macrosteles_quadrilineatus nymphs</th>\n",
       "      <td>✅</td>\n",
       "      <td>✅</td>\n",
       "    </tr>\n",
       "    <tr>\n",
       "      <th>maggots</th>\n",
       "      <td>✖️</td>\n",
       "      <td>✅</td>\n",
       "    </tr>\n",
       "    <tr>\n",
       "      <th>male_delia_sp_1</th>\n",
       "      <td>✖️</td>\n",
       "      <td>✅</td>\n",
       "    </tr>\n",
       "    <tr>\n",
       "      <th>male_delia_sp_2</th>\n",
       "      <td>✖️</td>\n",
       "      <td>✅</td>\n",
       "    </tr>\n",
       "    <tr>\n",
       "      <th>male_macrosteles_quadrilineatus</th>\n",
       "      <td>✅</td>\n",
       "      <td>✅</td>\n",
       "    </tr>\n",
       "    <tr>\n",
       "      <th>midge</th>\n",
       "      <td>✖️</td>\n",
       "      <td>✅</td>\n",
       "    </tr>\n",
       "    <tr>\n",
       "      <th>miridae_lygus lineolaris</th>\n",
       "      <td>✖️</td>\n",
       "      <td>✅</td>\n",
       "    </tr>\n",
       "    <tr>\n",
       "      <th>mollusks</th>\n",
       "      <td>✖️</td>\n",
       "      <td>✅</td>\n",
       "    </tr>\n",
       "    <tr>\n",
       "      <th>mosquitoes</th>\n",
       "      <td>✖️</td>\n",
       "      <td>✅</td>\n",
       "    </tr>\n",
       "    <tr>\n",
       "      <th>moths</th>\n",
       "      <td>✖️</td>\n",
       "      <td>✅</td>\n",
       "    </tr>\n",
       "    <tr>\n",
       "      <th>nabicula</th>\n",
       "      <td>✖️</td>\n",
       "      <td>✅</td>\n",
       "    </tr>\n",
       "    <tr>\n",
       "      <th>nabis_alternatus</th>\n",
       "      <td>✖️</td>\n",
       "      <td>✅</td>\n",
       "    </tr>\n",
       "    <tr>\n",
       "      <th>nabis_americoferus_nymph</th>\n",
       "      <td>✖️</td>\n",
       "      <td>✅</td>\n",
       "    </tr>\n",
       "    <tr>\n",
       "      <th>number of samples</th>\n",
       "      <td>✅</td>\n",
       "      <td>✅</td>\n",
       "    </tr>\n",
       "    <tr>\n",
       "      <th>oribatid</th>\n",
       "      <td>✖️</td>\n",
       "      <td>✅</td>\n",
       "    </tr>\n",
       "    <tr>\n",
       "      <th>orius_tristicolor</th>\n",
       "      <td>✖️</td>\n",
       "      <td>✅</td>\n",
       "    </tr>\n",
       "    <tr>\n",
       "      <th>other coccinellid_adults</th>\n",
       "      <td>✖️</td>\n",
       "      <td>✅</td>\n",
       "    </tr>\n",
       "    <tr>\n",
       "      <th>other_leafhoppers</th>\n",
       "      <td>✅</td>\n",
       "      <td>✅</td>\n",
       "    </tr>\n",
       "    <tr>\n",
       "      <th>pea aphids</th>\n",
       "      <td>✖️</td>\n",
       "      <td>✅</td>\n",
       "    </tr>\n",
       "    <tr>\n",
       "      <th>pirate_bugs</th>\n",
       "      <td>✖️</td>\n",
       "      <td>✅</td>\n",
       "    </tr>\n",
       "    <tr>\n",
       "      <th>plant_bugs</th>\n",
       "      <td>✖️</td>\n",
       "      <td>✅</td>\n",
       "    </tr>\n",
       "    <tr>\n",
       "      <th>province</th>\n",
       "      <td>✖️</td>\n",
       "      <td>✅</td>\n",
       "    </tr>\n",
       "    <tr>\n",
       "      <th>pumace_flies (drosophilidae)</th>\n",
       "      <td>✖️</td>\n",
       "      <td>✅</td>\n",
       "    </tr>\n",
       "    <tr>\n",
       "      <th>red_mite</th>\n",
       "      <td>✖️</td>\n",
       "      <td>✅</td>\n",
       "    </tr>\n",
       "    <tr>\n",
       "      <th>sample_by_week</th>\n",
       "      <td>✅</td>\n",
       "      <td>✅</td>\n",
       "    </tr>\n",
       "    <tr>\n",
       "      <th>scorpion_flies</th>\n",
       "      <td>✖️</td>\n",
       "      <td>✅</td>\n",
       "    </tr>\n",
       "    <tr>\n",
       "      <th>seed bugs (lygaeidea)</th>\n",
       "      <td>✖️</td>\n",
       "      <td>✅</td>\n",
       "    </tr>\n",
       "    <tr>\n",
       "      <th>seed_corn_beetles</th>\n",
       "      <td>✖️</td>\n",
       "      <td>✅</td>\n",
       "    </tr>\n",
       "    <tr>\n",
       "      <th>shield_bugs</th>\n",
       "      <td>✖️</td>\n",
       "      <td>✅</td>\n",
       "    </tr>\n",
       "    <tr>\n",
       "      <th>site</th>\n",
       "      <td>✅</td>\n",
       "      <td>✅</td>\n",
       "    </tr>\n",
       "    <tr>\n",
       "      <th>sitobion_avenae_ega_green (wingless)</th>\n",
       "      <td>✖️</td>\n",
       "      <td>✅</td>\n",
       "    </tr>\n",
       "    <tr>\n",
       "      <th>sitobion_avenae_ega_red</th>\n",
       "      <td>✖️</td>\n",
       "      <td>✅</td>\n",
       "    </tr>\n",
       "    <tr>\n",
       "      <th>spider_mites</th>\n",
       "      <td>✖️</td>\n",
       "      <td>✅</td>\n",
       "    </tr>\n",
       "    <tr>\n",
       "      <th>spider_tetragnathidae</th>\n",
       "      <td>✖️</td>\n",
       "      <td>✅</td>\n",
       "    </tr>\n",
       "    <tr>\n",
       "      <th>spiders</th>\n",
       "      <td>✖️</td>\n",
       "      <td>✅</td>\n",
       "    </tr>\n",
       "    <tr>\n",
       "      <th>springtails</th>\n",
       "      <td>✖️</td>\n",
       "      <td>✅</td>\n",
       "    </tr>\n",
       "    <tr>\n",
       "      <th>stink_bugs (adult and nymph)</th>\n",
       "      <td>✖️</td>\n",
       "      <td>✅</td>\n",
       "    </tr>\n",
       "    <tr>\n",
       "      <th>syrphid_flies</th>\n",
       "      <td>✖️</td>\n",
       "      <td>✅</td>\n",
       "    </tr>\n",
       "    <tr>\n",
       "      <th>thrips</th>\n",
       "      <td>✖️</td>\n",
       "      <td>✅</td>\n",
       "    </tr>\n",
       "    <tr>\n",
       "      <th>total sweeps</th>\n",
       "      <td>✅</td>\n",
       "      <td>✖️</td>\n",
       "    </tr>\n",
       "    <tr>\n",
       "      <th>total_alate_aphids</th>\n",
       "      <td>✖️</td>\n",
       "      <td>✅</td>\n",
       "    </tr>\n",
       "    <tr>\n",
       "      <th>total_apterous_aphids</th>\n",
       "      <td>✖️</td>\n",
       "      <td>✅</td>\n",
       "    </tr>\n",
       "    <tr>\n",
       "      <th>treehoppers</th>\n",
       "      <td>✖️</td>\n",
       "      <td>✅</td>\n",
       "    </tr>\n",
       "    <tr>\n",
       "      <th>tychius_picirostris (weevil)</th>\n",
       "      <td>✖️</td>\n",
       "      <td>✅</td>\n",
       "    </tr>\n",
       "    <tr>\n",
       "      <th>ufi_bugs</th>\n",
       "      <td>✖️</td>\n",
       "      <td>✅</td>\n",
       "    </tr>\n",
       "    <tr>\n",
       "      <th>unnamed: 129</th>\n",
       "      <td>✖️</td>\n",
       "      <td>✅</td>\n",
       "    </tr>\n",
       "    <tr>\n",
       "      <th>wasps_other</th>\n",
       "      <td>✖️</td>\n",
       "      <td>✅</td>\n",
       "    </tr>\n",
       "    <tr>\n",
       "      <th>weevil</th>\n",
       "      <td>✖️</td>\n",
       "      <td>✅</td>\n",
       "    </tr>\n",
       "    <tr>\n",
       "      <th>worms</th>\n",
       "      <td>✖️</td>\n",
       "      <td>✅</td>\n",
       "    </tr>\n",
       "  </tbody>\n",
       "</table>\n",
       "</div>"
      ],
      "text/plain": [
       "                                                   leafhoppers 2016 cereal sweeps  \\\n",
       "( damsel bug)nabis_americoferus_adult                                          ✖️   \n",
       "1st_instar_ega                                                                 ✖️   \n",
       "1st_instar_macrosteles                                                          ✅   \n",
       "2nd_instar_ega                                                                 ✖️   \n",
       "2nd_instar_macrosteles                                                          ✅   \n",
       "3rd_instar_ega                                                                 ✖️   \n",
       "3rd_instar_ega_pre-alate                                                       ✖️   \n",
       "3rd_instar_macrosteles                                                          ✅   \n",
       "4th_instar_macrosteles                                                          ✅   \n",
       "4th_instar_pre-alate                                                           ✖️   \n",
       "ambush_bugs                                                                    ✖️   \n",
       "anthocoridae                                                                   ✖️   \n",
       "anthomyiidae-delia                                                             ✖️   \n",
       "any parasitoid_adults                                                          ✖️   \n",
       "aphelinus_albipodus                                                            ✖️   \n",
       "aphelinus_asychis                                                              ✖️   \n",
       "aphelinus_varipes                                                              ✖️   \n",
       "aphid_mummies                                                                  ✖️   \n",
       "aphid_mummies_aphelinus_black                                                  ✖️   \n",
       "aphid_mummies_aphidius_brown                                                   ✖️   \n",
       "aphidencyrtus_sp                                                               ✖️   \n",
       "aphidiius_sp.                                                                  ✖️   \n",
       "asaphes_suspensus                                                              ✖️   \n",
       "assassin_bug (reduviid bugs)                                                   ✖️   \n",
       "athysanus_argentarius                                                           ✅   \n",
       "bees                                                                           ✖️   \n",
       "beetles                                                                        ✖️   \n",
       "bertha_armyworms                                                               ✖️   \n",
       "bird_cherry_oat_aphid                                                          ✖️   \n",
       "braconid_wasps                                                                 ✖️   \n",
       "cabbage_butterfly                                                              ✖️   \n",
       "capsus_simulans                                                                ✖️   \n",
       "caterpillar                                                                    ✖️   \n",
       "chalcid_wasps                                                                  ✖️   \n",
       "chinch_bug                                                                     ✖️   \n",
       "chrysopa_oculata_adult                                                         ✖️   \n",
       "chrysopa_oculata_larvae                                                        ✖️   \n",
       "chrysoperla_carnea_adult                                                       ✖️   \n",
       "chrysoperla_carnea_larva                                                       ✖️   \n",
       "chrysopidae_adults                                                             ✖️   \n",
       "cicindela                                                                      ✖️   \n",
       "coccinella_septempunctata_c7                                                   ✖️   \n",
       "crop                                                                            ✅   \n",
       "date                                                                            ✅   \n",
       "date_by_week                                                                    ✅   \n",
       "distance(m)                                                                     ✅   \n",
       "dolichopodidae                                                                 ✖️   \n",
       "doratura_sp.                                                                    ✅   \n",
       "dragonflies+damsel fly                                                         ✖️   \n",
       "ega alate                                                                      ✖️   \n",
       "errastunus_ocellaris_lh                                                         ✅   \n",
       "eulophid_wasp                                                                  ✖️   \n",
       "female_delia_sp_1                                                              ✖️   \n",
       "female_delia_sp_2                                                              ✖️   \n",
       "female_macrosteles_quadrilineatus                                               ✅   \n",
       "field_name                                                                      ✅   \n",
       "flea_beetles crucifer                                                          ✖️   \n",
       "flea_beetles hop                                                               ✖️   \n",
       "flea_beetles striped                                                           ✖️   \n",
       "flies                                                                          ✖️   \n",
       "formicidae                                                                     ✖️   \n",
       "g_lacewing_larvae                                                              ✖️   \n",
       "grasshoppers                                                                   ✖️   \n",
       "green_grass nymphs                                                             ✖️   \n",
       "green_grass_bugs_trigonotylus_coelestialium mir...                             ✖️   \n",
       "greenbug_aphid                                                                 ✖️   \n",
       "harvestman                                                                     ✖️   \n",
       "hippodamia_tredecimpunctata_c13                                                ✖️   \n",
       "hoverflies                                                                     ✖️   \n",
       "hymenoptera_aphelinidae                                                        ✖️   \n",
       "hymenoptera_apidae                                                             ✖️   \n",
       "hymenoptera_chalcidoidea                                                       ✖️   \n",
       "hymenoptera_diplazontinae                                                      ✖️   \n",
       "hymenoptera_figitidae                                                          ✖️   \n",
       "hymenoptera_ichneumondoidea                                                    ✖️   \n",
       "hymenoptera_perilampidae                                                       ✖️   \n",
       "hymenoptera_proctotrupidae                                                     ✖️   \n",
       "hymenoptera_proctotrupoidea                                                    ✖️   \n",
       "hymenoptera_pteromalidae                                                       ✖️   \n",
       "hyperparasitoids ???                                                           ✖️   \n",
       "ichneumonidae                                                                  ✖️   \n",
       "id                                                                             ✖️   \n",
       "julian_date                                                                     ✅   \n",
       "katydids                                                                       ✖️   \n",
       "ladybugs- larvae                                                               ✖️   \n",
       "lauxaniidae                                                                    ✖️   \n",
       "legume_bug                                                                     ✖️   \n",
       "lepidopteran_pupa                                                              ✖️   \n",
       "lygus_elisus                                                                   ✖️   \n",
       "lygus_nymph                                                                    ✖️   \n",
       "lygus_punctatus                                                                ✖️   \n",
       "macrosteles_quadrilineatus nymphs                                               ✅   \n",
       "maggots                                                                        ✖️   \n",
       "male_delia_sp_1                                                                ✖️   \n",
       "male_delia_sp_2                                                                ✖️   \n",
       "male_macrosteles_quadrilineatus                                                 ✅   \n",
       "midge                                                                          ✖️   \n",
       "miridae_lygus lineolaris                                                       ✖️   \n",
       "mollusks                                                                       ✖️   \n",
       "mosquitoes                                                                     ✖️   \n",
       "moths                                                                          ✖️   \n",
       "nabicula                                                                       ✖️   \n",
       "nabis_alternatus                                                               ✖️   \n",
       "nabis_americoferus_nymph                                                       ✖️   \n",
       "number of samples                                                               ✅   \n",
       "oribatid                                                                       ✖️   \n",
       "orius_tristicolor                                                              ✖️   \n",
       "other coccinellid_adults                                                       ✖️   \n",
       "other_leafhoppers                                                               ✅   \n",
       "pea aphids                                                                     ✖️   \n",
       "pirate_bugs                                                                    ✖️   \n",
       "plant_bugs                                                                     ✖️   \n",
       "province                                                                       ✖️   \n",
       "pumace_flies (drosophilidae)                                                   ✖️   \n",
       "red_mite                                                                       ✖️   \n",
       "sample_by_week                                                                  ✅   \n",
       "scorpion_flies                                                                 ✖️   \n",
       "seed bugs (lygaeidea)                                                          ✖️   \n",
       "seed_corn_beetles                                                              ✖️   \n",
       "shield_bugs                                                                    ✖️   \n",
       "site                                                                            ✅   \n",
       "sitobion_avenae_ega_green (wingless)                                           ✖️   \n",
       "sitobion_avenae_ega_red                                                        ✖️   \n",
       "spider_mites                                                                   ✖️   \n",
       "spider_tetragnathidae                                                          ✖️   \n",
       "spiders                                                                        ✖️   \n",
       "springtails                                                                    ✖️   \n",
       "stink_bugs (adult and nymph)                                                   ✖️   \n",
       "syrphid_flies                                                                  ✖️   \n",
       "thrips                                                                         ✖️   \n",
       "total sweeps                                                                    ✅   \n",
       "total_alate_aphids                                                             ✖️   \n",
       "total_apterous_aphids                                                          ✖️   \n",
       "treehoppers                                                                    ✖️   \n",
       "tychius_picirostris (weevil)                                                   ✖️   \n",
       "ufi_bugs                                                                       ✖️   \n",
       "unnamed: 129                                                                   ✖️   \n",
       "wasps_other                                                                    ✖️   \n",
       "weevil                                                                         ✖️   \n",
       "worms                                                                          ✖️   \n",
       "\n",
       "                                                   Sheet2  \n",
       "( damsel bug)nabis_americoferus_adult                   ✅  \n",
       "1st_instar_ega                                          ✅  \n",
       "1st_instar_macrosteles                                  ✅  \n",
       "2nd_instar_ega                                          ✅  \n",
       "2nd_instar_macrosteles                                  ✅  \n",
       "3rd_instar_ega                                          ✅  \n",
       "3rd_instar_ega_pre-alate                                ✅  \n",
       "3rd_instar_macrosteles                                  ✅  \n",
       "4th_instar_macrosteles                                  ✅  \n",
       "4th_instar_pre-alate                                    ✅  \n",
       "ambush_bugs                                             ✅  \n",
       "anthocoridae                                            ✅  \n",
       "anthomyiidae-delia                                      ✅  \n",
       "any parasitoid_adults                                   ✅  \n",
       "aphelinus_albipodus                                     ✅  \n",
       "aphelinus_asychis                                       ✅  \n",
       "aphelinus_varipes                                       ✅  \n",
       "aphid_mummies                                           ✅  \n",
       "aphid_mummies_aphelinus_black                           ✅  \n",
       "aphid_mummies_aphidius_brown                            ✅  \n",
       "aphidencyrtus_sp                                        ✅  \n",
       "aphidiius_sp.                                           ✅  \n",
       "asaphes_suspensus                                       ✅  \n",
       "assassin_bug (reduviid bugs)                            ✅  \n",
       "athysanus_argentarius                                   ✅  \n",
       "bees                                                    ✅  \n",
       "beetles                                                 ✅  \n",
       "bertha_armyworms                                        ✅  \n",
       "bird_cherry_oat_aphid                                   ✅  \n",
       "braconid_wasps                                          ✅  \n",
       "cabbage_butterfly                                       ✅  \n",
       "capsus_simulans                                         ✅  \n",
       "caterpillar                                             ✅  \n",
       "chalcid_wasps                                           ✅  \n",
       "chinch_bug                                              ✅  \n",
       "chrysopa_oculata_adult                                  ✅  \n",
       "chrysopa_oculata_larvae                                 ✅  \n",
       "chrysoperla_carnea_adult                                ✅  \n",
       "chrysoperla_carnea_larva                                ✅  \n",
       "chrysopidae_adults                                      ✅  \n",
       "cicindela                                               ✅  \n",
       "coccinella_septempunctata_c7                            ✅  \n",
       "crop                                                    ✅  \n",
       "date                                                    ✅  \n",
       "date_by_week                                            ✅  \n",
       "distance(m)                                             ✅  \n",
       "dolichopodidae                                          ✅  \n",
       "doratura_sp.                                            ✅  \n",
       "dragonflies+damsel fly                                  ✅  \n",
       "ega alate                                               ✅  \n",
       "errastunus_ocellaris_lh                                 ✅  \n",
       "eulophid_wasp                                           ✅  \n",
       "female_delia_sp_1                                       ✅  \n",
       "female_delia_sp_2                                       ✅  \n",
       "female_macrosteles_quadrilineatus                       ✅  \n",
       "field_name                                              ✅  \n",
       "flea_beetles crucifer                                   ✅  \n",
       "flea_beetles hop                                        ✅  \n",
       "flea_beetles striped                                    ✅  \n",
       "flies                                                   ✅  \n",
       "formicidae                                              ✅  \n",
       "g_lacewing_larvae                                       ✅  \n",
       "grasshoppers                                            ✅  \n",
       "green_grass nymphs                                      ✅  \n",
       "green_grass_bugs_trigonotylus_coelestialium mir...      ✅  \n",
       "greenbug_aphid                                          ✅  \n",
       "harvestman                                              ✅  \n",
       "hippodamia_tredecimpunctata_c13                         ✅  \n",
       "hoverflies                                              ✅  \n",
       "hymenoptera_aphelinidae                                 ✅  \n",
       "hymenoptera_apidae                                      ✅  \n",
       "hymenoptera_chalcidoidea                                ✅  \n",
       "hymenoptera_diplazontinae                               ✅  \n",
       "hymenoptera_figitidae                                   ✅  \n",
       "hymenoptera_ichneumondoidea                             ✅  \n",
       "hymenoptera_perilampidae                                ✅  \n",
       "hymenoptera_proctotrupidae                              ✅  \n",
       "hymenoptera_proctotrupoidea                             ✅  \n",
       "hymenoptera_pteromalidae                                ✅  \n",
       "hyperparasitoids ???                                    ✅  \n",
       "ichneumonidae                                           ✅  \n",
       "id                                                      ✅  \n",
       "julian_date                                             ✅  \n",
       "katydids                                                ✅  \n",
       "ladybugs- larvae                                        ✅  \n",
       "lauxaniidae                                             ✅  \n",
       "legume_bug                                              ✅  \n",
       "lepidopteran_pupa                                       ✅  \n",
       "lygus_elisus                                            ✅  \n",
       "lygus_nymph                                             ✅  \n",
       "lygus_punctatus                                         ✅  \n",
       "macrosteles_quadrilineatus nymphs                       ✅  \n",
       "maggots                                                 ✅  \n",
       "male_delia_sp_1                                         ✅  \n",
       "male_delia_sp_2                                         ✅  \n",
       "male_macrosteles_quadrilineatus                         ✅  \n",
       "midge                                                   ✅  \n",
       "miridae_lygus lineolaris                                ✅  \n",
       "mollusks                                                ✅  \n",
       "mosquitoes                                              ✅  \n",
       "moths                                                   ✅  \n",
       "nabicula                                                ✅  \n",
       "nabis_alternatus                                        ✅  \n",
       "nabis_americoferus_nymph                                ✅  \n",
       "number of samples                                       ✅  \n",
       "oribatid                                                ✅  \n",
       "orius_tristicolor                                       ✅  \n",
       "other coccinellid_adults                                ✅  \n",
       "other_leafhoppers                                       ✅  \n",
       "pea aphids                                              ✅  \n",
       "pirate_bugs                                             ✅  \n",
       "plant_bugs                                              ✅  \n",
       "province                                                ✅  \n",
       "pumace_flies (drosophilidae)                            ✅  \n",
       "red_mite                                                ✅  \n",
       "sample_by_week                                          ✅  \n",
       "scorpion_flies                                          ✅  \n",
       "seed bugs (lygaeidea)                                   ✅  \n",
       "seed_corn_beetles                                       ✅  \n",
       "shield_bugs                                             ✅  \n",
       "site                                                    ✅  \n",
       "sitobion_avenae_ega_green (wingless)                    ✅  \n",
       "sitobion_avenae_ega_red                                 ✅  \n",
       "spider_mites                                            ✅  \n",
       "spider_tetragnathidae                                   ✅  \n",
       "spiders                                                 ✅  \n",
       "springtails                                             ✅  \n",
       "stink_bugs (adult and nymph)                            ✅  \n",
       "syrphid_flies                                           ✅  \n",
       "thrips                                                  ✅  \n",
       "total sweeps                                           ✖️  \n",
       "total_alate_aphids                                      ✅  \n",
       "total_apterous_aphids                                   ✅  \n",
       "treehoppers                                             ✅  \n",
       "tychius_picirostris (weevil)                            ✅  \n",
       "ufi_bugs                                                ✅  \n",
       "unnamed: 129                                            ✅  \n",
       "wasps_other                                             ✅  \n",
       "weevil                                                  ✅  \n",
       "worms                                                   ✅  "
      ]
     },
     "execution_count": 24,
     "metadata": {
     },
     "output_type": "execute_result"
    }
   ],
   "source": [
    "compare_columns(sheets_to_compare)"
   ]
  },
  {
   "cell_type": "markdown",
   "metadata": {
    "collapsed": true
   },
   "source": [
    "Clearly, **leafhoppers 2016 cereal sweeps** is focused on leafhoppers. Because the object of this analysis is to compare aphid numbers, I don't see the relevance of this leafhopper data."
   ]
  },
  {
   "cell_type": "markdown",
   "metadata": {
    "collapsed": true
   },
   "source": [
    "#### Conclusion"
   ]
  },
  {
   "cell_type": "markdown",
   "metadata": {
    "collapsed": true
   },
   "source": [
    "Given that the leafhopper data isn't pertinent, **Sheet2** remains the best candidate."
   ]
  },
  {
   "cell_type": "markdown",
   "metadata": {
    "collapsed": true
   },
   "source": [
    "### Sweeps: Overall Best Data Source"
   ]
  },
  {
   "cell_type": "markdown",
   "metadata": {
    "collapsed": true
   },
   "source": [
    "After all analysis, **Sheet2** appears to be the purest, most relevant base for comparison of \"sweep\" sample data to that of \"tiller\" count data."
   ]
  },
  {
   "cell_type": "markdown",
   "metadata": {
    "collapsed": true
   },
   "source": [
    "## Tiller Head Counts"
   ]
  },
  {
   "cell_type": "markdown",
   "metadata": {
    "collapsed": true
   },
   "source": [
    "### Candidates"
   ]
  },
  {
   "cell_type": "markdown",
   "metadata": {
    "collapsed": true
   },
   "source": [
    "Only two worksheets in the source Excel workbook seem relevant to my need for \"tiller head\" samples:\n",
    "\n",
    "- **Head Counts**\n",
    "- **Head Counts Edited**"
   ]
  },
  {
   "cell_type": "markdown",
   "metadata": {
    "collapsed": true
   },
   "source": [
    "### **Head Counts** vs **Head Counts Edited**"
   ]
  },
  {
   "cell_type": "code",
   "execution_count": 25,
   "metadata": {
    "collapsed": false
   },
   "outputs": [
   ],
   "source": [
    "sheets_to_compare = {\n",
    "    name: sheets[name]\n",
    "    for name in (\n",
    "        'Head Counts',\n",
    "        'Head Counts Edited',\n",
    "    )\n",
    "}\n",
    "hc, hce = sheets_to_compare.values()\n",
    "sheet_names = sheets_to_compare.keys()"
   ]
  },
  {
   "cell_type": "markdown",
   "metadata": {
    "collapsed": true
   },
   "source": [
    "#### Columns"
   ]
  },
  {
   "cell_type": "code",
   "execution_count": 26,
   "metadata": {
    "collapsed": false,
    "scrolled": true
   },
   "outputs": [
    {
     "data": {
      "text/html": [
       "<div>\n",
       "<style scoped>\n",
       "    .dataframe tbody tr th:only-of-type {\n",
       "        vertical-align: middle;\n",
       "    }\n",
       "\n",
       "    .dataframe tbody tr th {\n",
       "        vertical-align: top;\n",
       "    }\n",
       "\n",
       "    .dataframe thead th {\n",
       "        text-align: right;\n",
       "    }\n",
       "</style>\n",
       "<table border=\"1\" class=\"dataframe\">\n",
       "  <thead>\n",
       "    <tr style=\"text-align: right;\">\n",
       "      <th></th>\n",
       "      <th>Head Counts</th>\n",
       "      <th>Head Counts Edited</th>\n",
       "    </tr>\n",
       "  </thead>\n",
       "  <tbody>\n",
       "    <tr>\n",
       "      <th>aphid_mummies_blk</th>\n",
       "      <td>✅</td>\n",
       "      <td>✅</td>\n",
       "    </tr>\n",
       "    <tr>\n",
       "      <th>aphid_mummies_brown</th>\n",
       "      <td>✅</td>\n",
       "      <td>✅</td>\n",
       "    </tr>\n",
       "    <tr>\n",
       "      <th>aphids_total</th>\n",
       "      <td>✅</td>\n",
       "      <td>✖️</td>\n",
       "    </tr>\n",
       "    <tr>\n",
       "      <th>bco/head</th>\n",
       "      <td>✖️</td>\n",
       "      <td>✅</td>\n",
       "    </tr>\n",
       "    <tr>\n",
       "      <th>bco_alate</th>\n",
       "      <td>✅</td>\n",
       "      <td>✖️</td>\n",
       "    </tr>\n",
       "    <tr>\n",
       "      <th>bco_apt</th>\n",
       "      <td>✅</td>\n",
       "      <td>✖️</td>\n",
       "    </tr>\n",
       "    <tr>\n",
       "      <th>bco_head</th>\n",
       "      <td>✅</td>\n",
       "      <td>✖️</td>\n",
       "    </tr>\n",
       "    <tr>\n",
       "      <th>bco_leaf</th>\n",
       "      <td>✅</td>\n",
       "      <td>✖️</td>\n",
       "    </tr>\n",
       "    <tr>\n",
       "      <th>bco_total</th>\n",
       "      <td>✅</td>\n",
       "      <td>✅</td>\n",
       "    </tr>\n",
       "    <tr>\n",
       "      <th>comments</th>\n",
       "      <td>✅</td>\n",
       "      <td>✅</td>\n",
       "    </tr>\n",
       "    <tr>\n",
       "      <th>crop</th>\n",
       "      <td>✅</td>\n",
       "      <td>✅</td>\n",
       "    </tr>\n",
       "    <tr>\n",
       "      <th>date</th>\n",
       "      <td>✅</td>\n",
       "      <td>✅</td>\n",
       "    </tr>\n",
       "    <tr>\n",
       "      <th>ega/head</th>\n",
       "      <td>✖️</td>\n",
       "      <td>✅</td>\n",
       "    </tr>\n",
       "    <tr>\n",
       "      <th>ega_alate</th>\n",
       "      <td>✅</td>\n",
       "      <td>✅</td>\n",
       "    </tr>\n",
       "    <tr>\n",
       "      <th>ega_alate/head</th>\n",
       "      <td>✖️</td>\n",
       "      <td>✅</td>\n",
       "    </tr>\n",
       "    <tr>\n",
       "      <th>ega_apt</th>\n",
       "      <td>✅</td>\n",
       "      <td>✅</td>\n",
       "    </tr>\n",
       "    <tr>\n",
       "      <th>ega_apt/head</th>\n",
       "      <td>✖️</td>\n",
       "      <td>✅</td>\n",
       "    </tr>\n",
       "    <tr>\n",
       "      <th>ega_grn</th>\n",
       "      <td>✅</td>\n",
       "      <td>✖️</td>\n",
       "    </tr>\n",
       "    <tr>\n",
       "      <th>ega_head</th>\n",
       "      <td>✅</td>\n",
       "      <td>✖️</td>\n",
       "    </tr>\n",
       "    <tr>\n",
       "      <th>ega_leaf</th>\n",
       "      <td>✅</td>\n",
       "      <td>✖️</td>\n",
       "    </tr>\n",
       "    <tr>\n",
       "      <th>ega_red</th>\n",
       "      <td>✅</td>\n",
       "      <td>✖️</td>\n",
       "    </tr>\n",
       "    <tr>\n",
       "      <th>ega_total</th>\n",
       "      <td>✅</td>\n",
       "      <td>✅</td>\n",
       "    </tr>\n",
       "    <tr>\n",
       "      <th>field</th>\n",
       "      <td>✅</td>\n",
       "      <td>✅</td>\n",
       "    </tr>\n",
       "    <tr>\n",
       "      <th>greenbug_alate</th>\n",
       "      <td>✅</td>\n",
       "      <td>✖️</td>\n",
       "    </tr>\n",
       "    <tr>\n",
       "      <th>greenbug_apt</th>\n",
       "      <td>✅</td>\n",
       "      <td>✖️</td>\n",
       "    </tr>\n",
       "    <tr>\n",
       "      <th>lacewing_adult</th>\n",
       "      <td>✅</td>\n",
       "      <td>✅</td>\n",
       "    </tr>\n",
       "    <tr>\n",
       "      <th>lacewing_larvae</th>\n",
       "      <td>✅</td>\n",
       "      <td>✅</td>\n",
       "    </tr>\n",
       "    <tr>\n",
       "      <th>ladybeetle_adult</th>\n",
       "      <td>✅</td>\n",
       "      <td>✅</td>\n",
       "    </tr>\n",
       "    <tr>\n",
       "      <th>ladybeetle_larvae</th>\n",
       "      <td>✅</td>\n",
       "      <td>✅</td>\n",
       "    </tr>\n",
       "    <tr>\n",
       "      <th>ladybug_total</th>\n",
       "      <td>✅</td>\n",
       "      <td>✅</td>\n",
       "    </tr>\n",
       "    <tr>\n",
       "      <th>other</th>\n",
       "      <td>✅</td>\n",
       "      <td>✅</td>\n",
       "    </tr>\n",
       "    <tr>\n",
       "      <th>sample type</th>\n",
       "      <td>✖️</td>\n",
       "      <td>✅</td>\n",
       "    </tr>\n",
       "    <tr>\n",
       "      <th>site</th>\n",
       "      <td>✅</td>\n",
       "      <td>✅</td>\n",
       "    </tr>\n",
       "    <tr>\n",
       "      <th>tiller</th>\n",
       "      <td>✅</td>\n",
       "      <td>✅</td>\n",
       "    </tr>\n",
       "    <tr>\n",
       "      <th>unnamed: 11</th>\n",
       "      <td>✖️</td>\n",
       "      <td>✅</td>\n",
       "    </tr>\n",
       "    <tr>\n",
       "      <th>unnamed: 12</th>\n",
       "      <td>✖️</td>\n",
       "      <td>✅</td>\n",
       "    </tr>\n",
       "    <tr>\n",
       "      <th>unnamed: 17</th>\n",
       "      <td>✖️</td>\n",
       "      <td>✅</td>\n",
       "    </tr>\n",
       "    <tr>\n",
       "      <th>unnamed: 21</th>\n",
       "      <td>✖️</td>\n",
       "      <td>✅</td>\n",
       "    </tr>\n",
       "    <tr>\n",
       "      <th>unnamed: 22</th>\n",
       "      <td>✖️</td>\n",
       "      <td>✅</td>\n",
       "    </tr>\n",
       "    <tr>\n",
       "      <th>unnamed: 23</th>\n",
       "      <td>✖️</td>\n",
       "      <td>✅</td>\n",
       "    </tr>\n",
       "    <tr>\n",
       "      <th>unnamed: 24</th>\n",
       "      <td>✖️</td>\n",
       "      <td>✅</td>\n",
       "    </tr>\n",
       "    <tr>\n",
       "      <th>unnamed: 28</th>\n",
       "      <td>✖️</td>\n",
       "      <td>✅</td>\n",
       "    </tr>\n",
       "    <tr>\n",
       "      <th>unnamed: 29</th>\n",
       "      <td>✖️</td>\n",
       "      <td>✅</td>\n",
       "    </tr>\n",
       "    <tr>\n",
       "      <th>unnamed: 30</th>\n",
       "      <td>✖️</td>\n",
       "      <td>✅</td>\n",
       "    </tr>\n",
       "    <tr>\n",
       "      <th>unnamed: 31</th>\n",
       "      <td>✖️</td>\n",
       "      <td>✅</td>\n",
       "    </tr>\n",
       "    <tr>\n",
       "      <th>unnamed: 32</th>\n",
       "      <td>✖️</td>\n",
       "      <td>✅</td>\n",
       "    </tr>\n",
       "    <tr>\n",
       "      <th>unnamed: 33</th>\n",
       "      <td>✖️</td>\n",
       "      <td>✅</td>\n",
       "    </tr>\n",
       "    <tr>\n",
       "      <th>unnamed: 5</th>\n",
       "      <td>✖️</td>\n",
       "      <td>✅</td>\n",
       "    </tr>\n",
       "    <tr>\n",
       "      <th>zadoks_stage</th>\n",
       "      <td>✅</td>\n",
       "      <td>✅</td>\n",
       "    </tr>\n",
       "  </tbody>\n",
       "</table>\n",
       "</div>"
      ],
      "text/plain": [
       "                    Head Counts Head Counts Edited\n",
       "aphid_mummies_blk             ✅                  ✅\n",
       "aphid_mummies_brown           ✅                  ✅\n",
       "aphids_total                  ✅                 ✖️\n",
       "bco/head                     ✖️                  ✅\n",
       "bco_alate                     ✅                 ✖️\n",
       "bco_apt                       ✅                 ✖️\n",
       "bco_head                      ✅                 ✖️\n",
       "bco_leaf                      ✅                 ✖️\n",
       "bco_total                     ✅                  ✅\n",
       "comments                      ✅                  ✅\n",
       "crop                          ✅                  ✅\n",
       "date                          ✅                  ✅\n",
       "ega/head                     ✖️                  ✅\n",
       "ega_alate                     ✅                  ✅\n",
       "ega_alate/head               ✖️                  ✅\n",
       "ega_apt                       ✅                  ✅\n",
       "ega_apt/head                 ✖️                  ✅\n",
       "ega_grn                       ✅                 ✖️\n",
       "ega_head                      ✅                 ✖️\n",
       "ega_leaf                      ✅                 ✖️\n",
       "ega_red                       ✅                 ✖️\n",
       "ega_total                     ✅                  ✅\n",
       "field                         ✅                  ✅\n",
       "greenbug_alate                ✅                 ✖️\n",
       "greenbug_apt                  ✅                 ✖️\n",
       "lacewing_adult                ✅                  ✅\n",
       "lacewing_larvae               ✅                  ✅\n",
       "ladybeetle_adult              ✅                  ✅\n",
       "ladybeetle_larvae             ✅                  ✅\n",
       "ladybug_total                 ✅                  ✅\n",
       "other                         ✅                  ✅\n",
       "sample type                  ✖️                  ✅\n",
       "site                          ✅                  ✅\n",
       "tiller                        ✅                  ✅\n",
       "unnamed: 11                  ✖️                  ✅\n",
       "unnamed: 12                  ✖️                  ✅\n",
       "unnamed: 17                  ✖️                  ✅\n",
       "unnamed: 21                  ✖️                  ✅\n",
       "unnamed: 22                  ✖️                  ✅\n",
       "unnamed: 23                  ✖️                  ✅\n",
       "unnamed: 24                  ✖️                  ✅\n",
       "unnamed: 28                  ✖️                  ✅\n",
       "unnamed: 29                  ✖️                  ✅\n",
       "unnamed: 30                  ✖️                  ✅\n",
       "unnamed: 31                  ✖️                  ✅\n",
       "unnamed: 32                  ✖️                  ✅\n",
       "unnamed: 33                  ✖️                  ✅\n",
       "unnamed: 5                   ✖️                  ✅\n",
       "zadoks_stage                  ✅                  ✅"
      ]
     },
     "execution_count": 26,
     "metadata": {
     },
     "output_type": "execute_result"
    }
   ],
   "source": [
    "compare_columns(sheets_to_compare)"
   ]
  },
  {
   "cell_type": "markdown",
   "metadata": {
    "collapsed": true
   },
   "source": [
    "The main difference here seems to be the aggregation in the \"edited\" sheet, indicated by the columns named ***EGA/head***, ***EGA_total***, etc. For the purpose of achieving the project objective, the columns representing sums of values from other columns would likely be redundant because I intend to use the original values only."
   ]
  },
  {
   "cell_type": "markdown",
   "metadata": {
    "collapsed": true
   },
   "source": [
    "#### Date Range"
   ]
  },
  {
   "cell_type": "markdown",
   "metadata": {
    "collapsed": true
   },
   "source": [
    "Now, compare for completeness:"
   ]
  },
  {
   "cell_type": "code",
   "execution_count": 27,
   "metadata": {
    "collapsed": false
   },
   "outputs": [
   ],
   "source": [
    "def len_unique(pandas_object):\n",
    "    return len(pandas_object.unique())"
   ]
  },
  {
   "cell_type": "code",
   "execution_count": 28,
   "metadata": {
    "collapsed": false
   },
   "outputs": [
    {
     "data": {
      "text/html": [
       "<div>\n",
       "<style scoped>\n",
       "    .dataframe tbody tr th:only-of-type {\n",
       "        vertical-align: middle;\n",
       "    }\n",
       "\n",
       "    .dataframe tbody tr th {\n",
       "        vertical-align: top;\n",
       "    }\n",
       "\n",
       "    .dataframe thead th {\n",
       "        text-align: right;\n",
       "    }\n",
       "</style>\n",
       "<table border=\"1\" class=\"dataframe\">\n",
       "  <thead>\n",
       "    <tr style=\"text-align: right;\">\n",
       "      <th></th>\n",
       "      <th>Head Counts</th>\n",
       "      <th>Head Counts Edited</th>\n",
       "    </tr>\n",
       "  </thead>\n",
       "  <tbody>\n",
       "    <tr>\n",
       "      <th>max</th>\n",
       "      <td>2016-08-15 00:00:00</td>\n",
       "      <td>2016-08-15 00:00:00</td>\n",
       "    </tr>\n",
       "    <tr>\n",
       "      <th>min</th>\n",
       "      <td>2016-07-11 00:00:00</td>\n",
       "      <td>2016-07-11 00:00:00</td>\n",
       "    </tr>\n",
       "    <tr>\n",
       "      <th>len_unique</th>\n",
       "      <td>20</td>\n",
       "      <td>20</td>\n",
       "    </tr>\n",
       "    <tr>\n",
       "      <th>len</th>\n",
       "      <td>216</td>\n",
       "      <td>216</td>\n",
       "    </tr>\n",
       "  </tbody>\n",
       "</table>\n",
       "</div>"
      ],
      "text/plain": [
       "                    Head Counts   Head Counts Edited\n",
       "max         2016-08-15 00:00:00  2016-08-15 00:00:00\n",
       "min         2016-07-11 00:00:00  2016-07-11 00:00:00\n",
       "len_unique                   20                   20\n",
       "len                         216                  216"
      ]
     },
     "execution_count": 28,
     "metadata": {
     },
     "output_type": "execute_result"
    }
   ],
   "source": [
    "pandas.DataFrame(\n",
    "    {\n",
    "        name: frame.date\n",
    "        for name, frame in sheets_to_compare.items()\n",
    "    }\n",
    ").apply([\n",
    "    pandas.Series.max,\n",
    "    pandas.Series.min,\n",
    "    len_unique,\n",
    "    len,\n",
    "])"
   ]
  },
  {
   "cell_type": "markdown",
   "metadata": {
    "collapsed": true
   },
   "source": [
    "These may be using the exact same set of dates. I'll confirm:"
   ]
  },
  {
   "cell_type": "code",
   "execution_count": 29,
   "metadata": {
    "collapsed": false
   },
   "outputs": [
    {
     "data": {
      "text/plain": [
       "True"
      ]
     },
     "execution_count": 29,
     "metadata": {
     },
     "output_type": "execute_result"
    }
   ],
   "source": [
    "hc.date.index.isin(hce.date.index).all()"
   ]
  },
  {
   "cell_type": "markdown",
   "metadata": {
    "collapsed": true
   },
   "source": [
    "Identical date and time for the index of each, so the ***date*** column shows no basis for choosing one over the other."
   ]
  },
  {
   "cell_type": "markdown",
   "metadata": {
    "collapsed": true
   },
   "source": [
    "### Head Counts: Overall Best Data Source"
   ]
  },
  {
   "cell_type": "markdown",
   "metadata": {
    "collapsed": true
   },
   "source": [
    "Since the only difference between these two frames is the unwanted extra columns, the simplest sheet wins this.\n",
    "\n",
    "- **Head Counts**"
   ]
  },
  {
   "cell_type": "markdown",
   "metadata": {
    "collapsed": true
   },
   "source": [
    "# Align Selected Data Sets"
   ]
  },
  {
   "cell_type": "markdown",
   "metadata": {
    "collapsed": true
   },
   "source": [
    "The names and corresponding data frames, from the worksheets in the source workbook document (Excel):"
   ]
  },
  {
   "cell_type": "code",
   "execution_count": 30,
   "metadata": {
    "collapsed": false
   },
   "outputs": [
   ],
   "source": [
    "sheets_to_compare = {\n",
    "    'Head Counts': hc,\n",
    "    'Sheet2': s2,\n",
    "}\n",
    "sheet_names = sheets_to_compare.keys()"
   ]
  },
  {
   "cell_type": "markdown",
   "metadata": {
    "collapsed": true
   },
   "source": [
    "## Compare Columns"
   ]
  },
  {
   "cell_type": "markdown",
   "metadata": {
    "collapsed": true
   },
   "source": [
    "Comparing alphabetically sorted column names between our two primary data sets:"
   ]
  },
  {
   "cell_type": "code",
   "execution_count": 31,
   "metadata": {
    "collapsed": false,
    "scrolled": true
   },
   "outputs": [
    {
     "data": {
      "text/html": [
       "<div>\n",
       "<style scoped>\n",
       "    .dataframe tbody tr th:only-of-type {\n",
       "        vertical-align: middle;\n",
       "    }\n",
       "\n",
       "    .dataframe tbody tr th {\n",
       "        vertical-align: top;\n",
       "    }\n",
       "\n",
       "    .dataframe thead th {\n",
       "        text-align: right;\n",
       "    }\n",
       "</style>\n",
       "<table border=\"1\" class=\"dataframe\">\n",
       "  <thead>\n",
       "    <tr style=\"text-align: right;\">\n",
       "      <th></th>\n",
       "      <th>s2 only</th>\n",
       "      <th>hc only</th>\n",
       "      <th>common</th>\n",
       "    </tr>\n",
       "  </thead>\n",
       "  <tbody>\n",
       "    <tr>\n",
       "      <th>0</th>\n",
       "      <td>( damsel bug)nabis_americoferus_adult</td>\n",
       "      <td>aphid_mummies_blk</td>\n",
       "      <td>date</td>\n",
       "    </tr>\n",
       "    <tr>\n",
       "      <th>1</th>\n",
       "      <td>1st_instar_ega</td>\n",
       "      <td>aphid_mummies_brown</td>\n",
       "      <td>site</td>\n",
       "    </tr>\n",
       "    <tr>\n",
       "      <th>2</th>\n",
       "      <td>1st_instar_macrosteles</td>\n",
       "      <td>aphids_total</td>\n",
       "      <td>crop</td>\n",
       "    </tr>\n",
       "    <tr>\n",
       "      <th>3</th>\n",
       "      <td>2nd_instar_ega</td>\n",
       "      <td>bco_alate</td>\n",
       "      <td>--</td>\n",
       "    </tr>\n",
       "    <tr>\n",
       "      <th>4</th>\n",
       "      <td>2nd_instar_macrosteles</td>\n",
       "      <td>bco_apt</td>\n",
       "      <td>--</td>\n",
       "    </tr>\n",
       "    <tr>\n",
       "      <th>5</th>\n",
       "      <td>3rd_instar_ega</td>\n",
       "      <td>bco_head</td>\n",
       "      <td>--</td>\n",
       "    </tr>\n",
       "    <tr>\n",
       "      <th>6</th>\n",
       "      <td>3rd_instar_ega_pre-alate</td>\n",
       "      <td>bco_leaf</td>\n",
       "      <td>--</td>\n",
       "    </tr>\n",
       "    <tr>\n",
       "      <th>7</th>\n",
       "      <td>3rd_instar_macrosteles</td>\n",
       "      <td>bco_total</td>\n",
       "      <td>--</td>\n",
       "    </tr>\n",
       "    <tr>\n",
       "      <th>8</th>\n",
       "      <td>4th_instar_macrosteles</td>\n",
       "      <td>comments</td>\n",
       "      <td>--</td>\n",
       "    </tr>\n",
       "    <tr>\n",
       "      <th>9</th>\n",
       "      <td>4th_instar_pre-alate</td>\n",
       "      <td>ega_alate</td>\n",
       "      <td>--</td>\n",
       "    </tr>\n",
       "    <tr>\n",
       "      <th>10</th>\n",
       "      <td>ambush_bugs</td>\n",
       "      <td>ega_apt</td>\n",
       "      <td>--</td>\n",
       "    </tr>\n",
       "    <tr>\n",
       "      <th>11</th>\n",
       "      <td>anthocoridae</td>\n",
       "      <td>ega_grn</td>\n",
       "      <td>--</td>\n",
       "    </tr>\n",
       "    <tr>\n",
       "      <th>12</th>\n",
       "      <td>anthomyiidae-delia</td>\n",
       "      <td>ega_head</td>\n",
       "      <td>--</td>\n",
       "    </tr>\n",
       "    <tr>\n",
       "      <th>13</th>\n",
       "      <td>any parasitoid_adults</td>\n",
       "      <td>ega_leaf</td>\n",
       "      <td>--</td>\n",
       "    </tr>\n",
       "    <tr>\n",
       "      <th>14</th>\n",
       "      <td>aphelinus_albipodus</td>\n",
       "      <td>ega_red</td>\n",
       "      <td>--</td>\n",
       "    </tr>\n",
       "    <tr>\n",
       "      <th>15</th>\n",
       "      <td>aphelinus_asychis</td>\n",
       "      <td>ega_total</td>\n",
       "      <td>--</td>\n",
       "    </tr>\n",
       "    <tr>\n",
       "      <th>16</th>\n",
       "      <td>aphelinus_varipes</td>\n",
       "      <td>field</td>\n",
       "      <td>--</td>\n",
       "    </tr>\n",
       "    <tr>\n",
       "      <th>17</th>\n",
       "      <td>aphid_mummies</td>\n",
       "      <td>greenbug_alate</td>\n",
       "      <td>--</td>\n",
       "    </tr>\n",
       "    <tr>\n",
       "      <th>18</th>\n",
       "      <td>aphid_mummies_aphelinus_black</td>\n",
       "      <td>greenbug_apt</td>\n",
       "      <td>--</td>\n",
       "    </tr>\n",
       "    <tr>\n",
       "      <th>19</th>\n",
       "      <td>aphid_mummies_aphidius_brown</td>\n",
       "      <td>lacewing_adult</td>\n",
       "      <td>--</td>\n",
       "    </tr>\n",
       "    <tr>\n",
       "      <th>20</th>\n",
       "      <td>aphidencyrtus_sp</td>\n",
       "      <td>lacewing_larvae</td>\n",
       "      <td>--</td>\n",
       "    </tr>\n",
       "    <tr>\n",
       "      <th>21</th>\n",
       "      <td>aphidiius_sp.</td>\n",
       "      <td>ladybeetle_adult</td>\n",
       "      <td>--</td>\n",
       "    </tr>\n",
       "    <tr>\n",
       "      <th>22</th>\n",
       "      <td>asaphes_suspensus</td>\n",
       "      <td>ladybeetle_larvae</td>\n",
       "      <td>--</td>\n",
       "    </tr>\n",
       "    <tr>\n",
       "      <th>23</th>\n",
       "      <td>assassin_bug (reduviid bugs)</td>\n",
       "      <td>ladybug_total</td>\n",
       "      <td>--</td>\n",
       "    </tr>\n",
       "    <tr>\n",
       "      <th>24</th>\n",
       "      <td>athysanus_argentarius</td>\n",
       "      <td>other</td>\n",
       "      <td>--</td>\n",
       "    </tr>\n",
       "    <tr>\n",
       "      <th>25</th>\n",
       "      <td>bees</td>\n",
       "      <td>tiller</td>\n",
       "      <td>--</td>\n",
       "    </tr>\n",
       "    <tr>\n",
       "      <th>26</th>\n",
       "      <td>beetles</td>\n",
       "      <td>zadoks_stage</td>\n",
       "      <td>--</td>\n",
       "    </tr>\n",
       "    <tr>\n",
       "      <th>27</th>\n",
       "      <td>bertha_armyworms</td>\n",
       "      <td>--</td>\n",
       "      <td>--</td>\n",
       "    </tr>\n",
       "    <tr>\n",
       "      <th>28</th>\n",
       "      <td>bird_cherry_oat_aphid</td>\n",
       "      <td>--</td>\n",
       "      <td>--</td>\n",
       "    </tr>\n",
       "    <tr>\n",
       "      <th>29</th>\n",
       "      <td>braconid_wasps</td>\n",
       "      <td>--</td>\n",
       "      <td>--</td>\n",
       "    </tr>\n",
       "    <tr>\n",
       "      <th>30</th>\n",
       "      <td>cabbage_butterfly</td>\n",
       "      <td>--</td>\n",
       "      <td>--</td>\n",
       "    </tr>\n",
       "    <tr>\n",
       "      <th>31</th>\n",
       "      <td>capsus_simulans</td>\n",
       "      <td>--</td>\n",
       "      <td>--</td>\n",
       "    </tr>\n",
       "    <tr>\n",
       "      <th>32</th>\n",
       "      <td>caterpillar</td>\n",
       "      <td>--</td>\n",
       "      <td>--</td>\n",
       "    </tr>\n",
       "    <tr>\n",
       "      <th>33</th>\n",
       "      <td>chalcid_wasps</td>\n",
       "      <td>--</td>\n",
       "      <td>--</td>\n",
       "    </tr>\n",
       "    <tr>\n",
       "      <th>34</th>\n",
       "      <td>chinch_bug</td>\n",
       "      <td>--</td>\n",
       "      <td>--</td>\n",
       "    </tr>\n",
       "    <tr>\n",
       "      <th>35</th>\n",
       "      <td>chrysopa_oculata_adult</td>\n",
       "      <td>--</td>\n",
       "      <td>--</td>\n",
       "    </tr>\n",
       "    <tr>\n",
       "      <th>36</th>\n",
       "      <td>chrysopa_oculata_larvae</td>\n",
       "      <td>--</td>\n",
       "      <td>--</td>\n",
       "    </tr>\n",
       "    <tr>\n",
       "      <th>37</th>\n",
       "      <td>chrysoperla_carnea_adult</td>\n",
       "      <td>--</td>\n",
       "      <td>--</td>\n",
       "    </tr>\n",
       "    <tr>\n",
       "      <th>38</th>\n",
       "      <td>chrysoperla_carnea_larva</td>\n",
       "      <td>--</td>\n",
       "      <td>--</td>\n",
       "    </tr>\n",
       "    <tr>\n",
       "      <th>39</th>\n",
       "      <td>chrysopidae_adults</td>\n",
       "      <td>--</td>\n",
       "      <td>--</td>\n",
       "    </tr>\n",
       "    <tr>\n",
       "      <th>40</th>\n",
       "      <td>cicindela</td>\n",
       "      <td>--</td>\n",
       "      <td>--</td>\n",
       "    </tr>\n",
       "    <tr>\n",
       "      <th>41</th>\n",
       "      <td>coccinella_septempunctata_c7</td>\n",
       "      <td>--</td>\n",
       "      <td>--</td>\n",
       "    </tr>\n",
       "    <tr>\n",
       "      <th>42</th>\n",
       "      <td>date_by_week</td>\n",
       "      <td>--</td>\n",
       "      <td>--</td>\n",
       "    </tr>\n",
       "    <tr>\n",
       "      <th>43</th>\n",
       "      <td>distance(m)</td>\n",
       "      <td>--</td>\n",
       "      <td>--</td>\n",
       "    </tr>\n",
       "    <tr>\n",
       "      <th>44</th>\n",
       "      <td>dolichopodidae</td>\n",
       "      <td>--</td>\n",
       "      <td>--</td>\n",
       "    </tr>\n",
       "    <tr>\n",
       "      <th>45</th>\n",
       "      <td>doratura_sp.</td>\n",
       "      <td>--</td>\n",
       "      <td>--</td>\n",
       "    </tr>\n",
       "    <tr>\n",
       "      <th>46</th>\n",
       "      <td>dragonflies+damsel fly</td>\n",
       "      <td>--</td>\n",
       "      <td>--</td>\n",
       "    </tr>\n",
       "    <tr>\n",
       "      <th>47</th>\n",
       "      <td>ega alate</td>\n",
       "      <td>--</td>\n",
       "      <td>--</td>\n",
       "    </tr>\n",
       "    <tr>\n",
       "      <th>48</th>\n",
       "      <td>errastunus_ocellaris_lh</td>\n",
       "      <td>--</td>\n",
       "      <td>--</td>\n",
       "    </tr>\n",
       "    <tr>\n",
       "      <th>49</th>\n",
       "      <td>eulophid_wasp</td>\n",
       "      <td>--</td>\n",
       "      <td>--</td>\n",
       "    </tr>\n",
       "    <tr>\n",
       "      <th>50</th>\n",
       "      <td>female_delia_sp_1</td>\n",
       "      <td>--</td>\n",
       "      <td>--</td>\n",
       "    </tr>\n",
       "    <tr>\n",
       "      <th>51</th>\n",
       "      <td>female_delia_sp_2</td>\n",
       "      <td>--</td>\n",
       "      <td>--</td>\n",
       "    </tr>\n",
       "    <tr>\n",
       "      <th>52</th>\n",
       "      <td>female_macrosteles_quadrilineatus</td>\n",
       "      <td>--</td>\n",
       "      <td>--</td>\n",
       "    </tr>\n",
       "    <tr>\n",
       "      <th>53</th>\n",
       "      <td>field_name</td>\n",
       "      <td>--</td>\n",
       "      <td>--</td>\n",
       "    </tr>\n",
       "    <tr>\n",
       "      <th>54</th>\n",
       "      <td>flea_beetles crucifer</td>\n",
       "      <td>--</td>\n",
       "      <td>--</td>\n",
       "    </tr>\n",
       "    <tr>\n",
       "      <th>55</th>\n",
       "      <td>flea_beetles hop</td>\n",
       "      <td>--</td>\n",
       "      <td>--</td>\n",
       "    </tr>\n",
       "    <tr>\n",
       "      <th>56</th>\n",
       "      <td>flea_beetles striped</td>\n",
       "      <td>--</td>\n",
       "      <td>--</td>\n",
       "    </tr>\n",
       "    <tr>\n",
       "      <th>57</th>\n",
       "      <td>flies</td>\n",
       "      <td>--</td>\n",
       "      <td>--</td>\n",
       "    </tr>\n",
       "    <tr>\n",
       "      <th>58</th>\n",
       "      <td>formicidae</td>\n",
       "      <td>--</td>\n",
       "      <td>--</td>\n",
       "    </tr>\n",
       "    <tr>\n",
       "      <th>59</th>\n",
       "      <td>g_lacewing_larvae</td>\n",
       "      <td>--</td>\n",
       "      <td>--</td>\n",
       "    </tr>\n",
       "    <tr>\n",
       "      <th>60</th>\n",
       "      <td>grasshoppers</td>\n",
       "      <td>--</td>\n",
       "      <td>--</td>\n",
       "    </tr>\n",
       "    <tr>\n",
       "      <th>61</th>\n",
       "      <td>green_grass nymphs</td>\n",
       "      <td>--</td>\n",
       "      <td>--</td>\n",
       "    </tr>\n",
       "    <tr>\n",
       "      <th>62</th>\n",
       "      <td>green_grass_bugs_trigonotylus_coelestialium mi...</td>\n",
       "      <td>--</td>\n",
       "      <td>--</td>\n",
       "    </tr>\n",
       "    <tr>\n",
       "      <th>63</th>\n",
       "      <td>greenbug_aphid</td>\n",
       "      <td>--</td>\n",
       "      <td>--</td>\n",
       "    </tr>\n",
       "    <tr>\n",
       "      <th>64</th>\n",
       "      <td>harvestman</td>\n",
       "      <td>--</td>\n",
       "      <td>--</td>\n",
       "    </tr>\n",
       "    <tr>\n",
       "      <th>65</th>\n",
       "      <td>hippodamia_tredecimpunctata_c13</td>\n",
       "      <td>--</td>\n",
       "      <td>--</td>\n",
       "    </tr>\n",
       "    <tr>\n",
       "      <th>66</th>\n",
       "      <td>hoverflies</td>\n",
       "      <td>--</td>\n",
       "      <td>--</td>\n",
       "    </tr>\n",
       "    <tr>\n",
       "      <th>67</th>\n",
       "      <td>hymenoptera_aphelinidae</td>\n",
       "      <td>--</td>\n",
       "      <td>--</td>\n",
       "    </tr>\n",
       "    <tr>\n",
       "      <th>68</th>\n",
       "      <td>hymenoptera_apidae</td>\n",
       "      <td>--</td>\n",
       "      <td>--</td>\n",
       "    </tr>\n",
       "    <tr>\n",
       "      <th>69</th>\n",
       "      <td>hymenoptera_chalcidoidea</td>\n",
       "      <td>--</td>\n",
       "      <td>--</td>\n",
       "    </tr>\n",
       "    <tr>\n",
       "      <th>70</th>\n",
       "      <td>hymenoptera_diplazontinae</td>\n",
       "      <td>--</td>\n",
       "      <td>--</td>\n",
       "    </tr>\n",
       "    <tr>\n",
       "      <th>71</th>\n",
       "      <td>hymenoptera_figitidae</td>\n",
       "      <td>--</td>\n",
       "      <td>--</td>\n",
       "    </tr>\n",
       "    <tr>\n",
       "      <th>72</th>\n",
       "      <td>hymenoptera_ichneumondoidea</td>\n",
       "      <td>--</td>\n",
       "      <td>--</td>\n",
       "    </tr>\n",
       "    <tr>\n",
       "      <th>73</th>\n",
       "      <td>hymenoptera_perilampidae</td>\n",
       "      <td>--</td>\n",
       "      <td>--</td>\n",
       "    </tr>\n",
       "    <tr>\n",
       "      <th>74</th>\n",
       "      <td>hymenoptera_proctotrupidae</td>\n",
       "      <td>--</td>\n",
       "      <td>--</td>\n",
       "    </tr>\n",
       "    <tr>\n",
       "      <th>75</th>\n",
       "      <td>hymenoptera_proctotrupoidea</td>\n",
       "      <td>--</td>\n",
       "      <td>--</td>\n",
       "    </tr>\n",
       "    <tr>\n",
       "      <th>76</th>\n",
       "      <td>hymenoptera_pteromalidae</td>\n",
       "      <td>--</td>\n",
       "      <td>--</td>\n",
       "    </tr>\n",
       "    <tr>\n",
       "      <th>77</th>\n",
       "      <td>hyperparasitoids ???</td>\n",
       "      <td>--</td>\n",
       "      <td>--</td>\n",
       "    </tr>\n",
       "    <tr>\n",
       "      <th>78</th>\n",
       "      <td>ichneumonidae</td>\n",
       "      <td>--</td>\n",
       "      <td>--</td>\n",
       "    </tr>\n",
       "    <tr>\n",
       "      <th>79</th>\n",
       "      <td>id</td>\n",
       "      <td>--</td>\n",
       "      <td>--</td>\n",
       "    </tr>\n",
       "    <tr>\n",
       "      <th>80</th>\n",
       "      <td>julian_date</td>\n",
       "      <td>--</td>\n",
       "      <td>--</td>\n",
       "    </tr>\n",
       "    <tr>\n",
       "      <th>81</th>\n",
       "      <td>katydids</td>\n",
       "      <td>--</td>\n",
       "      <td>--</td>\n",
       "    </tr>\n",
       "    <tr>\n",
       "      <th>82</th>\n",
       "      <td>ladybugs- larvae</td>\n",
       "      <td>--</td>\n",
       "      <td>--</td>\n",
       "    </tr>\n",
       "    <tr>\n",
       "      <th>83</th>\n",
       "      <td>lauxaniidae</td>\n",
       "      <td>--</td>\n",
       "      <td>--</td>\n",
       "    </tr>\n",
       "    <tr>\n",
       "      <th>84</th>\n",
       "      <td>legume_bug</td>\n",
       "      <td>--</td>\n",
       "      <td>--</td>\n",
       "    </tr>\n",
       "    <tr>\n",
       "      <th>85</th>\n",
       "      <td>lepidopteran_pupa</td>\n",
       "      <td>--</td>\n",
       "      <td>--</td>\n",
       "    </tr>\n",
       "    <tr>\n",
       "      <th>86</th>\n",
       "      <td>lygus_elisus</td>\n",
       "      <td>--</td>\n",
       "      <td>--</td>\n",
       "    </tr>\n",
       "    <tr>\n",
       "      <th>87</th>\n",
       "      <td>lygus_nymph</td>\n",
       "      <td>--</td>\n",
       "      <td>--</td>\n",
       "    </tr>\n",
       "    <tr>\n",
       "      <th>88</th>\n",
       "      <td>lygus_punctatus</td>\n",
       "      <td>--</td>\n",
       "      <td>--</td>\n",
       "    </tr>\n",
       "    <tr>\n",
       "      <th>89</th>\n",
       "      <td>macrosteles_quadrilineatus nymphs</td>\n",
       "      <td>--</td>\n",
       "      <td>--</td>\n",
       "    </tr>\n",
       "    <tr>\n",
       "      <th>90</th>\n",
       "      <td>maggots</td>\n",
       "      <td>--</td>\n",
       "      <td>--</td>\n",
       "    </tr>\n",
       "    <tr>\n",
       "      <th>91</th>\n",
       "      <td>male_delia_sp_1</td>\n",
       "      <td>--</td>\n",
       "      <td>--</td>\n",
       "    </tr>\n",
       "    <tr>\n",
       "      <th>92</th>\n",
       "      <td>male_delia_sp_2</td>\n",
       "      <td>--</td>\n",
       "      <td>--</td>\n",
       "    </tr>\n",
       "    <tr>\n",
       "      <th>93</th>\n",
       "      <td>male_macrosteles_quadrilineatus</td>\n",
       "      <td>--</td>\n",
       "      <td>--</td>\n",
       "    </tr>\n",
       "    <tr>\n",
       "      <th>94</th>\n",
       "      <td>midge</td>\n",
       "      <td>--</td>\n",
       "      <td>--</td>\n",
       "    </tr>\n",
       "    <tr>\n",
       "      <th>95</th>\n",
       "      <td>miridae_lygus lineolaris</td>\n",
       "      <td>--</td>\n",
       "      <td>--</td>\n",
       "    </tr>\n",
       "    <tr>\n",
       "      <th>96</th>\n",
       "      <td>mollusks</td>\n",
       "      <td>--</td>\n",
       "      <td>--</td>\n",
       "    </tr>\n",
       "    <tr>\n",
       "      <th>97</th>\n",
       "      <td>mosquitoes</td>\n",
       "      <td>--</td>\n",
       "      <td>--</td>\n",
       "    </tr>\n",
       "    <tr>\n",
       "      <th>98</th>\n",
       "      <td>moths</td>\n",
       "      <td>--</td>\n",
       "      <td>--</td>\n",
       "    </tr>\n",
       "    <tr>\n",
       "      <th>99</th>\n",
       "      <td>nabicula</td>\n",
       "      <td>--</td>\n",
       "      <td>--</td>\n",
       "    </tr>\n",
       "    <tr>\n",
       "      <th>100</th>\n",
       "      <td>nabis_alternatus</td>\n",
       "      <td>--</td>\n",
       "      <td>--</td>\n",
       "    </tr>\n",
       "    <tr>\n",
       "      <th>101</th>\n",
       "      <td>nabis_americoferus_nymph</td>\n",
       "      <td>--</td>\n",
       "      <td>--</td>\n",
       "    </tr>\n",
       "    <tr>\n",
       "      <th>102</th>\n",
       "      <td>number of samples</td>\n",
       "      <td>--</td>\n",
       "      <td>--</td>\n",
       "    </tr>\n",
       "    <tr>\n",
       "      <th>103</th>\n",
       "      <td>oribatid</td>\n",
       "      <td>--</td>\n",
       "      <td>--</td>\n",
       "    </tr>\n",
       "    <tr>\n",
       "      <th>104</th>\n",
       "      <td>orius_tristicolor</td>\n",
       "      <td>--</td>\n",
       "      <td>--</td>\n",
       "    </tr>\n",
       "    <tr>\n",
       "      <th>105</th>\n",
       "      <td>other coccinellid_adults</td>\n",
       "      <td>--</td>\n",
       "      <td>--</td>\n",
       "    </tr>\n",
       "    <tr>\n",
       "      <th>106</th>\n",
       "      <td>other_leafhoppers</td>\n",
       "      <td>--</td>\n",
       "      <td>--</td>\n",
       "    </tr>\n",
       "    <tr>\n",
       "      <th>107</th>\n",
       "      <td>pea aphids</td>\n",
       "      <td>--</td>\n",
       "      <td>--</td>\n",
       "    </tr>\n",
       "    <tr>\n",
       "      <th>108</th>\n",
       "      <td>pirate_bugs</td>\n",
       "      <td>--</td>\n",
       "      <td>--</td>\n",
       "    </tr>\n",
       "    <tr>\n",
       "      <th>109</th>\n",
       "      <td>plant_bugs</td>\n",
       "      <td>--</td>\n",
       "      <td>--</td>\n",
       "    </tr>\n",
       "    <tr>\n",
       "      <th>110</th>\n",
       "      <td>province</td>\n",
       "      <td>--</td>\n",
       "      <td>--</td>\n",
       "    </tr>\n",
       "    <tr>\n",
       "      <th>111</th>\n",
       "      <td>pumace_flies (drosophilidae)</td>\n",
       "      <td>--</td>\n",
       "      <td>--</td>\n",
       "    </tr>\n",
       "    <tr>\n",
       "      <th>112</th>\n",
       "      <td>red_mite</td>\n",
       "      <td>--</td>\n",
       "      <td>--</td>\n",
       "    </tr>\n",
       "    <tr>\n",
       "      <th>113</th>\n",
       "      <td>sample_by_week</td>\n",
       "      <td>--</td>\n",
       "      <td>--</td>\n",
       "    </tr>\n",
       "    <tr>\n",
       "      <th>114</th>\n",
       "      <td>scorpion_flies</td>\n",
       "      <td>--</td>\n",
       "      <td>--</td>\n",
       "    </tr>\n",
       "    <tr>\n",
       "      <th>115</th>\n",
       "      <td>seed bugs (lygaeidea)</td>\n",
       "      <td>--</td>\n",
       "      <td>--</td>\n",
       "    </tr>\n",
       "    <tr>\n",
       "      <th>116</th>\n",
       "      <td>seed_corn_beetles</td>\n",
       "      <td>--</td>\n",
       "      <td>--</td>\n",
       "    </tr>\n",
       "    <tr>\n",
       "      <th>117</th>\n",
       "      <td>shield_bugs</td>\n",
       "      <td>--</td>\n",
       "      <td>--</td>\n",
       "    </tr>\n",
       "    <tr>\n",
       "      <th>118</th>\n",
       "      <td>sitobion_avenae_ega_green (wingless)</td>\n",
       "      <td>--</td>\n",
       "      <td>--</td>\n",
       "    </tr>\n",
       "    <tr>\n",
       "      <th>119</th>\n",
       "      <td>sitobion_avenae_ega_red</td>\n",
       "      <td>--</td>\n",
       "      <td>--</td>\n",
       "    </tr>\n",
       "    <tr>\n",
       "      <th>120</th>\n",
       "      <td>spider_mites</td>\n",
       "      <td>--</td>\n",
       "      <td>--</td>\n",
       "    </tr>\n",
       "    <tr>\n",
       "      <th>121</th>\n",
       "      <td>spider_tetragnathidae</td>\n",
       "      <td>--</td>\n",
       "      <td>--</td>\n",
       "    </tr>\n",
       "    <tr>\n",
       "      <th>122</th>\n",
       "      <td>spiders</td>\n",
       "      <td>--</td>\n",
       "      <td>--</td>\n",
       "    </tr>\n",
       "    <tr>\n",
       "      <th>123</th>\n",
       "      <td>springtails</td>\n",
       "      <td>--</td>\n",
       "      <td>--</td>\n",
       "    </tr>\n",
       "    <tr>\n",
       "      <th>124</th>\n",
       "      <td>stink_bugs (adult and nymph)</td>\n",
       "      <td>--</td>\n",
       "      <td>--</td>\n",
       "    </tr>\n",
       "    <tr>\n",
       "      <th>125</th>\n",
       "      <td>syrphid_flies</td>\n",
       "      <td>--</td>\n",
       "      <td>--</td>\n",
       "    </tr>\n",
       "    <tr>\n",
       "      <th>126</th>\n",
       "      <td>thrips</td>\n",
       "      <td>--</td>\n",
       "      <td>--</td>\n",
       "    </tr>\n",
       "    <tr>\n",
       "      <th>127</th>\n",
       "      <td>total_alate_aphids</td>\n",
       "      <td>--</td>\n",
       "      <td>--</td>\n",
       "    </tr>\n",
       "    <tr>\n",
       "      <th>128</th>\n",
       "      <td>total_apterous_aphids</td>\n",
       "      <td>--</td>\n",
       "      <td>--</td>\n",
       "    </tr>\n",
       "    <tr>\n",
       "      <th>129</th>\n",
       "      <td>treehoppers</td>\n",
       "      <td>--</td>\n",
       "      <td>--</td>\n",
       "    </tr>\n",
       "    <tr>\n",
       "      <th>130</th>\n",
       "      <td>tychius_picirostris (weevil)</td>\n",
       "      <td>--</td>\n",
       "      <td>--</td>\n",
       "    </tr>\n",
       "    <tr>\n",
       "      <th>131</th>\n",
       "      <td>ufi_bugs</td>\n",
       "      <td>--</td>\n",
       "      <td>--</td>\n",
       "    </tr>\n",
       "    <tr>\n",
       "      <th>132</th>\n",
       "      <td>unnamed: 129</td>\n",
       "      <td>--</td>\n",
       "      <td>--</td>\n",
       "    </tr>\n",
       "    <tr>\n",
       "      <th>133</th>\n",
       "      <td>wasps_other</td>\n",
       "      <td>--</td>\n",
       "      <td>--</td>\n",
       "    </tr>\n",
       "    <tr>\n",
       "      <th>134</th>\n",
       "      <td>weevil</td>\n",
       "      <td>--</td>\n",
       "      <td>--</td>\n",
       "    </tr>\n",
       "    <tr>\n",
       "      <th>135</th>\n",
       "      <td>worms</td>\n",
       "      <td>--</td>\n",
       "      <td>--</td>\n",
       "    </tr>\n",
       "  </tbody>\n",
       "</table>\n",
       "</div>"
      ],
      "text/plain": [
       "                                               s2 only              hc only  \\\n",
       "0                ( damsel bug)nabis_americoferus_adult    aphid_mummies_blk   \n",
       "1                                       1st_instar_ega  aphid_mummies_brown   \n",
       "2                               1st_instar_macrosteles         aphids_total   \n",
       "3                                       2nd_instar_ega            bco_alate   \n",
       "4                               2nd_instar_macrosteles              bco_apt   \n",
       "5                                       3rd_instar_ega             bco_head   \n",
       "6                             3rd_instar_ega_pre-alate             bco_leaf   \n",
       "7                               3rd_instar_macrosteles            bco_total   \n",
       "8                               4th_instar_macrosteles             comments   \n",
       "9                                 4th_instar_pre-alate            ega_alate   \n",
       "10                                         ambush_bugs              ega_apt   \n",
       "11                                        anthocoridae              ega_grn   \n",
       "12                                  anthomyiidae-delia             ega_head   \n",
       "13                               any parasitoid_adults             ega_leaf   \n",
       "14                                 aphelinus_albipodus              ega_red   \n",
       "15                                   aphelinus_asychis            ega_total   \n",
       "16                                   aphelinus_varipes                field   \n",
       "17                                       aphid_mummies       greenbug_alate   \n",
       "18                       aphid_mummies_aphelinus_black         greenbug_apt   \n",
       "19                        aphid_mummies_aphidius_brown       lacewing_adult   \n",
       "20                                    aphidencyrtus_sp      lacewing_larvae   \n",
       "21                                       aphidiius_sp.     ladybeetle_adult   \n",
       "22                                   asaphes_suspensus    ladybeetle_larvae   \n",
       "23                        assassin_bug (reduviid bugs)        ladybug_total   \n",
       "24                               athysanus_argentarius                other   \n",
       "25                                                bees               tiller   \n",
       "26                                             beetles         zadoks_stage   \n",
       "27                                    bertha_armyworms                   --   \n",
       "28                               bird_cherry_oat_aphid                   --   \n",
       "29                                      braconid_wasps                   --   \n",
       "30                                   cabbage_butterfly                   --   \n",
       "31                                     capsus_simulans                   --   \n",
       "32                                         caterpillar                   --   \n",
       "33                                       chalcid_wasps                   --   \n",
       "34                                          chinch_bug                   --   \n",
       "35                              chrysopa_oculata_adult                   --   \n",
       "36                             chrysopa_oculata_larvae                   --   \n",
       "37                            chrysoperla_carnea_adult                   --   \n",
       "38                            chrysoperla_carnea_larva                   --   \n",
       "39                                  chrysopidae_adults                   --   \n",
       "40                                           cicindela                   --   \n",
       "41                        coccinella_septempunctata_c7                   --   \n",
       "42                                        date_by_week                   --   \n",
       "43                                         distance(m)                   --   \n",
       "44                                      dolichopodidae                   --   \n",
       "45                                        doratura_sp.                   --   \n",
       "46                              dragonflies+damsel fly                   --   \n",
       "47                                           ega alate                   --   \n",
       "48                             errastunus_ocellaris_lh                   --   \n",
       "49                                       eulophid_wasp                   --   \n",
       "50                                   female_delia_sp_1                   --   \n",
       "51                                   female_delia_sp_2                   --   \n",
       "52                   female_macrosteles_quadrilineatus                   --   \n",
       "53                                          field_name                   --   \n",
       "54                               flea_beetles crucifer                   --   \n",
       "55                                    flea_beetles hop                   --   \n",
       "56                                flea_beetles striped                   --   \n",
       "57                                               flies                   --   \n",
       "58                                          formicidae                   --   \n",
       "59                                   g_lacewing_larvae                   --   \n",
       "60                                        grasshoppers                   --   \n",
       "61                                  green_grass nymphs                   --   \n",
       "62   green_grass_bugs_trigonotylus_coelestialium mi...                   --   \n",
       "63                                      greenbug_aphid                   --   \n",
       "64                                          harvestman                   --   \n",
       "65                     hippodamia_tredecimpunctata_c13                   --   \n",
       "66                                          hoverflies                   --   \n",
       "67                             hymenoptera_aphelinidae                   --   \n",
       "68                                  hymenoptera_apidae                   --   \n",
       "69                            hymenoptera_chalcidoidea                   --   \n",
       "70                           hymenoptera_diplazontinae                   --   \n",
       "71                               hymenoptera_figitidae                   --   \n",
       "72                         hymenoptera_ichneumondoidea                   --   \n",
       "73                            hymenoptera_perilampidae                   --   \n",
       "74                          hymenoptera_proctotrupidae                   --   \n",
       "75                         hymenoptera_proctotrupoidea                   --   \n",
       "76                            hymenoptera_pteromalidae                   --   \n",
       "77                                hyperparasitoids ???                   --   \n",
       "78                                       ichneumonidae                   --   \n",
       "79                                                  id                   --   \n",
       "80                                         julian_date                   --   \n",
       "81                                            katydids                   --   \n",
       "82                                    ladybugs- larvae                   --   \n",
       "83                                         lauxaniidae                   --   \n",
       "84                                          legume_bug                   --   \n",
       "85                                   lepidopteran_pupa                   --   \n",
       "86                                        lygus_elisus                   --   \n",
       "87                                         lygus_nymph                   --   \n",
       "88                                     lygus_punctatus                   --   \n",
       "89                   macrosteles_quadrilineatus nymphs                   --   \n",
       "90                                             maggots                   --   \n",
       "91                                     male_delia_sp_1                   --   \n",
       "92                                     male_delia_sp_2                   --   \n",
       "93                     male_macrosteles_quadrilineatus                   --   \n",
       "94                                               midge                   --   \n",
       "95                            miridae_lygus lineolaris                   --   \n",
       "96                                            mollusks                   --   \n",
       "97                                          mosquitoes                   --   \n",
       "98                                               moths                   --   \n",
       "99                                            nabicula                   --   \n",
       "100                                   nabis_alternatus                   --   \n",
       "101                           nabis_americoferus_nymph                   --   \n",
       "102                                  number of samples                   --   \n",
       "103                                           oribatid                   --   \n",
       "104                                  orius_tristicolor                   --   \n",
       "105                           other coccinellid_adults                   --   \n",
       "106                                  other_leafhoppers                   --   \n",
       "107                                         pea aphids                   --   \n",
       "108                                        pirate_bugs                   --   \n",
       "109                                         plant_bugs                   --   \n",
       "110                                           province                   --   \n",
       "111                       pumace_flies (drosophilidae)                   --   \n",
       "112                                           red_mite                   --   \n",
       "113                                     sample_by_week                   --   \n",
       "114                                     scorpion_flies                   --   \n",
       "115                              seed bugs (lygaeidea)                   --   \n",
       "116                                  seed_corn_beetles                   --   \n",
       "117                                        shield_bugs                   --   \n",
       "118               sitobion_avenae_ega_green (wingless)                   --   \n",
       "119                            sitobion_avenae_ega_red                   --   \n",
       "120                                       spider_mites                   --   \n",
       "121                              spider_tetragnathidae                   --   \n",
       "122                                            spiders                   --   \n",
       "123                                        springtails                   --   \n",
       "124                       stink_bugs (adult and nymph)                   --   \n",
       "125                                      syrphid_flies                   --   \n",
       "126                                             thrips                   --   \n",
       "127                                 total_alate_aphids                   --   \n",
       "128                              total_apterous_aphids                   --   \n",
       "129                                        treehoppers                   --   \n",
       "130                       tychius_picirostris (weevil)                   --   \n",
       "131                                           ufi_bugs                   --   \n",
       "132                                       unnamed: 129                   --   \n",
       "133                                        wasps_other                   --   \n",
       "134                                             weevil                   --   \n",
       "135                                              worms                   --   \n",
       "\n",
       "    common  \n",
       "0     date  \n",
       "1     site  \n",
       "2     crop  \n",
       "3       --  \n",
       "4       --  \n",
       "5       --  \n",
       "6       --  \n",
       "7       --  \n",
       "8       --  \n",
       "9       --  \n",
       "10      --  \n",
       "11      --  \n",
       "12      --  \n",
       "13      --  \n",
       "14      --  \n",
       "15      --  \n",
       "16      --  \n",
       "17      --  \n",
       "18      --  \n",
       "19      --  \n",
       "20      --  \n",
       "21      --  \n",
       "22      --  \n",
       "23      --  \n",
       "24      --  \n",
       "25      --  \n",
       "26      --  \n",
       "27      --  \n",
       "28      --  \n",
       "29      --  \n",
       "30      --  \n",
       "31      --  \n",
       "32      --  \n",
       "33      --  \n",
       "34      --  \n",
       "35      --  \n",
       "36      --  \n",
       "37      --  \n",
       "38      --  \n",
       "39      --  \n",
       "40      --  \n",
       "41      --  \n",
       "42      --  \n",
       "43      --  \n",
       "44      --  \n",
       "45      --  \n",
       "46      --  \n",
       "47      --  \n",
       "48      --  \n",
       "49      --  \n",
       "50      --  \n",
       "51      --  \n",
       "52      --  \n",
       "53      --  \n",
       "54      --  \n",
       "55      --  \n",
       "56      --  \n",
       "57      --  \n",
       "58      --  \n",
       "59      --  \n",
       "60      --  \n",
       "61      --  \n",
       "62      --  \n",
       "63      --  \n",
       "64      --  \n",
       "65      --  \n",
       "66      --  \n",
       "67      --  \n",
       "68      --  \n",
       "69      --  \n",
       "70      --  \n",
       "71      --  \n",
       "72      --  \n",
       "73      --  \n",
       "74      --  \n",
       "75      --  \n",
       "76      --  \n",
       "77      --  \n",
       "78      --  \n",
       "79      --  \n",
       "80      --  \n",
       "81      --  \n",
       "82      --  \n",
       "83      --  \n",
       "84      --  \n",
       "85      --  \n",
       "86      --  \n",
       "87      --  \n",
       "88      --  \n",
       "89      --  \n",
       "90      --  \n",
       "91      --  \n",
       "92      --  \n",
       "93      --  \n",
       "94      --  \n",
       "95      --  \n",
       "96      --  \n",
       "97      --  \n",
       "98      --  \n",
       "99      --  \n",
       "100     --  \n",
       "101     --  \n",
       "102     --  \n",
       "103     --  \n",
       "104     --  \n",
       "105     --  \n",
       "106     --  \n",
       "107     --  \n",
       "108     --  \n",
       "109     --  \n",
       "110     --  \n",
       "111     --  \n",
       "112     --  \n",
       "113     --  \n",
       "114     --  \n",
       "115     --  \n",
       "116     --  \n",
       "117     --  \n",
       "118     --  \n",
       "119     --  \n",
       "120     --  \n",
       "121     --  \n",
       "122     --  \n",
       "123     --  \n",
       "124     --  \n",
       "125     --  \n",
       "126     --  \n",
       "127     --  \n",
       "128     --  \n",
       "129     --  \n",
       "130     --  \n",
       "131     --  \n",
       "132     --  \n",
       "133     --  \n",
       "134     --  \n",
       "135     --  "
      ]
     },
     "execution_count": 31,
     "metadata": {
     },
     "output_type": "execute_result"
    }
   ],
   "source": [
    "pandas.concat(\n",
    "    (\n",
    "        pandas.DataFrame(\n",
    "            data={\n",
    "                's2 only': s2.columns.difference(hc.columns),\n",
    "            }\n",
    "        ),\n",
    "        pandas.DataFrame(\n",
    "            data={\n",
    "                'hc only': hc.columns.difference(s2.columns),\n",
    "            }\n",
    "        ),\n",
    "        pandas.DataFrame(\n",
    "            data={\n",
    "                'common': s2.columns.intersection(hc.columns),\n",
    "            }\n",
    "        ),\n",
    "    ),\n",
    "    sort=False,\n",
    "    axis='columns',\n",
    ").fillna('--')"
   ]
  },
  {
   "cell_type": "markdown",
   "metadata": {
    "collapsed": false
   },
   "source": [
    "That's quite a large difference in columns for these sets. Because my target sample set is only aphids, I can first drop the unimportant columns, then normalize all remaining labels."
   ]
  },
  {
   "cell_type": "markdown",
   "metadata": {
    "collapsed": true
   },
   "source": [
    "Before dropping any columns, I need to identify any remaining columns with corrolative properties, such as time and place labels which can serve as indices."
   ]
  },
  {
   "cell_type": "markdown",
   "metadata": {
    "collapsed": true
   },
   "source": [
    "### Lookup Columns (Record Index)"
   ]
  },
  {
   "cell_type": "markdown",
   "metadata": {
    "collapsed": true
   },
   "source": [
    "Reading through the list of remaining, non-aphid related columns, I see some that don't mention any organism by name. These columns may be useful for indexing, which is crucial to aligning the two data sources."
   ]
  },
  {
   "cell_type": "code",
   "execution_count": 32,
   "metadata": {
    "collapsed": false
   },
   "outputs": [
   ],
   "source": [
    "non_organism_column_names = pandas.Series(data=(\n",
    "    'collection_date',\n",
    "    'comments',  # may contain identifying information\n",
    "    'crop',\n",
    "    'date',\n",
    "    'date_by_week',  # redundant date coding\n",
    "    'distance(m)',\n",
    "    'field',\n",
    "    'field_name',\n",
    "    'id',\n",
    "    'julian_date',  # redundant date coding\n",
    "    'number of samples',  # unnecessary (used for sums, which are redundant)\n",
    "    'province',\n",
    "    'sample_by_week',  # \n",
    "    'site',\n",
    "    'zadoks_stage',\n",
    "))"
   ]
  },
  {
   "cell_type": "markdown",
   "metadata": {
    "collapsed": true
   },
   "source": [
    "Here are the names of the matching columns from each frame:"
   ]
  },
  {
   "cell_type": "code",
   "execution_count": 33,
   "metadata": {
    "collapsed": false
   },
   "outputs": [
    {
     "data": {
      "text/html": [
       "<div>\n",
       "<style scoped>\n",
       "    .dataframe tbody tr th:only-of-type {\n",
       "        vertical-align: middle;\n",
       "    }\n",
       "\n",
       "    .dataframe tbody tr th {\n",
       "        vertical-align: top;\n",
       "    }\n",
       "\n",
       "    .dataframe thead th {\n",
       "        text-align: right;\n",
       "    }\n",
       "</style>\n",
       "<table border=\"1\" class=\"dataframe\">\n",
       "  <thead>\n",
       "    <tr style=\"text-align: right;\">\n",
       "      <th></th>\n",
       "      <th>Head Counts</th>\n",
       "      <th>Sheet2</th>\n",
       "    </tr>\n",
       "  </thead>\n",
       "  <tbody>\n",
       "    <tr>\n",
       "      <th>collection_date</th>\n",
       "      <td>✖️</td>\n",
       "      <td>✖️</td>\n",
       "    </tr>\n",
       "    <tr>\n",
       "      <th>comments</th>\n",
       "      <td>✅</td>\n",
       "      <td>✖️</td>\n",
       "    </tr>\n",
       "    <tr>\n",
       "      <th>crop</th>\n",
       "      <td>✅</td>\n",
       "      <td>✅</td>\n",
       "    </tr>\n",
       "    <tr>\n",
       "      <th>date</th>\n",
       "      <td>✅</td>\n",
       "      <td>✅</td>\n",
       "    </tr>\n",
       "    <tr>\n",
       "      <th>date_by_week</th>\n",
       "      <td>✖️</td>\n",
       "      <td>✅</td>\n",
       "    </tr>\n",
       "    <tr>\n",
       "      <th>distance(m)</th>\n",
       "      <td>✖️</td>\n",
       "      <td>✅</td>\n",
       "    </tr>\n",
       "    <tr>\n",
       "      <th>field</th>\n",
       "      <td>✅</td>\n",
       "      <td>✖️</td>\n",
       "    </tr>\n",
       "    <tr>\n",
       "      <th>field_name</th>\n",
       "      <td>✖️</td>\n",
       "      <td>✅</td>\n",
       "    </tr>\n",
       "    <tr>\n",
       "      <th>id</th>\n",
       "      <td>✖️</td>\n",
       "      <td>✅</td>\n",
       "    </tr>\n",
       "    <tr>\n",
       "      <th>julian_date</th>\n",
       "      <td>✖️</td>\n",
       "      <td>✅</td>\n",
       "    </tr>\n",
       "    <tr>\n",
       "      <th>number of samples</th>\n",
       "      <td>✖️</td>\n",
       "      <td>✅</td>\n",
       "    </tr>\n",
       "    <tr>\n",
       "      <th>province</th>\n",
       "      <td>✖️</td>\n",
       "      <td>✅</td>\n",
       "    </tr>\n",
       "    <tr>\n",
       "      <th>sample_by_week</th>\n",
       "      <td>✖️</td>\n",
       "      <td>✅</td>\n",
       "    </tr>\n",
       "    <tr>\n",
       "      <th>site</th>\n",
       "      <td>✅</td>\n",
       "      <td>✅</td>\n",
       "    </tr>\n",
       "    <tr>\n",
       "      <th>zadoks_stage</th>\n",
       "      <td>✅</td>\n",
       "      <td>✖️</td>\n",
       "    </tr>\n",
       "  </tbody>\n",
       "</table>\n",
       "</div>"
      ],
      "text/plain": [
       "                  Head Counts Sheet2\n",
       "collection_date            ✖️     ✖️\n",
       "comments                    ✅     ✖️\n",
       "crop                        ✅      ✅\n",
       "date                        ✅      ✅\n",
       "date_by_week               ✖️      ✅\n",
       "distance(m)                ✖️      ✅\n",
       "field                       ✅     ✖️\n",
       "field_name                 ✖️      ✅\n",
       "id                         ✖️      ✅\n",
       "julian_date                ✖️      ✅\n",
       "number of samples          ✖️      ✅\n",
       "province                   ✖️      ✅\n",
       "sample_by_week             ✖️      ✅\n",
       "site                        ✅      ✅\n",
       "zadoks_stage                ✅     ✖️"
      ]
     },
     "execution_count": 33,
     "metadata": {
     },
     "output_type": "execute_result"
    }
   ],
   "source": [
    "non_organism_columns_common = pandas.DataFrame(\n",
    "    {\n",
    "        name: dict(zip(non_organism_column_names,\n",
    "                       non_organism_column_names.isin(frame.columns)))\n",
    "        for name, frame\n",
    "        in zip(sheet_names, (hc, s2))\n",
    "    }\n",
    ")\n",
    "emojify_boolean(non_organism_columns_common)"
   ]
  },
  {
   "cell_type": "markdown",
   "metadata": {
    "collapsed": true
   },
   "source": [
    "## Align Columns"
   ]
  },
  {
   "cell_type": "markdown",
   "metadata": {
    "collapsed": true
   },
   "source": [
    "Our next goal is to determine which columns are in common and ensure they're of the same data type, so we can concatenate the frames."
   ]
  },
  {
   "cell_type": "code",
   "execution_count": 34,
   "metadata": {
    "collapsed": false
   },
   "outputs": [
    {
     "data": {
      "text/plain": [
       "['crop', 'date', 'site']"
      ]
     },
     "execution_count": 34,
     "metadata": {
     },
     "output_type": "execute_result"
    }
   ],
   "source": [
    "non_organism_columns_common.index[\n",
    "    non_organism_columns_common.all(axis='columns')\n",
    "].tolist()"
   ]
  },
  {
   "cell_type": "markdown",
   "metadata": {
    "collapsed": true
   },
   "source": [
    "Those columns alone are probably enough to align the data.\n",
    "\n",
    "I'll need to clean up `crop` and `site`, but `date` and `collection_date` are already well formed.\n",
    "\n",
    "These columns warrant examination as well:\n",
    "\n",
    "- collection_date\n",
    "- date\n",
    "- distance(m)\n",
    "- field\n",
    "- field_name\n",
    "- number of samples"
   ]
  },
  {
   "cell_type": "markdown",
   "metadata": {
    "collapsed": true
   },
   "source": [
    "### Visualize Leading & Trailing Whitespace"
   ]
  },
  {
   "cell_type": "markdown",
   "metadata": {
    "collapsed": true
   },
   "source": [
    "Having peeked ahead a bit, I've noticed irregular use of space characters in some of the non-numeric values within the `DataFrame` objects. I could just strip all leading and trailing spaces, but I might overlook something along the way, and it's not a good habit to attempt to clean text too early in the course of analysis.\n",
    "\n",
    "If I could see the spaces more easily, I could be acutely aware of them at any string's beginning and ending. To visualize these invisible characters, I'll compose a function that replaces the space character with something more visible. Displaying values this way makes trailing or leading whitespace obvious, without overwriting any data."
   ]
  },
  {
   "cell_type": "code",
   "execution_count": 35,
   "metadata": {
    "collapsed": false
   },
   "outputs": [
   ],
   "source": [
    "def show_spaces(x):\n",
    "    return x.str.replace(\n",
    "        ' ', '⬜️'\n",
    "    )"
   ]
  },
  {
   "cell_type": "markdown",
   "metadata": {
    "collapsed": true
   },
   "source": [
    "### Date"
   ]
  },
  {
   "cell_type": "markdown",
   "metadata": {
    "collapsed": true
   },
   "source": [
    "The columns containing date information were normalized in an [earlier stage] of my analysis. Those columns are ready to align in combination with other unique index labels.\n",
    "\n",
    "[earlier stage]: #Convert-Date-&-Time-Format"
   ]
  },
  {
   "cell_type": "markdown",
   "metadata": {
    "collapsed": true
   },
   "source": [
    "### Crop"
   ]
  },
  {
   "cell_type": "markdown",
   "metadata": {
    "collapsed": true
   },
   "source": [
    "Here are the `crop` field values for both data frames:"
   ]
  },
  {
   "cell_type": "code",
   "execution_count": 37,
   "metadata": {
    "collapsed": false
   },
   "outputs": [
    {
     "data": {
      "text/plain": [
       "3                   0\n",
       "2              Barley\n",
       "9            Barley⬜️\n",
       "16                Oat\n",
       "15              Oat⬜️\n",
       "6                Oats\n",
       "1               Tanzy\n",
       "0               Wheat\n",
       "8             Wheat⬜️\n",
       "10      Winter⬜️Wheat\n",
       "14    Winter⬜️Wheat⬜️\n",
       "13        WinterWheat\n",
       "12       Winter_wheat\n",
       "11             barley\n",
       "5                 nan\n",
       "7            unlisted\n",
       "4               wheat\n",
       "Name: crop, dtype: object"
      ]
     },
     "execution_count": 37,
     "metadata": {
     },
     "output_type": "execute_result"
    }
   ],
   "source": [
    "crops = pandas.concat(\n",
    "    (\n",
    "        frame.crop.apply(str)\n",
    "        for frame in sheets_to_compare.values()\n",
    "    ),\n",
    "    keys=sheet_names,\n",
    "    sort=True,\n",
    ").drop_duplicates().reset_index(drop=True).sort_values()\n",
    "\n",
    "show_spaces(crops)"
   ]
  },
  {
   "cell_type": "markdown",
   "metadata": {
    "collapsed": true
   },
   "source": [
    "Clearly, there are some variations that should be corrected, in both data frames.\n",
    "\n",
    "- whitespace\n",
    "- letter case\n",
    "- word separation"
   ]
  },
  {
   "cell_type": "markdown",
   "metadata": {
    "collapsed": true
   },
   "source": [
    "I'll write a function that transforms any given \"crop\" value into a uniform representation of the crop it's intended to represent."
   ]
  },
  {
   "cell_type": "code",
   "execution_count": 38,
   "metadata": {
    "collapsed": false
   },
   "outputs": [
   ],
   "source": [
    "def normalize_str(value, separator=' '):\n",
    "    if value is pandas.np.nan:\n",
    "        return value\n",
    "\n",
    "    str_value = str(value)\n",
    "\n",
    "    # Add separators between words, title case\n",
    "    is_mixed_case = str_value.upper() != str_value.lower() and not (str_value.islower() or str_value.isupper())\n",
    "    if is_mixed_case:\n",
    "        word_index = [\n",
    "            index for index, char in enumerate(str_value)\n",
    "            if char.isupper()\n",
    "        ] + [None]  # For index slicing\n",
    "        if word_index:\n",
    "            words = [\n",
    "                str_value[word_index[i]:word_index[i + 1]].strip()\n",
    "                for i in range(len(word_index) - 1)\n",
    "            ]\n",
    "            str_value = separator.join(words)\n",
    "\n",
    "    transformed = re.compile(r'[^a-zA-Z0-9]').sub(separator, str(str_value).lower())\n",
    "\n",
    "    # De-pluralize\n",
    "    if transformed.endswith('oats'):\n",
    "        transformed = transformed[:-1]\n",
    "\n",
    "    return transformed"
   ]
  },
  {
   "cell_type": "markdown",
   "metadata": {
    "collapsed": true
   },
   "source": [
    "Previewing the results, with the square brackets added again:"
   ]
  },
  {
   "cell_type": "code",
   "execution_count": 39,
   "metadata": {
    "collapsed": false
   },
   "outputs": [
    {
     "data": {
      "text/html": [
       "<div>\n",
       "<style scoped>\n",
       "    .dataframe tbody tr th:only-of-type {\n",
       "        vertical-align: middle;\n",
       "    }\n",
       "\n",
       "    .dataframe tbody tr th {\n",
       "        vertical-align: top;\n",
       "    }\n",
       "\n",
       "    .dataframe thead th {\n",
       "        text-align: right;\n",
       "    }\n",
       "</style>\n",
       "<table border=\"1\" class=\"dataframe\">\n",
       "  <thead>\n",
       "    <tr style=\"text-align: right;\">\n",
       "      <th></th>\n",
       "      <th>Before</th>\n",
       "      <th>After</th>\n",
       "    </tr>\n",
       "  </thead>\n",
       "  <tbody>\n",
       "    <tr>\n",
       "      <th>3</th>\n",
       "      <td>0</td>\n",
       "      <td>0</td>\n",
       "    </tr>\n",
       "    <tr>\n",
       "      <th>2</th>\n",
       "      <td>Barley</td>\n",
       "      <td>barley</td>\n",
       "    </tr>\n",
       "    <tr>\n",
       "      <th>9</th>\n",
       "      <td>Barley⬜️</td>\n",
       "      <td>barley</td>\n",
       "    </tr>\n",
       "    <tr>\n",
       "      <th>11</th>\n",
       "      <td>barley</td>\n",
       "      <td>barley</td>\n",
       "    </tr>\n",
       "    <tr>\n",
       "      <th>5</th>\n",
       "      <td>nan</td>\n",
       "      <td>nan</td>\n",
       "    </tr>\n",
       "    <tr>\n",
       "      <th>16</th>\n",
       "      <td>Oat</td>\n",
       "      <td>oat</td>\n",
       "    </tr>\n",
       "    <tr>\n",
       "      <th>15</th>\n",
       "      <td>Oat⬜️</td>\n",
       "      <td>oat</td>\n",
       "    </tr>\n",
       "    <tr>\n",
       "      <th>6</th>\n",
       "      <td>Oats</td>\n",
       "      <td>oat</td>\n",
       "    </tr>\n",
       "    <tr>\n",
       "      <th>1</th>\n",
       "      <td>Tanzy</td>\n",
       "      <td>tanzy</td>\n",
       "    </tr>\n",
       "    <tr>\n",
       "      <th>7</th>\n",
       "      <td>unlisted</td>\n",
       "      <td>unlisted</td>\n",
       "    </tr>\n",
       "    <tr>\n",
       "      <th>8</th>\n",
       "      <td>Wheat⬜️</td>\n",
       "      <td>wheat</td>\n",
       "    </tr>\n",
       "    <tr>\n",
       "      <th>0</th>\n",
       "      <td>Wheat</td>\n",
       "      <td>wheat</td>\n",
       "    </tr>\n",
       "    <tr>\n",
       "      <th>4</th>\n",
       "      <td>wheat</td>\n",
       "      <td>wheat</td>\n",
       "    </tr>\n",
       "    <tr>\n",
       "      <th>13</th>\n",
       "      <td>WinterWheat</td>\n",
       "      <td>winter⬜️wheat</td>\n",
       "    </tr>\n",
       "    <tr>\n",
       "      <th>12</th>\n",
       "      <td>Winter_wheat</td>\n",
       "      <td>winter⬜️wheat</td>\n",
       "    </tr>\n",
       "    <tr>\n",
       "      <th>10</th>\n",
       "      <td>Winter⬜️Wheat</td>\n",
       "      <td>winter⬜️wheat</td>\n",
       "    </tr>\n",
       "    <tr>\n",
       "      <th>14</th>\n",
       "      <td>Winter⬜️Wheat⬜️</td>\n",
       "      <td>winter⬜️wheat</td>\n",
       "    </tr>\n",
       "  </tbody>\n",
       "</table>\n",
       "</div>"
      ],
      "text/plain": [
       "             Before          After\n",
       "3                 0              0\n",
       "2            Barley         barley\n",
       "9          Barley⬜️         barley\n",
       "11           barley         barley\n",
       "5               nan            nan\n",
       "16              Oat            oat\n",
       "15            Oat⬜️            oat\n",
       "6              Oats            oat\n",
       "1             Tanzy          tanzy\n",
       "7          unlisted       unlisted\n",
       "8           Wheat⬜️          wheat\n",
       "0             Wheat          wheat\n",
       "4             wheat          wheat\n",
       "13      WinterWheat  winter⬜️wheat\n",
       "12     Winter_wheat  winter⬜️wheat\n",
       "10    Winter⬜️Wheat  winter⬜️wheat\n",
       "14  Winter⬜️Wheat⬜️  winter⬜️wheat"
      ]
     },
     "execution_count": 39,
     "metadata": {
     },
     "output_type": "execute_result"
    }
   ],
   "source": [
    "pandas.concat(\n",
    "    (\n",
    "        crops,\n",
    "        crops.apply(normalize_str),\n",
    "    ),\n",
    "    keys=(\"Before\", \"After\"),\n",
    "    axis='columns',\n",
    ").sort_values('After').apply(show_spaces)"
   ]
  },
  {
   "cell_type": "markdown",
   "metadata": {
    "collapsed": true
   },
   "source": [
    "There are some concerning names, such as \"nan\", \"unlisted\", and \"0\", but the renaming result looks good. I'll apply the changes:"
   ]
  },
  {
   "cell_type": "code",
   "execution_count": 40,
   "metadata": {
    "collapsed": false
   },
   "outputs": [
   ],
   "source": [
    "for frame in (hc, s2):\n",
    "    frame.crop = frame.crop.apply(normalize_str)"
   ]
  },
  {
   "cell_type": "markdown",
   "metadata": {
    "collapsed": true
   },
   "source": [
    "### Site"
   ]
  },
  {
   "cell_type": "code",
   "execution_count": 41,
   "metadata": {
    "collapsed": false
   },
   "outputs": [
    {
     "data": {
      "text/plain": [
       "Sheet Name   index\n",
       "Head Counts  8               Alberta\n",
       "             142              Alvena\n",
       "Sheet2       174              Clavet\n",
       "Head Counts  141        Indian⬜️Head\n",
       "             128              Kernan\n",
       "Sheet2       193            Kernan⬜️\n",
       "Head Counts  109           Llewellyn\n",
       "             53             Manitoba\n",
       "             103      Meadow⬜️Lake⬜️\n",
       "             92          Meadow_Lake\n",
       "             96              Melfort\n",
       "Sheet2       363           Melfort⬜️\n",
       "Head Counts  54              Outlook\n",
       "             75            Outlook⬜️\n",
       "             10                  SEF\n",
       "             27                SEF⬜️\n",
       "             4                 Wakaw\n",
       "             0         Yellow⬜️Creek\n",
       "Sheet2       626       Yellow⬜️creek\n",
       "Head Counts  2          Yellow_Creek\n",
       "Sheet2       632         Yellowcreek\n",
       "Name: site, dtype: object"
      ]
     },
     "execution_count": 41,
     "metadata": {
     },
     "output_type": "execute_result"
    }
   ],
   "source": [
    "site_values = (\n",
    "    pandas.concat(\n",
    "        (frame[['site']] for frame in (hc, s2)),\n",
    "        keys=sheet_names,\n",
    "        names=['Sheet Name', 'index',],\n",
    "    )\n",
    "    .drop_duplicates()\n",
    "    .sort_values('site')\n",
    ")\n",
    "show_spaces(site_values.site)"
   ]
  },
  {
   "cell_type": "markdown",
   "metadata": {
    "collapsed": true
   },
   "source": [
    "This is going to need some normalization. I'll write a string reducer function to transform any given value into a uniformly reducible representation by stripping insignificant characters and letter case. From that, I can build a hash table that maps to preferred representations, and apply that mapping to the values in a renaming operation."
   ]
  },
  {
   "cell_type": "markdown",
   "metadata": {
    "collapsed": true
   },
   "source": [
    "#### Reduce Label Value"
   ]
  },
  {
   "cell_type": "markdown",
   "metadata": {
    "collapsed": true
   },
   "source": [
    "In order to match badly formed labels with their normal representation, I need a string function similar to a hash, so the values in the data frame can be used to look up the preferred, normal form.\n",
    "\n",
    "- convert numeric values to text\n",
    "- strip non alphanumeric characters\n",
    "- convert alphabetic characters to lower case"
   ]
  },
  {
   "cell_type": "code",
   "execution_count": 42,
   "metadata": {
    "collapsed": false
   },
   "outputs": [
   ],
   "source": [
    "def hash_like(value):\n",
    "    return re.compile(r\"[^a-z0-9]\").sub('', str(value).lower())"
   ]
  },
  {
   "cell_type": "markdown",
   "metadata": {
    "collapsed": true
   },
   "source": [
    "Applying this to all frames:"
   ]
  },
  {
   "cell_type": "code",
   "execution_count": 43,
   "metadata": {
    "collapsed": false
   },
   "outputs": [
   ],
   "source": [
    "for frame in (hc, s2) + (site_values, ):\n",
    "    frame['site_index'] = frame.site.apply(hash_like)\n",
    "    frame.set_index('site_index', append=True, inplace=True)"
   ]
  },
  {
   "cell_type": "markdown",
   "metadata": {
    "collapsed": true
   },
   "source": [
    "#### Nominal Values"
   ]
  },
  {
   "cell_type": "markdown",
   "metadata": {
    "collapsed": true
   },
   "source": [
    "If I had a larger data set, I could automatically find the most frequently used representation for any given reduced value (\"hash\"); I would use the `mode` function. Unfortunately, the groups are far too small and the values too varied:"
   ]
  },
  {
   "cell_type": "code",
   "execution_count": 44,
   "metadata": {
    "collapsed": false
   },
   "outputs": [
    {
     "data": {
      "text/html": [
       "<div>\n",
       "<style scoped>\n",
       "    .dataframe tbody tr th:only-of-type {\n",
       "        vertical-align: middle;\n",
       "    }\n",
       "\n",
       "    .dataframe tbody tr th {\n",
       "        vertical-align: top;\n",
       "    }\n",
       "\n",
       "    .dataframe thead th {\n",
       "        text-align: right;\n",
       "    }\n",
       "</style>\n",
       "<table border=\"1\" class=\"dataframe\">\n",
       "  <thead>\n",
       "    <tr style=\"text-align: right;\">\n",
       "      <th></th>\n",
       "      <th>site</th>\n",
       "    </tr>\n",
       "    <tr>\n",
       "      <th>site_index</th>\n",
       "      <th></th>\n",
       "    </tr>\n",
       "  </thead>\n",
       "  <tbody>\n",
       "    <tr>\n",
       "      <th>alberta</th>\n",
       "      <td>Alberta</td>\n",
       "    </tr>\n",
       "    <tr>\n",
       "      <th>alvena</th>\n",
       "      <td>Alvena</td>\n",
       "    </tr>\n",
       "    <tr>\n",
       "      <th>clavet</th>\n",
       "      <td>Clavet</td>\n",
       "    </tr>\n",
       "    <tr>\n",
       "      <th>indianhead</th>\n",
       "      <td>Indian⬜️Head</td>\n",
       "    </tr>\n",
       "    <tr>\n",
       "      <th>kernan</th>\n",
       "      <td>Kernan</td>\n",
       "    </tr>\n",
       "    <tr>\n",
       "      <th>kernan</th>\n",
       "      <td>Kernan⬜️</td>\n",
       "    </tr>\n",
       "    <tr>\n",
       "      <th>llewellyn</th>\n",
       "      <td>Llewellyn</td>\n",
       "    </tr>\n",
       "    <tr>\n",
       "      <th>manitoba</th>\n",
       "      <td>Manitoba</td>\n",
       "    </tr>\n",
       "    <tr>\n",
       "      <th>meadowlake</th>\n",
       "      <td>Meadow⬜️Lake⬜️</td>\n",
       "    </tr>\n",
       "    <tr>\n",
       "      <th>meadowlake</th>\n",
       "      <td>Meadow_Lake</td>\n",
       "    </tr>\n",
       "    <tr>\n",
       "      <th>melfort</th>\n",
       "      <td>Melfort</td>\n",
       "    </tr>\n",
       "    <tr>\n",
       "      <th>melfort</th>\n",
       "      <td>Melfort⬜️</td>\n",
       "    </tr>\n",
       "    <tr>\n",
       "      <th>outlook</th>\n",
       "      <td>Outlook</td>\n",
       "    </tr>\n",
       "    <tr>\n",
       "      <th>outlook</th>\n",
       "      <td>Outlook⬜️</td>\n",
       "    </tr>\n",
       "    <tr>\n",
       "      <th>sef</th>\n",
       "      <td>SEF</td>\n",
       "    </tr>\n",
       "    <tr>\n",
       "      <th>sef</th>\n",
       "      <td>SEF⬜️</td>\n",
       "    </tr>\n",
       "    <tr>\n",
       "      <th>wakaw</th>\n",
       "      <td>Wakaw</td>\n",
       "    </tr>\n",
       "    <tr>\n",
       "      <th>yellowcreek</th>\n",
       "      <td>Yellow⬜️Creek</td>\n",
       "    </tr>\n",
       "    <tr>\n",
       "      <th>yellowcreek</th>\n",
       "      <td>Yellow⬜️creek</td>\n",
       "    </tr>\n",
       "    <tr>\n",
       "      <th>yellowcreek</th>\n",
       "      <td>Yellow_Creek</td>\n",
       "    </tr>\n",
       "    <tr>\n",
       "      <th>yellowcreek</th>\n",
       "      <td>Yellowcreek</td>\n",
       "    </tr>\n",
       "  </tbody>\n",
       "</table>\n",
       "</div>"
      ],
      "text/plain": [
       "                       site\n",
       "site_index                 \n",
       "alberta             Alberta\n",
       "alvena               Alvena\n",
       "clavet               Clavet\n",
       "indianhead     Indian⬜️Head\n",
       "kernan               Kernan\n",
       "kernan             Kernan⬜️\n",
       "llewellyn         Llewellyn\n",
       "manitoba           Manitoba\n",
       "meadowlake   Meadow⬜️Lake⬜️\n",
       "meadowlake      Meadow_Lake\n",
       "melfort             Melfort\n",
       "melfort           Melfort⬜️\n",
       "outlook             Outlook\n",
       "outlook           Outlook⬜️\n",
       "sef                     SEF\n",
       "sef                   SEF⬜️\n",
       "wakaw                 Wakaw\n",
       "yellowcreek   Yellow⬜️Creek\n",
       "yellowcreek   Yellow⬜️creek\n",
       "yellowcreek    Yellow_Creek\n",
       "yellowcreek     Yellowcreek"
      ]
     },
     "execution_count": 44,
     "metadata": {
     },
     "output_type": "execute_result"
    }
   ],
   "source": [
    "(\n",
    "    site_values\n",
    "    .reset_index(level=['Sheet Name', 'index'], drop=True)\n",
    "    .loc[:, ['site']]\n",
    "    .apply(show_spaces)\n",
    ")"
   ]
  },
  {
   "cell_type": "markdown",
   "metadata": {
    "collapsed": true
   },
   "source": [
    "Even if I strip the leading and trailing whitespace, I would still end up with ambiguous candidate selections. The work required to make a function that would know to how and when to convert labels like `Yellowcreek` to `Yellow Creek` would be unreasonable given the scope of this project, so automation might not be the best choice for choosing normal forms.\n",
    "\n",
    "I'll make the preferred identifier list manually, then apply the changes automatically. Here it is as a data frame with the appropriately reduced version of each label as the index:"
   ]
  },
  {
   "cell_type": "code",
   "execution_count": 45,
   "metadata": {
    "collapsed": false
   },
   "outputs": [
    {
     "data": {
      "text/html": [
       "<div>\n",
       "<style scoped>\n",
       "    .dataframe tbody tr th:only-of-type {\n",
       "        vertical-align: middle;\n",
       "    }\n",
       "\n",
       "    .dataframe tbody tr th {\n",
       "        vertical-align: top;\n",
       "    }\n",
       "\n",
       "    .dataframe thead th {\n",
       "        text-align: right;\n",
       "    }\n",
       "</style>\n",
       "<table border=\"1\" class=\"dataframe\">\n",
       "  <thead>\n",
       "    <tr style=\"text-align: right;\">\n",
       "      <th>site_index</th>\n",
       "      <th>alvena</th>\n",
       "      <th>clavet</th>\n",
       "      <th>indianhead</th>\n",
       "      <th>kernan</th>\n",
       "      <th>llewellyn</th>\n",
       "      <th>meadowlake</th>\n",
       "      <th>melfort</th>\n",
       "      <th>outlook</th>\n",
       "      <th>sef</th>\n",
       "      <th>wakaw</th>\n",
       "      <th>yellowcreek</th>\n",
       "    </tr>\n",
       "  </thead>\n",
       "  <tbody>\n",
       "    <tr>\n",
       "      <th>site</th>\n",
       "      <td>Alvena</td>\n",
       "      <td>Clavet</td>\n",
       "      <td>Indian Head</td>\n",
       "      <td>Kernan</td>\n",
       "      <td>Llewellyn</td>\n",
       "      <td>Meadow Lake</td>\n",
       "      <td>Melfort</td>\n",
       "      <td>Outlook</td>\n",
       "      <td>SEF</td>\n",
       "      <td>Wakaw</td>\n",
       "      <td>Yellow Creek</td>\n",
       "    </tr>\n",
       "  </tbody>\n",
       "</table>\n",
       "</div>"
      ],
      "text/plain": [
       "site_index  alvena  clavet   indianhead  kernan  llewellyn   meadowlake  \\\n",
       "site        Alvena  Clavet  Indian Head  Kernan  Llewellyn  Meadow Lake   \n",
       "\n",
       "site_index  melfort  outlook  sef  wakaw   yellowcreek  \n",
       "site        Melfort  Outlook  SEF  Wakaw  Yellow Creek  "
      ]
     },
     "execution_count": 45,
     "metadata": {
     },
     "output_type": "execute_result"
    }
   ],
   "source": [
    "preferred_site_id = pandas.Series(\n",
    "    name='site',\n",
    "    data={hash_like(item): item\n",
    "          for item in [\n",
    "              'Alvena',\n",
    "              'Clavet',\n",
    "              'Indian Head',\n",
    "              'Kernan',\n",
    "              'Llewellyn',\n",
    "              'Meadow Lake',\n",
    "              'Melfort',\n",
    "              'Outlook',\n",
    "              'SEF',\n",
    "              'Wakaw',\n",
    "              'Yellow Creek',\n",
    "          ]},\n",
    ")\n",
    "preferred_site_id.index.set_names(['site_index'], inplace=True)\n",
    "preferred_site_id.to_frame().T"
   ]
  },
  {
   "cell_type": "markdown",
   "metadata": {
    "collapsed": true
   },
   "source": [
    "With this list, I can compare the reduced (\"hashed\") values to the ones in the actual data and apply the preferred name where it matches."
   ]
  },
  {
   "cell_type": "markdown",
   "metadata": {
    "collapsed": true
   },
   "source": [
    "Everything that isn't in the preferred site name list:"
   ]
  },
  {
   "cell_type": "code",
   "execution_count": 46,
   "metadata": {
    "collapsed": false
   },
   "outputs": [
    {
     "data": {
      "text/html": [
       "<div>\n",
       "<style scoped>\n",
       "    .dataframe tbody tr th:only-of-type {\n",
       "        vertical-align: middle;\n",
       "    }\n",
       "\n",
       "    .dataframe tbody tr th {\n",
       "        vertical-align: top;\n",
       "    }\n",
       "\n",
       "    .dataframe thead th {\n",
       "        text-align: right;\n",
       "    }\n",
       "</style>\n",
       "<table border=\"1\" class=\"dataframe\">\n",
       "  <thead>\n",
       "    <tr style=\"text-align: right;\">\n",
       "      <th></th>\n",
       "      <th></th>\n",
       "      <th></th>\n",
       "      <th>site</th>\n",
       "    </tr>\n",
       "    <tr>\n",
       "      <th>Sheet Name</th>\n",
       "      <th>index</th>\n",
       "      <th>site_index</th>\n",
       "      <th></th>\n",
       "    </tr>\n",
       "  </thead>\n",
       "  <tbody>\n",
       "    <tr>\n",
       "      <th rowspan=\"2\" valign=\"top\">Head Counts</th>\n",
       "      <th>8</th>\n",
       "      <th>alberta</th>\n",
       "      <td>Alberta</td>\n",
       "    </tr>\n",
       "    <tr>\n",
       "      <th>53</th>\n",
       "      <th>manitoba</th>\n",
       "      <td>Manitoba</td>\n",
       "    </tr>\n",
       "  </tbody>\n",
       "</table>\n",
       "</div>"
      ],
      "text/plain": [
       "                                  site\n",
       "Sheet Name  index site_index          \n",
       "Head Counts 8     alberta      Alberta\n",
       "            53    manitoba    Manitoba"
      ]
     },
     "execution_count": 46,
     "metadata": {
     },
     "output_type": "execute_result"
    }
   ],
   "source": [
    "site_values[\n",
    "    ~ site_values.index.get_level_values('site_index')\n",
    "    .isin(preferred_site_id.index)\n",
    "]"
   ]
  },
  {
   "cell_type": "markdown",
   "metadata": {
    "collapsed": true
   },
   "source": [
    "These outliers are from the unmatchable records I mentioned upon my first look at the [unique site] labels. I can move on without doing anything further on these.\n",
    "\n",
    "[unique site]: #Site"
   ]
  },
  {
   "cell_type": "markdown",
   "metadata": {
    "collapsed": true
   },
   "source": [
    "Report on which records would be changed if I relabel ***site***:"
   ]
  },
  {
   "cell_type": "code",
   "execution_count": 47,
   "metadata": {
    "collapsed": false
   },
   "outputs": [
    {
     "data": {
      "text/html": [
       "<div>\n",
       "<style scoped>\n",
       "    .dataframe tbody tr th:only-of-type {\n",
       "        vertical-align: middle;\n",
       "    }\n",
       "\n",
       "    .dataframe tbody tr th {\n",
       "        vertical-align: top;\n",
       "    }\n",
       "\n",
       "    .dataframe thead tr th {\n",
       "        text-align: left;\n",
       "    }\n",
       "\n",
       "    .dataframe thead tr:last-of-type th {\n",
       "        text-align: right;\n",
       "    }\n",
       "</style>\n",
       "<table border=\"1\" class=\"dataframe\">\n",
       "  <thead>\n",
       "    <tr>\n",
       "      <th></th>\n",
       "      <th></th>\n",
       "      <th>Before</th>\n",
       "      <th>After</th>\n",
       "    </tr>\n",
       "    <tr>\n",
       "      <th></th>\n",
       "      <th></th>\n",
       "      <th>site</th>\n",
       "      <th>site</th>\n",
       "    </tr>\n",
       "    <tr>\n",
       "      <th>Sheet Name</th>\n",
       "      <th>index</th>\n",
       "      <th></th>\n",
       "      <th></th>\n",
       "    </tr>\n",
       "  </thead>\n",
       "  <tbody>\n",
       "    <tr>\n",
       "      <th rowspan=\"2\" valign=\"top\">Head Counts</th>\n",
       "      <th>8</th>\n",
       "      <td>Alberta</td>\n",
       "      <td>Alberta</td>\n",
       "    </tr>\n",
       "    <tr>\n",
       "      <th>142</th>\n",
       "      <td>Alvena</td>\n",
       "      <td>Alvena</td>\n",
       "    </tr>\n",
       "    <tr>\n",
       "      <th>Sheet2</th>\n",
       "      <th>174</th>\n",
       "      <td>Clavet</td>\n",
       "      <td>Clavet</td>\n",
       "    </tr>\n",
       "    <tr>\n",
       "      <th rowspan=\"2\" valign=\"top\">Head Counts</th>\n",
       "      <th>141</th>\n",
       "      <td>Indian⬜️Head</td>\n",
       "      <td>Indian⬜️Head</td>\n",
       "    </tr>\n",
       "    <tr>\n",
       "      <th>128</th>\n",
       "      <td>Kernan</td>\n",
       "      <td>Kernan</td>\n",
       "    </tr>\n",
       "    <tr>\n",
       "      <th>Sheet2</th>\n",
       "      <th>193</th>\n",
       "      <td>Kernan⬜️</td>\n",
       "      <td>Kernan</td>\n",
       "    </tr>\n",
       "    <tr>\n",
       "      <th rowspan=\"5\" valign=\"top\">Head Counts</th>\n",
       "      <th>109</th>\n",
       "      <td>Llewellyn</td>\n",
       "      <td>Llewellyn</td>\n",
       "    </tr>\n",
       "    <tr>\n",
       "      <th>53</th>\n",
       "      <td>Manitoba</td>\n",
       "      <td>Manitoba</td>\n",
       "    </tr>\n",
       "    <tr>\n",
       "      <th>103</th>\n",
       "      <td>Meadow⬜️Lake⬜️</td>\n",
       "      <td>Meadow⬜️Lake</td>\n",
       "    </tr>\n",
       "    <tr>\n",
       "      <th>92</th>\n",
       "      <td>Meadow_Lake</td>\n",
       "      <td>Meadow⬜️Lake</td>\n",
       "    </tr>\n",
       "    <tr>\n",
       "      <th>96</th>\n",
       "      <td>Melfort</td>\n",
       "      <td>Melfort</td>\n",
       "    </tr>\n",
       "    <tr>\n",
       "      <th>Sheet2</th>\n",
       "      <th>363</th>\n",
       "      <td>Melfort⬜️</td>\n",
       "      <td>Melfort</td>\n",
       "    </tr>\n",
       "    <tr>\n",
       "      <th rowspan=\"6\" valign=\"top\">Head Counts</th>\n",
       "      <th>54</th>\n",
       "      <td>Outlook</td>\n",
       "      <td>Outlook</td>\n",
       "    </tr>\n",
       "    <tr>\n",
       "      <th>75</th>\n",
       "      <td>Outlook⬜️</td>\n",
       "      <td>Outlook</td>\n",
       "    </tr>\n",
       "    <tr>\n",
       "      <th>10</th>\n",
       "      <td>SEF</td>\n",
       "      <td>SEF</td>\n",
       "    </tr>\n",
       "    <tr>\n",
       "      <th>27</th>\n",
       "      <td>SEF⬜️</td>\n",
       "      <td>SEF</td>\n",
       "    </tr>\n",
       "    <tr>\n",
       "      <th>4</th>\n",
       "      <td>Wakaw</td>\n",
       "      <td>Wakaw</td>\n",
       "    </tr>\n",
       "    <tr>\n",
       "      <th>0</th>\n",
       "      <td>Yellow⬜️Creek</td>\n",
       "      <td>Yellow⬜️Creek</td>\n",
       "    </tr>\n",
       "    <tr>\n",
       "      <th>Sheet2</th>\n",
       "      <th>626</th>\n",
       "      <td>Yellow⬜️creek</td>\n",
       "      <td>Yellow⬜️Creek</td>\n",
       "    </tr>\n",
       "    <tr>\n",
       "      <th>Head Counts</th>\n",
       "      <th>2</th>\n",
       "      <td>Yellow_Creek</td>\n",
       "      <td>Yellow⬜️Creek</td>\n",
       "    </tr>\n",
       "    <tr>\n",
       "      <th>Sheet2</th>\n",
       "      <th>632</th>\n",
       "      <td>Yellowcreek</td>\n",
       "      <td>Yellow⬜️Creek</td>\n",
       "    </tr>\n",
       "  </tbody>\n",
       "</table>\n",
       "</div>"
      ],
      "text/plain": [
       "                           Before          After\n",
       "                             site           site\n",
       "Sheet Name  index                               \n",
       "Head Counts 8             Alberta        Alberta\n",
       "            142            Alvena         Alvena\n",
       "Sheet2      174            Clavet         Clavet\n",
       "Head Counts 141      Indian⬜️Head   Indian⬜️Head\n",
       "            128            Kernan         Kernan\n",
       "Sheet2      193          Kernan⬜️         Kernan\n",
       "Head Counts 109         Llewellyn      Llewellyn\n",
       "            53           Manitoba       Manitoba\n",
       "            103    Meadow⬜️Lake⬜️   Meadow⬜️Lake\n",
       "            92        Meadow_Lake   Meadow⬜️Lake\n",
       "            96            Melfort        Melfort\n",
       "Sheet2      363         Melfort⬜️        Melfort\n",
       "Head Counts 54            Outlook        Outlook\n",
       "            75          Outlook⬜️        Outlook\n",
       "            10                SEF            SEF\n",
       "            27              SEF⬜️            SEF\n",
       "            4               Wakaw          Wakaw\n",
       "            0       Yellow⬜️Creek  Yellow⬜️Creek\n",
       "Sheet2      626     Yellow⬜️creek  Yellow⬜️Creek\n",
       "Head Counts 2        Yellow_Creek  Yellow⬜️Creek\n",
       "Sheet2      632       Yellowcreek  Yellow⬜️Creek"
      ]
     },
     "execution_count": 47,
     "metadata": {
     },
     "output_type": "execute_result"
    }
   ],
   "source": [
    "pandas.concat(\n",
    "    (\n",
    "        site_values,\n",
    "        preferred_site_id.to_frame().combine_first(site_values),\n",
    "    ),\n",
    "    keys=['Before', 'After'],\n",
    "    axis='columns',\n",
    ").reset_index('site_index', drop=True).apply(show_spaces)"
   ]
  },
  {
   "cell_type": "markdown",
   "metadata": {
    "collapsed": true
   },
   "source": [
    "This looks good to me. I'll apply the names:"
   ]
  },
  {
   "cell_type": "code",
   "execution_count": 48,
   "metadata": {
    "collapsed": false
   },
   "outputs": [
   ],
   "source": [
    "for frame in (hc, s2):\n",
    "    frame.loc[:, 'site'] = (\n",
    "        preferred_site_id.to_frame()\n",
    "        .combine_first(frame)\n",
    "        .loc[:, 'site']\n",
    "    )\n",
    "    frame.reset_index(\n",
    "        level='site_index',\n",
    "        drop=True,\n",
    "        inplace=True,\n",
    "    )"
   ]
  },
  {
   "cell_type": "markdown",
   "metadata": {
    "collapsed": true
   },
   "source": [
    "I'll review the label values for ***site*** in both data frames, to see the result of those changes:"
   ]
  },
  {
   "cell_type": "code",
   "execution_count": 49,
   "metadata": {
    "collapsed": false
   },
   "outputs": [
    {
     "data": {
      "text/plain": [
       "82           Alberta\n",
       "228           Alvena\n",
       "392           Clavet\n",
       "141     Indian⬜️Head\n",
       "474           Kernan\n",
       "561        Llewellyn\n",
       "84          Manitoba\n",
       "105     Meadow⬜️Lake\n",
       "627          Melfort\n",
       "59           Outlook\n",
       "791              SEF\n",
       "824            Wakaw\n",
       "863    Yellow⬜️Creek\n",
       "Name: site, dtype: object"
      ]
     },
     "execution_count": 49,
     "metadata": {
     },
     "output_type": "execute_result"
    }
   ],
   "source": [
    "show_spaces(\n",
    "    pandas.concat(\n",
    "        (frame[['site']] for frame in (hc, s2)),\n",
    "    )\n",
    "    .loc[:, 'site']\n",
    "    .reset_index(drop=True)\n",
    "    .sort_values()\n",
    "    .drop_duplicates()\n",
    ")"
   ]
  },
  {
   "cell_type": "markdown",
   "metadata": {
    "collapsed": true
   },
   "source": [
    "### Field"
   ]
  },
  {
   "cell_type": "markdown",
   "metadata": {
    "collapsed": true
   },
   "source": [
    "The columns **hc**.***field*** and **s2**.***field_name*** seem to relate to ***site*** and ***crop***. Before I address the values of the columns, I'll rename **s2**.***field_name*** for consistency."
   ]
  },
  {
   "cell_type": "code",
   "execution_count": 50,
   "metadata": {
    "collapsed": false
   },
   "outputs": [
   ],
   "source": [
    "for frame in (hc, s2):\n",
    "    frame.rename(\n",
    "        columns={'field_name': 'field'},\n",
    "        inplace=True,\n",
    "    )"
   ]
  },
  {
   "cell_type": "markdown",
   "metadata": {
    "collapsed": true
   },
   "source": [
    "Now, regarding the values, I suspect redundancy in ***field***. Here's why I feel that way—look at some of the values from both data sets:"
   ]
  },
  {
   "cell_type": "code",
   "execution_count": 51,
   "metadata": {
    "collapsed": false
   },
   "outputs": [
    {
     "data": {
      "text/html": [
       "<div>\n",
       "<style scoped>\n",
       "    .dataframe tbody tr th:only-of-type {\n",
       "        vertical-align: middle;\n",
       "    }\n",
       "\n",
       "    .dataframe tbody tr th {\n",
       "        vertical-align: top;\n",
       "    }\n",
       "\n",
       "    .dataframe thead th {\n",
       "        text-align: right;\n",
       "    }\n",
       "</style>\n",
       "<table border=\"1\" class=\"dataframe\">\n",
       "  <thead>\n",
       "    <tr style=\"text-align: right;\">\n",
       "      <th></th>\n",
       "      <th></th>\n",
       "      <th>field</th>\n",
       "      <th>date</th>\n",
       "    </tr>\n",
       "    <tr>\n",
       "      <th>crop</th>\n",
       "      <th>site</th>\n",
       "      <th></th>\n",
       "      <th></th>\n",
       "    </tr>\n",
       "  </thead>\n",
       "  <tbody>\n",
       "    <tr>\n",
       "      <th>0</th>\n",
       "      <th>Alberta</th>\n",
       "      <td>SW25-11-11-W4⬜️CM11687</td>\n",
       "      <td>2016-08-02</td>\n",
       "    </tr>\n",
       "    <tr>\n",
       "      <th rowspan=\"9\" valign=\"top\">barley</th>\n",
       "      <th>Alvena</th>\n",
       "      <td>AlveBarley</td>\n",
       "      <td>2016-06-10</td>\n",
       "    </tr>\n",
       "    <tr>\n",
       "      <th>Alvena</th>\n",
       "      <td>AlvenaBarley</td>\n",
       "      <td>2016-06-23</td>\n",
       "    </tr>\n",
       "    <tr>\n",
       "      <th>Alvena</th>\n",
       "      <td>AlvenaBarley</td>\n",
       "      <td>2016-06-24</td>\n",
       "    </tr>\n",
       "    <tr>\n",
       "      <th>Alvena</th>\n",
       "      <td>AlvenaBarley</td>\n",
       "      <td>2016-07-08</td>\n",
       "    </tr>\n",
       "    <tr>\n",
       "      <th>Alvena</th>\n",
       "      <td>AlvenaBarley</td>\n",
       "      <td>2016-07-15</td>\n",
       "    </tr>\n",
       "    <tr>\n",
       "      <th>Alvena</th>\n",
       "      <td>AlvenaBarley</td>\n",
       "      <td>2016-07-17</td>\n",
       "    </tr>\n",
       "    <tr>\n",
       "      <th>Alvena</th>\n",
       "      <td>Alvena⬜️Barley1</td>\n",
       "      <td>2016-07-22</td>\n",
       "    </tr>\n",
       "    <tr>\n",
       "      <th>Alvena</th>\n",
       "      <td>AlvenaBarley</td>\n",
       "      <td>2016-07-22</td>\n",
       "    </tr>\n",
       "    <tr>\n",
       "      <th>Alvena</th>\n",
       "      <td>AlvenaBarley</td>\n",
       "      <td>2016-07-28</td>\n",
       "    </tr>\n",
       "    <tr>\n",
       "      <th>...</th>\n",
       "      <th>...</th>\n",
       "      <td>...</td>\n",
       "      <td>...</td>\n",
       "    </tr>\n",
       "    <tr>\n",
       "      <th>wheat</th>\n",
       "      <th>Yellow Creek</th>\n",
       "      <td>YellowWheat</td>\n",
       "      <td>2017-07-08</td>\n",
       "    </tr>\n",
       "    <tr>\n",
       "      <th rowspan=\"5\" valign=\"top\">winter wheat</th>\n",
       "      <th>Alvena</th>\n",
       "      <td>KernanWheat</td>\n",
       "      <td>2016-07-15</td>\n",
       "    </tr>\n",
       "    <tr>\n",
       "      <th>Kernan</th>\n",
       "      <td>KernanWinterWheat</td>\n",
       "      <td>2016-06-28</td>\n",
       "    </tr>\n",
       "    <tr>\n",
       "      <th>Kernan</th>\n",
       "      <td>Kernan⬜️Winter⬜️Wheat⬜️1</td>\n",
       "      <td>2016-07-21</td>\n",
       "    </tr>\n",
       "    <tr>\n",
       "      <th>Kernan</th>\n",
       "      <td>KernanWheat</td>\n",
       "      <td>2016-07-28</td>\n",
       "    </tr>\n",
       "    <tr>\n",
       "      <th>Llewellyn</th>\n",
       "      <td>Llewellyn_winterwheat</td>\n",
       "      <td>2016-08-05</td>\n",
       "    </tr>\n",
       "    <tr>\n",
       "      <th rowspan=\"4\" valign=\"top\">NaN</th>\n",
       "      <th>Alberta</th>\n",
       "      <td>NW-09-06-15-W4⬜️</td>\n",
       "      <td>2016-07-27</td>\n",
       "    </tr>\n",
       "    <tr>\n",
       "      <th>Alberta</th>\n",
       "      <td>NE-09-06-15-W4⬜️CM11686</td>\n",
       "      <td>2016-08-02</td>\n",
       "    </tr>\n",
       "    <tr>\n",
       "      <th>Alberta</th>\n",
       "      <td>NE33-04-09-W4⬜️CM11685</td>\n",
       "      <td>2016-08-02</td>\n",
       "    </tr>\n",
       "    <tr>\n",
       "      <th>Alberta</th>\n",
       "      <td>NE33-04-09-W4⬜️CM11690</td>\n",
       "      <td>2016-08-08</td>\n",
       "    </tr>\n",
       "  </tbody>\n",
       "</table>\n",
       "<p>211 rows × 2 columns</p>\n",
       "</div>"
      ],
      "text/plain": [
       "                                              field       date\n",
       "crop         site                                             \n",
       "0            Alberta         SW25-11-11-W4⬜️CM11687 2016-08-02\n",
       "barley       Alvena                      AlveBarley 2016-06-10\n",
       "             Alvena                    AlvenaBarley 2016-06-23\n",
       "             Alvena                    AlvenaBarley 2016-06-24\n",
       "             Alvena                    AlvenaBarley 2016-07-08\n",
       "             Alvena                    AlvenaBarley 2016-07-15\n",
       "             Alvena                    AlvenaBarley 2016-07-17\n",
       "             Alvena                 Alvena⬜️Barley1 2016-07-22\n",
       "             Alvena                    AlvenaBarley 2016-07-22\n",
       "             Alvena                    AlvenaBarley 2016-07-28\n",
       "...                                             ...        ...\n",
       "wheat        Yellow Creek               YellowWheat 2017-07-08\n",
       "winter wheat Alvena                     KernanWheat 2016-07-15\n",
       "             Kernan               KernanWinterWheat 2016-06-28\n",
       "             Kernan        Kernan⬜️Winter⬜️Wheat⬜️1 2016-07-21\n",
       "             Kernan                     KernanWheat 2016-07-28\n",
       "             Llewellyn        Llewellyn_winterwheat 2016-08-05\n",
       "NaN          Alberta               NW-09-06-15-W4⬜️ 2016-07-27\n",
       "             Alberta        NE-09-06-15-W4⬜️CM11686 2016-08-02\n",
       "             Alberta         NE33-04-09-W4⬜️CM11685 2016-08-02\n",
       "             Alberta         NE33-04-09-W4⬜️CM11690 2016-08-08\n",
       "\n",
       "[211 rows x 2 columns]"
      ]
     },
     "execution_count": 51,
     "metadata": {
     },
     "output_type": "execute_result"
    }
   ],
   "source": [
    "pandas.options.display.max_rows = 20\n",
    "\n",
    "column_names = ['crop', 'site', 'field', 'date']\n",
    "(\n",
    "    pandas.concat(\n",
    "        (\n",
    "            hc[column_names],\n",
    "            s2[column_names],\n",
    "        ),\n",
    "        keys=sheet_names,\n",
    "        names=['worksheet', 'index',],\n",
    "    )\n",
    "    .sort_values(\n",
    "        by=['crop', 'site', 'date', 'field'],\n",
    "    )\n",
    "    .set_index(\n",
    "        keys=['crop', 'site'],\n",
    "    )\n",
    "    .drop_duplicates()\n",
    "    .apply(\n",
    "        {\n",
    "            'field': show_spaces,\n",
    "            'date': lambda x: x,\n",
    "        }\n",
    "    )\n",
    ")"
   ]
  },
  {
   "cell_type": "markdown",
   "metadata": {
    "collapsed": true
   },
   "source": [
    "It's clear to my eyes that in some cases, ***site*** and ***crop*** have been concatenated together to produce the value in ***field***.\n",
    "\n",
    "- ***site*** + ***crop*** = ***field***\n",
    "\n",
    "Primary data:\n",
    "\n",
    "- ***site***\n",
    "- ***crop***\n",
    "\n",
    "Mixed data:\n",
    "\n",
    "- ***field***\n",
    "\n",
    "Therefore, in samples corresponding to purely derivative ***field*** values, I can safely disregard those derived columns and rely on the the more normalized ***crop*** and ***site*** for indexing. That is to say I think it's most beneficial to use ***crop*** and ***site*** rather than ***field*** whenever possible.\n",
    "\n",
    "The only complication is the numeric suffix present in some values of ***field***, which delineates areas of the site at which the samples were observed. The numeric values are unique per date-crop-place combination but not unique per site-crop combination, so I'll have to treat it as a separate column that represents an additional dimension to our independent variables.\n",
    "\n",
    "Extracting the unique pairs of dates and the corresponding numerals from the processed ***field*** value for that date:"
   ]
  },
  {
   "cell_type": "code",
   "execution_count": 52,
   "metadata": {
    "collapsed": false
   },
   "outputs": [
    {
     "ename": "KeyError",
     "evalue": "63",
     "output_type": "error",
     "traceback": [
      "\u001b[0;31m---------------------------------------------------------------------------\u001b[0m",
      "\u001b[0;31mKeyError\u001b[0m                                  Traceback (most recent call last)",
      "\u001b[0;32m<ipython-input-52-ecdb2975e0e0>\u001b[0m in \u001b[0;36m<module>\u001b[0;34m()\u001b[0m\n\u001b[1;32m      2\u001b[0m \u001b[0;34m\u001b[0m\u001b[0m\n\u001b[1;32m      3\u001b[0m (\n\u001b[0;32m----> 4\u001b[0;31m     \u001b[0mOut\u001b[0m\u001b[0;34m[\u001b[0m\u001b[0;36m63\u001b[0m\u001b[0;34m]\u001b[0m\u001b[0;34m\u001b[0m\u001b[0;34m\u001b[0m\u001b[0m\n\u001b[0m\u001b[1;32m      5\u001b[0m     \u001b[0;34m.\u001b[0m\u001b[0mreset_index\u001b[0m\u001b[0;34m(\u001b[0m\u001b[0;34m)\u001b[0m\u001b[0;34m\u001b[0m\u001b[0;34m\u001b[0m\u001b[0m\n\u001b[1;32m      6\u001b[0m     .apply(\n",
      "\u001b[0;31mKeyError\u001b[0m: 63"
     ]
    }
   ],
   "source": [
    "pandas.options.display.max_rows = 40\n",
    "\n",
    "(\n",
    "    Out[63]\n",
    "    .reset_index()\n",
    "    .apply(\n",
    "        dict(\n",
    "            tuple(\n",
    "                dict.fromkeys(\n",
    "                    (\n",
    "                        'date',\n",
    "                        'site',\n",
    "                        'crop',\n",
    "                    ),\n",
    "                    lambda x: x,\n",
    "                ).items() \n",
    "            ) + tuple(\n",
    "                {\n",
    "                    'field': lambda x: x.str.extract(\n",
    "                        pat=r'(?P<text>\\D*)(?P<number>\\d*)',\n",
    "                    ),\n",
    "                }.items(),\n",
    "            ),\n",
    "        )\n",
    "    )\n",
    "    .drop_duplicates(\n",
    "        subset=[\n",
    "            ('date', 'date'),\n",
    "            ('field', 'number'),\n",
    "        ],\n",
    "    )\n",
    "    .dropna(\n",
    "        subset=[\n",
    "            ('date', 'date'),\n",
    "            ('field', 'number'),  # @todo: needed?\n",
    "        ],\n",
    "    )\n",
    ")\n"
   ]
  },
  {
   "cell_type": "markdown",
   "metadata": {
    "collapsed": true
   },
   "source": [
    "Based on this look at the information, I'd like to throw away the remaining text portion after extractinng the numbers when I apply this to my data set."
   ]
  },
  {
   "cell_type": "markdown",
   "metadata": {
    "collapsed": true
   },
   "source": [
    "When it comes to actually using the number portion of the ***field*** column rather than merely displaying it here in the notebook, it's simpler just to assign a new `Series` to the `DataFrame` than it is to non-destructively express the intended outcome."
   ]
  },
  {
   "cell_type": "code",
   "execution_count": 0,
   "metadata": {
    "collapsed": false
   },
   "outputs": [
   ],
   "source": [
    "for sheet in (hc, s2):\n",
    "    sheet.field = (\n",
    "        sheet.field\n",
    "        .str.extract(pat=r'(?P<text>\\D*)(?P<number>\\d*)')\n",
    "        .loc[:, 'number']\n",
    "        .apply(pandas.to_numeric, downcast='integer')\n",
    "    )"
   ]
  },
  {
   "cell_type": "markdown",
   "metadata": {
    "collapsed": true
   },
   "source": [
    "Just a reminder that the samples corresponding to ***site*** values `Alberta` and `Manitoba` use dates which don't overlap with the dates in the other `DataFrame`, so the fact that the ***field*** values for these records have a different pattern and are therefore mangled is completely fine for this project—they'll be entirely dropped in an upcoming phase of my work."
   ]
  },
  {
   "cell_type": "markdown",
   "metadata": {
    "collapsed": true
   },
   "source": [
    "### Number of Samples & Distance"
   ]
  },
  {
   "cell_type": "markdown",
   "metadata": {
    "collapsed": true
   },
   "source": [
    "The ***number of samples*** field is only present in **Sheet2**. I want to know a little bit about the values:"
   ]
  },
  {
   "cell_type": "code",
   "execution_count": 0,
   "metadata": {
    "collapsed": false
   },
   "outputs": [
   ],
   "source": [
    "s2['number of samples'].value_counts(dropna=False)"
   ]
  },
  {
   "cell_type": "markdown",
   "metadata": {
    "collapsed": true
   },
   "source": [
    "There are many missing values in this column. I presume the number of samples relates to the \"combined\" values, but I need to confirm:"
   ]
  },
  {
   "cell_type": "code",
   "execution_count": 0,
   "metadata": {
    "collapsed": false
   },
   "outputs": [
   ],
   "source": [
    "s2[['distance(m)', 'number of samples']].dropna(how='all').drop_duplicates()"
   ]
  },
  {
   "cell_type": "markdown",
   "metadata": {
    "collapsed": true
   },
   "source": [
    "This confirms that where the ***number of samples*** is not indicated, the corresponding ***distance(m)*** value is numeric. The converse is also true: non-numeric ***distance(m)*** corresponds with positive values in ***number of samples***. That's consistent with my expectations for the appearance of labels on previously aggregated data."
   ]
  },
  {
   "cell_type": "markdown",
   "metadata": {
    "collapsed": true
   },
   "source": [
    "### Identify Columns With Aphid Sample Data"
   ]
  },
  {
   "cell_type": "markdown",
   "metadata": {
    "collapsed": true
   },
   "source": [
    "The first step in normalizing column names for aphid samples is identifying the set of columns that mention aphids by name. For better comparison, I'll filter for columns referring to aphids.\n",
    "\n",
    "Here are some terms I know to be indicative of a relationship to aphid samples:\n",
    "\n",
    "* aphid\n",
    "* ega\n",
    "* bco\n",
    "* greenbug\n",
    "\n",
    "Not aphid related:\n",
    "\n",
    "- aphidencyrtus\n",
    "- aphidiius\n",
    "\n",
    "Categorized as natural enemy:\n",
    "\n",
    "- aphid_mummies\n",
    "\n",
    "Analytical artifacts:\n",
    "\n",
    "- total"
   ]
  },
  {
   "cell_type": "markdown",
   "metadata": {
    "collapsed": true
   },
   "source": [
    "Following these guidelines, the relevant columns are:\n",
    "\n",
    "**English grain aphid**\n",
    "\n",
    "* 1st_instar_ega\n",
    "* 2nd_instar_ega\n",
    "* 3rd_instar_ega\n",
    "* 3rd_instar_ega_pre-alate\n",
    "* ega alate\n",
    "* ega_alate\n",
    "* ega_apt\n",
    "* ega_grn\n",
    "* ega_head\n",
    "* ega_leaf\n",
    "* ega_red\n",
    "* sitobion_avenae_ega_green (wingless)\n",
    "* sitobion_avenae_ega_red\n",
    "\n",
    "This is ambiguous, but it's probably referring to EGA:\n",
    "\n",
    "* 4th_instar_pre-alate\n",
    "\n",
    "**Bird cherry oat aphid**\n",
    "\n",
    "* bco_alate\n",
    "* bco_apt\n",
    "* bco_head\n",
    "* bco_leaf\n",
    "* bird_cherry_oat_aphid\n",
    "\n",
    "**Greenbug aphid**\n",
    "\n",
    "* greenbug_alate\n",
    "* greenbug_apt\n",
    "* greenbug_aphid\n",
    "\n",
    "**Pea aphid**\n",
    "\n",
    "* pea aphids\n",
    "\n",
    "The pea aphid data is only in **s2**, so it can be disregarded."
   ]
  },
  {
   "cell_type": "code",
   "execution_count": 0,
   "metadata": {
    "collapsed": false
   },
   "outputs": [
   ],
   "source": [
    "aphid_column_names = [\n",
    "    '1st_instar_ega',\n",
    "    '2nd_instar_ega',\n",
    "    '3rd_instar_ega',\n",
    "    '3rd_instar_ega_pre-alate',\n",
    "    'ega alate',\n",
    "    'ega_alate',\n",
    "    'ega_apt',\n",
    "    'ega_grn',\n",
    "    'ega_head',\n",
    "    'ega_leaf',\n",
    "    'ega_red',\n",
    "    'sitobion_avenae_ega_green (wingless)',\n",
    "    'sitobion_avenae_ega_red',\n",
    "    '4th_instar_pre-alate',\n",
    "    'bco_alate',\n",
    "    'bco_apt',\n",
    "    'bco_head',\n",
    "    'bco_leaf',\n",
    "    'bird_cherry_oat_aphid',\n",
    "    'greenbug_alate',\n",
    "    'greenbug_apt',\n",
    "    'greenbug_aphid',\n",
    "]"
   ]
  },
  {
   "cell_type": "code",
   "execution_count": 0,
   "metadata": {
    "collapsed": false,
    "scrolled": true
   },
   "outputs": [
   ],
   "source": [
    "visualize_boolean(\n",
    "    pandas.DataFrame(\n",
    "        data={\n",
    "            name: sheet.columns.to_series(name=name).loc[\n",
    "                sheet.columns.isin(aphid_column_names)\n",
    "            ]\n",
    "            for name, sheet in sheets_to_compare.items()\n",
    "        },\n",
    "    )\n",
    ")"
   ]
  },
  {
   "cell_type": "markdown",
   "metadata": {
    "collapsed": true
   },
   "source": [
    "### Observation Data"
   ]
  },
  {
   "cell_type": "markdown",
   "metadata": {
    "collapsed": true
   },
   "source": [
    "Now that the data frame indices I built from the ***date***, ***site***, ***field*** and ***crop*** columns align, I need to determine which observations were recorded in both data frames."
   ]
  },
  {
   "cell_type": "markdown",
   "metadata": {
    "collapsed": false
   },
   "source": [
    "Some column names are nearly identical to ones in the opposite `DataFrame`, so I'll need to normalize the names if I expect to align the corresponding sample values."
   ]
  },
  {
   "cell_type": "markdown",
   "metadata": {
    "collapsed": true
   },
   "source": [
    "#### Correlate Aphid Columns by Aphid Type"
   ]
  },
  {
   "cell_type": "markdown",
   "metadata": {
    "collapsed": true
   },
   "source": [
    "I'll be looking for aphids that were measured in both sources, and I'll ultimately want only one column from each `DataFrame` for each type of aphid that is present in both sources. Some aphid types aren't present in both `DataFrames`, so I can safely ignore those."
   ]
  },
  {
   "cell_type": "markdown",
   "metadata": {
    "collapsed": true
   },
   "source": [
    "Knowing this, I can proceed to drop all other aphid columns and focus on the two usable types:\n",
    "\n",
    "- English grain aphid\n",
    "- Greenbug"
   ]
  },
  {
   "cell_type": "markdown",
   "metadata": {
    "collapsed": true
   },
   "source": [
    "##### Reduce Phenotypes"
   ]
  },
  {
   "cell_type": "markdown",
   "metadata": {
    "collapsed": true
   },
   "source": [
    "###### @todo\n",
    "\n",
    "- [ ] match (between sheets) columns like 'alate' rather than overall sums!\n",
    "\n",
    "Greenbug:\n",
    "\n",
    "- sum of hc:greenbug_.+\n",
    "- s2:greenbug_aphid\n",
    "\n",
    "EGA:\n",
    "\n",
    "Alate:\n",
    "\n",
    "- hc:ega_alate\n",
    "- s2:ega alate\n",
    "\n",
    "All:\n",
    "\n",
    "- s2:sum all\n",
    "- hc:sum of any of [apt, alate], [grn, red], [head, leaf]"
   ]
  },
  {
   "cell_type": "markdown",
   "metadata": {
    "collapsed": true
   },
   "source": [
    "I already anticipate another problem to solve: the labels for aphids indicate multiple variations and probably multiple representations of the same aphid species count in the same `DataFrame`. For example, English grain aphids from **Head Counts** are winged & wingless, red & green, but there are also \"head\" & \"leaf\" counts. Compare that with the data labels in **Sheet2**, where there are larva & adults (instar), pre-alate & alate, red & green (wingedness not specified), wingless green & wingless with no colour specified—but no ***ega_leaf*** or ***ega_head***.\n",
    "\n",
    "I'll have to figure out which columns to combine and which to ignore. I'll begin with the presumption that ***ega_head*** & ***ega_leaf*** should produce the same total as the pairings of ***ega_apt*** & ***ega_alate*** or ***ega_red*** & ***ega_grn***. If I can make sense of those columns in **Head Counts**, I'll proceed to examine the value totals in **Sheet2** the same way.\n",
    "\n",
    "Greenbugs will be much simpler, given that I'll be cross referencing one simple column, ***greenbug_aphid*** with only two, mutually exclusive columns from the other worksheet, ***greenbug_alate*** & ***greenbug_apt***. The sum of counts for the two greenbug phenotypes of **Sheet2** should correspond fully with the solitary counterpart in **Head Counts**."
   ]
  },
  {
   "cell_type": "markdown",
   "metadata": {
    "collapsed": true
   },
   "source": [
    "###### English Grain Aphid Counts, **Head Counts**"
   ]
  },
  {
   "cell_type": "markdown",
   "metadata": {
    "collapsed": true
   },
   "source": [
    "I'm considering which columns to use, and I'm thinking of using the sum of ***ega_head*** and ***ega_leaf***.\n",
    "Given all logical pairings of EGA columns in **Head Counts**, I expect the sums to be identical amongst all three pairs for each of the sampling dates. If I add a column showing the standard deviation for each row, I should see zeros all down that column."
   ]
  },
  {
   "cell_type": "code",
   "execution_count": 0,
   "metadata": {
    "collapsed": false
   },
   "outputs": [
   ],
   "source": [
    "hc_ega_sums = pandas.concat(\n",
    "    (\n",
    "        (hc['ega_head'] + hc['ega_leaf']),\n",
    "        (hc['ega_apt'] + hc['ega_alate']),\n",
    "        (hc['ega_red'] + hc['ega_grn']),\n",
    "    ),\n",
    "    axis='columns',\n",
    "    keys=['head + leaf', 'apt + alate', 'reg + grn',],\n",
    ")\n",
    "hc_ega_sums['std'] = hc_ega_sums.std(\n",
    "    axis='columns',\n",
    ")\n",
    "\n",
    "pandas.options.display.max_rows = 10\n",
    "\n",
    "hc_ega_sums.sort_values('std', ascending=False,)"
   ]
  },
  {
   "cell_type": "markdown",
   "metadata": {
    "collapsed": true
   },
   "source": [
    "Looks like there are many invalid counts. I need to see the proportion of outliers to the entire data set:"
   ]
  },
  {
   "cell_type": "code",
   "execution_count": 0,
   "metadata": {
    "collapsed": false
   },
   "outputs": [
   ],
   "source": [
    "len(hc_ega_sums[hc_ega_sums['std'] > 0]) / len(hc_ega_sums)"
   ]
  },
  {
   "cell_type": "markdown",
   "metadata": {
    "collapsed": true
   },
   "source": [
    "Less than 20% of the counts have discrepencies. I feel it's probably safe to drop all rows with these dates as outliers."
   ]
  },
  {
   "cell_type": "markdown",
   "metadata": {
    "collapsed": true
   },
   "source": [
    "##### @todo:\n",
    "\n",
    "- [ ] drop rows with non-zero standard deviation\n",
    "- [ ] apply normalized aphid names"
   ]
  },
  {
   "cell_type": "markdown",
   "metadata": {
    "collapsed": true
   },
   "source": [
    "### Remove Unnecessary Columns"
   ]
  },
  {
   "cell_type": "markdown",
   "metadata": {
    "collapsed": true
   },
   "source": [
    "Aligning the records will be simplest if there are no extraneous columns. Ideally, I should be able to align the rows and start using the joined data set, without selecting columns. What non-aphid, non-lookup columns remain?"
   ]
  },
  {
   "cell_type": "markdown",
   "metadata": {
    "collapsed": true
   },
   "source": [
    "##### @todo:\n",
    "\n",
    "- [ ] identify remaining columns\n",
    "- [ ] drop other columns"
   ]
  },
  {
   "cell_type": "markdown",
   "metadata": {
    "collapsed": true
   },
   "source": [
    "### Compare Group Sums to Pre-existing \"Combined\""
   ]
  },
  {
   "cell_type": "markdown",
   "metadata": {
    "collapsed": true
   },
   "source": [
    "I didn't expect that the data set from **Sheet2** would have sums (presumably from groupings of ***distance(m)*** values), yet also some non-aggregated values. Normally, these wouldn't be mixed, because they represent different dimensional orders. Because this data set's dimensional order is inconsistent, there is probably redundancy in the total information available, and possibly contradictions.\n",
    "\n",
    "Any redundancy, whether contradictory or not, would affect calculation for the intended [objective], unless there's exactly one record for each space and time combination—that is to say, if there are discrete values as well as previously \"combined\" values for the same point along the index, I'll have to avoid including the pre-calculated sum when aggregating my own sums, otherwise the resulting totals will be doubled.\n",
    "\n",
    "[objective]: #Objective"
   ]
  },
  {
   "cell_type": "markdown",
   "metadata": {
    "collapsed": true
   },
   "source": [
    "I'll separate discrete and aggregated sets, then compare my sums of discrete sample values to pre-existing aggregations.\n",
    "\n",
    "Before I can compare"
   ]
  },
  {
   "cell_type": "markdown",
   "metadata": {
    "collapsed": true
   },
   "source": [
    "## Align Rows"
   ]
  },
  {
   "cell_type": "markdown",
   "metadata": {
    "collapsed": true
   },
   "source": [
    "##### @todo:\n",
    "\n",
    "- [ ] mark bad dates, drop rows when aligning rows"
   ]
  }
 ],
 "metadata": {
  "kernelspec": {
   "display_name": "Python 3 (Ubuntu Linux)",
   "language": "python",
   "name": "python3"
  },
  "language_info": {
   "codemirror_mode": {
    "name": "ipython",
    "version": 3
   },
   "file_extension": ".py",
   "mimetype": "text/x-python",
   "name": "python",
   "nbconvert_exporter": "python",
   "pygments_lexer": "ipython3",
   "version": "3.6.7"
  },
  "toc": {
   "base_numbering": 1,
   "nav_menu": {
   },
   "number_sections": true,
   "sideBar": true,
   "skip_h1_title": false,
   "title_cell": "Table of Contents",
   "title_sidebar": "Contents",
   "toc_cell": false,
   "toc_position": {
   },
   "toc_section_display": true,
   "toc_window_display": false
  }
 },
 "nbformat": 4,
 "nbformat_minor": 0
}