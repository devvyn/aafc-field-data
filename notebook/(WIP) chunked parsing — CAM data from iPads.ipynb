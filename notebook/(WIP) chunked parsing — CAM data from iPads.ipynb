{
 "cells": [
  {
   "cell_type": "code",
   "execution_count": 1,
   "metadata": {},
   "outputs": [],
   "source": [
    "# The display function isn't always imported by default in some Jupyter implementations. We'll probably use it.\n",
    "from IPython.core.display import display"
   ]
  },
  {
   "cell_type": "code",
   "execution_count": 2,
   "metadata": {},
   "outputs": [],
   "source": [
    "# The file I'm interested in parsing for cleanup:\n",
    "file_path = \"./src/real data/2017 CAM data from iPads/2017 CAM data from iPads.xlsx\""
   ]
  },
  {
   "cell_type": "code",
   "execution_count": 3,
   "metadata": {},
   "outputs": [
    {
     "data": {
      "text/plain": [
       "['2017 CAM data Erl',\n",
       " 'schema (WIP reverse engineer)',\n",
       " '2017 CAM iPad data Tyler',\n",
       " 'Combined iPad 2017 CAM data']"
      ]
     },
     "execution_count": 3,
     "metadata": {},
     "output_type": "execute_result"
    }
   ],
   "source": [
    "# pandas is really good with columnar data, like Excel files - https://pandas.pydata.org\n",
    "import pandas\n",
    "\n",
    "data_file = pandas.ExcelFile(file_path)\n",
    "data_file.sheet_names"
   ]
  },
  {
   "cell_type": "code",
   "execution_count": 4,
   "metadata": {},
   "outputs": [],
   "source": [
    "# I'm only interested in these two:\n",
    "cam_sheet_names = ['2017 CAM data Erl', '2017 CAM iPad data Tyler']\n",
    "\n",
    "# make a dictionary of dataframes from all the sheets, using the last word as the name (index -1 means last)\n",
    "sheets = {sheet_name.split(' ')[-1]: data_file.parse(sheet_name)\n",
    "          for sheet_name in cam_sheet_names}"
   ]
  },
  {
   "cell_type": "code",
   "execution_count": 5,
   "metadata": {},
   "outputs": [
    {
     "data": {
      "text/plain": [
       "['Erl', 'Tyler']"
      ]
     },
     "execution_count": 5,
     "metadata": {},
     "output_type": "execute_result"
    }
   ],
   "source": [
    "# The keys are sheet names. Let's see what we've got:\n",
    "list(sheets.keys())"
   ]
  },
  {
   "cell_type": "code",
   "execution_count": 6,
   "metadata": {},
   "outputs": [],
   "source": [
    "# defaultdict is like a regular dictionary, except it doesn't complain if you try to assign something to a key that doesn't exist yet.\n",
    "from collections import defaultdict\n",
    "\n",
    "# I don't like the horrendously long column names, but they are grouped logically, so let's take advantage of that!\n",
    "def split_column_to_dict(sheet, column, column_dictionary=None, separator='__'):\n",
    "    \"\"\" Split the column names like \"fields__oSets__oPoints__observations\" into groupings of keys\n",
    "    so that related keys are easy to find, ie columns['fields']['oSets']['oPoints']['observations'].\n",
    "    This produces a tree of column name segments, with actual pandas data at the ends.\"\"\"\n",
    "\n",
    "    # If a dictionary is provided, just update it. Otherwise, make a blank one.\n",
    "    if column_dictionary is None:\n",
    "        # nested_dict = lambda: defaultdict(nested_dict)\n",
    "        def nested_dict():\n",
    "            return defaultdict(nested_dict)\n",
    "        column_dictionary = nested_dict()\n",
    "\n",
    "    # Set a pointer to the root of the tree\n",
    "    pointer = column_dictionary\n",
    "    for segment in str(column).split(separator):\n",
    "        # Just update the pointer to the deeper location in the tree. The defaultdict will make the new nodes automatically, if needed. \n",
    "        pointer = pointer[segment]\n",
    "    # To avoid naming conflicts with pandas magic attributes (such as \"number\"), the actual data is in a node with a \n",
    "    # name that can't possibly be a segment in the column name: the separator ('__') \n",
    "    pointer[separator] = sheet[column]\n",
    "\n",
    "    # Since `pointer` was actually just pointing to parts of the column dictionary,\n",
    "    #  it's been updated and is ready for output.\n",
    "    return column_dictionary\n"
   ]
  },
  {
   "cell_type": "code",
   "execution_count": 7,
   "metadata": {
    "scrolled": true
   },
   "outputs": [],
   "source": [
    "# Now, make a dictionary of column trees, grouped by sheet name.\n",
    "column_dictionary = {}\n",
    "separator = '__'\n",
    "for sheet_name, sheet in sheets.items():\n",
    "    # Build a new nested column dictionary for this sheet\n",
    "    new_dict = None\n",
    "    for column in sheet.columns:\n",
    "        new_dict = split_column_to_dict(sheet, column, new_dict, separator)\n",
    "    # Turn off the defaultdict behaviour of creating a key instead of throwinng an exception\n",
    "    new_dict.default_factory = None\n",
    "    column_dictionary[sheet_name] = new_dict\n"
   ]
  },
  {
   "cell_type": "code",
   "execution_count": 8,
   "metadata": {},
   "outputs": [
    {
     "data": {
      "text/plain": [
       "2"
      ]
     },
     "execution_count": 8,
     "metadata": {},
     "output_type": "execute_result"
    }
   ],
   "source": [
    "len(_)  # How many 'oSets' sections of the file are there, based on the length of that list we just output?"
   ]
  },
  {
   "cell_type": "code",
   "execution_count": 9,
   "metadata": {},
   "outputs": [
    {
     "data": {
      "text/plain": [
       "dict_keys(['Erl', 'Tyler'])"
      ]
     },
     "execution_count": 9,
     "metadata": {},
     "output_type": "execute_result"
    }
   ],
   "source": [
    "column_dictionary.keys()"
   ]
  },
  {
   "cell_type": "markdown",
   "metadata": {},
   "source": [
    "There should be a list of the first segments of all the column names in that sheet:"
   ]
  },
  {
   "cell_type": "code",
   "execution_count": 10,
   "metadata": {},
   "outputs": [
    {
     "data": {
      "text/plain": [
       "dict_keys(['fields', 'clients', 'observers'])"
      ]
     },
     "execution_count": 10,
     "metadata": {},
     "output_type": "execute_result"
    }
   ],
   "source": [
    "column_dictionary['Erl'].keys()"
   ]
  },
  {
   "cell_type": "markdown",
   "metadata": {},
   "source": [
    "Continuing deeper, more segments that share a common prefix:"
   ]
  },
  {
   "cell_type": "code",
   "execution_count": 11,
   "metadata": {},
   "outputs": [
    {
     "data": {
      "text/plain": [
       "dict_keys(['client', 'name', 'crop', 'desc', 'image', 'date', 'oSets'])"
      ]
     },
     "execution_count": 11,
     "metadata": {},
     "output_type": "execute_result"
    }
   ],
   "source": [
    "column_dictionary['Erl']['fields'].keys()"
   ]
  },
  {
   "cell_type": "code",
   "execution_count": 12,
   "metadata": {},
   "outputs": [
    {
     "data": {
      "text/plain": [
       "dict_keys(['date', 'dateCompare', 'growthStage Zadoks', 'desc', 'obsName', 'totalSets', 'completeSets', 'results', 'oPoints', 'totalA1', 'totalA2', 'totalA3', 'totalA4'])"
      ]
     },
     "execution_count": 12,
     "metadata": {},
     "output_type": "execute_result"
    }
   ],
   "source": [
    "column_dictionary['Erl']['fields']['oSets'].keys()"
   ]
  },
  {
   "cell_type": "markdown",
   "metadata": {},
   "source": [
    "At the bottom of the tree should be a '\\_\\_' key for the actual data. We can drop all the blanks and see which rows remain for the column here (`fields__oSets__date`):"
   ]
  },
  {
   "cell_type": "code",
   "execution_count": 13,
   "metadata": {},
   "outputs": [
    {
     "data": {
      "text/plain": [
       "[0, 70, 140, 210, 350, 490, 560, 700, 840]"
      ]
     },
     "execution_count": 13,
     "metadata": {},
     "output_type": "execute_result"
    }
   ],
   "source": [
    "list(column_dictionary['Erl']['fields']['oSets']['date'][separator].dropna().index)"
   ]
  },
  {
   "cell_type": "code",
   "execution_count": 14,
   "metadata": {},
   "outputs": [
    {
     "data": {
      "text/plain": [
       "9"
      ]
     },
     "execution_count": 14,
     "metadata": {},
     "output_type": "execute_result"
    }
   ],
   "source": [
    "len(_)  # How many 'oSets' sections of the file are there, based on the length of that list we just output?"
   ]
  },
  {
   "cell_type": "markdown",
   "metadata": {},
   "source": [
    "Good to know. What about the other file?"
   ]
  },
  {
   "cell_type": "code",
   "execution_count": 15,
   "metadata": {},
   "outputs": [
    {
     "data": {
      "text/plain": [
       "45"
      ]
     },
     "execution_count": 15,
     "metadata": {},
     "output_type": "execute_result"
    }
   ],
   "source": [
    "len(column_dictionary['Tyler']['fields']['oSets']['date'][separator].dropna())"
   ]
  },
  {
   "cell_type": "markdown",
   "metadata": {},
   "source": [
    "So, 54 sets of observations we'll be processing."
   ]
  },
  {
   "cell_type": "markdown",
   "metadata": {},
   "source": [
    "### Helper functions, for peeking into the data"
   ]
  },
  {
   "cell_type": "code",
   "execution_count": 16,
   "metadata": {},
   "outputs": [],
   "source": [
    "def has_children(node):\n",
    "    \"\"\" We know an item has children if it has at least one key that isn't just the separator that marks actual data. \"\"\"\n",
    "    return {parent_key: child for parent_key, child in node.items() if len([key for key in child.keys() if key != separator]) > 0}\n",
    "\n",
    "\n",
    "def has_data(node):\n",
    "    \"\"\" We know a child item has data if it has a key that's the separator string that marks actual data. \"\"\"\n",
    "    return {parent_key: child for (parent_key, child) in node.items() if separator in child.keys()}"
   ]
  },
  {
   "cell_type": "code",
   "execution_count": 17,
   "metadata": {},
   "outputs": [
    {
     "data": {
      "text/plain": [
       "dict_keys(['a1', 'a2', 'a3', '|'])"
      ]
     },
     "metadata": {},
     "output_type": "display_data"
    },
    {
     "data": {
      "text/plain": [
       "dict_keys(['id', 'name', 'enum', 'eVnum', 'anum', 'disabled', 'complete', '|'])"
      ]
     },
     "metadata": {},
     "output_type": "display_data"
    }
   ],
   "source": [
    "example_node = column_dictionary[sheet_name]['fields']['oSets']['oPoints']['observations']\n",
    "display(has_children(example_node).keys())\n",
    "display(has_data(example_node).keys())"
   ]
  },
  {
   "cell_type": "code",
   "execution_count": 18,
   "metadata": {},
   "outputs": [
    {
     "data": {
      "text/plain": [
       "{'|'}"
      ]
     },
     "execution_count": 18,
     "metadata": {},
     "output_type": "execute_result"
    }
   ],
   "source": [
    "# Set of keys for nodes that that have children but also data:\n",
    "set(has_children(example_node).keys()) & set(has_data(example_node).keys())"
   ]
  },
  {
   "cell_type": "markdown",
   "metadata": {},
   "source": [
    "## Concatenating dataframes made from sheets"
   ]
  },
  {
   "cell_type": "markdown",
   "metadata": {},
   "source": [
    "_pandas_ has a [`concat`] method for tacking one dataframe onto another. It also has [`append`] and [`merge`].\n",
    "\n",
    "[`concat`]: https://pandas.pydata.org/pandas-docs/stable/merging.html\n",
    "[`append`]: https://pandas.pydata.org/pandas-docs/stable/merging.html#concatenating-using-append\n",
    "[`merge`]: https://pandas.pydata.org/pandas-docs/stable/merging.html#database-style-dataframe-joining-merging\n",
    "\n",
    "It looks like `concat` will suffice, here, as long as the column names are identical. At the moment, they are not. Let's see how close that gets us, though:"
   ]
  },
  {
   "cell_type": "code",
   "execution_count": 19,
   "metadata": {},
   "outputs": [
    {
     "data": {
      "text/plain": [
       "['clients__company',\n",
       " 'clients__displayText',\n",
       " 'clients__fname',\n",
       " 'clients__lname',\n",
       " 'clients__name',\n",
       " 'fields__client__company',\n",
       " 'fields__client__displayText',\n",
       " 'fields__client__fname',\n",
       " 'fields__client__lname',\n",
       " 'fields__client__name',\n",
       " 'fields__crop',\n",
       " 'fields__date',\n",
       " 'fields__desc',\n",
       " 'fields__image',\n",
       " 'fields__name',\n",
       " 'fields__oSets__completeSets',\n",
       " 'fields__oSets__date',\n",
       " 'fields__oSets__dateCompare',\n",
       " 'fields__oSets__desc',\n",
       " 'fields__oSets__growthStage',\n",
       " 'fields__oSets__growthStage Zadoks',\n",
       " 'fields__oSets__oPoints__id',\n",
       " 'fields__oSets__oPoints__location__coords__accuracy',\n",
       " 'fields__oSets__oPoints__location__coords__altitude',\n",
       " 'fields__oSets__oPoints__location__coords__altitudeAccuracy',\n",
       " 'fields__oSets__oPoints__location__coords__heading',\n",
       " 'fields__oSets__oPoints__location__coords__latitude',\n",
       " 'fields__oSets__oPoints__location__coords__longitude',\n",
       " 'fields__oSets__oPoints__location__coords__speed',\n",
       " 'fields__oSets__oPoints__location__timestamp',\n",
       " 'fields__oSets__oPoints__name',\n",
       " 'fields__oSets__oPoints__observations__a1__number',\n",
       " 'fields__oSets__oPoints__observations__a1__number EGA',\n",
       " 'fields__oSets__oPoints__observations__a2__number',\n",
       " 'fields__oSets__oPoints__observations__a2__number BCO',\n",
       " 'fields__oSets__oPoints__observations__a3__number',\n",
       " 'fields__oSets__oPoints__observations__a3__number Greenbug',\n",
       " 'fields__oSets__oPoints__observations__anum',\n",
       " 'fields__oSets__oPoints__observations__anum TotalAPhids',\n",
       " 'fields__oSets__oPoints__observations__complete',\n",
       " 'fields__oSets__oPoints__observations__disabled',\n",
       " 'fields__oSets__oPoints__observations__eVnum',\n",
       " 'fields__oSets__oPoints__observations__eVnum Natural enemy totals',\n",
       " 'fields__oSets__oPoints__observations__enum',\n",
       " 'fields__oSets__oPoints__observations__id',\n",
       " 'fields__oSets__oPoints__observations__name',\n",
       " 'fields__oSets__oPoints__observations__|',\n",
       " 'fields__oSets__oPoints__observations__|__number',\n",
       " 'fields__oSets__obsName',\n",
       " 'fields__oSets__results',\n",
       " 'fields__oSets__totalA1',\n",
       " 'fields__oSets__totalA2',\n",
       " 'fields__oSets__totalA3',\n",
       " 'fields__oSets__totalA4',\n",
       " 'fields__oSets__totalSets',\n",
       " 'observers']"
      ]
     },
     "execution_count": 19,
     "metadata": {},
     "output_type": "execute_result"
    }
   ],
   "source": [
    "experimental_concat_results = pandas.concat(sheets, ignore_index=True)\n",
    "sorted(experimental_concat_results.columns)"
   ]
  },
  {
   "cell_type": "code",
   "execution_count": 20,
   "metadata": {},
   "outputs": [
    {
     "data": {
      "text/plain": [
       "4690"
      ]
     },
     "execution_count": 20,
     "metadata": {},
     "output_type": "execute_result"
    }
   ],
   "source": [
    "sum(len(sheet) for sheet in sheets.values())"
   ]
  },
  {
   "cell_type": "code",
   "execution_count": 21,
   "metadata": {},
   "outputs": [
    {
     "data": {
      "text/plain": [
       "4690"
      ]
     },
     "execution_count": 21,
     "metadata": {},
     "output_type": "execute_result"
    }
   ],
   "source": [
    "len(experimental_concat_results)"
   ]
  },
  {
   "cell_type": "markdown",
   "metadata": {},
   "source": [
    "Pretty good, so far. The length is correct, and the columns line up, except for those duplicates having slightly different names."
   ]
  },
  {
   "cell_type": "markdown",
   "metadata": {},
   "source": [
    "## Preparing to concatenate multiple sheets"
   ]
  },
  {
   "cell_type": "markdown",
   "metadata": {},
   "source": [
    "Let's take a look at the columns containing data about observation sets:"
   ]
  },
  {
   "cell_type": "code",
   "execution_count": 22,
   "metadata": {},
   "outputs": [
    {
     "data": {
      "text/html": [
       "<div>\n",
       "<style scoped>\n",
       "    .dataframe tbody tr th:only-of-type {\n",
       "        vertical-align: middle;\n",
       "    }\n",
       "\n",
       "    .dataframe tbody tr th {\n",
       "        vertical-align: top;\n",
       "    }\n",
       "\n",
       "    .dataframe thead th {\n",
       "        text-align: right;\n",
       "    }\n",
       "</style>\n",
       "<table border=\"1\" class=\"dataframe\">\n",
       "  <thead>\n",
       "    <tr style=\"text-align: right;\">\n",
       "      <th></th>\n",
       "      <th>fields__oSets__date</th>\n",
       "      <th>fields__oSets__dateCompare</th>\n",
       "      <th>fields__oSets__growthStage Zadoks</th>\n",
       "      <th>fields__oSets__desc</th>\n",
       "      <th>fields__oSets__obsName</th>\n",
       "      <th>fields__oSets__totalSets</th>\n",
       "      <th>fields__oSets__completeSets</th>\n",
       "      <th>fields__oSets__results</th>\n",
       "      <th>fields__oSets__totalA1</th>\n",
       "      <th>fields__oSets__totalA2</th>\n",
       "      <th>fields__oSets__totalA3</th>\n",
       "      <th>fields__oSets__totalA4</th>\n",
       "    </tr>\n",
       "  </thead>\n",
       "  <tbody>\n",
       "    <tr>\n",
       "      <th>0</th>\n",
       "      <td>2017-08-02T13:12:09.542</td>\n",
       "      <td>2017-08-02</td>\n",
       "      <td>7.0</td>\n",
       "      <td>NaN</td>\n",
       "      <td>Tyler</td>\n",
       "      <td>1.0</td>\n",
       "      <td>0.0</td>\n",
       "      <td>NaN</td>\n",
       "      <td>NaN</td>\n",
       "      <td>NaN</td>\n",
       "      <td>NaN</td>\n",
       "      <td>NaN</td>\n",
       "    </tr>\n",
       "    <tr>\n",
       "      <th>70</th>\n",
       "      <td>2017-08-09T09:25:11.710</td>\n",
       "      <td>2017-08-09</td>\n",
       "      <td>8.0</td>\n",
       "      <td>NaN</td>\n",
       "      <td>Tyler</td>\n",
       "      <td>1.0</td>\n",
       "      <td>1.0</td>\n",
       "      <td>RESULTS.5</td>\n",
       "      <td>164.0</td>\n",
       "      <td>0.0</td>\n",
       "      <td>0.0</td>\n",
       "      <td>0.0</td>\n",
       "    </tr>\n",
       "    <tr>\n",
       "      <th>140</th>\n",
       "      <td>2017-08-09T10:06:25.480</td>\n",
       "      <td>2017-08-09</td>\n",
       "      <td>7.0</td>\n",
       "      <td>NaN</td>\n",
       "      <td>Tyler</td>\n",
       "      <td>1.0</td>\n",
       "      <td>1.0</td>\n",
       "      <td>RESULTS.5</td>\n",
       "      <td>66.0</td>\n",
       "      <td>0.0</td>\n",
       "      <td>0.0</td>\n",
       "      <td>0.0</td>\n",
       "    </tr>\n",
       "  </tbody>\n",
       "</table>\n",
       "</div>"
      ],
      "text/plain": [
       "         fields__oSets__date fields__oSets__dateCompare  \\\n",
       "0    2017-08-02T13:12:09.542                 2017-08-02   \n",
       "70   2017-08-09T09:25:11.710                 2017-08-09   \n",
       "140  2017-08-09T10:06:25.480                 2017-08-09   \n",
       "\n",
       "     fields__oSets__growthStage Zadoks  fields__oSets__desc  \\\n",
       "0                                  7.0                  NaN   \n",
       "70                                 8.0                  NaN   \n",
       "140                                7.0                  NaN   \n",
       "\n",
       "    fields__oSets__obsName  fields__oSets__totalSets  \\\n",
       "0                    Tyler                       1.0   \n",
       "70                   Tyler                       1.0   \n",
       "140                  Tyler                       1.0   \n",
       "\n",
       "     fields__oSets__completeSets fields__oSets__results  \\\n",
       "0                            0.0                    NaN   \n",
       "70                           1.0              RESULTS.5   \n",
       "140                          1.0              RESULTS.5   \n",
       "\n",
       "     fields__oSets__totalA1  fields__oSets__totalA2  fields__oSets__totalA3  \\\n",
       "0                       NaN                     NaN                     NaN   \n",
       "70                    164.0                     0.0                     0.0   \n",
       "140                    66.0                     0.0                     0.0   \n",
       "\n",
       "     fields__oSets__totalA4  \n",
       "0                       NaN  \n",
       "70                      0.0  \n",
       "140                     0.0  "
      ]
     },
     "metadata": {},
     "output_type": "display_data"
    },
    {
     "data": {
      "text/html": [
       "<div>\n",
       "<style scoped>\n",
       "    .dataframe tbody tr th:only-of-type {\n",
       "        vertical-align: middle;\n",
       "    }\n",
       "\n",
       "    .dataframe tbody tr th {\n",
       "        vertical-align: top;\n",
       "    }\n",
       "\n",
       "    .dataframe thead th {\n",
       "        text-align: right;\n",
       "    }\n",
       "</style>\n",
       "<table border=\"1\" class=\"dataframe\">\n",
       "  <thead>\n",
       "    <tr style=\"text-align: right;\">\n",
       "      <th></th>\n",
       "      <th>fields__oSets__date</th>\n",
       "      <th>fields__oSets__dateCompare</th>\n",
       "      <th>fields__oSets__growthStage</th>\n",
       "      <th>fields__oSets__desc</th>\n",
       "      <th>fields__oSets__obsName</th>\n",
       "      <th>fields__oSets__totalSets</th>\n",
       "      <th>fields__oSets__completeSets</th>\n",
       "      <th>fields__oSets__results</th>\n",
       "      <th>fields__oSets__totalA1</th>\n",
       "      <th>fields__oSets__totalA2</th>\n",
       "      <th>fields__oSets__totalA3</th>\n",
       "      <th>fields__oSets__totalA4</th>\n",
       "    </tr>\n",
       "  </thead>\n",
       "  <tbody>\n",
       "    <tr>\n",
       "      <th>0</th>\n",
       "      <td>2017-07-14T12:31:24.194</td>\n",
       "      <td>2017-07-14</td>\n",
       "      <td>6.0</td>\n",
       "      <td>NaN</td>\n",
       "      <td>Tyler</td>\n",
       "      <td>1.0</td>\n",
       "      <td>0.0</td>\n",
       "      <td>NaN</td>\n",
       "      <td>NaN</td>\n",
       "      <td>NaN</td>\n",
       "      <td>NaN</td>\n",
       "      <td>NaN</td>\n",
       "    </tr>\n",
       "    <tr>\n",
       "      <th>70</th>\n",
       "      <td>2017-07-18T10:31:22.263</td>\n",
       "      <td>2017-07-18</td>\n",
       "      <td>6.0</td>\n",
       "      <td>NaN</td>\n",
       "      <td>Tyler</td>\n",
       "      <td>1.0</td>\n",
       "      <td>1.0</td>\n",
       "      <td>RESULTS.5</td>\n",
       "      <td>8.0</td>\n",
       "      <td>0.0</td>\n",
       "      <td>0.0</td>\n",
       "      <td>0.0</td>\n",
       "    </tr>\n",
       "    <tr>\n",
       "      <th>140</th>\n",
       "      <td>2017-07-28T13:05:44.673</td>\n",
       "      <td>2017-07-28</td>\n",
       "      <td>8.0</td>\n",
       "      <td>NaN</td>\n",
       "      <td>Mikki</td>\n",
       "      <td>1.0</td>\n",
       "      <td>1.0</td>\n",
       "      <td>RESULTS.5</td>\n",
       "      <td>37.0</td>\n",
       "      <td>0.0</td>\n",
       "      <td>0.0</td>\n",
       "      <td>0.0</td>\n",
       "    </tr>\n",
       "  </tbody>\n",
       "</table>\n",
       "</div>"
      ],
      "text/plain": [
       "         fields__oSets__date fields__oSets__dateCompare  \\\n",
       "0    2017-07-14T12:31:24.194                 2017-07-14   \n",
       "70   2017-07-18T10:31:22.263                 2017-07-18   \n",
       "140  2017-07-28T13:05:44.673                 2017-07-28   \n",
       "\n",
       "     fields__oSets__growthStage  fields__oSets__desc fields__oSets__obsName  \\\n",
       "0                           6.0                  NaN                  Tyler   \n",
       "70                          6.0                  NaN                  Tyler   \n",
       "140                         8.0                  NaN                  Mikki   \n",
       "\n",
       "     fields__oSets__totalSets  fields__oSets__completeSets  \\\n",
       "0                         1.0                          0.0   \n",
       "70                        1.0                          1.0   \n",
       "140                       1.0                          1.0   \n",
       "\n",
       "    fields__oSets__results  fields__oSets__totalA1  fields__oSets__totalA2  \\\n",
       "0                      NaN                     NaN                     NaN   \n",
       "70               RESULTS.5                     8.0                     0.0   \n",
       "140              RESULTS.5                    37.0                     0.0   \n",
       "\n",
       "     fields__oSets__totalA3  fields__oSets__totalA4  \n",
       "0                       NaN                     NaN  \n",
       "70                      0.0                     0.0  \n",
       "140                     0.0                     0.0  "
      ]
     },
     "metadata": {},
     "output_type": "display_data"
    }
   ],
   "source": [
    "for sheet_name in column_dictionary.keys():\n",
    "    node_sets = column_dictionary[sheet_name]['fields']['oSets']\n",
    "    key_column = node_sets['date'][separator]\n",
    "    columns = [child[separator].name for parent_key, child in has_data(node_sets).items()]\n",
    "    display(sheets[sheet_name].loc[key_column.isna() != True, columns].head(3))"
   ]
  },
  {
   "cell_type": "markdown",
   "metadata": {},
   "source": [
    "Some column names seem to differ. Quick comparison of column names, showing differences:"
   ]
  },
  {
   "cell_type": "code",
   "execution_count": 23,
   "metadata": {},
   "outputs": [
    {
     "data": {
      "text/plain": [
       "dict_keys(['Erl', 'Tyler'])"
      ]
     },
     "metadata": {},
     "output_type": "display_data"
    },
    {
     "data": {
      "text/plain": [
       "{'fields__oSets__growthStage Zadoks',\n",
       " 'fields__oSets__oPoints__observations__a1__number EGA',\n",
       " 'fields__oSets__oPoints__observations__a2__number BCO',\n",
       " 'fields__oSets__oPoints__observations__a3__number Greenbug',\n",
       " 'fields__oSets__oPoints__observations__anum TotalAPhids',\n",
       " 'fields__oSets__oPoints__observations__eVnum Natural enemy totals'}"
      ]
     },
     "metadata": {},
     "output_type": "display_data"
    }
   ],
   "source": [
    "display(sheets.keys(),\n",
    "        set.difference(*[set(sheet.columns) for sheet in sheets.values()]))"
   ]
  },
  {
   "cell_type": "code",
   "execution_count": 24,
   "metadata": {},
   "outputs": [],
   "source": [
    "# This time we want columns from all sheets that don't have a match (symmetrical difference).\n",
    "column_list = sorted(set.symmetric_difference(*[set(sheet.columns) for sheet in sheets.values()]))"
   ]
  },
  {
   "cell_type": "code",
   "execution_count": 25,
   "metadata": {},
   "outputs": [
    {
     "data": {
      "text/html": [
       "<div>\n",
       "<style scoped>\n",
       "    .dataframe tbody tr th:only-of-type {\n",
       "        vertical-align: middle;\n",
       "    }\n",
       "\n",
       "    .dataframe tbody tr th {\n",
       "        vertical-align: top;\n",
       "    }\n",
       "\n",
       "    .dataframe thead th {\n",
       "        text-align: right;\n",
       "    }\n",
       "</style>\n",
       "<table border=\"1\" class=\"dataframe\">\n",
       "  <thead>\n",
       "    <tr style=\"text-align: right;\">\n",
       "      <th></th>\n",
       "      <th>0</th>\n",
       "      <th>1</th>\n",
       "    </tr>\n",
       "  </thead>\n",
       "  <tbody>\n",
       "    <tr>\n",
       "      <th>0</th>\n",
       "      <td>fields__oSets__growthStage</td>\n",
       "      <td>fields__oSets__growthStage Zadoks</td>\n",
       "    </tr>\n",
       "    <tr>\n",
       "      <th>1</th>\n",
       "      <td>fields__oSets__oPoints__observations__a1__number</td>\n",
       "      <td>fields__oSets__oPoints__observations__a1__number EGA</td>\n",
       "    </tr>\n",
       "    <tr>\n",
       "      <th>2</th>\n",
       "      <td>fields__oSets__oPoints__observations__a2__number</td>\n",
       "      <td>fields__oSets__oPoints__observations__a2__number BCO</td>\n",
       "    </tr>\n",
       "    <tr>\n",
       "      <th>3</th>\n",
       "      <td>fields__oSets__oPoints__observations__a3__number</td>\n",
       "      <td>fields__oSets__oPoints__observations__a3__number Greenbug</td>\n",
       "    </tr>\n",
       "    <tr>\n",
       "      <th>4</th>\n",
       "      <td>fields__oSets__oPoints__observations__anum</td>\n",
       "      <td>fields__oSets__oPoints__observations__anum TotalAPhids</td>\n",
       "    </tr>\n",
       "    <tr>\n",
       "      <th>5</th>\n",
       "      <td>fields__oSets__oPoints__observations__eVnum</td>\n",
       "      <td>fields__oSets__oPoints__observations__eVnum Natural enemy totals</td>\n",
       "    </tr>\n",
       "  </tbody>\n",
       "</table>\n",
       "</div>"
      ],
      "text/plain": [
       "                                                  0  \\\n",
       "0  fields__oSets__growthStage                         \n",
       "1  fields__oSets__oPoints__observations__a1__number   \n",
       "2  fields__oSets__oPoints__observations__a2__number   \n",
       "3  fields__oSets__oPoints__observations__a3__number   \n",
       "4  fields__oSets__oPoints__observations__anum         \n",
       "5  fields__oSets__oPoints__observations__eVnum        \n",
       "\n",
       "                                                                  1  \n",
       "0  fields__oSets__growthStage Zadoks                                 \n",
       "1  fields__oSets__oPoints__observations__a1__number EGA              \n",
       "2  fields__oSets__oPoints__observations__a2__number BCO              \n",
       "3  fields__oSets__oPoints__observations__a3__number Greenbug         \n",
       "4  fields__oSets__oPoints__observations__anum TotalAPhids            \n",
       "5  fields__oSets__oPoints__observations__eVnum Natural enemy totals  "
      ]
     },
     "execution_count": 25,
     "metadata": {},
     "output_type": "execute_result"
    }
   ],
   "source": [
    "# Display entire column, even if cell data is long\n",
    "pandas.set_option('display.max_colwidth', 0)\n",
    "\n",
    "# Show the differing column names side-by-side\n",
    "pandas.DataFrame([*zip(*[iter(column_list)] * 2)])"
   ]
  },
  {
   "cell_type": "markdown",
   "metadata": {},
   "source": [
    "When we concatenate, we'll have to use the names from the first sheet, since it's more regular. Which sheet is that? Which sheet has '`fields__oSets__growthStage Zadoks`' instead of '`fields__oSets__growthStage`'?"
   ]
  },
  {
   "cell_type": "code",
   "execution_count": 26,
   "metadata": {},
   "outputs": [
    {
     "data": {
      "text/plain": [
       "'Bad:'"
      ]
     },
     "metadata": {},
     "output_type": "display_data"
    },
    {
     "data": {
      "text/plain": [
       "{'Erl'}"
      ]
     },
     "metadata": {},
     "output_type": "display_data"
    }
   ],
   "source": [
    "# \n",
    "sheets_with_bad_column_names = {sheet_name: sheet for sheet_name, sheet in sheets.items() if 'fields__oSets__growthStage Zadoks' in sheet.columns}\n",
    "display('Bad:',\n",
    "        set(sheets_with_bad_column_names.keys()))"
   ]
  },
  {
   "cell_type": "code",
   "execution_count": 27,
   "metadata": {},
   "outputs": [
    {
     "data": {
      "text/plain": [
       "'Good:'"
      ]
     },
     "metadata": {},
     "output_type": "display_data"
    },
    {
     "data": {
      "text/plain": [
       "{'Tyler'}"
      ]
     },
     "metadata": {},
     "output_type": "display_data"
    }
   ],
   "source": [
    "display('Good:',\n",
    "        set(sheets.keys()) - set(sheets_with_bad_column_names.keys()))"
   ]
  },
  {
   "cell_type": "markdown",
   "metadata": {},
   "source": [
    "Okay, 'Tyler' has the column names we prefer, 'Erl' does not. Duly noted."
   ]
  },
  {
   "cell_type": "markdown",
   "metadata": {},
   "source": [
    "How shall we solve the name mismatch? We can either remap the names during the merge, or rename the columns beforehand. After reviewing documentation, I think it seems better to rename the bad columns beforehand."
   ]
  },
  {
   "cell_type": "markdown",
   "metadata": {},
   "source": [
    "### Renaming columns"
   ]
  },
  {
   "cell_type": "markdown",
   "metadata": {},
   "source": [
    "_pandas_ has a [`rename`] method which lets us apply a transform function to the columns (or explicitly map each column through a dictionary).\n",
    "\n",
    "[`rename`]: https://pandas.pydata.org/pandas-docs/stable/generated/pandas.DataFrame.rename.html\n",
    "\n",
    "Since the bad names contain suffixes beginning with a space character, let's just ignore anything after and including the first space character in a colmun name."
   ]
  },
  {
   "cell_type": "code",
   "execution_count": 28,
   "metadata": {},
   "outputs": [],
   "source": [
    "def first_word(column_name, word_separator=' '):\n",
    "    \"\"\" Split string into words (by space character), return first word. \"\"\"\n",
    "    return column_name.split(word_separator)[0]  # [0] means first item in list"
   ]
  },
  {
   "cell_type": "code",
   "execution_count": 29,
   "metadata": {},
   "outputs": [
    {
     "data": {
      "text/html": [
       "<h2>Erl</h2><ol><li style='font-weight: normal'>fields__client__company &rarr; fields__client__company</li><li style='font-weight: normal'>fields__client__name &rarr; fields__client__name</li><li style='font-weight: normal'>fields__client__fname &rarr; fields__client__fname</li><li style='font-weight: normal'>fields__client__lname &rarr; fields__client__lname</li><li style='font-weight: normal'>fields__client__displayText &rarr; fields__client__displayText</li><li style='font-weight: normal'>fields__name &rarr; fields__name</li><li style='font-weight: normal'>fields__crop &rarr; fields__crop</li><li style='font-weight: normal'>fields__desc &rarr; fields__desc</li><li style='font-weight: normal'>fields__image &rarr; fields__image</li><li style='font-weight: normal'>fields__date &rarr; fields__date</li><li style='font-weight: normal'>fields__oSets__date &rarr; fields__oSets__date</li><li style='font-weight: normal'>fields__oSets__dateCompare &rarr; fields__oSets__dateCompare</li><li style='font-weight: bold'>fields__oSets__growthStage Zadoks &rarr; fields__oSets__growthStage</li><li style='font-weight: normal'>fields__oSets__desc &rarr; fields__oSets__desc</li><li style='font-weight: normal'>fields__oSets__obsName &rarr; fields__oSets__obsName</li><li style='font-weight: normal'>fields__oSets__totalSets &rarr; fields__oSets__totalSets</li><li style='font-weight: normal'>fields__oSets__completeSets &rarr; fields__oSets__completeSets</li><li style='font-weight: normal'>fields__oSets__results &rarr; fields__oSets__results</li><li style='font-weight: normal'>fields__oSets__oPoints__id &rarr; fields__oSets__oPoints__id</li><li style='font-weight: normal'>fields__oSets__oPoints__name &rarr; fields__oSets__oPoints__name</li><li style='font-weight: normal'>fields__oSets__oPoints__observations__id &rarr; fields__oSets__oPoints__observations__id</li><li style='font-weight: normal'>fields__oSets__oPoints__observations__name &rarr; fields__oSets__oPoints__observations__name</li><li style='font-weight: normal'>fields__oSets__oPoints__observations__enum &rarr; fields__oSets__oPoints__observations__enum</li><li style='font-weight: bold'>fields__oSets__oPoints__observations__eVnum Natural enemy totals &rarr; fields__oSets__oPoints__observations__eVnum</li><li style='font-weight: bold'>fields__oSets__oPoints__observations__anum TotalAPhids &rarr; fields__oSets__oPoints__observations__anum</li><li style='font-weight: bold'>fields__oSets__oPoints__observations__a1__number EGA &rarr; fields__oSets__oPoints__observations__a1__number</li><li style='font-weight: bold'>fields__oSets__oPoints__observations__a2__number BCO &rarr; fields__oSets__oPoints__observations__a2__number</li><li style='font-weight: bold'>fields__oSets__oPoints__observations__a3__number Greenbug &rarr; fields__oSets__oPoints__observations__a3__number</li><li style='font-weight: normal'>fields__oSets__oPoints__observations__disabled &rarr; fields__oSets__oPoints__observations__disabled</li><li style='font-weight: normal'>fields__oSets__oPoints__observations__complete &rarr; fields__oSets__oPoints__observations__complete</li><li style='font-weight: normal'>fields__oSets__oPoints__observations__| &rarr; fields__oSets__oPoints__observations__|</li><li style='font-weight: normal'>fields__oSets__oPoints__observations__|__number &rarr; fields__oSets__oPoints__observations__|__number</li><li style='font-weight: normal'>fields__oSets__oPoints__location__coords__latitude &rarr; fields__oSets__oPoints__location__coords__latitude</li><li style='font-weight: normal'>fields__oSets__oPoints__location__coords__longitude &rarr; fields__oSets__oPoints__location__coords__longitude</li><li style='font-weight: normal'>fields__oSets__oPoints__location__coords__accuracy &rarr; fields__oSets__oPoints__location__coords__accuracy</li><li style='font-weight: normal'>fields__oSets__oPoints__location__coords__altitude &rarr; fields__oSets__oPoints__location__coords__altitude</li><li style='font-weight: normal'>fields__oSets__oPoints__location__coords__heading &rarr; fields__oSets__oPoints__location__coords__heading</li><li style='font-weight: normal'>fields__oSets__oPoints__location__coords__speed &rarr; fields__oSets__oPoints__location__coords__speed</li><li style='font-weight: normal'>fields__oSets__oPoints__location__coords__altitudeAccuracy &rarr; fields__oSets__oPoints__location__coords__altitudeAccuracy</li><li style='font-weight: normal'>fields__oSets__oPoints__location__timestamp &rarr; fields__oSets__oPoints__location__timestamp</li><li style='font-weight: normal'>fields__oSets__totalA1 &rarr; fields__oSets__totalA1</li><li style='font-weight: normal'>fields__oSets__totalA2 &rarr; fields__oSets__totalA2</li><li style='font-weight: normal'>fields__oSets__totalA3 &rarr; fields__oSets__totalA3</li><li style='font-weight: normal'>fields__oSets__totalA4 &rarr; fields__oSets__totalA4</li><li style='font-weight: normal'>clients__company &rarr; clients__company</li><li style='font-weight: normal'>clients__name &rarr; clients__name</li><li style='font-weight: normal'>clients__fname &rarr; clients__fname</li><li style='font-weight: normal'>clients__lname &rarr; clients__lname</li><li style='font-weight: normal'>clients__displayText &rarr; clients__displayText</li><li style='font-weight: normal'>observers &rarr; observers</li></ol>"
      ],
      "text/plain": [
       "<IPython.core.display.HTML object>"
      ]
     },
     "metadata": {},
     "output_type": "display_data"
    }
   ],
   "source": [
    "from IPython.display import HTML\n",
    "\n",
    "report = []  # start a list of strings to display after renaming\n",
    "for sheet_name, sheet in sheets_with_bad_column_names.items():\n",
    "    report.append(f\"<h2>{sheet_name}</h2>\")  # heading\n",
    "    report.append('<ol>')  # start an ordered list\n",
    "    for column_name in sheet.columns:\n",
    "        after = first_word(column_name)\n",
    "        boldness = 'bold' if after != column_name else 'normal'\n",
    "        report.append(f\"<li style='font-weight: {boldness}'>{column_name} &rarr; {after}</li>\")\n",
    "    report.append('</ol>')  # close the list\n",
    "    sheet.rename(mapper=first_word, axis='columns', inplace=True)\n",
    "display(HTML(''.join(report)))  # join all the strings together and display as HTML"
   ]
  },
  {
   "cell_type": "code",
   "execution_count": null,
   "metadata": {},
   "outputs": [],
   "source": [
    "\n"
   ]
  }
 ],
 "metadata": {
  "kernelspec": {
   "display_name": "Python 3",
   "language": "python",
   "name": "python3"
  },
  "language_info": {
   "codemirror_mode": {
    "name": "ipython",
    "version": 3
   },
   "file_extension": ".py",
   "mimetype": "text/x-python",
   "name": "python",
   "nbconvert_exporter": "python",
   "pygments_lexer": "ipython3",
   "version": "3.6.4"
  }
 },
 "nbformat": 4,
 "nbformat_minor": 2
}
