{
 "cells": [
  {
   "cell_type": "code",
   "execution_count": 1,
   "metadata": {},
   "outputs": [
    {
     "data": {
      "text/html": [
       "src/real data/2017 CAM data from iPads/<br>\n",
       "&nbsp;&nbsp;<a href='src/real data/2017 CAM data from iPads/2017 CAM data from iPads - Devvyn.xlsx' target='_blank'>2017 CAM data from iPads - Devvyn.xlsx</a><br>\n",
       "&nbsp;&nbsp;<a href='src/real data/2017 CAM data from iPads/input_ Combined Erl_ Tyler Query.xlsx' target='_blank'>input_ Combined Erl_ Tyler Query.xlsx</a><br>\n",
       "&nbsp;&nbsp;<a href='src/real data/2017 CAM data from iPads/2017 CAM data from iPads.xlsx' target='_blank'>2017 CAM data from iPads.xlsx</a><br>"
      ],
      "text/plain": [
       "src/real data/2017 CAM data from iPads/\n",
       "  2017 CAM data from iPads - Devvyn.xlsx\n",
       "  input_ Combined Erl_ Tyler Query.xlsx\n",
       "  2017 CAM data from iPads.xlsx"
      ]
     },
     "execution_count": 1,
     "metadata": {},
     "output_type": "execute_result"
    }
   ],
   "source": [
    "from IPython.display import FileLink, FileLinks\n",
    "\n",
    "data_path = 'src/real data/2017 CAM data from iPads'\n",
    "FileLinks(data_path)"
   ]
  },
  {
   "cell_type": "code",
   "execution_count": 2,
   "metadata": {},
   "outputs": [],
   "source": [
    "filename = \"2017 CAM data from iPads.xlsx\""
   ]
  },
  {
   "cell_type": "code",
   "execution_count": 3,
   "metadata": {},
   "outputs": [],
   "source": [
    "import pandas\n",
    "from pathlib import PurePath\n",
    "\n",
    "data_file = pandas.ExcelFile(PurePath(data_path, filename))\n",
    "sheets = {sheet_name:data_file.parse(sheet_name) for sheet_name in data_file.sheet_names}"
   ]
  },
  {
   "cell_type": "code",
   "execution_count": 4,
   "metadata": {},
   "outputs": [
    {
     "data": {
      "text/plain": [
       "['2017 CAM data Erl',\n",
       " 'schema (WIP reverse engineer)',\n",
       " '2017 CAM iPad data Tyler',\n",
       " 'Combined iPad 2017 CAM data']"
      ]
     },
     "metadata": {},
     "output_type": "display_data"
    }
   ],
   "source": [
    "display(list(sheets))"
   ]
  },
  {
   "cell_type": "code",
   "execution_count": 5,
   "metadata": {},
   "outputs": [],
   "source": [
    "from collections import defaultdict\n",
    "import json\n",
    "\n"
   ]
  },
  {
   "cell_type": "code",
   "execution_count": 12,
   "metadata": {
    "scrolled": true
   },
   "outputs": [
    {
     "data": {
      "text/plain": [
       "'2017 CAM iPad data Tyler'"
      ]
     },
     "metadata": {},
     "output_type": "display_data"
    },
    {
     "data": {
      "text/plain": [
       "'fields__oSets__oPoints__observations__|'"
      ]
     },
     "metadata": {},
     "output_type": "display_data"
    },
    {
     "data": {
      "text/plain": [
       "'fields'"
      ]
     },
     "metadata": {},
     "output_type": "display_data"
    },
    {
     "data": {
      "text/plain": [
       "defaultdict(<function __main__.split_column_to_dict.<locals>.<lambda>>, {})"
      ]
     },
     "metadata": {},
     "output_type": "display_data"
    },
    {
     "data": {
      "text/plain": [
       "'oSets'"
      ]
     },
     "metadata": {},
     "output_type": "display_data"
    },
    {
     "data": {
      "text/plain": [
       "defaultdict(<function __main__.split_column_to_dict.<locals>.<lambda>>,\n",
       "            {'fields': defaultdict(<function __main__.split_column_to_dict.<locals>.<lambda>>,\n",
       "                         {})})"
      ]
     },
     "metadata": {},
     "output_type": "display_data"
    },
    {
     "data": {
      "text/plain": [
       "'oPoints'"
      ]
     },
     "metadata": {},
     "output_type": "display_data"
    },
    {
     "data": {
      "text/plain": [
       "defaultdict(<function __main__.split_column_to_dict.<locals>.<lambda>>,\n",
       "            {'oSets': defaultdict(<function __main__.split_column_to_dict.<locals>.<lambda>>,\n",
       "                         {})})"
      ]
     },
     "metadata": {},
     "output_type": "display_data"
    },
    {
     "data": {
      "text/plain": [
       "'observations'"
      ]
     },
     "metadata": {},
     "output_type": "display_data"
    },
    {
     "data": {
      "text/plain": [
       "defaultdict(<function __main__.split_column_to_dict.<locals>.<lambda>>,\n",
       "            {'oPoints': defaultdict(<function __main__.split_column_to_dict.<locals>.<lambda>>,\n",
       "                         {})})"
      ]
     },
     "metadata": {},
     "output_type": "display_data"
    },
    {
     "data": {
      "text/plain": [
       "'|'"
      ]
     },
     "metadata": {},
     "output_type": "display_data"
    },
    {
     "data": {
      "text/plain": [
       "defaultdict(<function __main__.split_column_to_dict.<locals>.<lambda>>,\n",
       "            {'observations': defaultdict(<function __main__.split_column_to_dict.<locals>.<lambda>>,\n",
       "                         {})})"
      ]
     },
     "metadata": {},
     "output_type": "display_data"
    },
    {
     "data": {
      "text/plain": [
       "'fields__oSets__oPoints__observations__|__number'"
      ]
     },
     "metadata": {},
     "output_type": "display_data"
    },
    {
     "data": {
      "text/plain": [
       "'fields'"
      ]
     },
     "metadata": {},
     "output_type": "display_data"
    },
    {
     "data": {
      "text/plain": [
       "defaultdict(<function __main__.split_column_to_dict.<locals>.<lambda>>,\n",
       "            {'fields': defaultdict(<function __main__.split_column_to_dict.<locals>.<lambda>>,\n",
       "                         {'oSets': defaultdict(<function __main__.split_column_to_dict.<locals>.<lambda>>,\n",
       "                                      {'oPoints': defaultdict(<function __main__.split_column_to_dict.<locals>.<lambda>>,\n",
       "                                                   {'observations': defaultdict(<function __main__.split_column_to_dict.<locals>.<lambda>>,\n",
       "                                                                {'|': 0       NaN\n",
       "                                                                 1       NaN\n",
       "                                                                 2       NaN\n",
       "                                                                 3       NaN\n",
       "                                                                 4       NaN\n",
       "                                                                 5        e1\n",
       "                                                                 6        e2\n",
       "                                                                 7        e3\n",
       "                                                                 8        e4\n",
       "                                                                 9        e5\n",
       "                                                                 10       e6\n",
       "                                                                 11       e7\n",
       "                                                                 12       e8\n",
       "                                                                 13       e9\n",
       "                                                                 14      NaN\n",
       "                                                                 15      NaN\n",
       "                                                                 16      NaN\n",
       "                                                                 17      NaN\n",
       "                                                                 18      NaN\n",
       "                                                                 19       e1\n",
       "                                                                 20       e2\n",
       "                                                                 21       e3\n",
       "                                                                 22       e4\n",
       "                                                                 23       e5\n",
       "                                                                 24       e6\n",
       "                                                                 25       e7\n",
       "                                                                 26       e8\n",
       "                                                                 27       e9\n",
       "                                                                 28      NaN\n",
       "                                                                 29      NaN\n",
       "                                                                        ... \n",
       "                                                                 3750     e8\n",
       "                                                                 3751     e9\n",
       "                                                                 3752    NaN\n",
       "                                                                 3753    NaN\n",
       "                                                                 3754    NaN\n",
       "                                                                 3755    NaN\n",
       "                                                                 3756    NaN\n",
       "                                                                 3757     e1\n",
       "                                                                 3758     e2\n",
       "                                                                 3759     e3\n",
       "                                                                 3760     e4\n",
       "                                                                 3761     e5\n",
       "                                                                 3762     e6\n",
       "                                                                 3763     e7\n",
       "                                                                 3764     e8\n",
       "                                                                 3765     e9\n",
       "                                                                 3766    NaN\n",
       "                                                                 3767    NaN\n",
       "                                                                 3768    NaN\n",
       "                                                                 3769    NaN\n",
       "                                                                 3770    NaN\n",
       "                                                                 3771     e1\n",
       "                                                                 3772     e2\n",
       "                                                                 3773     e3\n",
       "                                                                 3774     e4\n",
       "                                                                 3775     e5\n",
       "                                                                 3776     e6\n",
       "                                                                 3777     e7\n",
       "                                                                 3778     e8\n",
       "                                                                 3779     e9\n",
       "                                                                 Name: fields__oSets__oPoints__observations__|, Length: 3780, dtype: object})})})})})"
      ]
     },
     "metadata": {},
     "output_type": "display_data"
    },
    {
     "data": {
      "text/plain": [
       "'oSets'"
      ]
     },
     "metadata": {},
     "output_type": "display_data"
    },
    {
     "data": {
      "text/plain": [
       "defaultdict(<function __main__.split_column_to_dict.<locals>.<lambda>>,\n",
       "            {'fields': defaultdict(<function __main__.split_column_to_dict.<locals>.<lambda>>,\n",
       "                         {'oSets': defaultdict(<function __main__.split_column_to_dict.<locals>.<lambda>>,\n",
       "                                      {'oPoints': defaultdict(<function __main__.split_column_to_dict.<locals>.<lambda>>,\n",
       "                                                   {'observations': defaultdict(<function __main__.split_column_to_dict.<locals>.<lambda>>,\n",
       "                                                                {'|': 0       NaN\n",
       "                                                                 1       NaN\n",
       "                                                                 2       NaN\n",
       "                                                                 3       NaN\n",
       "                                                                 4       NaN\n",
       "                                                                 5        e1\n",
       "                                                                 6        e2\n",
       "                                                                 7        e3\n",
       "                                                                 8        e4\n",
       "                                                                 9        e5\n",
       "                                                                 10       e6\n",
       "                                                                 11       e7\n",
       "                                                                 12       e8\n",
       "                                                                 13       e9\n",
       "                                                                 14      NaN\n",
       "                                                                 15      NaN\n",
       "                                                                 16      NaN\n",
       "                                                                 17      NaN\n",
       "                                                                 18      NaN\n",
       "                                                                 19       e1\n",
       "                                                                 20       e2\n",
       "                                                                 21       e3\n",
       "                                                                 22       e4\n",
       "                                                                 23       e5\n",
       "                                                                 24       e6\n",
       "                                                                 25       e7\n",
       "                                                                 26       e8\n",
       "                                                                 27       e9\n",
       "                                                                 28      NaN\n",
       "                                                                 29      NaN\n",
       "                                                                        ... \n",
       "                                                                 3750     e8\n",
       "                                                                 3751     e9\n",
       "                                                                 3752    NaN\n",
       "                                                                 3753    NaN\n",
       "                                                                 3754    NaN\n",
       "                                                                 3755    NaN\n",
       "                                                                 3756    NaN\n",
       "                                                                 3757     e1\n",
       "                                                                 3758     e2\n",
       "                                                                 3759     e3\n",
       "                                                                 3760     e4\n",
       "                                                                 3761     e5\n",
       "                                                                 3762     e6\n",
       "                                                                 3763     e7\n",
       "                                                                 3764     e8\n",
       "                                                                 3765     e9\n",
       "                                                                 3766    NaN\n",
       "                                                                 3767    NaN\n",
       "                                                                 3768    NaN\n",
       "                                                                 3769    NaN\n",
       "                                                                 3770    NaN\n",
       "                                                                 3771     e1\n",
       "                                                                 3772     e2\n",
       "                                                                 3773     e3\n",
       "                                                                 3774     e4\n",
       "                                                                 3775     e5\n",
       "                                                                 3776     e6\n",
       "                                                                 3777     e7\n",
       "                                                                 3778     e8\n",
       "                                                                 3779     e9\n",
       "                                                                 Name: fields__oSets__oPoints__observations__|, Length: 3780, dtype: object})})})})})"
      ]
     },
     "metadata": {},
     "output_type": "display_data"
    },
    {
     "data": {
      "text/plain": [
       "'oPoints'"
      ]
     },
     "metadata": {},
     "output_type": "display_data"
    },
    {
     "data": {
      "text/plain": [
       "defaultdict(<function __main__.split_column_to_dict.<locals>.<lambda>>,\n",
       "            {'oSets': defaultdict(<function __main__.split_column_to_dict.<locals>.<lambda>>,\n",
       "                         {'oPoints': defaultdict(<function __main__.split_column_to_dict.<locals>.<lambda>>,\n",
       "                                      {'observations': defaultdict(<function __main__.split_column_to_dict.<locals>.<lambda>>,\n",
       "                                                   {'|': 0       NaN\n",
       "                                                    1       NaN\n",
       "                                                    2       NaN\n",
       "                                                    3       NaN\n",
       "                                                    4       NaN\n",
       "                                                    5        e1\n",
       "                                                    6        e2\n",
       "                                                    7        e3\n",
       "                                                    8        e4\n",
       "                                                    9        e5\n",
       "                                                    10       e6\n",
       "                                                    11       e7\n",
       "                                                    12       e8\n",
       "                                                    13       e9\n",
       "                                                    14      NaN\n",
       "                                                    15      NaN\n",
       "                                                    16      NaN\n",
       "                                                    17      NaN\n",
       "                                                    18      NaN\n",
       "                                                    19       e1\n",
       "                                                    20       e2\n",
       "                                                    21       e3\n",
       "                                                    22       e4\n",
       "                                                    23       e5\n",
       "                                                    24       e6\n",
       "                                                    25       e7\n",
       "                                                    26       e8\n",
       "                                                    27       e9\n",
       "                                                    28      NaN\n",
       "                                                    29      NaN\n",
       "                                                           ... \n",
       "                                                    3750     e8\n",
       "                                                    3751     e9\n",
       "                                                    3752    NaN\n",
       "                                                    3753    NaN\n",
       "                                                    3754    NaN\n",
       "                                                    3755    NaN\n",
       "                                                    3756    NaN\n",
       "                                                    3757     e1\n",
       "                                                    3758     e2\n",
       "                                                    3759     e3\n",
       "                                                    3760     e4\n",
       "                                                    3761     e5\n",
       "                                                    3762     e6\n",
       "                                                    3763     e7\n",
       "                                                    3764     e8\n",
       "                                                    3765     e9\n",
       "                                                    3766    NaN\n",
       "                                                    3767    NaN\n",
       "                                                    3768    NaN\n",
       "                                                    3769    NaN\n",
       "                                                    3770    NaN\n",
       "                                                    3771     e1\n",
       "                                                    3772     e2\n",
       "                                                    3773     e3\n",
       "                                                    3774     e4\n",
       "                                                    3775     e5\n",
       "                                                    3776     e6\n",
       "                                                    3777     e7\n",
       "                                                    3778     e8\n",
       "                                                    3779     e9\n",
       "                                                    Name: fields__oSets__oPoints__observations__|, Length: 3780, dtype: object})})})})"
      ]
     },
     "metadata": {},
     "output_type": "display_data"
    },
    {
     "data": {
      "text/plain": [
       "'observations'"
      ]
     },
     "metadata": {},
     "output_type": "display_data"
    },
    {
     "data": {
      "text/plain": [
       "defaultdict(<function __main__.split_column_to_dict.<locals>.<lambda>>,\n",
       "            {'oPoints': defaultdict(<function __main__.split_column_to_dict.<locals>.<lambda>>,\n",
       "                         {'observations': defaultdict(<function __main__.split_column_to_dict.<locals>.<lambda>>,\n",
       "                                      {'|': 0       NaN\n",
       "                                       1       NaN\n",
       "                                       2       NaN\n",
       "                                       3       NaN\n",
       "                                       4       NaN\n",
       "                                       5        e1\n",
       "                                       6        e2\n",
       "                                       7        e3\n",
       "                                       8        e4\n",
       "                                       9        e5\n",
       "                                       10       e6\n",
       "                                       11       e7\n",
       "                                       12       e8\n",
       "                                       13       e9\n",
       "                                       14      NaN\n",
       "                                       15      NaN\n",
       "                                       16      NaN\n",
       "                                       17      NaN\n",
       "                                       18      NaN\n",
       "                                       19       e1\n",
       "                                       20       e2\n",
       "                                       21       e3\n",
       "                                       22       e4\n",
       "                                       23       e5\n",
       "                                       24       e6\n",
       "                                       25       e7\n",
       "                                       26       e8\n",
       "                                       27       e9\n",
       "                                       28      NaN\n",
       "                                       29      NaN\n",
       "                                              ... \n",
       "                                       3750     e8\n",
       "                                       3751     e9\n",
       "                                       3752    NaN\n",
       "                                       3753    NaN\n",
       "                                       3754    NaN\n",
       "                                       3755    NaN\n",
       "                                       3756    NaN\n",
       "                                       3757     e1\n",
       "                                       3758     e2\n",
       "                                       3759     e3\n",
       "                                       3760     e4\n",
       "                                       3761     e5\n",
       "                                       3762     e6\n",
       "                                       3763     e7\n",
       "                                       3764     e8\n",
       "                                       3765     e9\n",
       "                                       3766    NaN\n",
       "                                       3767    NaN\n",
       "                                       3768    NaN\n",
       "                                       3769    NaN\n",
       "                                       3770    NaN\n",
       "                                       3771     e1\n",
       "                                       3772     e2\n",
       "                                       3773     e3\n",
       "                                       3774     e4\n",
       "                                       3775     e5\n",
       "                                       3776     e6\n",
       "                                       3777     e7\n",
       "                                       3778     e8\n",
       "                                       3779     e9\n",
       "                                       Name: fields__oSets__oPoints__observations__|, Length: 3780, dtype: object})})})"
      ]
     },
     "metadata": {},
     "output_type": "display_data"
    },
    {
     "data": {
      "text/plain": [
       "'|'"
      ]
     },
     "metadata": {},
     "output_type": "display_data"
    },
    {
     "data": {
      "text/plain": [
       "defaultdict(<function __main__.split_column_to_dict.<locals>.<lambda>>,\n",
       "            {'observations': defaultdict(<function __main__.split_column_to_dict.<locals>.<lambda>>,\n",
       "                         {'|': 0       NaN\n",
       "                          1       NaN\n",
       "                          2       NaN\n",
       "                          3       NaN\n",
       "                          4       NaN\n",
       "                          5        e1\n",
       "                          6        e2\n",
       "                          7        e3\n",
       "                          8        e4\n",
       "                          9        e5\n",
       "                          10       e6\n",
       "                          11       e7\n",
       "                          12       e8\n",
       "                          13       e9\n",
       "                          14      NaN\n",
       "                          15      NaN\n",
       "                          16      NaN\n",
       "                          17      NaN\n",
       "                          18      NaN\n",
       "                          19       e1\n",
       "                          20       e2\n",
       "                          21       e3\n",
       "                          22       e4\n",
       "                          23       e5\n",
       "                          24       e6\n",
       "                          25       e7\n",
       "                          26       e8\n",
       "                          27       e9\n",
       "                          28      NaN\n",
       "                          29      NaN\n",
       "                                 ... \n",
       "                          3750     e8\n",
       "                          3751     e9\n",
       "                          3752    NaN\n",
       "                          3753    NaN\n",
       "                          3754    NaN\n",
       "                          3755    NaN\n",
       "                          3756    NaN\n",
       "                          3757     e1\n",
       "                          3758     e2\n",
       "                          3759     e3\n",
       "                          3760     e4\n",
       "                          3761     e5\n",
       "                          3762     e6\n",
       "                          3763     e7\n",
       "                          3764     e8\n",
       "                          3765     e9\n",
       "                          3766    NaN\n",
       "                          3767    NaN\n",
       "                          3768    NaN\n",
       "                          3769    NaN\n",
       "                          3770    NaN\n",
       "                          3771     e1\n",
       "                          3772     e2\n",
       "                          3773     e3\n",
       "                          3774     e4\n",
       "                          3775     e5\n",
       "                          3776     e6\n",
       "                          3777     e7\n",
       "                          3778     e8\n",
       "                          3779     e9\n",
       "                          Name: fields__oSets__oPoints__observations__|, Length: 3780, dtype: object})})"
      ]
     },
     "metadata": {},
     "output_type": "display_data"
    },
    {
     "data": {
      "text/plain": [
       "'number'"
      ]
     },
     "metadata": {},
     "output_type": "display_data"
    },
    {
     "data": {
      "text/plain": [
       "defaultdict(<function __main__.split_column_to_dict.<locals>.<lambda>>,\n",
       "            {'|': 0       NaN\n",
       "             1       NaN\n",
       "             2       NaN\n",
       "             3       NaN\n",
       "             4       NaN\n",
       "             5        e1\n",
       "             6        e2\n",
       "             7        e3\n",
       "             8        e4\n",
       "             9        e5\n",
       "             10       e6\n",
       "             11       e7\n",
       "             12       e8\n",
       "             13       e9\n",
       "             14      NaN\n",
       "             15      NaN\n",
       "             16      NaN\n",
       "             17      NaN\n",
       "             18      NaN\n",
       "             19       e1\n",
       "             20       e2\n",
       "             21       e3\n",
       "             22       e4\n",
       "             23       e5\n",
       "             24       e6\n",
       "             25       e7\n",
       "             26       e8\n",
       "             27       e9\n",
       "             28      NaN\n",
       "             29      NaN\n",
       "                    ... \n",
       "             3750     e8\n",
       "             3751     e9\n",
       "             3752    NaN\n",
       "             3753    NaN\n",
       "             3754    NaN\n",
       "             3755    NaN\n",
       "             3756    NaN\n",
       "             3757     e1\n",
       "             3758     e2\n",
       "             3759     e3\n",
       "             3760     e4\n",
       "             3761     e5\n",
       "             3762     e6\n",
       "             3763     e7\n",
       "             3764     e8\n",
       "             3765     e9\n",
       "             3766    NaN\n",
       "             3767    NaN\n",
       "             3768    NaN\n",
       "             3769    NaN\n",
       "             3770    NaN\n",
       "             3771     e1\n",
       "             3772     e2\n",
       "             3773     e3\n",
       "             3774     e4\n",
       "             3775     e5\n",
       "             3776     e6\n",
       "             3777     e7\n",
       "             3778     e8\n",
       "             3779     e9\n",
       "             Name: fields__oSets__oPoints__observations__|, Length: 3780, dtype: object})"
      ]
     },
     "metadata": {},
     "output_type": "display_data"
    },
    {
     "ename": "KeyError",
     "evalue": "'number'",
     "output_type": "error",
     "traceback": [
      "\u001b[0;31m---------------------------------------------------------------------------\u001b[0m",
      "\u001b[0;31mTypeError\u001b[0m                                 Traceback (most recent call last)",
      "\u001b[0;32mpandas/_libs/index.pyx\u001b[0m in \u001b[0;36mpandas._libs.index.IndexEngine.get_loc\u001b[0;34m()\u001b[0m\n",
      "\u001b[0;32mpandas/_libs/hashtable_class_helper.pxi\u001b[0m in \u001b[0;36mpandas._libs.hashtable.Int64HashTable.get_item\u001b[0;34m()\u001b[0m\n",
      "\u001b[0;31mTypeError\u001b[0m: an integer is required",
      "\nDuring handling of the above exception, another exception occurred:\n",
      "\u001b[0;31mKeyError\u001b[0m                                  Traceback (most recent call last)",
      "\u001b[0;32m<ipython-input-12-15ca8c70c87e>\u001b[0m in \u001b[0;36m<module>\u001b[0;34m()\u001b[0m\n\u001b[1;32m     17\u001b[0m     \u001b[0;32mfor\u001b[0m \u001b[0mcolumn\u001b[0m \u001b[0;32min\u001b[0m \u001b[0msheet\u001b[0m\u001b[0;34m.\u001b[0m\u001b[0mcolumns\u001b[0m\u001b[0;34m[\u001b[0m\u001b[0;34m-\u001b[0m\u001b[0;36m8\u001b[0m\u001b[0;34m:\u001b[0m\u001b[0;34m-\u001b[0m\u001b[0;36m6\u001b[0m\u001b[0;34m]\u001b[0m\u001b[0;34m:\u001b[0m\u001b[0;34m\u001b[0m\u001b[0m\n\u001b[1;32m     18\u001b[0m         \u001b[0mdisplay\u001b[0m\u001b[0;34m(\u001b[0m\u001b[0mstr\u001b[0m\u001b[0;34m(\u001b[0m\u001b[0mcolumn\u001b[0m\u001b[0;34m)\u001b[0m\u001b[0;34m)\u001b[0m\u001b[0;34m\u001b[0m\u001b[0m\n\u001b[0;32m---> 19\u001b[0;31m         \u001b[0mcoldic\u001b[0m\u001b[0;34m,\u001b[0m \u001b[0mendpoint\u001b[0m \u001b[0;34m=\u001b[0m \u001b[0msplit_column_to_dict\u001b[0m\u001b[0;34m(\u001b[0m\u001b[0msheet\u001b[0m\u001b[0;34m,\u001b[0m \u001b[0mcolumn\u001b[0m\u001b[0;34m,\u001b[0m \u001b[0mcoldic\u001b[0m\u001b[0;34m)\u001b[0m\u001b[0;34m\u001b[0m\u001b[0m\n\u001b[0m\u001b[1;32m     20\u001b[0m         \u001b[0;31m#display(endpoint.dropna()[:10])\u001b[0m\u001b[0;34m\u001b[0m\u001b[0;34m\u001b[0m\u001b[0m\n\u001b[1;32m     21\u001b[0m     \u001b[0mcolumn_dictionary\u001b[0m\u001b[0;34m[\u001b[0m\u001b[0msheet_name\u001b[0m\u001b[0;34m]\u001b[0m \u001b[0;34m=\u001b[0m \u001b[0mcoldic\u001b[0m\u001b[0;34m\u001b[0m\u001b[0m\n",
      "\u001b[0;32m<ipython-input-12-15ca8c70c87e>\u001b[0m in \u001b[0;36msplit_column_to_dict\u001b[0;34m(sheet, column, coldic, separator)\u001b[0m\n\u001b[1;32m      7\u001b[0m         \u001b[0mdisplay\u001b[0m\u001b[0;34m(\u001b[0m\u001b[0msegment\u001b[0m\u001b[0;34m,\u001b[0m \u001b[0mcolpointer_previous\u001b[0m\u001b[0;34m)\u001b[0m\u001b[0;34m\u001b[0m\u001b[0m\n\u001b[1;32m      8\u001b[0m         \u001b[0mcolpointer_previous\u001b[0m \u001b[0;34m=\u001b[0m \u001b[0mcolpointer\u001b[0m\u001b[0;34m\u001b[0m\u001b[0m\n\u001b[0;32m----> 9\u001b[0;31m         \u001b[0mcolpointer\u001b[0m \u001b[0;34m=\u001b[0m \u001b[0mcolpointer\u001b[0m\u001b[0;34m[\u001b[0m\u001b[0msegment\u001b[0m\u001b[0;34m]\u001b[0m\u001b[0;34m\u001b[0m\u001b[0m\n\u001b[0m\u001b[1;32m     10\u001b[0m     \u001b[0mendpoint\u001b[0m \u001b[0;34m=\u001b[0m \u001b[0mcolpointer_previous\u001b[0m\u001b[0;34m[\u001b[0m\u001b[0msegment\u001b[0m\u001b[0;34m]\u001b[0m \u001b[0;34m=\u001b[0m \u001b[0msheet\u001b[0m\u001b[0;34m[\u001b[0m\u001b[0mcolumn\u001b[0m\u001b[0;34m]\u001b[0m\u001b[0;34m\u001b[0m\u001b[0m\n\u001b[1;32m     11\u001b[0m     \u001b[0;32mreturn\u001b[0m \u001b[0mcoldic\u001b[0m\u001b[0;34m,\u001b[0m \u001b[0mendpoint\u001b[0m\u001b[0;34m\u001b[0m\u001b[0m\n",
      "\u001b[0;32m/srv/conda/lib/python3.6/site-packages/pandas/core/series.py\u001b[0m in \u001b[0;36m__getitem__\u001b[0;34m(self, key)\u001b[0m\n\u001b[1;32m    621\u001b[0m         \u001b[0mkey\u001b[0m \u001b[0;34m=\u001b[0m \u001b[0mcom\u001b[0m\u001b[0;34m.\u001b[0m\u001b[0m_apply_if_callable\u001b[0m\u001b[0;34m(\u001b[0m\u001b[0mkey\u001b[0m\u001b[0;34m,\u001b[0m \u001b[0mself\u001b[0m\u001b[0;34m)\u001b[0m\u001b[0;34m\u001b[0m\u001b[0m\n\u001b[1;32m    622\u001b[0m         \u001b[0;32mtry\u001b[0m\u001b[0;34m:\u001b[0m\u001b[0;34m\u001b[0m\u001b[0m\n\u001b[0;32m--> 623\u001b[0;31m             \u001b[0mresult\u001b[0m \u001b[0;34m=\u001b[0m \u001b[0mself\u001b[0m\u001b[0;34m.\u001b[0m\u001b[0mindex\u001b[0m\u001b[0;34m.\u001b[0m\u001b[0mget_value\u001b[0m\u001b[0;34m(\u001b[0m\u001b[0mself\u001b[0m\u001b[0;34m,\u001b[0m \u001b[0mkey\u001b[0m\u001b[0;34m)\u001b[0m\u001b[0;34m\u001b[0m\u001b[0m\n\u001b[0m\u001b[1;32m    624\u001b[0m \u001b[0;34m\u001b[0m\u001b[0m\n\u001b[1;32m    625\u001b[0m             \u001b[0;32mif\u001b[0m \u001b[0;32mnot\u001b[0m \u001b[0mis_scalar\u001b[0m\u001b[0;34m(\u001b[0m\u001b[0mresult\u001b[0m\u001b[0;34m)\u001b[0m\u001b[0;34m:\u001b[0m\u001b[0;34m\u001b[0m\u001b[0m\n",
      "\u001b[0;32m/srv/conda/lib/python3.6/site-packages/pandas/core/indexes/base.py\u001b[0m in \u001b[0;36mget_value\u001b[0;34m(self, series, key)\u001b[0m\n\u001b[1;32m   2558\u001b[0m         \u001b[0;32mtry\u001b[0m\u001b[0;34m:\u001b[0m\u001b[0;34m\u001b[0m\u001b[0m\n\u001b[1;32m   2559\u001b[0m             return self._engine.get_value(s, k,\n\u001b[0;32m-> 2560\u001b[0;31m                                           tz=getattr(series.dtype, 'tz', None))\n\u001b[0m\u001b[1;32m   2561\u001b[0m         \u001b[0;32mexcept\u001b[0m \u001b[0mKeyError\u001b[0m \u001b[0;32mas\u001b[0m \u001b[0me1\u001b[0m\u001b[0;34m:\u001b[0m\u001b[0;34m\u001b[0m\u001b[0m\n\u001b[1;32m   2562\u001b[0m             \u001b[0;32mif\u001b[0m \u001b[0mlen\u001b[0m\u001b[0;34m(\u001b[0m\u001b[0mself\u001b[0m\u001b[0;34m)\u001b[0m \u001b[0;34m>\u001b[0m \u001b[0;36m0\u001b[0m \u001b[0;32mand\u001b[0m \u001b[0mself\u001b[0m\u001b[0;34m.\u001b[0m\u001b[0minferred_type\u001b[0m \u001b[0;32min\u001b[0m \u001b[0;34m[\u001b[0m\u001b[0;34m'integer'\u001b[0m\u001b[0;34m,\u001b[0m \u001b[0;34m'boolean'\u001b[0m\u001b[0;34m]\u001b[0m\u001b[0;34m:\u001b[0m\u001b[0;34m\u001b[0m\u001b[0m\n",
      "\u001b[0;32mpandas/_libs/index.pyx\u001b[0m in \u001b[0;36mpandas._libs.index.IndexEngine.get_value\u001b[0;34m()\u001b[0m\n",
      "\u001b[0;32mpandas/_libs/index.pyx\u001b[0m in \u001b[0;36mpandas._libs.index.IndexEngine.get_value\u001b[0;34m()\u001b[0m\n",
      "\u001b[0;32mpandas/_libs/index.pyx\u001b[0m in \u001b[0;36mpandas._libs.index.IndexEngine.get_loc\u001b[0;34m()\u001b[0m\n",
      "\u001b[0;31mKeyError\u001b[0m: 'number'"
     ]
    }
   ],
   "source": [
    "def split_column_to_dict(sheet, column, coldic=None, separator='__'):\n",
    "    if coldic is None:\n",
    "        nested_dict = lambda: defaultdict(nested_dict)\n",
    "        coldic = nested_dict()\n",
    "    colpointer_previous = colpointer = coldic\n",
    "    for segment in str(column).split(separator):\n",
    "        display(segment, colpointer_previous)\n",
    "        colpointer_previous = colpointer\n",
    "        colpointer = colpointer[segment]\n",
    "    endpoint = colpointer_previous[segment] = sheet[column]  # fixme! conflicts with pandas if attribute name collides\n",
    "    return coldic, endpoint\n",
    "\n",
    "column_dictionary = dict()\n",
    "for sheet_name, sheet in list(sheets.items())[2:3]:\n",
    "    display(sheet_name)\n",
    "    coldic = None\n",
    "    for column in sheet.columns[-8:-6]:\n",
    "        display(str(column))\n",
    "        coldic, endpoint = split_column_to_dict(sheet, column, coldic)\n",
    "        #display(endpoint.dropna()[:10])\n",
    "    column_dictionary[sheet_name] = coldic\n"
   ]
  },
  {
   "cell_type": "code",
   "execution_count": null,
   "metadata": {},
   "outputs": [],
   "source": []
  },
  {
   "cell_type": "code",
   "execution_count": null,
   "metadata": {},
   "outputs": [],
   "source": [
    "sheet = sheets['2017 CAM iPad data Tyler']\n",
    "coldic, data = split_column_to_dict(sheet, sheet.columns[20])\n",
    "coldic, data = split_column_to_dict(sheet, sheet.columns[21], coldic)\n"
   ]
  },
  {
   "cell_type": "code",
   "execution_count": null,
   "metadata": {},
   "outputs": [],
   "source": [
    "coldic['fields']['oSets']['oPoints']['observations'].keys()"
   ]
  },
  {
   "cell_type": "code",
   "execution_count": null,
   "metadata": {},
   "outputs": [],
   "source": [
    "coldic, data = split_column_to_dict(sheet, sheet.columns[22], coldic)"
   ]
  },
  {
   "cell_type": "code",
   "execution_count": null,
   "metadata": {},
   "outputs": [],
   "source": []
  }
 ],
 "metadata": {
  "kernelspec": {
   "display_name": "Python 3",
   "language": "python",
   "name": "python3"
  },
  "language_info": {
   "codemirror_mode": {
    "name": "ipython",
    "version": 3
   },
   "file_extension": ".py",
   "mimetype": "text/x-python",
   "name": "python",
   "nbconvert_exporter": "python",
   "pygments_lexer": "ipython3",
   "version": "3.6.4"
  }
 },
 "nbformat": 4,
 "nbformat_minor": 2
}
