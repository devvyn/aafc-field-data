{
 "cells": [
  {
   "cell_type": "markdown",
   "metadata": {
    "slideshow": {
     "slide_type": "skip"
    },
    "toc": true
   },
   "source": [
    "<h1>Table of Contents<span class=\"tocSkip\"></span></h1>\n",
    "<div class=\"toc\"><ul class=\"toc-item\"><li><span><a href=\"#Document-Source\" data-toc-modified-id=\"Document-Source-1\"><span class=\"toc-item-num\">1&nbsp;&nbsp;</span>Document Source</a></span></li><li><span><a href=\"#Objectives\" data-toc-modified-id=\"Objectives-2\"><span class=\"toc-item-num\">2&nbsp;&nbsp;</span>Objectives</a></span></li><li><span><a href=\"#Tools-&amp;-Concepts\" data-toc-modified-id=\"Tools-&amp;-Concepts-3\"><span class=\"toc-item-num\">3&nbsp;&nbsp;</span>Tools &amp; Concepts</a></span><ul class=\"toc-item\"><li><span><a href=\"#Jupyter-Notebook\" data-toc-modified-id=\"Jupyter-Notebook-3.1\"><span class=\"toc-item-num\">3.1&nbsp;&nbsp;</span>Jupyter Notebook</a></span><ul class=\"toc-item\"><li><span><a href=\"#What-is-Jupyter-Notebook?\" data-toc-modified-id=\"What-is-Jupyter-Notebook?-3.1.1\"><span class=\"toc-item-num\">3.1.1&nbsp;&nbsp;</span>What is Jupyter Notebook?</a></span></li><li><span><a href=\"#Setup\" data-toc-modified-id=\"Setup-3.1.2\"><span class=\"toc-item-num\">3.1.2&nbsp;&nbsp;</span>Setup</a></span><ul class=\"toc-item\"><li><span><a href=\"#Displaying-results-in-the-notebook\" data-toc-modified-id=\"Displaying-results-in-the-notebook-3.1.2.1\"><span class=\"toc-item-num\">3.1.2.1&nbsp;&nbsp;</span>Displaying results in the notebook</a></span></li><li><span><a href=\"#DIY-Helpers\" data-toc-modified-id=\"DIY-Helpers-3.1.2.2\"><span class=\"toc-item-num\">3.1.2.2&nbsp;&nbsp;</span>DIY Helpers</a></span></li><li><span><a href=\"#Reading-Excel-files,-processing-data\" data-toc-modified-id=\"Reading-Excel-files,-processing-data-3.1.2.3\"><span class=\"toc-item-num\">3.1.2.3&nbsp;&nbsp;</span>Reading Excel files, processing data</a></span></li></ul></li></ul></li><li><span><a href=\"#Python-Data-Structures\" data-toc-modified-id=\"Python-Data-Structures-3.2\"><span class=\"toc-item-num\">3.2&nbsp;&nbsp;</span>Python Data Structures</a></span><ul class=\"toc-item\"><li><span><a href=\"#Lists-&amp;-tuples\" data-toc-modified-id=\"Lists-&amp;-tuples-3.2.1\"><span class=\"toc-item-num\">3.2.1&nbsp;&nbsp;</span>Lists &amp; tuples</a></span><ul class=\"toc-item\"><li><span><a href=\"#Basic-definition-and-access\" data-toc-modified-id=\"Basic-definition-and-access-3.2.1.1\"><span class=\"toc-item-num\">3.2.1.1&nbsp;&nbsp;</span>Basic definition and access</a></span></li><li><span><a href=\"#Slice-Sequences\" data-toc-modified-id=\"Slice-Sequences-3.2.1.2\"><span class=\"toc-item-num\">3.2.1.2&nbsp;&nbsp;</span>Slice Sequences</a></span></li><li><span><a href=\"#Access-a-list-with-for\" data-toc-modified-id=\"Access-a-list-with-for-3.2.1.3\"><span class=\"toc-item-num\">3.2.1.3&nbsp;&nbsp;</span>Access a <code>list</code> with <code>for</code></a></span></li><li><span><a href=\"#Define-a-list-with-for\" data-toc-modified-id=\"Define-a-list-with-for-3.2.1.4\"><span class=\"toc-item-num\">3.2.1.4&nbsp;&nbsp;</span>Define a <code>list</code> with <code>for</code></a></span></li><li><span><a href=\"#Filter-a-list-with-if\" data-toc-modified-id=\"Filter-a-list-with-if-3.2.1.5\"><span class=\"toc-item-num\">3.2.1.5&nbsp;&nbsp;</span>Filter a list with <code>if</code></a></span></li></ul></li><li><span><a href=\"#Sets\" data-toc-modified-id=\"Sets-3.2.2\"><span class=\"toc-item-num\">3.2.2&nbsp;&nbsp;</span>Sets</a></span><ul class=\"toc-item\"><li><span><a href=\"#Basic-definition-and-access\" data-toc-modified-id=\"Basic-definition-and-access-3.2.2.1\"><span class=\"toc-item-num\">3.2.2.1&nbsp;&nbsp;</span>Basic definition and access</a></span></li><li><span><a href=\"#Set-Theory-Operations\" data-toc-modified-id=\"Set-Theory-Operations-3.2.2.2\"><span class=\"toc-item-num\">3.2.2.2&nbsp;&nbsp;</span>Set Theory Operations</a></span></li></ul></li><li><span><a href=\"#Dictionaries\" data-toc-modified-id=\"Dictionaries-3.2.3\"><span class=\"toc-item-num\">3.2.3&nbsp;&nbsp;</span>Dictionaries</a></span><ul class=\"toc-item\"><li><span><a href=\"#Basic-definition-and-access\" data-toc-modified-id=\"Basic-definition-and-access-3.2.3.1\"><span class=\"toc-item-num\">3.2.3.1&nbsp;&nbsp;</span>Basic definition and access</a></span></li><li><span><a href=\"#Using-for-to-access-a-dict\" data-toc-modified-id=\"Using-for-to-access-a-dict-3.2.3.2\"><span class=\"toc-item-num\">3.2.3.2&nbsp;&nbsp;</span>Using <code>for</code> to access a <code>dict</code></a></span></li><li><span><a href=\"#Using-for-to-define-a-dict\" data-toc-modified-id=\"Using-for-to-define-a-dict-3.2.3.3\"><span class=\"toc-item-num\">3.2.3.3&nbsp;&nbsp;</span>Using <code>for</code> to define a <code>dict</code></a></span></li><li><span><a href=\"#defaultdict:-an-Agreeable-Dictionary\" data-toc-modified-id=\"defaultdict:-an-Agreeable-Dictionary-3.2.3.4\"><span class=\"toc-item-num\">3.2.3.4&nbsp;&nbsp;</span><code>defaultdict</code>: an Agreeable Dictionary</a></span></li></ul></li></ul></li><li><span><a href=\"#pandas\" data-toc-modified-id=\"pandas-3.3\"><span class=\"toc-item-num\">3.3&nbsp;&nbsp;</span><em>pandas</em></a></span></li></ul></li><li><span><a href=\"#The-Excel-Workbook:-2017-CAM-data-from-iPads.xlxs\" data-toc-modified-id=\"The-Excel-Workbook:-2017-CAM-data-from-iPads.xlxs-4\"><span class=\"toc-item-num\">4&nbsp;&nbsp;</span>The Excel Workbook: <code>2017 CAM data from iPads.xlxs</code></a></span><ul class=\"toc-item\"><li><span><a href=\"#Opening-an-Excel-File-with-pandas\" data-toc-modified-id=\"Opening-an-Excel-File-with-pandas-4.1\"><span class=\"toc-item-num\">4.1&nbsp;&nbsp;</span>Opening an Excel File with <em>pandas</em></a></span></li><li><span><a href=\"#Worksheets-in-the-File,-as-DataFrames\" data-toc-modified-id=\"Worksheets-in-the-File,-as-DataFrames-4.2\"><span class=\"toc-item-num\">4.2&nbsp;&nbsp;</span>Worksheets in the File, as DataFrames</a></span></li><li><span><a href=\"#Goal:-Unifying-the-DataFrames\" data-toc-modified-id=\"Goal:-Unifying-the-DataFrames-4.3\"><span class=\"toc-item-num\">4.3&nbsp;&nbsp;</span>Goal: Unifying the DataFrames</a></span><ul class=\"toc-item\"><li><span><a href=\"#pandas-functions-for-merging-DataFrames\" data-toc-modified-id=\"pandas-functions-for-merging-DataFrames-4.3.1\"><span class=\"toc-item-num\">4.3.1&nbsp;&nbsp;</span><em>pandas</em> functions for merging DataFrames</a></span></li><li><span><a href=\"#Column-Name-Difference\" data-toc-modified-id=\"Column-Name-Difference-4.3.2\"><span class=\"toc-item-num\">4.3.2&nbsp;&nbsp;</span>Column Name Difference</a></span><ul class=\"toc-item\"><li><span><a href=\"#Visualize-the-Difference\" data-toc-modified-id=\"Visualize-the-Difference-4.3.2.1\"><span class=\"toc-item-num\">4.3.2.1&nbsp;&nbsp;</span>Visualize the Difference</a></span></li><li><span><a href=\"#How-shall-we-solve-the-name-mismatch?\" data-toc-modified-id=\"How-shall-we-solve-the-name-mismatch?-4.3.2.2\"><span class=\"toc-item-num\">4.3.2.2&nbsp;&nbsp;</span>How shall we solve the name mismatch?</a></span></li><li><span><a href=\"#Where-should-we-rename-the-columns?\" data-toc-modified-id=\"Where-should-we-rename-the-columns?-4.3.2.3\"><span class=\"toc-item-num\">4.3.2.3&nbsp;&nbsp;</span>Where should we rename the columns?</a></span></li><li><span><a href=\"#Renaming-axis-labels-(columns-or-rows)-with-pandas\" data-toc-modified-id=\"Renaming-axis-labels-(columns-or-rows)-with-pandas-4.3.2.4\"><span class=\"toc-item-num\">4.3.2.4&nbsp;&nbsp;</span>Renaming axis labels (columns or rows) with <em>pandas</em></a></span></li></ul></li><li><span><a href=\"#Finally-Uniting-Our-(Properly-Labeled)-DataFrames\" data-toc-modified-id=\"Finally-Uniting-Our-(Properly-Labeled)-DataFrames-4.3.3\"><span class=\"toc-item-num\">4.3.3&nbsp;&nbsp;</span>Finally Uniting Our (Properly Labeled) DataFrames</a></span></li></ul></li><li><span><a href=\"#Goal:-Map-the-Column-Relationships\" data-toc-modified-id=\"Goal:-Map-the-Column-Relationships-4.4\"><span class=\"toc-item-num\">4.4&nbsp;&nbsp;</span>Goal: Map the Column Relationships</a></span><ul class=\"toc-item\"><li><span><a href=\"#Indexing-by-Repeated-Words\" data-toc-modified-id=\"Indexing-by-Repeated-Words-4.4.1\"><span class=\"toc-item-num\">4.4.1&nbsp;&nbsp;</span>Indexing by Repeated Words</a></span></li><li><span><a href=\"#Split-the-Column-Names\" data-toc-modified-id=\"Split-the-Column-Names-4.4.2\"><span class=\"toc-item-num\">4.4.2&nbsp;&nbsp;</span>Split the Column Names</a></span><ul class=\"toc-item\"><li><span><a href=\"#The-Separator-String\" data-toc-modified-id=\"The-Separator-String-4.4.2.1\"><span class=\"toc-item-num\">4.4.2.1&nbsp;&nbsp;</span>The Separator String</a></span></li><li><span><a href=\"#Resulting-Gain:-Expression-for-Splitting-Column-Names-into-Words\" data-toc-modified-id=\"Resulting-Gain:-Expression-for-Splitting-Column-Names-into-Words-4.4.2.2\"><span class=\"toc-item-num\">4.4.2.2&nbsp;&nbsp;</span>Resulting Gain: Expression for Splitting Column Names into Words</a></span></li></ul></li><li><span><a href=\"#Build-a-Tree-of-Words\" data-toc-modified-id=\"Build-a-Tree-of-Words-4.4.3\"><span class=\"toc-item-num\">4.4.3&nbsp;&nbsp;</span>Build a Tree of Words</a></span><ul class=\"toc-item\"><li><span><a href=\"#Steps\" data-toc-modified-id=\"Steps-4.4.3.1\"><span class=\"toc-item-num\">4.4.3.1&nbsp;&nbsp;</span>Steps</a></span></li><li><span><a href=\"#Define-Function:-split_column_to_tree\" data-toc-modified-id=\"Define-Function:-split_column_to_tree-4.4.3.2\"><span class=\"toc-item-num\">4.4.3.2&nbsp;&nbsp;</span>Define Function: <code>split_column_to_tree</code></a></span></li><li><span><a href=\"#Use-that-Function-with-for-to-Process-a-DataFrame\" data-toc-modified-id=\"Use-that-Function-with-for-to-Process-a-DataFrame-4.4.3.3\"><span class=\"toc-item-num\">4.4.3.3&nbsp;&nbsp;</span>Use that Function with <code>for</code> to Process a DataFrame</a></span></li><li><span><a href=\"#Visualize-the-Tree\" data-toc-modified-id=\"Visualize-the-Tree-4.4.3.4\"><span class=\"toc-item-num\">4.4.3.4&nbsp;&nbsp;</span>Visualize the Tree</a></span></li><li><span><a href=\"#Refer-to-the-Data\" data-toc-modified-id=\"Refer-to-the-Data-4.4.3.5\"><span class=\"toc-item-num\">4.4.3.5&nbsp;&nbsp;</span>Refer to the Data</a></span></li><li><span><a href=\"#Resulting-Gain\" data-toc-modified-id=\"Resulting-Gain-4.4.3.6\"><span class=\"toc-item-num\">4.4.3.6&nbsp;&nbsp;</span>Resulting Gain</a></span></li></ul></li><li><span><a href=\"#Setup-Filters-for-Columns\" data-toc-modified-id=\"Setup-Filters-for-Columns-4.4.4\"><span class=\"toc-item-num\">4.4.4&nbsp;&nbsp;</span>Setup Filters for Columns</a></span><ul class=\"toc-item\"><li><span><a href=\"#Define-Function:-has_data(node,-data_key=DATA)\" data-toc-modified-id=\"Define-Function:-has_data(node,-data_key=DATA)-4.4.4.1\"><span class=\"toc-item-num\">4.4.4.1&nbsp;&nbsp;</span>Define Function: <code>has_data(node, data_key=DATA)</code></a></span></li><li><span><a href=\"#Define-Function:-get_child_data_nodes(node)\" data-toc-modified-id=\"Define-Function:-get_child_data_nodes(node)-4.4.4.2\"><span class=\"toc-item-num\">4.4.4.2&nbsp;&nbsp;</span>Define Function: <code>get_child_data_nodes(node)</code></a></span></li><li><span><a href=\"#Define-Function:-get_grandchild_nodes(node)\" data-toc-modified-id=\"Define-Function:-get_grandchild_nodes(node)-4.4.4.3\"><span class=\"toc-item-num\">4.4.4.3&nbsp;&nbsp;</span>Define Function: <code>get_grandchild_nodes(node)</code></a></span></li></ul></li><li><span><a href=\"#Find-Columns-in-a-Section\" data-toc-modified-id=\"Find-Columns-in-a-Section-4.4.5\"><span class=\"toc-item-num\">4.4.5&nbsp;&nbsp;</span>Find Columns in a Section</a></span><ul class=\"toc-item\"><li><span><a href=\"#Define-Function:-get_child_column_data(node)\" data-toc-modified-id=\"Define-Function:-get_child_column_data(node)-4.4.5.1\"><span class=\"toc-item-num\">4.4.5.1&nbsp;&nbsp;</span>Define Function: <code>get_child_column_data(node)</code></a></span></li><li><span><a href=\"#Improve-visualize_tree\" data-toc-modified-id=\"Improve-visualize_tree-4.4.5.2\"><span class=\"toc-item-num\">4.4.5.2&nbsp;&nbsp;</span>Improve <code>visualize_tree</code></a></span></li><li><span><a href=\"#Define-Function:-get_descendant_column_data(node)\" data-toc-modified-id=\"Define-Function:-get_descendant_column_data(node)-4.4.5.3\"><span class=\"toc-item-num\">4.4.5.3&nbsp;&nbsp;</span>Define Function: <code>get_descendant_column_data(node)</code></a></span></li><li><span><a href=\"#Alternative-Function:-recursive_get_column_data(node)\" data-toc-modified-id=\"Alternative-Function:-recursive_get_column_data(node)-4.4.5.4\"><span class=\"toc-item-num\">4.4.5.4&nbsp;&nbsp;</span>Alternative Function: <code>recursive_get_column_data(node)</code></a></span></li><li><span><a href=\"#Improve-visualize_tree\" data-toc-modified-id=\"Improve-visualize_tree-4.4.5.5\"><span class=\"toc-item-num\">4.4.5.5&nbsp;&nbsp;</span>Improve <code>visualize_tree</code></a></span></li><li><span><a href=\"#View-a-DataFrame-Section\" data-toc-modified-id=\"View-a-DataFrame-Section-4.4.5.6\"><span class=\"toc-item-num\">4.4.5.6&nbsp;&nbsp;</span>View a DataFrame Section</a></span></li><li><span><a href=\"#Define-Function:-get_child_frame(node,-frame=None)\" data-toc-modified-id=\"Define-Function:-get_child_frame(node,-frame=None)-4.4.5.7\"><span class=\"toc-item-num\">4.4.5.7&nbsp;&nbsp;</span>Define Function: <code>get_child_frame(node, frame=None)</code></a></span></li><li><span><a href=\"#Define-Functions:-get_descendant_frame(node,-frame=None)\" data-toc-modified-id=\"Define-Functions:-get_descendant_frame(node,-frame=None)-4.4.5.8\"><span class=\"toc-item-num\">4.4.5.8&nbsp;&nbsp;</span>Define Functions: <code>get_descendant_frame(node, frame=None)</code></a></span></li></ul></li><li><span><a href=\"#Find-Rows-in-a-Section\" data-toc-modified-id=\"Find-Rows-in-a-Section-4.4.6\"><span class=\"toc-item-num\">4.4.6&nbsp;&nbsp;</span>Find Rows in a Section</a></span><ul class=\"toc-item\"><li><span><a href=\"#Drop-Missing-Values-from-a-Series\" data-toc-modified-id=\"Drop-Missing-Values-from-a-Series-4.4.6.1\"><span class=\"toc-item-num\">4.4.6.1&nbsp;&nbsp;</span>Drop Missing Values from a Series</a></span></li><li><span><a href=\"#Filter-Rows-by-Condition\" data-toc-modified-id=\"Filter-Rows-by-Condition-4.4.6.2\"><span class=\"toc-item-num\">4.4.6.2&nbsp;&nbsp;</span>Filter Rows by Condition</a></span></li></ul></li></ul></li><li><span><a href=\"#Goal:-Transform-Data-for-Target\" data-toc-modified-id=\"Goal:-Transform-Data-for-Target-4.5\"><span class=\"toc-item-num\">4.5&nbsp;&nbsp;</span>Goal: Transform Data for Target</a></span><ul class=\"toc-item\"><li><span><a href=\"#Overview-of-Transformation-Steps\" data-toc-modified-id=\"Overview-of-Transformation-Steps-4.5.1\"><span class=\"toc-item-num\">4.5.1&nbsp;&nbsp;</span>Overview of Transformation Steps</a></span></li><li><span><a href=\"#Define-the-Target-Requirements\" data-toc-modified-id=\"Define-the-Target-Requirements-4.5.2\"><span class=\"toc-item-num\">4.5.2&nbsp;&nbsp;</span>Define the Target Requirements</a></span></li><li><span><a href=\"#Analyze-Section-Structure\" data-toc-modified-id=\"Analyze-Section-Structure-4.5.3\"><span class=\"toc-item-num\">4.5.3&nbsp;&nbsp;</span>Analyze Section Structure</a></span><ul class=\"toc-item\"><li><span><a href=\"#Define-Function:-summarize_node(node)\" data-toc-modified-id=\"Define-Function:-summarize_node(node)-4.5.3.1\"><span class=\"toc-item-num\">4.5.3.1&nbsp;&nbsp;</span>Define Function: <code>summarize_node(node)</code></a></span></li><li><span><a href=\"#Analytical-Results\" data-toc-modified-id=\"Analytical-Results-4.5.3.2\"><span class=\"toc-item-num\">4.5.3.2&nbsp;&nbsp;</span>Analytical Results</a></span></li></ul></li><li><span><a href=\"#Transformations\" data-toc-modified-id=\"Transformations-4.5.4\"><span class=\"toc-item-num\">4.5.4&nbsp;&nbsp;</span>Transformations</a></span><ul class=\"toc-item\"><li><span><a href=\"#Proposed-Transformations-&amp;-Augmentations\" data-toc-modified-id=\"Proposed-Transformations-&amp;-Augmentations-4.5.4.1\"><span class=\"toc-item-num\">4.5.4.1&nbsp;&nbsp;</span>Proposed Transformations &amp; Augmentations</a></span></li><li><span><a href=\"#Proposed-Calculations\" data-toc-modified-id=\"Proposed-Calculations-4.5.4.2\"><span class=\"toc-item-num\">4.5.4.2&nbsp;&nbsp;</span>Proposed Calculations</a></span></li></ul></li></ul></li></ul></li><li><span><a href=\"#Appendix:-Source-App-Data-Structure\" data-toc-modified-id=\"Appendix:-Source-App-Data-Structure-5\"><span class=\"toc-item-num\">5&nbsp;&nbsp;</span>Appendix: Source App Data Structure</a></span><ul class=\"toc-item\"><li><span><a href=\"#Section:-fields\" data-toc-modified-id=\"Section:-fields-5.1\"><span class=\"toc-item-num\">5.1&nbsp;&nbsp;</span>Section: <code>fields</code></a></span><ul class=\"toc-item\"><li><span><a href=\"#Relationship\" data-toc-modified-id=\"Relationship-5.1.1\"><span class=\"toc-item-num\">5.1.1&nbsp;&nbsp;</span>Relationship</a></span></li><li><span><a href=\"#Subsection-fields-&gt;-client\" data-toc-modified-id=\"Subsection-fields->-client-5.1.2\"><span class=\"toc-item-num\">5.1.2&nbsp;&nbsp;</span>Subsection <code>fields</code> &gt; <code>client</code></a></span><ul class=\"toc-item\"><li><span><a href=\"#Relationship\" data-toc-modified-id=\"Relationship-5.1.2.1\"><span class=\"toc-item-num\">5.1.2.1&nbsp;&nbsp;</span>Relationship</a></span></li></ul></li><li><span><a href=\"#Subsection-fields-&gt;-oSets\" data-toc-modified-id=\"Subsection-fields->-oSets-5.1.3\"><span class=\"toc-item-num\">5.1.3&nbsp;&nbsp;</span>Subsection <code>fields</code> &gt; <code>oSets</code></a></span><ul class=\"toc-item\"><li><span><a href=\"#Relationship\" data-toc-modified-id=\"Relationship-5.1.3.1\"><span class=\"toc-item-num\">5.1.3.1&nbsp;&nbsp;</span>Relationship</a></span></li><li><span><a href=\"#Information\" data-toc-modified-id=\"Information-5.1.3.2\"><span class=\"toc-item-num\">5.1.3.2&nbsp;&nbsp;</span>Information</a></span></li></ul></li><li><span><a href=\"#Subsection-fields-&gt;-oSets-&gt;-oPoints\" data-toc-modified-id=\"Subsection-fields->-oSets->-oPoints-5.1.4\"><span class=\"toc-item-num\">5.1.4&nbsp;&nbsp;</span>Subsection <code>fields</code> &gt; <code>oSets</code> &gt; <code>oPoints</code></a></span><ul class=\"toc-item\"><li><span><a href=\"#Relationship\" data-toc-modified-id=\"Relationship-5.1.4.1\"><span class=\"toc-item-num\">5.1.4.1&nbsp;&nbsp;</span>Relationship</a></span></li><li><span><a href=\"#Subsection-fields-&gt;-oSets-&gt;-oPoints-&gt;-location\" data-toc-modified-id=\"Subsection-fields->-oSets->-oPoints->-location-5.1.4.2\"><span class=\"toc-item-num\">5.1.4.2&nbsp;&nbsp;</span>Subsection <code>fields</code> &gt; <code>oSets</code> &gt; <code>oPoints</code> &gt; <code>location</code></a></span></li><li><span><a href=\"#Subsection-fields-&gt;-oSets-&gt;-oPoints-&gt;-observations\" data-toc-modified-id=\"Subsection-fields->-oSets->-oPoints->-observations-5.1.4.3\"><span class=\"toc-item-num\">5.1.4.3&nbsp;&nbsp;</span>Subsection <code>fields</code> &gt; <code>oSets</code> &gt; <code>oPoints</code> &gt; <code>observations</code></a></span></li></ul></li></ul></li><li><span><a href=\"#Section:-clients\" data-toc-modified-id=\"Section:-clients-5.2\"><span class=\"toc-item-num\">5.2&nbsp;&nbsp;</span>Section: <code>clients</code></a></span><ul class=\"toc-item\"><li><span><a href=\"#Relationship\" data-toc-modified-id=\"Relationship-5.2.1\"><span class=\"toc-item-num\">5.2.1&nbsp;&nbsp;</span>Relationship</a></span></li><li><span><a href=\"#Information\" data-toc-modified-id=\"Information-5.2.2\"><span class=\"toc-item-num\">5.2.2&nbsp;&nbsp;</span>Information</a></span></li></ul></li><li><span><a href=\"#Section:-observers\" data-toc-modified-id=\"Section:-observers-5.3\"><span class=\"toc-item-num\">5.3&nbsp;&nbsp;</span>Section: <code>observers</code></a></span><ul class=\"toc-item\"><li><span><a href=\"#Relationship\" data-toc-modified-id=\"Relationship-5.3.1\"><span class=\"toc-item-num\">5.3.1&nbsp;&nbsp;</span>Relationship</a></span></li><li><span><a href=\"#Information\" data-toc-modified-id=\"Information-5.3.2\"><span class=\"toc-item-num\">5.3.2&nbsp;&nbsp;</span>Information</a></span></li></ul></li></ul></li></ul></div>"
   ]
  },
  {
   "cell_type": "markdown",
   "metadata": {
    "heading_collapsed": true,
    "slideshow": {
     "slide_type": "slide"
    }
   },
   "source": [
    "# Document Source"
   ]
  },
  {
   "cell_type": "markdown",
   "metadata": {
    "hidden": true,
    "slideshow": {
     "slide_type": "subslide"
    }
   },
   "source": [
    "* You may view or download this notebook on [NBViewer], though it won't be interactive.\n",
    "* You may interact with this notebook on [mybinder.org], though changes won't be saved for very long.\n",
    "* The [source] for this notebook is online at GitHub.com, where it can be viewed or downloaded. Instructions on how to use this notebook on your own computer are in the [README].\n",
    "\n",
    "[![Binder](https://mybinder.org/badge.svg)][mybinder.org]\n",
    "\n",
    "[README]: https://github.com/devvyn/aafc-field-data/blob/master/README.md\n",
    "[source]: https://github.com/devvyn/aafc-field-data/blob/master/notebook/Using%20Python%20%26%20pandas%20to%20Analyze%20an%20Excel%20File.ipynb\n",
    "[mybinder.org]: https://mybinder.org/v2/gh/devvyn/aafc-field-data/master?filepath=notebook%2FUsing%20Python%20%26%20pandas%20to%20Analyze%20an%20Excel%20File.ipynb\n",
    "[NBViewer]: https://nbviewer.jupyter.org/github/devvyn/aafc-field-data/blob/master/notebook/Using%20Python%20%26%20pandas%20to%20Analyze%20an%20Excel%20File.ipynb"
   ]
  },
  {
   "cell_type": "markdown",
   "metadata": {
    "heading_collapsed": true,
    "slideshow": {
     "slide_type": "slide"
    }
   },
   "source": [
    "# Objectives"
   ]
  },
  {
   "cell_type": "markdown",
   "metadata": {
    "hidden": true,
    "slideshow": {
     "slide_type": "subslide"
    }
   },
   "source": [
    "* Get to know our analytical tools:\n",
    "  - Jupyter Notebook - interactive document editor\n",
    "  - Python - expressive programming language\n",
    "  - _pandas_ - data science framework"
   ]
  },
  {
   "cell_type": "markdown",
   "metadata": {
    "hidden": true,
    "slideshow": {
     "slide_type": "fragment"
    }
   },
   "source": [
    "* Merge two Excel worksheets into one DataFrame"
   ]
  },
  {
   "cell_type": "markdown",
   "metadata": {
    "hidden": true,
    "slideshow": {
     "slide_type": "fragment"
    }
   },
   "source": [
    "* Query the data"
   ]
  },
  {
   "cell_type": "markdown",
   "metadata": {
    "hidden": true,
    "slideshow": {
     "slide_type": "fragment"
    }
   },
   "source": [
    "* Export the query results to Excel"
   ]
  },
  {
   "cell_type": "markdown",
   "metadata": {
    "hidden": true,
    "slideshow": {
     "slide_type": "fragment"
    }
   },
   "source": [
    "* Document all steps, to ensure these results are reproducible"
   ]
  },
  {
   "cell_type": "markdown",
   "metadata": {
    "slideshow": {
     "slide_type": "slide"
    }
   },
   "source": [
    "# Tools & Concepts"
   ]
  },
  {
   "cell_type": "markdown",
   "metadata": {
    "slideshow": {
     "slide_type": "subslide"
    }
   },
   "source": [
    "## Jupyter Notebook"
   ]
  },
  {
   "cell_type": "markdown",
   "metadata": {},
   "source": [
    "- This document was written in a web browser connected to a Jupyter Notebook server.\n",
    "- All the code samples shown were actually run on the server and the output saved in the document."
   ]
  },
  {
   "cell_type": "markdown",
   "metadata": {},
   "source": [
    "### What is Jupyter Notebook?"
   ]
  },
  {
   "cell_type": "markdown",
   "metadata": {},
   "source": [
    "Description from [jupyter.org]:\n",
    "\n",
    "> The Jupyter Notebook is an open-source web application that allows you\n",
    "> to create and share documents that contain live code, equations,\n",
    "> visualizations and narrative text. Uses include: data cleaning and\n",
    "> transformation, numerical simulation, statistical modeling, data\n",
    "> visualization, machine learning, and much more.\n",
    "\n",
    "[![jupyterpreview]][Try Jupyter]\n",
    "\n",
    "You can [try Jupyter now][Try Jupyter], to get a feel for it. Various\n",
    "languages are available, including Python, R, and Julia.\n",
    "\n",
    "[jupyter.org]: https://jupyter.org/\n",
    "[jupyterpreview]: https://raw.githubusercontent.com/devvyn/aafc-field-data/master/docs/static/jupyterpreview.png \"Jupyter Notebook web page screen shots\"\n",
    "[Try Jupyter]: https://jupyter.org/try"
   ]
  },
  {
   "cell_type": "markdown",
   "metadata": {},
   "source": [
    "Learn more about using Jupyter Notebook with this file at the [GitHub project] page for this notebook.\n",
    "\n",
    "[GitHub project]: https://github.com/devvyn/aafc-field-data/"
   ]
  },
  {
   "cell_type": "markdown",
   "metadata": {
    "slideshow": {
     "slide_type": "slide"
    }
   },
   "source": [
    "### Setup"
   ]
  },
  {
   "cell_type": "markdown",
   "metadata": {},
   "source": [
    "To work with the source data, we need to be able to:\n",
    "\n",
    "* open an Excel file\n",
    "* display results of intermediate processing in the notebook\n",
    "* save results to an Excel file\n",
    "\n",
    "Most functions to accomplish our goals have been published already. We only need to import them."
   ]
  },
  {
   "cell_type": "markdown",
   "metadata": {},
   "source": [
    "#### Displaying results in the notebook"
   ]
  },
  {
   "cell_type": "markdown",
   "metadata": {},
   "source": [
    "You can use the regular [`print()`] function in Python, but you'll always get plain text output. [`display()`] can do plain text as well as HTML, images, audio, etc.\n",
    "\n",
    "I found I didn't need to import the [`display()`] method on new versions of Jupyter Notebook, but since the display function for isn't always imported by default in some implementations, and I also want to use `IPython.core.display.HTML()`:\n",
    "\n",
    "[`print()`]: https://docs.python.org/3/library/functions.html#print \n",
    "[`display()`]: http://ipython.readthedocs.io/en/stable/api/generated/IPython.display.html"
   ]
  },
  {
   "cell_type": "code",
   "execution_count": 22,
   "metadata": {
    "ExecuteTime": {
     "end_time": "2018-04-19T18:03:48.451361Z",
     "start_time": "2018-04-19T18:03:48.440920Z"
    },
    "init_cell": true
   },
   "outputs": [],
   "source": [
    "from IPython.core.display import *"
   ]
  },
  {
   "cell_type": "markdown",
   "metadata": {},
   "source": [
    "#### DIY Helpers"
   ]
  },
  {
   "cell_type": "markdown",
   "metadata": {},
   "source": [
    "Here are simple helpers to make headings and other embellishments easy. There are probably libraries already to make HTML tags, but this should suffice, without importing a large library. In general, these methods are unnecessary, but I'll be using them later on in this document to make code output more understandable."
   ]
  },
  {
   "cell_type": "code",
   "execution_count": 23,
   "metadata": {
    "ExecuteTime": {
     "end_time": "2018-04-19T18:03:48.495362Z",
     "start_time": "2018-04-19T18:03:48.465833Z"
    },
    "cell_style": "center",
    "init_cell": true
   },
   "outputs": [],
   "source": [
    "def html_wrap(content, element=\"span\", attributes_str=None):\n",
    "    \"\"\" Convenience method for wrapping any string in any HTML tag. \"\"\"\n",
    "    if attributes_str:\n",
    "        element_open = f\"{element} {attributes_str}\"\n",
    "    else:\n",
    "        element_open = element\n",
    "    return f\"<{element_open}>{content}</{element}>\"\n",
    "\n",
    "\n",
    "def make_heading(content, level=5):\n",
    "    \"\"\" Convenience method for wrapping any string in an HTML header tag. \"\"\"\n",
    "    element = f\"h{level}\"\n",
    "    return html_wrap(content, element)\n",
    "\n",
    "\n",
    "def heading(*args, **kwargs):\n",
    "    \"\"\" Call IPython.core.display.HTML on the results of the make_heading\n",
    "    function, so users don't have to repeatedly do `HTML(heading(…))` \"\"\"\n",
    "    return HTML(make_heading(*args, **kwargs))"
   ]
  },
  {
   "cell_type": "markdown",
   "metadata": {},
   "source": [
    "#### Reading Excel files, processing data"
   ]
  },
  {
   "cell_type": "markdown",
   "metadata": {},
   "source": [
    "[_pandas_] is really good with columnar data, such as the kind of spreadsheets Excel works with. In fact, [_pandas_] has the ability to read and write Excel files, as long as the [`xlrd`] package is installed in Python.\n",
    "\n",
    "The Jupyter server I used for writing this notebook already has [_pandas_] and [`xlrd`], but if you need to install them, you can run this command in a Jupyter Notebook cell, like so:\n",
    "\n",
    "[_pandas_]: https://pandas.pydata.org\n",
    "[`xlrd`]: https://xlrd.readthedocs.io/en/latest/"
   ]
  },
  {
   "cell_type": "code",
   "execution_count": 24,
   "metadata": {
    "ExecuteTime": {
     "start_time": "2018-04-18T20:06:28.766Z"
    },
    "cell_style": "center"
   },
   "outputs": [
    {
     "name": "stdout",
     "output_type": "stream",
     "text": [
      "Requirement already satisfied: xlrd in /srv/venv/lib/python3.6/site-packages\n",
      "Requirement already satisfied: pandas in /srv/venv/lib/python3.6/site-packages\n",
      "Requirement already satisfied: python-dateutil>=2 in /srv/venv/lib/python3.6/site-packages (from pandas)\n",
      "Requirement already satisfied: numpy>=1.9.0 in /srv/venv/lib/python3.6/site-packages (from pandas)\n",
      "Requirement already satisfied: pytz>=2011k in /srv/venv/lib/python3.6/site-packages (from pandas)\n",
      "Requirement already satisfied: six>=1.5 in /srv/venv/lib/python3.6/site-packages (from python-dateutil>=2->pandas)\n"
     ]
    }
   ],
   "source": [
    "# Install xlrd to the Python environment, if it's not already installed.\n",
    "!pip install xlrd pandas"
   ]
  },
  {
   "cell_type": "markdown",
   "metadata": {},
   "source": [
    "Depending on how your Jupyter host is deployed, you may be able to add [`xlrd`] and [`pandas`][_pandas_] to [`requirements.txt`] or [`environment.yml`], as appropriate for your configuration. I [configured] my Jupyter server for use with [repo2docker]. In particular, I used [`requirements.txt`] and [`postBuild`], because even though [Conda] is usually better than [`pip`] at enabling Jupyter extensions, the installer would hang a lot, wasting my time, whenever I used [`environment.yml`].\n",
    "\n",
    "[_pandas_]: https://pandas.pydata.org\n",
    "[`xlrd`]: https://xlrd.readthedocs.io/en/latest/\n",
    "[repo2docker]: http://repo2docker.readthedocs.io/en/latest/index.html\n",
    "[configured]: http://repo2docker.readthedocs.io/en/latest/usage.html#locating-and-composing-configuration-files\n",
    "[`requirements.txt`]: http://repo2docker.readthedocs.io/en/latest/usage.html#requirements-txt\n",
    "[`postBuild`]: http://repo2docker.readthedocs.io/en/latest/usage.html#postbuild\n",
    "[`environment.yml`]: http://repo2docker.readthedocs.io/en/latest/usage.html#environment-yml\n",
    "[Conda]: https://conda.io/docs/\n",
    "[`pip`]: https://pip.pypa.io/en/stable/user_guide/"
   ]
  },
  {
   "cell_type": "code",
   "execution_count": 25,
   "metadata": {
    "ExecuteTime": {
     "end_time": "2018-04-19T18:03:48.929543Z",
     "start_time": "2018-04-19T18:03:48.504663Z"
    },
    "init_cell": true
   },
   "outputs": [],
   "source": [
    "import pandas"
   ]
  },
  {
   "cell_type": "markdown",
   "metadata": {},
   "source": [
    "If you prefer, you can install this from the regular command line shell on your Jupyter host by running the `pip` command without the exclamation mark."
   ]
  },
  {
   "cell_type": "markdown",
   "metadata": {
    "slideshow": {
     "slide_type": "subslide"
    }
   },
   "source": [
    "## Python Data Structures"
   ]
  },
  {
   "cell_type": "markdown",
   "metadata": {},
   "source": [
    "- list\n",
    "- tuple\n",
    "- slicing\n",
    "- expressions:\n",
    "  - for … in\n",
    "  - if\n",
    "- set\n",
    "- dict\n",
    "- defaultdict"
   ]
  },
  {
   "cell_type": "markdown",
   "metadata": {
    "slideshow": {
     "slide_type": "slide"
    }
   },
   "source": [
    "### Lists & tuples"
   ]
  },
  {
   "cell_type": "markdown",
   "metadata": {
    "slideshow": {
     "slide_type": "fragment"
    }
   },
   "source": [
    "A [`list`] in Python is simply a sequence of objects, which can be numbers, text, or anything else. It uses square brackets.\n",
    "\n",
    "```python\n",
    "> my_list = [1, 20, 4004]\n",
    "> my_list[2] = 1001\n",
    "> my_list[2]\n",
    "1001\n",
    "```\n",
    "\n",
    "[`list`]: https://docs.python.org/3/library/stdtypes.html#list"
   ]
  },
  {
   "cell_type": "markdown",
   "metadata": {
    "slideshow": {
     "slide_type": "fragment"
    }
   },
   "source": [
    "A [`tuple`] is almost identical to a `list`, except it can't be edited after it's defined. You define it using round parentheses, instead of square brackets.\n",
    "\n",
    "```python\n",
    "> my_tuple = (1, 20, 4004)\n",
    "> my_tuple[2] = 1001\n",
    "TypeError: 'tuple' object does not support item assignment\n",
    "> my_tuple[2]\n",
    "4004\n",
    "```\n",
    "\n",
    "[`tuple`]: https://docs.python.org/3/library/stdtypes.html#tuples"
   ]
  },
  {
   "cell_type": "markdown",
   "metadata": {
    "slideshow": {
     "slide_type": "skip"
    }
   },
   "source": [
    "#### Basic definition and access"
   ]
  },
  {
   "cell_type": "markdown",
   "metadata": {
    "slideshow": {
     "slide_type": "subslide"
    }
   },
   "source": [
    "##### Define a tuple or list:"
   ]
  },
  {
   "cell_type": "code",
   "execution_count": 26,
   "metadata": {
    "ExecuteTime": {
     "end_time": "2018-04-19T19:12:23.779862Z",
     "start_time": "2018-04-19T19:12:23.773519Z"
    },
    "cell_style": "split",
    "slideshow": {
     "slide_type": "fragment"
    }
   },
   "outputs": [],
   "source": [
    "my_list = [1, 2, 3, \"four\"]\n",
    "\n",
    "a_tiny_list = [8]"
   ]
  },
  {
   "cell_type": "code",
   "execution_count": 27,
   "metadata": {
    "ExecuteTime": {
     "end_time": "2018-04-19T19:43:54.508930Z",
     "start_time": "2018-04-19T19:43:54.498036Z"
    },
    "cell_style": "split",
    "slideshow": {
     "slide_type": "fragment"
    }
   },
   "outputs": [],
   "source": [
    "my_tuple = (1, 2, 3, \"four\", (\"nested 1\", \"nested 2\", a_tiny_list), 30, 0)"
   ]
  },
  {
   "cell_type": "markdown",
   "metadata": {
    "slideshow": {
     "slide_type": "subslide"
    }
   },
   "source": [
    "##### Nested tuples & lists"
   ]
  },
  {
   "cell_type": "code",
   "execution_count": 28,
   "metadata": {
    "ExecuteTime": {
     "end_time": "2018-04-19T19:43:56.193259Z",
     "start_time": "2018-04-19T19:43:56.184624Z"
    },
    "cell_style": "split",
    "slideshow": {
     "slide_type": "fragment"
    }
   },
   "outputs": [],
   "source": [
    "another_list = [my_list, 5, 6, 7, my_tuple]"
   ]
  },
  {
   "cell_type": "code",
   "execution_count": 29,
   "metadata": {
    "ExecuteTime": {
     "end_time": "2018-04-19T19:43:56.815631Z",
     "start_time": "2018-04-19T19:43:56.802048Z"
    },
    "cell_style": "split",
    "slideshow": {
     "slide_type": "fragment"
    }
   },
   "outputs": [
    {
     "data": {
      "text/plain": [
       "[[1, 2, 3, 'four'],\n",
       " 5,\n",
       " 6,\n",
       " 7,\n",
       " (1, 2, 3, 'four', ('nested 1', 'nested 2', [8]), 30, 0)]"
      ]
     },
     "execution_count": 29,
     "metadata": {},
     "output_type": "execute_result"
    }
   ],
   "source": [
    "another_list"
   ]
  },
  {
   "cell_type": "markdown",
   "metadata": {
    "slideshow": {
     "slide_type": "subslide"
    }
   },
   "source": [
    "##### Access items in a `list` or `tuple`:"
   ]
  },
  {
   "cell_type": "markdown",
   "metadata": {
    "slideshow": {
     "slide_type": "fragment"
    }
   },
   "source": [
    "There's an \"item zero\" because 0 is the origin, just like in Cartesian coordinates."
   ]
  },
  {
   "cell_type": "code",
   "execution_count": 30,
   "metadata": {
    "ExecuteTime": {
     "end_time": "2018-04-19T19:44:20.734799Z",
     "start_time": "2018-04-19T19:44:20.725115Z"
    },
    "cell_style": "split",
    "slideshow": {
     "slide_type": "fragment"
    }
   },
   "outputs": [
    {
     "data": {
      "text/plain": [
       "1"
      ]
     },
     "execution_count": 30,
     "metadata": {},
     "output_type": "execute_result"
    }
   ],
   "source": [
    "my_list[0]"
   ]
  },
  {
   "cell_type": "code",
   "execution_count": 31,
   "metadata": {
    "ExecuteTime": {
     "end_time": "2018-04-19T19:44:21.508921Z",
     "start_time": "2018-04-19T19:44:21.497014Z"
    },
    "cell_style": "split",
    "slideshow": {
     "slide_type": "fragment"
    }
   },
   "outputs": [
    {
     "data": {
      "text/plain": [
       "1"
      ]
     },
     "execution_count": 31,
     "metadata": {},
     "output_type": "execute_result"
    }
   ],
   "source": [
    "my_tuple[0]"
   ]
  },
  {
   "cell_type": "markdown",
   "metadata": {
    "slideshow": {
     "slide_type": "subslide"
    }
   },
   "source": [
    "The index sequence continues as you might expect:"
   ]
  },
  {
   "cell_type": "code",
   "execution_count": 32,
   "metadata": {
    "ExecuteTime": {
     "end_time": "2018-04-18T20:05:34.819873Z",
     "start_time": "2018-04-18T20:05:34.805583Z"
    },
    "cell_style": "split",
    "slideshow": {
     "slide_type": "fragment"
    }
   },
   "outputs": [
    {
     "data": {
      "text/plain": [
       "2"
      ]
     },
     "execution_count": 32,
     "metadata": {},
     "output_type": "execute_result"
    }
   ],
   "source": [
    "my_list[1]"
   ]
  },
  {
   "cell_type": "code",
   "execution_count": 33,
   "metadata": {
    "ExecuteTime": {
     "end_time": "2018-04-18T20:05:34.919485Z",
     "start_time": "2018-04-18T20:05:34.903260Z"
    },
    "cell_style": "split",
    "slideshow": {
     "slide_type": "fragment"
    }
   },
   "outputs": [
    {
     "data": {
      "text/plain": [
       "3"
      ]
     },
     "execution_count": 33,
     "metadata": {},
     "output_type": "execute_result"
    }
   ],
   "source": [
    "my_list[2]"
   ]
  },
  {
   "cell_type": "code",
   "execution_count": 34,
   "metadata": {
    "ExecuteTime": {
     "end_time": "2018-04-18T20:05:35.000668Z",
     "start_time": "2018-04-18T20:05:34.992703Z"
    },
    "cell_style": "split",
    "slideshow": {
     "slide_type": "fragment"
    }
   },
   "outputs": [
    {
     "data": {
      "text/plain": [
       "'four'"
      ]
     },
     "execution_count": 34,
     "metadata": {},
     "output_type": "execute_result"
    }
   ],
   "source": [
    "my_list[3]"
   ]
  },
  {
   "cell_type": "markdown",
   "metadata": {
    "slideshow": {
     "slide_type": "subslide"
    }
   },
   "source": [
    "If you attempt to access a non existent item by using an index that's out of range, you'll receive an error."
   ]
  },
  {
   "cell_type": "code",
   "execution_count": 35,
   "metadata": {
    "ExecuteTime": {
     "end_time": "2018-04-18T20:05:35.207795Z",
     "start_time": "2018-04-18T20:05:35.075594Z"
    },
    "cell_style": "split",
    "slideshow": {
     "slide_type": "fragment"
    }
   },
   "outputs": [
    {
     "ename": "IndexError",
     "evalue": "list index out of range",
     "output_type": "error",
     "traceback": [
      "\u001b[0;31m---------------------------------------------------------------------------\u001b[0m",
      "\u001b[0;31mIndexError\u001b[0m                                Traceback (most recent call last)",
      "\u001b[0;32m<ipython-input-35-d8d3b5435ffd>\u001b[0m in \u001b[0;36m<module>\u001b[0;34m()\u001b[0m\n\u001b[0;32m----> 1\u001b[0;31m \u001b[0mmy_list\u001b[0m\u001b[0;34m[\u001b[0m\u001b[0;36m4\u001b[0m\u001b[0;34m]\u001b[0m\u001b[0;34m\u001b[0m\u001b[0m\n\u001b[0m",
      "\u001b[0;31mIndexError\u001b[0m: list index out of range"
     ]
    }
   ],
   "source": [
    "my_list[4]"
   ]
  },
  {
   "cell_type": "markdown",
   "metadata": {
    "slideshow": {
     "slide_type": "subslide"
    }
   },
   "source": [
    "You can, however, use negative numbers! Negative numbers are assumed to be relative to the upper boundary of the range. -1 refers to the _last_ item, -2 to the _second last_, and so on."
   ]
  },
  {
   "cell_type": "code",
   "execution_count": 36,
   "metadata": {
    "ExecuteTime": {
     "end_time": "2018-04-18T20:05:36.791560Z",
     "start_time": "2018-04-18T20:05:36.778770Z"
    },
    "cell_style": "split",
    "slideshow": {
     "slide_type": "fragment"
    }
   },
   "outputs": [
    {
     "data": {
      "text/plain": [
       "'four'"
      ]
     },
     "execution_count": 36,
     "metadata": {},
     "output_type": "execute_result"
    }
   ],
   "source": [
    "my_list[-1]"
   ]
  },
  {
   "cell_type": "code",
   "execution_count": 37,
   "metadata": {
    "ExecuteTime": {
     "end_time": "2018-04-18T20:05:36.920823Z",
     "start_time": "2018-04-18T20:05:36.909917Z"
    },
    "cell_style": "split",
    "slideshow": {
     "slide_type": "fragment"
    }
   },
   "outputs": [
    {
     "data": {
      "text/plain": [
       "30"
      ]
     },
     "execution_count": 37,
     "metadata": {},
     "output_type": "execute_result"
    }
   ],
   "source": [
    "my_tuple[-2]"
   ]
  },
  {
   "cell_type": "markdown",
   "metadata": {
    "slideshow": {
     "slide_type": "subslide"
    }
   },
   "source": [
    "##### Adding items to a list:"
   ]
  },
  {
   "cell_type": "code",
   "execution_count": 38,
   "metadata": {
    "ExecuteTime": {
     "end_time": "2018-04-19T19:53:54.328260Z",
     "start_time": "2018-04-19T19:53:54.308175Z"
    },
    "cell_style": "center",
    "slideshow": {
     "slide_type": "fragment"
    }
   },
   "outputs": [
    {
     "data": {
      "text/plain": [
       "[8]"
      ]
     },
     "execution_count": 38,
     "metadata": {},
     "output_type": "execute_result"
    }
   ],
   "source": [
    "a_tiny_list"
   ]
  },
  {
   "cell_type": "code",
   "execution_count": 39,
   "metadata": {
    "ExecuteTime": {
     "end_time": "2018-04-19T19:53:55.175283Z",
     "start_time": "2018-04-19T19:53:55.167913Z"
    },
    "cell_style": "center",
    "slideshow": {
     "slide_type": "fragment"
    }
   },
   "outputs": [],
   "source": [
    "a_tiny_list.append(\"another item\")"
   ]
  },
  {
   "cell_type": "code",
   "execution_count": 40,
   "metadata": {
    "ExecuteTime": {
     "end_time": "2018-04-19T19:53:55.831778Z",
     "start_time": "2018-04-19T19:53:55.823508Z"
    },
    "cell_style": "center",
    "slideshow": {
     "slide_type": "fragment"
    }
   },
   "outputs": [
    {
     "data": {
      "text/plain": [
       "[8, 'another item']"
      ]
     },
     "execution_count": 40,
     "metadata": {},
     "output_type": "execute_result"
    }
   ],
   "source": [
    "a_tiny_list"
   ]
  },
  {
   "cell_type": "markdown",
   "metadata": {
    "slideshow": {
     "slide_type": "subslide"
    }
   },
   "source": [
    "#### Slice Sequences"
   ]
  },
  {
   "cell_type": "markdown",
   "metadata": {
    "slideshow": {
     "slide_type": "fragment"
    }
   },
   "source": [
    "If you want to choose a portion of a list, you can use the colon character to separate the start and end index numbers you want to use."
   ]
  },
  {
   "cell_type": "code",
   "execution_count": 41,
   "metadata": {
    "ExecuteTime": {
     "end_time": "2018-04-18T20:05:39.915441Z",
     "start_time": "2018-04-18T20:05:39.900980Z"
    },
    "cell_style": "split",
    "slideshow": {
     "slide_type": "fragment"
    }
   },
   "outputs": [
    {
     "data": {
      "text/plain": [
       "[1, 2]"
      ]
     },
     "execution_count": 41,
     "metadata": {},
     "output_type": "execute_result"
    }
   ],
   "source": [
    "my_list[0:2]  # 0, 1 but not 2"
   ]
  },
  {
   "cell_type": "code",
   "execution_count": 42,
   "metadata": {
    "ExecuteTime": {
     "start_time": "2018-04-18T20:05:42.756Z"
    },
    "cell_style": "split",
    "slideshow": {
     "slide_type": "fragment"
    }
   },
   "outputs": [
    {
     "data": {
      "text/plain": [
       "(30, 0)"
      ]
     },
     "execution_count": 42,
     "metadata": {},
     "output_type": "execute_result"
    }
   ],
   "source": [
    "my_tuple[5:7]  # 5, 6 but not 7"
   ]
  },
  {
   "cell_type": "markdown",
   "metadata": {
    "slideshow": {
     "slide_type": "subslide"
    }
   },
   "source": [
    "You can omit the first or last number in your slice to use the natural upper or lower boundary:"
   ]
  },
  {
   "cell_type": "code",
   "execution_count": 43,
   "metadata": {
    "ExecuteTime": {
     "end_time": "2018-04-18T20:15:38.680550Z",
     "start_time": "2018-04-18T20:15:38.667505Z"
    },
    "cell_style": "split",
    "slideshow": {
     "slide_type": "fragment"
    }
   },
   "outputs": [
    {
     "data": {
      "text/plain": [
       "[1, 2]"
      ]
     },
     "execution_count": 43,
     "metadata": {},
     "output_type": "execute_result"
    }
   ],
   "source": [
    "my_list[:2]  # until just before 2"
   ]
  },
  {
   "cell_type": "code",
   "execution_count": 44,
   "metadata": {
    "ExecuteTime": {
     "end_time": "2018-04-18T20:15:39.754588Z",
     "start_time": "2018-04-18T20:15:39.743774Z"
    },
    "cell_style": "split",
    "slideshow": {
     "slide_type": "fragment"
    }
   },
   "outputs": [
    {
     "data": {
      "text/plain": [
       "(30, 0)"
      ]
     },
     "execution_count": 44,
     "metadata": {},
     "output_type": "execute_result"
    }
   ],
   "source": [
    "my_tuple[5:]  # 5 and after"
   ]
  },
  {
   "cell_type": "markdown",
   "metadata": {
    "slideshow": {
     "slide_type": "subslide"
    }
   },
   "source": [
    "#### Access a `list` with `for`"
   ]
  },
  {
   "cell_type": "code",
   "execution_count": 45,
   "metadata": {
    "ExecuteTime": {
     "end_time": "2018-04-18T20:15:42.373004Z",
     "start_time": "2018-04-18T20:15:42.362786Z"
    },
    "cell_style": "split",
    "slideshow": {
     "slide_type": "fragment"
    }
   },
   "outputs": [
    {
     "name": "stdout",
     "output_type": "stream",
     "text": [
      "1\n",
      "2\n",
      "3\n",
      "four\n"
     ]
    }
   ],
   "source": [
    "for item in my_list:\n",
    "    print(item)"
   ]
  },
  {
   "cell_type": "code",
   "execution_count": 46,
   "metadata": {
    "ExecuteTime": {
     "end_time": "2018-04-18T20:15:43.318687Z",
     "start_time": "2018-04-18T20:15:43.296218Z"
    },
    "cell_style": "split",
    "slideshow": {
     "slide_type": "fragment"
    }
   },
   "outputs": [
    {
     "name": "stdout",
     "output_type": "stream",
     "text": [
      "[1, 2, 3, 'four']\n",
      "5\n",
      "6\n",
      "7\n",
      "(1, 2, 3, 'four', ('nested 1', 'nested 2', [8, 'another item']), 30, 0)\n"
     ]
    }
   ],
   "source": [
    "for item in another_list:\n",
    "    print(item)"
   ]
  },
  {
   "cell_type": "markdown",
   "metadata": {
    "slideshow": {
     "slide_type": "subslide"
    }
   },
   "source": [
    "####  Define a `list` with `for`"
   ]
  },
  {
   "cell_type": "markdown",
   "metadata": {
    "cell_style": "split",
    "slideshow": {
     "slide_type": "fragment"
    }
   },
   "source": [
    "Evaluate an expression based on every item in a list:"
   ]
  },
  {
   "cell_type": "code",
   "execution_count": 47,
   "metadata": {
    "ExecuteTime": {
     "end_time": "2018-04-19T19:47:41.411732Z",
     "start_time": "2018-04-19T19:47:41.391175Z"
    },
    "cell_style": "split",
    "slideshow": {
     "slide_type": "fragment"
    }
   },
   "outputs": [
    {
     "data": {
      "text/plain": [
       "['I have 1!', 'I have 2!', 'I have 3!', 'I have four!']"
      ]
     },
     "execution_count": 47,
     "metadata": {},
     "output_type": "execute_result"
    }
   ],
   "source": [
    "my_new_list = [f\"I have {item}!\"\n",
    "               for item in my_list]\n",
    "my_new_list"
   ]
  },
  {
   "cell_type": "markdown",
   "metadata": {
    "cell_style": "split",
    "slideshow": {
     "slide_type": "subslide"
    }
   },
   "source": [
    "#### Filter a list with `if`"
   ]
  },
  {
   "cell_type": "code",
   "execution_count": 48,
   "metadata": {
    "ExecuteTime": {
     "end_time": "2018-04-19T19:47:59.022422Z",
     "start_time": "2018-04-19T19:47:59.005899Z"
    },
    "cell_style": "split",
    "slideshow": {
     "slide_type": "fragment"
    }
   },
   "outputs": [
    {
     "data": {
      "text/plain": [
       "[3, 'four']"
      ]
     },
     "execution_count": 48,
     "metadata": {},
     "output_type": "execute_result"
    }
   ],
   "source": [
    "my_filtered_list = [item for item in my_list \n",
    "                    if item == \"four\" or item > 2]\n",
    "my_filtered_list"
   ]
  },
  {
   "cell_type": "markdown",
   "metadata": {
    "heading_collapsed": true,
    "slideshow": {
     "slide_type": "slide"
    }
   },
   "source": [
    "### Sets"
   ]
  },
  {
   "cell_type": "markdown",
   "metadata": {
    "hidden": true,
    "slideshow": {
     "slide_type": "fragment"
    }
   },
   "source": [
    "A [`set`] in Python in similar to a list, except there is no order of the items. Like a list, a set can be changed after it's defined.\n",
    "\n",
    "[`set`]: https://docs.python.org/3/library/stdtypes.html#set"
   ]
  },
  {
   "cell_type": "markdown",
   "metadata": {
    "hidden": true,
    "slideshow": {
     "slide_type": "subslide"
    }
   },
   "source": [
    "#### Basic definition and access"
   ]
  },
  {
   "cell_type": "code",
   "execution_count": 49,
   "metadata": {
    "ExecuteTime": {
     "end_time": "2018-04-19T18:03:47.633803Z",
     "start_time": "2018-04-19T18:03:47.626305Z"
    },
    "cell_style": "split",
    "hidden": true,
    "init_cell": true,
    "slideshow": {
     "slide_type": "fragment"
    }
   },
   "outputs": [],
   "source": [
    "my_set = {12, 24, 48, 96}"
   ]
  },
  {
   "cell_type": "code",
   "execution_count": 50,
   "metadata": {
    "ExecuteTime": {
     "end_time": "2018-04-18T20:15:58.697571Z",
     "start_time": "2018-04-18T20:15:58.688534Z"
    },
    "cell_style": "split",
    "hidden": true,
    "slideshow": {
     "slide_type": "subslide"
    }
   },
   "outputs": [
    {
     "data": {
      "text/plain": [
       "{12, 24, 48, 96}"
      ]
     },
     "execution_count": 50,
     "metadata": {},
     "output_type": "execute_result"
    }
   ],
   "source": [
    "my_set"
   ]
  },
  {
   "cell_type": "code",
   "execution_count": 51,
   "metadata": {
    "ExecuteTime": {
     "end_time": "2018-04-19T18:03:48.403472Z",
     "start_time": "2018-04-19T18:03:47.651402Z"
    },
    "cell_style": "split",
    "hidden": true,
    "init_cell": true,
    "slideshow": {
     "slide_type": "fragment"
    }
   },
   "outputs": [],
   "source": [
    "my_set.add(96 * 2)"
   ]
  },
  {
   "cell_type": "code",
   "execution_count": 52,
   "metadata": {
    "ExecuteTime": {
     "end_time": "2018-04-18T20:16:00.665645Z",
     "start_time": "2018-04-18T20:16:00.656073Z"
    },
    "cell_style": "split",
    "hidden": true,
    "slideshow": {
     "slide_type": "fragment"
    }
   },
   "outputs": [
    {
     "data": {
      "text/plain": [
       "{12, 24, 48, 96, 192}"
      ]
     },
     "execution_count": 52,
     "metadata": {},
     "output_type": "execute_result"
    }
   ],
   "source": [
    "my_set"
   ]
  },
  {
   "cell_type": "markdown",
   "metadata": {
    "hidden": true,
    "slideshow": {
     "slide_type": "subslide"
    }
   },
   "source": [
    "##### Make a set from an iterable, such as a list or tuple"
   ]
  },
  {
   "cell_type": "code",
   "execution_count": 53,
   "metadata": {
    "ExecuteTime": {
     "end_time": "2018-04-19T18:03:48.422781Z",
     "start_time": "2018-04-19T18:03:48.410862Z"
    },
    "cell_style": "split",
    "hidden": true,
    "init_cell": true,
    "slideshow": {
     "slide_type": "fragment"
    }
   },
   "outputs": [],
   "source": [
    "my_other_list = [0, 25, 48]"
   ]
  },
  {
   "cell_type": "code",
   "execution_count": 54,
   "metadata": {
    "ExecuteTime": {
     "end_time": "2018-04-19T19:51:06.992730Z",
     "start_time": "2018-04-19T19:51:06.978299Z"
    },
    "cell_style": "split",
    "hidden": true,
    "init_cell": true,
    "slideshow": {
     "slide_type": "fragment"
    }
   },
   "outputs": [
    {
     "data": {
      "text/plain": [
       "{0, 25, 48}"
      ]
     },
     "execution_count": 54,
     "metadata": {},
     "output_type": "execute_result"
    }
   ],
   "source": [
    "another_set = set(my_other_list)\n",
    "another_set"
   ]
  },
  {
   "cell_type": "markdown",
   "metadata": {
    "hidden": true,
    "slideshow": {
     "slide_type": "subslide"
    }
   },
   "source": [
    "#### Set Theory Operations"
   ]
  },
  {
   "cell_type": "markdown",
   "metadata": {
    "hidden": true,
    "slideshow": {
     "slide_type": "fragment"
    }
   },
   "source": [
    "Because Python is explicitly treating [`set`] objects as the kind of sets discussed in [set theory], you can do operations on them. \n",
    "\n",
    "[set theory]: https://en.wikipedia.org/wiki/Set_theory\n",
    "[`set`]: https://docs.python.org/3/library/stdtypes.html#set"
   ]
  },
  {
   "cell_type": "markdown",
   "metadata": {
    "hidden": true,
    "slideshow": {
     "slide_type": "subslide"
    }
   },
   "source": [
    "##### Difference / Exclusion"
   ]
  },
  {
   "cell_type": "code",
   "execution_count": 55,
   "metadata": {
    "ExecuteTime": {
     "end_time": "2018-04-19T19:57:03.150933Z",
     "start_time": "2018-04-19T19:57:03.135953Z"
    },
    "cell_style": "split",
    "hidden": true,
    "slideshow": {
     "slide_type": "fragment"
    }
   },
   "outputs": [],
   "source": [
    "my_set = {12, 24, 48, 96, 192}\n",
    "another_set = {0, 25, 48}"
   ]
  },
  {
   "cell_type": "code",
   "execution_count": 56,
   "metadata": {
    "ExecuteTime": {
     "end_time": "2018-04-19T19:57:03.150933Z",
     "start_time": "2018-04-19T19:57:03.135953Z"
    },
    "cell_style": "split",
    "hidden": true,
    "slideshow": {
     "slide_type": "fragment"
    }
   },
   "outputs": [
    {
     "data": {
      "text/plain": [
       "{12, 24, 96, 192}"
      ]
     },
     "execution_count": 56,
     "metadata": {},
     "output_type": "execute_result"
    }
   ],
   "source": [
    "my_set - another_set"
   ]
  },
  {
   "cell_type": "code",
   "execution_count": 57,
   "metadata": {
    "ExecuteTime": {
     "end_time": "2018-04-19T19:57:01.252713Z",
     "start_time": "2018-04-19T19:57:01.245419Z"
    },
    "cell_style": "split",
    "hidden": true,
    "slideshow": {
     "slide_type": "fragment"
    }
   },
   "outputs": [
    {
     "data": {
      "text/plain": [
       "{0, 25}"
      ]
     },
     "execution_count": 57,
     "metadata": {},
     "output_type": "execute_result"
    }
   ],
   "source": [
    "another_set - my_set"
   ]
  },
  {
   "cell_type": "markdown",
   "metadata": {
    "hidden": true,
    "slideshow": {
     "slide_type": "subslide"
    }
   },
   "source": [
    "##### Union & Intersection"
   ]
  },
  {
   "cell_type": "code",
   "execution_count": 58,
   "metadata": {
    "ExecuteTime": {
     "end_time": "2018-04-19T19:57:03.150933Z",
     "start_time": "2018-04-19T19:57:03.135953Z"
    },
    "cell_style": "split",
    "hidden": true,
    "slideshow": {
     "slide_type": "fragment"
    }
   },
   "outputs": [],
   "source": [
    "my_set = {12, 24, 48, 96, 192}\n",
    "another_set = {0, 25, 48}"
   ]
  },
  {
   "cell_type": "code",
   "execution_count": 59,
   "metadata": {
    "ExecuteTime": {
     "end_time": "2018-04-18T20:16:09.737541Z",
     "start_time": "2018-04-18T20:16:09.717442Z"
    },
    "cell_style": "split",
    "hidden": true,
    "slideshow": {
     "slide_type": "fragment"
    }
   },
   "outputs": [
    {
     "data": {
      "text/plain": [
       "{0, 12, 24, 25, 48, 96, 192}"
      ]
     },
     "execution_count": 59,
     "metadata": {},
     "output_type": "execute_result"
    }
   ],
   "source": [
    "my_set | another_set"
   ]
  },
  {
   "cell_type": "code",
   "execution_count": 60,
   "metadata": {
    "ExecuteTime": {
     "end_time": "2018-04-18T20:16:10.641418Z",
     "start_time": "2018-04-18T20:16:10.630466Z"
    },
    "cell_style": "split",
    "hidden": true,
    "slideshow": {
     "slide_type": "fragment"
    }
   },
   "outputs": [
    {
     "data": {
      "text/plain": [
       "{48}"
      ]
     },
     "execution_count": 60,
     "metadata": {},
     "output_type": "execute_result"
    }
   ],
   "source": [
    "my_set & another_set"
   ]
  },
  {
   "cell_type": "markdown",
   "metadata": {
    "hidden": true,
    "slideshow": {
     "slide_type": "subslide"
    }
   },
   "source": [
    "##### Symmetric Difference"
   ]
  },
  {
   "cell_type": "code",
   "execution_count": 61,
   "metadata": {
    "ExecuteTime": {
     "end_time": "2018-04-19T19:57:03.150933Z",
     "start_time": "2018-04-19T19:57:03.135953Z"
    },
    "cell_style": "split",
    "hidden": true,
    "slideshow": {
     "slide_type": "fragment"
    }
   },
   "outputs": [],
   "source": [
    "my_set = {12, 24, 48, 96, 192}\n",
    "another_set = {0, 25, 48}"
   ]
  },
  {
   "cell_type": "code",
   "execution_count": 62,
   "metadata": {
    "ExecuteTime": {
     "end_time": "2018-04-19T17:52:27.869496Z",
     "start_time": "2018-04-19T17:52:27.843090Z"
    },
    "cell_style": "split",
    "hidden": true,
    "slideshow": {
     "slide_type": "fragment"
    }
   },
   "outputs": [
    {
     "data": {
      "text/plain": [
       "{0, 12, 24, 25, 96, 192}"
      ]
     },
     "execution_count": 62,
     "metadata": {},
     "output_type": "execute_result"
    }
   ],
   "source": [
    "my_set ^ another_set"
   ]
  },
  {
   "cell_type": "code",
   "execution_count": 63,
   "metadata": {
    "ExecuteTime": {
     "end_time": "2018-04-19T17:52:29.315837Z",
     "start_time": "2018-04-19T17:52:29.305050Z"
    },
    "cell_style": "split",
    "hidden": true,
    "slideshow": {
     "slide_type": "fragment"
    }
   },
   "outputs": [
    {
     "data": {
      "text/plain": [
       "{0, 12, 24, 25, 96, 192}"
      ]
     },
     "execution_count": 63,
     "metadata": {},
     "output_type": "execute_result"
    }
   ],
   "source": [
    "set.symmetric_difference(my_set, another_set)"
   ]
  },
  {
   "cell_type": "markdown",
   "metadata": {
    "heading_collapsed": true,
    "slideshow": {
     "slide_type": "slide"
    }
   },
   "source": [
    "### Dictionaries"
   ]
  },
  {
   "cell_type": "markdown",
   "metadata": {
    "hidden": true,
    "slideshow": {
     "slide_type": "fragment"
    }
   },
   "source": [
    "Dictionaries in Python are just a collection of named things. The things can be another dictionary, a string, a number, or whatver. Even the names of the things don't necessarily have to be words—they can be numbers, for example."
   ]
  },
  {
   "cell_type": "markdown",
   "metadata": {
    "hidden": true,
    "slideshow": {
     "slide_type": "skip"
    }
   },
   "source": [
    "#### Basic definition and access"
   ]
  },
  {
   "cell_type": "markdown",
   "metadata": {
    "ExecuteTime": {
     "end_time": "2018-04-17T20:48:22.463274Z",
     "start_time": "2018-04-17T20:48:22.453042Z"
    },
    "cell_style": "split",
    "hidden": true,
    "slideshow": {
     "slide_type": "subslide"
    }
   },
   "source": [
    "##### Define a dictionary:"
   ]
  },
  {
   "cell_type": "code",
   "execution_count": 64,
   "metadata": {
    "ExecuteTime": {
     "end_time": "2018-04-19T19:12:35.924588Z",
     "start_time": "2018-04-19T19:12:35.914970Z"
    },
    "cell_style": "split",
    "hidden": true,
    "slideshow": {
     "slide_type": "fragment"
    }
   },
   "outputs": [],
   "source": [
    "my_dictionary = {\n",
    "    'one': 1,\n",
    "    2: 'two',\n",
    "    \"green\": \"I like colour green.\",\n",
    "    \"another dictionary\": {\"more stuff\": 1024,\n",
    "                           'even more stuff': 2048},\n",
    "    \"a list\": my_list\n",
    "}"
   ]
  },
  {
   "cell_type": "markdown",
   "metadata": {
    "hidden": true,
    "slideshow": {
     "slide_type": "subslide"
    }
   },
   "source": [
    "##### Access stored values:"
   ]
  },
  {
   "cell_type": "code",
   "execution_count": 65,
   "metadata": {
    "ExecuteTime": {
     "end_time": "2018-04-19T19:13:25.667722Z",
     "start_time": "2018-04-19T19:13:25.651689Z"
    },
    "cell_style": "split",
    "hidden": true,
    "slideshow": {
     "slide_type": "fragment"
    }
   },
   "outputs": [
    {
     "data": {
      "text/plain": [
       "1"
      ]
     },
     "execution_count": 65,
     "metadata": {},
     "output_type": "execute_result"
    }
   ],
   "source": [
    "my_dictionary[\"one\"]"
   ]
  },
  {
   "cell_type": "code",
   "execution_count": 66,
   "metadata": {
    "ExecuteTime": {
     "end_time": "2018-04-19T19:13:26.185436Z",
     "start_time": "2018-04-19T19:13:26.175828Z"
    },
    "cell_style": "split",
    "hidden": true,
    "slideshow": {
     "slide_type": "fragment"
    }
   },
   "outputs": [
    {
     "data": {
      "text/plain": [
       "'two'"
      ]
     },
     "execution_count": 66,
     "metadata": {},
     "output_type": "execute_result"
    }
   ],
   "source": [
    "my_dictionary[2]"
   ]
  },
  {
   "cell_type": "code",
   "execution_count": 67,
   "metadata": {
    "ExecuteTime": {
     "end_time": "2018-04-19T19:59:24.644835Z",
     "start_time": "2018-04-19T19:59:24.633194Z"
    },
    "cell_style": "center",
    "hidden": true,
    "slideshow": {
     "slide_type": "fragment"
    }
   },
   "outputs": [
    {
     "data": {
      "text/plain": [
       "2048"
      ]
     },
     "execution_count": 67,
     "metadata": {},
     "output_type": "execute_result"
    }
   ],
   "source": [
    "my_dictionary[\"another dictionary\"][\"even more stuff\"]"
   ]
  },
  {
   "cell_type": "markdown",
   "metadata": {
    "hidden": true,
    "slideshow": {
     "slide_type": "subslide"
    }
   },
   "source": [
    "Note that any attempt to use a non-existant key results in a Python exception called a `KeyError`. This is helpful if you make a human error, or unexpectedly find keys missing. (There _are_ ways around it.)"
   ]
  },
  {
   "cell_type": "code",
   "execution_count": 68,
   "metadata": {
    "ExecuteTime": {
     "end_time": "2018-04-19T19:59:21.466840Z",
     "start_time": "2018-04-19T19:59:21.434693Z"
    },
    "hidden": true,
    "scrolled": true,
    "slideshow": {
     "slide_type": "fragment"
    }
   },
   "outputs": [
    {
     "ename": "KeyError",
     "evalue": "\"some key that doesn't exist\"",
     "output_type": "error",
     "traceback": [
      "\u001b[0;31m---------------------------------------------------------------------------\u001b[0m",
      "\u001b[0;31mKeyError\u001b[0m                                  Traceback (most recent call last)",
      "\u001b[0;32m<ipython-input-68-6706547ecbde>\u001b[0m in \u001b[0;36m<module>\u001b[0;34m()\u001b[0m\n\u001b[0;32m----> 1\u001b[0;31m \u001b[0mmy_dictionary\u001b[0m\u001b[0;34m[\u001b[0m\u001b[0;34m\"some key that doesn't exist\"\u001b[0m\u001b[0;34m]\u001b[0m\u001b[0;34m\u001b[0m\u001b[0m\n\u001b[0m",
      "\u001b[0;31mKeyError\u001b[0m: \"some key that doesn't exist\""
     ]
    }
   ],
   "source": [
    "my_dictionary[\"some key that doesn't exist\"]"
   ]
  },
  {
   "cell_type": "markdown",
   "metadata": {
    "hidden": true,
    "slideshow": {
     "slide_type": "subslide"
    }
   },
   "source": [
    "##### Assign values to existing keys or new keys:"
   ]
  },
  {
   "cell_type": "code",
   "execution_count": 69,
   "metadata": {
    "ExecuteTime": {
     "end_time": "2018-04-19T20:01:01.349199Z",
     "start_time": "2018-04-19T20:01:01.338150Z"
    },
    "cell_style": "split",
    "hidden": true,
    "slideshow": {
     "slide_type": "fragment"
    }
   },
   "outputs": [],
   "source": [
    "my_dictionary[\"two\"] = my_dictionary[2]\n",
    "my_dictionary[2] = \"fourteen\""
   ]
  },
  {
   "cell_type": "code",
   "execution_count": 70,
   "metadata": {
    "ExecuteTime": {
     "end_time": "2018-04-19T20:01:02.025418Z",
     "start_time": "2018-04-19T20:01:02.014622Z"
    },
    "cell_style": "split",
    "hidden": true,
    "slideshow": {
     "slide_type": "fragment"
    }
   },
   "outputs": [],
   "source": [
    "my_dictionary[\"some key that didn't exist before\"] = \"Some value that didn't exist before\""
   ]
  },
  {
   "cell_type": "code",
   "execution_count": 71,
   "metadata": {
    "ExecuteTime": {
     "end_time": "2018-04-19T20:01:02.662259Z",
     "start_time": "2018-04-19T20:01:02.652235Z"
    },
    "hidden": true,
    "slideshow": {
     "slide_type": "fragment"
    }
   },
   "outputs": [
    {
     "data": {
      "text/plain": [
       "dict_keys(['one', 2, 'green', 'another dictionary', 'a list', 'two', \"some key that didn't exist before\"])"
      ]
     },
     "execution_count": 71,
     "metadata": {},
     "output_type": "execute_result"
    }
   ],
   "source": [
    "my_dictionary.keys()"
   ]
  },
  {
   "cell_type": "markdown",
   "metadata": {
    "hidden": true,
    "slideshow": {
     "slide_type": "subslide"
    }
   },
   "source": [
    "#### Using `for` to access a `dict`"
   ]
  },
  {
   "cell_type": "markdown",
   "metadata": {
    "hidden": true,
    "slideshow": {
     "slide_type": "fragment"
    }
   },
   "source": [
    "##### Dictionary iterables"
   ]
  },
  {
   "cell_type": "markdown",
   "metadata": {
    "hidden": true,
    "slideshow": {
     "slide_type": "fragment"
    }
   },
   "source": [
    "Python's `for` statements are handy for doing something to each item in a collection. Dictionaries are a type of collection, but since they have keys and values, you need to specify which you want. To address this, there are three handy methods that all dictionaries have:\n",
    "\n",
    "- [`keys()`] - Only the key names\n",
    "- [`values()`] - Only the values\n",
    "- [`items()`] - Pairs of keys and values\n",
    "\n",
    "[`keys()`]: https://docs.python.org/3/library/stdtypes.html#dict.keys\n",
    "[`values()`]: https://docs.python.org/3/library/stdtypes.html#dict.values\n",
    "[`items()`]: https://docs.python.org/3/library/stdtypes.html#dict.items\n",
    "\n"
   ]
  },
  {
   "cell_type": "markdown",
   "metadata": {
    "cell_style": "split",
    "hidden": true,
    "slideshow": {
     "slide_type": "subslide"
    }
   },
   "source": [
    "##### `keys()`"
   ]
  },
  {
   "cell_type": "code",
   "execution_count": 72,
   "metadata": {
    "ExecuteTime": {
     "end_time": "2018-04-19T20:01:09.350690Z",
     "start_time": "2018-04-19T20:01:09.322762Z"
    },
    "cell_style": "split",
    "hidden": true,
    "slideshow": {
     "slide_type": "fragment"
    }
   },
   "outputs": [
    {
     "data": {
      "text/plain": [
       "'one'"
      ]
     },
     "metadata": {},
     "output_type": "display_data"
    },
    {
     "data": {
      "text/plain": [
       "2"
      ]
     },
     "metadata": {},
     "output_type": "display_data"
    },
    {
     "data": {
      "text/plain": [
       "'green'"
      ]
     },
     "metadata": {},
     "output_type": "display_data"
    },
    {
     "data": {
      "text/plain": [
       "'another dictionary'"
      ]
     },
     "metadata": {},
     "output_type": "display_data"
    },
    {
     "data": {
      "text/plain": [
       "'a list'"
      ]
     },
     "metadata": {},
     "output_type": "display_data"
    },
    {
     "data": {
      "text/plain": [
       "'two'"
      ]
     },
     "metadata": {},
     "output_type": "display_data"
    },
    {
     "data": {
      "text/plain": [
       "\"some key that didn't exist before\""
      ]
     },
     "metadata": {},
     "output_type": "display_data"
    }
   ],
   "source": [
    "for key in my_dictionary.keys():\n",
    "    display(key)"
   ]
  },
  {
   "cell_type": "markdown",
   "metadata": {
    "cell_style": "split",
    "hidden": true,
    "slideshow": {
     "slide_type": "subslide"
    }
   },
   "source": [
    "##### `values()`"
   ]
  },
  {
   "cell_type": "code",
   "execution_count": 73,
   "metadata": {
    "ExecuteTime": {
     "end_time": "2018-04-19T20:01:11.290501Z",
     "start_time": "2018-04-19T20:01:11.250880Z"
    },
    "cell_style": "split",
    "hidden": true,
    "slideshow": {
     "slide_type": "fragment"
    }
   },
   "outputs": [
    {
     "data": {
      "text/plain": [
       "1"
      ]
     },
     "metadata": {},
     "output_type": "display_data"
    },
    {
     "data": {
      "text/plain": [
       "'fourteen'"
      ]
     },
     "metadata": {},
     "output_type": "display_data"
    },
    {
     "data": {
      "text/plain": [
       "'I like colour green.'"
      ]
     },
     "metadata": {},
     "output_type": "display_data"
    },
    {
     "data": {
      "text/plain": [
       "{'even more stuff': 2048, 'more stuff': 1024}"
      ]
     },
     "metadata": {},
     "output_type": "display_data"
    },
    {
     "data": {
      "text/plain": [
       "[1, 2, 3, 'four']"
      ]
     },
     "metadata": {},
     "output_type": "display_data"
    },
    {
     "data": {
      "text/plain": [
       "'two'"
      ]
     },
     "metadata": {},
     "output_type": "display_data"
    },
    {
     "data": {
      "text/plain": [
       "\"Some value that didn't exist before\""
      ]
     },
     "metadata": {},
     "output_type": "display_data"
    }
   ],
   "source": [
    "for value in my_dictionary.values():\n",
    "    display(value)"
   ]
  },
  {
   "cell_type": "markdown",
   "metadata": {
    "cell_style": "split",
    "hidden": true,
    "slideshow": {
     "slide_type": "subslide"
    }
   },
   "source": [
    "##### `items()`"
   ]
  },
  {
   "cell_type": "code",
   "execution_count": 74,
   "metadata": {
    "ExecuteTime": {
     "end_time": "2018-04-19T20:01:13.137477Z",
     "start_time": "2018-04-19T20:01:13.097007Z"
    },
    "cell_style": "split",
    "hidden": true,
    "slideshow": {
     "slide_type": "fragment"
    }
   },
   "outputs": [
    {
     "data": {
      "text/plain": [
       "('one', 1)"
      ]
     },
     "metadata": {},
     "output_type": "display_data"
    },
    {
     "data": {
      "text/plain": [
       "(2, 'fourteen')"
      ]
     },
     "metadata": {},
     "output_type": "display_data"
    },
    {
     "data": {
      "text/plain": [
       "('green', 'I like colour green.')"
      ]
     },
     "metadata": {},
     "output_type": "display_data"
    },
    {
     "data": {
      "text/plain": [
       "('another dictionary', {'even more stuff': 2048, 'more stuff': 1024})"
      ]
     },
     "metadata": {},
     "output_type": "display_data"
    },
    {
     "data": {
      "text/plain": [
       "('a list', [1, 2, 3, 'four'])"
      ]
     },
     "metadata": {},
     "output_type": "display_data"
    },
    {
     "data": {
      "text/plain": [
       "('two', 'two')"
      ]
     },
     "metadata": {},
     "output_type": "display_data"
    },
    {
     "data": {
      "text/plain": [
       "(\"some key that didn't exist before\", \"Some value that didn't exist before\")"
      ]
     },
     "metadata": {},
     "output_type": "display_data"
    }
   ],
   "source": [
    "for item in my_dictionary.items():\n",
    "    display(item)"
   ]
  },
  {
   "cell_type": "markdown",
   "metadata": {
    "hidden": true,
    "slideshow": {
     "slide_type": "subslide"
    }
   },
   "source": [
    "The \"item\" returned by `items()` is always a tuple of two values. You can name them anything you want, but here's the gist of the idea:\n",
    "\n",
    "`(key, value)`"
   ]
  },
  {
   "cell_type": "code",
   "execution_count": 75,
   "metadata": {
    "ExecuteTime": {
     "end_time": "2018-04-19T20:31:37.801011Z",
     "start_time": "2018-04-19T20:31:37.789537Z"
    },
    "hidden": true,
    "slideshow": {
     "slide_type": "fragment"
    }
   },
   "outputs": [
    {
     "name": "stdout",
     "output_type": "stream",
     "text": [
      "Key: 2\n",
      "Value: two\n",
      "\n",
      "Key: another dictionary\n",
      "Value: {'more stuff': 1024, 'even more stuff': 2048}\n",
      "\n",
      "Key: a list\n",
      "Value: [1, 2, 3, 'four']\n",
      "\n"
     ]
    }
   ],
   "source": [
    "my_dictionary = {\n",
    "    2: 'two',\n",
    "    \"another dictionary\": {\"more stuff\": 1024,\n",
    "                           'even more stuff': 2048},\n",
    "    \"a list\": my_list\n",
    "}\n",
    "for key, value in my_dictionary.items():\n",
    "    print(f\"Key: {key}\\n\"\n",
    "          f\"Value: {value}\\n\")"
   ]
  },
  {
   "cell_type": "markdown",
   "metadata": {
    "hidden": true,
    "slideshow": {
     "slide_type": "subslide"
    }
   },
   "source": [
    "#### Using `for` to define a `dict`"
   ]
  },
  {
   "cell_type": "markdown",
   "metadata": {
    "hidden": true,
    "slideshow": {
     "slide_type": "fragment"
    }
   },
   "source": [
    "With a list of items, it's often useful to make a dictionary with keys or values based those items.\n",
    "\n",
    "For example, let's say we have this filtered list expression:"
   ]
  },
  {
   "cell_type": "code",
   "execution_count": 76,
   "metadata": {
    "ExecuteTime": {
     "end_time": "2018-04-19T19:26:30.551474Z",
     "start_time": "2018-04-19T19:26:30.539232Z"
    },
    "hidden": true,
    "slideshow": {
     "slide_type": "fragment"
    }
   },
   "outputs": [
    {
     "data": {
      "text/plain": [
       "[101, 102, 103]"
      ]
     },
     "execution_count": 76,
     "metadata": {},
     "output_type": "execute_result"
    }
   ],
   "source": [
    "[item + 100\n",
    " for item in my_list if item != \"four\"]\n"
   ]
  },
  {
   "cell_type": "markdown",
   "metadata": {
    "hidden": true,
    "slideshow": {
     "slide_type": "fragment"
    }
   },
   "source": [
    "The syntax for dictionary creation with `for` is almost the same as that of lists, but like in standard dictionary definitions, you'd use `key: value` for the assignment. You can use expressions to transform the keys as well as the values, if you want.\n"
   ]
  },
  {
   "cell_type": "code",
   "execution_count": 77,
   "metadata": {
    "ExecuteTime": {
     "end_time": "2018-04-19T19:31:23.033323Z",
     "start_time": "2018-04-19T19:31:23.020607Z"
    },
    "hidden": true,
    "slideshow": {
     "slide_type": "fragment"
    }
   },
   "outputs": [
    {
     "data": {
      "text/plain": [
       "{'Key #1': 101, 'Key #2': 102, 'Key #3': 103}"
      ]
     },
     "execution_count": 77,
     "metadata": {},
     "output_type": "execute_result"
    }
   ],
   "source": [
    "{f\"Key #{item}\": item + 100\n",
    " for item in my_list if item != \"four\"}"
   ]
  },
  {
   "cell_type": "markdown",
   "metadata": {
    "hidden": true,
    "slideshow": {
     "slide_type": "subslide"
    }
   },
   "source": [
    "This is the same as using the regular assignment syntax in a regular `for` loop:"
   ]
  },
  {
   "cell_type": "code",
   "execution_count": 78,
   "metadata": {
    "ExecuteTime": {
     "end_time": "2018-04-19T19:33:24.124133Z",
     "start_time": "2018-04-19T19:33:24.115111Z"
    },
    "hidden": true,
    "slideshow": {
     "slide_type": "fragment"
    }
   },
   "outputs": [],
   "source": [
    "# Equivalent to:\n",
    "# {f\"Key #{item}\": item + 100\n",
    "#  for item in my_list if item != \"four\"}\n",
    "my_new_dict = {}\n",
    "for item in my_list:\n",
    "    if item != \"four\":\n",
    "        my_new_dict[f\"Key #{item}\"] = item + 100"
   ]
  },
  {
   "cell_type": "markdown",
   "metadata": {
    "hidden": true,
    "slideshow": {
     "slide_type": "fragment"
    }
   },
   "source": [
    "You should use whichever format is clearest for your situation."
   ]
  },
  {
   "cell_type": "markdown",
   "metadata": {
    "hidden": true
   },
   "source": [
    "#### `defaultdict`: an Agreeable Dictionary"
   ]
  },
  {
   "cell_type": "markdown",
   "metadata": {
    "hidden": true
   },
   "source": [
    "[`defaultdict`] is like a regular dictionary, except it doesn't complain if you try to access a key that doesn't exist yet—it just adds it.\n",
    "\n",
    "[`defaultdict`]: https://docs.python.org/3/library/collections.html#collections.defaultdict"
   ]
  },
  {
   "cell_type": "markdown",
   "metadata": {
    "hidden": true
   },
   "source": [
    "Remember how a regular `dict` handles invalid keys? Suppose we attempt to append to a list that we think is stored in a certain key, even though the dictionary is empty:\n"
   ]
  },
  {
   "cell_type": "code",
   "execution_count": 79,
   "metadata": {
    "ExecuteTime": {
     "start_time": "2018-04-18T20:07:20.669Z"
    },
    "hidden": true
   },
   "outputs": [],
   "source": [
    "my_dictionary = dict()"
   ]
  },
  {
   "cell_type": "code",
   "execution_count": 80,
   "metadata": {
    "ExecuteTime": {
     "start_time": "2018-04-18T20:07:20.669Z"
    },
    "hidden": true,
    "scrolled": false
   },
   "outputs": [
    {
     "ename": "KeyError",
     "evalue": "\"some key that doesn't exist\"",
     "output_type": "error",
     "traceback": [
      "\u001b[0;31m---------------------------------------------------------------------------\u001b[0m",
      "\u001b[0;31mKeyError\u001b[0m                                  Traceback (most recent call last)",
      "\u001b[0;32m<ipython-input-80-2290fcff78b2>\u001b[0m in \u001b[0;36m<module>\u001b[0;34m()\u001b[0m\n\u001b[0;32m----> 1\u001b[0;31m \u001b[0mmy_dictionary\u001b[0m\u001b[0;34m[\u001b[0m\u001b[0;34m\"some key that doesn't exist\"\u001b[0m\u001b[0;34m]\u001b[0m\u001b[0;34m.\u001b[0m\u001b[0mappend\u001b[0m\u001b[0;34m(\u001b[0m\u001b[0;34m\"an item\"\u001b[0m\u001b[0;34m)\u001b[0m\u001b[0;34m\u001b[0m\u001b[0m\n\u001b[0m\u001b[1;32m      2\u001b[0m \u001b[0mmy_dictionary\u001b[0m\u001b[0;34m[\u001b[0m\u001b[0;34m\"some key that doesn't exist\"\u001b[0m\u001b[0;34m]\u001b[0m\u001b[0;34m.\u001b[0m\u001b[0mappend\u001b[0m\u001b[0;34m(\u001b[0m\u001b[0;34m\"another item\"\u001b[0m\u001b[0;34m)\u001b[0m\u001b[0;34m\u001b[0m\u001b[0m\n",
      "\u001b[0;31mKeyError\u001b[0m: \"some key that doesn't exist\""
     ]
    }
   ],
   "source": [
    "my_dictionary[\"some key that doesn't exist\"].append(\"an item\")\n",
    "my_dictionary[\"some key that doesn't exist\"].append(\"another item\")"
   ]
  },
  {
   "cell_type": "markdown",
   "metadata": {
    "hidden": true
   },
   "source": [
    "Can't append to a list object that doesn't exist!"
   ]
  },
  {
   "cell_type": "markdown",
   "metadata": {
    "hidden": true
   },
   "source": [
    "If it were a [`defaultdict`], set to make `list` objects by default:\n",
    "\n",
    "[`defaultdict`]: https://docs.python.org/3/library/collections.html#collections.defaultdict"
   ]
  },
  {
   "cell_type": "code",
   "execution_count": 81,
   "metadata": {
    "ExecuteTime": {
     "start_time": "2018-04-18T20:07:22.477Z"
    },
    "hidden": true,
    "init_cell": true
   },
   "outputs": [],
   "source": [
    "from collections import defaultdict"
   ]
  },
  {
   "cell_type": "code",
   "execution_count": 82,
   "metadata": {
    "ExecuteTime": {
     "start_time": "2018-04-18T20:07:22.477Z"
    },
    "hidden": true
   },
   "outputs": [],
   "source": [
    "my_defaultdict = defaultdict(list)"
   ]
  },
  {
   "cell_type": "code",
   "execution_count": 83,
   "metadata": {
    "ExecuteTime": {
     "start_time": "2018-04-18T20:07:22.477Z"
    },
    "hidden": true
   },
   "outputs": [],
   "source": [
    "my_defaultdict[\"some key that doesn't exist\"].append(\"an item\")\n",
    "my_defaultdict[\"some key that doesn't exist\"].append(\"another item\")"
   ]
  },
  {
   "cell_type": "code",
   "execution_count": 84,
   "metadata": {
    "ExecuteTime": {
     "start_time": "2018-04-18T20:07:22.477Z"
    },
    "hidden": true
   },
   "outputs": [
    {
     "data": {
      "text/plain": [
       "defaultdict(list, {\"some key that doesn't exist\": ['an item', 'another item']})"
      ]
     },
     "execution_count": 84,
     "metadata": {},
     "output_type": "execute_result"
    }
   ],
   "source": [
    "my_defaultdict"
   ]
  },
  {
   "cell_type": "markdown",
   "metadata": {
    "heading_collapsed": true,
    "slideshow": {
     "slide_type": "subslide"
    }
   },
   "source": [
    "## _pandas_"
   ]
  },
  {
   "cell_type": "markdown",
   "metadata": {
    "hidden": true,
    "slideshow": {
     "slide_type": "subslide"
    }
   },
   "source": [
    "@todo: intro to _pandas_\n",
    "\n",
    "* Series\n",
    "* Index\n",
    "* DataFrame\n",
    "* I/O"
   ]
  },
  {
   "cell_type": "markdown",
   "metadata": {
    "slideshow": {
     "slide_type": "slide"
    }
   },
   "source": [
    "# The Excel Workbook: `2017 CAM data from iPads.xlxs`"
   ]
  },
  {
   "cell_type": "code",
   "execution_count": 85,
   "metadata": {
    "ExecuteTime": {
     "end_time": "2018-04-19T18:03:48.942474Z",
     "start_time": "2018-04-19T18:03:48.933126Z"
    },
    "init_cell": true
   },
   "outputs": [],
   "source": [
    "# The file I'm interested in parsing for cleanup:\n",
    "file_path = \"./data/real/2017/CAM data from iPads/2017 CAM data from iPads.xlsx\""
   ]
  },
  {
   "cell_type": "markdown",
   "metadata": {
    "heading_collapsed": true,
    "slideshow": {
     "slide_type": "slide"
    }
   },
   "source": [
    "## Opening an Excel File with _pandas_"
   ]
  },
  {
   "cell_type": "code",
   "execution_count": 86,
   "metadata": {
    "ExecuteTime": {
     "end_time": "2018-04-19T18:03:50.692246Z",
     "start_time": "2018-04-19T18:03:48.964131Z"
    },
    "hidden": true,
    "init_cell": true
   },
   "outputs": [],
   "source": [
    "data_file = pandas.ExcelFile(file_path)"
   ]
  },
  {
   "cell_type": "markdown",
   "metadata": {
    "hidden": true
   },
   "source": [
    "If you get an error here, it may be due to a missing module called `xlrd`. The [setup instructions] will tell you how to install it.\n",
    "\n",
    "[setup instructions]: #Reading-Excel-files,-processing-data"
   ]
  },
  {
   "cell_type": "markdown",
   "metadata": {
    "heading_collapsed": true,
    "slideshow": {
     "slide_type": "slide"
    }
   },
   "source": [
    "## Worksheets in the File, as DataFrames"
   ]
  },
  {
   "cell_type": "code",
   "execution_count": 87,
   "metadata": {
    "ExecuteTime": {
     "end_time": "2018-04-19T18:03:50.724741Z",
     "start_time": "2018-04-19T18:03:50.695988Z"
    },
    "hidden": true,
    "init_cell": true
   },
   "outputs": [],
   "source": [
    "data_file_sheet_names = sorted(data_file.sheet_names)"
   ]
  },
  {
   "cell_type": "code",
   "execution_count": 88,
   "metadata": {
    "ExecuteTime": {
     "end_time": "2018-04-19T18:03:50.724741Z",
     "start_time": "2018-04-19T18:03:50.695988Z"
    },
    "hidden": true
   },
   "outputs": [
    {
     "data": {
      "text/plain": [
       "['2017 CAM data Erl',\n",
       " '2017 CAM iPad data Tyler',\n",
       " 'Combined iPad 2017 CAM data',\n",
       " 'schema (WIP reverse engineer)']"
      ]
     },
     "execution_count": 88,
     "metadata": {},
     "output_type": "execute_result"
    }
   ],
   "source": [
    "data_file_sheet_names"
   ]
  },
  {
   "cell_type": "markdown",
   "metadata": {
    "hidden": true
   },
   "source": [
    "I'm only interested in first two, which should have all the data. The other sheets are either unfinished or unrelated to the task at hand."
   ]
  },
  {
   "cell_type": "code",
   "execution_count": 89,
   "metadata": {
    "ExecuteTime": {
     "end_time": "2018-04-19T18:03:50.766374Z",
     "start_time": "2018-04-19T18:03:50.739049Z"
    },
    "hidden": true,
    "init_cell": true
   },
   "outputs": [],
   "source": [
    "cam_sheet_names = data_file_sheet_names[:2]"
   ]
  },
  {
   "cell_type": "code",
   "execution_count": 90,
   "metadata": {
    "ExecuteTime": {
     "end_time": "2018-04-19T18:03:50.766374Z",
     "start_time": "2018-04-19T18:03:50.739049Z"
    },
    "hidden": true
   },
   "outputs": [
    {
     "data": {
      "text/plain": [
       "['2017 CAM data Erl', '2017 CAM iPad data Tyler']"
      ]
     },
     "execution_count": 90,
     "metadata": {},
     "output_type": "execute_result"
    }
   ],
   "source": [
    "cam_sheet_names"
   ]
  },
  {
   "cell_type": "code",
   "execution_count": 91,
   "metadata": {
    "ExecuteTime": {
     "start_time": "2018-04-18T20:06:36.746Z"
    },
    "cell_style": "split",
    "hidden": true,
    "init_cell": true
   },
   "outputs": [],
   "source": [
    "def last_word(string, word_separator=' '):\n",
    "    words = string.split(word_separator)\n",
    "    return words[-1]"
   ]
  },
  {
   "cell_type": "code",
   "execution_count": 92,
   "metadata": {
    "ExecuteTime": {
     "start_time": "2018-04-18T20:06:36.831Z"
    },
    "cell_style": "split",
    "hidden": true
   },
   "outputs": [
    {
     "data": {
      "text/plain": [
       "'here'"
      ]
     },
     "execution_count": 92,
     "metadata": {},
     "output_type": "execute_result"
    }
   ],
   "source": [
    "last_word(\"hey, there are words here\")"
   ]
  },
  {
   "cell_type": "markdown",
   "metadata": {
    "hidden": true
   },
   "source": [
    "Let's make a dictionary of DataFrames from all the sheets, using the last word as the name. If you're familiar with [lists] in Python, you may remember that an index of -1 means the last item, as in the largest possible index number. We're using `for` to define the `dict` based on items in `cam_sheet_names`. _pandas_ DataFrames can be made by calling the `parse` function from the _pandas_ file object, given a sheet name.\n",
    "\n",
    "[lists]: https://docs.python.org/3/tutorial/datastructures.html#lists"
   ]
  },
  {
   "cell_type": "code",
   "execution_count": 93,
   "metadata": {
    "ExecuteTime": {
     "end_time": "2018-04-19T18:03:50.960715Z",
     "start_time": "2018-04-19T18:03:50.796269Z"
    },
    "cell_style": "center",
    "hidden": true,
    "init_cell": true
   },
   "outputs": [],
   "source": [
    "sheets = {last_word(sheet_name): data_file.parse(sheet_name)\n",
    "          for sheet_name in cam_sheet_names}"
   ]
  },
  {
   "cell_type": "code",
   "execution_count": 94,
   "metadata": {
    "ExecuteTime": {
     "start_time": "2018-04-18T20:06:38.127Z"
    },
    "hidden": true
   },
   "outputs": [
    {
     "data": {
      "text/plain": [
       "dict_keys(['Erl', 'Tyler'])"
      ]
     },
     "execution_count": 94,
     "metadata": {},
     "output_type": "execute_result"
    }
   ],
   "source": [
    "sheets.keys()"
   ]
  },
  {
   "cell_type": "markdown",
   "metadata": {
    "heading_collapsed": true,
    "slideshow": {
     "slide_type": "slide"
    }
   },
   "source": [
    "## Goal: Unifying the DataFrames"
   ]
  },
  {
   "cell_type": "markdown",
   "metadata": {
    "hidden": true,
    "slideshow": {
     "slide_type": "notes"
    }
   },
   "source": [
    "Now that we have a convenient list of sheets that are loaded as _pandas_ DataFrames, we can work toward merging them into one. Once they're merged, we can process the data more easily from a single DataFrame."
   ]
  },
  {
   "cell_type": "markdown",
   "metadata": {
    "hidden": true,
    "slideshow": {
     "slide_type": "subslide"
    }
   },
   "source": [
    "### _pandas_ functions for merging DataFrames"
   ]
  },
  {
   "cell_type": "markdown",
   "metadata": {
    "hidden": true,
    "slideshow": {
     "slide_type": "fragment"
    }
   },
   "source": [
    "_pandas_ has multiple methods for combining datasets:\n",
    "\n",
    "- [`concat`]: The concatenate method has an option to ignore row numbers, which has the effect of gluing each dataframe to the bottom of the previous one.\n",
    "- [`append`]: Append would be almost equivalent, but always updates the first DataFrame or Series it's given.\n",
    "- [`merge`]: Merge is more for database-style relational merges.\n",
    "\n",
    "[`concat`]: https://pandas.pydata.org/pandas-docs/stable/merging.html\n",
    "[`append`]: https://pandas.pydata.org/pandas-docs/stable/merging.html#concatenating-using-append\n",
    "[`merge`]: https://pandas.pydata.org/pandas-docs/stable/merging.html#database-style-dataframe-joining-merging\n",
    "\n",
    "I'm thinking about [`append`], but I like to have the option of creating a new DataFrame rather than overwriting anything, because the results are easier to repeat.\n",
    "\n",
    "From reading up on all three methods, it looks to me like `concat` will suffice, here, as long as the column names are identical."
   ]
  },
  {
   "cell_type": "markdown",
   "metadata": {
    "hidden": true,
    "slideshow": {
     "slide_type": "fragment"
    }
   },
   "source": [
    "Let's see how close that concatenation method gets us:"
   ]
  },
  {
   "cell_type": "code",
   "execution_count": 95,
   "metadata": {
    "ExecuteTime": {
     "start_time": "2018-04-18T20:06:42.997Z"
    },
    "cell_style": "center",
    "hidden": true,
    "scrolled": true,
    "slideshow": {
     "slide_type": "subslide"
    }
   },
   "outputs": [
    {
     "name": "stdout",
     "output_type": "stream",
     "text": [
      "<class 'pandas.core.frame.DataFrame'>\n",
      "MultiIndex: 4690 entries, (Erl, 0) to (Tyler, 3779)\n",
      "Data columns (total 56 columns):\n",
      "clients__company                                                    1 non-null object\n",
      "clients__displayText                                                1 non-null object\n",
      "clients__fname                                                      1 non-null object\n",
      "clients__lname                                                      1 non-null object\n",
      "clients__name                                                       1 non-null object\n",
      "fields__client__company                                             21 non-null object\n",
      "fields__client__displayText                                         21 non-null object\n",
      "fields__client__fname                                               21 non-null object\n",
      "fields__client__lname                                               21 non-null object\n",
      "fields__client__name                                                21 non-null object\n",
      "fields__crop                                                        21 non-null object\n",
      "fields__date                                                        21 non-null object\n",
      "fields__desc                                                        15 non-null object\n",
      "fields__image                                                       21 non-null object\n",
      "fields__name                                                        21 non-null object\n",
      "fields__oSets__completeSets                                         54 non-null float64\n",
      "fields__oSets__date                                                 54 non-null object\n",
      "fields__oSets__dateCompare                                          54 non-null datetime64[ns]\n",
      "fields__oSets__desc                                                 0 non-null float64\n",
      "fields__oSets__growthStage                                          45 non-null float64\n",
      "fields__oSets__growthStage Zadoks                                   9 non-null float64\n",
      "fields__oSets__oPoints__id                                          335 non-null float64\n",
      "fields__oSets__oPoints__location__coords__accuracy                  250 non-null float64\n",
      "fields__oSets__oPoints__location__coords__altitude                  250 non-null float64\n",
      "fields__oSets__oPoints__location__coords__altitudeAccuracy          250 non-null float64\n",
      "fields__oSets__oPoints__location__coords__heading                   247 non-null float64\n",
      "fields__oSets__oPoints__location__coords__latitude                  250 non-null float64\n",
      "fields__oSets__oPoints__location__coords__longitude                 250 non-null float64\n",
      "fields__oSets__oPoints__location__coords__speed                     250 non-null float64\n",
      "fields__oSets__oPoints__location__timestamp                         250 non-null float64\n",
      "fields__oSets__oPoints__name                                        335 non-null object\n",
      "fields__oSets__oPoints__observations__a1__number                    324 non-null float64\n",
      "fields__oSets__oPoints__observations__a1__number EGA                124 non-null float64\n",
      "fields__oSets__oPoints__observations__a2__number                    112 non-null float64\n",
      "fields__oSets__oPoints__observations__a2__number BCO                30 non-null float64\n",
      "fields__oSets__oPoints__observations__a3__number                    25 non-null float64\n",
      "fields__oSets__oPoints__observations__a3__number Greenbug           0 non-null float64\n",
      "fields__oSets__oPoints__observations__anum                          1350 non-null float64\n",
      "fields__oSets__oPoints__observations__anum TotalAPhids              325 non-null float64\n",
      "fields__oSets__oPoints__observations__complete                      1937 non-null float64\n",
      "fields__oSets__oPoints__observations__disabled                      0 non-null float64\n",
      "fields__oSets__oPoints__observations__eVnum                         270 non-null float64\n",
      "fields__oSets__oPoints__observations__eVnum Natural enemy totals    65 non-null float64\n",
      "fields__oSets__oPoints__observations__enum                          335 non-null float64\n",
      "fields__oSets__oPoints__observations__id                            2010 non-null float64\n",
      "fields__oSets__oPoints__observations__name                          2010 non-null object\n",
      "fields__oSets__oPoints__observations__|                             3015 non-null object\n",
      "fields__oSets__oPoints__observations__|__number                     172 non-null float64\n",
      "fields__oSets__obsName                                              54 non-null object\n",
      "fields__oSets__results                                              52 non-null object\n",
      "fields__oSets__totalA1                                              52 non-null float64\n",
      "fields__oSets__totalA2                                              52 non-null float64\n",
      "fields__oSets__totalA3                                              52 non-null float64\n",
      "fields__oSets__totalA4                                              52 non-null float64\n",
      "fields__oSets__totalSets                                            54 non-null float64\n",
      "observers                                                           3 non-null object\n",
      "dtypes: datetime64[ns](1), float64(33), object(22)\n",
      "memory usage: 2.0+ MB\n"
     ]
    }
   ],
   "source": [
    "pandas.concat(sheets).info()"
   ]
  },
  {
   "cell_type": "markdown",
   "metadata": {
    "hidden": true
   },
   "source": [
    " "
   ]
  },
  {
   "cell_type": "markdown",
   "metadata": {
    "cell_style": "split",
    "hidden": true,
    "slideshow": {
     "slide_type": "fragment"
    }
   },
   "source": [
    "We can see the MultiIndex size in the info: \n",
    "\n",
    ">MultiIndex: 4690 entries, (Erl, 0) to (Tyler, 3779)\n",
    "\n",
    "Which means 4690 \"rows\", if this were a spreadsheet. "
   ]
  },
  {
   "cell_type": "markdown",
   "metadata": {
    "cell_style": "split",
    "hidden": true,
    "slideshow": {
     "slide_type": "fragment"
    }
   },
   "source": [
    "Compare to the total row count for all sheets, by using Python's function `len`:"
   ]
  },
  {
   "cell_type": "code",
   "execution_count": 96,
   "metadata": {
    "ExecuteTime": {
     "start_time": "2018-04-18T20:06:44.314Z"
    },
    "cell_style": "split",
    "hidden": true
   },
   "outputs": [
    {
     "data": {
      "text/plain": [
       "[910, 3780]"
      ]
     },
     "metadata": {},
     "output_type": "display_data"
    },
    {
     "data": {
      "text/plain": [
       "4690"
      ]
     },
     "execution_count": 96,
     "metadata": {},
     "output_type": "execute_result"
    }
   ],
   "source": [
    "data_frame_lengths = [len(sheet) for sheet in sheets.values()]\n",
    "display(data_frame_lengths)\n",
    "sum(data_frame_lengths)"
   ]
  },
  {
   "cell_type": "markdown",
   "metadata": {
    "hidden": true
   },
   "source": [
    " "
   ]
  },
  {
   "cell_type": "markdown",
   "metadata": {
    "cell_style": "split",
    "hidden": true
   },
   "source": [
    ">Data columns (total 56 columns)\n",
    "\n",
    "The `info()` readout for the concatenation dry run tells us about columns."
   ]
  },
  {
   "cell_type": "code",
   "execution_count": 97,
   "metadata": {
    "ExecuteTime": {
     "start_time": "2018-04-18T20:06:45.730Z"
    },
    "cell_style": "split",
    "hidden": true
   },
   "outputs": [
    {
     "data": {
      "text/plain": [
       "[50, 50]"
      ]
     },
     "execution_count": 97,
     "metadata": {},
     "output_type": "execute_result"
    }
   ],
   "source": [
    "[len(sheet.columns) for sheet in sheets.values()]"
   ]
  },
  {
   "cell_type": "markdown",
   "metadata": {
    "cell_style": "split",
    "hidden": true
   },
   "source": [
    "The column counts for each source worksheet."
   ]
  },
  {
   "cell_type": "markdown",
   "metadata": {
    "hidden": true
   },
   "source": [
    "Pretty good, so far, except for some extra columns due to variations in the column names—I see `growthStage` and `growthStage Zadoks`, as well as some aphid names amongst the `a1__number`, `a2__number`, `a3__number` group.\n",
    "\n",
    "* Unchanging number of rows\n",
    "  + Merge result: Good 😃\n",
    "    + no redundancy in rows\n",
    "    + no missing rows\n",
    "* Rising number of columns\n",
    "  - Merge result: Sub-optimal 😡\n",
    "    - redundancy in columns\n",
    "    - incomplete merge"
   ]
  },
  {
   "cell_type": "markdown",
   "metadata": {
    "hidden": true
   },
   "source": [
    "### Column Name Difference"
   ]
  },
  {
   "cell_type": "markdown",
   "metadata": {
    "hidden": true
   },
   "source": [
    "#### Visualize the Difference"
   ]
  },
  {
   "cell_type": "markdown",
   "metadata": {
    "hidden": true
   },
   "source": [
    "By looking at the column list from the dry run, it's already fairly obvious what the naming problem is. But just to demonstrate how to use Python to calculate differences, let's look again at our DataFrames column names.\n",
    "\n",
    "For our frames:"
   ]
  },
  {
   "cell_type": "code",
   "execution_count": 98,
   "metadata": {
    "ExecuteTime": {
     "start_time": "2018-04-18T20:06:50.515Z"
    },
    "hidden": true
   },
   "outputs": [
    {
     "name": "stdout",
     "output_type": "stream",
     "text": [
      "Erl, <class 'pandas.core.frame.DataFrame'>\n",
      "Tyler, <class 'pandas.core.frame.DataFrame'>\n"
     ]
    }
   ],
   "source": [
    "for key, sheet in sheets.items():\n",
    "    print(f\"{key}, {type(sheet)!r}\")"
   ]
  },
  {
   "cell_type": "code",
   "execution_count": 99,
   "metadata": {
    "hidden": true
   },
   "outputs": [
    {
     "name": "stdout",
     "output_type": "stream",
     "text": [
      "Erl, <class 'pandas.core.frame.DataFrame'>\n",
      "Tyler, <class 'pandas.core.frame.DataFrame'>\n"
     ]
    }
   ],
   "source": [
    "print('\\n'.join((f\"{key}, {type(sheet)!r}\" for key, sheet in sheets.items())))"
   ]
  },
  {
   "cell_type": "markdown",
   "metadata": {
    "hidden": true
   },
   "source": [
    "To list the names of columns from *all* sheets that don't have a match (symmetric difference), we can use [`set.symmetric_difference`], which is also written as the `^` symbol demonstrated in the [introduction to sets].\n",
    "\n",
    "[introduction to sets]: #Sets\n",
    "[`set.symmetric_difference`]: https://docs.python.org/3/library/stdtypes.html#frozenset.symmetric_difference"
   ]
  },
  {
   "cell_type": "code",
   "execution_count": 100,
   "metadata": {
    "ExecuteTime": {
     "start_time": "2018-04-18T20:06:52.557Z"
    },
    "hidden": true
   },
   "outputs": [
    {
     "data": {
      "text/plain": [
       "Index(['fields__oSets__growthStage', 'fields__oSets__growthStage Zadoks',\n",
       "       'fields__oSets__oPoints__observations__a1__number',\n",
       "       'fields__oSets__oPoints__observations__a1__number EGA',\n",
       "       'fields__oSets__oPoints__observations__a2__number',\n",
       "       'fields__oSets__oPoints__observations__a2__number BCO',\n",
       "       'fields__oSets__oPoints__observations__a3__number',\n",
       "       'fields__oSets__oPoints__observations__a3__number Greenbug',\n",
       "       'fields__oSets__oPoints__observations__anum',\n",
       "       'fields__oSets__oPoints__observations__anum TotalAPhids',\n",
       "       'fields__oSets__oPoints__observations__eVnum',\n",
       "       'fields__oSets__oPoints__observations__eVnum Natural enemy totals'],\n",
       "      dtype='object')"
      ]
     },
     "metadata": {},
     "output_type": "display_data"
    }
   ],
   "source": [
    "column_list = sheets['Erl'].columns ^ sheets['Tyler'].columns\n",
    "display(column_list)"
   ]
  },
  {
   "cell_type": "markdown",
   "metadata": {
    "hidden": true
   },
   "source": [
    "Here are the problematic parts:\n",
    "\n",
    "`fields__oSets__growthStage\n",
    "fields__oSets__growthStage `**`Zadoks`**`<\n",
    "fields__oSets__oPoints__observations__a1__number\n",
    "fields__oSets__oPoints__observations__a1__number `**`EGA`**`<\n",
    "fields__oSets__oPoints__observations__a2__number\n",
    "fields__oSets__oPoints__observations__a2__number `**`BCO`**`<\n",
    "fields__oSets__oPoints__observations__a3__number\n",
    "fields__oSets__oPoints__observations__a3__number `**`Greenbug`**`<\n",
    "fields__oSets__oPoints__observations__anum\n",
    "fields__oSets__oPoints__observations__anum `**`TotalAPhids`**`<\n",
    "fields__oSets__oPoints__observations__eVnum\n",
    "fields__oSets__oPoints__observations__eVnum `**`Natural enemy totals`**`<`"
   ]
  },
  {
   "cell_type": "markdown",
   "metadata": {
    "hidden": true
   },
   "source": [
    "Before we concatenate, let's standardize on the names from the more regular DataFrame. But which sheet is the one to fix? Which sheet has `fields__oSets__growthStage Zadoks` (two \"words\") instead of `fields__oSets__growthStage` (one \"word\")?\n",
    "\n",
    "Let's make sure of what we're about to do, by checking for any column names have multiple \"words\":"
   ]
  },
  {
   "cell_type": "code",
   "execution_count": 101,
   "metadata": {
    "ExecuteTime": {
     "start_time": "2018-04-18T20:06:55.132Z"
    },
    "hidden": true,
    "init_cell": true
   },
   "outputs": [],
   "source": [
    "sheets_with_bad_column_names = {sheet_name: sheet for sheet_name, sheet in sheets.items() \n",
    "                                if any(len(column.split()) > 1 for column in sheet.columns)}"
   ]
  },
  {
   "cell_type": "code",
   "execution_count": 102,
   "metadata": {
    "ExecuteTime": {
     "start_time": "2018-04-18T20:06:55.230Z"
    },
    "hidden": true
   },
   "outputs": [
    {
     "data": {
      "text/html": [
       "<h5>Bad:</h5>"
      ],
      "text/plain": [
       "<IPython.core.display.HTML object>"
      ]
     },
     "metadata": {},
     "output_type": "display_data"
    },
    {
     "data": {
      "text/plain": [
       "{'Erl'}"
      ]
     },
     "metadata": {},
     "output_type": "display_data"
    }
   ],
   "source": [
    "display(heading('Bad:'),\n",
    "        set(sheets_with_bad_column_names.keys()))"
   ]
  },
  {
   "cell_type": "markdown",
   "metadata": {
    "hidden": true
   },
   "source": [
    "There's now a `sheets_with_bad_column_names` list we can use when we fix that."
   ]
  },
  {
   "cell_type": "markdown",
   "metadata": {
    "hidden": true
   },
   "source": [
    "##### To Confirm:"
   ]
  },
  {
   "cell_type": "markdown",
   "metadata": {
    "hidden": true
   },
   "source": [
    "All the sheets, minus the bad ones:"
   ]
  },
  {
   "cell_type": "code",
   "execution_count": 103,
   "metadata": {
    "ExecuteTime": {
     "start_time": "2018-04-18T20:06:58.906Z"
    },
    "hidden": true
   },
   "outputs": [
    {
     "data": {
      "text/html": [
       "<h5>Good:</h5>"
      ],
      "text/plain": [
       "<IPython.core.display.HTML object>"
      ]
     },
     "metadata": {},
     "output_type": "display_data"
    },
    {
     "data": {
      "text/plain": [
       "{'Tyler'}"
      ]
     },
     "metadata": {},
     "output_type": "display_data"
    }
   ],
   "source": [
    "display(heading('Good:'),\n",
    "        sheets.keys() - sheets_with_bad_column_names.keys())"
   ]
  },
  {
   "cell_type": "markdown",
   "metadata": {
    "hidden": true
   },
   "source": [
    "Okay, \"Tyler\" has the column names we prefer, \"Erl\" does not. Duly noted."
   ]
  },
  {
   "cell_type": "markdown",
   "metadata": {
    "hidden": true
   },
   "source": [
    "#### How shall we solve the name mismatch?"
   ]
  },
  {
   "cell_type": "markdown",
   "metadata": {
    "hidden": true
   },
   "source": [
    "Our options:\n",
    "\n",
    "- rename the columns (somewhere)\n",
    "- ignore the column names of the bad sheet, merge based on order of columns\n",
    "\n",
    "If we try to do a special merge, ignoring the column names, we have to worry about the _precise order_ of those columns instead of relying on the names. Since we'd have to spend time checking—and possibly rearranging—the column sequence, we might as well fix the names. We can do so while documenting the steps, for posterity."
   ]
  },
  {
   "cell_type": "markdown",
   "metadata": {
    "hidden": true
   },
   "source": [
    "#### Where should we rename the columns?"
   ]
  },
  {
   "cell_type": "markdown",
   "metadata": {
    "hidden": true
   },
   "source": [
    "Possibilities:\n",
    "\n",
    "- fix the spreadsheet document in Excel, re-import with _pandas_ and move ahead as if this had never happened\n",
    "- correct the names in memory only, on the fly, with _pandas_\n",
    "\n",
    "Since this notebook you're reading has already demonstrated the problem, and we're using _pandas_ anyway, let's go ahead and solve it here."
   ]
  },
  {
   "cell_type": "markdown",
   "metadata": {
    "hidden": true
   },
   "source": [
    "#### Renaming axis labels (columns or rows) with _pandas_"
   ]
  },
  {
   "cell_type": "markdown",
   "metadata": {
    "hidden": true
   },
   "source": [
    "_pandas_ has a [`rename`] method which lets us:\n",
    "\n",
    "- Apply a transform function to the DataFrame columns that are named after our worksheet columns. \n",
    "- Use a dictionary to explicitly map each column to its respective new name.\n",
    "\n",
    "Either way, we'll need a function or expression for changing each name. Since the bad names merely have extra words tacked onto the end, let's just split the name and use the first \"word\".\n",
    "\n",
    "[`rename`]: https://pandas.pydata.org/pandas-docs/stable/generated/pandas.DataFrame.rename.html"
   ]
  },
  {
   "cell_type": "markdown",
   "metadata": {
    "hidden": true
   },
   "source": [
    "In Python, we get the first item of a sequence by using index zero. (As you may remember from the earlier [introduction to lists].)\n",
    "\n",
    "[introduction to lists]: #Lists-&-tuples"
   ]
  },
  {
   "cell_type": "code",
   "execution_count": 104,
   "metadata": {
    "ExecuteTime": {
     "start_time": "2018-04-18T20:07:07.640Z"
    },
    "hidden": true,
    "init_cell": true
   },
   "outputs": [],
   "source": [
    "def first_word(string, word_separator=' '):\n",
    "    \"\"\" Split string into words (by space character), return first word. \"\"\"\n",
    "    words = string.split(word_separator)\n",
    "    return words[0]"
   ]
  },
  {
   "cell_type": "markdown",
   "metadata": {
    "hidden": true
   },
   "source": [
    "Since the function was so easy to make, let's not bother with a dictionary. For the sake of visualizing the changes, let's report on changes in a dry run before using the _pandas_ rename function. You certainly don't have to do anything like this, but I enjoy working in Python."
   ]
  },
  {
   "cell_type": "code",
   "execution_count": 105,
   "metadata": {
    "ExecuteTime": {
     "start_time": "2018-04-18T20:07:08.984Z"
    },
    "hidden": true
   },
   "outputs": [
    {
     "data": {
      "text/html": [
       "<h5>Erl</h5><ol><li>fields__client__company</li><li>fields__client__name</li><li>fields__client__fname</li><li>fields__client__lname</li><li>fields__client__displayText</li><li>fields__name</li><li>fields__crop</li><li>fields__desc</li><li>fields__image</li><li>fields__date</li><li>fields__oSets__date</li><li>fields__oSets__dateCompare</li><li style='font-weight: bold'>fields__oSets__growthStage Zadoks <br> &rarr; fields__oSets__growthStage</li><li>fields__oSets__desc</li><li>fields__oSets__obsName</li><li>fields__oSets__totalSets</li><li>fields__oSets__completeSets</li><li>fields__oSets__results</li><li>fields__oSets__oPoints__id</li><li>fields__oSets__oPoints__name</li><li>fields__oSets__oPoints__observations__id</li><li>fields__oSets__oPoints__observations__name</li><li>fields__oSets__oPoints__observations__enum</li><li style='font-weight: bold'>fields__oSets__oPoints__observations__eVnum Natural enemy totals <br> &rarr; fields__oSets__oPoints__observations__eVnum</li><li style='font-weight: bold'>fields__oSets__oPoints__observations__anum TotalAPhids <br> &rarr; fields__oSets__oPoints__observations__anum</li><li style='font-weight: bold'>fields__oSets__oPoints__observations__a1__number EGA <br> &rarr; fields__oSets__oPoints__observations__a1__number</li><li style='font-weight: bold'>fields__oSets__oPoints__observations__a2__number BCO <br> &rarr; fields__oSets__oPoints__observations__a2__number</li><li style='font-weight: bold'>fields__oSets__oPoints__observations__a3__number Greenbug <br> &rarr; fields__oSets__oPoints__observations__a3__number</li><li>fields__oSets__oPoints__observations__disabled</li><li>fields__oSets__oPoints__observations__complete</li><li>fields__oSets__oPoints__observations__|</li><li>fields__oSets__oPoints__observations__|__number</li><li>fields__oSets__oPoints__location__coords__latitude</li><li>fields__oSets__oPoints__location__coords__longitude</li><li>fields__oSets__oPoints__location__coords__accuracy</li><li>fields__oSets__oPoints__location__coords__altitude</li><li>fields__oSets__oPoints__location__coords__heading</li><li>fields__oSets__oPoints__location__coords__speed</li><li>fields__oSets__oPoints__location__coords__altitudeAccuracy</li><li>fields__oSets__oPoints__location__timestamp</li><li>fields__oSets__totalA1</li><li>fields__oSets__totalA2</li><li>fields__oSets__totalA3</li><li>fields__oSets__totalA4</li><li>clients__company</li><li>clients__name</li><li>clients__fname</li><li>clients__lname</li><li>clients__displayText</li><li>observers</li></ol>"
      ],
      "text/plain": [
       "<IPython.core.display.HTML object>"
      ]
     },
     "metadata": {},
     "output_type": "display_data"
    }
   ],
   "source": [
    "report = []  # For the lines of the report which we'll display later.\n",
    "for sheet_name, frame in sheets_with_bad_column_names.items():\n",
    "    report.append(make_heading(sheet_name, level=5))  # heading for each frame\n",
    "    report_lines = []  # the body of the report for each DataFrame\n",
    "    for before in frame.columns:\n",
    "        after = first_word(before)\n",
    "        if after != before:  # not equal\n",
    "            content = f\"{before} <br> &rarr; {after}\"  # old --> new\n",
    "            attributes = \"style='font-weight: bold'\"  # CSS\n",
    "        else:\n",
    "            content = before\n",
    "            attributes = None\n",
    "        report_lines.append(html_wrap(content, 'li', attributes))  # HTML list item\n",
    "    report.append(html_wrap(''.join(report_lines), 'ol'))  # HTML ordered list\n",
    "    \n",
    "# join all the report lines together and display as HTML\n",
    "display(HTML(''.join(report)))"
   ]
  },
  {
   "cell_type": "markdown",
   "metadata": {
    "hidden": true
   },
   "source": [
    "Looks perfect! Actually change the names:"
   ]
  },
  {
   "cell_type": "code",
   "execution_count": 106,
   "metadata": {
    "ExecuteTime": {
     "start_time": "2018-04-18T20:07:10.289Z"
    },
    "hidden": true,
    "init_cell": true
   },
   "outputs": [],
   "source": [
    "for sheet in sheets_with_bad_column_names.values():\n",
    "    sheet.rename(mapper=first_word, axis='columns', inplace=True)"
   ]
  },
  {
   "cell_type": "markdown",
   "metadata": {
    "hidden": true
   },
   "source": [
    "##### Developer notes:"
   ]
  },
  {
   "cell_type": "markdown",
   "metadata": {
    "hidden": true
   },
   "source": [
    "As mentioned before, we know there's only one sheet, so the `for` loop isn't absolutely necessary, but it's still a good habit when dealing with reusable scripts that can work on batches of datasets. (Sometimes other people find your work useful, and sometimes you'll revisit your work to copy something that succeeded in the past.)"
   ]
  },
  {
   "cell_type": "markdown",
   "metadata": {
    "hidden": true
   },
   "source": [
    "### Finally Uniting Our (Properly Labeled) DataFrames"
   ]
  },
  {
   "cell_type": "code",
   "execution_count": 107,
   "metadata": {
    "ExecuteTime": {
     "start_time": "2018-04-18T20:07:14.165Z"
    },
    "hidden": true,
    "init_cell": true
   },
   "outputs": [],
   "source": [
    "data = pandas.concat(sheets, names=[\"Worksheet Name\",\"Worksheet Row\"])"
   ]
  },
  {
   "cell_type": "code",
   "execution_count": 108,
   "metadata": {
    "ExecuteTime": {
     "start_time": "2018-04-18T20:07:14.255Z"
    },
    "hidden": true
   },
   "outputs": [
    {
     "name": "stdout",
     "output_type": "stream",
     "text": [
      "<class 'pandas.core.frame.DataFrame'>\n",
      "MultiIndex: 4690 entries, (Erl, 0) to (Tyler, 3779)\n",
      "Columns: 50 entries, clients__company to observers\n",
      "dtypes: datetime64[ns](1), float64(27), object(22)\n",
      "memory usage: 1.8+ MB\n"
     ]
    }
   ],
   "source": [
    "data.info(verbose=False)"
   ]
  },
  {
   "cell_type": "markdown",
   "metadata": {
    "hidden": true
   },
   "source": [
    "Splendid! That's what we expected. 😁"
   ]
  },
  {
   "cell_type": "code",
   "execution_count": 109,
   "metadata": {
    "hidden": true
   },
   "outputs": [
    {
     "data": {
      "text/html": [
       "<div>\n",
       "<style scoped>\n",
       "    .dataframe tbody tr th:only-of-type {\n",
       "        vertical-align: middle;\n",
       "    }\n",
       "\n",
       "    .dataframe tbody tr th {\n",
       "        vertical-align: top;\n",
       "    }\n",
       "\n",
       "    .dataframe thead th {\n",
       "        text-align: right;\n",
       "    }\n",
       "</style>\n",
       "<table border=\"1\" class=\"dataframe\">\n",
       "  <thead>\n",
       "    <tr style=\"text-align: right;\">\n",
       "      <th></th>\n",
       "      <th></th>\n",
       "      <th>clients__company</th>\n",
       "      <th>clients__displayText</th>\n",
       "      <th>clients__fname</th>\n",
       "      <th>clients__lname</th>\n",
       "      <th>clients__name</th>\n",
       "      <th>fields__client__company</th>\n",
       "      <th>fields__client__displayText</th>\n",
       "      <th>fields__client__fname</th>\n",
       "      <th>fields__client__lname</th>\n",
       "      <th>fields__client__name</th>\n",
       "      <th>...</th>\n",
       "      <th>fields__oSets__oPoints__observations__|</th>\n",
       "      <th>fields__oSets__oPoints__observations__|__number</th>\n",
       "      <th>fields__oSets__obsName</th>\n",
       "      <th>fields__oSets__results</th>\n",
       "      <th>fields__oSets__totalA1</th>\n",
       "      <th>fields__oSets__totalA2</th>\n",
       "      <th>fields__oSets__totalA3</th>\n",
       "      <th>fields__oSets__totalA4</th>\n",
       "      <th>fields__oSets__totalSets</th>\n",
       "      <th>observers</th>\n",
       "    </tr>\n",
       "    <tr>\n",
       "      <th>Worksheet Name</th>\n",
       "      <th>Worksheet Row</th>\n",
       "      <th></th>\n",
       "      <th></th>\n",
       "      <th></th>\n",
       "      <th></th>\n",
       "      <th></th>\n",
       "      <th></th>\n",
       "      <th></th>\n",
       "      <th></th>\n",
       "      <th></th>\n",
       "      <th></th>\n",
       "      <th></th>\n",
       "      <th></th>\n",
       "      <th></th>\n",
       "      <th></th>\n",
       "      <th></th>\n",
       "      <th></th>\n",
       "      <th></th>\n",
       "      <th></th>\n",
       "      <th></th>\n",
       "      <th></th>\n",
       "      <th></th>\n",
       "    </tr>\n",
       "  </thead>\n",
       "  <tbody>\n",
       "    <tr>\n",
       "      <th rowspan=\"5\" valign=\"top\">Erl</th>\n",
       "      <th>0</th>\n",
       "      <td>NaN</td>\n",
       "      <td>NaN</td>\n",
       "      <td>NaN</td>\n",
       "      <td>NaN</td>\n",
       "      <td>NaN</td>\n",
       "      <td>NaN</td>\n",
       "      <td>NaN</td>\n",
       "      <td>NaN</td>\n",
       "      <td>NaN</td>\n",
       "      <td>NaN</td>\n",
       "      <td>...</td>\n",
       "      <td>NaN</td>\n",
       "      <td>NaN</td>\n",
       "      <td>Tyler</td>\n",
       "      <td>NaN</td>\n",
       "      <td>NaN</td>\n",
       "      <td>NaN</td>\n",
       "      <td>NaN</td>\n",
       "      <td>NaN</td>\n",
       "      <td>1.0</td>\n",
       "      <td>NaN</td>\n",
       "    </tr>\n",
       "    <tr>\n",
       "      <th>1</th>\n",
       "      <td>NaN</td>\n",
       "      <td>NaN</td>\n",
       "      <td>NaN</td>\n",
       "      <td>NaN</td>\n",
       "      <td>NaN</td>\n",
       "      <td>NaN</td>\n",
       "      <td>NaN</td>\n",
       "      <td>NaN</td>\n",
       "      <td>NaN</td>\n",
       "      <td>NaN</td>\n",
       "      <td>...</td>\n",
       "      <td>NaN</td>\n",
       "      <td>NaN</td>\n",
       "      <td>NaN</td>\n",
       "      <td>NaN</td>\n",
       "      <td>NaN</td>\n",
       "      <td>NaN</td>\n",
       "      <td>NaN</td>\n",
       "      <td>NaN</td>\n",
       "      <td>NaN</td>\n",
       "      <td>NaN</td>\n",
       "    </tr>\n",
       "    <tr>\n",
       "      <th>2</th>\n",
       "      <td>NaN</td>\n",
       "      <td>NaN</td>\n",
       "      <td>NaN</td>\n",
       "      <td>NaN</td>\n",
       "      <td>NaN</td>\n",
       "      <td>NaN</td>\n",
       "      <td>NaN</td>\n",
       "      <td>NaN</td>\n",
       "      <td>NaN</td>\n",
       "      <td>NaN</td>\n",
       "      <td>...</td>\n",
       "      <td>NaN</td>\n",
       "      <td>NaN</td>\n",
       "      <td>NaN</td>\n",
       "      <td>NaN</td>\n",
       "      <td>NaN</td>\n",
       "      <td>NaN</td>\n",
       "      <td>NaN</td>\n",
       "      <td>NaN</td>\n",
       "      <td>NaN</td>\n",
       "      <td>NaN</td>\n",
       "    </tr>\n",
       "    <tr>\n",
       "      <th>3</th>\n",
       "      <td>NaN</td>\n",
       "      <td>NaN</td>\n",
       "      <td>NaN</td>\n",
       "      <td>NaN</td>\n",
       "      <td>NaN</td>\n",
       "      <td>NaN</td>\n",
       "      <td>NaN</td>\n",
       "      <td>NaN</td>\n",
       "      <td>NaN</td>\n",
       "      <td>NaN</td>\n",
       "      <td>...</td>\n",
       "      <td>NaN</td>\n",
       "      <td>NaN</td>\n",
       "      <td>NaN</td>\n",
       "      <td>NaN</td>\n",
       "      <td>NaN</td>\n",
       "      <td>NaN</td>\n",
       "      <td>NaN</td>\n",
       "      <td>NaN</td>\n",
       "      <td>NaN</td>\n",
       "      <td>NaN</td>\n",
       "    </tr>\n",
       "    <tr>\n",
       "      <th>4</th>\n",
       "      <td>NaN</td>\n",
       "      <td>NaN</td>\n",
       "      <td>NaN</td>\n",
       "      <td>NaN</td>\n",
       "      <td>NaN</td>\n",
       "      <td>NaN</td>\n",
       "      <td>NaN</td>\n",
       "      <td>NaN</td>\n",
       "      <td>NaN</td>\n",
       "      <td>NaN</td>\n",
       "      <td>...</td>\n",
       "      <td>NaN</td>\n",
       "      <td>NaN</td>\n",
       "      <td>NaN</td>\n",
       "      <td>NaN</td>\n",
       "      <td>NaN</td>\n",
       "      <td>NaN</td>\n",
       "      <td>NaN</td>\n",
       "      <td>NaN</td>\n",
       "      <td>NaN</td>\n",
       "      <td>NaN</td>\n",
       "    </tr>\n",
       "  </tbody>\n",
       "</table>\n",
       "<p>5 rows × 50 columns</p>\n",
       "</div>"
      ],
      "text/plain": [
       "                             clients__company clients__displayText  \\\n",
       "Worksheet Name Worksheet Row                                         \n",
       "Erl            0                          NaN                  NaN   \n",
       "               1                          NaN                  NaN   \n",
       "               2                          NaN                  NaN   \n",
       "               3                          NaN                  NaN   \n",
       "               4                          NaN                  NaN   \n",
       "\n",
       "                             clients__fname clients__lname clients__name  \\\n",
       "Worksheet Name Worksheet Row                                               \n",
       "Erl            0                        NaN            NaN           NaN   \n",
       "               1                        NaN            NaN           NaN   \n",
       "               2                        NaN            NaN           NaN   \n",
       "               3                        NaN            NaN           NaN   \n",
       "               4                        NaN            NaN           NaN   \n",
       "\n",
       "                             fields__client__company  \\\n",
       "Worksheet Name Worksheet Row                           \n",
       "Erl            0                                 NaN   \n",
       "               1                                 NaN   \n",
       "               2                                 NaN   \n",
       "               3                                 NaN   \n",
       "               4                                 NaN   \n",
       "\n",
       "                             fields__client__displayText  \\\n",
       "Worksheet Name Worksheet Row                               \n",
       "Erl            0                                     NaN   \n",
       "               1                                     NaN   \n",
       "               2                                     NaN   \n",
       "               3                                     NaN   \n",
       "               4                                     NaN   \n",
       "\n",
       "                             fields__client__fname fields__client__lname  \\\n",
       "Worksheet Name Worksheet Row                                               \n",
       "Erl            0                               NaN                   NaN   \n",
       "               1                               NaN                   NaN   \n",
       "               2                               NaN                   NaN   \n",
       "               3                               NaN                   NaN   \n",
       "               4                               NaN                   NaN   \n",
       "\n",
       "                             fields__client__name    ...      \\\n",
       "Worksheet Name Worksheet Row                         ...       \n",
       "Erl            0                              NaN    ...       \n",
       "               1                              NaN    ...       \n",
       "               2                              NaN    ...       \n",
       "               3                              NaN    ...       \n",
       "               4                              NaN    ...       \n",
       "\n",
       "                             fields__oSets__oPoints__observations__|  \\\n",
       "Worksheet Name Worksheet Row                                           \n",
       "Erl            0                                                 NaN   \n",
       "               1                                                 NaN   \n",
       "               2                                                 NaN   \n",
       "               3                                                 NaN   \n",
       "               4                                                 NaN   \n",
       "\n",
       "                             fields__oSets__oPoints__observations__|__number  \\\n",
       "Worksheet Name Worksheet Row                                                   \n",
       "Erl            0                                                         NaN   \n",
       "               1                                                         NaN   \n",
       "               2                                                         NaN   \n",
       "               3                                                         NaN   \n",
       "               4                                                         NaN   \n",
       "\n",
       "                             fields__oSets__obsName fields__oSets__results  \\\n",
       "Worksheet Name Worksheet Row                                                 \n",
       "Erl            0                              Tyler                    NaN   \n",
       "               1                                NaN                    NaN   \n",
       "               2                                NaN                    NaN   \n",
       "               3                                NaN                    NaN   \n",
       "               4                                NaN                    NaN   \n",
       "\n",
       "                             fields__oSets__totalA1  fields__oSets__totalA2  \\\n",
       "Worksheet Name Worksheet Row                                                  \n",
       "Erl            0                                NaN                     NaN   \n",
       "               1                                NaN                     NaN   \n",
       "               2                                NaN                     NaN   \n",
       "               3                                NaN                     NaN   \n",
       "               4                                NaN                     NaN   \n",
       "\n",
       "                             fields__oSets__totalA3 fields__oSets__totalA4  \\\n",
       "Worksheet Name Worksheet Row                                                 \n",
       "Erl            0                                NaN                    NaN   \n",
       "               1                                NaN                    NaN   \n",
       "               2                                NaN                    NaN   \n",
       "               3                                NaN                    NaN   \n",
       "               4                                NaN                    NaN   \n",
       "\n",
       "                              fields__oSets__totalSets  observers  \n",
       "Worksheet Name Worksheet Row                                       \n",
       "Erl            0                                   1.0        NaN  \n",
       "               1                                   NaN        NaN  \n",
       "               2                                   NaN        NaN  \n",
       "               3                                   NaN        NaN  \n",
       "               4                                   NaN        NaN  \n",
       "\n",
       "[5 rows x 50 columns]"
      ]
     },
     "execution_count": 109,
     "metadata": {},
     "output_type": "execute_result"
    }
   ],
   "source": [
    "data.head()"
   ]
  },
  {
   "cell_type": "markdown",
   "metadata": {
    "heading_collapsed": true
   },
   "source": [
    "## Goal: Map the Column Relationships"
   ]
  },
  {
   "cell_type": "markdown",
   "metadata": {
    "hidden": true
   },
   "source": [
    "### Indexing by Repeated Words"
   ]
  },
  {
   "cell_type": "code",
   "execution_count": 110,
   "metadata": {
    "hidden": true
   },
   "outputs": [
    {
     "data": {
      "text/plain": [
       "Index(['clients__company', 'clients__displayText', 'clients__fname',\n",
       "       'clients__lname', 'clients__name', 'fields__client__company',\n",
       "       'fields__client__displayText', 'fields__client__fname',\n",
       "       'fields__client__lname', 'fields__client__name', 'fields__crop',\n",
       "       'fields__date', 'fields__desc', 'fields__image', 'fields__name',\n",
       "       'fields__oSets__completeSets', 'fields__oSets__date',\n",
       "       'fields__oSets__dateCompare', 'fields__oSets__desc',\n",
       "       'fields__oSets__growthStage', 'fields__oSets__oPoints__id',\n",
       "       'fields__oSets__oPoints__location__coords__accuracy',\n",
       "       'fields__oSets__oPoints__location__coords__altitude',\n",
       "       'fields__oSets__oPoints__location__coords__altitudeAccuracy',\n",
       "       'fields__oSets__oPoints__location__coords__heading',\n",
       "       'fields__oSets__oPoints__location__coords__latitude',\n",
       "       'fields__oSets__oPoints__location__coords__longitude',\n",
       "       'fields__oSets__oPoints__location__coords__speed',\n",
       "       'fields__oSets__oPoints__location__timestamp',\n",
       "       'fields__oSets__oPoints__name',\n",
       "       'fields__oSets__oPoints__observations__a1__number',\n",
       "       'fields__oSets__oPoints__observations__a2__number',\n",
       "       'fields__oSets__oPoints__observations__a3__number',\n",
       "       'fields__oSets__oPoints__observations__anum',\n",
       "       'fields__oSets__oPoints__observations__complete',\n",
       "       'fields__oSets__oPoints__observations__disabled',\n",
       "       'fields__oSets__oPoints__observations__eVnum',\n",
       "       'fields__oSets__oPoints__observations__enum',\n",
       "       'fields__oSets__oPoints__observations__id',\n",
       "       'fields__oSets__oPoints__observations__name',\n",
       "       'fields__oSets__oPoints__observations__|',\n",
       "       'fields__oSets__oPoints__observations__|__number',\n",
       "       'fields__oSets__obsName', 'fields__oSets__results',\n",
       "       'fields__oSets__totalA1', 'fields__oSets__totalA2',\n",
       "       'fields__oSets__totalA3', 'fields__oSets__totalA4',\n",
       "       'fields__oSets__totalSets', 'observers'],\n",
       "      dtype='object')"
      ]
     },
     "execution_count": 110,
     "metadata": {},
     "output_type": "execute_result"
    }
   ],
   "source": [
    "data.columns"
   ]
  },
  {
   "cell_type": "markdown",
   "metadata": {
    "hidden": true
   },
   "source": [
    "We're dealing with a lot of repetition in column names, which indicates relationships to each other which we can use to group our columns. The more often a word is repeated, the more it outranks its fellow words — or the higher its seniority in the family tree, so to speak."
   ]
  },
  {
   "cell_type": "markdown",
   "metadata": {
    "hidden": true
   },
   "source": [
    "Let's use a nested dictionary in Python to map out a relational hierarchy.\n",
    "\n",
    "Also, _pandas_ has a concept of [indexing hierarchically], which may help group columns together — we can probably use the dictionary to help us add more indices to the DataFrame later, if we need.\n",
    "\n",
    "[indexing hierarchically]: https://pandas.pydata.org/pandas-docs/stable/advanced.html"
   ]
  },
  {
   "cell_type": "markdown",
   "metadata": {
    "hidden": true
   },
   "source": [
    "### Split the Column Names"
   ]
  },
  {
   "cell_type": "markdown",
   "metadata": {
    "hidden": true
   },
   "source": [
    "Our column names follow a pattern: words separated by two underscores.\n",
    "\n",
    "If we turn a column name into a list of words, we can start grouping those words based on the word that came before them.\n",
    "\n",
    "For example, these column names:\n",
    "\n",
    "```\n",
    "fields__name\n",
    "fields__oSets__oPoints__observations__name\n",
    "fields__oSets__oPoints__observations__anum\n",
    "fields__oSets__oPoints__observations__enum\n",
    "```\n",
    "\n",
    "Would become a tree of words:\n",
    "\n",
    "```\n",
    "        _ name                                  _ name\n",
    "       /                                       /\n",
    "fields --> oSets --> oPoints --> observations --- anum\n",
    "                                               \\_ enum\n",
    "```"
   ]
  },
  {
   "cell_type": "markdown",
   "metadata": {
    "hidden": true
   },
   "source": [
    "#### The Separator String"
   ]
  },
  {
   "cell_type": "markdown",
   "metadata": {
    "cell_style": "split",
    "hidden": true
   },
   "source": [
    "Here's what we're dealing with."
   ]
  },
  {
   "cell_type": "code",
   "execution_count": 111,
   "metadata": {
    "cell_style": "split",
    "hidden": true
   },
   "outputs": [
    {
     "data": {
      "text/plain": [
       "'fields__client__name'"
      ]
     },
     "metadata": {},
     "output_type": "display_data"
    }
   ],
   "source": [
    "display(data.columns[9])"
   ]
  },
  {
   "cell_type": "markdown",
   "metadata": {
    "cell_style": "split",
    "hidden": true
   },
   "source": [
    "Between words is `__` — save that string of underscore characters for later reference."
   ]
  },
  {
   "cell_type": "code",
   "execution_count": 112,
   "metadata": {
    "ExecuteTime": {
     "start_time": "2018-04-18T20:07:28.275Z"
    },
    "cell_style": "split",
    "hidden": true,
    "init_cell": true
   },
   "outputs": [],
   "source": [
    "SEPARATOR = '__'"
   ]
  },
  {
   "cell_type": "markdown",
   "metadata": {
    "hidden": true
   },
   "source": [
    "##### Python's `split()` method for strings:"
   ]
  },
  {
   "cell_type": "code",
   "execution_count": 113,
   "metadata": {
    "hidden": true
   },
   "outputs": [
    {
     "data": {
      "text/plain": [
       "['clients', 'lname']"
      ]
     },
     "execution_count": 113,
     "metadata": {},
     "output_type": "execute_result"
    }
   ],
   "source": [
    "column_name = data.columns[3]\n",
    "column_name.split(SEPARATOR)"
   ]
  },
  {
   "cell_type": "markdown",
   "metadata": {
    "hidden": true
   },
   "source": [
    "We can boldly use that expression whenever we please, without defining any functions."
   ]
  },
  {
   "cell_type": "code",
   "execution_count": 114,
   "metadata": {
    "hidden": true
   },
   "outputs": [
    {
     "data": {
      "text/plain": [
       "'So many fields about clients, I tell you!'"
      ]
     },
     "execution_count": 114,
     "metadata": {},
     "output_type": "execute_result"
    }
   ],
   "source": [
    "f\"So many fields about {column_name.split(SEPARATOR)[0]}, I tell you!\""
   ]
  },
  {
   "cell_type": "markdown",
   "metadata": {
    "hidden": true
   },
   "source": [
    "#### Resulting Gain: Expression for Splitting Column Names into Words"
   ]
  },
  {
   "cell_type": "code",
   "execution_count": 115,
   "metadata": {
    "ExecuteTime": {
     "start_time": "2018-04-18T20:07:28.361Z"
    },
    "hidden": true,
    "scrolled": true
   },
   "outputs": [
    {
     "data": {
      "text/plain": [
       "['clients', 'company']"
      ]
     },
     "metadata": {},
     "output_type": "display_data"
    },
    {
     "data": {
      "text/plain": [
       "['clients', 'displayText']"
      ]
     },
     "metadata": {},
     "output_type": "display_data"
    },
    {
     "data": {
      "text/plain": [
       "['clients', 'fname']"
      ]
     },
     "metadata": {},
     "output_type": "display_data"
    },
    {
     "data": {
      "text/plain": [
       "['clients', 'lname']"
      ]
     },
     "metadata": {},
     "output_type": "display_data"
    },
    {
     "data": {
      "text/plain": [
       "['clients', 'name']"
      ]
     },
     "metadata": {},
     "output_type": "display_data"
    },
    {
     "data": {
      "text/plain": [
       "['fields', 'client', 'company']"
      ]
     },
     "metadata": {},
     "output_type": "display_data"
    },
    {
     "data": {
      "text/plain": [
       "['fields', 'client', 'displayText']"
      ]
     },
     "metadata": {},
     "output_type": "display_data"
    },
    {
     "data": {
      "text/plain": [
       "['fields', 'client', 'fname']"
      ]
     },
     "metadata": {},
     "output_type": "display_data"
    },
    {
     "data": {
      "text/plain": [
       "['fields', 'client', 'lname']"
      ]
     },
     "metadata": {},
     "output_type": "display_data"
    },
    {
     "data": {
      "text/plain": [
       "['fields', 'client', 'name']"
      ]
     },
     "metadata": {},
     "output_type": "display_data"
    },
    {
     "data": {
      "text/plain": [
       "['fields', 'crop']"
      ]
     },
     "metadata": {},
     "output_type": "display_data"
    },
    {
     "data": {
      "text/plain": [
       "['fields', 'date']"
      ]
     },
     "metadata": {},
     "output_type": "display_data"
    },
    {
     "data": {
      "text/plain": [
       "['fields', 'desc']"
      ]
     },
     "metadata": {},
     "output_type": "display_data"
    },
    {
     "data": {
      "text/plain": [
       "['fields', 'image']"
      ]
     },
     "metadata": {},
     "output_type": "display_data"
    },
    {
     "data": {
      "text/plain": [
       "['fields', 'name']"
      ]
     },
     "metadata": {},
     "output_type": "display_data"
    },
    {
     "data": {
      "text/plain": [
       "['fields', 'oSets', 'completeSets']"
      ]
     },
     "metadata": {},
     "output_type": "display_data"
    },
    {
     "data": {
      "text/plain": [
       "['fields', 'oSets', 'date']"
      ]
     },
     "metadata": {},
     "output_type": "display_data"
    },
    {
     "data": {
      "text/plain": [
       "['fields', 'oSets', 'dateCompare']"
      ]
     },
     "metadata": {},
     "output_type": "display_data"
    },
    {
     "data": {
      "text/plain": [
       "['fields', 'oSets', 'desc']"
      ]
     },
     "metadata": {},
     "output_type": "display_data"
    },
    {
     "data": {
      "text/plain": [
       "['fields', 'oSets', 'growthStage']"
      ]
     },
     "metadata": {},
     "output_type": "display_data"
    },
    {
     "data": {
      "text/plain": [
       "['fields', 'oSets', 'oPoints', 'id']"
      ]
     },
     "metadata": {},
     "output_type": "display_data"
    },
    {
     "data": {
      "text/plain": [
       "['fields', 'oSets', 'oPoints', 'location', 'coords', 'accuracy']"
      ]
     },
     "metadata": {},
     "output_type": "display_data"
    },
    {
     "data": {
      "text/plain": [
       "['fields', 'oSets', 'oPoints', 'location', 'coords', 'altitude']"
      ]
     },
     "metadata": {},
     "output_type": "display_data"
    },
    {
     "data": {
      "text/plain": [
       "['fields', 'oSets', 'oPoints', 'location', 'coords', 'altitudeAccuracy']"
      ]
     },
     "metadata": {},
     "output_type": "display_data"
    },
    {
     "data": {
      "text/plain": [
       "['fields', 'oSets', 'oPoints', 'location', 'coords', 'heading']"
      ]
     },
     "metadata": {},
     "output_type": "display_data"
    },
    {
     "data": {
      "text/plain": [
       "['fields', 'oSets', 'oPoints', 'location', 'coords', 'latitude']"
      ]
     },
     "metadata": {},
     "output_type": "display_data"
    },
    {
     "data": {
      "text/plain": [
       "['fields', 'oSets', 'oPoints', 'location', 'coords', 'longitude']"
      ]
     },
     "metadata": {},
     "output_type": "display_data"
    },
    {
     "data": {
      "text/plain": [
       "['fields', 'oSets', 'oPoints', 'location', 'coords', 'speed']"
      ]
     },
     "metadata": {},
     "output_type": "display_data"
    },
    {
     "data": {
      "text/plain": [
       "['fields', 'oSets', 'oPoints', 'location', 'timestamp']"
      ]
     },
     "metadata": {},
     "output_type": "display_data"
    },
    {
     "data": {
      "text/plain": [
       "['fields', 'oSets', 'oPoints', 'name']"
      ]
     },
     "metadata": {},
     "output_type": "display_data"
    },
    {
     "data": {
      "text/plain": [
       "['fields', 'oSets', 'oPoints', 'observations', 'a1', 'number']"
      ]
     },
     "metadata": {},
     "output_type": "display_data"
    },
    {
     "data": {
      "text/plain": [
       "['fields', 'oSets', 'oPoints', 'observations', 'a2', 'number']"
      ]
     },
     "metadata": {},
     "output_type": "display_data"
    },
    {
     "data": {
      "text/plain": [
       "['fields', 'oSets', 'oPoints', 'observations', 'a3', 'number']"
      ]
     },
     "metadata": {},
     "output_type": "display_data"
    },
    {
     "data": {
      "text/plain": [
       "['fields', 'oSets', 'oPoints', 'observations', 'anum']"
      ]
     },
     "metadata": {},
     "output_type": "display_data"
    },
    {
     "data": {
      "text/plain": [
       "['fields', 'oSets', 'oPoints', 'observations', 'complete']"
      ]
     },
     "metadata": {},
     "output_type": "display_data"
    },
    {
     "data": {
      "text/plain": [
       "['fields', 'oSets', 'oPoints', 'observations', 'disabled']"
      ]
     },
     "metadata": {},
     "output_type": "display_data"
    },
    {
     "data": {
      "text/plain": [
       "['fields', 'oSets', 'oPoints', 'observations', 'eVnum']"
      ]
     },
     "metadata": {},
     "output_type": "display_data"
    },
    {
     "data": {
      "text/plain": [
       "['fields', 'oSets', 'oPoints', 'observations', 'enum']"
      ]
     },
     "metadata": {},
     "output_type": "display_data"
    },
    {
     "data": {
      "text/plain": [
       "['fields', 'oSets', 'oPoints', 'observations', 'id']"
      ]
     },
     "metadata": {},
     "output_type": "display_data"
    },
    {
     "data": {
      "text/plain": [
       "['fields', 'oSets', 'oPoints', 'observations', 'name']"
      ]
     },
     "metadata": {},
     "output_type": "display_data"
    },
    {
     "data": {
      "text/plain": [
       "['fields', 'oSets', 'oPoints', 'observations', '|']"
      ]
     },
     "metadata": {},
     "output_type": "display_data"
    },
    {
     "data": {
      "text/plain": [
       "['fields', 'oSets', 'oPoints', 'observations', '|', 'number']"
      ]
     },
     "metadata": {},
     "output_type": "display_data"
    },
    {
     "data": {
      "text/plain": [
       "['fields', 'oSets', 'obsName']"
      ]
     },
     "metadata": {},
     "output_type": "display_data"
    },
    {
     "data": {
      "text/plain": [
       "['fields', 'oSets', 'results']"
      ]
     },
     "metadata": {},
     "output_type": "display_data"
    },
    {
     "data": {
      "text/plain": [
       "['fields', 'oSets', 'totalA1']"
      ]
     },
     "metadata": {},
     "output_type": "display_data"
    },
    {
     "data": {
      "text/plain": [
       "['fields', 'oSets', 'totalA2']"
      ]
     },
     "metadata": {},
     "output_type": "display_data"
    },
    {
     "data": {
      "text/plain": [
       "['fields', 'oSets', 'totalA3']"
      ]
     },
     "metadata": {},
     "output_type": "display_data"
    },
    {
     "data": {
      "text/plain": [
       "['fields', 'oSets', 'totalA4']"
      ]
     },
     "metadata": {},
     "output_type": "display_data"
    },
    {
     "data": {
      "text/plain": [
       "['fields', 'oSets', 'totalSets']"
      ]
     },
     "metadata": {},
     "output_type": "display_data"
    },
    {
     "data": {
      "text/plain": [
       "['observers']"
      ]
     },
     "metadata": {},
     "output_type": "display_data"
    }
   ],
   "source": [
    "for column_name in data.columns:\n",
    "    display(column_name.split(SEPARATOR))"
   ]
  },
  {
   "cell_type": "markdown",
   "metadata": {
    "hidden": true
   },
   "source": [
    "Looks good to me. Some words aren't separated, like `dateCompare` and `growthStage`, but those shouldn't pose a problem because they're nicely grouped with related columns."
   ]
  },
  {
   "cell_type": "markdown",
   "metadata": {
    "hidden": true
   },
   "source": [
    "### Build a Tree of Words"
   ]
  },
  {
   "cell_type": "markdown",
   "metadata": {
    "ExecuteTime": {
     "end_time": "2018-04-17T19:35:00.796062Z",
     "start_time": "2018-04-17T19:35:00.709337Z"
    },
    "hidden": true
   },
   "source": [
    "#### Steps\n",
    "\n",
    "Here's the strategy for building a tree from those lists of words for each column name, with data:\n",
    "\n",
    "0. Given:\n",
    "   - a _pandas_ `DataFrame`\n",
    "   - a column name and separator string\n",
    "   - a `defaultdict` that makes more `defaultdict` objects if you just ask\n",
    "     for the key\n",
    "0. Set a pointer to the new `defaultdict`, which will be root of the tree, for starters.\n",
    "0. Split the column name apart, using the given separator string.\n",
    "0. Now, walk through the words in order from left to right:\n",
    "   0. access whichever `defaultdict` the pointer is currently referring to\n",
    "   0. lookup a key based the current word\n",
    "   0. update the pointer to the `defaultdict` for that key (whether it existed before or not)\n",
    "0. On the last word, update the pointer:\n",
    "   + store a reference to the data for that `DataFrame` column."
   ]
  },
  {
   "cell_type": "markdown",
   "metadata": {
    "hidden": true
   },
   "source": [
    "#### Define Function: `split_column_to_tree`"
   ]
  },
  {
   "cell_type": "code",
   "execution_count": 116,
   "metadata": {
    "hidden": true
   },
   "outputs": [],
   "source": [
    "def split_column_to_tree(column: pandas.Series, tree: defaultdict=None,\n",
    "                         column_name: str=None, separator: str=SEPARATOR,\n",
    "                         data_key: str=SEPARATOR):\n",
    "    \"\"\"Split the column names like \"fields__oSets__oPoints__id\" into groupings\n",
    "    of keys so that related keys are easy to find, such as \n",
    "    columns['fields']['oSets']['oPoints']['id']. This produces a tree of\n",
    "    column name segments, with references to actual data at the ends.\n",
    "    \"\"\"\n",
    "    if tree is None:\n",
    "        def nested_dict():\n",
    "            return defaultdict(nested_dict)\n",
    "        tree = nested_dict()\n",
    "    pointer = tree\n",
    "    for word in str(column_name or column.name).split(separator):\n",
    "        pointer = pointer[word]\n",
    "    pointer[data_key] = column\n",
    "    return tree\n"
   ]
  },
  {
   "cell_type": "markdown",
   "metadata": {
    "hidden": true
   },
   "source": [
    "##### The Key to Real Data:\n",
    "\n",
    "Because there's always the chance that a node might have data as well as more nodes under it, we'll store the reference to data with a key having a name that can't possibly be a word: the separator!"
   ]
  },
  {
   "cell_type": "markdown",
   "metadata": {
    "hidden": true
   },
   "source": [
    "#### Use that Function with `for` to Process a DataFrame"
   ]
  },
  {
   "cell_type": "markdown",
   "metadata": {
    "hidden": true,
    "scrolled": true
   },
   "source": [
    "By passing the partially constructed tree back into our function for re-use, we can accumulate all the columns together."
   ]
  },
  {
   "cell_type": "code",
   "execution_count": 117,
   "metadata": {
    "ExecuteTime": {
     "end_time": "2018-04-18T20:04:16.451869Z",
     "start_time": "2018-04-18T20:04:15.611238Z"
    },
    "hidden": true,
    "init_cell": true
   },
   "outputs": [],
   "source": [
    "def make_column_tree(data_frame: pandas.DataFrame, \n",
    "                     separator: str = SEPARATOR, \n",
    "                     data_key: str = SEPARATOR):\n",
    "    tree = None  # initialize the variable, otherwise we can't reference it\n",
    "    for name, series in data.iteritems():\n",
    "        tree = split_column_to_tree(series, column_name=name, tree=tree, separator=separator,\n",
    "                                    data_key=data_key)\n",
    "    return tree"
   ]
  },
  {
   "cell_type": "code",
   "execution_count": 118,
   "metadata": {
    "hidden": true,
    "init_cell": true
   },
   "outputs": [],
   "source": [
    "columns = make_column_tree(data)"
   ]
  },
  {
   "cell_type": "markdown",
   "metadata": {
    "hidden": true
   },
   "source": [
    "##### Check Column Groups"
   ]
  },
  {
   "cell_type": "markdown",
   "metadata": {
    "hidden": true
   },
   "source": [
    "If that worked as planned, there should be a list of the first segments of all the column names in that sheet:"
   ]
  },
  {
   "cell_type": "code",
   "execution_count": 119,
   "metadata": {
    "ExecuteTime": {
     "end_time": "2018-04-17T19:35:04.135886Z",
     "start_time": "2018-04-17T19:35:04.125212Z"
    },
    "hidden": true
   },
   "outputs": [
    {
     "data": {
      "text/plain": [
       "dict_keys(['clients', 'fields', 'observers'])"
      ]
     },
     "execution_count": 119,
     "metadata": {},
     "output_type": "execute_result"
    }
   ],
   "source": [
    "columns.keys()"
   ]
  },
  {
   "cell_type": "markdown",
   "metadata": {
    "hidden": true
   },
   "source": [
    "Continuing deeper, more segments that share a common prefix:"
   ]
  },
  {
   "cell_type": "code",
   "execution_count": 120,
   "metadata": {
    "ExecuteTime": {
     "end_time": "2018-04-17T19:35:04.957536Z",
     "start_time": "2018-04-17T19:35:04.946951Z"
    },
    "hidden": true
   },
   "outputs": [
    {
     "data": {
      "text/plain": [
       "dict_keys(['client', 'crop', 'date', 'desc', 'image', 'name', 'oSets'])"
      ]
     },
     "execution_count": 120,
     "metadata": {},
     "output_type": "execute_result"
    }
   ],
   "source": [
    "fields_node = columns['fields']\n",
    "fields_node.keys()"
   ]
  },
  {
   "cell_type": "code",
   "execution_count": 121,
   "metadata": {
    "ExecuteTime": {
     "end_time": "2018-04-17T19:35:05.037399Z",
     "start_time": "2018-04-17T19:35:05.027726Z"
    },
    "hidden": true
   },
   "outputs": [
    {
     "data": {
      "text/plain": [
       "dict_keys(['completeSets', 'date', 'dateCompare', 'desc', 'growthStage', 'oPoints', 'obsName', 'results', 'totalA1', 'totalA2', 'totalA3', 'totalA4', 'totalSets'])"
      ]
     },
     "execution_count": 121,
     "metadata": {},
     "output_type": "execute_result"
    }
   ],
   "source": [
    "sets_node = fields_node['oSets']\n",
    "sets_node.keys()"
   ]
  },
  {
   "cell_type": "markdown",
   "metadata": {
    "hidden": true
   },
   "source": [
    "#### Visualize the Tree"
   ]
  },
  {
   "cell_type": "markdown",
   "metadata": {
    "hidden": true
   },
   "source": [
    "Browsing the column structure by using the dictionary accessors is a bit tedious. It's great for machines, but my human brain has a bit of trouble holding it all in my head when I see it only one level at a time."
   ]
  },
  {
   "cell_type": "markdown",
   "metadata": {
    "hidden": true
   },
   "source": [
    "We can see the structure of the hierarchy in a dictionary by using a function like this:"
   ]
  },
  {
   "cell_type": "code",
   "execution_count": 122,
   "metadata": {
    "ExecuteTime": {
     "end_time": "2018-04-17T19:35:07.704949Z",
     "start_time": "2018-04-17T19:35:07.692198Z"
    },
    "hidden": true
   },
   "outputs": [],
   "source": [
    "def visualize_tree(tree, depth=1, maximum_depth=None, data_key=SEPARATOR):\n",
    "    if isinstance(tree, (dict, defaultdict)):\n",
    "        for key, val in tree.items():\n",
    "            if key != data_key:\n",
    "                print(\".   \" * (depth - 1) + key)\n",
    "                if maximum_depth is None or depth <= maximum_depth:\n",
    "                    visualize_tree(val, depth + 1, maximum_depth, data_key)"
   ]
  },
  {
   "cell_type": "markdown",
   "metadata": {
    "hidden": true
   },
   "source": [
    "It may seem strange to see math symbols used with text, but Python understands what we want: to repeat the text if we multiply it, to append if we add.\n",
    "\n",
    "Here's the output for the whole tree:"
   ]
  },
  {
   "cell_type": "code",
   "execution_count": 123,
   "metadata": {
    "ExecuteTime": {
     "end_time": "2018-04-17T19:35:08.470323Z",
     "start_time": "2018-04-17T19:35:08.398135Z"
    },
    "hidden": true,
    "scrolled": true
   },
   "outputs": [
    {
     "name": "stdout",
     "output_type": "stream",
     "text": [
      "clients\n",
      ".   company\n",
      ".   displayText\n",
      ".   fname\n",
      ".   lname\n",
      ".   name\n",
      "fields\n",
      ".   client\n",
      ".   .   company\n",
      ".   .   displayText\n",
      ".   .   fname\n",
      ".   .   lname\n",
      ".   .   name\n",
      ".   crop\n",
      ".   date\n",
      ".   desc\n",
      ".   image\n",
      ".   name\n",
      ".   oSets\n",
      ".   .   completeSets\n",
      ".   .   date\n",
      ".   .   dateCompare\n",
      ".   .   desc\n",
      ".   .   growthStage\n",
      ".   .   oPoints\n",
      ".   .   .   id\n",
      ".   .   .   location\n",
      ".   .   .   .   coords\n",
      ".   .   .   .   .   accuracy\n",
      ".   .   .   .   .   altitude\n",
      ".   .   .   .   .   altitudeAccuracy\n",
      ".   .   .   .   .   heading\n",
      ".   .   .   .   .   latitude\n",
      ".   .   .   .   .   longitude\n",
      ".   .   .   .   .   speed\n",
      ".   .   .   .   timestamp\n",
      ".   .   .   name\n",
      ".   .   .   observations\n",
      ".   .   .   .   a1\n",
      ".   .   .   .   .   number\n",
      ".   .   .   .   a2\n",
      ".   .   .   .   .   number\n",
      ".   .   .   .   a3\n",
      ".   .   .   .   .   number\n",
      ".   .   .   .   anum\n",
      ".   .   .   .   complete\n",
      ".   .   .   .   disabled\n",
      ".   .   .   .   eVnum\n",
      ".   .   .   .   enum\n",
      ".   .   .   .   id\n",
      ".   .   .   .   name\n",
      ".   .   .   .   |\n",
      ".   .   .   .   .   number\n",
      ".   .   obsName\n",
      ".   .   results\n",
      ".   .   totalA1\n",
      ".   .   totalA2\n",
      ".   .   totalA3\n",
      ".   .   totalA4\n",
      ".   .   totalSets\n",
      "observers\n"
     ]
    }
   ],
   "source": [
    "visualize_tree(columns)"
   ]
  },
  {
   "cell_type": "markdown",
   "metadata": {
    "hidden": true
   },
   "source": [
    "Using this new function, we can also limit the depth, even to zero, which is the equivalent of `column_dictionary.keys()`:"
   ]
  },
  {
   "cell_type": "code",
   "execution_count": 124,
   "metadata": {
    "ExecuteTime": {
     "end_time": "2018-04-17T19:35:09.256584Z",
     "start_time": "2018-04-17T19:35:09.246797Z"
    },
    "hidden": true
   },
   "outputs": [
    {
     "data": {
      "text/plain": [
       "dict_keys(['clients', 'fields', 'observers'])"
      ]
     },
     "execution_count": 124,
     "metadata": {},
     "output_type": "execute_result"
    }
   ],
   "source": [
    "columns.keys()"
   ]
  },
  {
   "cell_type": "code",
   "execution_count": 125,
   "metadata": {
    "ExecuteTime": {
     "end_time": "2018-04-17T19:35:09.361843Z",
     "start_time": "2018-04-17T19:35:09.350926Z"
    },
    "hidden": true
   },
   "outputs": [
    {
     "name": "stdout",
     "output_type": "stream",
     "text": [
      "clients\n",
      "fields\n",
      "observers\n"
     ]
    }
   ],
   "source": [
    "visualize_tree(columns, maximum_depth=0)"
   ]
  },
  {
   "cell_type": "markdown",
   "metadata": {
    "hidden": true
   },
   "source": [
    "Or, just a shallow peek into the next level:"
   ]
  },
  {
   "cell_type": "code",
   "execution_count": 126,
   "metadata": {
    "ExecuteTime": {
     "end_time": "2018-04-17T19:35:10.176879Z",
     "start_time": "2018-04-17T19:35:10.151274Z"
    },
    "hidden": true
   },
   "outputs": [
    {
     "name": "stdout",
     "output_type": "stream",
     "text": [
      "clients\n",
      ".   company\n",
      ".   displayText\n",
      ".   fname\n",
      ".   lname\n",
      ".   name\n",
      "fields\n",
      ".   client\n",
      ".   crop\n",
      ".   date\n",
      ".   desc\n",
      ".   image\n",
      ".   name\n",
      ".   oSets\n",
      "observers\n"
     ]
    }
   ],
   "source": [
    "visualize_tree(columns, maximum_depth=1)"
   ]
  },
  {
   "cell_type": "markdown",
   "metadata": {
    "hidden": true
   },
   "source": [
    "#### Refer to the Data"
   ]
  },
  {
   "cell_type": "markdown",
   "metadata": {
    "hidden": true
   },
   "source": [
    "Earlier, we declared a `SEPARATOR` string, then decided to also use that as the key for storing a reference to data at the end of each branch in our tree index. For example, the `date` of the set:"
   ]
  },
  {
   "cell_type": "code",
   "execution_count": 127,
   "metadata": {
    "ExecuteTime": {
     "end_time": "2018-04-17T19:35:11.699078Z",
     "start_time": "2018-04-17T19:35:11.687497Z"
    },
    "hidden": true
   },
   "outputs": [
    {
     "data": {
      "text/plain": [
       "dict_keys(['__'])"
      ]
     },
     "execution_count": 127,
     "metadata": {},
     "output_type": "execute_result"
    }
   ],
   "source": [
    "sets_node = columns['fields']['oSets']\n",
    "sets_node['date'].keys()"
   ]
  },
  {
   "cell_type": "markdown",
   "metadata": {
    "hidden": true
   },
   "source": [
    "Since we're not using that separator string anymore, let's give our data key a better name."
   ]
  },
  {
   "cell_type": "code",
   "execution_count": 128,
   "metadata": {
    "hidden": true
   },
   "outputs": [],
   "source": [
    "DATA = SEPARATOR"
   ]
  },
  {
   "cell_type": "markdown",
   "metadata": {
    "hidden": true
   },
   "source": [
    "And we can check for that any time by using Python's `in` operator:"
   ]
  },
  {
   "cell_type": "code",
   "execution_count": 129,
   "metadata": {
    "ExecuteTime": {
     "end_time": "2018-04-17T19:35:12.571329Z",
     "start_time": "2018-04-17T19:35:12.561592Z"
    },
    "hidden": true
   },
   "outputs": [
    {
     "data": {
      "text/plain": [
       "True"
      ]
     },
     "execution_count": 129,
     "metadata": {},
     "output_type": "execute_result"
    }
   ],
   "source": [
    "DATA in sets_node['date']"
   ]
  },
  {
   "cell_type": "markdown",
   "metadata": {
    "hidden": true
   },
   "source": [
    "We can look at some data now!"
   ]
  },
  {
   "cell_type": "code",
   "execution_count": 130,
   "metadata": {
    "ExecuteTime": {
     "end_time": "2018-04-17T19:35:13.434297Z",
     "start_time": "2018-04-17T19:35:13.421961Z"
    },
    "hidden": true
   },
   "outputs": [
    {
     "data": {
      "text/plain": [
       "Worksheet Name  Worksheet Row\n",
       "Erl             0                2017-08-02T13:12:09.542\n",
       "                1                                    NaN\n",
       "                2                                    NaN\n",
       "                3                                    NaN\n",
       "                4                                    NaN\n",
       "Name: fields__oSets__date, dtype: object"
      ]
     },
     "execution_count": 130,
     "metadata": {},
     "output_type": "execute_result"
    }
   ],
   "source": [
    "sets_node['date'][DATA].head()"
   ]
  },
  {
   "cell_type": "markdown",
   "metadata": {
    "hidden": true
   },
   "source": [
    "There are many missing values, represented by `NaN`. There are ways to skip over them, but let's come back to that problem later when we're dealing with entire sections of the DataFrame."
   ]
  },
  {
   "cell_type": "markdown",
   "metadata": {
    "hidden": true
   },
   "source": [
    "#### Resulting Gain"
   ]
  },
  {
   "cell_type": "markdown",
   "metadata": {
    "hidden": true
   },
   "source": [
    "Now, every column can be found in two places:\n",
    "\n",
    "- _pandas_ DataFrame\n",
    "  - `data['fields__name'].describe()`\n",
    "  - `data['fields__client__name'].unique()`\n",
    "- Our index tree\n",
    "  - `columns['fields']['name']['__'].describe()`\n",
    "  - `columns['fields']['client']['name']['__'].unique()`\n",
    "\n",
    "Each column of data pertains to a particular thing, place, or time. The column names reflect those particulars. Soon, we'll take advantage of this structure to make expressions which intuitively select the relevent columns for any given section. We can get lists of columns from any node in our index tree by using methods like `keys()` and `items()`. From there, we can follow the keys down to the next node, and so on, all the way to the data reference. "
   ]
  },
  {
   "cell_type": "markdown",
   "metadata": {
    "hidden": true,
    "slideshow": {
     "slide_type": "subslide"
    }
   },
   "source": [
    "### Setup Filters for Columns"
   ]
  },
  {
   "cell_type": "markdown",
   "metadata": {
    "hidden": true,
    "slideshow": {
     "slide_type": "fragment"
    }
   },
   "source": [
    "We'll want to be able to easily produce a list of applicable columns for any given row."
   ]
  },
  {
   "cell_type": "markdown",
   "metadata": {
    "hidden": true,
    "slideshow": {
     "slide_type": "fragment"
    }
   },
   "source": [
    "Usually, the applicable columns for any row depend on which type of information is in the section for that row. \n",
    "\n",
    "Which section the row is in depends on whether certain columns have a value on a nearby row and whether certain other columns have not.\n",
    "\n",
    "Nodes in our column tree are closely related to the division of sections in the DataFrame.\n",
    "\n",
    "Once the correct section is identified for a row, the appropriate group of columns in usually in all the columns at whatever level the section relates to.\n",
    "\n",
    "All we have to do is figure out which keys in a node point to data and we can use `for` in Python to make a list relevent columns for a row."
   ]
  },
  {
   "cell_type": "markdown",
   "metadata": {
    "hidden": true,
    "slideshow": {
     "slide_type": "skip"
    }
   },
   "source": [
    "#### Define Function: `has_data(node, data_key=DATA)`"
   ]
  },
  {
   "cell_type": "markdown",
   "metadata": {
    "hidden": true,
    "slideshow": {
     "slide_type": "subslide"
    }
   },
   "source": [
    "A function to detect whether the given node has _pandas_ column data.\n",
    "\n",
    "We must:\n",
    "\n",
    "0. ensure our function is receiving a dictionary node\n",
    "0. check the keys for the data key.\n",
    "\n",
    "[`isinstance`] is a built-in Python function which checks if an object is a dictionary, list, or whatever type you specify and returns `True` or `False`.\n",
    "\n",
    "If the given object is a dictionary, we can look for the data key that we chose earlier, which we ultimately named `DATA`.\n",
    "\n",
    "[`isinstance`]: https://docs.python.org/3/library/functions.html#isinstance"
   ]
  },
  {
   "cell_type": "code",
   "execution_count": 131,
   "metadata": {
    "ExecuteTime": {
     "end_time": "2018-04-17T19:35:16.616829Z",
     "start_time": "2018-04-17T19:35:16.592721Z"
    },
    "hidden": true,
    "slideshow": {
     "slide_type": "fragment"
    }
   },
   "outputs": [],
   "source": [
    "# DATA = SEPARATOR = '__'\n",
    "def has_data(node, data_key=DATA):\n",
    "    \"\"\" We know node has data if it has a key that's the data key. \"\"\"\n",
    "    return isinstance(node, dict) and data_key in node.keys()"
   ]
  },
  {
   "cell_type": "markdown",
   "metadata": {
    "hidden": true
   },
   "source": [
    "#### Define Function: `get_child_data_nodes(node)`"
   ]
  },
  {
   "cell_type": "markdown",
   "metadata": {
    "hidden": true,
    "slideshow": {
     "slide_type": "subslide"
    }
   },
   "source": [
    "We can easily use `for` and `has_data` together to build a filtered dictionary from any node.\n",
    "\n",
    "Here's a function which looks at all items in a node and filters out any items that aren't data containers:"
   ]
  },
  {
   "cell_type": "code",
   "execution_count": 132,
   "metadata": {
    "ExecuteTime": {
     "end_time": "2018-04-17T19:35:16.616829Z",
     "start_time": "2018-04-17T19:35:16.592721Z"
    },
    "hidden": true,
    "slideshow": {
     "slide_type": "fragment"
    }
   },
   "outputs": [],
   "source": [
    "def get_child_data_nodes(node):\n",
    "    \"\"\" Filter children that have data. \"\"\"\n",
    "    return {parent_key: child for parent_key, child in node.items()\n",
    "            if isinstance(node, dict) and has_data(child)}"
   ]
  },
  {
   "cell_type": "markdown",
   "metadata": {
    "hidden": true
   },
   "source": [
    "Sometimes, it may be useful to also have a list of deeper nodes from any point in the tree, in case related details are in a deeper level. For example, natural enemies are part of an observation point but they're one level deeper than the aphid counts, which are also part of that logical data point."
   ]
  },
  {
   "cell_type": "markdown",
   "metadata": {
    "hidden": true
   },
   "source": [
    "#### Define Function: `get_grandchild_nodes(node)`"
   ]
  },
  {
   "cell_type": "markdown",
   "metadata": {
    "hidden": true,
    "slideshow": {
     "slide_type": "subslide"
    }
   },
   "source": [
    "It's easy to assume that any item in a node that isn't a data container is therefore a node leading to more nodes. However, that isn't a valid assumption, because we've already seen that there are columns that disprove that case:\n",
    "\n",
    "- `fields__oSets__oPoints__observations__|`\n",
    "- `fields__oSets__oPoints__observations__|__number`\n",
    "\n",
    "We'll have to check whether the item also has children that aren't _merely_ a data container."
   ]
  },
  {
   "cell_type": "markdown",
   "metadata": {
    "hidden": true,
    "slideshow": {
     "slide_type": "subslide"
    }
   },
   "source": [
    "It's a bit trickier to also check if a data container is also an intermediate node, but it can be done.\n",
    "\n",
    "Here's the logic:\n",
    "\n",
    "- If a node has more than one key:\n",
    "  - Because there can only be one data key, any other keys must something else:\n",
    "    - Assume it is a child node because we aren't expecting anything else.\n",
    "- If a node has one key:\n",
    "  - Check if that key is the data key:\n",
    "    - If yes:\n",
    "      - That can't possibly be a child node, because it's a data reference.\n",
    "    - If no:\n",
    "      - Assume it is a child node because we aren't expecting anything else."
   ]
  },
  {
   "cell_type": "code",
   "execution_count": 133,
   "metadata": {
    "ExecuteTime": {
     "end_time": "2018-04-17T19:35:16.616829Z",
     "start_time": "2018-04-17T19:35:16.592721Z"
    },
    "hidden": true,
    "slideshow": {
     "slide_type": "fragment"
    }
   },
   "outputs": [],
   "source": [
    "def get_grandchild_nodes(node):\n",
    "    \"\"\" Filter children that have children. We know a child node has children\n",
    "    if it has any dictionary values that are in turn dictionaries with at\n",
    "    least one key that isn't a data reference. \"\"\"\n",
    "    return {parent_key: child \n",
    "            for parent_key, child in node.items()\n",
    "            if isinstance(child, dict)\n",
    "            and (len(child) > 1 \n",
    "                 or len(child) == 1 and not has_data(child))}"
   ]
  },
  {
   "cell_type": "markdown",
   "metadata": {
    "hidden": true
   },
   "source": [
    "Let's try it on the `observations` node:"
   ]
  },
  {
   "cell_type": "code",
   "execution_count": 134,
   "metadata": {
    "ExecuteTime": {
     "end_time": "2018-04-17T19:35:16.694299Z",
     "start_time": "2018-04-17T19:35:16.686668Z"
    },
    "hidden": true
   },
   "outputs": [],
   "source": [
    "points_node = sets_node['oPoints']\n",
    "observations_node = points_node['observations']"
   ]
  },
  {
   "cell_type": "code",
   "execution_count": 135,
   "metadata": {
    "ExecuteTime": {
     "end_time": "2018-04-17T19:35:16.783143Z",
     "start_time": "2018-04-17T19:35:16.765817Z"
    },
    "hidden": true
   },
   "outputs": [
    {
     "ename": "NameError",
     "evalue": "name 'get_child_children' is not defined",
     "output_type": "error",
     "traceback": [
      "\u001b[0;31m---------------------------------------------------------------------------\u001b[0m",
      "\u001b[0;31mNameError\u001b[0m                                 Traceback (most recent call last)",
      "\u001b[0;32m<ipython-input-135-27231d895793>\u001b[0m in \u001b[0;36m<module>\u001b[0;34m()\u001b[0m\n\u001b[1;32m      1\u001b[0m display(heading('children of \"observations\" with children:'),\n\u001b[0;32m----> 2\u001b[0;31m         set(get_child_children(observations_node).keys()))\n\u001b[0m",
      "\u001b[0;31mNameError\u001b[0m: name 'get_child_children' is not defined"
     ]
    }
   ],
   "source": [
    "display(heading('children of \"observations\" with children:'),\n",
    "        set(get_child_children(observations_node).keys()))"
   ]
  },
  {
   "cell_type": "code",
   "execution_count": 136,
   "metadata": {
    "ExecuteTime": {
     "end_time": "2018-04-17T19:35:16.886634Z",
     "start_time": "2018-04-17T19:35:16.872932Z"
    },
    "hidden": true
   },
   "outputs": [
    {
     "data": {
      "text/html": [
       "<h5>children of \"observations\" with data:</h5>"
      ],
      "text/plain": [
       "<IPython.core.display.HTML object>"
      ]
     },
     "metadata": {},
     "output_type": "display_data"
    },
    {
     "data": {
      "text/plain": [
       "{'anum', 'complete', 'disabled', 'eVnum', 'enum', 'id', 'name', '|'}"
      ]
     },
     "metadata": {},
     "output_type": "display_data"
    }
   ],
   "source": [
    "display(heading('children of \"observations\" with data:'),\n",
    "        set(get_child_data_nodes(observations_node)))"
   ]
  },
  {
   "cell_type": "code",
   "execution_count": 137,
   "metadata": {
    "ExecuteTime": {
     "end_time": "2018-04-17T19:35:16.954317Z",
     "start_time": "2018-04-17T19:35:16.939795Z"
    },
    "hidden": true
   },
   "outputs": [
    {
     "data": {
      "text/html": [
       "<h5>children of \"observations\" with children & data:</h5>"
      ],
      "text/plain": [
       "<IPython.core.display.HTML object>"
      ]
     },
     "metadata": {},
     "output_type": "display_data"
    },
    {
     "data": {
      "text/plain": [
       "{'|'}"
      ]
     },
     "metadata": {},
     "output_type": "display_data"
    }
   ],
   "source": [
    "# With Python sets, the ampersand (`&`) is the set intersetion operator.\n",
    "display(heading('children of \"observations\" with children & data:'),\n",
    "        set(get_grandchild_nodes(observations_node)) & set(get_child_data_nodes(observations_node)))"
   ]
  },
  {
   "cell_type": "markdown",
   "metadata": {
    "hidden": true
   },
   "source": [
    "Oh? Children _and_ data under `|`? What could it be? Some sort of extension to the observations section, I'm thinking."
   ]
  },
  {
   "cell_type": "code",
   "execution_count": 138,
   "metadata": {
    "ExecuteTime": {
     "end_time": "2018-04-17T19:35:17.765041Z",
     "start_time": "2018-04-17T19:35:17.749724Z"
    },
    "hidden": true
   },
   "outputs": [],
   "source": [
    "observations_ext_node = observations_node['|']"
   ]
  },
  {
   "cell_type": "code",
   "execution_count": 139,
   "metadata": {
    "ExecuteTime": {
     "end_time": "2018-04-17T19:35:17.765041Z",
     "start_time": "2018-04-17T19:35:17.749724Z"
    },
    "hidden": true
   },
   "outputs": [
    {
     "data": {
      "text/plain": [
       "Worksheet Name  Worksheet Row\n",
       "Erl             5                e1\n",
       "                6                e2\n",
       "                7                e3\n",
       "                8                e4\n",
       "                9                e5\n",
       "                10               e6\n",
       "                11               e7\n",
       "                12               e8\n",
       "                13               e9\n",
       "Name: fields__oSets__oPoints__observations__|, dtype: object"
      ]
     },
     "metadata": {},
     "output_type": "display_data"
    }
   ],
   "source": [
    "display(observations_ext_node[DATA].dropna().head(9))"
   ]
  },
  {
   "cell_type": "code",
   "execution_count": 140,
   "metadata": {
    "ExecuteTime": {
     "end_time": "2018-04-17T19:35:17.831040Z",
     "start_time": "2018-04-17T19:35:17.815418Z"
    },
    "hidden": true
   },
   "outputs": [
    {
     "data": {
      "text/plain": [
       "Worksheet Name  Worksheet Row\n",
       "Erl             90               5.0\n",
       "                94               1.0\n",
       "                96               2.0\n",
       "                104              5.0\n",
       "                110              1.0\n",
       "                118              4.0\n",
       "                132              2.0\n",
       "                136              1.0\n",
       "                145              1.0\n",
       "Name: fields__oSets__oPoints__observations__|__number, dtype: float64"
      ]
     },
     "metadata": {},
     "output_type": "display_data"
    }
   ],
   "source": [
    "display(observations_ext_node['number'][DATA].dropna().head(9))"
   ]
  },
  {
   "cell_type": "markdown",
   "metadata": {
    "hidden": true
   },
   "source": [
    "Based on my experience with using the app, I think it has something to do with natural enemy counts, because that's the only other information gathered by the app that hasn't been accounted for in the well-named columns.\n",
    "\n",
    "Later on, we'll need to dig up the actual list of naturaly enemies and match them to the corresponding \"e\" labels, `e1` through `e9`."
   ]
  },
  {
   "cell_type": "markdown",
   "metadata": {
    "hidden": true
   },
   "source": [
    "### Find Columns in a Section"
   ]
  },
  {
   "cell_type": "markdown",
   "metadata": {
    "hidden": true
   },
   "source": [
    "Let's take a look at the columns containing data about observation sets.\n",
    "\n",
    "We'll use `has_data` to filter our `sets_node` so we can express a list of names of data-containing columns about `fields__oSets`."
   ]
  },
  {
   "cell_type": "code",
   "execution_count": 141,
   "metadata": {
    "ExecuteTime": {
     "end_time": "2018-04-17T19:35:24.711859Z",
     "start_time": "2018-04-17T19:35:24.699486Z"
    },
    "hidden": true
   },
   "outputs": [
    {
     "data": {
      "text/plain": [
       "['fields__oSets__completeSets',\n",
       " 'fields__oSets__date',\n",
       " 'fields__oSets__dateCompare',\n",
       " 'fields__oSets__desc',\n",
       " 'fields__oSets__growthStage',\n",
       " 'fields__oSets__obsName',\n",
       " 'fields__oSets__results',\n",
       " 'fields__oSets__totalA1',\n",
       " 'fields__oSets__totalA2',\n",
       " 'fields__oSets__totalA3',\n",
       " 'fields__oSets__totalA4',\n",
       " 'fields__oSets__totalSets']"
      ]
     },
     "metadata": {},
     "output_type": "display_data"
    }
   ],
   "source": [
    "sets_columns_names = [column[DATA].name for column in get_child_data_nodes(sets_node).values()]\n",
    "display(sets_columns_names)"
   ]
  },
  {
   "cell_type": "markdown",
   "metadata": {
    "hidden": true
   },
   "source": [
    "Passing that list to _pandas_, we should get exactly which columns of data we need:"
   ]
  },
  {
   "cell_type": "code",
   "execution_count": 142,
   "metadata": {
    "ExecuteTime": {
     "end_time": "2018-04-17T19:35:25.568072Z",
     "start_time": "2018-04-17T19:35:25.520796Z"
    },
    "hidden": true
   },
   "outputs": [
    {
     "data": {
      "text/html": [
       "<div>\n",
       "<style scoped>\n",
       "    .dataframe tbody tr th:only-of-type {\n",
       "        vertical-align: middle;\n",
       "    }\n",
       "\n",
       "    .dataframe tbody tr th {\n",
       "        vertical-align: top;\n",
       "    }\n",
       "\n",
       "    .dataframe thead th {\n",
       "        text-align: right;\n",
       "    }\n",
       "</style>\n",
       "<table border=\"1\" class=\"dataframe\">\n",
       "  <thead>\n",
       "    <tr style=\"text-align: right;\">\n",
       "      <th></th>\n",
       "      <th></th>\n",
       "      <th>fields__oSets__completeSets</th>\n",
       "      <th>fields__oSets__date</th>\n",
       "      <th>fields__oSets__dateCompare</th>\n",
       "      <th>fields__oSets__desc</th>\n",
       "      <th>fields__oSets__growthStage</th>\n",
       "      <th>fields__oSets__obsName</th>\n",
       "      <th>fields__oSets__results</th>\n",
       "      <th>fields__oSets__totalA1</th>\n",
       "      <th>fields__oSets__totalA2</th>\n",
       "      <th>fields__oSets__totalA3</th>\n",
       "      <th>fields__oSets__totalA4</th>\n",
       "      <th>fields__oSets__totalSets</th>\n",
       "    </tr>\n",
       "    <tr>\n",
       "      <th>Worksheet Name</th>\n",
       "      <th>Worksheet Row</th>\n",
       "      <th></th>\n",
       "      <th></th>\n",
       "      <th></th>\n",
       "      <th></th>\n",
       "      <th></th>\n",
       "      <th></th>\n",
       "      <th></th>\n",
       "      <th></th>\n",
       "      <th></th>\n",
       "      <th></th>\n",
       "      <th></th>\n",
       "      <th></th>\n",
       "    </tr>\n",
       "  </thead>\n",
       "  <tbody>\n",
       "    <tr>\n",
       "      <th rowspan=\"5\" valign=\"top\">Erl</th>\n",
       "      <th>0</th>\n",
       "      <td>0.0</td>\n",
       "      <td>2017-08-02T13:12:09.542</td>\n",
       "      <td>2017-08-02</td>\n",
       "      <td>NaN</td>\n",
       "      <td>7.0</td>\n",
       "      <td>Tyler</td>\n",
       "      <td>NaN</td>\n",
       "      <td>NaN</td>\n",
       "      <td>NaN</td>\n",
       "      <td>NaN</td>\n",
       "      <td>NaN</td>\n",
       "      <td>1.0</td>\n",
       "    </tr>\n",
       "    <tr>\n",
       "      <th>1</th>\n",
       "      <td>NaN</td>\n",
       "      <td>NaN</td>\n",
       "      <td>NaT</td>\n",
       "      <td>NaN</td>\n",
       "      <td>NaN</td>\n",
       "      <td>NaN</td>\n",
       "      <td>NaN</td>\n",
       "      <td>NaN</td>\n",
       "      <td>NaN</td>\n",
       "      <td>NaN</td>\n",
       "      <td>NaN</td>\n",
       "      <td>NaN</td>\n",
       "    </tr>\n",
       "    <tr>\n",
       "      <th>2</th>\n",
       "      <td>NaN</td>\n",
       "      <td>NaN</td>\n",
       "      <td>NaT</td>\n",
       "      <td>NaN</td>\n",
       "      <td>NaN</td>\n",
       "      <td>NaN</td>\n",
       "      <td>NaN</td>\n",
       "      <td>NaN</td>\n",
       "      <td>NaN</td>\n",
       "      <td>NaN</td>\n",
       "      <td>NaN</td>\n",
       "      <td>NaN</td>\n",
       "    </tr>\n",
       "    <tr>\n",
       "      <th>3</th>\n",
       "      <td>NaN</td>\n",
       "      <td>NaN</td>\n",
       "      <td>NaT</td>\n",
       "      <td>NaN</td>\n",
       "      <td>NaN</td>\n",
       "      <td>NaN</td>\n",
       "      <td>NaN</td>\n",
       "      <td>NaN</td>\n",
       "      <td>NaN</td>\n",
       "      <td>NaN</td>\n",
       "      <td>NaN</td>\n",
       "      <td>NaN</td>\n",
       "    </tr>\n",
       "    <tr>\n",
       "      <th>4</th>\n",
       "      <td>NaN</td>\n",
       "      <td>NaN</td>\n",
       "      <td>NaT</td>\n",
       "      <td>NaN</td>\n",
       "      <td>NaN</td>\n",
       "      <td>NaN</td>\n",
       "      <td>NaN</td>\n",
       "      <td>NaN</td>\n",
       "      <td>NaN</td>\n",
       "      <td>NaN</td>\n",
       "      <td>NaN</td>\n",
       "      <td>NaN</td>\n",
       "    </tr>\n",
       "  </tbody>\n",
       "</table>\n",
       "</div>"
      ],
      "text/plain": [
       "                              fields__oSets__completeSets  \\\n",
       "Worksheet Name Worksheet Row                                \n",
       "Erl            0                                      0.0   \n",
       "               1                                      NaN   \n",
       "               2                                      NaN   \n",
       "               3                                      NaN   \n",
       "               4                                      NaN   \n",
       "\n",
       "                                  fields__oSets__date  \\\n",
       "Worksheet Name Worksheet Row                            \n",
       "Erl            0              2017-08-02T13:12:09.542   \n",
       "               1                                  NaN   \n",
       "               2                                  NaN   \n",
       "               3                                  NaN   \n",
       "               4                                  NaN   \n",
       "\n",
       "                             fields__oSets__dateCompare  fields__oSets__desc  \\\n",
       "Worksheet Name Worksheet Row                                                   \n",
       "Erl            0                             2017-08-02                  NaN   \n",
       "               1                                    NaT                  NaN   \n",
       "               2                                    NaT                  NaN   \n",
       "               3                                    NaT                  NaN   \n",
       "               4                                    NaT                  NaN   \n",
       "\n",
       "                              fields__oSets__growthStage  \\\n",
       "Worksheet Name Worksheet Row                               \n",
       "Erl            0                                     7.0   \n",
       "               1                                     NaN   \n",
       "               2                                     NaN   \n",
       "               3                                     NaN   \n",
       "               4                                     NaN   \n",
       "\n",
       "                             fields__oSets__obsName fields__oSets__results  \\\n",
       "Worksheet Name Worksheet Row                                                 \n",
       "Erl            0                              Tyler                    NaN   \n",
       "               1                                NaN                    NaN   \n",
       "               2                                NaN                    NaN   \n",
       "               3                                NaN                    NaN   \n",
       "               4                                NaN                    NaN   \n",
       "\n",
       "                              fields__oSets__totalA1  fields__oSets__totalA2  \\\n",
       "Worksheet Name Worksheet Row                                                   \n",
       "Erl            0                                 NaN                     NaN   \n",
       "               1                                 NaN                     NaN   \n",
       "               2                                 NaN                     NaN   \n",
       "               3                                 NaN                     NaN   \n",
       "               4                                 NaN                     NaN   \n",
       "\n",
       "                              fields__oSets__totalA3  fields__oSets__totalA4  \\\n",
       "Worksheet Name Worksheet Row                                                   \n",
       "Erl            0                                 NaN                     NaN   \n",
       "               1                                 NaN                     NaN   \n",
       "               2                                 NaN                     NaN   \n",
       "               3                                 NaN                     NaN   \n",
       "               4                                 NaN                     NaN   \n",
       "\n",
       "                              fields__oSets__totalSets  \n",
       "Worksheet Name Worksheet Row                            \n",
       "Erl            0                                   1.0  \n",
       "               1                                   NaN  \n",
       "               2                                   NaN  \n",
       "               3                                   NaN  \n",
       "               4                                   NaN  "
      ]
     },
     "metadata": {},
     "output_type": "display_data"
    }
   ],
   "source": [
    "display(data[sets_columns_names].head())"
   ]
  },
  {
   "cell_type": "markdown",
   "metadata": {
    "hidden": true
   },
   "source": [
    "That's useful. We should define a function for that."
   ]
  },
  {
   "cell_type": "markdown",
   "metadata": {
    "hidden": true
   },
   "source": [
    "#### Define Function: `get_child_column_data(node)`"
   ]
  },
  {
   "cell_type": "code",
   "execution_count": 143,
   "metadata": {
    "hidden": true
   },
   "outputs": [],
   "source": [
    "def get_child_column_data(node: dict) -> list or None:\n",
    "    child_data_nodes = get_child_data_nodes(node)\n",
    "    if child_data_nodes:\n",
    "        return [column[DATA] for column in child_data_nodes.values()]\n",
    "    return []"
   ]
  },
  {
   "cell_type": "markdown",
   "metadata": {
    "hidden": true
   },
   "source": [
    "Let's test that out, by getting names from everything it returns:"
   ]
  },
  {
   "cell_type": "code",
   "execution_count": 144,
   "metadata": {
    "hidden": true,
    "scrolled": true
   },
   "outputs": [
    {
     "data": {
      "text/plain": [
       "['fields__oSets__oPoints__observations__anum',\n",
       " 'fields__oSets__oPoints__observations__complete',\n",
       " 'fields__oSets__oPoints__observations__disabled',\n",
       " 'fields__oSets__oPoints__observations__eVnum',\n",
       " 'fields__oSets__oPoints__observations__enum',\n",
       " 'fields__oSets__oPoints__observations__id',\n",
       " 'fields__oSets__oPoints__observations__name',\n",
       " 'fields__oSets__oPoints__observations__|']"
      ]
     },
     "execution_count": 144,
     "metadata": {},
     "output_type": "execute_result"
    }
   ],
   "source": [
    "observations_node = columns[\"fields\"][\"oSets\"][\"oPoints\"][\"observations\"]\n",
    "[item.name for item in get_child_column_data(observations_node)]"
   ]
  },
  {
   "cell_type": "markdown",
   "metadata": {
    "hidden": true
   },
   "source": [
    "We could write that as a name-getter function:"
   ]
  },
  {
   "cell_type": "markdown",
   "metadata": {
    "hidden": true
   },
   "source": [
    "#### Improve `visualize_tree`"
   ]
  },
  {
   "cell_type": "markdown",
   "metadata": {
    "hidden": true
   },
   "source": [
    "Now that we have filters for helping us traverse the tree, let's take a moment to improve `visualize_tree`:"
   ]
  },
  {
   "cell_type": "code",
   "execution_count": 145,
   "metadata": {
    "ExecuteTime": {
     "end_time": "2018-04-17T19:35:21.171684Z",
     "start_time": "2018-04-17T19:35:21.126449Z"
    },
    "hidden": true
   },
   "outputs": [],
   "source": [
    "def visualize_tree(tree, depth=1, maximum_depth=None, data_key=DATA,\n",
    "                   show_leaf_nodes=True):\n",
    "    if isinstance(tree, (dict, defaultdict)):\n",
    "        if show_leaf_nodes:\n",
    "            nodes = tree\n",
    "        else:\n",
    "            nodes = get_grandchild_nodes(tree)\n",
    "        for key, val in nodes.items():\n",
    "            if key != data_key:\n",
    "                if has_data(val):\n",
    "                    prefix = '* '\n",
    "                else:\n",
    "                    prefix = ''\n",
    "                if get_grandchild_nodes(val) or get_child_data_nodes(val):\n",
    "                    suffix = '/'\n",
    "                else:\n",
    "                    suffix = ''\n",
    "                print(\".   \" * (depth - 1) + f\"{prefix}{key}{suffix}\")\n",
    "                if maximum_depth is None or depth <= maximum_depth:\n",
    "                    visualize_tree(val, depth + 1, maximum_depth, data_key,\n",
    "                                   show_leaf_nodes)"
   ]
  },
  {
   "cell_type": "markdown",
   "metadata": {
    "hidden": true
   },
   "source": [
    "Now we can visualize the structure in terms of what's at the ends of the branches (leaf nodes) or all descendants. The additional punctuation also makes it more obvious which nodes have data values. For example, the node at `fields__oSets__oPoints__observations__|`, which is both a data node and a branch."
   ]
  },
  {
   "cell_type": "code",
   "execution_count": 146,
   "metadata": {
    "ExecuteTime": {
     "end_time": "2018-04-17T19:35:22.034944Z",
     "start_time": "2018-04-17T19:35:22.019252Z"
    },
    "hidden": true
   },
   "outputs": [
    {
     "name": "stdout",
     "output_type": "stream",
     "text": [
      "a1/\n",
      "a2/\n",
      "a3/\n",
      "* |/\n"
     ]
    }
   ],
   "source": [
    "visualize_tree(observations_node, show_leaf_nodes=False)"
   ]
  },
  {
   "cell_type": "code",
   "execution_count": 147,
   "metadata": {
    "ExecuteTime": {
     "end_time": "2018-04-17T19:35:22.102077Z",
     "start_time": "2018-04-17T19:35:22.087060Z"
    },
    "hidden": true
   },
   "outputs": [
    {
     "name": "stdout",
     "output_type": "stream",
     "text": [
      "a1/\n",
      ".   * number\n",
      "a2/\n",
      ".   * number\n",
      "a3/\n",
      ".   * number\n",
      "* anum\n",
      "* complete\n",
      "* disabled\n",
      "* eVnum\n",
      "* enum\n",
      "* id\n",
      "* name\n",
      "* |/\n",
      ".   * number\n"
     ]
    }
   ],
   "source": [
    "visualize_tree(observations_node, show_leaf_nodes=True)"
   ]
  },
  {
   "cell_type": "markdown",
   "metadata": {
    "hidden": true
   },
   "source": [
    "#### Define Function: `get_descendant_column_data(node)`"
   ]
  },
  {
   "cell_type": "code",
   "execution_count": 148,
   "metadata": {
    "hidden": true,
    "init_cell": true
   },
   "outputs": [],
   "source": [
    "def get_child_descendant_column_data(node: dict) -> list:\n",
    "    columns = []\n",
    "    for grandchild in get_grandchild_nodes(node).values():\n",
    "        columns.extend(get_descendant_column_data(grandchild))\n",
    "    return columns\n",
    "\n",
    "def get_descendant_column_data(node: dict) -> list:\n",
    "    \"\"\" Recursively return all children.\"\"\"\n",
    "    return get_child_column_data(node) + get_child_descendant_column_data(node)"
   ]
  },
  {
   "cell_type": "code",
   "execution_count": 149,
   "metadata": {
    "hidden": true
   },
   "outputs": [
    {
     "data": {
      "text/plain": [
       "['fields__oSets__oPoints__observations__anum',\n",
       " 'fields__oSets__oPoints__observations__complete',\n",
       " 'fields__oSets__oPoints__observations__disabled',\n",
       " 'fields__oSets__oPoints__observations__eVnum',\n",
       " 'fields__oSets__oPoints__observations__enum',\n",
       " 'fields__oSets__oPoints__observations__id',\n",
       " 'fields__oSets__oPoints__observations__name',\n",
       " 'fields__oSets__oPoints__observations__|',\n",
       " 'fields__oSets__oPoints__observations__a1__number',\n",
       " 'fields__oSets__oPoints__observations__a2__number',\n",
       " 'fields__oSets__oPoints__observations__a3__number',\n",
       " 'fields__oSets__oPoints__observations__|__number']"
      ]
     },
     "execution_count": 149,
     "metadata": {},
     "output_type": "execute_result"
    }
   ],
   "source": [
    "[series.name for series in get_descendant_column_data(observations_node)]"
   ]
  },
  {
   "cell_type": "markdown",
   "metadata": {
    "hidden": true
   },
   "source": [
    "Now, we can select columns at any depth."
   ]
  },
  {
   "cell_type": "markdown",
   "metadata": {
    "hidden": true
   },
   "source": [
    "Child level only (first generation descendants):"
   ]
  },
  {
   "cell_type": "code",
   "execution_count": 150,
   "metadata": {
    "hidden": true
   },
   "outputs": [
    {
     "data": {
      "text/plain": [
       "['fields__oSets__oPoints__observations__anum',\n",
       " 'fields__oSets__oPoints__observations__complete',\n",
       " 'fields__oSets__oPoints__observations__disabled',\n",
       " 'fields__oSets__oPoints__observations__eVnum',\n",
       " 'fields__oSets__oPoints__observations__enum',\n",
       " 'fields__oSets__oPoints__observations__id',\n",
       " 'fields__oSets__oPoints__observations__name',\n",
       " 'fields__oSets__oPoints__observations__|']"
      ]
     },
     "execution_count": 150,
     "metadata": {},
     "output_type": "execute_result"
    }
   ],
   "source": [
    "# as in get_child_column_names(observations_node)\n",
    "[column.name for column in get_child_column_data(observations_node)]"
   ]
  },
  {
   "cell_type": "markdown",
   "metadata": {
    "hidden": true
   },
   "source": [
    "Recursive only (multi-generation descendants):"
   ]
  },
  {
   "cell_type": "code",
   "execution_count": 151,
   "metadata": {
    "hidden": true
   },
   "outputs": [
    {
     "data": {
      "text/plain": [
       "['fields__oSets__oPoints__observations__a1__number',\n",
       " 'fields__oSets__oPoints__observations__a2__number',\n",
       " 'fields__oSets__oPoints__observations__a3__number',\n",
       " 'fields__oSets__oPoints__observations__|__number']"
      ]
     },
     "execution_count": 151,
     "metadata": {},
     "output_type": "execute_result"
    }
   ],
   "source": [
    "[column.name for column in get_child_descendant_column_data(observations_node)]"
   ]
  },
  {
   "cell_type": "markdown",
   "metadata": {
    "hidden": true
   },
   "source": [
    "First generation and multi-generation, combined:"
   ]
  },
  {
   "cell_type": "code",
   "execution_count": 152,
   "metadata": {
    "hidden": true
   },
   "outputs": [
    {
     "data": {
      "text/plain": [
       "['fields__oSets__oPoints__observations__anum',\n",
       " 'fields__oSets__oPoints__observations__complete',\n",
       " 'fields__oSets__oPoints__observations__disabled',\n",
       " 'fields__oSets__oPoints__observations__eVnum',\n",
       " 'fields__oSets__oPoints__observations__enum',\n",
       " 'fields__oSets__oPoints__observations__id',\n",
       " 'fields__oSets__oPoints__observations__name',\n",
       " 'fields__oSets__oPoints__observations__|',\n",
       " 'fields__oSets__oPoints__observations__a1__number',\n",
       " 'fields__oSets__oPoints__observations__a2__number',\n",
       " 'fields__oSets__oPoints__observations__a3__number',\n",
       " 'fields__oSets__oPoints__observations__|__number']"
      ]
     },
     "execution_count": 152,
     "metadata": {},
     "output_type": "execute_result"
    }
   ],
   "source": [
    "[column.name for column in get_descendant_column_data(observations_node)]"
   ]
  },
  {
   "cell_type": "markdown",
   "metadata": {
    "hidden": true
   },
   "source": [
    "#### Alternative Function: `recursive_get_column_data(node)`"
   ]
  },
  {
   "cell_type": "markdown",
   "metadata": {
    "hidden": true
   },
   "source": [
    "If you're picky, you'll note an issue with the method `get_descendant_column_data(node)`: it always separates generations before recombining them later, which leaves the order of columns perturbed."
   ]
  },
  {
   "cell_type": "markdown",
   "metadata": {
    "hidden": true
   },
   "source": [
    "Rather than abstractly treat dictionary keys on nodes as \"child\", \"grandchild\", and \"data\", we can treat them as \"data\" and \"non-data\". This lets us handle everything in the same loop, using `for`:"
   ]
  },
  {
   "cell_type": "code",
   "execution_count": 153,
   "metadata": {
    "hidden": true,
    "init_cell": true
   },
   "outputs": [],
   "source": [
    "def recursive_get_column_data(node: dict) -> list:\n",
    "    accumulated = []\n",
    "    for parent_key, child in node.items():\n",
    "        if parent_key == DATA:\n",
    "            accumulated.append(child)\n",
    "        else:\n",
    "            accumulated.extend(recursive_get_column_data(child))\n",
    "    return accumulated"
   ]
  },
  {
   "cell_type": "code",
   "execution_count": 154,
   "metadata": {
    "hidden": true
   },
   "outputs": [
    {
     "data": {
      "text/plain": [
       "['fields__oSets__oPoints__observations__a1__number',\n",
       " 'fields__oSets__oPoints__observations__a2__number',\n",
       " 'fields__oSets__oPoints__observations__a3__number',\n",
       " 'fields__oSets__oPoints__observations__anum',\n",
       " 'fields__oSets__oPoints__observations__complete',\n",
       " 'fields__oSets__oPoints__observations__disabled',\n",
       " 'fields__oSets__oPoints__observations__eVnum',\n",
       " 'fields__oSets__oPoints__observations__enum',\n",
       " 'fields__oSets__oPoints__observations__id',\n",
       " 'fields__oSets__oPoints__observations__name',\n",
       " 'fields__oSets__oPoints__observations__|',\n",
       " 'fields__oSets__oPoints__observations__|__number']"
      ]
     },
     "execution_count": 154,
     "metadata": {},
     "output_type": "execute_result"
    }
   ],
   "source": [
    "[series.name for series in recursive_get_column_data(observations_node)]"
   ]
  },
  {
   "cell_type": "markdown",
   "metadata": {
    "hidden": true
   },
   "source": [
    "The results are the same except for the order. Use whichever is most helpful in your use case."
   ]
  },
  {
   "cell_type": "markdown",
   "metadata": {
    "hidden": true
   },
   "source": [
    "#### Improve `visualize_tree`"
   ]
  },
  {
   "cell_type": "markdown",
   "metadata": {
    "hidden": true
   },
   "source": [
    "Now that we have filters for helping us traverse the tree, let's take a moment to improve `visualize_tree`:"
   ]
  },
  {
   "cell_type": "code",
   "execution_count": 155,
   "metadata": {
    "ExecuteTime": {
     "end_time": "2018-04-17T19:35:21.171684Z",
     "start_time": "2018-04-17T19:35:21.126449Z"
    },
    "hidden": true
   },
   "outputs": [],
   "source": [
    "def visualize_tree(tree, depth=1, maximum_depth=None, data_key=DATA,\n",
    "                   show_leaf_nodes=True):\n",
    "    if isinstance(tree, (dict, defaultdict)):\n",
    "        if show_leaf_nodes:\n",
    "            nodes = tree\n",
    "        else:\n",
    "            nodes = get_grandchild_nodes(tree)\n",
    "        for key, val in nodes.items():\n",
    "            if key != data_key:\n",
    "                if has_data(val):\n",
    "                    prefix = '* '\n",
    "                else:\n",
    "                    prefix = ''\n",
    "                if get_grandchild_nodes(val) or get_child_data_nodes(val):\n",
    "                    suffix = '/'\n",
    "                else:\n",
    "                    suffix = ''\n",
    "                print(\".   \" * (depth - 1) + f\"{prefix}{key}{suffix}\")\n",
    "                if maximum_depth is None or depth <= maximum_depth:\n",
    "                    visualize_tree(val, depth + 1, maximum_depth, data_key,\n",
    "                                   show_leaf_nodes)"
   ]
  },
  {
   "cell_type": "markdown",
   "metadata": {
    "hidden": true
   },
   "source": [
    "Now we can visualize the structure in terms of what's at the ends of the branches (leaf nodes) or all descendants. The additional punctuation also makes it more obvious which nodes have data values. For example, the node at `fields__oSets__oPoints__observations__|`, which is both a data node and a branch."
   ]
  },
  {
   "cell_type": "code",
   "execution_count": 156,
   "metadata": {
    "ExecuteTime": {
     "end_time": "2018-04-17T19:35:22.034944Z",
     "start_time": "2018-04-17T19:35:22.019252Z"
    },
    "hidden": true
   },
   "outputs": [
    {
     "name": "stdout",
     "output_type": "stream",
     "text": [
      "a1/\n",
      "a2/\n",
      "a3/\n",
      "* |/\n"
     ]
    }
   ],
   "source": [
    "visualize_tree(observations_node, show_leaf_nodes=False)"
   ]
  },
  {
   "cell_type": "code",
   "execution_count": 157,
   "metadata": {
    "ExecuteTime": {
     "end_time": "2018-04-17T19:35:22.102077Z",
     "start_time": "2018-04-17T19:35:22.087060Z"
    },
    "hidden": true
   },
   "outputs": [
    {
     "name": "stdout",
     "output_type": "stream",
     "text": [
      "a1/\n",
      ".   * number\n",
      "a2/\n",
      ".   * number\n",
      "a3/\n",
      ".   * number\n",
      "* anum\n",
      "* complete\n",
      "* disabled\n",
      "* eVnum\n",
      "* enum\n",
      "* id\n",
      "* name\n",
      "* |/\n",
      ".   * number\n"
     ]
    }
   ],
   "source": [
    "visualize_tree(observations_node, show_leaf_nodes=True)"
   ]
  },
  {
   "cell_type": "markdown",
   "metadata": {
    "hidden": true
   },
   "source": [
    "#### View a DataFrame Section"
   ]
  },
  {
   "cell_type": "markdown",
   "metadata": {
    "hidden": true
   },
   "source": [
    "To view a portion of a DataFrame, such as a subset of the columns, you can approach this in a number of ways. The two most relevant to our task at hand are:\n",
    "\n",
    "- lookup by column name in existing `DataFrame`\n",
    "- view columns as new `DataFrame`"
   ]
  },
  {
   "cell_type": "markdown",
   "metadata": {
    "hidden": true
   },
   "source": [
    "If you know the column names, you can just treat the `DataFrame` a bit like a dictionary, but you can use lists of keys instead only one at a time."
   ]
  },
  {
   "cell_type": "code",
   "execution_count": 158,
   "metadata": {
    "hidden": true
   },
   "outputs": [],
   "source": [
    "def get_child_column_names(node):\n",
    "    return [column.name for column in get_child_column_data(node)]"
   ]
  },
  {
   "cell_type": "markdown",
   "metadata": {
    "hidden": true
   },
   "source": [
    "For example, if we combine two smaller lists, and you combine them with `+`, that list expression is also valid for specifying columns to a _pandas_ `DataFrame`:"
   ]
  },
  {
   "cell_type": "code",
   "execution_count": 159,
   "metadata": {
    "hidden": true
   },
   "outputs": [
    {
     "data": {
      "text/html": [
       "<div>\n",
       "<style scoped>\n",
       "    .dataframe tbody tr th:only-of-type {\n",
       "        vertical-align: middle;\n",
       "    }\n",
       "\n",
       "    .dataframe tbody tr th {\n",
       "        vertical-align: top;\n",
       "    }\n",
       "\n",
       "    .dataframe thead tr th {\n",
       "        text-align: left;\n",
       "    }\n",
       "</style>\n",
       "<table border=\"1\" class=\"dataframe\">\n",
       "  <thead>\n",
       "    <tr>\n",
       "      <th>Worksheet Name</th>\n",
       "      <th colspan=\"10\" halign=\"left\">Erl</th>\n",
       "      <th>...</th>\n",
       "      <th colspan=\"10\" halign=\"left\">Tyler</th>\n",
       "    </tr>\n",
       "    <tr>\n",
       "      <th>Worksheet Row</th>\n",
       "      <th>0</th>\n",
       "      <th>1</th>\n",
       "      <th>2</th>\n",
       "      <th>3</th>\n",
       "      <th>4</th>\n",
       "      <th>5</th>\n",
       "      <th>6</th>\n",
       "      <th>7</th>\n",
       "      <th>8</th>\n",
       "      <th>9</th>\n",
       "      <th>...</th>\n",
       "      <th>3770</th>\n",
       "      <th>3771</th>\n",
       "      <th>3772</th>\n",
       "      <th>3773</th>\n",
       "      <th>3774</th>\n",
       "      <th>3775</th>\n",
       "      <th>3776</th>\n",
       "      <th>3777</th>\n",
       "      <th>3778</th>\n",
       "      <th>3779</th>\n",
       "    </tr>\n",
       "  </thead>\n",
       "  <tbody>\n",
       "    <tr>\n",
       "      <th>fields__oSets__oPoints__observations__anum</th>\n",
       "      <td>0</td>\n",
       "      <td>0</td>\n",
       "      <td>0</td>\n",
       "      <td>0</td>\n",
       "      <td>0</td>\n",
       "      <td>NaN</td>\n",
       "      <td>NaN</td>\n",
       "      <td>NaN</td>\n",
       "      <td>NaN</td>\n",
       "      <td>NaN</td>\n",
       "      <td>...</td>\n",
       "      <td>0</td>\n",
       "      <td>NaN</td>\n",
       "      <td>NaN</td>\n",
       "      <td>NaN</td>\n",
       "      <td>NaN</td>\n",
       "      <td>NaN</td>\n",
       "      <td>NaN</td>\n",
       "      <td>NaN</td>\n",
       "      <td>NaN</td>\n",
       "      <td>NaN</td>\n",
       "    </tr>\n",
       "    <tr>\n",
       "      <th>fields__oSets__oPoints__observations__complete</th>\n",
       "      <td>NaN</td>\n",
       "      <td>NaN</td>\n",
       "      <td>NaN</td>\n",
       "      <td>NaN</td>\n",
       "      <td>NaN</td>\n",
       "      <td>1</td>\n",
       "      <td>NaN</td>\n",
       "      <td>NaN</td>\n",
       "      <td>NaN</td>\n",
       "      <td>NaN</td>\n",
       "      <td>...</td>\n",
       "      <td>1</td>\n",
       "      <td>1</td>\n",
       "      <td>NaN</td>\n",
       "      <td>NaN</td>\n",
       "      <td>NaN</td>\n",
       "      <td>NaN</td>\n",
       "      <td>NaN</td>\n",
       "      <td>NaN</td>\n",
       "      <td>NaN</td>\n",
       "      <td>NaN</td>\n",
       "    </tr>\n",
       "    <tr>\n",
       "      <th>fields__oSets__oPoints__observations__disabled</th>\n",
       "      <td>NaN</td>\n",
       "      <td>NaN</td>\n",
       "      <td>NaN</td>\n",
       "      <td>NaN</td>\n",
       "      <td>NaN</td>\n",
       "      <td>NaN</td>\n",
       "      <td>NaN</td>\n",
       "      <td>NaN</td>\n",
       "      <td>NaN</td>\n",
       "      <td>NaN</td>\n",
       "      <td>...</td>\n",
       "      <td>NaN</td>\n",
       "      <td>NaN</td>\n",
       "      <td>NaN</td>\n",
       "      <td>NaN</td>\n",
       "      <td>NaN</td>\n",
       "      <td>NaN</td>\n",
       "      <td>NaN</td>\n",
       "      <td>NaN</td>\n",
       "      <td>NaN</td>\n",
       "      <td>NaN</td>\n",
       "    </tr>\n",
       "    <tr>\n",
       "      <th>fields__oSets__oPoints__observations__eVnum</th>\n",
       "      <td>NaN</td>\n",
       "      <td>NaN</td>\n",
       "      <td>NaN</td>\n",
       "      <td>NaN</td>\n",
       "      <td>NaN</td>\n",
       "      <td>0</td>\n",
       "      <td>NaN</td>\n",
       "      <td>NaN</td>\n",
       "      <td>NaN</td>\n",
       "      <td>NaN</td>\n",
       "      <td>...</td>\n",
       "      <td>NaN</td>\n",
       "      <td>0</td>\n",
       "      <td>NaN</td>\n",
       "      <td>NaN</td>\n",
       "      <td>NaN</td>\n",
       "      <td>NaN</td>\n",
       "      <td>NaN</td>\n",
       "      <td>NaN</td>\n",
       "      <td>NaN</td>\n",
       "      <td>NaN</td>\n",
       "    </tr>\n",
       "    <tr>\n",
       "      <th>fields__oSets__oPoints__observations__enum</th>\n",
       "      <td>NaN</td>\n",
       "      <td>NaN</td>\n",
       "      <td>NaN</td>\n",
       "      <td>NaN</td>\n",
       "      <td>NaN</td>\n",
       "      <td>0</td>\n",
       "      <td>NaN</td>\n",
       "      <td>NaN</td>\n",
       "      <td>NaN</td>\n",
       "      <td>NaN</td>\n",
       "      <td>...</td>\n",
       "      <td>NaN</td>\n",
       "      <td>0</td>\n",
       "      <td>NaN</td>\n",
       "      <td>NaN</td>\n",
       "      <td>NaN</td>\n",
       "      <td>NaN</td>\n",
       "      <td>NaN</td>\n",
       "      <td>NaN</td>\n",
       "      <td>NaN</td>\n",
       "      <td>NaN</td>\n",
       "    </tr>\n",
       "    <tr>\n",
       "      <th>fields__oSets__oPoints__observations__id</th>\n",
       "      <td>0</td>\n",
       "      <td>1</td>\n",
       "      <td>2</td>\n",
       "      <td>3</td>\n",
       "      <td>4</td>\n",
       "      <td>5</td>\n",
       "      <td>NaN</td>\n",
       "      <td>NaN</td>\n",
       "      <td>NaN</td>\n",
       "      <td>NaN</td>\n",
       "      <td>...</td>\n",
       "      <td>4</td>\n",
       "      <td>5</td>\n",
       "      <td>NaN</td>\n",
       "      <td>NaN</td>\n",
       "      <td>NaN</td>\n",
       "      <td>NaN</td>\n",
       "      <td>NaN</td>\n",
       "      <td>NaN</td>\n",
       "      <td>NaN</td>\n",
       "      <td>NaN</td>\n",
       "    </tr>\n",
       "    <tr>\n",
       "      <th>fields__oSets__oPoints__observations__name</th>\n",
       "      <td>Aphid Observation 1</td>\n",
       "      <td>Aphid Observation 2</td>\n",
       "      <td>Aphid Observation 3</td>\n",
       "      <td>Aphid Observation 4</td>\n",
       "      <td>Aphid Observation 5</td>\n",
       "      <td>Natural Enemy Observation</td>\n",
       "      <td>NaN</td>\n",
       "      <td>NaN</td>\n",
       "      <td>NaN</td>\n",
       "      <td>NaN</td>\n",
       "      <td>...</td>\n",
       "      <td>Aphid Observation 25</td>\n",
       "      <td>Natural Enemy Observation</td>\n",
       "      <td>NaN</td>\n",
       "      <td>NaN</td>\n",
       "      <td>NaN</td>\n",
       "      <td>NaN</td>\n",
       "      <td>NaN</td>\n",
       "      <td>NaN</td>\n",
       "      <td>NaN</td>\n",
       "      <td>NaN</td>\n",
       "    </tr>\n",
       "    <tr>\n",
       "      <th>fields__oSets__oPoints__observations__|</th>\n",
       "      <td>NaN</td>\n",
       "      <td>NaN</td>\n",
       "      <td>NaN</td>\n",
       "      <td>NaN</td>\n",
       "      <td>NaN</td>\n",
       "      <td>e1</td>\n",
       "      <td>e2</td>\n",
       "      <td>e3</td>\n",
       "      <td>e4</td>\n",
       "      <td>e5</td>\n",
       "      <td>...</td>\n",
       "      <td>NaN</td>\n",
       "      <td>e1</td>\n",
       "      <td>e2</td>\n",
       "      <td>e3</td>\n",
       "      <td>e4</td>\n",
       "      <td>e5</td>\n",
       "      <td>e6</td>\n",
       "      <td>e7</td>\n",
       "      <td>e8</td>\n",
       "      <td>e9</td>\n",
       "    </tr>\n",
       "    <tr>\n",
       "      <th>fields__oSets__oPoints__observations__|__number</th>\n",
       "      <td>NaN</td>\n",
       "      <td>NaN</td>\n",
       "      <td>NaN</td>\n",
       "      <td>NaN</td>\n",
       "      <td>NaN</td>\n",
       "      <td>NaN</td>\n",
       "      <td>NaN</td>\n",
       "      <td>NaN</td>\n",
       "      <td>NaN</td>\n",
       "      <td>NaN</td>\n",
       "      <td>...</td>\n",
       "      <td>NaN</td>\n",
       "      <td>NaN</td>\n",
       "      <td>NaN</td>\n",
       "      <td>NaN</td>\n",
       "      <td>NaN</td>\n",
       "      <td>NaN</td>\n",
       "      <td>NaN</td>\n",
       "      <td>NaN</td>\n",
       "      <td>NaN</td>\n",
       "      <td>NaN</td>\n",
       "    </tr>\n",
       "  </tbody>\n",
       "</table>\n",
       "<p>9 rows × 4690 columns</p>\n",
       "</div>"
      ],
      "text/plain": [
       "Worksheet Name                                                   Erl  \\\n",
       "Worksheet Row                                                   0      \n",
       "fields__oSets__oPoints__observations__anum                         0   \n",
       "fields__oSets__oPoints__observations__complete                   NaN   \n",
       "fields__oSets__oPoints__observations__disabled                   NaN   \n",
       "fields__oSets__oPoints__observations__eVnum                      NaN   \n",
       "fields__oSets__oPoints__observations__enum                       NaN   \n",
       "fields__oSets__oPoints__observations__id                           0   \n",
       "fields__oSets__oPoints__observations__name       Aphid Observation 1   \n",
       "fields__oSets__oPoints__observations__|                          NaN   \n",
       "fields__oSets__oPoints__observations__|__number                  NaN   \n",
       "\n",
       "Worksheet Name                                                        \\\n",
       "Worksheet Row                                                   1      \n",
       "fields__oSets__oPoints__observations__anum                         0   \n",
       "fields__oSets__oPoints__observations__complete                   NaN   \n",
       "fields__oSets__oPoints__observations__disabled                   NaN   \n",
       "fields__oSets__oPoints__observations__eVnum                      NaN   \n",
       "fields__oSets__oPoints__observations__enum                       NaN   \n",
       "fields__oSets__oPoints__observations__id                           1   \n",
       "fields__oSets__oPoints__observations__name       Aphid Observation 2   \n",
       "fields__oSets__oPoints__observations__|                          NaN   \n",
       "fields__oSets__oPoints__observations__|__number                  NaN   \n",
       "\n",
       "Worksheet Name                                                        \\\n",
       "Worksheet Row                                                   2      \n",
       "fields__oSets__oPoints__observations__anum                         0   \n",
       "fields__oSets__oPoints__observations__complete                   NaN   \n",
       "fields__oSets__oPoints__observations__disabled                   NaN   \n",
       "fields__oSets__oPoints__observations__eVnum                      NaN   \n",
       "fields__oSets__oPoints__observations__enum                       NaN   \n",
       "fields__oSets__oPoints__observations__id                           2   \n",
       "fields__oSets__oPoints__observations__name       Aphid Observation 3   \n",
       "fields__oSets__oPoints__observations__|                          NaN   \n",
       "fields__oSets__oPoints__observations__|__number                  NaN   \n",
       "\n",
       "Worksheet Name                                                        \\\n",
       "Worksheet Row                                                   3      \n",
       "fields__oSets__oPoints__observations__anum                         0   \n",
       "fields__oSets__oPoints__observations__complete                   NaN   \n",
       "fields__oSets__oPoints__observations__disabled                   NaN   \n",
       "fields__oSets__oPoints__observations__eVnum                      NaN   \n",
       "fields__oSets__oPoints__observations__enum                       NaN   \n",
       "fields__oSets__oPoints__observations__id                           3   \n",
       "fields__oSets__oPoints__observations__name       Aphid Observation 4   \n",
       "fields__oSets__oPoints__observations__|                          NaN   \n",
       "fields__oSets__oPoints__observations__|__number                  NaN   \n",
       "\n",
       "Worksheet Name                                                        \\\n",
       "Worksheet Row                                                   4      \n",
       "fields__oSets__oPoints__observations__anum                         0   \n",
       "fields__oSets__oPoints__observations__complete                   NaN   \n",
       "fields__oSets__oPoints__observations__disabled                   NaN   \n",
       "fields__oSets__oPoints__observations__eVnum                      NaN   \n",
       "fields__oSets__oPoints__observations__enum                       NaN   \n",
       "fields__oSets__oPoints__observations__id                           4   \n",
       "fields__oSets__oPoints__observations__name       Aphid Observation 5   \n",
       "fields__oSets__oPoints__observations__|                          NaN   \n",
       "fields__oSets__oPoints__observations__|__number                  NaN   \n",
       "\n",
       "Worksheet Name                                                              \\\n",
       "Worksheet Row                                                         5      \n",
       "fields__oSets__oPoints__observations__anum                             NaN   \n",
       "fields__oSets__oPoints__observations__complete                           1   \n",
       "fields__oSets__oPoints__observations__disabled                         NaN   \n",
       "fields__oSets__oPoints__observations__eVnum                              0   \n",
       "fields__oSets__oPoints__observations__enum                               0   \n",
       "fields__oSets__oPoints__observations__id                                 5   \n",
       "fields__oSets__oPoints__observations__name       Natural Enemy Observation   \n",
       "fields__oSets__oPoints__observations__|                                 e1   \n",
       "fields__oSets__oPoints__observations__|__number                        NaN   \n",
       "\n",
       "Worksheet Name                                                      ...   \\\n",
       "Worksheet Row                                   6    7    8    9    ...    \n",
       "fields__oSets__oPoints__observations__anum       NaN  NaN  NaN  NaN ...    \n",
       "fields__oSets__oPoints__observations__complete   NaN  NaN  NaN  NaN ...    \n",
       "fields__oSets__oPoints__observations__disabled   NaN  NaN  NaN  NaN ...    \n",
       "fields__oSets__oPoints__observations__eVnum      NaN  NaN  NaN  NaN ...    \n",
       "fields__oSets__oPoints__observations__enum       NaN  NaN  NaN  NaN ...    \n",
       "fields__oSets__oPoints__observations__id         NaN  NaN  NaN  NaN ...    \n",
       "fields__oSets__oPoints__observations__name       NaN  NaN  NaN  NaN ...    \n",
       "fields__oSets__oPoints__observations__|           e2   e3   e4   e5 ...    \n",
       "fields__oSets__oPoints__observations__|__number  NaN  NaN  NaN  NaN ...    \n",
       "\n",
       "Worksheet Name                                                  Tyler  \\\n",
       "Worksheet Row                                                    3770   \n",
       "fields__oSets__oPoints__observations__anum                          0   \n",
       "fields__oSets__oPoints__observations__complete                      1   \n",
       "fields__oSets__oPoints__observations__disabled                    NaN   \n",
       "fields__oSets__oPoints__observations__eVnum                       NaN   \n",
       "fields__oSets__oPoints__observations__enum                        NaN   \n",
       "fields__oSets__oPoints__observations__id                            4   \n",
       "fields__oSets__oPoints__observations__name       Aphid Observation 25   \n",
       "fields__oSets__oPoints__observations__|                           NaN   \n",
       "fields__oSets__oPoints__observations__|__number                   NaN   \n",
       "\n",
       "Worksheet Name                                                              \\\n",
       "Worksheet Row                                                         3771   \n",
       "fields__oSets__oPoints__observations__anum                             NaN   \n",
       "fields__oSets__oPoints__observations__complete                           1   \n",
       "fields__oSets__oPoints__observations__disabled                         NaN   \n",
       "fields__oSets__oPoints__observations__eVnum                              0   \n",
       "fields__oSets__oPoints__observations__enum                               0   \n",
       "fields__oSets__oPoints__observations__id                                 5   \n",
       "fields__oSets__oPoints__observations__name       Natural Enemy Observation   \n",
       "fields__oSets__oPoints__observations__|                                 e1   \n",
       "fields__oSets__oPoints__observations__|__number                        NaN   \n",
       "\n",
       "Worksheet Name                                                                 \\\n",
       "Worksheet Row                                   3772 3773 3774 3775 3776 3777   \n",
       "fields__oSets__oPoints__observations__anum       NaN  NaN  NaN  NaN  NaN  NaN   \n",
       "fields__oSets__oPoints__observations__complete   NaN  NaN  NaN  NaN  NaN  NaN   \n",
       "fields__oSets__oPoints__observations__disabled   NaN  NaN  NaN  NaN  NaN  NaN   \n",
       "fields__oSets__oPoints__observations__eVnum      NaN  NaN  NaN  NaN  NaN  NaN   \n",
       "fields__oSets__oPoints__observations__enum       NaN  NaN  NaN  NaN  NaN  NaN   \n",
       "fields__oSets__oPoints__observations__id         NaN  NaN  NaN  NaN  NaN  NaN   \n",
       "fields__oSets__oPoints__observations__name       NaN  NaN  NaN  NaN  NaN  NaN   \n",
       "fields__oSets__oPoints__observations__|           e2   e3   e4   e5   e6   e7   \n",
       "fields__oSets__oPoints__observations__|__number  NaN  NaN  NaN  NaN  NaN  NaN   \n",
       "\n",
       "Worksheet Name                                             \n",
       "Worksheet Row                                   3778 3779  \n",
       "fields__oSets__oPoints__observations__anum       NaN  NaN  \n",
       "fields__oSets__oPoints__observations__complete   NaN  NaN  \n",
       "fields__oSets__oPoints__observations__disabled   NaN  NaN  \n",
       "fields__oSets__oPoints__observations__eVnum      NaN  NaN  \n",
       "fields__oSets__oPoints__observations__enum       NaN  NaN  \n",
       "fields__oSets__oPoints__observations__id         NaN  NaN  \n",
       "fields__oSets__oPoints__observations__name       NaN  NaN  \n",
       "fields__oSets__oPoints__observations__|           e8   e9  \n",
       "fields__oSets__oPoints__observations__|__number  NaN  NaN  \n",
       "\n",
       "[9 rows x 4690 columns]"
      ]
     },
     "execution_count": 159,
     "metadata": {},
     "output_type": "execute_result"
    }
   ],
   "source": [
    "data[\n",
    "    get_child_column_names(observations_node) + \n",
    "    get_child_column_names(observations_ext_node)\n",
    "].T"
   ]
  },
  {
   "cell_type": "markdown",
   "metadata": {
    "hidden": true
   },
   "source": [
    "If you have the actual columns, just view those as a DataFrame:"
   ]
  },
  {
   "cell_type": "code",
   "execution_count": 160,
   "metadata": {
    "hidden": true
   },
   "outputs": [
    {
     "data": {
      "text/html": [
       "<div>\n",
       "<style scoped>\n",
       "    .dataframe tbody tr th:only-of-type {\n",
       "        vertical-align: middle;\n",
       "    }\n",
       "\n",
       "    .dataframe tbody tr th {\n",
       "        vertical-align: top;\n",
       "    }\n",
       "\n",
       "    .dataframe thead tr th {\n",
       "        text-align: left;\n",
       "    }\n",
       "</style>\n",
       "<table border=\"1\" class=\"dataframe\">\n",
       "  <thead>\n",
       "    <tr>\n",
       "      <th>Worksheet Name</th>\n",
       "      <th colspan=\"10\" halign=\"left\">Erl</th>\n",
       "      <th>...</th>\n",
       "      <th colspan=\"10\" halign=\"left\">Tyler</th>\n",
       "    </tr>\n",
       "    <tr>\n",
       "      <th>Worksheet Row</th>\n",
       "      <th>0</th>\n",
       "      <th>1</th>\n",
       "      <th>2</th>\n",
       "      <th>3</th>\n",
       "      <th>4</th>\n",
       "      <th>5</th>\n",
       "      <th>6</th>\n",
       "      <th>7</th>\n",
       "      <th>8</th>\n",
       "      <th>9</th>\n",
       "      <th>...</th>\n",
       "      <th>3770</th>\n",
       "      <th>3771</th>\n",
       "      <th>3772</th>\n",
       "      <th>3773</th>\n",
       "      <th>3774</th>\n",
       "      <th>3775</th>\n",
       "      <th>3776</th>\n",
       "      <th>3777</th>\n",
       "      <th>3778</th>\n",
       "      <th>3779</th>\n",
       "    </tr>\n",
       "  </thead>\n",
       "  <tbody>\n",
       "    <tr>\n",
       "      <th>fields__oSets__oPoints__observations__anum</th>\n",
       "      <td>0</td>\n",
       "      <td>0</td>\n",
       "      <td>0</td>\n",
       "      <td>0</td>\n",
       "      <td>0</td>\n",
       "      <td>NaN</td>\n",
       "      <td>NaN</td>\n",
       "      <td>NaN</td>\n",
       "      <td>NaN</td>\n",
       "      <td>NaN</td>\n",
       "      <td>...</td>\n",
       "      <td>0</td>\n",
       "      <td>NaN</td>\n",
       "      <td>NaN</td>\n",
       "      <td>NaN</td>\n",
       "      <td>NaN</td>\n",
       "      <td>NaN</td>\n",
       "      <td>NaN</td>\n",
       "      <td>NaN</td>\n",
       "      <td>NaN</td>\n",
       "      <td>NaN</td>\n",
       "    </tr>\n",
       "    <tr>\n",
       "      <th>fields__oSets__oPoints__observations__complete</th>\n",
       "      <td>NaN</td>\n",
       "      <td>NaN</td>\n",
       "      <td>NaN</td>\n",
       "      <td>NaN</td>\n",
       "      <td>NaN</td>\n",
       "      <td>1</td>\n",
       "      <td>NaN</td>\n",
       "      <td>NaN</td>\n",
       "      <td>NaN</td>\n",
       "      <td>NaN</td>\n",
       "      <td>...</td>\n",
       "      <td>1</td>\n",
       "      <td>1</td>\n",
       "      <td>NaN</td>\n",
       "      <td>NaN</td>\n",
       "      <td>NaN</td>\n",
       "      <td>NaN</td>\n",
       "      <td>NaN</td>\n",
       "      <td>NaN</td>\n",
       "      <td>NaN</td>\n",
       "      <td>NaN</td>\n",
       "    </tr>\n",
       "    <tr>\n",
       "      <th>fields__oSets__oPoints__observations__disabled</th>\n",
       "      <td>NaN</td>\n",
       "      <td>NaN</td>\n",
       "      <td>NaN</td>\n",
       "      <td>NaN</td>\n",
       "      <td>NaN</td>\n",
       "      <td>NaN</td>\n",
       "      <td>NaN</td>\n",
       "      <td>NaN</td>\n",
       "      <td>NaN</td>\n",
       "      <td>NaN</td>\n",
       "      <td>...</td>\n",
       "      <td>NaN</td>\n",
       "      <td>NaN</td>\n",
       "      <td>NaN</td>\n",
       "      <td>NaN</td>\n",
       "      <td>NaN</td>\n",
       "      <td>NaN</td>\n",
       "      <td>NaN</td>\n",
       "      <td>NaN</td>\n",
       "      <td>NaN</td>\n",
       "      <td>NaN</td>\n",
       "    </tr>\n",
       "    <tr>\n",
       "      <th>fields__oSets__oPoints__observations__eVnum</th>\n",
       "      <td>NaN</td>\n",
       "      <td>NaN</td>\n",
       "      <td>NaN</td>\n",
       "      <td>NaN</td>\n",
       "      <td>NaN</td>\n",
       "      <td>0</td>\n",
       "      <td>NaN</td>\n",
       "      <td>NaN</td>\n",
       "      <td>NaN</td>\n",
       "      <td>NaN</td>\n",
       "      <td>...</td>\n",
       "      <td>NaN</td>\n",
       "      <td>0</td>\n",
       "      <td>NaN</td>\n",
       "      <td>NaN</td>\n",
       "      <td>NaN</td>\n",
       "      <td>NaN</td>\n",
       "      <td>NaN</td>\n",
       "      <td>NaN</td>\n",
       "      <td>NaN</td>\n",
       "      <td>NaN</td>\n",
       "    </tr>\n",
       "    <tr>\n",
       "      <th>fields__oSets__oPoints__observations__enum</th>\n",
       "      <td>NaN</td>\n",
       "      <td>NaN</td>\n",
       "      <td>NaN</td>\n",
       "      <td>NaN</td>\n",
       "      <td>NaN</td>\n",
       "      <td>0</td>\n",
       "      <td>NaN</td>\n",
       "      <td>NaN</td>\n",
       "      <td>NaN</td>\n",
       "      <td>NaN</td>\n",
       "      <td>...</td>\n",
       "      <td>NaN</td>\n",
       "      <td>0</td>\n",
       "      <td>NaN</td>\n",
       "      <td>NaN</td>\n",
       "      <td>NaN</td>\n",
       "      <td>NaN</td>\n",
       "      <td>NaN</td>\n",
       "      <td>NaN</td>\n",
       "      <td>NaN</td>\n",
       "      <td>NaN</td>\n",
       "    </tr>\n",
       "    <tr>\n",
       "      <th>fields__oSets__oPoints__observations__id</th>\n",
       "      <td>0</td>\n",
       "      <td>1</td>\n",
       "      <td>2</td>\n",
       "      <td>3</td>\n",
       "      <td>4</td>\n",
       "      <td>5</td>\n",
       "      <td>NaN</td>\n",
       "      <td>NaN</td>\n",
       "      <td>NaN</td>\n",
       "      <td>NaN</td>\n",
       "      <td>...</td>\n",
       "      <td>4</td>\n",
       "      <td>5</td>\n",
       "      <td>NaN</td>\n",
       "      <td>NaN</td>\n",
       "      <td>NaN</td>\n",
       "      <td>NaN</td>\n",
       "      <td>NaN</td>\n",
       "      <td>NaN</td>\n",
       "      <td>NaN</td>\n",
       "      <td>NaN</td>\n",
       "    </tr>\n",
       "    <tr>\n",
       "      <th>fields__oSets__oPoints__observations__name</th>\n",
       "      <td>Aphid Observation 1</td>\n",
       "      <td>Aphid Observation 2</td>\n",
       "      <td>Aphid Observation 3</td>\n",
       "      <td>Aphid Observation 4</td>\n",
       "      <td>Aphid Observation 5</td>\n",
       "      <td>Natural Enemy Observation</td>\n",
       "      <td>NaN</td>\n",
       "      <td>NaN</td>\n",
       "      <td>NaN</td>\n",
       "      <td>NaN</td>\n",
       "      <td>...</td>\n",
       "      <td>Aphid Observation 25</td>\n",
       "      <td>Natural Enemy Observation</td>\n",
       "      <td>NaN</td>\n",
       "      <td>NaN</td>\n",
       "      <td>NaN</td>\n",
       "      <td>NaN</td>\n",
       "      <td>NaN</td>\n",
       "      <td>NaN</td>\n",
       "      <td>NaN</td>\n",
       "      <td>NaN</td>\n",
       "    </tr>\n",
       "    <tr>\n",
       "      <th>fields__oSets__oPoints__observations__|</th>\n",
       "      <td>NaN</td>\n",
       "      <td>NaN</td>\n",
       "      <td>NaN</td>\n",
       "      <td>NaN</td>\n",
       "      <td>NaN</td>\n",
       "      <td>e1</td>\n",
       "      <td>e2</td>\n",
       "      <td>e3</td>\n",
       "      <td>e4</td>\n",
       "      <td>e5</td>\n",
       "      <td>...</td>\n",
       "      <td>NaN</td>\n",
       "      <td>e1</td>\n",
       "      <td>e2</td>\n",
       "      <td>e3</td>\n",
       "      <td>e4</td>\n",
       "      <td>e5</td>\n",
       "      <td>e6</td>\n",
       "      <td>e7</td>\n",
       "      <td>e8</td>\n",
       "      <td>e9</td>\n",
       "    </tr>\n",
       "    <tr>\n",
       "      <th>fields__oSets__oPoints__observations__|__number</th>\n",
       "      <td>NaN</td>\n",
       "      <td>NaN</td>\n",
       "      <td>NaN</td>\n",
       "      <td>NaN</td>\n",
       "      <td>NaN</td>\n",
       "      <td>NaN</td>\n",
       "      <td>NaN</td>\n",
       "      <td>NaN</td>\n",
       "      <td>NaN</td>\n",
       "      <td>NaN</td>\n",
       "      <td>...</td>\n",
       "      <td>NaN</td>\n",
       "      <td>NaN</td>\n",
       "      <td>NaN</td>\n",
       "      <td>NaN</td>\n",
       "      <td>NaN</td>\n",
       "      <td>NaN</td>\n",
       "      <td>NaN</td>\n",
       "      <td>NaN</td>\n",
       "      <td>NaN</td>\n",
       "      <td>NaN</td>\n",
       "    </tr>\n",
       "  </tbody>\n",
       "</table>\n",
       "<p>9 rows × 4690 columns</p>\n",
       "</div>"
      ],
      "text/plain": [
       "Worksheet Name                                                   Erl  \\\n",
       "Worksheet Row                                                   0      \n",
       "fields__oSets__oPoints__observations__anum                         0   \n",
       "fields__oSets__oPoints__observations__complete                   NaN   \n",
       "fields__oSets__oPoints__observations__disabled                   NaN   \n",
       "fields__oSets__oPoints__observations__eVnum                      NaN   \n",
       "fields__oSets__oPoints__observations__enum                       NaN   \n",
       "fields__oSets__oPoints__observations__id                           0   \n",
       "fields__oSets__oPoints__observations__name       Aphid Observation 1   \n",
       "fields__oSets__oPoints__observations__|                          NaN   \n",
       "fields__oSets__oPoints__observations__|__number                  NaN   \n",
       "\n",
       "Worksheet Name                                                        \\\n",
       "Worksheet Row                                                   1      \n",
       "fields__oSets__oPoints__observations__anum                         0   \n",
       "fields__oSets__oPoints__observations__complete                   NaN   \n",
       "fields__oSets__oPoints__observations__disabled                   NaN   \n",
       "fields__oSets__oPoints__observations__eVnum                      NaN   \n",
       "fields__oSets__oPoints__observations__enum                       NaN   \n",
       "fields__oSets__oPoints__observations__id                           1   \n",
       "fields__oSets__oPoints__observations__name       Aphid Observation 2   \n",
       "fields__oSets__oPoints__observations__|                          NaN   \n",
       "fields__oSets__oPoints__observations__|__number                  NaN   \n",
       "\n",
       "Worksheet Name                                                        \\\n",
       "Worksheet Row                                                   2      \n",
       "fields__oSets__oPoints__observations__anum                         0   \n",
       "fields__oSets__oPoints__observations__complete                   NaN   \n",
       "fields__oSets__oPoints__observations__disabled                   NaN   \n",
       "fields__oSets__oPoints__observations__eVnum                      NaN   \n",
       "fields__oSets__oPoints__observations__enum                       NaN   \n",
       "fields__oSets__oPoints__observations__id                           2   \n",
       "fields__oSets__oPoints__observations__name       Aphid Observation 3   \n",
       "fields__oSets__oPoints__observations__|                          NaN   \n",
       "fields__oSets__oPoints__observations__|__number                  NaN   \n",
       "\n",
       "Worksheet Name                                                        \\\n",
       "Worksheet Row                                                   3      \n",
       "fields__oSets__oPoints__observations__anum                         0   \n",
       "fields__oSets__oPoints__observations__complete                   NaN   \n",
       "fields__oSets__oPoints__observations__disabled                   NaN   \n",
       "fields__oSets__oPoints__observations__eVnum                      NaN   \n",
       "fields__oSets__oPoints__observations__enum                       NaN   \n",
       "fields__oSets__oPoints__observations__id                           3   \n",
       "fields__oSets__oPoints__observations__name       Aphid Observation 4   \n",
       "fields__oSets__oPoints__observations__|                          NaN   \n",
       "fields__oSets__oPoints__observations__|__number                  NaN   \n",
       "\n",
       "Worksheet Name                                                        \\\n",
       "Worksheet Row                                                   4      \n",
       "fields__oSets__oPoints__observations__anum                         0   \n",
       "fields__oSets__oPoints__observations__complete                   NaN   \n",
       "fields__oSets__oPoints__observations__disabled                   NaN   \n",
       "fields__oSets__oPoints__observations__eVnum                      NaN   \n",
       "fields__oSets__oPoints__observations__enum                       NaN   \n",
       "fields__oSets__oPoints__observations__id                           4   \n",
       "fields__oSets__oPoints__observations__name       Aphid Observation 5   \n",
       "fields__oSets__oPoints__observations__|                          NaN   \n",
       "fields__oSets__oPoints__observations__|__number                  NaN   \n",
       "\n",
       "Worksheet Name                                                              \\\n",
       "Worksheet Row                                                         5      \n",
       "fields__oSets__oPoints__observations__anum                             NaN   \n",
       "fields__oSets__oPoints__observations__complete                           1   \n",
       "fields__oSets__oPoints__observations__disabled                         NaN   \n",
       "fields__oSets__oPoints__observations__eVnum                              0   \n",
       "fields__oSets__oPoints__observations__enum                               0   \n",
       "fields__oSets__oPoints__observations__id                                 5   \n",
       "fields__oSets__oPoints__observations__name       Natural Enemy Observation   \n",
       "fields__oSets__oPoints__observations__|                                 e1   \n",
       "fields__oSets__oPoints__observations__|__number                        NaN   \n",
       "\n",
       "Worksheet Name                                                      ...   \\\n",
       "Worksheet Row                                   6    7    8    9    ...    \n",
       "fields__oSets__oPoints__observations__anum       NaN  NaN  NaN  NaN ...    \n",
       "fields__oSets__oPoints__observations__complete   NaN  NaN  NaN  NaN ...    \n",
       "fields__oSets__oPoints__observations__disabled   NaN  NaN  NaN  NaN ...    \n",
       "fields__oSets__oPoints__observations__eVnum      NaN  NaN  NaN  NaN ...    \n",
       "fields__oSets__oPoints__observations__enum       NaN  NaN  NaN  NaN ...    \n",
       "fields__oSets__oPoints__observations__id         NaN  NaN  NaN  NaN ...    \n",
       "fields__oSets__oPoints__observations__name       NaN  NaN  NaN  NaN ...    \n",
       "fields__oSets__oPoints__observations__|           e2   e3   e4   e5 ...    \n",
       "fields__oSets__oPoints__observations__|__number  NaN  NaN  NaN  NaN ...    \n",
       "\n",
       "Worksheet Name                                                  Tyler  \\\n",
       "Worksheet Row                                                    3770   \n",
       "fields__oSets__oPoints__observations__anum                          0   \n",
       "fields__oSets__oPoints__observations__complete                      1   \n",
       "fields__oSets__oPoints__observations__disabled                    NaN   \n",
       "fields__oSets__oPoints__observations__eVnum                       NaN   \n",
       "fields__oSets__oPoints__observations__enum                        NaN   \n",
       "fields__oSets__oPoints__observations__id                            4   \n",
       "fields__oSets__oPoints__observations__name       Aphid Observation 25   \n",
       "fields__oSets__oPoints__observations__|                           NaN   \n",
       "fields__oSets__oPoints__observations__|__number                   NaN   \n",
       "\n",
       "Worksheet Name                                                              \\\n",
       "Worksheet Row                                                         3771   \n",
       "fields__oSets__oPoints__observations__anum                             NaN   \n",
       "fields__oSets__oPoints__observations__complete                           1   \n",
       "fields__oSets__oPoints__observations__disabled                         NaN   \n",
       "fields__oSets__oPoints__observations__eVnum                              0   \n",
       "fields__oSets__oPoints__observations__enum                               0   \n",
       "fields__oSets__oPoints__observations__id                                 5   \n",
       "fields__oSets__oPoints__observations__name       Natural Enemy Observation   \n",
       "fields__oSets__oPoints__observations__|                                 e1   \n",
       "fields__oSets__oPoints__observations__|__number                        NaN   \n",
       "\n",
       "Worksheet Name                                                                 \\\n",
       "Worksheet Row                                   3772 3773 3774 3775 3776 3777   \n",
       "fields__oSets__oPoints__observations__anum       NaN  NaN  NaN  NaN  NaN  NaN   \n",
       "fields__oSets__oPoints__observations__complete   NaN  NaN  NaN  NaN  NaN  NaN   \n",
       "fields__oSets__oPoints__observations__disabled   NaN  NaN  NaN  NaN  NaN  NaN   \n",
       "fields__oSets__oPoints__observations__eVnum      NaN  NaN  NaN  NaN  NaN  NaN   \n",
       "fields__oSets__oPoints__observations__enum       NaN  NaN  NaN  NaN  NaN  NaN   \n",
       "fields__oSets__oPoints__observations__id         NaN  NaN  NaN  NaN  NaN  NaN   \n",
       "fields__oSets__oPoints__observations__name       NaN  NaN  NaN  NaN  NaN  NaN   \n",
       "fields__oSets__oPoints__observations__|           e2   e3   e4   e5   e6   e7   \n",
       "fields__oSets__oPoints__observations__|__number  NaN  NaN  NaN  NaN  NaN  NaN   \n",
       "\n",
       "Worksheet Name                                             \n",
       "Worksheet Row                                   3778 3779  \n",
       "fields__oSets__oPoints__observations__anum       NaN  NaN  \n",
       "fields__oSets__oPoints__observations__complete   NaN  NaN  \n",
       "fields__oSets__oPoints__observations__disabled   NaN  NaN  \n",
       "fields__oSets__oPoints__observations__eVnum      NaN  NaN  \n",
       "fields__oSets__oPoints__observations__enum       NaN  NaN  \n",
       "fields__oSets__oPoints__observations__id         NaN  NaN  \n",
       "fields__oSets__oPoints__observations__name       NaN  NaN  \n",
       "fields__oSets__oPoints__observations__|           e8   e9  \n",
       "fields__oSets__oPoints__observations__|__number  NaN  NaN  \n",
       "\n",
       "[9 rows x 4690 columns]"
      ]
     },
     "execution_count": 160,
     "metadata": {},
     "output_type": "execute_result"
    }
   ],
   "source": [
    "pandas.DataFrame(\n",
    "    get_child_column_data(observations_node) + \n",
    "    get_child_column_data(observations_ext_node)\n",
    ")"
   ]
  },
  {
   "cell_type": "markdown",
   "metadata": {
    "hidden": true
   },
   "source": [
    "Now you can easily get a list of columns or column names and access them from the `DataFrame`. You can make things even more intuitive by making a function for returning a `DataFrame`, so you don't have to re-compose the expression each time."
   ]
  },
  {
   "cell_type": "markdown",
   "metadata": {
    "hidden": true
   },
   "source": [
    "#### Define Function: `get_child_frame(node, frame=None)`"
   ]
  },
  {
   "cell_type": "markdown",
   "metadata": {
    "hidden": true
   },
   "source": [
    "With the list of columns, or column names, it's easy to get a `DataFrame` with only the desired columns:"
   ]
  },
  {
   "cell_type": "markdown",
   "metadata": {
    "hidden": true
   },
   "source": [
    "If the `DataFrame` is supplied, the columns are selected from it by name.\n",
    "\n",
    "If no frame is provided, the function makes a new one from the columns found in the tree."
   ]
  },
  {
   "cell_type": "code",
   "execution_count": 161,
   "metadata": {
    "hidden": true,
    "init_cell": true
   },
   "outputs": [],
   "source": [
    "def get_child_frame(node: dict, frame: pandas.DataFrame = None) -> pandas.DataFrame:\n",
    "    if frame is not None:\n",
    "        return frame[get_child_column_names(node)]\n",
    "    return pandas.DataFrame(data=get_child_column_data(node)).T"
   ]
  },
  {
   "cell_type": "markdown",
   "metadata": {
    "hidden": true
   },
   "source": [
    "#### Define Functions: `get_descendant_frame(node, frame=None)`"
   ]
  },
  {
   "cell_type": "markdown",
   "metadata": {
    "hidden": true
   },
   "source": [
    "This one is similar to `get_child_frame(node, frame=None)`, except the order of the columns in preserved (if `frame` is provided for reference)."
   ]
  },
  {
   "cell_type": "code",
   "execution_count": 162,
   "metadata": {
    "hidden": true
   },
   "outputs": [],
   "source": [
    "def get_descendant_frame(node, frame=None):\n",
    "    \"\"\" Get all columns that are descendants of the given node. If `frame` is provided,\n",
    "    use it for lookup by name instead of the actual Series in the tree. \"\"\"\n",
    "    descendant_column_data = recursive_get_column_data(node)\n",
    "    if frame is None:\n",
    "        return pandas.DataFrame(data=list(descendant_column_data)).T\n",
    "    else:\n",
    "        return frame[[column.name for column in descendant_column_data]]\n",
    "\n"
   ]
  },
  {
   "cell_type": "markdown",
   "metadata": {
    "hidden": true
   },
   "source": [
    "Now, all columns at all levels of a group can be accessed in a frame on demand."
   ]
  },
  {
   "cell_type": "code",
   "execution_count": 163,
   "metadata": {
    "hidden": true
   },
   "outputs": [
    {
     "name": "stdout",
     "output_type": "stream",
     "text": [
      "<class 'pandas.core.frame.DataFrame'>\n",
      "MultiIndex: 4690 entries, (Erl, 0) to (Tyler, 3779)\n",
      "Data columns (total 12 columns):\n",
      "fields__oSets__oPoints__observations__a1__number    448 non-null float64\n",
      "fields__oSets__oPoints__observations__a2__number    142 non-null float64\n",
      "fields__oSets__oPoints__observations__a3__number    25 non-null float64\n",
      "fields__oSets__oPoints__observations__anum          1675 non-null float64\n",
      "fields__oSets__oPoints__observations__complete      1937 non-null float64\n",
      "fields__oSets__oPoints__observations__disabled      0 non-null float64\n",
      "fields__oSets__oPoints__observations__eVnum         335 non-null float64\n",
      "fields__oSets__oPoints__observations__enum          335 non-null float64\n",
      "fields__oSets__oPoints__observations__id            2010 non-null float64\n",
      "fields__oSets__oPoints__observations__name          2010 non-null object\n",
      "fields__oSets__oPoints__observations__|             3015 non-null object\n",
      "fields__oSets__oPoints__observations__|__number     172 non-null float64\n",
      "dtypes: float64(10), object(2)\n",
      "memory usage: 643.2+ KB\n"
     ]
    }
   ],
   "source": [
    "get_descendant_frame(observations_node, data).info()"
   ]
  },
  {
   "cell_type": "markdown",
   "metadata": {
    "hidden": true
   },
   "source": [
    "### Find Rows in a Section"
   ]
  },
  {
   "cell_type": "markdown",
   "metadata": {
    "hidden": true
   },
   "source": [
    "When detecting boundaries of sections for a given group of columns, it's helpful to drop empty rows and retain only relevant data for relating to the sub-section data."
   ]
  },
  {
   "cell_type": "markdown",
   "metadata": {
    "hidden": true
   },
   "source": [
    "#### Drop Missing Values from a Series"
   ]
  },
  {
   "cell_type": "markdown",
   "metadata": {
    "hidden": true
   },
   "source": [
    "We can begin by choosing a column that always has a value at the start of a section.\n",
    "\n",
    "If we want to skip over blanks as we scan down a column, _pandas_ has a [`dropna()`] method for that.\n",
    "\n",
    "Even if we filter out some values from that column, such as missing values, the row number will still be attached to the value in that series.\n",
    "\n",
    "[`dropna()`]: https://pandas.pydata.org/pandas-docs/stable/generated/pandas.DataFrame.dropna.html"
   ]
  },
  {
   "cell_type": "markdown",
   "metadata": {
    "hidden": true
   },
   "source": [
    "##### Before:"
   ]
  },
  {
   "cell_type": "code",
   "execution_count": 164,
   "metadata": {
    "hidden": true
   },
   "outputs": [
    {
     "data": {
      "text/plain": [
       "Worksheet Name  Worksheet Row\n",
       "Erl             0                2017-08-02T13:12:09.542\n",
       "                1                                    NaN\n",
       "                2                                    NaN\n",
       "                3                                    NaN\n",
       "                4                                    NaN\n",
       "                5                                    NaN\n",
       "                6                                    NaN\n",
       "                7                                    NaN\n",
       "                8                                    NaN\n",
       "                9                                    NaN\n",
       "                10                                   NaN\n",
       "                11                                   NaN\n",
       "Name: fields__oSets__date, dtype: object"
      ]
     },
     "execution_count": 164,
     "metadata": {},
     "output_type": "execute_result"
    }
   ],
   "source": [
    "sets_node['date'][DATA].head(12)"
   ]
  },
  {
   "cell_type": "markdown",
   "metadata": {
    "hidden": true
   },
   "source": [
    "##### After:"
   ]
  },
  {
   "cell_type": "code",
   "execution_count": 165,
   "metadata": {
    "ExecuteTime": {
     "end_time": "2018-04-17T19:35:14.247306Z",
     "start_time": "2018-04-17T19:35:14.231426Z"
    },
    "hidden": true
   },
   "outputs": [
    {
     "data": {
      "text/plain": [
       "Worksheet Name  Worksheet Row\n",
       "Erl             0                2017-08-02T13:12:09.542\n",
       "                70               2017-08-09T09:25:11.710\n",
       "                140              2017-08-09T10:06:25.480\n",
       "                210              2017-08-09T11:21:01.555\n",
       "                350              2017-08-09T11:37:20.862\n",
       "                490              2017-08-22T15:42:05.751\n",
       "                560              2017-08-17T11:12:02.820\n",
       "                700              2017-08-17T13:06:30.183\n",
       "                840              2017-08-22T16:02:50.682\n",
       "Tyler           0                2017-07-14T12:31:24.194\n",
       "                70               2017-07-18T10:31:22.263\n",
       "                140              2017-07-28T13:05:44.673\n",
       "Name: fields__oSets__date, dtype: object"
      ]
     },
     "execution_count": 165,
     "metadata": {},
     "output_type": "execute_result"
    }
   ],
   "source": [
    "sets_node['date'][DATA].dropna().head(12)"
   ]
  },
  {
   "cell_type": "markdown",
   "metadata": {
    "hidden": true
   },
   "source": [
    "So much better!"
   ]
  },
  {
   "cell_type": "markdown",
   "metadata": {
    "hidden": true
   },
   "source": [
    "We now have enough information to find the beginning of chunks in the sheet by scanning for non-blank cells. We have row numbers for each of the non-null records of that column, which we can use to identify the end of the previous section and start of the next."
   ]
  },
  {
   "cell_type": "markdown",
   "metadata": {
    "hidden": true
   },
   "source": [
    "#### Filter Rows by Condition"
   ]
  },
  {
   "cell_type": "markdown",
   "metadata": {
    "hidden": true
   },
   "source": [
    "We filtered a single column with `dropna()`, but what about when we're operating on some columns that _may_ be null, plus certain ones that _must not_ be null? We need a way of skipping irrelevant rows, without checking all possible columns.\n",
    "\n",
    "_pandas_ has a way to filter entire rows conditionally, which is sometimes called [boolean indexing] because the expression for the condition is either `True` or `False`. Common examples include testing whether the value in a certain column drops below a certain threshold. In our case, we'd test whether the value in a certain column is missing or present.\n",
    "\n",
    "\n",
    "[boolean indexing]: https://pandas.pydata.org/pandas-docs/stable/10min.html#boolean-indexing"
   ]
  },
  {
   "cell_type": "markdown",
   "metadata": {
    "hidden": true
   },
   "source": [
    "Let's take `fields__oSets` for example."
   ]
  },
  {
   "cell_type": "code",
   "execution_count": 166,
   "metadata": {
    "hidden": true
   },
   "outputs": [],
   "source": [
    "# sets_node = columns['fields']['oSets']\n",
    "sets = get_child_frame(sets_node, data)"
   ]
  },
  {
   "cell_type": "markdown",
   "metadata": {
    "hidden": true
   },
   "source": [
    "We want to use the `date` column as the crucial record, because it should never be null. (Other values in the relevant columns _may_ be null, but _must be included_ when reading anyways.)"
   ]
  },
  {
   "cell_type": "markdown",
   "metadata": {
    "hidden": true
   },
   "source": [
    "In this case, _pandas_ expects the actual [`Series`] itself, rather than just the name of the column to check. (A _pandas_ [`DataFrame`] is a collection of [`Series`] objects.)\n",
    "\n",
    "We already have that column data object in the hierarchy from earlier:\n",
    "\n",
    "[`Series`]: https://pandas.pydata.org/pandas-docs/stable/generated/pandas.Series.html\n",
    "[`DataFrame`]: https://pandas.pydata.org/pandas-docs/stable/generated/pandas.DataFrame.html"
   ]
  },
  {
   "cell_type": "code",
   "execution_count": 167,
   "metadata": {
    "ExecuteTime": {
     "end_time": "2018-04-17T19:35:26.382873Z",
     "start_time": "2018-04-17T19:35:26.372908Z"
    },
    "hidden": true
   },
   "outputs": [
    {
     "data": {
      "text/plain": [
       "pandas.core.series.Series"
      ]
     },
     "execution_count": 167,
     "metadata": {},
     "output_type": "execute_result"
    }
   ],
   "source": [
    "date_column = sets_node['date'][DATA]\n",
    "type(date_column)"
   ]
  },
  {
   "cell_type": "markdown",
   "metadata": {
    "hidden": true
   },
   "source": [
    "##### Before:"
   ]
  },
  {
   "cell_type": "code",
   "execution_count": 168,
   "metadata": {
    "ExecuteTime": {
     "end_time": "2018-04-17T19:35:27.379493Z",
     "start_time": "2018-04-17T19:35:27.308786Z"
    },
    "hidden": true,
    "scrolled": false
   },
   "outputs": [
    {
     "data": {
      "text/html": [
       "<div>\n",
       "<style scoped>\n",
       "    .dataframe tbody tr th:only-of-type {\n",
       "        vertical-align: middle;\n",
       "    }\n",
       "\n",
       "    .dataframe tbody tr th {\n",
       "        vertical-align: top;\n",
       "    }\n",
       "\n",
       "    .dataframe thead th {\n",
       "        text-align: right;\n",
       "    }\n",
       "</style>\n",
       "<table border=\"1\" class=\"dataframe\">\n",
       "  <thead>\n",
       "    <tr style=\"text-align: right;\">\n",
       "      <th></th>\n",
       "      <th></th>\n",
       "      <th>fields__oSets__completeSets</th>\n",
       "      <th>fields__oSets__date</th>\n",
       "      <th>fields__oSets__dateCompare</th>\n",
       "      <th>fields__oSets__desc</th>\n",
       "      <th>fields__oSets__growthStage</th>\n",
       "      <th>fields__oSets__obsName</th>\n",
       "      <th>fields__oSets__results</th>\n",
       "      <th>fields__oSets__totalA1</th>\n",
       "      <th>fields__oSets__totalA2</th>\n",
       "      <th>fields__oSets__totalA3</th>\n",
       "      <th>fields__oSets__totalA4</th>\n",
       "      <th>fields__oSets__totalSets</th>\n",
       "    </tr>\n",
       "    <tr>\n",
       "      <th>Worksheet Name</th>\n",
       "      <th>Worksheet Row</th>\n",
       "      <th></th>\n",
       "      <th></th>\n",
       "      <th></th>\n",
       "      <th></th>\n",
       "      <th></th>\n",
       "      <th></th>\n",
       "      <th></th>\n",
       "      <th></th>\n",
       "      <th></th>\n",
       "      <th></th>\n",
       "      <th></th>\n",
       "      <th></th>\n",
       "    </tr>\n",
       "  </thead>\n",
       "  <tbody>\n",
       "    <tr>\n",
       "      <th rowspan=\"12\" valign=\"top\">Erl</th>\n",
       "      <th>0</th>\n",
       "      <td>0.0</td>\n",
       "      <td>2017-08-02T13:12:09.542</td>\n",
       "      <td>2017-08-02</td>\n",
       "      <td>NaN</td>\n",
       "      <td>7.0</td>\n",
       "      <td>Tyler</td>\n",
       "      <td>NaN</td>\n",
       "      <td>NaN</td>\n",
       "      <td>NaN</td>\n",
       "      <td>NaN</td>\n",
       "      <td>NaN</td>\n",
       "      <td>1.0</td>\n",
       "    </tr>\n",
       "    <tr>\n",
       "      <th>1</th>\n",
       "      <td>NaN</td>\n",
       "      <td>NaN</td>\n",
       "      <td>NaT</td>\n",
       "      <td>NaN</td>\n",
       "      <td>NaN</td>\n",
       "      <td>NaN</td>\n",
       "      <td>NaN</td>\n",
       "      <td>NaN</td>\n",
       "      <td>NaN</td>\n",
       "      <td>NaN</td>\n",
       "      <td>NaN</td>\n",
       "      <td>NaN</td>\n",
       "    </tr>\n",
       "    <tr>\n",
       "      <th>2</th>\n",
       "      <td>NaN</td>\n",
       "      <td>NaN</td>\n",
       "      <td>NaT</td>\n",
       "      <td>NaN</td>\n",
       "      <td>NaN</td>\n",
       "      <td>NaN</td>\n",
       "      <td>NaN</td>\n",
       "      <td>NaN</td>\n",
       "      <td>NaN</td>\n",
       "      <td>NaN</td>\n",
       "      <td>NaN</td>\n",
       "      <td>NaN</td>\n",
       "    </tr>\n",
       "    <tr>\n",
       "      <th>3</th>\n",
       "      <td>NaN</td>\n",
       "      <td>NaN</td>\n",
       "      <td>NaT</td>\n",
       "      <td>NaN</td>\n",
       "      <td>NaN</td>\n",
       "      <td>NaN</td>\n",
       "      <td>NaN</td>\n",
       "      <td>NaN</td>\n",
       "      <td>NaN</td>\n",
       "      <td>NaN</td>\n",
       "      <td>NaN</td>\n",
       "      <td>NaN</td>\n",
       "    </tr>\n",
       "    <tr>\n",
       "      <th>4</th>\n",
       "      <td>NaN</td>\n",
       "      <td>NaN</td>\n",
       "      <td>NaT</td>\n",
       "      <td>NaN</td>\n",
       "      <td>NaN</td>\n",
       "      <td>NaN</td>\n",
       "      <td>NaN</td>\n",
       "      <td>NaN</td>\n",
       "      <td>NaN</td>\n",
       "      <td>NaN</td>\n",
       "      <td>NaN</td>\n",
       "      <td>NaN</td>\n",
       "    </tr>\n",
       "    <tr>\n",
       "      <th>5</th>\n",
       "      <td>NaN</td>\n",
       "      <td>NaN</td>\n",
       "      <td>NaT</td>\n",
       "      <td>NaN</td>\n",
       "      <td>NaN</td>\n",
       "      <td>NaN</td>\n",
       "      <td>NaN</td>\n",
       "      <td>NaN</td>\n",
       "      <td>NaN</td>\n",
       "      <td>NaN</td>\n",
       "      <td>NaN</td>\n",
       "      <td>NaN</td>\n",
       "    </tr>\n",
       "    <tr>\n",
       "      <th>6</th>\n",
       "      <td>NaN</td>\n",
       "      <td>NaN</td>\n",
       "      <td>NaT</td>\n",
       "      <td>NaN</td>\n",
       "      <td>NaN</td>\n",
       "      <td>NaN</td>\n",
       "      <td>NaN</td>\n",
       "      <td>NaN</td>\n",
       "      <td>NaN</td>\n",
       "      <td>NaN</td>\n",
       "      <td>NaN</td>\n",
       "      <td>NaN</td>\n",
       "    </tr>\n",
       "    <tr>\n",
       "      <th>7</th>\n",
       "      <td>NaN</td>\n",
       "      <td>NaN</td>\n",
       "      <td>NaT</td>\n",
       "      <td>NaN</td>\n",
       "      <td>NaN</td>\n",
       "      <td>NaN</td>\n",
       "      <td>NaN</td>\n",
       "      <td>NaN</td>\n",
       "      <td>NaN</td>\n",
       "      <td>NaN</td>\n",
       "      <td>NaN</td>\n",
       "      <td>NaN</td>\n",
       "    </tr>\n",
       "    <tr>\n",
       "      <th>8</th>\n",
       "      <td>NaN</td>\n",
       "      <td>NaN</td>\n",
       "      <td>NaT</td>\n",
       "      <td>NaN</td>\n",
       "      <td>NaN</td>\n",
       "      <td>NaN</td>\n",
       "      <td>NaN</td>\n",
       "      <td>NaN</td>\n",
       "      <td>NaN</td>\n",
       "      <td>NaN</td>\n",
       "      <td>NaN</td>\n",
       "      <td>NaN</td>\n",
       "    </tr>\n",
       "    <tr>\n",
       "      <th>9</th>\n",
       "      <td>NaN</td>\n",
       "      <td>NaN</td>\n",
       "      <td>NaT</td>\n",
       "      <td>NaN</td>\n",
       "      <td>NaN</td>\n",
       "      <td>NaN</td>\n",
       "      <td>NaN</td>\n",
       "      <td>NaN</td>\n",
       "      <td>NaN</td>\n",
       "      <td>NaN</td>\n",
       "      <td>NaN</td>\n",
       "      <td>NaN</td>\n",
       "    </tr>\n",
       "    <tr>\n",
       "      <th>10</th>\n",
       "      <td>NaN</td>\n",
       "      <td>NaN</td>\n",
       "      <td>NaT</td>\n",
       "      <td>NaN</td>\n",
       "      <td>NaN</td>\n",
       "      <td>NaN</td>\n",
       "      <td>NaN</td>\n",
       "      <td>NaN</td>\n",
       "      <td>NaN</td>\n",
       "      <td>NaN</td>\n",
       "      <td>NaN</td>\n",
       "      <td>NaN</td>\n",
       "    </tr>\n",
       "    <tr>\n",
       "      <th>11</th>\n",
       "      <td>NaN</td>\n",
       "      <td>NaN</td>\n",
       "      <td>NaT</td>\n",
       "      <td>NaN</td>\n",
       "      <td>NaN</td>\n",
       "      <td>NaN</td>\n",
       "      <td>NaN</td>\n",
       "      <td>NaN</td>\n",
       "      <td>NaN</td>\n",
       "      <td>NaN</td>\n",
       "      <td>NaN</td>\n",
       "      <td>NaN</td>\n",
       "    </tr>\n",
       "  </tbody>\n",
       "</table>\n",
       "</div>"
      ],
      "text/plain": [
       "                              fields__oSets__completeSets  \\\n",
       "Worksheet Name Worksheet Row                                \n",
       "Erl            0                                      0.0   \n",
       "               1                                      NaN   \n",
       "               2                                      NaN   \n",
       "               3                                      NaN   \n",
       "               4                                      NaN   \n",
       "               5                                      NaN   \n",
       "               6                                      NaN   \n",
       "               7                                      NaN   \n",
       "               8                                      NaN   \n",
       "               9                                      NaN   \n",
       "               10                                     NaN   \n",
       "               11                                     NaN   \n",
       "\n",
       "                                  fields__oSets__date  \\\n",
       "Worksheet Name Worksheet Row                            \n",
       "Erl            0              2017-08-02T13:12:09.542   \n",
       "               1                                  NaN   \n",
       "               2                                  NaN   \n",
       "               3                                  NaN   \n",
       "               4                                  NaN   \n",
       "               5                                  NaN   \n",
       "               6                                  NaN   \n",
       "               7                                  NaN   \n",
       "               8                                  NaN   \n",
       "               9                                  NaN   \n",
       "               10                                 NaN   \n",
       "               11                                 NaN   \n",
       "\n",
       "                             fields__oSets__dateCompare  fields__oSets__desc  \\\n",
       "Worksheet Name Worksheet Row                                                   \n",
       "Erl            0                             2017-08-02                  NaN   \n",
       "               1                                    NaT                  NaN   \n",
       "               2                                    NaT                  NaN   \n",
       "               3                                    NaT                  NaN   \n",
       "               4                                    NaT                  NaN   \n",
       "               5                                    NaT                  NaN   \n",
       "               6                                    NaT                  NaN   \n",
       "               7                                    NaT                  NaN   \n",
       "               8                                    NaT                  NaN   \n",
       "               9                                    NaT                  NaN   \n",
       "               10                                   NaT                  NaN   \n",
       "               11                                   NaT                  NaN   \n",
       "\n",
       "                              fields__oSets__growthStage  \\\n",
       "Worksheet Name Worksheet Row                               \n",
       "Erl            0                                     7.0   \n",
       "               1                                     NaN   \n",
       "               2                                     NaN   \n",
       "               3                                     NaN   \n",
       "               4                                     NaN   \n",
       "               5                                     NaN   \n",
       "               6                                     NaN   \n",
       "               7                                     NaN   \n",
       "               8                                     NaN   \n",
       "               9                                     NaN   \n",
       "               10                                    NaN   \n",
       "               11                                    NaN   \n",
       "\n",
       "                             fields__oSets__obsName fields__oSets__results  \\\n",
       "Worksheet Name Worksheet Row                                                 \n",
       "Erl            0                              Tyler                    NaN   \n",
       "               1                                NaN                    NaN   \n",
       "               2                                NaN                    NaN   \n",
       "               3                                NaN                    NaN   \n",
       "               4                                NaN                    NaN   \n",
       "               5                                NaN                    NaN   \n",
       "               6                                NaN                    NaN   \n",
       "               7                                NaN                    NaN   \n",
       "               8                                NaN                    NaN   \n",
       "               9                                NaN                    NaN   \n",
       "               10                               NaN                    NaN   \n",
       "               11                               NaN                    NaN   \n",
       "\n",
       "                              fields__oSets__totalA1  fields__oSets__totalA2  \\\n",
       "Worksheet Name Worksheet Row                                                   \n",
       "Erl            0                                 NaN                     NaN   \n",
       "               1                                 NaN                     NaN   \n",
       "               2                                 NaN                     NaN   \n",
       "               3                                 NaN                     NaN   \n",
       "               4                                 NaN                     NaN   \n",
       "               5                                 NaN                     NaN   \n",
       "               6                                 NaN                     NaN   \n",
       "               7                                 NaN                     NaN   \n",
       "               8                                 NaN                     NaN   \n",
       "               9                                 NaN                     NaN   \n",
       "               10                                NaN                     NaN   \n",
       "               11                                NaN                     NaN   \n",
       "\n",
       "                              fields__oSets__totalA3  fields__oSets__totalA4  \\\n",
       "Worksheet Name Worksheet Row                                                   \n",
       "Erl            0                                 NaN                     NaN   \n",
       "               1                                 NaN                     NaN   \n",
       "               2                                 NaN                     NaN   \n",
       "               3                                 NaN                     NaN   \n",
       "               4                                 NaN                     NaN   \n",
       "               5                                 NaN                     NaN   \n",
       "               6                                 NaN                     NaN   \n",
       "               7                                 NaN                     NaN   \n",
       "               8                                 NaN                     NaN   \n",
       "               9                                 NaN                     NaN   \n",
       "               10                                NaN                     NaN   \n",
       "               11                                NaN                     NaN   \n",
       "\n",
       "                              fields__oSets__totalSets  \n",
       "Worksheet Name Worksheet Row                            \n",
       "Erl            0                                   1.0  \n",
       "               1                                   NaN  \n",
       "               2                                   NaN  \n",
       "               3                                   NaN  \n",
       "               4                                   NaN  \n",
       "               5                                   NaN  \n",
       "               6                                   NaN  \n",
       "               7                                   NaN  \n",
       "               8                                   NaN  \n",
       "               9                                   NaN  \n",
       "               10                                  NaN  \n",
       "               11                                  NaN  "
      ]
     },
     "execution_count": 168,
     "metadata": {},
     "output_type": "execute_result"
    }
   ],
   "source": [
    "sets.head(12)"
   ]
  },
  {
   "cell_type": "markdown",
   "metadata": {
    "hidden": true
   },
   "source": [
    "Passing a check for whether the value in the Series [is not null] to _pandas_, as well as specifying the column names we want to get:\n",
    "\n",
    "[is not null]: https://pandas.pydata.org/pandas-docs/stable/generated/pandas.Series.notna.html"
   ]
  },
  {
   "cell_type": "markdown",
   "metadata": {
    "hidden": true
   },
   "source": [
    "##### After:"
   ]
  },
  {
   "cell_type": "code",
   "execution_count": 169,
   "metadata": {
    "hidden": true
   },
   "outputs": [
    {
     "data": {
      "text/html": [
       "<div>\n",
       "<style scoped>\n",
       "    .dataframe tbody tr th:only-of-type {\n",
       "        vertical-align: middle;\n",
       "    }\n",
       "\n",
       "    .dataframe tbody tr th {\n",
       "        vertical-align: top;\n",
       "    }\n",
       "\n",
       "    .dataframe thead th {\n",
       "        text-align: right;\n",
       "    }\n",
       "</style>\n",
       "<table border=\"1\" class=\"dataframe\">\n",
       "  <thead>\n",
       "    <tr style=\"text-align: right;\">\n",
       "      <th></th>\n",
       "      <th></th>\n",
       "      <th>fields__oSets__completeSets</th>\n",
       "      <th>fields__oSets__date</th>\n",
       "      <th>fields__oSets__dateCompare</th>\n",
       "      <th>fields__oSets__desc</th>\n",
       "      <th>fields__oSets__growthStage</th>\n",
       "      <th>fields__oSets__obsName</th>\n",
       "      <th>fields__oSets__results</th>\n",
       "      <th>fields__oSets__totalA1</th>\n",
       "      <th>fields__oSets__totalA2</th>\n",
       "      <th>fields__oSets__totalA3</th>\n",
       "      <th>fields__oSets__totalA4</th>\n",
       "      <th>fields__oSets__totalSets</th>\n",
       "    </tr>\n",
       "    <tr>\n",
       "      <th>Worksheet Name</th>\n",
       "      <th>Worksheet Row</th>\n",
       "      <th></th>\n",
       "      <th></th>\n",
       "      <th></th>\n",
       "      <th></th>\n",
       "      <th></th>\n",
       "      <th></th>\n",
       "      <th></th>\n",
       "      <th></th>\n",
       "      <th></th>\n",
       "      <th></th>\n",
       "      <th></th>\n",
       "      <th></th>\n",
       "    </tr>\n",
       "  </thead>\n",
       "  <tbody>\n",
       "    <tr>\n",
       "      <th rowspan=\"9\" valign=\"top\">Erl</th>\n",
       "      <th>0</th>\n",
       "      <td>0.0</td>\n",
       "      <td>2017-08-02T13:12:09.542</td>\n",
       "      <td>2017-08-02</td>\n",
       "      <td>NaN</td>\n",
       "      <td>7.0</td>\n",
       "      <td>Tyler</td>\n",
       "      <td>NaN</td>\n",
       "      <td>NaN</td>\n",
       "      <td>NaN</td>\n",
       "      <td>NaN</td>\n",
       "      <td>NaN</td>\n",
       "      <td>1.0</td>\n",
       "    </tr>\n",
       "    <tr>\n",
       "      <th>70</th>\n",
       "      <td>1.0</td>\n",
       "      <td>2017-08-09T09:25:11.710</td>\n",
       "      <td>2017-08-09</td>\n",
       "      <td>NaN</td>\n",
       "      <td>8.0</td>\n",
       "      <td>Tyler</td>\n",
       "      <td>RESULTS.5</td>\n",
       "      <td>164.0</td>\n",
       "      <td>0.0</td>\n",
       "      <td>0.0</td>\n",
       "      <td>0.0</td>\n",
       "      <td>1.0</td>\n",
       "    </tr>\n",
       "    <tr>\n",
       "      <th>140</th>\n",
       "      <td>1.0</td>\n",
       "      <td>2017-08-09T10:06:25.480</td>\n",
       "      <td>2017-08-09</td>\n",
       "      <td>NaN</td>\n",
       "      <td>7.0</td>\n",
       "      <td>Tyler</td>\n",
       "      <td>RESULTS.5</td>\n",
       "      <td>66.0</td>\n",
       "      <td>0.0</td>\n",
       "      <td>0.0</td>\n",
       "      <td>0.0</td>\n",
       "      <td>1.0</td>\n",
       "    </tr>\n",
       "    <tr>\n",
       "      <th>210</th>\n",
       "      <td>2.0</td>\n",
       "      <td>2017-08-09T11:21:01.555</td>\n",
       "      <td>2017-08-09</td>\n",
       "      <td>NaN</td>\n",
       "      <td>9.0</td>\n",
       "      <td>Stean</td>\n",
       "      <td>RESULTS.1</td>\n",
       "      <td>0.0</td>\n",
       "      <td>0.0</td>\n",
       "      <td>0.0</td>\n",
       "      <td>0.0</td>\n",
       "      <td>2.0</td>\n",
       "    </tr>\n",
       "    <tr>\n",
       "      <th>350</th>\n",
       "      <td>2.0</td>\n",
       "      <td>2017-08-09T11:37:20.862</td>\n",
       "      <td>2017-08-09</td>\n",
       "      <td>NaN</td>\n",
       "      <td>8.0</td>\n",
       "      <td>Stean</td>\n",
       "      <td>RESULTS.1</td>\n",
       "      <td>5.0</td>\n",
       "      <td>5.0</td>\n",
       "      <td>0.0</td>\n",
       "      <td>0.0</td>\n",
       "      <td>2.0</td>\n",
       "    </tr>\n",
       "    <tr>\n",
       "      <th>490</th>\n",
       "      <td>1.0</td>\n",
       "      <td>2017-08-22T15:42:05.751</td>\n",
       "      <td>2017-08-22</td>\n",
       "      <td>NaN</td>\n",
       "      <td>8.0</td>\n",
       "      <td>Mikki</td>\n",
       "      <td>RESULTS.5</td>\n",
       "      <td>1.0</td>\n",
       "      <td>0.0</td>\n",
       "      <td>0.0</td>\n",
       "      <td>0.0</td>\n",
       "      <td>1.0</td>\n",
       "    </tr>\n",
       "    <tr>\n",
       "      <th>560</th>\n",
       "      <td>2.0</td>\n",
       "      <td>2017-08-17T11:12:02.820</td>\n",
       "      <td>2017-08-17</td>\n",
       "      <td>NaN</td>\n",
       "      <td>8.0</td>\n",
       "      <td>Gabrielle</td>\n",
       "      <td>RESULTS.1</td>\n",
       "      <td>169.0</td>\n",
       "      <td>96.0</td>\n",
       "      <td>0.0</td>\n",
       "      <td>0.0</td>\n",
       "      <td>2.0</td>\n",
       "    </tr>\n",
       "    <tr>\n",
       "      <th>700</th>\n",
       "      <td>2.0</td>\n",
       "      <td>2017-08-17T13:06:30.183</td>\n",
       "      <td>2017-08-17</td>\n",
       "      <td>NaN</td>\n",
       "      <td>9.0</td>\n",
       "      <td>Stean</td>\n",
       "      <td>RESULTS.1</td>\n",
       "      <td>78.0</td>\n",
       "      <td>102.0</td>\n",
       "      <td>0.0</td>\n",
       "      <td>0.0</td>\n",
       "      <td>2.0</td>\n",
       "    </tr>\n",
       "    <tr>\n",
       "      <th>840</th>\n",
       "      <td>1.0</td>\n",
       "      <td>2017-08-22T16:02:50.682</td>\n",
       "      <td>2017-08-22</td>\n",
       "      <td>NaN</td>\n",
       "      <td>8.0</td>\n",
       "      <td>Mikki</td>\n",
       "      <td>RESULTS.5</td>\n",
       "      <td>187.0</td>\n",
       "      <td>0.0</td>\n",
       "      <td>0.0</td>\n",
       "      <td>0.0</td>\n",
       "      <td>1.0</td>\n",
       "    </tr>\n",
       "    <tr>\n",
       "      <th rowspan=\"3\" valign=\"top\">Tyler</th>\n",
       "      <th>0</th>\n",
       "      <td>0.0</td>\n",
       "      <td>2017-07-14T12:31:24.194</td>\n",
       "      <td>2017-07-14</td>\n",
       "      <td>NaN</td>\n",
       "      <td>6.0</td>\n",
       "      <td>Tyler</td>\n",
       "      <td>NaN</td>\n",
       "      <td>NaN</td>\n",
       "      <td>NaN</td>\n",
       "      <td>NaN</td>\n",
       "      <td>NaN</td>\n",
       "      <td>1.0</td>\n",
       "    </tr>\n",
       "    <tr>\n",
       "      <th>70</th>\n",
       "      <td>1.0</td>\n",
       "      <td>2017-07-18T10:31:22.263</td>\n",
       "      <td>2017-07-18</td>\n",
       "      <td>NaN</td>\n",
       "      <td>6.0</td>\n",
       "      <td>Tyler</td>\n",
       "      <td>RESULTS.5</td>\n",
       "      <td>8.0</td>\n",
       "      <td>0.0</td>\n",
       "      <td>0.0</td>\n",
       "      <td>0.0</td>\n",
       "      <td>1.0</td>\n",
       "    </tr>\n",
       "    <tr>\n",
       "      <th>140</th>\n",
       "      <td>1.0</td>\n",
       "      <td>2017-07-28T13:05:44.673</td>\n",
       "      <td>2017-07-28</td>\n",
       "      <td>NaN</td>\n",
       "      <td>8.0</td>\n",
       "      <td>Mikki</td>\n",
       "      <td>RESULTS.5</td>\n",
       "      <td>37.0</td>\n",
       "      <td>0.0</td>\n",
       "      <td>0.0</td>\n",
       "      <td>0.0</td>\n",
       "      <td>1.0</td>\n",
       "    </tr>\n",
       "  </tbody>\n",
       "</table>\n",
       "</div>"
      ],
      "text/plain": [
       "                              fields__oSets__completeSets  \\\n",
       "Worksheet Name Worksheet Row                                \n",
       "Erl            0                                      0.0   \n",
       "               70                                     1.0   \n",
       "               140                                    1.0   \n",
       "               210                                    2.0   \n",
       "               350                                    2.0   \n",
       "               490                                    1.0   \n",
       "               560                                    2.0   \n",
       "               700                                    2.0   \n",
       "               840                                    1.0   \n",
       "Tyler          0                                      0.0   \n",
       "               70                                     1.0   \n",
       "               140                                    1.0   \n",
       "\n",
       "                                  fields__oSets__date  \\\n",
       "Worksheet Name Worksheet Row                            \n",
       "Erl            0              2017-08-02T13:12:09.542   \n",
       "               70             2017-08-09T09:25:11.710   \n",
       "               140            2017-08-09T10:06:25.480   \n",
       "               210            2017-08-09T11:21:01.555   \n",
       "               350            2017-08-09T11:37:20.862   \n",
       "               490            2017-08-22T15:42:05.751   \n",
       "               560            2017-08-17T11:12:02.820   \n",
       "               700            2017-08-17T13:06:30.183   \n",
       "               840            2017-08-22T16:02:50.682   \n",
       "Tyler          0              2017-07-14T12:31:24.194   \n",
       "               70             2017-07-18T10:31:22.263   \n",
       "               140            2017-07-28T13:05:44.673   \n",
       "\n",
       "                             fields__oSets__dateCompare  fields__oSets__desc  \\\n",
       "Worksheet Name Worksheet Row                                                   \n",
       "Erl            0                             2017-08-02                  NaN   \n",
       "               70                            2017-08-09                  NaN   \n",
       "               140                           2017-08-09                  NaN   \n",
       "               210                           2017-08-09                  NaN   \n",
       "               350                           2017-08-09                  NaN   \n",
       "               490                           2017-08-22                  NaN   \n",
       "               560                           2017-08-17                  NaN   \n",
       "               700                           2017-08-17                  NaN   \n",
       "               840                           2017-08-22                  NaN   \n",
       "Tyler          0                             2017-07-14                  NaN   \n",
       "               70                            2017-07-18                  NaN   \n",
       "               140                           2017-07-28                  NaN   \n",
       "\n",
       "                              fields__oSets__growthStage  \\\n",
       "Worksheet Name Worksheet Row                               \n",
       "Erl            0                                     7.0   \n",
       "               70                                    8.0   \n",
       "               140                                   7.0   \n",
       "               210                                   9.0   \n",
       "               350                                   8.0   \n",
       "               490                                   8.0   \n",
       "               560                                   8.0   \n",
       "               700                                   9.0   \n",
       "               840                                   8.0   \n",
       "Tyler          0                                     6.0   \n",
       "               70                                    6.0   \n",
       "               140                                   8.0   \n",
       "\n",
       "                             fields__oSets__obsName fields__oSets__results  \\\n",
       "Worksheet Name Worksheet Row                                                 \n",
       "Erl            0                              Tyler                    NaN   \n",
       "               70                             Tyler              RESULTS.5   \n",
       "               140                            Tyler              RESULTS.5   \n",
       "               210                            Stean              RESULTS.1   \n",
       "               350                            Stean              RESULTS.1   \n",
       "               490                            Mikki              RESULTS.5   \n",
       "               560                        Gabrielle              RESULTS.1   \n",
       "               700                            Stean              RESULTS.1   \n",
       "               840                            Mikki              RESULTS.5   \n",
       "Tyler          0                              Tyler                    NaN   \n",
       "               70                             Tyler              RESULTS.5   \n",
       "               140                            Mikki              RESULTS.5   \n",
       "\n",
       "                              fields__oSets__totalA1  fields__oSets__totalA2  \\\n",
       "Worksheet Name Worksheet Row                                                   \n",
       "Erl            0                                 NaN                     NaN   \n",
       "               70                              164.0                     0.0   \n",
       "               140                              66.0                     0.0   \n",
       "               210                               0.0                     0.0   \n",
       "               350                               5.0                     5.0   \n",
       "               490                               1.0                     0.0   \n",
       "               560                             169.0                    96.0   \n",
       "               700                              78.0                   102.0   \n",
       "               840                             187.0                     0.0   \n",
       "Tyler          0                                 NaN                     NaN   \n",
       "               70                                8.0                     0.0   \n",
       "               140                              37.0                     0.0   \n",
       "\n",
       "                              fields__oSets__totalA3  fields__oSets__totalA4  \\\n",
       "Worksheet Name Worksheet Row                                                   \n",
       "Erl            0                                 NaN                     NaN   \n",
       "               70                                0.0                     0.0   \n",
       "               140                               0.0                     0.0   \n",
       "               210                               0.0                     0.0   \n",
       "               350                               0.0                     0.0   \n",
       "               490                               0.0                     0.0   \n",
       "               560                               0.0                     0.0   \n",
       "               700                               0.0                     0.0   \n",
       "               840                               0.0                     0.0   \n",
       "Tyler          0                                 NaN                     NaN   \n",
       "               70                                0.0                     0.0   \n",
       "               140                               0.0                     0.0   \n",
       "\n",
       "                              fields__oSets__totalSets  \n",
       "Worksheet Name Worksheet Row                            \n",
       "Erl            0                                   1.0  \n",
       "               70                                  1.0  \n",
       "               140                                 1.0  \n",
       "               210                                 2.0  \n",
       "               350                                 2.0  \n",
       "               490                                 1.0  \n",
       "               560                                 2.0  \n",
       "               700                                 2.0  \n",
       "               840                                 1.0  \n",
       "Tyler          0                                   1.0  \n",
       "               70                                  1.0  \n",
       "               140                                 1.0  "
      ]
     },
     "execution_count": 169,
     "metadata": {},
     "output_type": "execute_result"
    }
   ],
   "source": [
    "sets = sets[date_column.notnull()]\n",
    "sets.head(12)"
   ]
  },
  {
   "cell_type": "markdown",
   "metadata": {
    "hidden": true
   },
   "source": [
    "Now, we can repeat this technique to get all the other data sections!"
   ]
  },
  {
   "cell_type": "code",
   "execution_count": 170,
   "metadata": {
    "hidden": true
   },
   "outputs": [],
   "source": [
    "crop = fields_node['crop'][DATA]"
   ]
  },
  {
   "cell_type": "code",
   "execution_count": 171,
   "metadata": {
    "hidden": true
   },
   "outputs": [],
   "source": [
    "fields_frame = get_child_frame(fields_node, data)[crop.notnull()]"
   ]
  },
  {
   "cell_type": "code",
   "execution_count": 172,
   "metadata": {
    "hidden": true
   },
   "outputs": [
    {
     "data": {
      "text/html": [
       "<div>\n",
       "<style scoped>\n",
       "    .dataframe tbody tr th:only-of-type {\n",
       "        vertical-align: middle;\n",
       "    }\n",
       "\n",
       "    .dataframe tbody tr th {\n",
       "        vertical-align: top;\n",
       "    }\n",
       "\n",
       "    .dataframe thead th {\n",
       "        text-align: right;\n",
       "    }\n",
       "</style>\n",
       "<table border=\"1\" class=\"dataframe\">\n",
       "  <thead>\n",
       "    <tr style=\"text-align: right;\">\n",
       "      <th></th>\n",
       "      <th></th>\n",
       "      <th>fields__crop</th>\n",
       "      <th>fields__date</th>\n",
       "      <th>fields__desc</th>\n",
       "      <th>fields__image</th>\n",
       "      <th>fields__name</th>\n",
       "    </tr>\n",
       "    <tr>\n",
       "      <th>Worksheet Name</th>\n",
       "      <th>Worksheet Row</th>\n",
       "      <th></th>\n",
       "      <th></th>\n",
       "      <th></th>\n",
       "      <th></th>\n",
       "      <th></th>\n",
       "    </tr>\n",
       "  </thead>\n",
       "  <tbody>\n",
       "    <tr>\n",
       "      <th rowspan=\"8\" valign=\"top\">Erl</th>\n",
       "      <th>70</th>\n",
       "      <td>CROPS.WHEAT</td>\n",
       "      <td>2017-08-09T09:24:11.845</td>\n",
       "      <td>Midge susceptible wheat. Awned.</td>\n",
       "      <td>img/wheat.png</td>\n",
       "      <td>Llewellyn wheat 1</td>\n",
       "    </tr>\n",
       "    <tr>\n",
       "      <th>140</th>\n",
       "      <td>CROPS.WHEAT</td>\n",
       "      <td>2017-08-09T10:01:29.326</td>\n",
       "      <td>Early planted awned midge susceptible</td>\n",
       "      <td>img/wheat.png</td>\n",
       "      <td>Llewellyn</td>\n",
       "    </tr>\n",
       "    <tr>\n",
       "      <th>210</th>\n",
       "      <td>CROPS.BARLEY</td>\n",
       "      <td>2017-08-09T11:16:15.922</td>\n",
       "      <td>Next to SEF Wheat and near faba beans</td>\n",
       "      <td>img/barley.png</td>\n",
       "      <td>SEF Barley</td>\n",
       "    </tr>\n",
       "    <tr>\n",
       "      <th>350</th>\n",
       "      <td>CROPS.OATS</td>\n",
       "      <td>2017-08-09T11:17:15.791</td>\n",
       "      <td>Next to SEF peas and a wheat field</td>\n",
       "      <td>img/oats.png</td>\n",
       "      <td>SEF Oats</td>\n",
       "    </tr>\n",
       "    <tr>\n",
       "      <th>490</th>\n",
       "      <td>CROPS.WHEAT</td>\n",
       "      <td>2017-08-10T14:27:04.887</td>\n",
       "      <td>Kernen cover crop</td>\n",
       "      <td>img/wheat.png</td>\n",
       "      <td>Kernen wheat</td>\n",
       "    </tr>\n",
       "    <tr>\n",
       "      <th>560</th>\n",
       "      <td>CROPS.WHEAT</td>\n",
       "      <td>2017-08-17T11:10:41.881</td>\n",
       "      <td>Wheat 2 by canola and soybeans but on other si...</td>\n",
       "      <td>img/wheat.png</td>\n",
       "      <td>Outlook wheat</td>\n",
       "    </tr>\n",
       "    <tr>\n",
       "      <th>700</th>\n",
       "      <td>CROPS.WHEAT</td>\n",
       "      <td>2017-08-17T13:05:51.122</td>\n",
       "      <td>Next to soybeans and canola</td>\n",
       "      <td>img/wheat.png</td>\n",
       "      <td>Outlook wheat 1</td>\n",
       "    </tr>\n",
       "    <tr>\n",
       "      <th>840</th>\n",
       "      <td>CROPS.WHEAT</td>\n",
       "      <td>2017-08-22T16:01:41.018</td>\n",
       "      <td>NaN</td>\n",
       "      <td>img/wheat.png</td>\n",
       "      <td>Kernan Wheat-1</td>\n",
       "    </tr>\n",
       "    <tr>\n",
       "      <th rowspan=\"2\" valign=\"top\">Tyler</th>\n",
       "      <th>0</th>\n",
       "      <td>CROPS.WHEAT</td>\n",
       "      <td>2017-07-14T12:30:31.587</td>\n",
       "      <td>NaN</td>\n",
       "      <td>img/wheat.png</td>\n",
       "      <td>Sef wheat</td>\n",
       "    </tr>\n",
       "    <tr>\n",
       "      <th>350</th>\n",
       "      <td>CROPS.BARLEY</td>\n",
       "      <td>2017-07-18T10:46:49.163</td>\n",
       "      <td>Right next to SEF wheat</td>\n",
       "      <td>img/barley.png</td>\n",
       "      <td>SEF Barley</td>\n",
       "    </tr>\n",
       "  </tbody>\n",
       "</table>\n",
       "</div>"
      ],
      "text/plain": [
       "                              fields__crop             fields__date  \\\n",
       "Worksheet Name Worksheet Row                                          \n",
       "Erl            70              CROPS.WHEAT  2017-08-09T09:24:11.845   \n",
       "               140             CROPS.WHEAT  2017-08-09T10:01:29.326   \n",
       "               210            CROPS.BARLEY  2017-08-09T11:16:15.922   \n",
       "               350              CROPS.OATS  2017-08-09T11:17:15.791   \n",
       "               490             CROPS.WHEAT  2017-08-10T14:27:04.887   \n",
       "               560             CROPS.WHEAT  2017-08-17T11:10:41.881   \n",
       "               700             CROPS.WHEAT  2017-08-17T13:05:51.122   \n",
       "               840             CROPS.WHEAT  2017-08-22T16:01:41.018   \n",
       "Tyler          0               CROPS.WHEAT  2017-07-14T12:30:31.587   \n",
       "               350            CROPS.BARLEY  2017-07-18T10:46:49.163   \n",
       "\n",
       "                                                                   fields__desc  \\\n",
       "Worksheet Name Worksheet Row                                                      \n",
       "Erl            70                               Midge susceptible wheat. Awned.   \n",
       "               140                        Early planted awned midge susceptible   \n",
       "               210                       Next to SEF Wheat and near faba beans    \n",
       "               350                           Next to SEF peas and a wheat field   \n",
       "               490                                            Kernen cover crop   \n",
       "               560            Wheat 2 by canola and soybeans but on other si...   \n",
       "               700                                  Next to soybeans and canola   \n",
       "               840                                                          NaN   \n",
       "Tyler          0                                                            NaN   \n",
       "               350                                      Right next to SEF wheat   \n",
       "\n",
       "                               fields__image       fields__name  \n",
       "Worksheet Name Worksheet Row                                     \n",
       "Erl            70              img/wheat.png  Llewellyn wheat 1  \n",
       "               140             img/wheat.png          Llewellyn  \n",
       "               210            img/barley.png         SEF Barley  \n",
       "               350              img/oats.png           SEF Oats  \n",
       "               490             img/wheat.png       Kernen wheat  \n",
       "               560             img/wheat.png      Outlook wheat  \n",
       "               700             img/wheat.png    Outlook wheat 1  \n",
       "               840             img/wheat.png     Kernan Wheat-1  \n",
       "Tyler          0               img/wheat.png          Sef wheat  \n",
       "               350            img/barley.png        SEF Barley   "
      ]
     },
     "execution_count": 172,
     "metadata": {},
     "output_type": "execute_result"
    }
   ],
   "source": [
    "fields_frame.head(10)"
   ]
  },
  {
   "cell_type": "markdown",
   "metadata": {},
   "source": [
    "## Goal: Transform Data for Target"
   ]
  },
  {
   "cell_type": "markdown",
   "metadata": {},
   "source": [
    "### Overview of Transformation Steps"
   ]
  },
  {
   "cell_type": "markdown",
   "metadata": {},
   "source": [
    "As we go from top to bottom of the `DataFrame`, we:\n",
    "\n",
    "0. Identify the beginning rows of the sections\n",
    "0. Begin at the first section\n",
    "0. Read in the current section data\n",
    "0. Continue on to the subsections\n",
    "0. Continue to the next section in the DataFrame\n",
    "\n",
    "While reading each section:\n",
    "\n",
    "0. Start a new `DataFrame`\n",
    "0. Transform section data to meet target requirements\n",
    "0. Keep transformed section data in `DataFrame`\n",
    "\n",
    "After transforming all the data:\n",
    "\n",
    "0. Save the new `DataFrame` as Excel file"
   ]
  },
  {
   "cell_type": "markdown",
   "metadata": {},
   "source": [
    "### Define the Target Requirements"
   ]
  },
  {
   "cell_type": "markdown",
   "metadata": {},
   "source": [
    "The researcher who will use this data, Tyler, wants an Excel spreadsheet file.\n",
    "\n",
    "Tyler has been using a column arrangement like this in the past, and envisions similar output from this data set:\n",
    "\n",
    "- Site\n",
    "- Crop\n",
    "- Date\n",
    "- Field\n",
    "- Zadoks_stage\n",
    "- Tiller\n",
    "- EGA_total\n",
    "- BCO_total\n",
    "- aphids_total\n",
    "- Enemies_total\n",
    "- aphid_mummies_brown\n",
    "- aphid_mummies_blk\n",
    "- ladybeetle_larvae\n",
    "- ladybeetle_adult\n",
    "- ladybeetle_total\n",
    "- lacewing_larvae\n",
    "- lacewing_adult\n",
    "- other\n",
    "- comments"
   ]
  },
  {
   "cell_type": "markdown",
   "metadata": {},
   "source": [
    "I've looked at a few other spreadsheets, and talked with Tyler about how the output is used. Our discussion makes a few more specifics apparent.\n",
    "\n",
    "- date & time\n",
    "  - human readable, with month name (calculated)\n",
    "  - precise date & time, for machine sorting\n",
    "- location\n",
    "  - site or field name\n",
    "  - any descriptive comments, such as location details within the main field on site\n",
    "  - unique identifier (calculated)\n",
    "- observed data\n",
    "  - number of ahpids of each type\n",
    "  - number of natural enemies of each type\n",
    "  - names of aphids and natural enemies (augmented)\n",
    "- observation metadata\n",
    "  - technique, eg: sweep, tiller count, other\n",
    "  - technique parameters, eg: distance from edge, number of repetitions, location co-ordinates"
   ]
  },
  {
   "cell_type": "markdown",
   "metadata": {},
   "source": [
    "### Analyze Section Structure"
   ]
  },
  {
   "cell_type": "markdown",
   "metadata": {},
   "source": [
    "To understand what transformations may be necessary, we should take a look at each section and subsection in terms of what data is there and how it's laid out."
   ]
  },
  {
   "cell_type": "markdown",
   "metadata": {},
   "source": [
    "For each section, I'd like to open with a summary. \n",
    "\n",
    "If any of these exist, let's see:\n",
    "\n",
    "- Description of the data series at this level\n",
    "- Names of all related data series grouped here, one level deep\n",
    "- Names of all subsections that go deeper than one level"
   ]
  },
  {
   "cell_type": "markdown",
   "metadata": {},
   "source": [
    "Whenever the data in the source `DataFrame` needs transformation to meet the target's needs, the appropriate steps will be demonstrated."
   ]
  },
  {
   "cell_type": "markdown",
   "metadata": {},
   "source": [
    "#### Define Function: `summarize_node(node)`"
   ]
  },
  {
   "cell_type": "markdown",
   "metadata": {},
   "source": [
    "Rather than repeating the same commands for each section, let's make a function that does all that, so we can just call it once for each section."
   ]
  },
  {
   "cell_type": "code",
   "execution_count": 173,
   "metadata": {
    "ExecuteTime": {
     "end_time": "2018-04-17T19:35:32.181002Z",
     "start_time": "2018-04-17T19:35:32.156504Z"
    },
    "init_cell": true
   },
   "outputs": [],
   "source": [
    "def summarize_node(node):\n",
    "    grandchildren = get_grandchild_nodes(node)\n",
    "    if grandchildren:\n",
    "        visualize_tree(node, show_leaf_nodes=False)\n",
    "\n",
    "    child_data = get_child_data_nodes(node)\n",
    "    if child_data:\n",
    "        display(heading(\"Child Series\"),\n",
    "                pandas.DataFrame(get_child_column_data(node)).T.describe().T)\n",
    "\n",
    "    if grandchildren:\n",
    "        subsection_summary = pandas.DataFrame(\n",
    "            index=pandas.Index(data=grandchildren.keys()),\n",
    "            data={\"columns\": [\n",
    "                len(get_descendant_frame(subsection).columns) \n",
    "                for subsection in grandchildren.values()]}\n",
    "        )\n",
    "        display(heading(\"Subsections\"),\n",
    "                subsection_summary)\n",
    "        \n",
    "    if has_data(node):\n",
    "        display(heading(\"Series\"),\n",
    "            node[DATA].describe().to_frame().T)"
   ]
  },
  {
   "cell_type": "markdown",
   "metadata": {},
   "source": [
    "#### Analytical Results"
   ]
  },
  {
   "cell_type": "markdown",
   "metadata": {},
   "source": [
    "The results of analyzing all sections in the file are in the [Appendix: Source App Data Structure].\n",
    "\n",
    "[Appendix: Source App Data Structure]: #Appendix:-Source-App-Data-Structure"
   ]
  },
  {
   "cell_type": "markdown",
   "metadata": {},
   "source": [
    "After examining each section, we now know:\n",
    "\n",
    "- Some data, such as the natural enemy counts, may require transposition, since they use columns and rows in opposite ways.\n",
    "- Some data needs to be augmented with external lists, such as the names of the aphids and natural enemies.\n",
    "- Some columns don't exist, and must be calculated.\n",
    "- Some data needs to be reformatted.\n",
    "- Some columns may be entirely unneeded."
   ]
  },
  {
   "cell_type": "markdown",
   "metadata": {},
   "source": [
    "### Transformations"
   ]
  },
  {
   "cell_type": "markdown",
   "metadata": {},
   "source": [
    "#### Proposed Transformations & Augmentations"
   ]
  },
  {
   "cell_type": "markdown",
   "metadata": {},
   "source": [
    "- natural enemies:\n",
    "    - should be transposed to columns\n",
    "    - should be renamed with proper specimen names\n",
    "- aphids:\n",
    "    - should be renamed with proper specimen names"
   ]
  },
  {
   "cell_type": "markdown",
   "metadata": {},
   "source": [
    "#### Proposed Calculations"
   ]
  },
  {
   "cell_type": "markdown",
   "metadata": {},
   "source": [
    "- observation sets:\n",
    "    - should display name of the month\n",
    "    - should display the date, without time\n",
    "    - should display time, without date\n",
    "    - should display unique, sortable date number (your number concatenated with day of year, or days since 2014)\n",
    "    - should display week number\n",
    "    - should display unique location identifier combining client/site, field, field description\n",
    "    - should mention that these observations are based on tiller counts"
   ]
  },
  {
   "cell_type": "markdown",
   "metadata": {},
   "source": [
    "# Appendix: Source App Data Structure"
   ]
  },
  {
   "cell_type": "code",
   "execution_count": 175,
   "metadata": {},
   "outputs": [
    {
     "name": "stdout",
     "output_type": "stream",
     "text": [
      "clients/\n",
      ".   * company\n",
      ".   * displayText\n",
      ".   * fname\n",
      ".   * lname\n",
      ".   * name\n",
      "fields/\n",
      ".   client/\n",
      ".   .   * company\n",
      ".   .   * displayText\n",
      ".   .   * fname\n",
      ".   .   * lname\n",
      ".   .   * name\n",
      ".   * crop\n",
      ".   * date\n",
      ".   * desc\n",
      ".   * image\n",
      ".   * name\n",
      ".   oSets/\n",
      ".   .   * completeSets\n",
      ".   .   * date\n",
      ".   .   * dateCompare\n",
      ".   .   * desc\n",
      ".   .   * growthStage\n",
      ".   .   oPoints/\n",
      ".   .   .   * id\n",
      ".   .   .   location/\n",
      ".   .   .   .   coords/\n",
      ".   .   .   .   .   * accuracy\n",
      ".   .   .   .   .   * altitude\n",
      ".   .   .   .   .   * altitudeAccuracy\n",
      ".   .   .   .   .   * heading\n",
      ".   .   .   .   .   * latitude\n",
      ".   .   .   .   .   * longitude\n",
      ".   .   .   .   .   * speed\n",
      ".   .   .   .   * timestamp\n",
      ".   .   .   * name\n",
      ".   .   .   observations/\n",
      ".   .   .   .   a1/\n",
      ".   .   .   .   .   * number\n",
      ".   .   .   .   a2/\n",
      ".   .   .   .   .   * number\n",
      ".   .   .   .   a3/\n",
      ".   .   .   .   .   * number\n",
      ".   .   .   .   * anum\n",
      ".   .   .   .   * complete\n",
      ".   .   .   .   * disabled\n",
      ".   .   .   .   * eVnum\n",
      ".   .   .   .   * enum\n",
      ".   .   .   .   * id\n",
      ".   .   .   .   * name\n",
      ".   .   .   .   * |/\n",
      ".   .   .   .   .   * number\n",
      ".   .   * obsName\n",
      ".   .   * results\n",
      ".   .   * totalA1\n",
      ".   .   * totalA2\n",
      ".   .   * totalA3\n",
      ".   .   * totalA4\n",
      ".   .   * totalSets\n",
      "* observers\n"
     ]
    }
   ],
   "source": [
    "visualize_tree(columns)"
   ]
  },
  {
   "cell_type": "markdown",
   "metadata": {},
   "source": [
    "## Section: `fields`"
   ]
  },
  {
   "cell_type": "code",
   "execution_count": 176,
   "metadata": {
    "ExecuteTime": {
     "end_time": "2018-04-17T19:35:36.822383Z",
     "start_time": "2018-04-17T19:35:36.777679Z"
    },
    "init_cell": true,
    "scrolled": false
   },
   "outputs": [
    {
     "name": "stdout",
     "output_type": "stream",
     "text": [
      "client/\n",
      "oSets/\n",
      ".   oPoints/\n",
      ".   .   location/\n",
      ".   .   .   coords/\n",
      ".   .   observations/\n",
      ".   .   .   a1/\n",
      ".   .   .   a2/\n",
      ".   .   .   a3/\n",
      ".   .   .   * |/\n"
     ]
    },
    {
     "data": {
      "text/html": [
       "<h5>Child Series</h5>"
      ],
      "text/plain": [
       "<IPython.core.display.HTML object>"
      ]
     },
     "metadata": {},
     "output_type": "display_data"
    },
    {
     "data": {
      "text/html": [
       "<div>\n",
       "<style scoped>\n",
       "    .dataframe tbody tr th:only-of-type {\n",
       "        vertical-align: middle;\n",
       "    }\n",
       "\n",
       "    .dataframe tbody tr th {\n",
       "        vertical-align: top;\n",
       "    }\n",
       "\n",
       "    .dataframe thead th {\n",
       "        text-align: right;\n",
       "    }\n",
       "</style>\n",
       "<table border=\"1\" class=\"dataframe\">\n",
       "  <thead>\n",
       "    <tr style=\"text-align: right;\">\n",
       "      <th></th>\n",
       "      <th>count</th>\n",
       "      <th>unique</th>\n",
       "      <th>top</th>\n",
       "      <th>freq</th>\n",
       "    </tr>\n",
       "  </thead>\n",
       "  <tbody>\n",
       "    <tr>\n",
       "      <th>fields__crop</th>\n",
       "      <td>21</td>\n",
       "      <td>3</td>\n",
       "      <td>CROPS.WHEAT</td>\n",
       "      <td>15</td>\n",
       "    </tr>\n",
       "    <tr>\n",
       "      <th>fields__date</th>\n",
       "      <td>21</td>\n",
       "      <td>21</td>\n",
       "      <td>2017-07-19T10:21:45.036</td>\n",
       "      <td>1</td>\n",
       "    </tr>\n",
       "    <tr>\n",
       "      <th>fields__desc</th>\n",
       "      <td>15</td>\n",
       "      <td>15</td>\n",
       "      <td>Next to soybeans and canola</td>\n",
       "      <td>1</td>\n",
       "    </tr>\n",
       "    <tr>\n",
       "      <th>fields__image</th>\n",
       "      <td>21</td>\n",
       "      <td>3</td>\n",
       "      <td>img/wheat.png</td>\n",
       "      <td>15</td>\n",
       "    </tr>\n",
       "    <tr>\n",
       "      <th>fields__name</th>\n",
       "      <td>21</td>\n",
       "      <td>19</td>\n",
       "      <td>SEF Oats</td>\n",
       "      <td>2</td>\n",
       "    </tr>\n",
       "  </tbody>\n",
       "</table>\n",
       "</div>"
      ],
      "text/plain": [
       "              count unique                          top freq\n",
       "fields__crop     21      3                  CROPS.WHEAT   15\n",
       "fields__date     21     21      2017-07-19T10:21:45.036    1\n",
       "fields__desc     15     15  Next to soybeans and canola    1\n",
       "fields__image    21      3                img/wheat.png   15\n",
       "fields__name     21     19                     SEF Oats    2"
      ]
     },
     "metadata": {},
     "output_type": "display_data"
    },
    {
     "data": {
      "text/html": [
       "<h5>Subsections</h5>"
      ],
      "text/plain": [
       "<IPython.core.display.HTML object>"
      ]
     },
     "metadata": {},
     "output_type": "display_data"
    },
    {
     "data": {
      "text/html": [
       "<div>\n",
       "<style scoped>\n",
       "    .dataframe tbody tr th:only-of-type {\n",
       "        vertical-align: middle;\n",
       "    }\n",
       "\n",
       "    .dataframe tbody tr th {\n",
       "        vertical-align: top;\n",
       "    }\n",
       "\n",
       "    .dataframe thead th {\n",
       "        text-align: right;\n",
       "    }\n",
       "</style>\n",
       "<table border=\"1\" class=\"dataframe\">\n",
       "  <thead>\n",
       "    <tr style=\"text-align: right;\">\n",
       "      <th></th>\n",
       "      <th>columns</th>\n",
       "    </tr>\n",
       "  </thead>\n",
       "  <tbody>\n",
       "    <tr>\n",
       "      <th>client</th>\n",
       "      <td>5</td>\n",
       "    </tr>\n",
       "    <tr>\n",
       "      <th>oSets</th>\n",
       "      <td>34</td>\n",
       "    </tr>\n",
       "  </tbody>\n",
       "</table>\n",
       "</div>"
      ],
      "text/plain": [
       "        columns\n",
       "client        5\n",
       "oSets        34"
      ]
     },
     "metadata": {},
     "output_type": "display_data"
    }
   ],
   "source": [
    "fields_node = columns['fields']\n",
    "summarize_node(fields_node)"
   ]
  },
  {
   "cell_type": "markdown",
   "metadata": {},
   "source": [
    "### Relationship"
   ]
  },
  {
   "cell_type": "markdown",
   "metadata": {},
   "source": [
    "- `fields` group of columns includes all necessary data for all observations\n",
    "- Concepts of crop and field are tightly dependant, in a one-to-many relationship:\n",
    "  - All fields have exactly one crop.\n",
    "  - No two crops can be represented as part of the same field.\n",
    "  - If a field in real life is planted with a different crop in the future,\n",
    "    it cannot be represented as the same field with a different crop in the app.\n",
    "- `fields__date` is independant and non-ancillary:\n",
    "  - Not used—has no effect\n",
    "- No location data for field:\n",
    "  - Location data for observations can't be correlated with any field record, except implicitly."
   ]
  },
  {
   "cell_type": "markdown",
   "metadata": {
    "heading_collapsed": true
   },
   "source": [
    "### Subsection `fields` > `client`"
   ]
  },
  {
   "cell_type": "code",
   "execution_count": 177,
   "metadata": {
    "ExecuteTime": {
     "end_time": "2018-04-17T19:35:37.740787Z",
     "start_time": "2018-04-17T19:35:37.716332Z"
    },
    "hidden": true,
    "init_cell": true
   },
   "outputs": [
    {
     "data": {
      "text/html": [
       "<h5>Child Series</h5>"
      ],
      "text/plain": [
       "<IPython.core.display.HTML object>"
      ]
     },
     "metadata": {},
     "output_type": "display_data"
    },
    {
     "data": {
      "text/html": [
       "<div>\n",
       "<style scoped>\n",
       "    .dataframe tbody tr th:only-of-type {\n",
       "        vertical-align: middle;\n",
       "    }\n",
       "\n",
       "    .dataframe tbody tr th {\n",
       "        vertical-align: top;\n",
       "    }\n",
       "\n",
       "    .dataframe thead th {\n",
       "        text-align: right;\n",
       "    }\n",
       "</style>\n",
       "<table border=\"1\" class=\"dataframe\">\n",
       "  <thead>\n",
       "    <tr style=\"text-align: right;\">\n",
       "      <th></th>\n",
       "      <th>count</th>\n",
       "      <th>unique</th>\n",
       "      <th>top</th>\n",
       "      <th>freq</th>\n",
       "    </tr>\n",
       "  </thead>\n",
       "  <tbody>\n",
       "    <tr>\n",
       "      <th>fields__client__company</th>\n",
       "      <td>21</td>\n",
       "      <td>1</td>\n",
       "      <td>AAFC SRDC</td>\n",
       "      <td>21</td>\n",
       "    </tr>\n",
       "    <tr>\n",
       "      <th>fields__client__displayText</th>\n",
       "      <td>21</td>\n",
       "      <td>1</td>\n",
       "      <td>AAFC SRDC, Tyler Wist</td>\n",
       "      <td>21</td>\n",
       "    </tr>\n",
       "    <tr>\n",
       "      <th>fields__client__fname</th>\n",
       "      <td>21</td>\n",
       "      <td>1</td>\n",
       "      <td>Tyler</td>\n",
       "      <td>21</td>\n",
       "    </tr>\n",
       "    <tr>\n",
       "      <th>fields__client__lname</th>\n",
       "      <td>21</td>\n",
       "      <td>1</td>\n",
       "      <td>Wist</td>\n",
       "      <td>21</td>\n",
       "    </tr>\n",
       "    <tr>\n",
       "      <th>fields__client__name</th>\n",
       "      <td>21</td>\n",
       "      <td>1</td>\n",
       "      <td>Tyler Wist</td>\n",
       "      <td>21</td>\n",
       "    </tr>\n",
       "  </tbody>\n",
       "</table>\n",
       "</div>"
      ],
      "text/plain": [
       "                            count unique                    top freq\n",
       "fields__client__company        21      1              AAFC SRDC   21\n",
       "fields__client__displayText    21      1  AAFC SRDC, Tyler Wist   21\n",
       "fields__client__fname          21      1                  Tyler   21\n",
       "fields__client__lname          21      1                   Wist   21\n",
       "fields__client__name           21      1             Tyler Wist   21"
      ]
     },
     "metadata": {},
     "output_type": "display_data"
    }
   ],
   "source": [
    "field_client_node = fields_node['client']\n",
    "summarize_node(field_client_node)"
   ]
  },
  {
   "cell_type": "markdown",
   "metadata": {
    "hidden": true
   },
   "source": [
    "#### Relationship"
   ]
  },
  {
   "cell_type": "markdown",
   "metadata": {
    "hidden": true
   },
   "source": [
    "- Client data copied from `clients` records when `fields` record is created."
   ]
  },
  {
   "cell_type": "markdown",
   "metadata": {},
   "source": [
    "### Subsection `fields` > `oSets`"
   ]
  },
  {
   "cell_type": "code",
   "execution_count": 178,
   "metadata": {
    "ExecuteTime": {
     "end_time": "2018-04-17T19:35:38.653473Z",
     "start_time": "2018-04-17T19:35:38.593966Z"
    },
    "init_cell": true
   },
   "outputs": [
    {
     "name": "stdout",
     "output_type": "stream",
     "text": [
      "oPoints/\n",
      ".   location/\n",
      ".   .   coords/\n",
      ".   observations/\n",
      ".   .   a1/\n",
      ".   .   a2/\n",
      ".   .   a3/\n",
      ".   .   * |/\n"
     ]
    },
    {
     "data": {
      "text/html": [
       "<h5>Child Series</h5>"
      ],
      "text/plain": [
       "<IPython.core.display.HTML object>"
      ]
     },
     "metadata": {},
     "output_type": "display_data"
    },
    {
     "data": {
      "text/html": [
       "<div>\n",
       "<style scoped>\n",
       "    .dataframe tbody tr th:only-of-type {\n",
       "        vertical-align: middle;\n",
       "    }\n",
       "\n",
       "    .dataframe tbody tr th {\n",
       "        vertical-align: top;\n",
       "    }\n",
       "\n",
       "    .dataframe thead th {\n",
       "        text-align: right;\n",
       "    }\n",
       "</style>\n",
       "<table border=\"1\" class=\"dataframe\">\n",
       "  <thead>\n",
       "    <tr style=\"text-align: right;\">\n",
       "      <th></th>\n",
       "      <th>count</th>\n",
       "      <th>unique</th>\n",
       "      <th>top</th>\n",
       "      <th>freq</th>\n",
       "    </tr>\n",
       "  </thead>\n",
       "  <tbody>\n",
       "    <tr>\n",
       "      <th>fields__oSets__completeSets</th>\n",
       "      <td>54</td>\n",
       "      <td>3</td>\n",
       "      <td>1</td>\n",
       "      <td>38</td>\n",
       "    </tr>\n",
       "    <tr>\n",
       "      <th>fields__oSets__date</th>\n",
       "      <td>54</td>\n",
       "      <td>54</td>\n",
       "      <td>2017-08-01T15:27:40.174</td>\n",
       "      <td>1</td>\n",
       "    </tr>\n",
       "    <tr>\n",
       "      <th>fields__oSets__dateCompare</th>\n",
       "      <td>54</td>\n",
       "      <td>16</td>\n",
       "      <td>1501545600000000000</td>\n",
       "      <td>7</td>\n",
       "    </tr>\n",
       "    <tr>\n",
       "      <th>fields__oSets__desc</th>\n",
       "      <td>0</td>\n",
       "      <td>0</td>\n",
       "      <td>NaN</td>\n",
       "      <td>NaN</td>\n",
       "    </tr>\n",
       "    <tr>\n",
       "      <th>fields__oSets__growthStage</th>\n",
       "      <td>54</td>\n",
       "      <td>6</td>\n",
       "      <td>8</td>\n",
       "      <td>22</td>\n",
       "    </tr>\n",
       "    <tr>\n",
       "      <th>fields__oSets__obsName</th>\n",
       "      <td>54</td>\n",
       "      <td>4</td>\n",
       "      <td>Stean</td>\n",
       "      <td>28</td>\n",
       "    </tr>\n",
       "    <tr>\n",
       "      <th>fields__oSets__results</th>\n",
       "      <td>52</td>\n",
       "      <td>2</td>\n",
       "      <td>RESULTS.5</td>\n",
       "      <td>42</td>\n",
       "    </tr>\n",
       "    <tr>\n",
       "      <th>fields__oSets__totalA1</th>\n",
       "      <td>52</td>\n",
       "      <td>36</td>\n",
       "      <td>0</td>\n",
       "      <td>10</td>\n",
       "    </tr>\n",
       "    <tr>\n",
       "      <th>fields__oSets__totalA2</th>\n",
       "      <td>52</td>\n",
       "      <td>11</td>\n",
       "      <td>0</td>\n",
       "      <td>41</td>\n",
       "    </tr>\n",
       "    <tr>\n",
       "      <th>fields__oSets__totalA3</th>\n",
       "      <td>52</td>\n",
       "      <td>1</td>\n",
       "      <td>0</td>\n",
       "      <td>52</td>\n",
       "    </tr>\n",
       "    <tr>\n",
       "      <th>fields__oSets__totalA4</th>\n",
       "      <td>52</td>\n",
       "      <td>1</td>\n",
       "      <td>0</td>\n",
       "      <td>52</td>\n",
       "    </tr>\n",
       "    <tr>\n",
       "      <th>fields__oSets__totalSets</th>\n",
       "      <td>54</td>\n",
       "      <td>2</td>\n",
       "      <td>1</td>\n",
       "      <td>41</td>\n",
       "    </tr>\n",
       "  </tbody>\n",
       "</table>\n",
       "</div>"
      ],
      "text/plain": [
       "                            count unique                      top freq\n",
       "fields__oSets__completeSets    54      3                        1   38\n",
       "fields__oSets__date            54     54  2017-08-01T15:27:40.174    1\n",
       "fields__oSets__dateCompare     54     16      1501545600000000000    7\n",
       "fields__oSets__desc             0      0                      NaN  NaN\n",
       "fields__oSets__growthStage     54      6                        8   22\n",
       "fields__oSets__obsName         54      4                    Stean   28\n",
       "fields__oSets__results         52      2                RESULTS.5   42\n",
       "fields__oSets__totalA1         52     36                        0   10\n",
       "fields__oSets__totalA2         52     11                        0   41\n",
       "fields__oSets__totalA3         52      1                        0   52\n",
       "fields__oSets__totalA4         52      1                        0   52\n",
       "fields__oSets__totalSets       54      2                        1   41"
      ]
     },
     "metadata": {},
     "output_type": "display_data"
    },
    {
     "data": {
      "text/html": [
       "<h5>Subsections</h5>"
      ],
      "text/plain": [
       "<IPython.core.display.HTML object>"
      ]
     },
     "metadata": {},
     "output_type": "display_data"
    },
    {
     "data": {
      "text/html": [
       "<div>\n",
       "<style scoped>\n",
       "    .dataframe tbody tr th:only-of-type {\n",
       "        vertical-align: middle;\n",
       "    }\n",
       "\n",
       "    .dataframe tbody tr th {\n",
       "        vertical-align: top;\n",
       "    }\n",
       "\n",
       "    .dataframe thead th {\n",
       "        text-align: right;\n",
       "    }\n",
       "</style>\n",
       "<table border=\"1\" class=\"dataframe\">\n",
       "  <thead>\n",
       "    <tr style=\"text-align: right;\">\n",
       "      <th></th>\n",
       "      <th>columns</th>\n",
       "    </tr>\n",
       "  </thead>\n",
       "  <tbody>\n",
       "    <tr>\n",
       "      <th>oPoints</th>\n",
       "      <td>22</td>\n",
       "    </tr>\n",
       "  </tbody>\n",
       "</table>\n",
       "</div>"
      ],
      "text/plain": [
       "         columns\n",
       "oPoints       22"
      ]
     },
     "metadata": {},
     "output_type": "display_data"
    }
   ],
   "source": [
    "osets_node = fields_node['oSets']\n",
    "summarize_node(osets_node)"
   ]
  },
  {
   "cell_type": "markdown",
   "metadata": {},
   "source": [
    "#### Relationship"
   ]
  },
  {
   "cell_type": "markdown",
   "metadata": {},
   "source": [
    "This is essentially the root record level for observations, with observation data also being associated with physical points, each having their own records in subsections.\n",
    "\n",
    "- The identity of the field and location associated with the observation events is determined by the parent record in which `oSets` sets is nested.\n",
    "\n",
    "- The columns `fields__oSets__date` and `fields__oSets__dateCompare` are believed to be expressions of the same time. These times are not related to the ones in the `oPoints` > `location` records.\n",
    "\n",
    "- `fields__oSets__totalA1` through `fields__oSets__totalA4` are calculated from subsection data\n",
    "\n",
    "- `fields__oSets__results` stores references to data that isn't exported"
   ]
  },
  {
   "cell_type": "markdown",
   "metadata": {},
   "source": [
    "#### Information"
   ]
  },
  {
   "cell_type": "markdown",
   "metadata": {},
   "source": [
    "- `growthStage` refers to the [Zadoks scale] of cereal development.\n",
    "\n",
    "[Zadoks scale]: https://en.wikipedia.org/wiki/Cereal_growth_staging_scales#Zadoks_scale"
   ]
  },
  {
   "cell_type": "markdown",
   "metadata": {},
   "source": [
    "### Subsection `fields` > `oSets` > `oPoints`"
   ]
  },
  {
   "cell_type": "code",
   "execution_count": 179,
   "metadata": {
    "ExecuteTime": {
     "end_time": "2018-04-17T19:35:39.617855Z",
     "start_time": "2018-04-17T19:35:39.549641Z"
    },
    "init_cell": true
   },
   "outputs": [
    {
     "name": "stdout",
     "output_type": "stream",
     "text": [
      "location/\n",
      ".   coords/\n",
      "observations/\n",
      ".   a1/\n",
      ".   a2/\n",
      ".   a3/\n",
      ".   * |/\n"
     ]
    },
    {
     "data": {
      "text/html": [
       "<h5>Child Series</h5>"
      ],
      "text/plain": [
       "<IPython.core.display.HTML object>"
      ]
     },
     "metadata": {},
     "output_type": "display_data"
    },
    {
     "data": {
      "text/html": [
       "<div>\n",
       "<style scoped>\n",
       "    .dataframe tbody tr th:only-of-type {\n",
       "        vertical-align: middle;\n",
       "    }\n",
       "\n",
       "    .dataframe tbody tr th {\n",
       "        vertical-align: top;\n",
       "    }\n",
       "\n",
       "    .dataframe thead th {\n",
       "        text-align: right;\n",
       "    }\n",
       "</style>\n",
       "<table border=\"1\" class=\"dataframe\">\n",
       "  <thead>\n",
       "    <tr style=\"text-align: right;\">\n",
       "      <th></th>\n",
       "      <th>count</th>\n",
       "      <th>unique</th>\n",
       "      <th>top</th>\n",
       "      <th>freq</th>\n",
       "    </tr>\n",
       "  </thead>\n",
       "  <tbody>\n",
       "    <tr>\n",
       "      <th>fields__oSets__oPoints__id</th>\n",
       "      <td>335</td>\n",
       "      <td>10</td>\n",
       "      <td>4</td>\n",
       "      <td>54</td>\n",
       "    </tr>\n",
       "    <tr>\n",
       "      <th>fields__oSets__oPoints__name</th>\n",
       "      <td>335</td>\n",
       "      <td>10</td>\n",
       "      <td>Observation Point 5</td>\n",
       "      <td>54</td>\n",
       "    </tr>\n",
       "  </tbody>\n",
       "</table>\n",
       "</div>"
      ],
      "text/plain": [
       "                             count unique                  top freq\n",
       "fields__oSets__oPoints__id     335     10                    4   54\n",
       "fields__oSets__oPoints__name   335     10  Observation Point 5   54"
      ]
     },
     "metadata": {},
     "output_type": "display_data"
    },
    {
     "data": {
      "text/html": [
       "<h5>Subsections</h5>"
      ],
      "text/plain": [
       "<IPython.core.display.HTML object>"
      ]
     },
     "metadata": {},
     "output_type": "display_data"
    },
    {
     "data": {
      "text/html": [
       "<div>\n",
       "<style scoped>\n",
       "    .dataframe tbody tr th:only-of-type {\n",
       "        vertical-align: middle;\n",
       "    }\n",
       "\n",
       "    .dataframe tbody tr th {\n",
       "        vertical-align: top;\n",
       "    }\n",
       "\n",
       "    .dataframe thead th {\n",
       "        text-align: right;\n",
       "    }\n",
       "</style>\n",
       "<table border=\"1\" class=\"dataframe\">\n",
       "  <thead>\n",
       "    <tr style=\"text-align: right;\">\n",
       "      <th></th>\n",
       "      <th>columns</th>\n",
       "    </tr>\n",
       "  </thead>\n",
       "  <tbody>\n",
       "    <tr>\n",
       "      <th>location</th>\n",
       "      <td>8</td>\n",
       "    </tr>\n",
       "    <tr>\n",
       "      <th>observations</th>\n",
       "      <td>12</td>\n",
       "    </tr>\n",
       "  </tbody>\n",
       "</table>\n",
       "</div>"
      ],
      "text/plain": [
       "              columns\n",
       "location            8\n",
       "observations       12"
      ]
     },
     "metadata": {},
     "output_type": "display_data"
    }
   ],
   "source": [
    "opoints_node = osets_node['oPoints']\n",
    "summarize_node(opoints_node)"
   ]
  },
  {
   "cell_type": "markdown",
   "metadata": {},
   "source": [
    "#### Relationship"
   ]
  },
  {
   "cell_type": "markdown",
   "metadata": {},
   "source": [
    "Correlates observation events with time and place.\n",
    "\n",
    "Nested here are individual observation records, all of which are associated with the location record for the given point.\n",
    "\n",
    "The identity of the field, and the local time of the observation events, are determined by the parent records (`oSets`, `fields`)."
   ]
  },
  {
   "cell_type": "markdown",
   "metadata": {},
   "source": [
    "#### Subsection `fields` > `oSets` > `oPoints` > `location`"
   ]
  },
  {
   "cell_type": "code",
   "execution_count": 180,
   "metadata": {
    "ExecuteTime": {
     "end_time": "2018-04-17T19:35:40.618616Z",
     "start_time": "2018-04-17T19:35:40.580334Z"
    },
    "init_cell": true
   },
   "outputs": [
    {
     "name": "stdout",
     "output_type": "stream",
     "text": [
      "coords/\n"
     ]
    },
    {
     "data": {
      "text/html": [
       "<h5>Child Series</h5>"
      ],
      "text/plain": [
       "<IPython.core.display.HTML object>"
      ]
     },
     "metadata": {},
     "output_type": "display_data"
    },
    {
     "data": {
      "text/html": [
       "<div>\n",
       "<style scoped>\n",
       "    .dataframe tbody tr th:only-of-type {\n",
       "        vertical-align: middle;\n",
       "    }\n",
       "\n",
       "    .dataframe tbody tr th {\n",
       "        vertical-align: top;\n",
       "    }\n",
       "\n",
       "    .dataframe thead th {\n",
       "        text-align: right;\n",
       "    }\n",
       "</style>\n",
       "<table border=\"1\" class=\"dataframe\">\n",
       "  <thead>\n",
       "    <tr style=\"text-align: right;\">\n",
       "      <th></th>\n",
       "      <th>count</th>\n",
       "      <th>mean</th>\n",
       "      <th>std</th>\n",
       "      <th>min</th>\n",
       "      <th>25%</th>\n",
       "      <th>50%</th>\n",
       "      <th>75%</th>\n",
       "      <th>max</th>\n",
       "    </tr>\n",
       "  </thead>\n",
       "  <tbody>\n",
       "    <tr>\n",
       "      <th>fields__oSets__oPoints__location__timestamp</th>\n",
       "      <td>250.0</td>\n",
       "      <td>1.501778e+12</td>\n",
       "      <td>9.954846e+08</td>\n",
       "      <td>1.500323e+12</td>\n",
       "      <td>1.501270e+12</td>\n",
       "      <td>1.501625e+12</td>\n",
       "      <td>1.502301e+12</td>\n",
       "      <td>1.503439e+12</td>\n",
       "    </tr>\n",
       "  </tbody>\n",
       "</table>\n",
       "</div>"
      ],
      "text/plain": [
       "                                             count          mean  \\\n",
       "fields__oSets__oPoints__location__timestamp  250.0  1.501778e+12   \n",
       "\n",
       "                                                      std           min  \\\n",
       "fields__oSets__oPoints__location__timestamp  9.954846e+08  1.500323e+12   \n",
       "\n",
       "                                                      25%           50%  \\\n",
       "fields__oSets__oPoints__location__timestamp  1.501270e+12  1.501625e+12   \n",
       "\n",
       "                                                      75%           max  \n",
       "fields__oSets__oPoints__location__timestamp  1.502301e+12  1.503439e+12  "
      ]
     },
     "metadata": {},
     "output_type": "display_data"
    },
    {
     "data": {
      "text/html": [
       "<h5>Subsections</h5>"
      ],
      "text/plain": [
       "<IPython.core.display.HTML object>"
      ]
     },
     "metadata": {},
     "output_type": "display_data"
    },
    {
     "data": {
      "text/html": [
       "<div>\n",
       "<style scoped>\n",
       "    .dataframe tbody tr th:only-of-type {\n",
       "        vertical-align: middle;\n",
       "    }\n",
       "\n",
       "    .dataframe tbody tr th {\n",
       "        vertical-align: top;\n",
       "    }\n",
       "\n",
       "    .dataframe thead th {\n",
       "        text-align: right;\n",
       "    }\n",
       "</style>\n",
       "<table border=\"1\" class=\"dataframe\">\n",
       "  <thead>\n",
       "    <tr style=\"text-align: right;\">\n",
       "      <th></th>\n",
       "      <th>columns</th>\n",
       "    </tr>\n",
       "  </thead>\n",
       "  <tbody>\n",
       "    <tr>\n",
       "      <th>coords</th>\n",
       "      <td>7</td>\n",
       "    </tr>\n",
       "  </tbody>\n",
       "</table>\n",
       "</div>"
      ],
      "text/plain": [
       "        columns\n",
       "coords        7"
      ]
     },
     "metadata": {},
     "output_type": "display_data"
    }
   ],
   "source": [
    "location_node = opoints_node['location']\n",
    "summarize_node(location_node)"
   ]
  },
  {
   "cell_type": "markdown",
   "metadata": {},
   "source": [
    "##### Subsection `fields` > `oSets` > `oPoints` > `location` > `coords`"
   ]
  },
  {
   "cell_type": "code",
   "execution_count": 181,
   "metadata": {
    "ExecuteTime": {
     "end_time": "2018-04-17T19:35:41.547200Z",
     "start_time": "2018-04-17T19:35:41.518155Z"
    },
    "init_cell": true
   },
   "outputs": [
    {
     "data": {
      "text/html": [
       "<h5>Child Series</h5>"
      ],
      "text/plain": [
       "<IPython.core.display.HTML object>"
      ]
     },
     "metadata": {},
     "output_type": "display_data"
    },
    {
     "data": {
      "text/html": [
       "<div>\n",
       "<style scoped>\n",
       "    .dataframe tbody tr th:only-of-type {\n",
       "        vertical-align: middle;\n",
       "    }\n",
       "\n",
       "    .dataframe tbody tr th {\n",
       "        vertical-align: top;\n",
       "    }\n",
       "\n",
       "    .dataframe thead th {\n",
       "        text-align: right;\n",
       "    }\n",
       "</style>\n",
       "<table border=\"1\" class=\"dataframe\">\n",
       "  <thead>\n",
       "    <tr style=\"text-align: right;\">\n",
       "      <th></th>\n",
       "      <th>count</th>\n",
       "      <th>mean</th>\n",
       "      <th>std</th>\n",
       "      <th>min</th>\n",
       "      <th>25%</th>\n",
       "      <th>50%</th>\n",
       "      <th>75%</th>\n",
       "      <th>max</th>\n",
       "    </tr>\n",
       "  </thead>\n",
       "  <tbody>\n",
       "    <tr>\n",
       "      <th>fields__oSets__oPoints__location__coords__accuracy</th>\n",
       "      <td>250.0</td>\n",
       "      <td>77.003397</td>\n",
       "      <td>47.252234</td>\n",
       "      <td>5.000000</td>\n",
       "      <td>59.042601</td>\n",
       "      <td>65.000000</td>\n",
       "      <td>65.000000</td>\n",
       "      <td>165.000000</td>\n",
       "    </tr>\n",
       "    <tr>\n",
       "      <th>fields__oSets__oPoints__location__coords__altitude</th>\n",
       "      <td>250.0</td>\n",
       "      <td>505.803212</td>\n",
       "      <td>8.296321</td>\n",
       "      <td>498.000000</td>\n",
       "      <td>503.000031</td>\n",
       "      <td>505.323465</td>\n",
       "      <td>505.717979</td>\n",
       "      <td>546.396362</td>\n",
       "    </tr>\n",
       "    <tr>\n",
       "      <th>fields__oSets__oPoints__location__coords__altitudeAccuracy</th>\n",
       "      <td>250.0</td>\n",
       "      <td>10.834109</td>\n",
       "      <td>6.801868</td>\n",
       "      <td>3.375000</td>\n",
       "      <td>3.400946</td>\n",
       "      <td>10.000000</td>\n",
       "      <td>14.624069</td>\n",
       "      <td>36.000000</td>\n",
       "    </tr>\n",
       "    <tr>\n",
       "      <th>fields__oSets__oPoints__location__coords__heading</th>\n",
       "      <td>247.0</td>\n",
       "      <td>5.953821</td>\n",
       "      <td>35.832049</td>\n",
       "      <td>-1.000000</td>\n",
       "      <td>-1.000000</td>\n",
       "      <td>-1.000000</td>\n",
       "      <td>-1.000000</td>\n",
       "      <td>189.843750</td>\n",
       "    </tr>\n",
       "    <tr>\n",
       "      <th>fields__oSets__oPoints__location__coords__latitude</th>\n",
       "      <td>250.0</td>\n",
       "      <td>52.123950</td>\n",
       "      <td>0.124693</td>\n",
       "      <td>51.480568</td>\n",
       "      <td>52.143621</td>\n",
       "      <td>52.150754</td>\n",
       "      <td>52.151051</td>\n",
       "      <td>52.155109</td>\n",
       "    </tr>\n",
       "    <tr>\n",
       "      <th>fields__oSets__oPoints__location__coords__longitude</th>\n",
       "      <td>250.0</td>\n",
       "      <td>-106.592416</td>\n",
       "      <td>0.090977</td>\n",
       "      <td>-107.047006</td>\n",
       "      <td>-106.573893</td>\n",
       "      <td>-106.573346</td>\n",
       "      <td>-106.570922</td>\n",
       "      <td>-106.539991</td>\n",
       "    </tr>\n",
       "    <tr>\n",
       "      <th>fields__oSets__oPoints__location__coords__speed</th>\n",
       "      <td>250.0</td>\n",
       "      <td>-0.943000</td>\n",
       "      <td>0.255464</td>\n",
       "      <td>-1.000000</td>\n",
       "      <td>-1.000000</td>\n",
       "      <td>-1.000000</td>\n",
       "      <td>-1.000000</td>\n",
       "      <td>0.250000</td>\n",
       "    </tr>\n",
       "  </tbody>\n",
       "</table>\n",
       "</div>"
      ],
      "text/plain": [
       "                                                    count        mean  \\\n",
       "fields__oSets__oPoints__location__coords__accuracy  250.0   77.003397   \n",
       "fields__oSets__oPoints__location__coords__altitude  250.0  505.803212   \n",
       "fields__oSets__oPoints__location__coords__altit...  250.0   10.834109   \n",
       "fields__oSets__oPoints__location__coords__heading   247.0    5.953821   \n",
       "fields__oSets__oPoints__location__coords__latitude  250.0   52.123950   \n",
       "fields__oSets__oPoints__location__coords__longi...  250.0 -106.592416   \n",
       "fields__oSets__oPoints__location__coords__speed     250.0   -0.943000   \n",
       "\n",
       "                                                          std         min  \\\n",
       "fields__oSets__oPoints__location__coords__accuracy  47.252234    5.000000   \n",
       "fields__oSets__oPoints__location__coords__altitude   8.296321  498.000000   \n",
       "fields__oSets__oPoints__location__coords__altit...   6.801868    3.375000   \n",
       "fields__oSets__oPoints__location__coords__heading   35.832049   -1.000000   \n",
       "fields__oSets__oPoints__location__coords__latitude   0.124693   51.480568   \n",
       "fields__oSets__oPoints__location__coords__longi...   0.090977 -107.047006   \n",
       "fields__oSets__oPoints__location__coords__speed      0.255464   -1.000000   \n",
       "\n",
       "                                                           25%         50%  \\\n",
       "fields__oSets__oPoints__location__coords__accuracy   59.042601   65.000000   \n",
       "fields__oSets__oPoints__location__coords__altitude  503.000031  505.323465   \n",
       "fields__oSets__oPoints__location__coords__altit...    3.400946   10.000000   \n",
       "fields__oSets__oPoints__location__coords__heading    -1.000000   -1.000000   \n",
       "fields__oSets__oPoints__location__coords__latitude   52.143621   52.150754   \n",
       "fields__oSets__oPoints__location__coords__longi... -106.573893 -106.573346   \n",
       "fields__oSets__oPoints__location__coords__speed      -1.000000   -1.000000   \n",
       "\n",
       "                                                           75%         max  \n",
       "fields__oSets__oPoints__location__coords__accuracy   65.000000  165.000000  \n",
       "fields__oSets__oPoints__location__coords__altitude  505.717979  546.396362  \n",
       "fields__oSets__oPoints__location__coords__altit...   14.624069   36.000000  \n",
       "fields__oSets__oPoints__location__coords__heading    -1.000000  189.843750  \n",
       "fields__oSets__oPoints__location__coords__latitude   52.151051   52.155109  \n",
       "fields__oSets__oPoints__location__coords__longi... -106.570922 -106.539991  \n",
       "fields__oSets__oPoints__location__coords__speed      -1.000000    0.250000  "
      ]
     },
     "metadata": {},
     "output_type": "display_data"
    }
   ],
   "source": [
    "coords_node = location_node['coords']\n",
    "summarize_node(coords_node)"
   ]
  },
  {
   "cell_type": "markdown",
   "metadata": {},
   "source": [
    "#### Subsection `fields` > `oSets` > `oPoints` > `observations`"
   ]
  },
  {
   "cell_type": "code",
   "execution_count": 182,
   "metadata": {
    "ExecuteTime": {
     "end_time": "2018-04-17T19:35:42.591482Z",
     "start_time": "2018-04-17T19:35:42.517327Z"
    },
    "init_cell": true
   },
   "outputs": [
    {
     "name": "stdout",
     "output_type": "stream",
     "text": [
      "a1/\n",
      "a2/\n",
      "a3/\n",
      "* |/\n"
     ]
    },
    {
     "data": {
      "text/html": [
       "<h5>Child Series</h5>"
      ],
      "text/plain": [
       "<IPython.core.display.HTML object>"
      ]
     },
     "metadata": {},
     "output_type": "display_data"
    },
    {
     "data": {
      "text/html": [
       "<div>\n",
       "<style scoped>\n",
       "    .dataframe tbody tr th:only-of-type {\n",
       "        vertical-align: middle;\n",
       "    }\n",
       "\n",
       "    .dataframe tbody tr th {\n",
       "        vertical-align: top;\n",
       "    }\n",
       "\n",
       "    .dataframe thead th {\n",
       "        text-align: right;\n",
       "    }\n",
       "</style>\n",
       "<table border=\"1\" class=\"dataframe\">\n",
       "  <thead>\n",
       "    <tr style=\"text-align: right;\">\n",
       "      <th></th>\n",
       "      <th>count</th>\n",
       "      <th>unique</th>\n",
       "      <th>top</th>\n",
       "      <th>freq</th>\n",
       "    </tr>\n",
       "  </thead>\n",
       "  <tbody>\n",
       "    <tr>\n",
       "      <th>fields__oSets__oPoints__observations__anum</th>\n",
       "      <td>1675</td>\n",
       "      <td>53</td>\n",
       "      <td>0</td>\n",
       "      <td>1164</td>\n",
       "    </tr>\n",
       "    <tr>\n",
       "      <th>fields__oSets__oPoints__observations__complete</th>\n",
       "      <td>1937</td>\n",
       "      <td>1</td>\n",
       "      <td>1</td>\n",
       "      <td>1937</td>\n",
       "    </tr>\n",
       "    <tr>\n",
       "      <th>fields__oSets__oPoints__observations__disabled</th>\n",
       "      <td>0</td>\n",
       "      <td>0</td>\n",
       "      <td>NaN</td>\n",
       "      <td>NaN</td>\n",
       "    </tr>\n",
       "    <tr>\n",
       "      <th>fields__oSets__oPoints__observations__eVnum</th>\n",
       "      <td>335</td>\n",
       "      <td>43</td>\n",
       "      <td>0</td>\n",
       "      <td>259</td>\n",
       "    </tr>\n",
       "    <tr>\n",
       "      <th>fields__oSets__oPoints__observations__enum</th>\n",
       "      <td>335</td>\n",
       "      <td>19</td>\n",
       "      <td>0</td>\n",
       "      <td>259</td>\n",
       "    </tr>\n",
       "    <tr>\n",
       "      <th>fields__oSets__oPoints__observations__id</th>\n",
       "      <td>2010</td>\n",
       "      <td>6</td>\n",
       "      <td>5</td>\n",
       "      <td>335</td>\n",
       "    </tr>\n",
       "    <tr>\n",
       "      <th>fields__oSets__oPoints__observations__name</th>\n",
       "      <td>2010</td>\n",
       "      <td>51</td>\n",
       "      <td>Natural Enemy Observation</td>\n",
       "      <td>335</td>\n",
       "    </tr>\n",
       "    <tr>\n",
       "      <th>fields__oSets__oPoints__observations__|</th>\n",
       "      <td>3015</td>\n",
       "      <td>9</td>\n",
       "      <td>e9</td>\n",
       "      <td>335</td>\n",
       "    </tr>\n",
       "  </tbody>\n",
       "</table>\n",
       "</div>"
      ],
      "text/plain": [
       "                                               count unique  \\\n",
       "fields__oSets__oPoints__observations__anum      1675     53   \n",
       "fields__oSets__oPoints__observations__complete  1937      1   \n",
       "fields__oSets__oPoints__observations__disabled     0      0   \n",
       "fields__oSets__oPoints__observations__eVnum      335     43   \n",
       "fields__oSets__oPoints__observations__enum       335     19   \n",
       "fields__oSets__oPoints__observations__id        2010      6   \n",
       "fields__oSets__oPoints__observations__name      2010     51   \n",
       "fields__oSets__oPoints__observations__|         3015      9   \n",
       "\n",
       "                                                                      top  \\\n",
       "fields__oSets__oPoints__observations__anum                              0   \n",
       "fields__oSets__oPoints__observations__complete                          1   \n",
       "fields__oSets__oPoints__observations__disabled                        NaN   \n",
       "fields__oSets__oPoints__observations__eVnum                             0   \n",
       "fields__oSets__oPoints__observations__enum                              0   \n",
       "fields__oSets__oPoints__observations__id                                5   \n",
       "fields__oSets__oPoints__observations__name      Natural Enemy Observation   \n",
       "fields__oSets__oPoints__observations__|                                e9   \n",
       "\n",
       "                                                freq  \n",
       "fields__oSets__oPoints__observations__anum      1164  \n",
       "fields__oSets__oPoints__observations__complete  1937  \n",
       "fields__oSets__oPoints__observations__disabled   NaN  \n",
       "fields__oSets__oPoints__observations__eVnum      259  \n",
       "fields__oSets__oPoints__observations__enum       259  \n",
       "fields__oSets__oPoints__observations__id         335  \n",
       "fields__oSets__oPoints__observations__name       335  \n",
       "fields__oSets__oPoints__observations__|          335  "
      ]
     },
     "metadata": {},
     "output_type": "display_data"
    },
    {
     "data": {
      "text/html": [
       "<h5>Subsections</h5>"
      ],
      "text/plain": [
       "<IPython.core.display.HTML object>"
      ]
     },
     "metadata": {},
     "output_type": "display_data"
    },
    {
     "data": {
      "text/html": [
       "<div>\n",
       "<style scoped>\n",
       "    .dataframe tbody tr th:only-of-type {\n",
       "        vertical-align: middle;\n",
       "    }\n",
       "\n",
       "    .dataframe tbody tr th {\n",
       "        vertical-align: top;\n",
       "    }\n",
       "\n",
       "    .dataframe thead th {\n",
       "        text-align: right;\n",
       "    }\n",
       "</style>\n",
       "<table border=\"1\" class=\"dataframe\">\n",
       "  <thead>\n",
       "    <tr style=\"text-align: right;\">\n",
       "      <th></th>\n",
       "      <th>columns</th>\n",
       "    </tr>\n",
       "  </thead>\n",
       "  <tbody>\n",
       "    <tr>\n",
       "      <th>a1</th>\n",
       "      <td>1</td>\n",
       "    </tr>\n",
       "    <tr>\n",
       "      <th>a2</th>\n",
       "      <td>1</td>\n",
       "    </tr>\n",
       "    <tr>\n",
       "      <th>a3</th>\n",
       "      <td>1</td>\n",
       "    </tr>\n",
       "    <tr>\n",
       "      <th>|</th>\n",
       "      <td>2</td>\n",
       "    </tr>\n",
       "  </tbody>\n",
       "</table>\n",
       "</div>"
      ],
      "text/plain": [
       "    columns\n",
       "a1        1\n",
       "a2        1\n",
       "a3        1\n",
       "|         2"
      ]
     },
     "metadata": {},
     "output_type": "display_data"
    }
   ],
   "source": [
    "observations_node = opoints_node['observations']\n",
    "summarize_node(observations_node)"
   ]
  },
  {
   "cell_type": "markdown",
   "metadata": {},
   "source": [
    "##### `a1`, `a2`, `a3`, & `|` (natural enemies)"
   ]
  },
  {
   "cell_type": "code",
   "execution_count": 183,
   "metadata": {
    "ExecuteTime": {
     "end_time": "2018-04-17T19:35:43.535288Z",
     "start_time": "2018-04-17T19:35:43.508564Z"
    },
    "scrolled": false
   },
   "outputs": [
    {
     "data": {
      "text/html": [
       "<h5>Child Series</h5>"
      ],
      "text/plain": [
       "<IPython.core.display.HTML object>"
      ]
     },
     "metadata": {},
     "output_type": "display_data"
    },
    {
     "data": {
      "text/html": [
       "<div>\n",
       "<style scoped>\n",
       "    .dataframe tbody tr th:only-of-type {\n",
       "        vertical-align: middle;\n",
       "    }\n",
       "\n",
       "    .dataframe tbody tr th {\n",
       "        vertical-align: top;\n",
       "    }\n",
       "\n",
       "    .dataframe thead th {\n",
       "        text-align: right;\n",
       "    }\n",
       "</style>\n",
       "<table border=\"1\" class=\"dataframe\">\n",
       "  <thead>\n",
       "    <tr style=\"text-align: right;\">\n",
       "      <th></th>\n",
       "      <th>count</th>\n",
       "      <th>mean</th>\n",
       "      <th>std</th>\n",
       "      <th>min</th>\n",
       "      <th>25%</th>\n",
       "      <th>50%</th>\n",
       "      <th>75%</th>\n",
       "      <th>max</th>\n",
       "    </tr>\n",
       "  </thead>\n",
       "  <tbody>\n",
       "    <tr>\n",
       "      <th>fields__oSets__oPoints__observations__a1__number</th>\n",
       "      <td>448.0</td>\n",
       "      <td>8.203125</td>\n",
       "      <td>11.915485</td>\n",
       "      <td>0.0</td>\n",
       "      <td>2.0</td>\n",
       "      <td>3.5</td>\n",
       "      <td>9.0</td>\n",
       "      <td>78.0</td>\n",
       "    </tr>\n",
       "  </tbody>\n",
       "</table>\n",
       "</div>"
      ],
      "text/plain": [
       "                                                  count      mean        std  \\\n",
       "fields__oSets__oPoints__observations__a1__number  448.0  8.203125  11.915485   \n",
       "\n",
       "                                                  min  25%  50%  75%   max  \n",
       "fields__oSets__oPoints__observations__a1__number  0.0  2.0  3.5  9.0  78.0  "
      ]
     },
     "metadata": {},
     "output_type": "display_data"
    },
    {
     "data": {
      "text/html": [
       "<h5>Child Series</h5>"
      ],
      "text/plain": [
       "<IPython.core.display.HTML object>"
      ]
     },
     "metadata": {},
     "output_type": "display_data"
    },
    {
     "data": {
      "text/html": [
       "<div>\n",
       "<style scoped>\n",
       "    .dataframe tbody tr th:only-of-type {\n",
       "        vertical-align: middle;\n",
       "    }\n",
       "\n",
       "    .dataframe tbody tr th {\n",
       "        vertical-align: top;\n",
       "    }\n",
       "\n",
       "    .dataframe thead th {\n",
       "        text-align: right;\n",
       "    }\n",
       "</style>\n",
       "<table border=\"1\" class=\"dataframe\">\n",
       "  <thead>\n",
       "    <tr style=\"text-align: right;\">\n",
       "      <th></th>\n",
       "      <th>count</th>\n",
       "      <th>mean</th>\n",
       "      <th>std</th>\n",
       "      <th>min</th>\n",
       "      <th>25%</th>\n",
       "      <th>50%</th>\n",
       "      <th>75%</th>\n",
       "      <th>max</th>\n",
       "    </tr>\n",
       "  </thead>\n",
       "  <tbody>\n",
       "    <tr>\n",
       "      <th>fields__oSets__oPoints__observations__a2__number</th>\n",
       "      <td>142.0</td>\n",
       "      <td>3.591549</td>\n",
       "      <td>5.012261</td>\n",
       "      <td>0.0</td>\n",
       "      <td>1.0</td>\n",
       "      <td>2.0</td>\n",
       "      <td>3.0</td>\n",
       "      <td>28.0</td>\n",
       "    </tr>\n",
       "  </tbody>\n",
       "</table>\n",
       "</div>"
      ],
      "text/plain": [
       "                                                  count      mean       std  \\\n",
       "fields__oSets__oPoints__observations__a2__number  142.0  3.591549  5.012261   \n",
       "\n",
       "                                                  min  25%  50%  75%   max  \n",
       "fields__oSets__oPoints__observations__a2__number  0.0  1.0  2.0  3.0  28.0  "
      ]
     },
     "metadata": {},
     "output_type": "display_data"
    },
    {
     "data": {
      "text/html": [
       "<h5>Child Series</h5>"
      ],
      "text/plain": [
       "<IPython.core.display.HTML object>"
      ]
     },
     "metadata": {},
     "output_type": "display_data"
    },
    {
     "data": {
      "text/html": [
       "<div>\n",
       "<style scoped>\n",
       "    .dataframe tbody tr th:only-of-type {\n",
       "        vertical-align: middle;\n",
       "    }\n",
       "\n",
       "    .dataframe tbody tr th {\n",
       "        vertical-align: top;\n",
       "    }\n",
       "\n",
       "    .dataframe thead th {\n",
       "        text-align: right;\n",
       "    }\n",
       "</style>\n",
       "<table border=\"1\" class=\"dataframe\">\n",
       "  <thead>\n",
       "    <tr style=\"text-align: right;\">\n",
       "      <th></th>\n",
       "      <th>count</th>\n",
       "      <th>mean</th>\n",
       "      <th>std</th>\n",
       "      <th>min</th>\n",
       "      <th>25%</th>\n",
       "      <th>50%</th>\n",
       "      <th>75%</th>\n",
       "      <th>max</th>\n",
       "    </tr>\n",
       "  </thead>\n",
       "  <tbody>\n",
       "    <tr>\n",
       "      <th>fields__oSets__oPoints__observations__a3__number</th>\n",
       "      <td>25.0</td>\n",
       "      <td>2.52</td>\n",
       "      <td>2.329521</td>\n",
       "      <td>0.0</td>\n",
       "      <td>1.0</td>\n",
       "      <td>1.0</td>\n",
       "      <td>4.0</td>\n",
       "      <td>10.0</td>\n",
       "    </tr>\n",
       "  </tbody>\n",
       "</table>\n",
       "</div>"
      ],
      "text/plain": [
       "                                                  count  mean       std  min  \\\n",
       "fields__oSets__oPoints__observations__a3__number   25.0  2.52  2.329521  0.0   \n",
       "\n",
       "                                                  25%  50%  75%   max  \n",
       "fields__oSets__oPoints__observations__a3__number  1.0  1.0  4.0  10.0  "
      ]
     },
     "metadata": {},
     "output_type": "display_data"
    },
    {
     "data": {
      "text/html": [
       "<h5>Child Series</h5>"
      ],
      "text/plain": [
       "<IPython.core.display.HTML object>"
      ]
     },
     "metadata": {},
     "output_type": "display_data"
    },
    {
     "data": {
      "text/html": [
       "<div>\n",
       "<style scoped>\n",
       "    .dataframe tbody tr th:only-of-type {\n",
       "        vertical-align: middle;\n",
       "    }\n",
       "\n",
       "    .dataframe tbody tr th {\n",
       "        vertical-align: top;\n",
       "    }\n",
       "\n",
       "    .dataframe thead th {\n",
       "        text-align: right;\n",
       "    }\n",
       "</style>\n",
       "<table border=\"1\" class=\"dataframe\">\n",
       "  <thead>\n",
       "    <tr style=\"text-align: right;\">\n",
       "      <th></th>\n",
       "      <th>count</th>\n",
       "      <th>mean</th>\n",
       "      <th>std</th>\n",
       "      <th>min</th>\n",
       "      <th>25%</th>\n",
       "      <th>50%</th>\n",
       "      <th>75%</th>\n",
       "      <th>max</th>\n",
       "    </tr>\n",
       "  </thead>\n",
       "  <tbody>\n",
       "    <tr>\n",
       "      <th>fields__oSets__oPoints__observations__|__number</th>\n",
       "      <td>172.0</td>\n",
       "      <td>3.488372</td>\n",
       "      <td>4.708445</td>\n",
       "      <td>0.0</td>\n",
       "      <td>1.0</td>\n",
       "      <td>1.0</td>\n",
       "      <td>4.0</td>\n",
       "      <td>28.0</td>\n",
       "    </tr>\n",
       "  </tbody>\n",
       "</table>\n",
       "</div>"
      ],
      "text/plain": [
       "                                                 count      mean       std  \\\n",
       "fields__oSets__oPoints__observations__|__number  172.0  3.488372  4.708445   \n",
       "\n",
       "                                                 min  25%  50%  75%   max  \n",
       "fields__oSets__oPoints__observations__|__number  0.0  1.0  1.0  4.0  28.0  "
      ]
     },
     "metadata": {},
     "output_type": "display_data"
    },
    {
     "data": {
      "text/html": [
       "<h5>Series</h5>"
      ],
      "text/plain": [
       "<IPython.core.display.HTML object>"
      ]
     },
     "metadata": {},
     "output_type": "display_data"
    },
    {
     "data": {
      "text/html": [
       "<div>\n",
       "<style scoped>\n",
       "    .dataframe tbody tr th:only-of-type {\n",
       "        vertical-align: middle;\n",
       "    }\n",
       "\n",
       "    .dataframe tbody tr th {\n",
       "        vertical-align: top;\n",
       "    }\n",
       "\n",
       "    .dataframe thead th {\n",
       "        text-align: right;\n",
       "    }\n",
       "</style>\n",
       "<table border=\"1\" class=\"dataframe\">\n",
       "  <thead>\n",
       "    <tr style=\"text-align: right;\">\n",
       "      <th></th>\n",
       "      <th>count</th>\n",
       "      <th>unique</th>\n",
       "      <th>top</th>\n",
       "      <th>freq</th>\n",
       "    </tr>\n",
       "  </thead>\n",
       "  <tbody>\n",
       "    <tr>\n",
       "      <th>fields__oSets__oPoints__observations__|</th>\n",
       "      <td>3015</td>\n",
       "      <td>9</td>\n",
       "      <td>e9</td>\n",
       "      <td>335</td>\n",
       "    </tr>\n",
       "  </tbody>\n",
       "</table>\n",
       "</div>"
      ],
      "text/plain": [
       "                                        count unique top freq\n",
       "fields__oSets__oPoints__observations__|  3015      9  e9  335"
      ]
     },
     "metadata": {},
     "output_type": "display_data"
    }
   ],
   "source": [
    "for child in get_grandchild_nodes(observations_node).values():\n",
    "    summarize_node(child)"
   ]
  },
  {
   "cell_type": "markdown",
   "metadata": {},
   "source": [
    "##### Information"
   ]
  },
  {
   "cell_type": "markdown",
   "metadata": {},
   "source": [
    "###### Aphids"
   ]
  },
  {
   "cell_type": "markdown",
   "metadata": {},
   "source": [
    "The `a1` part of `fields__oSets__oPoints__observations__a1__number` represents an identifier for the taxon (classification) of aphid. So as with `a2`, `a3`, and `a4`."
   ]
  },
  {
   "cell_type": "markdown",
   "metadata": {
    "tags": [
     "@todo"
    ]
   },
   "source": [
    "###### Aphid identifiers:"
   ]
  },
  {
   "cell_type": "markdown",
   "metadata": {},
   "source": [
    "1. ?\n",
    "2. ?\n",
    "3. ?\n",
    "4. ?"
   ]
  },
  {
   "cell_type": "markdown",
   "metadata": {},
   "source": [
    "###### Natural Enemies"
   ]
  },
  {
   "cell_type": "code",
   "execution_count": 184,
   "metadata": {},
   "outputs": [
    {
     "data": {
      "text/html": [
       "<div>\n",
       "<style scoped>\n",
       "    .dataframe tbody tr th:only-of-type {\n",
       "        vertical-align: middle;\n",
       "    }\n",
       "\n",
       "    .dataframe tbody tr th {\n",
       "        vertical-align: top;\n",
       "    }\n",
       "\n",
       "    .dataframe thead th {\n",
       "        text-align: right;\n",
       "    }\n",
       "</style>\n",
       "<table border=\"1\" class=\"dataframe\">\n",
       "  <thead>\n",
       "    <tr style=\"text-align: right;\">\n",
       "      <th></th>\n",
       "      <th></th>\n",
       "      <th>fields__oSets__oPoints__observations__|</th>\n",
       "      <th>fields__oSets__oPoints__observations__|__number</th>\n",
       "    </tr>\n",
       "    <tr>\n",
       "      <th>Worksheet Name</th>\n",
       "      <th>Worksheet Row</th>\n",
       "      <th></th>\n",
       "      <th></th>\n",
       "    </tr>\n",
       "  </thead>\n",
       "  <tbody>\n",
       "    <tr>\n",
       "      <th rowspan=\"30\" valign=\"top\">Erl</th>\n",
       "      <th>90</th>\n",
       "      <td>e2</td>\n",
       "      <td>5.0</td>\n",
       "    </tr>\n",
       "    <tr>\n",
       "      <th>94</th>\n",
       "      <td>e6</td>\n",
       "      <td>1.0</td>\n",
       "    </tr>\n",
       "    <tr>\n",
       "      <th>96</th>\n",
       "      <td>e8</td>\n",
       "      <td>2.0</td>\n",
       "    </tr>\n",
       "    <tr>\n",
       "      <th>104</th>\n",
       "      <td>e2</td>\n",
       "      <td>5.0</td>\n",
       "    </tr>\n",
       "    <tr>\n",
       "      <th>110</th>\n",
       "      <td>e8</td>\n",
       "      <td>1.0</td>\n",
       "    </tr>\n",
       "    <tr>\n",
       "      <th>118</th>\n",
       "      <td>e2</td>\n",
       "      <td>4.0</td>\n",
       "    </tr>\n",
       "    <tr>\n",
       "      <th>132</th>\n",
       "      <td>e2</td>\n",
       "      <td>2.0</td>\n",
       "    </tr>\n",
       "    <tr>\n",
       "      <th>136</th>\n",
       "      <td>e6</td>\n",
       "      <td>1.0</td>\n",
       "    </tr>\n",
       "    <tr>\n",
       "      <th>145</th>\n",
       "      <td>e1</td>\n",
       "      <td>1.0</td>\n",
       "    </tr>\n",
       "    <tr>\n",
       "      <th>152</th>\n",
       "      <td>e8</td>\n",
       "      <td>1.0</td>\n",
       "    </tr>\n",
       "    <tr>\n",
       "      <th>160</th>\n",
       "      <td>e2</td>\n",
       "      <td>1.0</td>\n",
       "    </tr>\n",
       "    <tr>\n",
       "      <th>166</th>\n",
       "      <td>e8</td>\n",
       "      <td>1.0</td>\n",
       "    </tr>\n",
       "    <tr>\n",
       "      <th>502</th>\n",
       "      <td>e8</td>\n",
       "      <td>2.0</td>\n",
       "    </tr>\n",
       "    <tr>\n",
       "      <th>509</th>\n",
       "      <td>e1</td>\n",
       "      <td>1.0</td>\n",
       "    </tr>\n",
       "    <tr>\n",
       "      <th>544</th>\n",
       "      <td>e8</td>\n",
       "      <td>1.0</td>\n",
       "    </tr>\n",
       "    <tr>\n",
       "      <th>558</th>\n",
       "      <td>e8</td>\n",
       "      <td>2.0</td>\n",
       "    </tr>\n",
       "    <tr>\n",
       "      <th>572</th>\n",
       "      <td>e8</td>\n",
       "      <td>7.0</td>\n",
       "    </tr>\n",
       "    <tr>\n",
       "      <th>586</th>\n",
       "      <td>e8</td>\n",
       "      <td>6.0</td>\n",
       "    </tr>\n",
       "    <tr>\n",
       "      <th>587</th>\n",
       "      <td>e9</td>\n",
       "      <td>3.0</td>\n",
       "    </tr>\n",
       "    <tr>\n",
       "      <th>593</th>\n",
       "      <td>e1</td>\n",
       "      <td>1.0</td>\n",
       "    </tr>\n",
       "    <tr>\n",
       "      <th>600</th>\n",
       "      <td>e8</td>\n",
       "      <td>4.0</td>\n",
       "    </tr>\n",
       "    <tr>\n",
       "      <th>601</th>\n",
       "      <td>e9</td>\n",
       "      <td>2.0</td>\n",
       "    </tr>\n",
       "    <tr>\n",
       "      <th>614</th>\n",
       "      <td>e8</td>\n",
       "      <td>11.0</td>\n",
       "    </tr>\n",
       "    <tr>\n",
       "      <th>621</th>\n",
       "      <td>e1</td>\n",
       "      <td>1.0</td>\n",
       "    </tr>\n",
       "    <tr>\n",
       "      <th>628</th>\n",
       "      <td>e8</td>\n",
       "      <td>20.0</td>\n",
       "    </tr>\n",
       "    <tr>\n",
       "      <th>629</th>\n",
       "      <td>e9</td>\n",
       "      <td>2.0</td>\n",
       "    </tr>\n",
       "    <tr>\n",
       "      <th>642</th>\n",
       "      <td>e8</td>\n",
       "      <td>28.0</td>\n",
       "    </tr>\n",
       "    <tr>\n",
       "      <th>643</th>\n",
       "      <td>e9</td>\n",
       "      <td>2.0</td>\n",
       "    </tr>\n",
       "    <tr>\n",
       "      <th>651</th>\n",
       "      <td>e3</td>\n",
       "      <td>1.0</td>\n",
       "    </tr>\n",
       "    <tr>\n",
       "      <th>656</th>\n",
       "      <td>e8</td>\n",
       "      <td>9.0</td>\n",
       "    </tr>\n",
       "    <tr>\n",
       "      <th>...</th>\n",
       "      <th>...</th>\n",
       "      <td>...</td>\n",
       "      <td>...</td>\n",
       "    </tr>\n",
       "    <tr>\n",
       "      <th rowspan=\"30\" valign=\"top\">Tyler</th>\n",
       "      <th>3589</th>\n",
       "      <td>e1</td>\n",
       "      <td>1.0</td>\n",
       "    </tr>\n",
       "    <tr>\n",
       "      <th>3596</th>\n",
       "      <td>e8</td>\n",
       "      <td>11.0</td>\n",
       "    </tr>\n",
       "    <tr>\n",
       "      <th>3610</th>\n",
       "      <td>e8</td>\n",
       "      <td>1.0</td>\n",
       "    </tr>\n",
       "    <tr>\n",
       "      <th>3624</th>\n",
       "      <td>e8</td>\n",
       "      <td>12.0</td>\n",
       "    </tr>\n",
       "    <tr>\n",
       "      <th>3631</th>\n",
       "      <td>e1</td>\n",
       "      <td>3.0</td>\n",
       "    </tr>\n",
       "    <tr>\n",
       "      <th>3638</th>\n",
       "      <td>e8</td>\n",
       "      <td>13.0</td>\n",
       "    </tr>\n",
       "    <tr>\n",
       "      <th>3646</th>\n",
       "      <td>e2</td>\n",
       "      <td>2.0</td>\n",
       "    </tr>\n",
       "    <tr>\n",
       "      <th>3659</th>\n",
       "      <td>e1</td>\n",
       "      <td>1.0</td>\n",
       "    </tr>\n",
       "    <tr>\n",
       "      <th>3660</th>\n",
       "      <td>e2</td>\n",
       "      <td>1.0</td>\n",
       "    </tr>\n",
       "    <tr>\n",
       "      <th>3661</th>\n",
       "      <td>e3</td>\n",
       "      <td>1.0</td>\n",
       "    </tr>\n",
       "    <tr>\n",
       "      <th>3662</th>\n",
       "      <td>e4</td>\n",
       "      <td>1.0</td>\n",
       "    </tr>\n",
       "    <tr>\n",
       "      <th>3663</th>\n",
       "      <td>e5</td>\n",
       "      <td>1.0</td>\n",
       "    </tr>\n",
       "    <tr>\n",
       "      <th>3664</th>\n",
       "      <td>e6</td>\n",
       "      <td>1.0</td>\n",
       "    </tr>\n",
       "    <tr>\n",
       "      <th>3674</th>\n",
       "      <td>e2</td>\n",
       "      <td>1.0</td>\n",
       "    </tr>\n",
       "    <tr>\n",
       "      <th>3675</th>\n",
       "      <td>e3</td>\n",
       "      <td>1.0</td>\n",
       "    </tr>\n",
       "    <tr>\n",
       "      <th>3677</th>\n",
       "      <td>e5</td>\n",
       "      <td>1.0</td>\n",
       "    </tr>\n",
       "    <tr>\n",
       "      <th>3680</th>\n",
       "      <td>e8</td>\n",
       "      <td>1.0</td>\n",
       "    </tr>\n",
       "    <tr>\n",
       "      <th>3681</th>\n",
       "      <td>e9</td>\n",
       "      <td>1.0</td>\n",
       "    </tr>\n",
       "    <tr>\n",
       "      <th>3687</th>\n",
       "      <td>e1</td>\n",
       "      <td>1.0</td>\n",
       "    </tr>\n",
       "    <tr>\n",
       "      <th>3688</th>\n",
       "      <td>e2</td>\n",
       "      <td>1.0</td>\n",
       "    </tr>\n",
       "    <tr>\n",
       "      <th>3701</th>\n",
       "      <td>e1</td>\n",
       "      <td>1.0</td>\n",
       "    </tr>\n",
       "    <tr>\n",
       "      <th>3702</th>\n",
       "      <td>e2</td>\n",
       "      <td>1.0</td>\n",
       "    </tr>\n",
       "    <tr>\n",
       "      <th>3703</th>\n",
       "      <td>e3</td>\n",
       "      <td>1.0</td>\n",
       "    </tr>\n",
       "    <tr>\n",
       "      <th>3704</th>\n",
       "      <td>e4</td>\n",
       "      <td>1.0</td>\n",
       "    </tr>\n",
       "    <tr>\n",
       "      <th>3705</th>\n",
       "      <td>e5</td>\n",
       "      <td>1.0</td>\n",
       "    </tr>\n",
       "    <tr>\n",
       "      <th>3706</th>\n",
       "      <td>e6</td>\n",
       "      <td>1.0</td>\n",
       "    </tr>\n",
       "    <tr>\n",
       "      <th>3707</th>\n",
       "      <td>e7</td>\n",
       "      <td>1.0</td>\n",
       "    </tr>\n",
       "    <tr>\n",
       "      <th>3708</th>\n",
       "      <td>e8</td>\n",
       "      <td>1.0</td>\n",
       "    </tr>\n",
       "    <tr>\n",
       "      <th>3709</th>\n",
       "      <td>e9</td>\n",
       "      <td>1.0</td>\n",
       "    </tr>\n",
       "    <tr>\n",
       "      <th>3764</th>\n",
       "      <td>e8</td>\n",
       "      <td>2.0</td>\n",
       "    </tr>\n",
       "  </tbody>\n",
       "</table>\n",
       "<p>172 rows × 2 columns</p>\n",
       "</div>"
      ],
      "text/plain": [
       "                             fields__oSets__oPoints__observations__|  \\\n",
       "Worksheet Name Worksheet Row                                           \n",
       "Erl            90                                                 e2   \n",
       "               94                                                 e6   \n",
       "               96                                                 e8   \n",
       "               104                                                e2   \n",
       "               110                                                e8   \n",
       "               118                                                e2   \n",
       "               132                                                e2   \n",
       "               136                                                e6   \n",
       "               145                                                e1   \n",
       "               152                                                e8   \n",
       "               160                                                e2   \n",
       "               166                                                e8   \n",
       "               502                                                e8   \n",
       "               509                                                e1   \n",
       "               544                                                e8   \n",
       "               558                                                e8   \n",
       "               572                                                e8   \n",
       "               586                                                e8   \n",
       "               587                                                e9   \n",
       "               593                                                e1   \n",
       "               600                                                e8   \n",
       "               601                                                e9   \n",
       "               614                                                e8   \n",
       "               621                                                e1   \n",
       "               628                                                e8   \n",
       "               629                                                e9   \n",
       "               642                                                e8   \n",
       "               643                                                e9   \n",
       "               651                                                e3   \n",
       "               656                                                e8   \n",
       "...                                                              ...   \n",
       "Tyler          3589                                               e1   \n",
       "               3596                                               e8   \n",
       "               3610                                               e8   \n",
       "               3624                                               e8   \n",
       "               3631                                               e1   \n",
       "               3638                                               e8   \n",
       "               3646                                               e2   \n",
       "               3659                                               e1   \n",
       "               3660                                               e2   \n",
       "               3661                                               e3   \n",
       "               3662                                               e4   \n",
       "               3663                                               e5   \n",
       "               3664                                               e6   \n",
       "               3674                                               e2   \n",
       "               3675                                               e3   \n",
       "               3677                                               e5   \n",
       "               3680                                               e8   \n",
       "               3681                                               e9   \n",
       "               3687                                               e1   \n",
       "               3688                                               e2   \n",
       "               3701                                               e1   \n",
       "               3702                                               e2   \n",
       "               3703                                               e3   \n",
       "               3704                                               e4   \n",
       "               3705                                               e5   \n",
       "               3706                                               e6   \n",
       "               3707                                               e7   \n",
       "               3708                                               e8   \n",
       "               3709                                               e9   \n",
       "               3764                                               e8   \n",
       "\n",
       "                              fields__oSets__oPoints__observations__|__number  \n",
       "Worksheet Name Worksheet Row                                                   \n",
       "Erl            90                                                         5.0  \n",
       "               94                                                         1.0  \n",
       "               96                                                         2.0  \n",
       "               104                                                        5.0  \n",
       "               110                                                        1.0  \n",
       "               118                                                        4.0  \n",
       "               132                                                        2.0  \n",
       "               136                                                        1.0  \n",
       "               145                                                        1.0  \n",
       "               152                                                        1.0  \n",
       "               160                                                        1.0  \n",
       "               166                                                        1.0  \n",
       "               502                                                        2.0  \n",
       "               509                                                        1.0  \n",
       "               544                                                        1.0  \n",
       "               558                                                        2.0  \n",
       "               572                                                        7.0  \n",
       "               586                                                        6.0  \n",
       "               587                                                        3.0  \n",
       "               593                                                        1.0  \n",
       "               600                                                        4.0  \n",
       "               601                                                        2.0  \n",
       "               614                                                       11.0  \n",
       "               621                                                        1.0  \n",
       "               628                                                       20.0  \n",
       "               629                                                        2.0  \n",
       "               642                                                       28.0  \n",
       "               643                                                        2.0  \n",
       "               651                                                        1.0  \n",
       "               656                                                        9.0  \n",
       "...                                                                       ...  \n",
       "Tyler          3589                                                       1.0  \n",
       "               3596                                                      11.0  \n",
       "               3610                                                       1.0  \n",
       "               3624                                                      12.0  \n",
       "               3631                                                       3.0  \n",
       "               3638                                                      13.0  \n",
       "               3646                                                       2.0  \n",
       "               3659                                                       1.0  \n",
       "               3660                                                       1.0  \n",
       "               3661                                                       1.0  \n",
       "               3662                                                       1.0  \n",
       "               3663                                                       1.0  \n",
       "               3664                                                       1.0  \n",
       "               3674                                                       1.0  \n",
       "               3675                                                       1.0  \n",
       "               3677                                                       1.0  \n",
       "               3680                                                       1.0  \n",
       "               3681                                                       1.0  \n",
       "               3687                                                       1.0  \n",
       "               3688                                                       1.0  \n",
       "               3701                                                       1.0  \n",
       "               3702                                                       1.0  \n",
       "               3703                                                       1.0  \n",
       "               3704                                                       1.0  \n",
       "               3705                                                       1.0  \n",
       "               3706                                                       1.0  \n",
       "               3707                                                       1.0  \n",
       "               3708                                                       1.0  \n",
       "               3709                                                       1.0  \n",
       "               3764                                                       2.0  \n",
       "\n",
       "[172 rows x 2 columns]"
      ]
     },
     "execution_count": 184,
     "metadata": {},
     "output_type": "execute_result"
    }
   ],
   "source": [
    "get_descendant_frame(observations_ext_node, data)[observations_ext_node['number'][DATA].notnull()]"
   ]
  },
  {
   "cell_type": "markdown",
   "metadata": {},
   "source": [
    "In corresponding order, the values for each observation count are listed in the sibling column, `observations__|__number`. When missing, the value is to be interpreted as `0`."
   ]
  },
  {
   "cell_type": "markdown",
   "metadata": {
    "cell_style": "center"
   },
   "source": [
    "All possible values of `|`, which represent the identities of the natural enemies:"
   ]
  },
  {
   "cell_type": "code",
   "execution_count": 185,
   "metadata": {
    "ExecuteTime": {
     "end_time": "2018-04-17T19:35:45.565533Z",
     "start_time": "2018-04-17T19:35:45.534832Z"
    }
   },
   "outputs": [
    {
     "data": {
      "text/plain": [
       "['e1', 'e2', 'e3', 'e4', 'e5', 'e6', 'e7', 'e8', 'e9']"
      ]
     },
     "execution_count": 185,
     "metadata": {},
     "output_type": "execute_result"
    }
   ],
   "source": [
    "natural_enemy_identifiers = list(observations_ext_node[DATA].dropna().unique())\n",
    "natural_enemy_identifiers"
   ]
  },
  {
   "cell_type": "markdown",
   "metadata": {},
   "source": [
    "This range of labels and the associated values for each could be transposed into the overall column structure, making a homogeneous observation frame."
   ]
  },
  {
   "cell_type": "markdown",
   "metadata": {},
   "source": [
    "###### Natural enemy identifiers:"
   ]
  },
  {
   "cell_type": "code",
   "execution_count": 186,
   "metadata": {},
   "outputs": [],
   "source": [
    "natural_enemy_names = [\n",
    "    \"C-7 adult\",\n",
    "    \"C-7 larva\",\n",
    "    \"C-13 adult\",\n",
    "    \"C-13 larva\",\n",
    "    \"Green lacewing larva\",\n",
    "    \"Damsel bug adult\",\n",
    "    \"Minute pirate bug adult\",\n",
    "    \"Aphid mummy (brown)\",\n",
    "    \"Aphid mummy (black)\",\n",
    "]"
   ]
  },
  {
   "cell_type": "code",
   "execution_count": 187,
   "metadata": {},
   "outputs": [
    {
     "data": {
      "text/html": [
       "<div>\n",
       "<style scoped>\n",
       "    .dataframe tbody tr th:only-of-type {\n",
       "        vertical-align: middle;\n",
       "    }\n",
       "\n",
       "    .dataframe tbody tr th {\n",
       "        vertical-align: top;\n",
       "    }\n",
       "\n",
       "    .dataframe thead th {\n",
       "        text-align: right;\n",
       "    }\n",
       "</style>\n",
       "<table border=\"1\" class=\"dataframe\">\n",
       "  <thead>\n",
       "    <tr style=\"text-align: right;\">\n",
       "      <th></th>\n",
       "      <th>0</th>\n",
       "    </tr>\n",
       "  </thead>\n",
       "  <tbody>\n",
       "    <tr>\n",
       "      <th>e1</th>\n",
       "      <td>C-7 adult</td>\n",
       "    </tr>\n",
       "    <tr>\n",
       "      <th>e2</th>\n",
       "      <td>C-7 larva</td>\n",
       "    </tr>\n",
       "    <tr>\n",
       "      <th>e3</th>\n",
       "      <td>C-13 adult</td>\n",
       "    </tr>\n",
       "    <tr>\n",
       "      <th>e4</th>\n",
       "      <td>C-13 larva</td>\n",
       "    </tr>\n",
       "    <tr>\n",
       "      <th>e5</th>\n",
       "      <td>Green lacewing larva</td>\n",
       "    </tr>\n",
       "    <tr>\n",
       "      <th>e6</th>\n",
       "      <td>Damsel bug adult</td>\n",
       "    </tr>\n",
       "    <tr>\n",
       "      <th>e7</th>\n",
       "      <td>Minute pirate bug adult</td>\n",
       "    </tr>\n",
       "    <tr>\n",
       "      <th>e8</th>\n",
       "      <td>Aphid mummy (brown)</td>\n",
       "    </tr>\n",
       "    <tr>\n",
       "      <th>e9</th>\n",
       "      <td>Aphid mummy (black)</td>\n",
       "    </tr>\n",
       "  </tbody>\n",
       "</table>\n",
       "</div>"
      ],
      "text/plain": [
       "                          0\n",
       "e1                C-7 adult\n",
       "e2                C-7 larva\n",
       "e3               C-13 adult\n",
       "e4               C-13 larva\n",
       "e5     Green lacewing larva\n",
       "e6         Damsel bug adult\n",
       "e7  Minute pirate bug adult\n",
       "e8      Aphid mummy (brown)\n",
       "e9      Aphid mummy (black)"
      ]
     },
     "execution_count": 187,
     "metadata": {},
     "output_type": "execute_result"
    }
   ],
   "source": [
    "pandas.DataFrame(data=[natural_enemy_names],\n",
    "                 columns=natural_enemy_identifiers).T"
   ]
  },
  {
   "cell_type": "markdown",
   "metadata": {
    "heading_collapsed": true
   },
   "source": [
    "## Section: `clients`"
   ]
  },
  {
   "cell_type": "code",
   "execution_count": 188,
   "metadata": {
    "ExecuteTime": {
     "end_time": "2018-04-17T19:35:35.023838Z",
     "start_time": "2018-04-17T19:35:35.000302Z"
    },
    "hidden": true,
    "init_cell": true,
    "scrolled": true
   },
   "outputs": [
    {
     "data": {
      "text/html": [
       "<h5>Child Series</h5>"
      ],
      "text/plain": [
       "<IPython.core.display.HTML object>"
      ]
     },
     "metadata": {},
     "output_type": "display_data"
    },
    {
     "data": {
      "text/html": [
       "<div>\n",
       "<style scoped>\n",
       "    .dataframe tbody tr th:only-of-type {\n",
       "        vertical-align: middle;\n",
       "    }\n",
       "\n",
       "    .dataframe tbody tr th {\n",
       "        vertical-align: top;\n",
       "    }\n",
       "\n",
       "    .dataframe thead th {\n",
       "        text-align: right;\n",
       "    }\n",
       "</style>\n",
       "<table border=\"1\" class=\"dataframe\">\n",
       "  <thead>\n",
       "    <tr style=\"text-align: right;\">\n",
       "      <th></th>\n",
       "      <th>count</th>\n",
       "      <th>unique</th>\n",
       "      <th>top</th>\n",
       "      <th>freq</th>\n",
       "    </tr>\n",
       "  </thead>\n",
       "  <tbody>\n",
       "    <tr>\n",
       "      <th>clients__company</th>\n",
       "      <td>1</td>\n",
       "      <td>1</td>\n",
       "      <td>AAFC SRDC</td>\n",
       "      <td>1</td>\n",
       "    </tr>\n",
       "    <tr>\n",
       "      <th>clients__displayText</th>\n",
       "      <td>1</td>\n",
       "      <td>1</td>\n",
       "      <td>AAFC SRDC, Tyler Wist</td>\n",
       "      <td>1</td>\n",
       "    </tr>\n",
       "    <tr>\n",
       "      <th>clients__fname</th>\n",
       "      <td>1</td>\n",
       "      <td>1</td>\n",
       "      <td>Tyler</td>\n",
       "      <td>1</td>\n",
       "    </tr>\n",
       "    <tr>\n",
       "      <th>clients__lname</th>\n",
       "      <td>1</td>\n",
       "      <td>1</td>\n",
       "      <td>Wist</td>\n",
       "      <td>1</td>\n",
       "    </tr>\n",
       "    <tr>\n",
       "      <th>clients__name</th>\n",
       "      <td>1</td>\n",
       "      <td>1</td>\n",
       "      <td>Tyler Wist</td>\n",
       "      <td>1</td>\n",
       "    </tr>\n",
       "  </tbody>\n",
       "</table>\n",
       "</div>"
      ],
      "text/plain": [
       "                     count unique                    top freq\n",
       "clients__company         1      1              AAFC SRDC    1\n",
       "clients__displayText     1      1  AAFC SRDC, Tyler Wist    1\n",
       "clients__fname           1      1                  Tyler    1\n",
       "clients__lname           1      1                   Wist    1\n",
       "clients__name            1      1             Tyler Wist    1"
      ]
     },
     "metadata": {},
     "output_type": "display_data"
    }
   ],
   "source": [
    "clients_node = columns['clients']\n",
    "summarize_node(clients_node)"
   ]
  },
  {
   "cell_type": "markdown",
   "metadata": {
    "heading_collapsed": true,
    "hidden": true
   },
   "source": [
    "### Relationship"
   ]
  },
  {
   "cell_type": "markdown",
   "metadata": {
    "hidden": true
   },
   "source": [
    "Against `fields` and subsections:\n",
    "\n",
    "- ancillary\n",
    "- independant"
   ]
  },
  {
   "cell_type": "markdown",
   "metadata": {
    "hidden": true
   },
   "source": [
    "My understanding of this record set is that the app uses it as a source of possible values to offer as options when choosing a client for another record. `fields` seems to have these values copied to it, case by case.\n",
    "\n",
    "For scientific analysis, these records can be safely ignored, because they will be present elsewhere in a more specific context, if applicable."
   ]
  },
  {
   "cell_type": "markdown",
   "metadata": {
    "heading_collapsed": true,
    "hidden": true
   },
   "source": [
    "### Information"
   ]
  },
  {
   "cell_type": "markdown",
   "metadata": {
    "hidden": true
   },
   "source": [
    "These appear to be calculated records:\n",
    "\n",
    "- `clients__name`\n",
    "- `clients__displayText`\n",
    "\n",
    "Specifically, they are the product of string concatenation from these fields:\n",
    "\n",
    "- `clients__company`\n",
    "- `clients__fname`\n",
    "- `clients__lname`"
   ]
  },
  {
   "cell_type": "markdown",
   "metadata": {
    "heading_collapsed": true
   },
   "source": [
    "## Section: `observers`"
   ]
  },
  {
   "cell_type": "code",
   "execution_count": 189,
   "metadata": {
    "ExecuteTime": {
     "end_time": "2018-04-17T19:35:35.919189Z",
     "start_time": "2018-04-17T19:35:35.890849Z"
    },
    "hidden": true,
    "init_cell": true
   },
   "outputs": [
    {
     "data": {
      "text/html": [
       "<h5>Series</h5>"
      ],
      "text/plain": [
       "<IPython.core.display.HTML object>"
      ]
     },
     "metadata": {},
     "output_type": "display_data"
    },
    {
     "data": {
      "text/html": [
       "<div>\n",
       "<style scoped>\n",
       "    .dataframe tbody tr th:only-of-type {\n",
       "        vertical-align: middle;\n",
       "    }\n",
       "\n",
       "    .dataframe tbody tr th {\n",
       "        vertical-align: top;\n",
       "    }\n",
       "\n",
       "    .dataframe thead th {\n",
       "        text-align: right;\n",
       "    }\n",
       "</style>\n",
       "<table border=\"1\" class=\"dataframe\">\n",
       "  <thead>\n",
       "    <tr style=\"text-align: right;\">\n",
       "      <th></th>\n",
       "      <th>count</th>\n",
       "      <th>unique</th>\n",
       "      <th>top</th>\n",
       "      <th>freq</th>\n",
       "    </tr>\n",
       "  </thead>\n",
       "  <tbody>\n",
       "    <tr>\n",
       "      <th>observers</th>\n",
       "      <td>3</td>\n",
       "      <td>3</td>\n",
       "      <td>Stean</td>\n",
       "      <td>1</td>\n",
       "    </tr>\n",
       "  </tbody>\n",
       "</table>\n",
       "</div>"
      ],
      "text/plain": [
       "          count unique    top freq\n",
       "observers     3      3  Stean    1"
      ]
     },
     "metadata": {},
     "output_type": "display_data"
    }
   ],
   "source": [
    "observers_node = columns['observers']\n",
    "summarize_node(observers_node)"
   ]
  },
  {
   "cell_type": "markdown",
   "metadata": {
    "heading_collapsed": true,
    "hidden": true
   },
   "source": [
    "### Relationship"
   ]
  },
  {
   "cell_type": "markdown",
   "metadata": {
    "hidden": true
   },
   "source": [
    "Against `oSets` and subsections:\n",
    "\n",
    "- ancillary\n",
    "- independant\n",
    "\n",
    "Values in this record are presented by the app as options for choosing an observer name to copy to `fields__oSets__obsName`, at the time of starting an observation set."
   ]
  },
  {
   "cell_type": "markdown",
   "metadata": {
    "heading_collapsed": true,
    "hidden": true
   },
   "source": [
    "### Information"
   ]
  },
  {
   "cell_type": "markdown",
   "metadata": {
    "hidden": true
   },
   "source": [
    "The field stores arbitrary text. There is no separation of first name and last name."
   ]
  }
 ],
 "metadata": {
  "celltoolbar": "Tags",
  "gist": {
   "data": {
    "description": "chunked parsing — 2017 CAM data from iPads.ipynb",
    "public": false
   },
   "id": ""
  },
  "hide_input": false,
  "kernelspec": {
   "display_name": "Python 3",
   "language": "python",
   "name": "python3"
  },
  "language_info": {
   "codemirror_mode": {
    "name": "ipython",
    "version": 3
   },
   "file_extension": ".py",
   "mimetype": "text/x-python",
   "name": "python",
   "nbconvert_exporter": "python",
   "pygments_lexer": "ipython3",
   "version": "3.6.3"
  },
  "nbTranslate": {
   "displayLangs": [
    "*"
   ],
   "hotkey": "alt-t",
   "langInMainMenu": true,
   "sourceLang": "en",
   "targetLang": "fr",
   "useGoogleTranslate": true
  },
  "toc": {
   "base_numbering": "1",
   "nav_menu": {
    "height": "774px",
    "width": "487px"
   },
   "number_sections": true,
   "sideBar": true,
   "skip_h1_title": false,
   "title_cell": "Table of Contents",
   "title_sidebar": "Contents",
   "toc_cell": true,
   "toc_position": {
    "height": "588px",
    "left": "79px",
    "top": "185px",
    "width": "341px"
   },
   "toc_section_display": true,
   "toc_window_display": true
  },
  "varInspector": {
   "cols": {
    "lenName": 16,
    "lenType": 16,
    "lenVar": 40
   },
   "kernels_config": {
    "python": {
     "delete_cmd_postfix": "",
     "delete_cmd_prefix": "del ",
     "library": "var_list.py",
     "varRefreshCmd": "print(var_dic_list())"
    },
    "r": {
     "delete_cmd_postfix": ") ",
     "delete_cmd_prefix": "rm(",
     "library": "var_list.r",
     "varRefreshCmd": "cat(var_dic_list()) "
    }
   },
   "types_to_exclude": [
    "module",
    "function",
    "builtin_function_or_method",
    "instance",
    "_Feature"
   ],
   "window_display": false
  }
 },
 "nbformat": 4,
 "nbformat_minor": 2
}
