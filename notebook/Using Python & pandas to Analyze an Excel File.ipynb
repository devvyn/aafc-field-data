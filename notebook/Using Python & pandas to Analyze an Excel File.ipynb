{
 "cells": [
  {
   "cell_type": "markdown",
   "metadata": {
    "slideshow": {
     "slide_type": "skip"
    },
    "toc": true
   },
   "source": [
    "<h1>Table of Contents<span class=\"tocSkip\"></span></h1>\n",
    "<div class=\"toc\"><ul class=\"toc-item\"><li><span><a href=\"#Document-Source\" data-toc-modified-id=\"Document-Source-1\"><span class=\"toc-item-num\">1&nbsp;&nbsp;</span>Document Source</a></span></li><li><span><a href=\"#Objectives\" data-toc-modified-id=\"Objectives-2\"><span class=\"toc-item-num\">2&nbsp;&nbsp;</span>Objectives</a></span></li><li><span><a href=\"#Tools-&amp;-Concepts\" data-toc-modified-id=\"Tools-&amp;-Concepts-3\"><span class=\"toc-item-num\">3&nbsp;&nbsp;</span>Tools &amp; Concepts</a></span><ul class=\"toc-item\"><li><span><a href=\"#Jupyter\" data-toc-modified-id=\"Jupyter-3.1\"><span class=\"toc-item-num\">3.1&nbsp;&nbsp;</span>Jupyter</a></span><ul class=\"toc-item\"><li><span><a href=\"#@todo:-image,-link,-quoted-description\" data-toc-modified-id=\"@todo:-image,-link,-quoted-description-3.1.1\"><span class=\"toc-item-num\">3.1.1&nbsp;&nbsp;</span>@todo: image, link, quoted description</a></span></li><li><span><a href=\"#Setup\" data-toc-modified-id=\"Setup-3.1.2\"><span class=\"toc-item-num\">3.1.2&nbsp;&nbsp;</span>Setup</a></span><ul class=\"toc-item\"><li><span><a href=\"#Displaying-results-in-the-notebook\" data-toc-modified-id=\"Displaying-results-in-the-notebook-3.1.2.1\"><span class=\"toc-item-num\">3.1.2.1&nbsp;&nbsp;</span>Displaying results in the notebook</a></span></li><li><span><a href=\"#DIY-Helpers\" data-toc-modified-id=\"DIY-Helpers-3.1.2.2\"><span class=\"toc-item-num\">3.1.2.2&nbsp;&nbsp;</span>DIY Helpers</a></span></li><li><span><a href=\"#Reading-Excel-files,-processing-data\" data-toc-modified-id=\"Reading-Excel-files,-processing-data-3.1.2.3\"><span class=\"toc-item-num\">3.1.2.3&nbsp;&nbsp;</span>Reading Excel files, processing data</a></span></li></ul></li></ul></li><li><span><a href=\"#Python-Data-Structures\" data-toc-modified-id=\"Python-Data-Structures-3.2\"><span class=\"toc-item-num\">3.2&nbsp;&nbsp;</span>Python Data Structures</a></span><ul class=\"toc-item\"><li><span><a href=\"#Lists-&amp;-tuples\" data-toc-modified-id=\"Lists-&amp;-tuples-3.2.1\"><span class=\"toc-item-num\">3.2.1&nbsp;&nbsp;</span>Lists &amp; tuples</a></span><ul class=\"toc-item\"><li><span><a href=\"#Basic-definition-and-access\" data-toc-modified-id=\"Basic-definition-and-access-3.2.1.1\"><span class=\"toc-item-num\">3.2.1.1&nbsp;&nbsp;</span>Basic definition and access</a></span></li><li><span><a href=\"#Slice-Sequences\" data-toc-modified-id=\"Slice-Sequences-3.2.1.2\"><span class=\"toc-item-num\">3.2.1.2&nbsp;&nbsp;</span>Slice Sequences</a></span></li><li><span><a href=\"#Access-a-list-with-for\" data-toc-modified-id=\"Access-a-list-with-for-3.2.1.3\"><span class=\"toc-item-num\">3.2.1.3&nbsp;&nbsp;</span>Access a <code>list</code> with <code>for</code></a></span></li><li><span><a href=\"#Define-a-list-with-for\" data-toc-modified-id=\"Define-a-list-with-for-3.2.1.4\"><span class=\"toc-item-num\">3.2.1.4&nbsp;&nbsp;</span>Define a <code>list</code> with <code>for</code></a></span></li><li><span><a href=\"#Filter-a-list-with-if\" data-toc-modified-id=\"Filter-a-list-with-if-3.2.1.5\"><span class=\"toc-item-num\">3.2.1.5&nbsp;&nbsp;</span>Filter a list with <code>if</code></a></span></li></ul></li><li><span><a href=\"#Sets\" data-toc-modified-id=\"Sets-3.2.2\"><span class=\"toc-item-num\">3.2.2&nbsp;&nbsp;</span>Sets</a></span><ul class=\"toc-item\"><li><span><a href=\"#Basic-definition-and-access\" data-toc-modified-id=\"Basic-definition-and-access-3.2.2.1\"><span class=\"toc-item-num\">3.2.2.1&nbsp;&nbsp;</span>Basic definition and access</a></span></li><li><span><a href=\"#Set-Theory-Operations\" data-toc-modified-id=\"Set-Theory-Operations-3.2.2.2\"><span class=\"toc-item-num\">3.2.2.2&nbsp;&nbsp;</span>Set Theory Operations</a></span></li></ul></li><li><span><a href=\"#Dictionaries\" data-toc-modified-id=\"Dictionaries-3.2.3\"><span class=\"toc-item-num\">3.2.3&nbsp;&nbsp;</span>Dictionaries</a></span><ul class=\"toc-item\"><li><span><a href=\"#Basic-definition-and-access\" data-toc-modified-id=\"Basic-definition-and-access-3.2.3.1\"><span class=\"toc-item-num\">3.2.3.1&nbsp;&nbsp;</span>Basic definition and access</a></span></li><li><span><a href=\"#Using-for-to-access-a-dict\" data-toc-modified-id=\"Using-for-to-access-a-dict-3.2.3.2\"><span class=\"toc-item-num\">3.2.3.2&nbsp;&nbsp;</span>Using <code>for</code> to access a <code>dict</code></a></span></li><li><span><a href=\"#Using-for-to-define-a-dict\" data-toc-modified-id=\"Using-for-to-define-a-dict-3.2.3.3\"><span class=\"toc-item-num\">3.2.3.3&nbsp;&nbsp;</span>Using <code>for</code> to define a <code>dict</code></a></span></li><li><span><a href=\"#defaultdict:-an-Agreeable-Dictionary\" data-toc-modified-id=\"defaultdict:-an-Agreeable-Dictionary-3.2.3.4\"><span class=\"toc-item-num\">3.2.3.4&nbsp;&nbsp;</span><code>defaultdict</code>: an Agreeable Dictionary</a></span></li></ul></li></ul></li><li><span><a href=\"#pandas\" data-toc-modified-id=\"pandas-3.3\"><span class=\"toc-item-num\">3.3&nbsp;&nbsp;</span><em>pandas</em></a></span></li></ul></li><li><span><a href=\"#The-Excel-Workbook:-2017-CAM-data-from-iPads.xlxs\" data-toc-modified-id=\"The-Excel-Workbook:-2017-CAM-data-from-iPads.xlxs-4\"><span class=\"toc-item-num\">4&nbsp;&nbsp;</span>The Excel Workbook: <code>2017 CAM data from iPads.xlxs</code></a></span><ul class=\"toc-item\"><li><span><a href=\"#Opening-an-Excel-File-with-pandas\" data-toc-modified-id=\"Opening-an-Excel-File-with-pandas-4.1\"><span class=\"toc-item-num\">4.1&nbsp;&nbsp;</span>Opening an Excel File with <em>pandas</em></a></span></li><li><span><a href=\"#Worksheets-in-the-File,-as-DataFrames\" data-toc-modified-id=\"Worksheets-in-the-File,-as-DataFrames-4.2\"><span class=\"toc-item-num\">4.2&nbsp;&nbsp;</span>Worksheets in the File, as DataFrames</a></span></li><li><span><a href=\"#Goal:-Unifying-the-DataFrames\" data-toc-modified-id=\"Goal:-Unifying-the-DataFrames-4.3\"><span class=\"toc-item-num\">4.3&nbsp;&nbsp;</span>Goal: Unifying the DataFrames</a></span><ul class=\"toc-item\"><li><span><a href=\"#pandas-functions-for-merging-DataFrames\" data-toc-modified-id=\"pandas-functions-for-merging-DataFrames-4.3.1\"><span class=\"toc-item-num\">4.3.1&nbsp;&nbsp;</span><em>pandas</em> functions for merging DataFrames</a></span></li><li><span><a href=\"#Column-Name-Difference\" data-toc-modified-id=\"Column-Name-Difference-4.3.2\"><span class=\"toc-item-num\">4.3.2&nbsp;&nbsp;</span>Column Name Difference</a></span><ul class=\"toc-item\"><li><span><a href=\"#Visualize-the-Difference\" data-toc-modified-id=\"Visualize-the-Difference-4.3.2.1\"><span class=\"toc-item-num\">4.3.2.1&nbsp;&nbsp;</span>Visualize the Difference</a></span></li><li><span><a href=\"#How-shall-we-solve-the-name-mismatch?\" data-toc-modified-id=\"How-shall-we-solve-the-name-mismatch?-4.3.2.2\"><span class=\"toc-item-num\">4.3.2.2&nbsp;&nbsp;</span>How shall we solve the name mismatch?</a></span></li><li><span><a href=\"#Where-should-we-rename-the-columns?\" data-toc-modified-id=\"Where-should-we-rename-the-columns?-4.3.2.3\"><span class=\"toc-item-num\">4.3.2.3&nbsp;&nbsp;</span>Where should we rename the columns?</a></span></li><li><span><a href=\"#Renaming-axis-labels-(columns-or-rows)-with-pandas\" data-toc-modified-id=\"Renaming-axis-labels-(columns-or-rows)-with-pandas-4.3.2.4\"><span class=\"toc-item-num\">4.3.2.4&nbsp;&nbsp;</span>Renaming axis labels (columns or rows) with <em>pandas</em></a></span></li></ul></li><li><span><a href=\"#Finally-Uniting-Our-(Properly-Labeled)-DataFrames\" data-toc-modified-id=\"Finally-Uniting-Our-(Properly-Labeled)-DataFrames-4.3.3\"><span class=\"toc-item-num\">4.3.3&nbsp;&nbsp;</span>Finally Uniting Our (Properly Labeled) DataFrames</a></span></li></ul></li><li><span><a href=\"#Goal:-Map-the-Column-Relationships\" data-toc-modified-id=\"Goal:-Map-the-Column-Relationships-4.4\"><span class=\"toc-item-num\">4.4&nbsp;&nbsp;</span>Goal: Map the Column Relationships</a></span><ul class=\"toc-item\"><li><span><a href=\"#Indexing-by-Repeated-Words\" data-toc-modified-id=\"Indexing-by-Repeated-Words-4.4.1\"><span class=\"toc-item-num\">4.4.1&nbsp;&nbsp;</span>Indexing by Repeated Words</a></span></li><li><span><a href=\"#Split-the-Column-Names\" data-toc-modified-id=\"Split-the-Column-Names-4.4.2\"><span class=\"toc-item-num\">4.4.2&nbsp;&nbsp;</span>Split the Column Names</a></span><ul class=\"toc-item\"><li><span><a href=\"#The-Separator-String\" data-toc-modified-id=\"The-Separator-String-4.4.2.1\"><span class=\"toc-item-num\">4.4.2.1&nbsp;&nbsp;</span>The Separator String</a></span></li><li><span><a href=\"#Resulting-Gain:-Expression-for-Splitting-Column-Names-into-Words\" data-toc-modified-id=\"Resulting-Gain:-Expression-for-Splitting-Column-Names-into-Words-4.4.2.2\"><span class=\"toc-item-num\">4.4.2.2&nbsp;&nbsp;</span>Resulting Gain: Expression for Splitting Column Names into Words</a></span></li></ul></li><li><span><a href=\"#Build-a-Tree-of-Words\" data-toc-modified-id=\"Build-a-Tree-of-Words-4.4.3\"><span class=\"toc-item-num\">4.4.3&nbsp;&nbsp;</span>Build a Tree of Words</a></span><ul class=\"toc-item\"><li><span><a href=\"#Steps\" data-toc-modified-id=\"Steps-4.4.3.1\"><span class=\"toc-item-num\">4.4.3.1&nbsp;&nbsp;</span>Steps</a></span></li><li><span><a href=\"#Define-Function:-split_column_to_tree\" data-toc-modified-id=\"Define-Function:-split_column_to_tree-4.4.3.2\"><span class=\"toc-item-num\">4.4.3.2&nbsp;&nbsp;</span>Define Function: <code>split_column_to_tree</code></a></span></li><li><span><a href=\"#Use-that-Function-in-Another-Function\" data-toc-modified-id=\"Use-that-Function-in-Another-Function-4.4.3.3\"><span class=\"toc-item-num\">4.4.3.3&nbsp;&nbsp;</span>Use that Function in Another Function</a></span></li><li><span><a href=\"#Visualize-the-Tree\" data-toc-modified-id=\"Visualize-the-Tree-4.4.3.4\"><span class=\"toc-item-num\">4.4.3.4&nbsp;&nbsp;</span>Visualize the Tree</a></span></li><li><span><a href=\"#Refer-to-the-Data\" data-toc-modified-id=\"Refer-to-the-Data-4.4.3.5\"><span class=\"toc-item-num\">4.4.3.5&nbsp;&nbsp;</span>Refer to the Data</a></span></li><li><span><a href=\"#Resulting-Gain\" data-toc-modified-id=\"Resulting-Gain-4.4.3.6\"><span class=\"toc-item-num\">4.4.3.6&nbsp;&nbsp;</span>Resulting Gain</a></span></li></ul></li><li><span><a href=\"#Setup-Filters\" data-toc-modified-id=\"Setup-Filters-4.4.4\"><span class=\"toc-item-num\">4.4.4&nbsp;&nbsp;</span>Setup Filters</a></span><ul class=\"toc-item\"><li><span><a href=\"#Define-Functions\" data-toc-modified-id=\"Define-Functions-4.4.4.1\"><span class=\"toc-item-num\">4.4.4.1&nbsp;&nbsp;</span>Define Functions</a></span></li><li><span><a href=\"#Improve-visualize_tree\" data-toc-modified-id=\"Improve-visualize_tree-4.4.4.2\"><span class=\"toc-item-num\">4.4.4.2&nbsp;&nbsp;</span>Improve <code>visualize_tree</code></a></span></li></ul></li></ul></li><li><span><a href=\"#Putting-it-all-together\" data-toc-modified-id=\"Putting-it-all-together-4.5\"><span class=\"toc-item-num\">4.5&nbsp;&nbsp;</span>Putting it all together</a></span><ul class=\"toc-item\"><li><span><a href=\"#Accessing-data-from-any-section-&amp;-ignoring-irrelevant-rows\" data-toc-modified-id=\"Accessing-data-from-any-section-&amp;-ignoring-irrelevant-rows-4.5.1\"><span class=\"toc-item-num\">4.5.1&nbsp;&nbsp;</span>Accessing data from any section &amp; ignoring irrelevant rows</a></span></li><li><span><a href=\"#Drop-Missing-Values\" data-toc-modified-id=\"Drop-Missing-Values-4.5.2\"><span class=\"toc-item-num\">4.5.2&nbsp;&nbsp;</span>Drop Missing Values</a></span></li><li><span><a href=\"#Lookup-by-Condition\" data-toc-modified-id=\"Lookup-by-Condition-4.5.3\"><span class=\"toc-item-num\">4.5.3&nbsp;&nbsp;</span>Lookup by Condition</a></span></li><li><span><a href=\"#Outputting-cleaner-data\" data-toc-modified-id=\"Outputting-cleaner-data-4.5.4\"><span class=\"toc-item-num\">4.5.4&nbsp;&nbsp;</span>Outputting cleaner data</a></span></li><li><span><a href=\"#Analyzing-sections-and-subsections\" data-toc-modified-id=\"Analyzing-sections-and-subsections-4.5.5\"><span class=\"toc-item-num\">4.5.5&nbsp;&nbsp;</span>Analyzing sections and subsections</a></span></li></ul></li></ul></li><li><span><a href=\"#Source-App-Data-Structure\" data-toc-modified-id=\"Source-App-Data-Structure-5\"><span class=\"toc-item-num\">5&nbsp;&nbsp;</span>Source App Data Structure</a></span><ul class=\"toc-item\"><li><span><a href=\"#Section:-clients\" data-toc-modified-id=\"Section:-clients-5.1\"><span class=\"toc-item-num\">5.1&nbsp;&nbsp;</span>Section: <code>clients</code></a></span></li><li><span><a href=\"#Section:-observers\" data-toc-modified-id=\"Section:-observers-5.2\"><span class=\"toc-item-num\">5.2&nbsp;&nbsp;</span>Section: <code>observers</code></a></span></li><li><span><a href=\"#Section:-fields\" data-toc-modified-id=\"Section:-fields-5.3\"><span class=\"toc-item-num\">5.3&nbsp;&nbsp;</span>Section: <code>fields</code></a></span><ul class=\"toc-item\"><li><span><a href=\"#fields-Subsection:-client\" data-toc-modified-id=\"fields-Subsection:-client-5.3.1\"><span class=\"toc-item-num\">5.3.1&nbsp;&nbsp;</span><code>fields</code> Subsection: <code>client</code></a></span></li><li><span><a href=\"#fields-Subsection:-oSets\" data-toc-modified-id=\"fields-Subsection:-oSets-5.3.2\"><span class=\"toc-item-num\">5.3.2&nbsp;&nbsp;</span><code>fields</code> Subsection: <code>oSets</code></a></span></li><li><span><a href=\"#oSets-Subsection:-oPoints\" data-toc-modified-id=\"oSets-Subsection:-oPoints-5.3.3\"><span class=\"toc-item-num\">5.3.3&nbsp;&nbsp;</span><code>oSets</code> Subsection: <code>oPoints</code></a></span><ul class=\"toc-item\"><li><span><a href=\"#oPoints-Subsection:-location\" data-toc-modified-id=\"oPoints-Subsection:-location-5.3.3.1\"><span class=\"toc-item-num\">5.3.3.1&nbsp;&nbsp;</span><code>oPoints</code> Subsection: <code>location</code></a></span></li><li><span><a href=\"#oPoints-Subsection:-observations\" data-toc-modified-id=\"oPoints-Subsection:-observations-5.3.3.2\"><span class=\"toc-item-num\">5.3.3.2&nbsp;&nbsp;</span><code>oPoints</code> Subsection: <code>observations</code></a></span></li></ul></li></ul></li></ul></li></ul></div>"
   ]
  },
  {
   "cell_type": "markdown",
   "metadata": {
    "slideshow": {
     "slide_type": "slide"
    }
   },
   "source": [
    "# Document Source"
   ]
  },
  {
   "cell_type": "markdown",
   "metadata": {
    "slideshow": {
     "slide_type": "subslide"
    }
   },
   "source": [
    "* You may view or download this notebook on [NBViewer], though it won't be interactive.\n",
    "* You may interact with this notebook on [mybinder.org], though changes won't be saved for very long.\n",
    "* The [source] for this notebook is online at GitHub.com, where it can be viewed or downloaded. Instructions on how to use this notebook on your own computer are in the [README].\n",
    "\n",
    "[![Binder](https://mybinder.org/badge.svg)][mybinder.org]\n",
    "\n",
    "[README]: https://github.com/devvyn/aafc-field-data/blob/master/README.md\n",
    "[source]: https://github.com/devvyn/aafc-field-data/blob/master/notebook/Using%20Python%20%26%20pandas%20to%20Analyze%20an%20Excel%20File.ipynb\n",
    "[mybinder.org]: https://mybinder.org/v2/gh/devvyn/aafc-field-data/master?filepath=notebook%2FUsing%20Python%20%26%20pandas%20to%20Analyze%20an%20Excel%20File.ipynb\n",
    "[NBViewer]: https://nbviewer.jupyter.org/github/devvyn/aafc-field-data/blob/master/notebook/Using%20Python%20%26%20pandas%20to%20Analyze%20an%20Excel%20File.ipynb"
   ]
  },
  {
   "cell_type": "markdown",
   "metadata": {
    "slideshow": {
     "slide_type": "slide"
    }
   },
   "source": [
    "# Objectives"
   ]
  },
  {
   "cell_type": "markdown",
   "metadata": {
    "slideshow": {
     "slide_type": "subslide"
    }
   },
   "source": [
    "* Get to know our analytical tools:\n",
    "  - Jupyter Notebook - interactive document editor\n",
    "  - Python - expressive programming language\n",
    "  - _pandas_ - data science framework"
   ]
  },
  {
   "cell_type": "markdown",
   "metadata": {
    "slideshow": {
     "slide_type": "fragment"
    }
   },
   "source": [
    "* Merge two Excel worksheets into one DataFrame"
   ]
  },
  {
   "cell_type": "markdown",
   "metadata": {
    "slideshow": {
     "slide_type": "fragment"
    }
   },
   "source": [
    "* Query the data"
   ]
  },
  {
   "cell_type": "markdown",
   "metadata": {
    "slideshow": {
     "slide_type": "fragment"
    }
   },
   "source": [
    "* Export the query results to Excel"
   ]
  },
  {
   "cell_type": "markdown",
   "metadata": {
    "slideshow": {
     "slide_type": "fragment"
    }
   },
   "source": [
    "* Document all steps, to ensure these results are reproducible"
   ]
  },
  {
   "cell_type": "markdown",
   "metadata": {
    "slideshow": {
     "slide_type": "slide"
    }
   },
   "source": [
    "# Tools & Concepts"
   ]
  },
  {
   "cell_type": "markdown",
   "metadata": {
    "slideshow": {
     "slide_type": "subslide"
    }
   },
   "source": [
    "## Jupyter"
   ]
  },
  {
   "cell_type": "markdown",
   "metadata": {},
   "source": [
    "### @todo: image, link, quoted description"
   ]
  },
  {
   "cell_type": "markdown",
   "metadata": {},
   "source": [
    "- This document was written in a web browser connected to a Jupyter Notebook server.\n",
    "- All the code samples shown were actually run on the server and the output saved in the document."
   ]
  },
  {
   "cell_type": "markdown",
   "metadata": {
    "slideshow": {
     "slide_type": "slide"
    }
   },
   "source": [
    "### Setup"
   ]
  },
  {
   "cell_type": "markdown",
   "metadata": {},
   "source": [
    "To work with the source data, we need to be able to:\n",
    "\n",
    "* open an Excel file\n",
    "* display results of intermediate processing in the notebook\n",
    "* save results to an Excel file\n",
    "\n",
    "Most functions to accomplish our goals have been published already. We only need to import them."
   ]
  },
  {
   "cell_type": "markdown",
   "metadata": {},
   "source": [
    "#### Displaying results in the notebook"
   ]
  },
  {
   "cell_type": "markdown",
   "metadata": {},
   "source": [
    "You can use the regular [`print()`] function in Python, but you'll always get plain text output. [`display()`] can do plain text as well as HTML, images, audio, etc.\n",
    "\n",
    "I found I didn't need to import the [`display()`] method on new versions of Jupyter Notebook, but since the display function for isn't always imported by default in some implementations, and I also want to use `IPython.core.display.HTML()`:\n",
    "\n",
    "[`print()`]: https://docs.python.org/3/library/functions.html#print \n",
    "[`display()`]: http://ipython.readthedocs.io/en/stable/api/generated/IPython.display.html"
   ]
  },
  {
   "cell_type": "code",
   "execution_count": 25,
   "metadata": {
    "ExecuteTime": {
     "end_time": "2018-04-19T18:03:48.451361Z",
     "start_time": "2018-04-19T18:03:48.440920Z"
    },
    "init_cell": true
   },
   "outputs": [],
   "source": [
    "from IPython.core.display import *"
   ]
  },
  {
   "cell_type": "markdown",
   "metadata": {},
   "source": [
    "#### DIY Helpers"
   ]
  },
  {
   "cell_type": "markdown",
   "metadata": {},
   "source": [
    "Here are simple helpers to make headings and other embellishments easy. There are probably libraries already to make HTML tags, but this should suffice, without importing a large library. In general, these methods are unnecessary, but I'll be using them later on in this document to make code output more understandable."
   ]
  },
  {
   "cell_type": "code",
   "execution_count": 26,
   "metadata": {
    "ExecuteTime": {
     "end_time": "2018-04-19T18:03:48.495362Z",
     "start_time": "2018-04-19T18:03:48.465833Z"
    },
    "cell_style": "center",
    "init_cell": true
   },
   "outputs": [],
   "source": [
    "def html_wrap(content, element=\"span\", attributes_str=None):\n",
    "    \"\"\" Convenience method for wrapping any string in any HTML tag. \"\"\"\n",
    "    if attributes_str:\n",
    "        element_open = f\"{element} {attributes_str}\"\n",
    "    else:\n",
    "        element_open = element\n",
    "    return f\"<{element_open}>{content}</{element}>\"\n",
    "\n",
    "\n",
    "def make_heading(content, level=5):\n",
    "    \"\"\" Convenience method for wrapping any string in an HTML header tag. \"\"\"\n",
    "    element = f\"h{level}\"\n",
    "    return html_wrap(content, element)\n",
    "\n",
    "\n",
    "def heading(*args, **kwargs):\n",
    "    \"\"\" Call IPython.core.display.HTML on the results of the make_heading\n",
    "    function, so users don't have to repeatedly do `HTML(heading(…))` \"\"\"\n",
    "    return HTML(make_heading(*args, **kwargs))"
   ]
  },
  {
   "cell_type": "markdown",
   "metadata": {},
   "source": [
    "#### Reading Excel files, processing data"
   ]
  },
  {
   "cell_type": "markdown",
   "metadata": {},
   "source": [
    "[_pandas_] is really good with columnar data, such as the kind of spreadsheets Excel works with. In fact, [_pandas_] has the ability to read and write Excel files, as long as the [`xlrd`] package is installed in Python.\n",
    "\n",
    "The Jupyter server I used for writing this notebook already has [_pandas_] and [`xlrd`], but if you need to install them, you can run this command in a Jupyter Notebook cell, like so:\n",
    "\n",
    "[_pandas_]: https://pandas.pydata.org\n",
    "[`xlrd`]: https://xlrd.readthedocs.io/en/latest/"
   ]
  },
  {
   "cell_type": "code",
   "execution_count": 27,
   "metadata": {
    "ExecuteTime": {
     "start_time": "2018-04-18T20:06:28.766Z"
    },
    "cell_style": "center"
   },
   "outputs": [
    {
     "name": "stdout",
     "output_type": "stream",
     "text": [
      "Requirement already satisfied: xlrd in /srv/venv/lib/python3.6/site-packages\n",
      "Requirement already satisfied: pandas in /srv/venv/lib/python3.6/site-packages\n",
      "Requirement already satisfied: numpy>=1.9.0 in /srv/venv/lib/python3.6/site-packages (from pandas)\n",
      "Requirement already satisfied: pytz>=2011k in /srv/venv/lib/python3.6/site-packages (from pandas)\n",
      "Requirement already satisfied: python-dateutil>=2 in /srv/venv/lib/python3.6/site-packages (from pandas)\n",
      "Requirement already satisfied: six>=1.5 in /srv/venv/lib/python3.6/site-packages (from python-dateutil>=2->pandas)\n"
     ]
    }
   ],
   "source": [
    "# Install xlrd to the Python environment, if it's not already installed.\n",
    "!pip install xlrd pandas"
   ]
  },
  {
   "cell_type": "markdown",
   "metadata": {},
   "source": [
    "Depending on how your Jupyter host is deployed, you may be able to add [`xlrd`] and [`pandas`][_pandas_] to [`requirements.txt`] or [`environment.yml`], as appropriate for your configuration. I [configured] my Jupyter server for use with [repo2docker]. In particular, I used [`requirements.txt`] and [`postBuild`], because even though [Conda] is usually better than [`pip`] at enabling Jupyter extensions, the installer would hang a lot, wasting my time, whenever I used [`environment.yml`].\n",
    "\n",
    "[_pandas_]: https://pandas.pydata.org\n",
    "[`xlrd`]: https://xlrd.readthedocs.io/en/latest/\n",
    "[repo2docker]: http://repo2docker.readthedocs.io/en/latest/index.html\n",
    "[configured]: http://repo2docker.readthedocs.io/en/latest/usage.html#locating-and-composing-configuration-files\n",
    "[`requirements.txt`]: http://repo2docker.readthedocs.io/en/latest/usage.html#requirements-txt\n",
    "[`postBuild`]: http://repo2docker.readthedocs.io/en/latest/usage.html#postbuild\n",
    "[`environment.yml`]: http://repo2docker.readthedocs.io/en/latest/usage.html#environment-yml\n",
    "[Conda]: https://conda.io/docs/\n",
    "[`pip`]: https://pip.pypa.io/en/stable/user_guide/"
   ]
  },
  {
   "cell_type": "code",
   "execution_count": 28,
   "metadata": {
    "ExecuteTime": {
     "end_time": "2018-04-19T18:03:48.929543Z",
     "start_time": "2018-04-19T18:03:48.504663Z"
    },
    "init_cell": true
   },
   "outputs": [],
   "source": [
    "import pandas"
   ]
  },
  {
   "cell_type": "markdown",
   "metadata": {},
   "source": [
    "If you prefer, you can install this from the regular command line shell on your Jupyter host by running the `pip` command without the exclamation mark."
   ]
  },
  {
   "cell_type": "markdown",
   "metadata": {
    "slideshow": {
     "slide_type": "subslide"
    }
   },
   "source": [
    "## Python Data Structures"
   ]
  },
  {
   "cell_type": "markdown",
   "metadata": {},
   "source": [
    "- list\n",
    "- tuple\n",
    "- slicing\n",
    "- expressions:\n",
    "  - for … in\n",
    "  - if\n",
    "- set\n",
    "- dict\n",
    "- defaultdict"
   ]
  },
  {
   "cell_type": "markdown",
   "metadata": {
    "slideshow": {
     "slide_type": "slide"
    }
   },
   "source": [
    "### Lists & tuples"
   ]
  },
  {
   "cell_type": "markdown",
   "metadata": {
    "slideshow": {
     "slide_type": "fragment"
    }
   },
   "source": [
    "A [`list`] in Python is simply a sequence of objects, which can be numbers, text, or anything else. It uses square brackets.\n",
    "\n",
    "```python\n",
    "> my_list = [1, 20, 4004]\n",
    "> my_list[2] = 1001\n",
    "> my_list[2]\n",
    "1001\n",
    "```\n",
    "\n",
    "[`list`]: https://docs.python.org/3/library/stdtypes.html#list"
   ]
  },
  {
   "cell_type": "markdown",
   "metadata": {
    "slideshow": {
     "slide_type": "fragment"
    }
   },
   "source": [
    "A [`tuple`] is almost identical to a `list`, except it can't be edited after it's defined. You define it using round parentheses, instead of square brackets.\n",
    "\n",
    "```python\n",
    "> my_tuple = (1, 20, 4004)\n",
    "> my_tuple[2] = 1001\n",
    "TypeError: 'tuple' object does not support item assignment\n",
    "> my_tuple[2]\n",
    "4004\n",
    "```\n",
    "\n",
    "[`tuple`]: https://docs.python.org/3/library/stdtypes.html#tuples"
   ]
  },
  {
   "cell_type": "markdown",
   "metadata": {
    "slideshow": {
     "slide_type": "skip"
    }
   },
   "source": [
    "#### Basic definition and access"
   ]
  },
  {
   "cell_type": "markdown",
   "metadata": {
    "slideshow": {
     "slide_type": "subslide"
    }
   },
   "source": [
    "##### Define a tuple or list:"
   ]
  },
  {
   "cell_type": "code",
   "execution_count": 29,
   "metadata": {
    "ExecuteTime": {
     "end_time": "2018-04-19T19:12:23.779862Z",
     "start_time": "2018-04-19T19:12:23.773519Z"
    },
    "cell_style": "split",
    "slideshow": {
     "slide_type": "fragment"
    }
   },
   "outputs": [],
   "source": [
    "my_list = [1, 2, 3, \"four\"]\n",
    "\n",
    "a_tiny_list = [8]"
   ]
  },
  {
   "cell_type": "code",
   "execution_count": 30,
   "metadata": {
    "ExecuteTime": {
     "end_time": "2018-04-19T19:43:54.508930Z",
     "start_time": "2018-04-19T19:43:54.498036Z"
    },
    "cell_style": "split",
    "slideshow": {
     "slide_type": "fragment"
    }
   },
   "outputs": [],
   "source": [
    "my_tuple = (1, 2, 3, \"four\", (\"nested 1\", \"nested 2\", a_tiny_list), 30, 0)"
   ]
  },
  {
   "cell_type": "markdown",
   "metadata": {
    "slideshow": {
     "slide_type": "subslide"
    }
   },
   "source": [
    "##### Nested tuples & lists"
   ]
  },
  {
   "cell_type": "code",
   "execution_count": 31,
   "metadata": {
    "ExecuteTime": {
     "end_time": "2018-04-19T19:43:56.193259Z",
     "start_time": "2018-04-19T19:43:56.184624Z"
    },
    "cell_style": "split",
    "slideshow": {
     "slide_type": "fragment"
    }
   },
   "outputs": [],
   "source": [
    "another_list = [my_list, 5, 6, 7, my_tuple]"
   ]
  },
  {
   "cell_type": "code",
   "execution_count": 32,
   "metadata": {
    "ExecuteTime": {
     "end_time": "2018-04-19T19:43:56.815631Z",
     "start_time": "2018-04-19T19:43:56.802048Z"
    },
    "cell_style": "split",
    "slideshow": {
     "slide_type": "fragment"
    }
   },
   "outputs": [
    {
     "data": {
      "text/plain": [
       "[[1, 2, 3, 'four'],\n",
       " 5,\n",
       " 6,\n",
       " 7,\n",
       " (1, 2, 3, 'four', ('nested 1', 'nested 2', [8]), 30, 0)]"
      ]
     },
     "execution_count": 32,
     "metadata": {},
     "output_type": "execute_result"
    }
   ],
   "source": [
    "another_list"
   ]
  },
  {
   "cell_type": "markdown",
   "metadata": {
    "slideshow": {
     "slide_type": "subslide"
    }
   },
   "source": [
    "##### Access items in a `list` or `tuple`:"
   ]
  },
  {
   "cell_type": "markdown",
   "metadata": {
    "slideshow": {
     "slide_type": "fragment"
    }
   },
   "source": [
    "There's an \"item zero\" because 0 is the origin, just like in Cartesian coordinates."
   ]
  },
  {
   "cell_type": "code",
   "execution_count": 33,
   "metadata": {
    "ExecuteTime": {
     "end_time": "2018-04-19T19:44:20.734799Z",
     "start_time": "2018-04-19T19:44:20.725115Z"
    },
    "cell_style": "split",
    "slideshow": {
     "slide_type": "fragment"
    }
   },
   "outputs": [
    {
     "data": {
      "text/plain": [
       "1"
      ]
     },
     "execution_count": 33,
     "metadata": {},
     "output_type": "execute_result"
    }
   ],
   "source": [
    "my_list[0]"
   ]
  },
  {
   "cell_type": "code",
   "execution_count": 34,
   "metadata": {
    "ExecuteTime": {
     "end_time": "2018-04-19T19:44:21.508921Z",
     "start_time": "2018-04-19T19:44:21.497014Z"
    },
    "cell_style": "split",
    "slideshow": {
     "slide_type": "fragment"
    }
   },
   "outputs": [
    {
     "data": {
      "text/plain": [
       "1"
      ]
     },
     "execution_count": 34,
     "metadata": {},
     "output_type": "execute_result"
    }
   ],
   "source": [
    "my_tuple[0]"
   ]
  },
  {
   "cell_type": "markdown",
   "metadata": {
    "slideshow": {
     "slide_type": "subslide"
    }
   },
   "source": [
    "The index sequence continues as you might expect:"
   ]
  },
  {
   "cell_type": "code",
   "execution_count": 35,
   "metadata": {
    "ExecuteTime": {
     "end_time": "2018-04-18T20:05:34.819873Z",
     "start_time": "2018-04-18T20:05:34.805583Z"
    },
    "cell_style": "split",
    "slideshow": {
     "slide_type": "fragment"
    }
   },
   "outputs": [
    {
     "data": {
      "text/plain": [
       "2"
      ]
     },
     "execution_count": 35,
     "metadata": {},
     "output_type": "execute_result"
    }
   ],
   "source": [
    "my_list[1]"
   ]
  },
  {
   "cell_type": "code",
   "execution_count": 36,
   "metadata": {
    "ExecuteTime": {
     "end_time": "2018-04-18T20:05:34.919485Z",
     "start_time": "2018-04-18T20:05:34.903260Z"
    },
    "cell_style": "split",
    "slideshow": {
     "slide_type": "fragment"
    }
   },
   "outputs": [
    {
     "data": {
      "text/plain": [
       "3"
      ]
     },
     "execution_count": 36,
     "metadata": {},
     "output_type": "execute_result"
    }
   ],
   "source": [
    "my_list[2]"
   ]
  },
  {
   "cell_type": "code",
   "execution_count": 37,
   "metadata": {
    "ExecuteTime": {
     "end_time": "2018-04-18T20:05:35.000668Z",
     "start_time": "2018-04-18T20:05:34.992703Z"
    },
    "cell_style": "split",
    "slideshow": {
     "slide_type": "fragment"
    }
   },
   "outputs": [
    {
     "data": {
      "text/plain": [
       "'four'"
      ]
     },
     "execution_count": 37,
     "metadata": {},
     "output_type": "execute_result"
    }
   ],
   "source": [
    "my_list[3]"
   ]
  },
  {
   "cell_type": "markdown",
   "metadata": {
    "slideshow": {
     "slide_type": "subslide"
    }
   },
   "source": [
    "If you attempt to access a non existent item by using an index that's out of range, you'll receive an error."
   ]
  },
  {
   "cell_type": "code",
   "execution_count": 38,
   "metadata": {
    "ExecuteTime": {
     "end_time": "2018-04-18T20:05:35.207795Z",
     "start_time": "2018-04-18T20:05:35.075594Z"
    },
    "cell_style": "split",
    "slideshow": {
     "slide_type": "fragment"
    }
   },
   "outputs": [
    {
     "ename": "IndexError",
     "evalue": "list index out of range",
     "output_type": "error",
     "traceback": [
      "\u001b[0;31m---------------------------------------------------------------------------\u001b[0m",
      "\u001b[0;31mIndexError\u001b[0m                                Traceback (most recent call last)",
      "\u001b[0;32m<ipython-input-38-d8d3b5435ffd>\u001b[0m in \u001b[0;36m<module>\u001b[0;34m()\u001b[0m\n\u001b[0;32m----> 1\u001b[0;31m \u001b[0mmy_list\u001b[0m\u001b[0;34m[\u001b[0m\u001b[0;36m4\u001b[0m\u001b[0;34m]\u001b[0m\u001b[0;34m\u001b[0m\u001b[0m\n\u001b[0m",
      "\u001b[0;31mIndexError\u001b[0m: list index out of range"
     ]
    }
   ],
   "source": [
    "my_list[4]"
   ]
  },
  {
   "cell_type": "markdown",
   "metadata": {
    "slideshow": {
     "slide_type": "subslide"
    }
   },
   "source": [
    "You can, however, use negative numbers! Negative numbers are assumed to be relative to the upper boundary of the range. -1 refers to the _last_ item, -2 to the _second last_, and so on."
   ]
  },
  {
   "cell_type": "code",
   "execution_count": 39,
   "metadata": {
    "ExecuteTime": {
     "end_time": "2018-04-18T20:05:36.791560Z",
     "start_time": "2018-04-18T20:05:36.778770Z"
    },
    "cell_style": "split",
    "slideshow": {
     "slide_type": "fragment"
    }
   },
   "outputs": [
    {
     "data": {
      "text/plain": [
       "'four'"
      ]
     },
     "execution_count": 39,
     "metadata": {},
     "output_type": "execute_result"
    }
   ],
   "source": [
    "my_list[-1]"
   ]
  },
  {
   "cell_type": "code",
   "execution_count": 40,
   "metadata": {
    "ExecuteTime": {
     "end_time": "2018-04-18T20:05:36.920823Z",
     "start_time": "2018-04-18T20:05:36.909917Z"
    },
    "cell_style": "split",
    "slideshow": {
     "slide_type": "fragment"
    }
   },
   "outputs": [
    {
     "data": {
      "text/plain": [
       "30"
      ]
     },
     "execution_count": 40,
     "metadata": {},
     "output_type": "execute_result"
    }
   ],
   "source": [
    "my_tuple[-2]"
   ]
  },
  {
   "cell_type": "markdown",
   "metadata": {
    "slideshow": {
     "slide_type": "subslide"
    }
   },
   "source": [
    "##### Adding items to a list:"
   ]
  },
  {
   "cell_type": "code",
   "execution_count": 41,
   "metadata": {
    "ExecuteTime": {
     "end_time": "2018-04-19T19:53:54.328260Z",
     "start_time": "2018-04-19T19:53:54.308175Z"
    },
    "cell_style": "center",
    "slideshow": {
     "slide_type": "fragment"
    }
   },
   "outputs": [
    {
     "data": {
      "text/plain": [
       "[8]"
      ]
     },
     "execution_count": 41,
     "metadata": {},
     "output_type": "execute_result"
    }
   ],
   "source": [
    "a_tiny_list"
   ]
  },
  {
   "cell_type": "code",
   "execution_count": 42,
   "metadata": {
    "ExecuteTime": {
     "end_time": "2018-04-19T19:53:55.175283Z",
     "start_time": "2018-04-19T19:53:55.167913Z"
    },
    "cell_style": "center",
    "slideshow": {
     "slide_type": "fragment"
    }
   },
   "outputs": [],
   "source": [
    "a_tiny_list.append(\"another item\")"
   ]
  },
  {
   "cell_type": "code",
   "execution_count": 43,
   "metadata": {
    "ExecuteTime": {
     "end_time": "2018-04-19T19:53:55.831778Z",
     "start_time": "2018-04-19T19:53:55.823508Z"
    },
    "cell_style": "center",
    "slideshow": {
     "slide_type": "fragment"
    }
   },
   "outputs": [
    {
     "data": {
      "text/plain": [
       "[8, 'another item']"
      ]
     },
     "execution_count": 43,
     "metadata": {},
     "output_type": "execute_result"
    }
   ],
   "source": [
    "a_tiny_list"
   ]
  },
  {
   "cell_type": "markdown",
   "metadata": {
    "slideshow": {
     "slide_type": "subslide"
    }
   },
   "source": [
    "#### Slice Sequences"
   ]
  },
  {
   "cell_type": "markdown",
   "metadata": {
    "slideshow": {
     "slide_type": "fragment"
    }
   },
   "source": [
    "If you want to choose a portion of a list, you can use the colon character to separate the start and end index numbers you want to use."
   ]
  },
  {
   "cell_type": "code",
   "execution_count": 44,
   "metadata": {
    "ExecuteTime": {
     "end_time": "2018-04-18T20:05:39.915441Z",
     "start_time": "2018-04-18T20:05:39.900980Z"
    },
    "cell_style": "split",
    "slideshow": {
     "slide_type": "fragment"
    }
   },
   "outputs": [
    {
     "data": {
      "text/plain": [
       "[1, 2]"
      ]
     },
     "execution_count": 44,
     "metadata": {},
     "output_type": "execute_result"
    }
   ],
   "source": [
    "my_list[0:2]  # 0, 1 but not 2"
   ]
  },
  {
   "cell_type": "code",
   "execution_count": 45,
   "metadata": {
    "ExecuteTime": {
     "start_time": "2018-04-18T20:05:42.756Z"
    },
    "cell_style": "split",
    "slideshow": {
     "slide_type": "fragment"
    }
   },
   "outputs": [
    {
     "data": {
      "text/plain": [
       "(30, 0)"
      ]
     },
     "execution_count": 45,
     "metadata": {},
     "output_type": "execute_result"
    }
   ],
   "source": [
    "my_tuple[5:7]  # 5, 6 but not 7"
   ]
  },
  {
   "cell_type": "markdown",
   "metadata": {
    "slideshow": {
     "slide_type": "subslide"
    }
   },
   "source": [
    "You can omit the first or last number in your slice to use the natural upper or lower boundary:"
   ]
  },
  {
   "cell_type": "code",
   "execution_count": 46,
   "metadata": {
    "ExecuteTime": {
     "end_time": "2018-04-18T20:15:38.680550Z",
     "start_time": "2018-04-18T20:15:38.667505Z"
    },
    "cell_style": "split",
    "slideshow": {
     "slide_type": "fragment"
    }
   },
   "outputs": [
    {
     "data": {
      "text/plain": [
       "[1, 2]"
      ]
     },
     "execution_count": 46,
     "metadata": {},
     "output_type": "execute_result"
    }
   ],
   "source": [
    "my_list[:2]  # until just before 2"
   ]
  },
  {
   "cell_type": "code",
   "execution_count": 47,
   "metadata": {
    "ExecuteTime": {
     "end_time": "2018-04-18T20:15:39.754588Z",
     "start_time": "2018-04-18T20:15:39.743774Z"
    },
    "cell_style": "split",
    "slideshow": {
     "slide_type": "fragment"
    }
   },
   "outputs": [
    {
     "data": {
      "text/plain": [
       "(30, 0)"
      ]
     },
     "execution_count": 47,
     "metadata": {},
     "output_type": "execute_result"
    }
   ],
   "source": [
    "my_tuple[5:]  # 5 and after"
   ]
  },
  {
   "cell_type": "markdown",
   "metadata": {
    "slideshow": {
     "slide_type": "subslide"
    }
   },
   "source": [
    "#### Access a `list` with `for`"
   ]
  },
  {
   "cell_type": "code",
   "execution_count": 48,
   "metadata": {
    "ExecuteTime": {
     "end_time": "2018-04-18T20:15:42.373004Z",
     "start_time": "2018-04-18T20:15:42.362786Z"
    },
    "cell_style": "split",
    "slideshow": {
     "slide_type": "fragment"
    }
   },
   "outputs": [
    {
     "name": "stdout",
     "output_type": "stream",
     "text": [
      "1\n",
      "2\n",
      "3\n",
      "four\n"
     ]
    }
   ],
   "source": [
    "for item in my_list:\n",
    "    print(item)"
   ]
  },
  {
   "cell_type": "code",
   "execution_count": 49,
   "metadata": {
    "ExecuteTime": {
     "end_time": "2018-04-18T20:15:43.318687Z",
     "start_time": "2018-04-18T20:15:43.296218Z"
    },
    "cell_style": "split",
    "slideshow": {
     "slide_type": "fragment"
    }
   },
   "outputs": [
    {
     "name": "stdout",
     "output_type": "stream",
     "text": [
      "[1, 2, 3, 'four']\n",
      "5\n",
      "6\n",
      "7\n",
      "(1, 2, 3, 'four', ('nested 1', 'nested 2', [8, 'another item']), 30, 0)\n"
     ]
    }
   ],
   "source": [
    "for item in another_list:\n",
    "    print(item)"
   ]
  },
  {
   "cell_type": "markdown",
   "metadata": {
    "slideshow": {
     "slide_type": "subslide"
    }
   },
   "source": [
    "####  Define a `list` with `for`"
   ]
  },
  {
   "cell_type": "markdown",
   "metadata": {
    "cell_style": "split",
    "slideshow": {
     "slide_type": "fragment"
    }
   },
   "source": [
    "Evaluate an expression based on every item in a list:"
   ]
  },
  {
   "cell_type": "code",
   "execution_count": 50,
   "metadata": {
    "ExecuteTime": {
     "end_time": "2018-04-19T19:47:41.411732Z",
     "start_time": "2018-04-19T19:47:41.391175Z"
    },
    "cell_style": "split",
    "slideshow": {
     "slide_type": "fragment"
    }
   },
   "outputs": [
    {
     "data": {
      "text/plain": [
       "['I have 1!', 'I have 2!', 'I have 3!', 'I have four!']"
      ]
     },
     "execution_count": 50,
     "metadata": {},
     "output_type": "execute_result"
    }
   ],
   "source": [
    "my_new_list = [f\"I have {item}!\"\n",
    "               for item in my_list]\n",
    "my_new_list"
   ]
  },
  {
   "cell_type": "markdown",
   "metadata": {
    "cell_style": "split",
    "slideshow": {
     "slide_type": "subslide"
    }
   },
   "source": [
    "#### Filter a list with `if`"
   ]
  },
  {
   "cell_type": "code",
   "execution_count": 51,
   "metadata": {
    "ExecuteTime": {
     "end_time": "2018-04-19T19:47:59.022422Z",
     "start_time": "2018-04-19T19:47:59.005899Z"
    },
    "cell_style": "split",
    "slideshow": {
     "slide_type": "fragment"
    }
   },
   "outputs": [
    {
     "data": {
      "text/plain": [
       "[3, 'four']"
      ]
     },
     "execution_count": 51,
     "metadata": {},
     "output_type": "execute_result"
    }
   ],
   "source": [
    "my_filtered_list = [item for item in my_list \n",
    "                    if item == \"four\" or item > 2]\n",
    "my_filtered_list"
   ]
  },
  {
   "cell_type": "markdown",
   "metadata": {
    "heading_collapsed": true,
    "slideshow": {
     "slide_type": "slide"
    }
   },
   "source": [
    "### Sets"
   ]
  },
  {
   "cell_type": "markdown",
   "metadata": {
    "hidden": true,
    "slideshow": {
     "slide_type": "fragment"
    }
   },
   "source": [
    "A [`set`] in Python in similar to a list, except there is no order of the items. Like a list, a set can be changed after it's defined.\n",
    "\n",
    "[`set`]: https://docs.python.org/3/library/stdtypes.html#set"
   ]
  },
  {
   "cell_type": "markdown",
   "metadata": {
    "hidden": true,
    "slideshow": {
     "slide_type": "subslide"
    }
   },
   "source": [
    "#### Basic definition and access"
   ]
  },
  {
   "cell_type": "code",
   "execution_count": 52,
   "metadata": {
    "ExecuteTime": {
     "end_time": "2018-04-19T18:03:47.633803Z",
     "start_time": "2018-04-19T18:03:47.626305Z"
    },
    "cell_style": "split",
    "hidden": true,
    "init_cell": true,
    "slideshow": {
     "slide_type": "fragment"
    }
   },
   "outputs": [],
   "source": [
    "my_set = {12, 24, 48, 96}"
   ]
  },
  {
   "cell_type": "code",
   "execution_count": 53,
   "metadata": {
    "ExecuteTime": {
     "end_time": "2018-04-18T20:15:58.697571Z",
     "start_time": "2018-04-18T20:15:58.688534Z"
    },
    "cell_style": "split",
    "hidden": true,
    "slideshow": {
     "slide_type": "subslide"
    }
   },
   "outputs": [
    {
     "data": {
      "text/plain": [
       "{12, 24, 48, 96}"
      ]
     },
     "execution_count": 53,
     "metadata": {},
     "output_type": "execute_result"
    }
   ],
   "source": [
    "my_set"
   ]
  },
  {
   "cell_type": "code",
   "execution_count": 54,
   "metadata": {
    "ExecuteTime": {
     "end_time": "2018-04-19T18:03:48.403472Z",
     "start_time": "2018-04-19T18:03:47.651402Z"
    },
    "cell_style": "split",
    "hidden": true,
    "init_cell": true,
    "slideshow": {
     "slide_type": "fragment"
    }
   },
   "outputs": [],
   "source": [
    "my_set.add(96 * 2)"
   ]
  },
  {
   "cell_type": "code",
   "execution_count": 55,
   "metadata": {
    "ExecuteTime": {
     "end_time": "2018-04-18T20:16:00.665645Z",
     "start_time": "2018-04-18T20:16:00.656073Z"
    },
    "cell_style": "split",
    "hidden": true,
    "slideshow": {
     "slide_type": "fragment"
    }
   },
   "outputs": [
    {
     "data": {
      "text/plain": [
       "{12, 24, 48, 96, 192}"
      ]
     },
     "execution_count": 55,
     "metadata": {},
     "output_type": "execute_result"
    }
   ],
   "source": [
    "my_set"
   ]
  },
  {
   "cell_type": "markdown",
   "metadata": {
    "hidden": true,
    "slideshow": {
     "slide_type": "subslide"
    }
   },
   "source": [
    "##### Make a set from an iterable, such as a list or tuple"
   ]
  },
  {
   "cell_type": "code",
   "execution_count": 56,
   "metadata": {
    "ExecuteTime": {
     "end_time": "2018-04-19T18:03:48.422781Z",
     "start_time": "2018-04-19T18:03:48.410862Z"
    },
    "cell_style": "split",
    "hidden": true,
    "init_cell": true,
    "slideshow": {
     "slide_type": "fragment"
    }
   },
   "outputs": [],
   "source": [
    "my_other_list = [0, 25, 48]"
   ]
  },
  {
   "cell_type": "code",
   "execution_count": 57,
   "metadata": {
    "ExecuteTime": {
     "end_time": "2018-04-19T19:51:06.992730Z",
     "start_time": "2018-04-19T19:51:06.978299Z"
    },
    "cell_style": "split",
    "hidden": true,
    "init_cell": true,
    "slideshow": {
     "slide_type": "fragment"
    }
   },
   "outputs": [
    {
     "data": {
      "text/plain": [
       "{0, 25, 48}"
      ]
     },
     "execution_count": 57,
     "metadata": {},
     "output_type": "execute_result"
    }
   ],
   "source": [
    "another_set = set(my_other_list)\n",
    "another_set"
   ]
  },
  {
   "cell_type": "markdown",
   "metadata": {
    "hidden": true,
    "slideshow": {
     "slide_type": "subslide"
    }
   },
   "source": [
    "#### Set Theory Operations"
   ]
  },
  {
   "cell_type": "markdown",
   "metadata": {
    "hidden": true,
    "slideshow": {
     "slide_type": "fragment"
    }
   },
   "source": [
    "Because Python is explicitly treating [`set`] objects as the kind of sets discussed in [set theory], you can do operations on them. \n",
    "\n",
    "[set theory]: https://en.wikipedia.org/wiki/Set_theory\n",
    "[`set`]: https://docs.python.org/3/library/stdtypes.html#set"
   ]
  },
  {
   "cell_type": "markdown",
   "metadata": {
    "hidden": true,
    "slideshow": {
     "slide_type": "subslide"
    }
   },
   "source": [
    "##### Difference / Exclusion"
   ]
  },
  {
   "cell_type": "code",
   "execution_count": 58,
   "metadata": {
    "ExecuteTime": {
     "end_time": "2018-04-19T19:57:03.150933Z",
     "start_time": "2018-04-19T19:57:03.135953Z"
    },
    "cell_style": "split",
    "hidden": true,
    "slideshow": {
     "slide_type": "fragment"
    }
   },
   "outputs": [],
   "source": [
    "my_set = {12, 24, 48, 96, 192}\n",
    "another_set = {0, 25, 48}"
   ]
  },
  {
   "cell_type": "code",
   "execution_count": 59,
   "metadata": {
    "ExecuteTime": {
     "end_time": "2018-04-19T19:57:03.150933Z",
     "start_time": "2018-04-19T19:57:03.135953Z"
    },
    "cell_style": "split",
    "hidden": true,
    "slideshow": {
     "slide_type": "fragment"
    }
   },
   "outputs": [
    {
     "data": {
      "text/plain": [
       "{12, 24, 96, 192}"
      ]
     },
     "execution_count": 59,
     "metadata": {},
     "output_type": "execute_result"
    }
   ],
   "source": [
    "my_set - another_set"
   ]
  },
  {
   "cell_type": "code",
   "execution_count": 60,
   "metadata": {
    "ExecuteTime": {
     "end_time": "2018-04-19T19:57:01.252713Z",
     "start_time": "2018-04-19T19:57:01.245419Z"
    },
    "cell_style": "split",
    "hidden": true,
    "slideshow": {
     "slide_type": "fragment"
    }
   },
   "outputs": [
    {
     "data": {
      "text/plain": [
       "{0, 25}"
      ]
     },
     "execution_count": 60,
     "metadata": {},
     "output_type": "execute_result"
    }
   ],
   "source": [
    "another_set - my_set"
   ]
  },
  {
   "cell_type": "markdown",
   "metadata": {
    "hidden": true,
    "slideshow": {
     "slide_type": "subslide"
    }
   },
   "source": [
    "##### Union & Intersection"
   ]
  },
  {
   "cell_type": "code",
   "execution_count": 61,
   "metadata": {
    "ExecuteTime": {
     "end_time": "2018-04-19T19:57:03.150933Z",
     "start_time": "2018-04-19T19:57:03.135953Z"
    },
    "cell_style": "split",
    "hidden": true,
    "slideshow": {
     "slide_type": "fragment"
    }
   },
   "outputs": [],
   "source": [
    "my_set = {12, 24, 48, 96, 192}\n",
    "another_set = {0, 25, 48}"
   ]
  },
  {
   "cell_type": "code",
   "execution_count": 62,
   "metadata": {
    "ExecuteTime": {
     "end_time": "2018-04-18T20:16:09.737541Z",
     "start_time": "2018-04-18T20:16:09.717442Z"
    },
    "cell_style": "split",
    "hidden": true,
    "slideshow": {
     "slide_type": "fragment"
    }
   },
   "outputs": [
    {
     "data": {
      "text/plain": [
       "{0, 12, 24, 25, 48, 96, 192}"
      ]
     },
     "execution_count": 62,
     "metadata": {},
     "output_type": "execute_result"
    }
   ],
   "source": [
    "my_set | another_set"
   ]
  },
  {
   "cell_type": "code",
   "execution_count": 63,
   "metadata": {
    "ExecuteTime": {
     "end_time": "2018-04-18T20:16:10.641418Z",
     "start_time": "2018-04-18T20:16:10.630466Z"
    },
    "cell_style": "split",
    "hidden": true,
    "slideshow": {
     "slide_type": "fragment"
    }
   },
   "outputs": [
    {
     "data": {
      "text/plain": [
       "{48}"
      ]
     },
     "execution_count": 63,
     "metadata": {},
     "output_type": "execute_result"
    }
   ],
   "source": [
    "my_set & another_set"
   ]
  },
  {
   "cell_type": "markdown",
   "metadata": {
    "hidden": true,
    "slideshow": {
     "slide_type": "subslide"
    }
   },
   "source": [
    "##### Symmetric Difference"
   ]
  },
  {
   "cell_type": "code",
   "execution_count": 64,
   "metadata": {
    "ExecuteTime": {
     "end_time": "2018-04-19T19:57:03.150933Z",
     "start_time": "2018-04-19T19:57:03.135953Z"
    },
    "cell_style": "split",
    "hidden": true,
    "slideshow": {
     "slide_type": "fragment"
    }
   },
   "outputs": [],
   "source": [
    "my_set = {12, 24, 48, 96, 192}\n",
    "another_set = {0, 25, 48}"
   ]
  },
  {
   "cell_type": "code",
   "execution_count": 65,
   "metadata": {
    "ExecuteTime": {
     "end_time": "2018-04-19T17:52:27.869496Z",
     "start_time": "2018-04-19T17:52:27.843090Z"
    },
    "cell_style": "split",
    "hidden": true,
    "slideshow": {
     "slide_type": "fragment"
    }
   },
   "outputs": [
    {
     "data": {
      "text/plain": [
       "{0, 12, 24, 25, 96, 192}"
      ]
     },
     "execution_count": 65,
     "metadata": {},
     "output_type": "execute_result"
    }
   ],
   "source": [
    "my_set ^ another_set"
   ]
  },
  {
   "cell_type": "code",
   "execution_count": 66,
   "metadata": {
    "ExecuteTime": {
     "end_time": "2018-04-19T17:52:29.315837Z",
     "start_time": "2018-04-19T17:52:29.305050Z"
    },
    "cell_style": "split",
    "hidden": true,
    "slideshow": {
     "slide_type": "fragment"
    }
   },
   "outputs": [
    {
     "data": {
      "text/plain": [
       "{0, 12, 24, 25, 96, 192}"
      ]
     },
     "execution_count": 66,
     "metadata": {},
     "output_type": "execute_result"
    }
   ],
   "source": [
    "set.symmetric_difference(my_set, another_set)"
   ]
  },
  {
   "cell_type": "markdown",
   "metadata": {
    "heading_collapsed": true,
    "slideshow": {
     "slide_type": "slide"
    }
   },
   "source": [
    "### Dictionaries"
   ]
  },
  {
   "cell_type": "markdown",
   "metadata": {
    "hidden": true,
    "slideshow": {
     "slide_type": "fragment"
    }
   },
   "source": [
    "Dictionaries in Python are just a collection of named things. The things can be another dictionary, a string, a number, or whatver. Even the names of the things don't necessarily have to be words—they can be numbers, for example."
   ]
  },
  {
   "cell_type": "markdown",
   "metadata": {
    "hidden": true,
    "slideshow": {
     "slide_type": "skip"
    }
   },
   "source": [
    "#### Basic definition and access"
   ]
  },
  {
   "cell_type": "markdown",
   "metadata": {
    "ExecuteTime": {
     "end_time": "2018-04-17T20:48:22.463274Z",
     "start_time": "2018-04-17T20:48:22.453042Z"
    },
    "cell_style": "split",
    "hidden": true,
    "slideshow": {
     "slide_type": "subslide"
    }
   },
   "source": [
    "##### Define a dictionary:"
   ]
  },
  {
   "cell_type": "code",
   "execution_count": 67,
   "metadata": {
    "ExecuteTime": {
     "end_time": "2018-04-19T19:12:35.924588Z",
     "start_time": "2018-04-19T19:12:35.914970Z"
    },
    "cell_style": "split",
    "hidden": true,
    "slideshow": {
     "slide_type": "fragment"
    }
   },
   "outputs": [],
   "source": [
    "my_dictionary = {\n",
    "    'one': 1,\n",
    "    2: 'two',\n",
    "    \"green\": \"I like colour green.\",\n",
    "    \"another dictionary\": {\"more stuff\": 1024,\n",
    "                           'even more stuff': 2048},\n",
    "    \"a list\": my_list\n",
    "}"
   ]
  },
  {
   "cell_type": "markdown",
   "metadata": {
    "hidden": true,
    "slideshow": {
     "slide_type": "subslide"
    }
   },
   "source": [
    "##### Access stored values:"
   ]
  },
  {
   "cell_type": "code",
   "execution_count": 68,
   "metadata": {
    "ExecuteTime": {
     "end_time": "2018-04-19T19:13:25.667722Z",
     "start_time": "2018-04-19T19:13:25.651689Z"
    },
    "cell_style": "split",
    "hidden": true,
    "slideshow": {
     "slide_type": "fragment"
    }
   },
   "outputs": [
    {
     "data": {
      "text/plain": [
       "1"
      ]
     },
     "execution_count": 68,
     "metadata": {},
     "output_type": "execute_result"
    }
   ],
   "source": [
    "my_dictionary[\"one\"]"
   ]
  },
  {
   "cell_type": "code",
   "execution_count": 69,
   "metadata": {
    "ExecuteTime": {
     "end_time": "2018-04-19T19:13:26.185436Z",
     "start_time": "2018-04-19T19:13:26.175828Z"
    },
    "cell_style": "split",
    "hidden": true,
    "slideshow": {
     "slide_type": "fragment"
    }
   },
   "outputs": [
    {
     "data": {
      "text/plain": [
       "'two'"
      ]
     },
     "execution_count": 69,
     "metadata": {},
     "output_type": "execute_result"
    }
   ],
   "source": [
    "my_dictionary[2]"
   ]
  },
  {
   "cell_type": "code",
   "execution_count": 70,
   "metadata": {
    "ExecuteTime": {
     "end_time": "2018-04-19T19:59:24.644835Z",
     "start_time": "2018-04-19T19:59:24.633194Z"
    },
    "cell_style": "center",
    "hidden": true,
    "slideshow": {
     "slide_type": "fragment"
    }
   },
   "outputs": [
    {
     "data": {
      "text/plain": [
       "2048"
      ]
     },
     "execution_count": 70,
     "metadata": {},
     "output_type": "execute_result"
    }
   ],
   "source": [
    "my_dictionary[\"another dictionary\"][\"even more stuff\"]"
   ]
  },
  {
   "cell_type": "markdown",
   "metadata": {
    "hidden": true,
    "slideshow": {
     "slide_type": "subslide"
    }
   },
   "source": [
    "Note that any attempt to use a non-existant key results in a Python exception called a `KeyError`. This is helpful if you make a human error, or unexpectedly find keys missing. (There _are_ ways around it.)"
   ]
  },
  {
   "cell_type": "code",
   "execution_count": 71,
   "metadata": {
    "ExecuteTime": {
     "end_time": "2018-04-19T19:59:21.466840Z",
     "start_time": "2018-04-19T19:59:21.434693Z"
    },
    "hidden": true,
    "scrolled": true,
    "slideshow": {
     "slide_type": "fragment"
    }
   },
   "outputs": [
    {
     "ename": "KeyError",
     "evalue": "\"some key that doesn't exist\"",
     "output_type": "error",
     "traceback": [
      "\u001b[0;31m---------------------------------------------------------------------------\u001b[0m",
      "\u001b[0;31mKeyError\u001b[0m                                  Traceback (most recent call last)",
      "\u001b[0;32m<ipython-input-71-6706547ecbde>\u001b[0m in \u001b[0;36m<module>\u001b[0;34m()\u001b[0m\n\u001b[0;32m----> 1\u001b[0;31m \u001b[0mmy_dictionary\u001b[0m\u001b[0;34m[\u001b[0m\u001b[0;34m\"some key that doesn't exist\"\u001b[0m\u001b[0;34m]\u001b[0m\u001b[0;34m\u001b[0m\u001b[0m\n\u001b[0m",
      "\u001b[0;31mKeyError\u001b[0m: \"some key that doesn't exist\""
     ]
    }
   ],
   "source": [
    "my_dictionary[\"some key that doesn't exist\"]"
   ]
  },
  {
   "cell_type": "markdown",
   "metadata": {
    "hidden": true,
    "slideshow": {
     "slide_type": "subslide"
    }
   },
   "source": [
    "##### Assign values to existing keys or new keys:"
   ]
  },
  {
   "cell_type": "code",
   "execution_count": 72,
   "metadata": {
    "ExecuteTime": {
     "end_time": "2018-04-19T20:01:01.349199Z",
     "start_time": "2018-04-19T20:01:01.338150Z"
    },
    "cell_style": "split",
    "hidden": true,
    "slideshow": {
     "slide_type": "fragment"
    }
   },
   "outputs": [],
   "source": [
    "my_dictionary[\"two\"] = my_dictionary[2]\n",
    "my_dictionary[2] = \"fourteen\""
   ]
  },
  {
   "cell_type": "code",
   "execution_count": 73,
   "metadata": {
    "ExecuteTime": {
     "end_time": "2018-04-19T20:01:02.025418Z",
     "start_time": "2018-04-19T20:01:02.014622Z"
    },
    "cell_style": "split",
    "hidden": true,
    "slideshow": {
     "slide_type": "fragment"
    }
   },
   "outputs": [],
   "source": [
    "my_dictionary[\"some key that didn't exist before\"] = \"Some value that didn't exist before\""
   ]
  },
  {
   "cell_type": "code",
   "execution_count": 74,
   "metadata": {
    "ExecuteTime": {
     "end_time": "2018-04-19T20:01:02.662259Z",
     "start_time": "2018-04-19T20:01:02.652235Z"
    },
    "hidden": true,
    "slideshow": {
     "slide_type": "fragment"
    }
   },
   "outputs": [
    {
     "data": {
      "text/plain": [
       "dict_keys(['one', 2, 'green', 'another dictionary', 'a list', 'two', \"some key that didn't exist before\"])"
      ]
     },
     "execution_count": 74,
     "metadata": {},
     "output_type": "execute_result"
    }
   ],
   "source": [
    "my_dictionary.keys()"
   ]
  },
  {
   "cell_type": "markdown",
   "metadata": {
    "hidden": true,
    "slideshow": {
     "slide_type": "subslide"
    }
   },
   "source": [
    "#### Using `for` to access a `dict`"
   ]
  },
  {
   "cell_type": "markdown",
   "metadata": {
    "hidden": true,
    "slideshow": {
     "slide_type": "fragment"
    }
   },
   "source": [
    "##### Dictionary iterables"
   ]
  },
  {
   "cell_type": "markdown",
   "metadata": {
    "hidden": true,
    "slideshow": {
     "slide_type": "fragment"
    }
   },
   "source": [
    "Python's `for` statements are handy for doing something to each item in a collection. Dictionaries are a type of collection, but since they have keys and values, you need to specify which you want. To address this, there are three handy methods that all dictionaries have:\n",
    "\n",
    "- [`keys()`] - Only the key names\n",
    "- [`values()`] - Only the values\n",
    "- [`items()`] - Pairs of keys and values\n",
    "\n",
    "[`keys()`]: https://docs.python.org/3/library/stdtypes.html#dict.keys\n",
    "[`values()`]: https://docs.python.org/3/library/stdtypes.html#dict.values\n",
    "[`items()`]: https://docs.python.org/3/library/stdtypes.html#dict.items\n",
    "\n"
   ]
  },
  {
   "cell_type": "markdown",
   "metadata": {
    "cell_style": "split",
    "hidden": true,
    "slideshow": {
     "slide_type": "subslide"
    }
   },
   "source": [
    "##### `keys()`"
   ]
  },
  {
   "cell_type": "code",
   "execution_count": 75,
   "metadata": {
    "ExecuteTime": {
     "end_time": "2018-04-19T20:01:09.350690Z",
     "start_time": "2018-04-19T20:01:09.322762Z"
    },
    "cell_style": "split",
    "hidden": true,
    "slideshow": {
     "slide_type": "fragment"
    }
   },
   "outputs": [
    {
     "data": {
      "text/plain": [
       "'one'"
      ]
     },
     "metadata": {},
     "output_type": "display_data"
    },
    {
     "data": {
      "text/plain": [
       "2"
      ]
     },
     "metadata": {},
     "output_type": "display_data"
    },
    {
     "data": {
      "text/plain": [
       "'green'"
      ]
     },
     "metadata": {},
     "output_type": "display_data"
    },
    {
     "data": {
      "text/plain": [
       "'another dictionary'"
      ]
     },
     "metadata": {},
     "output_type": "display_data"
    },
    {
     "data": {
      "text/plain": [
       "'a list'"
      ]
     },
     "metadata": {},
     "output_type": "display_data"
    },
    {
     "data": {
      "text/plain": [
       "'two'"
      ]
     },
     "metadata": {},
     "output_type": "display_data"
    },
    {
     "data": {
      "text/plain": [
       "\"some key that didn't exist before\""
      ]
     },
     "metadata": {},
     "output_type": "display_data"
    }
   ],
   "source": [
    "for key in my_dictionary.keys():\n",
    "    display(key)"
   ]
  },
  {
   "cell_type": "markdown",
   "metadata": {
    "cell_style": "split",
    "hidden": true,
    "slideshow": {
     "slide_type": "subslide"
    }
   },
   "source": [
    "##### `values()`"
   ]
  },
  {
   "cell_type": "code",
   "execution_count": 76,
   "metadata": {
    "ExecuteTime": {
     "end_time": "2018-04-19T20:01:11.290501Z",
     "start_time": "2018-04-19T20:01:11.250880Z"
    },
    "cell_style": "split",
    "hidden": true,
    "slideshow": {
     "slide_type": "fragment"
    }
   },
   "outputs": [
    {
     "data": {
      "text/plain": [
       "1"
      ]
     },
     "metadata": {},
     "output_type": "display_data"
    },
    {
     "data": {
      "text/plain": [
       "'fourteen'"
      ]
     },
     "metadata": {},
     "output_type": "display_data"
    },
    {
     "data": {
      "text/plain": [
       "'I like colour green.'"
      ]
     },
     "metadata": {},
     "output_type": "display_data"
    },
    {
     "data": {
      "text/plain": [
       "{'even more stuff': 2048, 'more stuff': 1024}"
      ]
     },
     "metadata": {},
     "output_type": "display_data"
    },
    {
     "data": {
      "text/plain": [
       "[1, 2, 3, 'four']"
      ]
     },
     "metadata": {},
     "output_type": "display_data"
    },
    {
     "data": {
      "text/plain": [
       "'two'"
      ]
     },
     "metadata": {},
     "output_type": "display_data"
    },
    {
     "data": {
      "text/plain": [
       "\"Some value that didn't exist before\""
      ]
     },
     "metadata": {},
     "output_type": "display_data"
    }
   ],
   "source": [
    "for value in my_dictionary.values():\n",
    "    display(value)"
   ]
  },
  {
   "cell_type": "markdown",
   "metadata": {
    "cell_style": "split",
    "hidden": true,
    "slideshow": {
     "slide_type": "subslide"
    }
   },
   "source": [
    "##### `items()`"
   ]
  },
  {
   "cell_type": "code",
   "execution_count": 77,
   "metadata": {
    "ExecuteTime": {
     "end_time": "2018-04-19T20:01:13.137477Z",
     "start_time": "2018-04-19T20:01:13.097007Z"
    },
    "cell_style": "split",
    "hidden": true,
    "slideshow": {
     "slide_type": "fragment"
    }
   },
   "outputs": [
    {
     "data": {
      "text/plain": [
       "('one', 1)"
      ]
     },
     "metadata": {},
     "output_type": "display_data"
    },
    {
     "data": {
      "text/plain": [
       "(2, 'fourteen')"
      ]
     },
     "metadata": {},
     "output_type": "display_data"
    },
    {
     "data": {
      "text/plain": [
       "('green', 'I like colour green.')"
      ]
     },
     "metadata": {},
     "output_type": "display_data"
    },
    {
     "data": {
      "text/plain": [
       "('another dictionary', {'even more stuff': 2048, 'more stuff': 1024})"
      ]
     },
     "metadata": {},
     "output_type": "display_data"
    },
    {
     "data": {
      "text/plain": [
       "('a list', [1, 2, 3, 'four'])"
      ]
     },
     "metadata": {},
     "output_type": "display_data"
    },
    {
     "data": {
      "text/plain": [
       "('two', 'two')"
      ]
     },
     "metadata": {},
     "output_type": "display_data"
    },
    {
     "data": {
      "text/plain": [
       "(\"some key that didn't exist before\", \"Some value that didn't exist before\")"
      ]
     },
     "metadata": {},
     "output_type": "display_data"
    }
   ],
   "source": [
    "for item in my_dictionary.items():\n",
    "    display(item)"
   ]
  },
  {
   "cell_type": "markdown",
   "metadata": {
    "hidden": true,
    "slideshow": {
     "slide_type": "subslide"
    }
   },
   "source": [
    "The \"item\" returned by `items()` is always a tuple of two values. You can name them anything you want, but here's the gist of the idea:\n",
    "\n",
    "`(key, value)`"
   ]
  },
  {
   "cell_type": "code",
   "execution_count": 78,
   "metadata": {
    "ExecuteTime": {
     "end_time": "2018-04-19T20:31:37.801011Z",
     "start_time": "2018-04-19T20:31:37.789537Z"
    },
    "hidden": true,
    "slideshow": {
     "slide_type": "fragment"
    }
   },
   "outputs": [
    {
     "name": "stdout",
     "output_type": "stream",
     "text": [
      "Key: 2\n",
      "Value: two\n",
      "\n",
      "Key: another dictionary\n",
      "Value: {'more stuff': 1024, 'even more stuff': 2048}\n",
      "\n",
      "Key: a list\n",
      "Value: [1, 2, 3, 'four']\n",
      "\n"
     ]
    }
   ],
   "source": [
    "my_dictionary = {\n",
    "    2: 'two',\n",
    "    \"another dictionary\": {\"more stuff\": 1024,\n",
    "                           'even more stuff': 2048},\n",
    "    \"a list\": my_list\n",
    "}\n",
    "for key, value in my_dictionary.items():\n",
    "    print(f\"Key: {key}\\n\"\n",
    "          f\"Value: {value}\\n\")"
   ]
  },
  {
   "cell_type": "markdown",
   "metadata": {
    "hidden": true,
    "slideshow": {
     "slide_type": "subslide"
    }
   },
   "source": [
    "#### Using `for` to define a `dict`"
   ]
  },
  {
   "cell_type": "markdown",
   "metadata": {
    "hidden": true,
    "slideshow": {
     "slide_type": "fragment"
    }
   },
   "source": [
    "With a list of items, it's often useful to make a dictionary with keys or values based those items.\n",
    "\n",
    "For example, let's say we have this filtered list expression:"
   ]
  },
  {
   "cell_type": "code",
   "execution_count": 79,
   "metadata": {
    "ExecuteTime": {
     "end_time": "2018-04-19T19:26:30.551474Z",
     "start_time": "2018-04-19T19:26:30.539232Z"
    },
    "hidden": true,
    "slideshow": {
     "slide_type": "fragment"
    }
   },
   "outputs": [
    {
     "data": {
      "text/plain": [
       "[101, 102, 103]"
      ]
     },
     "execution_count": 79,
     "metadata": {},
     "output_type": "execute_result"
    }
   ],
   "source": [
    "[item + 100\n",
    " for item in my_list if item != \"four\"]\n"
   ]
  },
  {
   "cell_type": "markdown",
   "metadata": {
    "hidden": true,
    "slideshow": {
     "slide_type": "fragment"
    }
   },
   "source": [
    "The syntax for dictionary creation with `for` is almost the same as that of lists, but like in standard dictionary definitions, you'd use `key: value` for the assignment. You can use expressions to transform the keys as well as the values, if you want.\n"
   ]
  },
  {
   "cell_type": "code",
   "execution_count": 80,
   "metadata": {
    "ExecuteTime": {
     "end_time": "2018-04-19T19:31:23.033323Z",
     "start_time": "2018-04-19T19:31:23.020607Z"
    },
    "hidden": true,
    "slideshow": {
     "slide_type": "fragment"
    }
   },
   "outputs": [
    {
     "data": {
      "text/plain": [
       "{'Key #1': 101, 'Key #2': 102, 'Key #3': 103}"
      ]
     },
     "execution_count": 80,
     "metadata": {},
     "output_type": "execute_result"
    }
   ],
   "source": [
    "{f\"Key #{item}\": item + 100\n",
    " for item in my_list if item != \"four\"}"
   ]
  },
  {
   "cell_type": "markdown",
   "metadata": {
    "hidden": true,
    "slideshow": {
     "slide_type": "subslide"
    }
   },
   "source": [
    "This is the same as using the regular assignment syntax in a regular `for` loop:"
   ]
  },
  {
   "cell_type": "code",
   "execution_count": 81,
   "metadata": {
    "ExecuteTime": {
     "end_time": "2018-04-19T19:33:24.124133Z",
     "start_time": "2018-04-19T19:33:24.115111Z"
    },
    "hidden": true,
    "slideshow": {
     "slide_type": "fragment"
    }
   },
   "outputs": [],
   "source": [
    "# Equivalent to:\n",
    "# {f\"Key #{item}\": item + 100\n",
    "#  for item in my_list if item != \"four\"}\n",
    "my_new_dict = {}\n",
    "for item in my_list:\n",
    "    if item != \"four\":\n",
    "        my_new_dict[f\"Key #{item}\"] = item + 100"
   ]
  },
  {
   "cell_type": "markdown",
   "metadata": {
    "hidden": true,
    "slideshow": {
     "slide_type": "fragment"
    }
   },
   "source": [
    "You should use whichever format is clearest for your situation."
   ]
  },
  {
   "cell_type": "markdown",
   "metadata": {
    "hidden": true
   },
   "source": [
    "#### `defaultdict`: an Agreeable Dictionary"
   ]
  },
  {
   "cell_type": "markdown",
   "metadata": {
    "hidden": true
   },
   "source": [
    "[`defaultdict`] is like a regular dictionary, except it doesn't complain if you try to access a key that doesn't exist yet—it just adds it.\n",
    "\n",
    "[`defaultdict`]: https://docs.python.org/3/library/collections.html#collections.defaultdict"
   ]
  },
  {
   "cell_type": "markdown",
   "metadata": {
    "hidden": true
   },
   "source": [
    "Remember how a regular `dict` handles invalid keys? Suppose we attempt to append to a list that we think is stored in a certain key, even though the dictionary is empty:\n"
   ]
  },
  {
   "cell_type": "code",
   "execution_count": 82,
   "metadata": {
    "ExecuteTime": {
     "start_time": "2018-04-18T20:07:20.669Z"
    },
    "hidden": true
   },
   "outputs": [],
   "source": [
    "my_dictionary = dict()"
   ]
  },
  {
   "cell_type": "code",
   "execution_count": 83,
   "metadata": {
    "ExecuteTime": {
     "start_time": "2018-04-18T20:07:20.669Z"
    },
    "hidden": true,
    "scrolled": false
   },
   "outputs": [
    {
     "ename": "KeyError",
     "evalue": "\"some key that doesn't exist\"",
     "output_type": "error",
     "traceback": [
      "\u001b[0;31m---------------------------------------------------------------------------\u001b[0m",
      "\u001b[0;31mKeyError\u001b[0m                                  Traceback (most recent call last)",
      "\u001b[0;32m<ipython-input-83-2290fcff78b2>\u001b[0m in \u001b[0;36m<module>\u001b[0;34m()\u001b[0m\n\u001b[0;32m----> 1\u001b[0;31m \u001b[0mmy_dictionary\u001b[0m\u001b[0;34m[\u001b[0m\u001b[0;34m\"some key that doesn't exist\"\u001b[0m\u001b[0;34m]\u001b[0m\u001b[0;34m.\u001b[0m\u001b[0mappend\u001b[0m\u001b[0;34m(\u001b[0m\u001b[0;34m\"an item\"\u001b[0m\u001b[0;34m)\u001b[0m\u001b[0;34m\u001b[0m\u001b[0m\n\u001b[0m\u001b[1;32m      2\u001b[0m \u001b[0mmy_dictionary\u001b[0m\u001b[0;34m[\u001b[0m\u001b[0;34m\"some key that doesn't exist\"\u001b[0m\u001b[0;34m]\u001b[0m\u001b[0;34m.\u001b[0m\u001b[0mappend\u001b[0m\u001b[0;34m(\u001b[0m\u001b[0;34m\"another item\"\u001b[0m\u001b[0;34m)\u001b[0m\u001b[0;34m\u001b[0m\u001b[0m\n",
      "\u001b[0;31mKeyError\u001b[0m: \"some key that doesn't exist\""
     ]
    }
   ],
   "source": [
    "my_dictionary[\"some key that doesn't exist\"].append(\"an item\")\n",
    "my_dictionary[\"some key that doesn't exist\"].append(\"another item\")"
   ]
  },
  {
   "cell_type": "markdown",
   "metadata": {
    "hidden": true
   },
   "source": [
    "Can't append to a list object that doesn't exist!"
   ]
  },
  {
   "cell_type": "markdown",
   "metadata": {
    "hidden": true
   },
   "source": [
    "If it were a [`defaultdict`], set to make `list` objects by default:\n",
    "\n",
    "[`defaultdict`]: https://docs.python.org/3/library/collections.html#collections.defaultdict"
   ]
  },
  {
   "cell_type": "code",
   "execution_count": 84,
   "metadata": {
    "ExecuteTime": {
     "start_time": "2018-04-18T20:07:22.477Z"
    },
    "hidden": true,
    "init_cell": true
   },
   "outputs": [],
   "source": [
    "from collections import defaultdict"
   ]
  },
  {
   "cell_type": "code",
   "execution_count": 85,
   "metadata": {
    "ExecuteTime": {
     "start_time": "2018-04-18T20:07:22.477Z"
    },
    "hidden": true
   },
   "outputs": [],
   "source": [
    "my_defaultdict = defaultdict(list)"
   ]
  },
  {
   "cell_type": "code",
   "execution_count": 86,
   "metadata": {
    "ExecuteTime": {
     "start_time": "2018-04-18T20:07:22.477Z"
    },
    "hidden": true
   },
   "outputs": [],
   "source": [
    "my_defaultdict[\"some key that doesn't exist\"].append(\"an item\")\n",
    "my_defaultdict[\"some key that doesn't exist\"].append(\"another item\")"
   ]
  },
  {
   "cell_type": "code",
   "execution_count": 87,
   "metadata": {
    "ExecuteTime": {
     "start_time": "2018-04-18T20:07:22.477Z"
    },
    "hidden": true
   },
   "outputs": [
    {
     "data": {
      "text/plain": [
       "defaultdict(list, {\"some key that doesn't exist\": ['an item', 'another item']})"
      ]
     },
     "execution_count": 87,
     "metadata": {},
     "output_type": "execute_result"
    }
   ],
   "source": [
    "my_defaultdict"
   ]
  },
  {
   "cell_type": "markdown",
   "metadata": {
    "heading_collapsed": true,
    "slideshow": {
     "slide_type": "subslide"
    }
   },
   "source": [
    "## _pandas_"
   ]
  },
  {
   "cell_type": "markdown",
   "metadata": {
    "hidden": true,
    "slideshow": {
     "slide_type": "subslide"
    }
   },
   "source": [
    "@todo: intro to _pandas_\n",
    "\n",
    "* Series\n",
    "* Index\n",
    "* DataFrame\n",
    "* I/O"
   ]
  },
  {
   "cell_type": "markdown",
   "metadata": {
    "slideshow": {
     "slide_type": "slide"
    }
   },
   "source": [
    "# The Excel Workbook: `2017 CAM data from iPads.xlxs`"
   ]
  },
  {
   "cell_type": "code",
   "execution_count": 88,
   "metadata": {
    "ExecuteTime": {
     "end_time": "2018-04-19T18:03:48.942474Z",
     "start_time": "2018-04-19T18:03:48.933126Z"
    },
    "init_cell": true
   },
   "outputs": [],
   "source": [
    "# The file I'm interested in parsing for cleanup:\n",
    "file_path = \"./data/real/2017/CAM data from iPads/2017 CAM data from iPads.xlsx\""
   ]
  },
  {
   "cell_type": "markdown",
   "metadata": {
    "slideshow": {
     "slide_type": "slide"
    }
   },
   "source": [
    "## Opening an Excel File with _pandas_"
   ]
  },
  {
   "cell_type": "code",
   "execution_count": 89,
   "metadata": {
    "ExecuteTime": {
     "end_time": "2018-04-19T18:03:50.692246Z",
     "start_time": "2018-04-19T18:03:48.964131Z"
    },
    "init_cell": true
   },
   "outputs": [],
   "source": [
    "data_file = pandas.ExcelFile(file_path)"
   ]
  },
  {
   "cell_type": "markdown",
   "metadata": {},
   "source": [
    "If you get an error here, it may be due to a missing module called `xlrd`. The [setup instructions] will tell you how to install it.\n",
    "\n",
    "[setup instructions]: #Reading-Excel-files,-processing-data"
   ]
  },
  {
   "cell_type": "markdown",
   "metadata": {
    "slideshow": {
     "slide_type": "slide"
    }
   },
   "source": [
    "## Worksheets in the File, as DataFrames"
   ]
  },
  {
   "cell_type": "code",
   "execution_count": 90,
   "metadata": {
    "ExecuteTime": {
     "end_time": "2018-04-19T18:03:50.724741Z",
     "start_time": "2018-04-19T18:03:50.695988Z"
    },
    "init_cell": true
   },
   "outputs": [],
   "source": [
    "data_file_sheet_names = sorted(data_file.sheet_names)"
   ]
  },
  {
   "cell_type": "code",
   "execution_count": 91,
   "metadata": {
    "ExecuteTime": {
     "end_time": "2018-04-19T18:03:50.724741Z",
     "start_time": "2018-04-19T18:03:50.695988Z"
    }
   },
   "outputs": [
    {
     "data": {
      "text/plain": [
       "['2017 CAM data Erl',\n",
       " '2017 CAM iPad data Tyler',\n",
       " 'Combined iPad 2017 CAM data',\n",
       " 'schema (WIP reverse engineer)']"
      ]
     },
     "execution_count": 91,
     "metadata": {},
     "output_type": "execute_result"
    }
   ],
   "source": [
    "data_file_sheet_names"
   ]
  },
  {
   "cell_type": "markdown",
   "metadata": {},
   "source": [
    "I'm only interested in first two, which should have all the data. The other sheets are either unfinished or unrelated to the task at hand."
   ]
  },
  {
   "cell_type": "code",
   "execution_count": 92,
   "metadata": {
    "ExecuteTime": {
     "end_time": "2018-04-19T18:03:50.766374Z",
     "start_time": "2018-04-19T18:03:50.739049Z"
    },
    "init_cell": true
   },
   "outputs": [],
   "source": [
    "cam_sheet_names = data_file_sheet_names[:2]"
   ]
  },
  {
   "cell_type": "code",
   "execution_count": 93,
   "metadata": {
    "ExecuteTime": {
     "end_time": "2018-04-19T18:03:50.766374Z",
     "start_time": "2018-04-19T18:03:50.739049Z"
    }
   },
   "outputs": [
    {
     "data": {
      "text/plain": [
       "['2017 CAM data Erl', '2017 CAM iPad data Tyler']"
      ]
     },
     "execution_count": 93,
     "metadata": {},
     "output_type": "execute_result"
    }
   ],
   "source": [
    "cam_sheet_names"
   ]
  },
  {
   "cell_type": "code",
   "execution_count": 94,
   "metadata": {
    "ExecuteTime": {
     "start_time": "2018-04-18T20:06:36.746Z"
    },
    "cell_style": "split",
    "init_cell": true
   },
   "outputs": [],
   "source": [
    "def last_word(string, word_separator=' '):\n",
    "    words = string.split(word_separator)\n",
    "    return words[-1]"
   ]
  },
  {
   "cell_type": "code",
   "execution_count": 95,
   "metadata": {
    "ExecuteTime": {
     "start_time": "2018-04-18T20:06:36.831Z"
    },
    "cell_style": "split"
   },
   "outputs": [
    {
     "data": {
      "text/plain": [
       "'here'"
      ]
     },
     "execution_count": 95,
     "metadata": {},
     "output_type": "execute_result"
    }
   ],
   "source": [
    "last_word(\"hey, there are words here\")"
   ]
  },
  {
   "cell_type": "markdown",
   "metadata": {},
   "source": [
    "Let's make a dictionary of DataFrames from all the sheets, using the last word as the name. If you're familiar with [lists] in Python, you may remember that an index of -1 means the last item, as in the largest possible index number. We're using `for` to define the `dict` based on items in `cam_sheet_names`. _pandas_ DataFrames can be made by calling the `parse` function from the _pandas_ file object, given a sheet name.\n",
    "\n",
    "[lists]: https://docs.python.org/3/tutorial/datastructures.html#lists"
   ]
  },
  {
   "cell_type": "code",
   "execution_count": 96,
   "metadata": {
    "ExecuteTime": {
     "end_time": "2018-04-19T18:03:50.960715Z",
     "start_time": "2018-04-19T18:03:50.796269Z"
    },
    "cell_style": "center",
    "init_cell": true
   },
   "outputs": [],
   "source": [
    "sheets = {last_word(sheet_name): data_file.parse(sheet_name)\n",
    "          for sheet_name in cam_sheet_names}"
   ]
  },
  {
   "cell_type": "code",
   "execution_count": 97,
   "metadata": {
    "ExecuteTime": {
     "start_time": "2018-04-18T20:06:38.127Z"
    }
   },
   "outputs": [
    {
     "data": {
      "text/plain": [
       "dict_keys(['Erl', 'Tyler'])"
      ]
     },
     "execution_count": 97,
     "metadata": {},
     "output_type": "execute_result"
    }
   ],
   "source": [
    "sheets.keys()"
   ]
  },
  {
   "cell_type": "markdown",
   "metadata": {
    "slideshow": {
     "slide_type": "slide"
    }
   },
   "source": [
    "## Goal: Unifying the DataFrames"
   ]
  },
  {
   "cell_type": "markdown",
   "metadata": {
    "slideshow": {
     "slide_type": "notes"
    }
   },
   "source": [
    "Now that we have a convenient list of sheets that are loaded as _pandas_ DataFrames, we can work toward merging them into one. Once they're merged, we can process the data more easily from a single DataFrame."
   ]
  },
  {
   "cell_type": "markdown",
   "metadata": {
    "slideshow": {
     "slide_type": "subslide"
    }
   },
   "source": [
    "### _pandas_ functions for merging DataFrames"
   ]
  },
  {
   "cell_type": "markdown",
   "metadata": {
    "slideshow": {
     "slide_type": "fragment"
    }
   },
   "source": [
    "_pandas_ has multiple methods for combining datasets:\n",
    "\n",
    "- [`concat`]: The concatenate method has an option to ignore row numbers, which has the effect of gluing each dataframe to the bottom of the previous one.\n",
    "- [`append`]: Append would be almost equivalent, but always updates the first DataFrame or Series it's given.\n",
    "- [`merge`]: Merge is more for database-style relational merges.\n",
    "\n",
    "[`concat`]: https://pandas.pydata.org/pandas-docs/stable/merging.html\n",
    "[`append`]: https://pandas.pydata.org/pandas-docs/stable/merging.html#concatenating-using-append\n",
    "[`merge`]: https://pandas.pydata.org/pandas-docs/stable/merging.html#database-style-dataframe-joining-merging\n",
    "\n",
    "I'm thinking about [`append`], but I like to have the option of creating a new DataFrame rather than overwriting anything, because the results are easier to repeat.\n",
    "\n",
    "From reading up on all three methods, it looks to me like `concat` will suffice, here, as long as the column names are identical."
   ]
  },
  {
   "cell_type": "markdown",
   "metadata": {
    "slideshow": {
     "slide_type": "fragment"
    }
   },
   "source": [
    "Let's see how close that concatenation method gets us:"
   ]
  },
  {
   "cell_type": "code",
   "execution_count": 98,
   "metadata": {
    "ExecuteTime": {
     "start_time": "2018-04-18T20:06:42.997Z"
    },
    "cell_style": "center",
    "scrolled": true,
    "slideshow": {
     "slide_type": "subslide"
    }
   },
   "outputs": [
    {
     "name": "stdout",
     "output_type": "stream",
     "text": [
      "<class 'pandas.core.frame.DataFrame'>\n",
      "MultiIndex: 4690 entries, (Erl, 0) to (Tyler, 3779)\n",
      "Data columns (total 56 columns):\n",
      "clients__company                                                    1 non-null object\n",
      "clients__displayText                                                1 non-null object\n",
      "clients__fname                                                      1 non-null object\n",
      "clients__lname                                                      1 non-null object\n",
      "clients__name                                                       1 non-null object\n",
      "fields__client__company                                             21 non-null object\n",
      "fields__client__displayText                                         21 non-null object\n",
      "fields__client__fname                                               21 non-null object\n",
      "fields__client__lname                                               21 non-null object\n",
      "fields__client__name                                                21 non-null object\n",
      "fields__crop                                                        21 non-null object\n",
      "fields__date                                                        21 non-null object\n",
      "fields__desc                                                        15 non-null object\n",
      "fields__image                                                       21 non-null object\n",
      "fields__name                                                        21 non-null object\n",
      "fields__oSets__completeSets                                         54 non-null float64\n",
      "fields__oSets__date                                                 54 non-null object\n",
      "fields__oSets__dateCompare                                          54 non-null datetime64[ns]\n",
      "fields__oSets__desc                                                 0 non-null float64\n",
      "fields__oSets__growthStage                                          45 non-null float64\n",
      "fields__oSets__growthStage Zadoks                                   9 non-null float64\n",
      "fields__oSets__oPoints__id                                          335 non-null float64\n",
      "fields__oSets__oPoints__location__coords__accuracy                  250 non-null float64\n",
      "fields__oSets__oPoints__location__coords__altitude                  250 non-null float64\n",
      "fields__oSets__oPoints__location__coords__altitudeAccuracy          250 non-null float64\n",
      "fields__oSets__oPoints__location__coords__heading                   247 non-null float64\n",
      "fields__oSets__oPoints__location__coords__latitude                  250 non-null float64\n",
      "fields__oSets__oPoints__location__coords__longitude                 250 non-null float64\n",
      "fields__oSets__oPoints__location__coords__speed                     250 non-null float64\n",
      "fields__oSets__oPoints__location__timestamp                         250 non-null float64\n",
      "fields__oSets__oPoints__name                                        335 non-null object\n",
      "fields__oSets__oPoints__observations__a1__number                    324 non-null float64\n",
      "fields__oSets__oPoints__observations__a1__number EGA                124 non-null float64\n",
      "fields__oSets__oPoints__observations__a2__number                    112 non-null float64\n",
      "fields__oSets__oPoints__observations__a2__number BCO                30 non-null float64\n",
      "fields__oSets__oPoints__observations__a3__number                    25 non-null float64\n",
      "fields__oSets__oPoints__observations__a3__number Greenbug           0 non-null float64\n",
      "fields__oSets__oPoints__observations__anum                          1350 non-null float64\n",
      "fields__oSets__oPoints__observations__anum TotalAPhids              325 non-null float64\n",
      "fields__oSets__oPoints__observations__complete                      1937 non-null float64\n",
      "fields__oSets__oPoints__observations__disabled                      0 non-null float64\n",
      "fields__oSets__oPoints__observations__eVnum                         270 non-null float64\n",
      "fields__oSets__oPoints__observations__eVnum Natural enemy totals    65 non-null float64\n",
      "fields__oSets__oPoints__observations__enum                          335 non-null float64\n",
      "fields__oSets__oPoints__observations__id                            2010 non-null float64\n",
      "fields__oSets__oPoints__observations__name                          2010 non-null object\n",
      "fields__oSets__oPoints__observations__|                             3015 non-null object\n",
      "fields__oSets__oPoints__observations__|__number                     172 non-null float64\n",
      "fields__oSets__obsName                                              54 non-null object\n",
      "fields__oSets__results                                              52 non-null object\n",
      "fields__oSets__totalA1                                              52 non-null float64\n",
      "fields__oSets__totalA2                                              52 non-null float64\n",
      "fields__oSets__totalA3                                              52 non-null float64\n",
      "fields__oSets__totalA4                                              52 non-null float64\n",
      "fields__oSets__totalSets                                            54 non-null float64\n",
      "observers                                                           3 non-null object\n",
      "dtypes: datetime64[ns](1), float64(33), object(22)\n",
      "memory usage: 2.0+ MB\n"
     ]
    }
   ],
   "source": [
    "pandas.concat(sheets).info()"
   ]
  },
  {
   "cell_type": "markdown",
   "metadata": {},
   "source": [
    " "
   ]
  },
  {
   "cell_type": "markdown",
   "metadata": {
    "cell_style": "split",
    "slideshow": {
     "slide_type": "fragment"
    }
   },
   "source": [
    "We can see the MultiIndex size in the info: \n",
    "\n",
    ">MultiIndex: 4690 entries, (Erl, 0) to (Tyler, 3779)\n",
    "\n",
    "Which means 4690 \"rows\", if this were a spreadsheet. "
   ]
  },
  {
   "cell_type": "markdown",
   "metadata": {
    "cell_style": "split",
    "slideshow": {
     "slide_type": "fragment"
    }
   },
   "source": [
    "Compare to the total row count for all sheets, by using Python's function `len`:"
   ]
  },
  {
   "cell_type": "code",
   "execution_count": 99,
   "metadata": {
    "ExecuteTime": {
     "start_time": "2018-04-18T20:06:44.314Z"
    },
    "cell_style": "split"
   },
   "outputs": [
    {
     "data": {
      "text/plain": [
       "[910, 3780]"
      ]
     },
     "metadata": {},
     "output_type": "display_data"
    },
    {
     "data": {
      "text/plain": [
       "4690"
      ]
     },
     "execution_count": 99,
     "metadata": {},
     "output_type": "execute_result"
    }
   ],
   "source": [
    "data_frame_lengths = [len(sheet) for sheet in sheets.values()]\n",
    "display(data_frame_lengths)\n",
    "sum(data_frame_lengths)"
   ]
  },
  {
   "cell_type": "markdown",
   "metadata": {},
   "source": [
    " "
   ]
  },
  {
   "cell_type": "markdown",
   "metadata": {
    "cell_style": "split"
   },
   "source": [
    ">Data columns (total 56 columns)\n",
    "\n",
    "The `info()` readout for the concatenation dry run tells us about columns."
   ]
  },
  {
   "cell_type": "code",
   "execution_count": 100,
   "metadata": {
    "ExecuteTime": {
     "start_time": "2018-04-18T20:06:45.730Z"
    },
    "cell_style": "split"
   },
   "outputs": [
    {
     "data": {
      "text/plain": [
       "[50, 50]"
      ]
     },
     "execution_count": 100,
     "metadata": {},
     "output_type": "execute_result"
    }
   ],
   "source": [
    "[len(sheet.columns) for sheet in sheets.values()]"
   ]
  },
  {
   "cell_type": "markdown",
   "metadata": {
    "cell_style": "split"
   },
   "source": [
    "The column counts for each source worksheet."
   ]
  },
  {
   "cell_type": "markdown",
   "metadata": {},
   "source": [
    "Pretty good, so far, except for some extra columns due to variations in the column names—I see `growthStage` and `growthStage Zadoks`, as well as some aphid names amongst the `a1__number`, `a2__number`, `a3__number` group.\n",
    "\n",
    "* Unchanging number of rows\n",
    "  + Merge result: Good 😃\n",
    "    + no redundancy in rows\n",
    "    + no missing rows\n",
    "* Rising number of columns\n",
    "  - Merge result: Sub-optimal 😡\n",
    "    - redundancy in columns\n",
    "    - incomplete merge"
   ]
  },
  {
   "cell_type": "markdown",
   "metadata": {},
   "source": [
    "### Column Name Difference"
   ]
  },
  {
   "cell_type": "markdown",
   "metadata": {},
   "source": [
    "#### Visualize the Difference"
   ]
  },
  {
   "cell_type": "markdown",
   "metadata": {},
   "source": [
    "By looking at the column list from the dry run, it's already fairly obvious what the naming problem is. But just to demonstrate how to use Python to calculate differences, let's look again at our DataFrames column names.\n",
    "\n",
    "For our frames:"
   ]
  },
  {
   "cell_type": "code",
   "execution_count": 101,
   "metadata": {
    "ExecuteTime": {
     "start_time": "2018-04-18T20:06:50.515Z"
    }
   },
   "outputs": [
    {
     "name": "stdout",
     "output_type": "stream",
     "text": [
      "Erl, <class 'pandas.core.frame.DataFrame'>\n",
      "Tyler, <class 'pandas.core.frame.DataFrame'>\n"
     ]
    }
   ],
   "source": [
    "for key, sheet in sheets.items():\n",
    "    print(f\"{key}, {type(sheet)!r}\")"
   ]
  },
  {
   "cell_type": "code",
   "execution_count": 102,
   "metadata": {},
   "outputs": [
    {
     "name": "stdout",
     "output_type": "stream",
     "text": [
      "Erl, <class 'pandas.core.frame.DataFrame'>\n",
      "Tyler, <class 'pandas.core.frame.DataFrame'>\n"
     ]
    }
   ],
   "source": [
    "print('\\n'.join((f\"{key}, {type(sheet)!r}\" for key, sheet in sheets.items())))"
   ]
  },
  {
   "cell_type": "markdown",
   "metadata": {},
   "source": [
    "To list the names of columns from *all* sheets that don't have a match (symmetric difference), we can use [`set.symmetric_difference`], which is also written as the `^` symbol demonstrated in the [introduction to sets].\n",
    "\n",
    "[introduction to sets]: #Sets\n",
    "[`set.symmetric_difference`]: https://docs.python.org/3/library/stdtypes.html#frozenset.symmetric_difference"
   ]
  },
  {
   "cell_type": "code",
   "execution_count": 103,
   "metadata": {
    "ExecuteTime": {
     "start_time": "2018-04-18T20:06:52.557Z"
    }
   },
   "outputs": [
    {
     "data": {
      "text/plain": [
       "Index(['fields__oSets__growthStage', 'fields__oSets__growthStage Zadoks',\n",
       "       'fields__oSets__oPoints__observations__a1__number',\n",
       "       'fields__oSets__oPoints__observations__a1__number EGA',\n",
       "       'fields__oSets__oPoints__observations__a2__number',\n",
       "       'fields__oSets__oPoints__observations__a2__number BCO',\n",
       "       'fields__oSets__oPoints__observations__a3__number',\n",
       "       'fields__oSets__oPoints__observations__a3__number Greenbug',\n",
       "       'fields__oSets__oPoints__observations__anum',\n",
       "       'fields__oSets__oPoints__observations__anum TotalAPhids',\n",
       "       'fields__oSets__oPoints__observations__eVnum',\n",
       "       'fields__oSets__oPoints__observations__eVnum Natural enemy totals'],\n",
       "      dtype='object')"
      ]
     },
     "metadata": {},
     "output_type": "display_data"
    }
   ],
   "source": [
    "column_list = sheets['Erl'].columns ^ sheets['Tyler'].columns\n",
    "display(column_list)"
   ]
  },
  {
   "cell_type": "markdown",
   "metadata": {},
   "source": [
    "Here are the problematic parts:\n",
    "\n",
    "`fields__oSets__growthStage\n",
    "fields__oSets__growthStage `**`Zadoks`**`<\n",
    "fields__oSets__oPoints__observations__a1__number\n",
    "fields__oSets__oPoints__observations__a1__number `**`EGA`**`<\n",
    "fields__oSets__oPoints__observations__a2__number\n",
    "fields__oSets__oPoints__observations__a2__number `**`BCO`**`<\n",
    "fields__oSets__oPoints__observations__a3__number\n",
    "fields__oSets__oPoints__observations__a3__number `**`Greenbug`**`<\n",
    "fields__oSets__oPoints__observations__anum\n",
    "fields__oSets__oPoints__observations__anum `**`TotalAPhids`**`<\n",
    "fields__oSets__oPoints__observations__eVnum\n",
    "fields__oSets__oPoints__observations__eVnum `**`Natural enemy totals`**`<`"
   ]
  },
  {
   "cell_type": "markdown",
   "metadata": {},
   "source": [
    "Before we concatenate, let's standardize on the names from the more regular DataFrame. But which sheet is the one to fix? Which sheet has `fields__oSets__growthStage Zadoks` (two \"words\") instead of `fields__oSets__growthStage` (one \"word\")?\n",
    "\n",
    "Let's make sure of what we're about to do, by checking for any column names have multiple \"words\":"
   ]
  },
  {
   "cell_type": "code",
   "execution_count": 104,
   "metadata": {
    "ExecuteTime": {
     "start_time": "2018-04-18T20:06:55.132Z"
    },
    "init_cell": true
   },
   "outputs": [],
   "source": [
    "sheets_with_bad_column_names = {sheet_name: sheet for sheet_name, sheet in sheets.items() \n",
    "                                if any(len(column.split()) > 1 for column in sheet.columns)}"
   ]
  },
  {
   "cell_type": "code",
   "execution_count": 105,
   "metadata": {
    "ExecuteTime": {
     "start_time": "2018-04-18T20:06:55.230Z"
    }
   },
   "outputs": [
    {
     "data": {
      "text/html": [
       "<h5>Bad:</h5>"
      ],
      "text/plain": [
       "<IPython.core.display.HTML object>"
      ]
     },
     "metadata": {},
     "output_type": "display_data"
    },
    {
     "data": {
      "text/plain": [
       "{'Erl'}"
      ]
     },
     "metadata": {},
     "output_type": "display_data"
    }
   ],
   "source": [
    "display(heading('Bad:'),\n",
    "        set(sheets_with_bad_column_names.keys()))"
   ]
  },
  {
   "cell_type": "markdown",
   "metadata": {},
   "source": [
    "There's now a `sheets_with_bad_column_names` list we can use when we fix that."
   ]
  },
  {
   "cell_type": "markdown",
   "metadata": {},
   "source": [
    "##### To Confirm:"
   ]
  },
  {
   "cell_type": "markdown",
   "metadata": {},
   "source": [
    "All the sheets, minus the bad ones:"
   ]
  },
  {
   "cell_type": "code",
   "execution_count": 106,
   "metadata": {
    "ExecuteTime": {
     "start_time": "2018-04-18T20:06:58.906Z"
    }
   },
   "outputs": [
    {
     "data": {
      "text/html": [
       "<h5>Good:</h5>"
      ],
      "text/plain": [
       "<IPython.core.display.HTML object>"
      ]
     },
     "metadata": {},
     "output_type": "display_data"
    },
    {
     "data": {
      "text/plain": [
       "{'Tyler'}"
      ]
     },
     "metadata": {},
     "output_type": "display_data"
    }
   ],
   "source": [
    "display(heading('Good:'),\n",
    "        sheets.keys() - sheets_with_bad_column_names.keys())"
   ]
  },
  {
   "cell_type": "markdown",
   "metadata": {},
   "source": [
    "Okay, \"Tyler\" has the column names we prefer, \"Erl\" does not. Duly noted."
   ]
  },
  {
   "cell_type": "markdown",
   "metadata": {},
   "source": [
    "#### How shall we solve the name mismatch?"
   ]
  },
  {
   "cell_type": "markdown",
   "metadata": {},
   "source": [
    "Our options:\n",
    "\n",
    "- rename the columns (somewhere)\n",
    "- ignore the column names of the bad sheet, merge based on order of columns\n",
    "\n",
    "If we try to do a special merge, ignoring the column names, we have to worry about the _precise order_ of those columns instead of relying on the names. Since we'd have to spend time checking—and possibly rearranging—the column sequence, we might as well fix the names. We can do so while documenting the steps, for posterity."
   ]
  },
  {
   "cell_type": "markdown",
   "metadata": {},
   "source": [
    "#### Where should we rename the columns?"
   ]
  },
  {
   "cell_type": "markdown",
   "metadata": {},
   "source": [
    "Possibilities:\n",
    "\n",
    "- fix the spreadsheet document in Excel, re-import with _pandas_ and move ahead as if this had never happened\n",
    "- correct the names in memory only, on the fly, with _pandas_\n",
    "\n",
    "Since this notebook you're reading has already demonstrated the problem, and we're using _pandas_ anyway, let's go ahead and solve it here."
   ]
  },
  {
   "cell_type": "markdown",
   "metadata": {},
   "source": [
    "#### Renaming axis labels (columns or rows) with _pandas_"
   ]
  },
  {
   "cell_type": "markdown",
   "metadata": {},
   "source": [
    "_pandas_ has a [`rename`] method which lets us:\n",
    "\n",
    "- Apply a transform function to the DataFrame columns that are named after our worksheet columns. \n",
    "- Use a dictionary to explicitly map each column to its respective new name.\n",
    "\n",
    "Either way, we'll need a function or expression for changing each name. Since the bad names merely have extra words tacked onto the end, let's just split the name and use the first \"word\".\n",
    "\n",
    "[`rename`]: https://pandas.pydata.org/pandas-docs/stable/generated/pandas.DataFrame.rename.html"
   ]
  },
  {
   "cell_type": "markdown",
   "metadata": {},
   "source": [
    "In Python, we get the first item of a sequence by using index zero. (As you may remember from the earlier [introduction to lists].)\n",
    "\n",
    "[introduction to lists]: #Lists-&-tuples"
   ]
  },
  {
   "cell_type": "code",
   "execution_count": 107,
   "metadata": {
    "ExecuteTime": {
     "start_time": "2018-04-18T20:07:07.640Z"
    },
    "init_cell": true
   },
   "outputs": [],
   "source": [
    "def first_word(string, word_separator=' '):\n",
    "    \"\"\" Split string into words (by space character), return first word. \"\"\"\n",
    "    words = string.split(word_separator)\n",
    "    return words[0]"
   ]
  },
  {
   "cell_type": "markdown",
   "metadata": {},
   "source": [
    "Since the function was so easy to make, let's not bother with a dictionary. For the sake of visualizing the changes, let's report on changes in a dry run before using the _pandas_ rename function. You certainly don't have to do anything like this, but I enjoy working in Python."
   ]
  },
  {
   "cell_type": "code",
   "execution_count": 108,
   "metadata": {
    "ExecuteTime": {
     "start_time": "2018-04-18T20:07:08.984Z"
    }
   },
   "outputs": [
    {
     "data": {
      "text/html": [
       "<h5>Erl</h5><ol><li>fields__client__company</li><li>fields__client__name</li><li>fields__client__fname</li><li>fields__client__lname</li><li>fields__client__displayText</li><li>fields__name</li><li>fields__crop</li><li>fields__desc</li><li>fields__image</li><li>fields__date</li><li>fields__oSets__date</li><li>fields__oSets__dateCompare</li><li style='font-weight: bold'>fields__oSets__growthStage Zadoks <br> &rarr; fields__oSets__growthStage</li><li>fields__oSets__desc</li><li>fields__oSets__obsName</li><li>fields__oSets__totalSets</li><li>fields__oSets__completeSets</li><li>fields__oSets__results</li><li>fields__oSets__oPoints__id</li><li>fields__oSets__oPoints__name</li><li>fields__oSets__oPoints__observations__id</li><li>fields__oSets__oPoints__observations__name</li><li>fields__oSets__oPoints__observations__enum</li><li style='font-weight: bold'>fields__oSets__oPoints__observations__eVnum Natural enemy totals <br> &rarr; fields__oSets__oPoints__observations__eVnum</li><li style='font-weight: bold'>fields__oSets__oPoints__observations__anum TotalAPhids <br> &rarr; fields__oSets__oPoints__observations__anum</li><li style='font-weight: bold'>fields__oSets__oPoints__observations__a1__number EGA <br> &rarr; fields__oSets__oPoints__observations__a1__number</li><li style='font-weight: bold'>fields__oSets__oPoints__observations__a2__number BCO <br> &rarr; fields__oSets__oPoints__observations__a2__number</li><li style='font-weight: bold'>fields__oSets__oPoints__observations__a3__number Greenbug <br> &rarr; fields__oSets__oPoints__observations__a3__number</li><li>fields__oSets__oPoints__observations__disabled</li><li>fields__oSets__oPoints__observations__complete</li><li>fields__oSets__oPoints__observations__|</li><li>fields__oSets__oPoints__observations__|__number</li><li>fields__oSets__oPoints__location__coords__latitude</li><li>fields__oSets__oPoints__location__coords__longitude</li><li>fields__oSets__oPoints__location__coords__accuracy</li><li>fields__oSets__oPoints__location__coords__altitude</li><li>fields__oSets__oPoints__location__coords__heading</li><li>fields__oSets__oPoints__location__coords__speed</li><li>fields__oSets__oPoints__location__coords__altitudeAccuracy</li><li>fields__oSets__oPoints__location__timestamp</li><li>fields__oSets__totalA1</li><li>fields__oSets__totalA2</li><li>fields__oSets__totalA3</li><li>fields__oSets__totalA4</li><li>clients__company</li><li>clients__name</li><li>clients__fname</li><li>clients__lname</li><li>clients__displayText</li><li>observers</li></ol>"
      ],
      "text/plain": [
       "<IPython.core.display.HTML object>"
      ]
     },
     "metadata": {},
     "output_type": "display_data"
    }
   ],
   "source": [
    "report = []  # For the lines of the report which we'll display later.\n",
    "for sheet_name, frame in sheets_with_bad_column_names.items():\n",
    "    report.append(make_heading(sheet_name, level=5))  # heading for each frame\n",
    "    report_lines = []  # the body of the report for each DataFrame\n",
    "    for before in frame.columns:\n",
    "        after = first_word(before)\n",
    "        if after != before:  # not equal\n",
    "            content = f\"{before} <br> &rarr; {after}\"  # old --> new\n",
    "            attributes = \"style='font-weight: bold'\"  # CSS\n",
    "        else:\n",
    "            content = before\n",
    "            attributes = None\n",
    "        report_lines.append(html_wrap(content, 'li', attributes))  # HTML list item\n",
    "    report.append(html_wrap(''.join(report_lines), 'ol'))  # HTML ordered list\n",
    "    \n",
    "# join all the report lines together and display as HTML\n",
    "display(HTML(''.join(report)))"
   ]
  },
  {
   "cell_type": "markdown",
   "metadata": {},
   "source": [
    "Looks perfect! Actually change the names:"
   ]
  },
  {
   "cell_type": "code",
   "execution_count": 109,
   "metadata": {
    "ExecuteTime": {
     "start_time": "2018-04-18T20:07:10.289Z"
    },
    "init_cell": true
   },
   "outputs": [],
   "source": [
    "for sheet in sheets_with_bad_column_names.values():\n",
    "    sheet.rename(mapper=first_word, axis='columns', inplace=True)"
   ]
  },
  {
   "cell_type": "markdown",
   "metadata": {},
   "source": [
    "##### Developer notes:"
   ]
  },
  {
   "cell_type": "markdown",
   "metadata": {},
   "source": [
    "As mentioned before, we know there's only one sheet, so the `for` loop isn't absolutely necessary, but it's still a good habit when dealing with reusable scripts that can work on batches of datasets. (Sometimes other people find your work useful, and sometimes you'll revisit your work to copy something that succeeded in the past.)"
   ]
  },
  {
   "cell_type": "markdown",
   "metadata": {},
   "source": [
    "### Finally Uniting Our (Properly Labeled) DataFrames"
   ]
  },
  {
   "cell_type": "code",
   "execution_count": 110,
   "metadata": {
    "ExecuteTime": {
     "start_time": "2018-04-18T20:07:14.165Z"
    },
    "init_cell": true
   },
   "outputs": [],
   "source": [
    "data = pandas.concat(sheets)"
   ]
  },
  {
   "cell_type": "code",
   "execution_count": 111,
   "metadata": {
    "ExecuteTime": {
     "start_time": "2018-04-18T20:07:14.255Z"
    }
   },
   "outputs": [
    {
     "name": "stdout",
     "output_type": "stream",
     "text": [
      "<class 'pandas.core.frame.DataFrame'>\n",
      "MultiIndex: 4690 entries, (Erl, 0) to (Tyler, 3779)\n",
      "Columns: 50 entries, clients__company to observers\n",
      "dtypes: datetime64[ns](1), float64(27), object(22)\n",
      "memory usage: 1.8+ MB\n"
     ]
    }
   ],
   "source": [
    "data.info(verbose=False)"
   ]
  },
  {
   "cell_type": "markdown",
   "metadata": {},
   "source": [
    "Splendid! That's what we expected. 😁"
   ]
  },
  {
   "cell_type": "markdown",
   "metadata": {},
   "source": [
    "## Goal: Map the Column Relationships"
   ]
  },
  {
   "cell_type": "markdown",
   "metadata": {},
   "source": [
    "### Indexing by Repeated Words"
   ]
  },
  {
   "cell_type": "code",
   "execution_count": 112,
   "metadata": {},
   "outputs": [
    {
     "data": {
      "text/plain": [
       "Index(['clients__company', 'clients__displayText', 'clients__fname',\n",
       "       'clients__lname', 'clients__name', 'fields__client__company',\n",
       "       'fields__client__displayText', 'fields__client__fname',\n",
       "       'fields__client__lname', 'fields__client__name', 'fields__crop',\n",
       "       'fields__date', 'fields__desc', 'fields__image', 'fields__name',\n",
       "       'fields__oSets__completeSets', 'fields__oSets__date',\n",
       "       'fields__oSets__dateCompare', 'fields__oSets__desc',\n",
       "       'fields__oSets__growthStage', 'fields__oSets__oPoints__id',\n",
       "       'fields__oSets__oPoints__location__coords__accuracy',\n",
       "       'fields__oSets__oPoints__location__coords__altitude',\n",
       "       'fields__oSets__oPoints__location__coords__altitudeAccuracy',\n",
       "       'fields__oSets__oPoints__location__coords__heading',\n",
       "       'fields__oSets__oPoints__location__coords__latitude',\n",
       "       'fields__oSets__oPoints__location__coords__longitude',\n",
       "       'fields__oSets__oPoints__location__coords__speed',\n",
       "       'fields__oSets__oPoints__location__timestamp',\n",
       "       'fields__oSets__oPoints__name',\n",
       "       'fields__oSets__oPoints__observations__a1__number',\n",
       "       'fields__oSets__oPoints__observations__a2__number',\n",
       "       'fields__oSets__oPoints__observations__a3__number',\n",
       "       'fields__oSets__oPoints__observations__anum',\n",
       "       'fields__oSets__oPoints__observations__complete',\n",
       "       'fields__oSets__oPoints__observations__disabled',\n",
       "       'fields__oSets__oPoints__observations__eVnum',\n",
       "       'fields__oSets__oPoints__observations__enum',\n",
       "       'fields__oSets__oPoints__observations__id',\n",
       "       'fields__oSets__oPoints__observations__name',\n",
       "       'fields__oSets__oPoints__observations__|',\n",
       "       'fields__oSets__oPoints__observations__|__number',\n",
       "       'fields__oSets__obsName', 'fields__oSets__results',\n",
       "       'fields__oSets__totalA1', 'fields__oSets__totalA2',\n",
       "       'fields__oSets__totalA3', 'fields__oSets__totalA4',\n",
       "       'fields__oSets__totalSets', 'observers'],\n",
       "      dtype='object')"
      ]
     },
     "execution_count": 112,
     "metadata": {},
     "output_type": "execute_result"
    }
   ],
   "source": [
    "data.columns"
   ]
  },
  {
   "cell_type": "markdown",
   "metadata": {},
   "source": [
    "We're dealing with a lot of repetition in column names, which indicates relationships to each other which we can use to group our columns. The more often a word is repeated, the more it outranks its fellow words — or the higher its seniority in the family tree, so to speak."
   ]
  },
  {
   "cell_type": "markdown",
   "metadata": {},
   "source": [
    "Let's use a nested dictionary in Python to map out a relational hierarchy.\n",
    "\n",
    "Also, _pandas_ has a concept of [indexing hierarchically], which may help group columns together — we can probably use the dictionary to help us add more indices to the DataFrame later, if we need.\n",
    "\n",
    "[indexing hierarchically]: https://pandas.pydata.org/pandas-docs/stable/advanced.html"
   ]
  },
  {
   "cell_type": "markdown",
   "metadata": {},
   "source": [
    "### Split the Column Names"
   ]
  },
  {
   "cell_type": "markdown",
   "metadata": {},
   "source": [
    "Our column names follow a pattern: words separated by two underscores.\n",
    "\n",
    "If we turn a column name into a list of words, we can start grouping those words based on the word that came before them.\n",
    "\n",
    "For example, these column names:\n",
    "\n",
    "```\n",
    "fields__name\n",
    "fields__oSets__oPoints__observations__name\n",
    "fields__oSets__oPoints__observations__anum\n",
    "fields__oSets__oPoints__observations__enum\n",
    "```\n",
    "\n",
    "Would become a tree of words:\n",
    "\n",
    "```\n",
    "        _ name                                  _ name\n",
    "       /                                       /\n",
    "fields --> oSets --> oPoints --> observations --- anum\n",
    "                                               \\_ enum\n",
    "```"
   ]
  },
  {
   "cell_type": "markdown",
   "metadata": {},
   "source": [
    "#### The Separator String"
   ]
  },
  {
   "cell_type": "markdown",
   "metadata": {
    "cell_style": "split"
   },
   "source": [
    "Here's what we're dealing with."
   ]
  },
  {
   "cell_type": "code",
   "execution_count": 113,
   "metadata": {
    "cell_style": "split"
   },
   "outputs": [
    {
     "data": {
      "text/plain": [
       "'fields__client__lname'"
      ]
     },
     "metadata": {},
     "output_type": "display_data"
    }
   ],
   "source": [
    "display(sheets['Erl'].columns[3])"
   ]
  },
  {
   "cell_type": "markdown",
   "metadata": {
    "cell_style": "split"
   },
   "source": [
    "Between words is `__` — save that string of underscore characters for later reference."
   ]
  },
  {
   "cell_type": "code",
   "execution_count": 114,
   "metadata": {
    "ExecuteTime": {
     "start_time": "2018-04-18T20:07:28.275Z"
    },
    "cell_style": "split",
    "init_cell": true
   },
   "outputs": [],
   "source": [
    "SEPARATOR = '__'"
   ]
  },
  {
   "cell_type": "markdown",
   "metadata": {},
   "source": [
    "##### Python's `split()` method for strings:"
   ]
  },
  {
   "cell_type": "code",
   "execution_count": 115,
   "metadata": {},
   "outputs": [
    {
     "data": {
      "text/plain": [
       "['fields', 'client', 'lname']"
      ]
     },
     "execution_count": 115,
     "metadata": {},
     "output_type": "execute_result"
    }
   ],
   "source": [
    "column_name = sheets['Erl'].columns[3]\n",
    "column_name.split(SEPARATOR)"
   ]
  },
  {
   "cell_type": "markdown",
   "metadata": {},
   "source": [
    "We can boldly use that expression whenever we please, without defining any functions."
   ]
  },
  {
   "cell_type": "code",
   "execution_count": 116,
   "metadata": {},
   "outputs": [
    {
     "data": {
      "text/plain": [
       "'So many fields about fields, I tell you!'"
      ]
     },
     "execution_count": 116,
     "metadata": {},
     "output_type": "execute_result"
    }
   ],
   "source": [
    "f\"So many fields about {column_name.split(SEPARATOR)[0]}, I tell you!\""
   ]
  },
  {
   "cell_type": "markdown",
   "metadata": {},
   "source": [
    "#### Resulting Gain: Expression for Splitting Column Names into Words"
   ]
  },
  {
   "cell_type": "code",
   "execution_count": 117,
   "metadata": {
    "ExecuteTime": {
     "start_time": "2018-04-18T20:07:28.361Z"
    },
    "scrolled": true
   },
   "outputs": [
    {
     "data": {
      "text/plain": [
       "['fields', 'client', 'company']"
      ]
     },
     "metadata": {},
     "output_type": "display_data"
    },
    {
     "data": {
      "text/plain": [
       "['fields', 'client', 'name']"
      ]
     },
     "metadata": {},
     "output_type": "display_data"
    },
    {
     "data": {
      "text/plain": [
       "['fields', 'client', 'fname']"
      ]
     },
     "metadata": {},
     "output_type": "display_data"
    },
    {
     "data": {
      "text/plain": [
       "['fields', 'client', 'lname']"
      ]
     },
     "metadata": {},
     "output_type": "display_data"
    },
    {
     "data": {
      "text/plain": [
       "['fields', 'client', 'displayText']"
      ]
     },
     "metadata": {},
     "output_type": "display_data"
    },
    {
     "data": {
      "text/plain": [
       "['fields', 'name']"
      ]
     },
     "metadata": {},
     "output_type": "display_data"
    },
    {
     "data": {
      "text/plain": [
       "['fields', 'crop']"
      ]
     },
     "metadata": {},
     "output_type": "display_data"
    },
    {
     "data": {
      "text/plain": [
       "['fields', 'desc']"
      ]
     },
     "metadata": {},
     "output_type": "display_data"
    },
    {
     "data": {
      "text/plain": [
       "['fields', 'image']"
      ]
     },
     "metadata": {},
     "output_type": "display_data"
    },
    {
     "data": {
      "text/plain": [
       "['fields', 'date']"
      ]
     },
     "metadata": {},
     "output_type": "display_data"
    },
    {
     "data": {
      "text/plain": [
       "['fields', 'oSets', 'date']"
      ]
     },
     "metadata": {},
     "output_type": "display_data"
    },
    {
     "data": {
      "text/plain": [
       "['fields', 'oSets', 'dateCompare']"
      ]
     },
     "metadata": {},
     "output_type": "display_data"
    },
    {
     "data": {
      "text/plain": [
       "['fields', 'oSets', 'growthStage']"
      ]
     },
     "metadata": {},
     "output_type": "display_data"
    },
    {
     "data": {
      "text/plain": [
       "['fields', 'oSets', 'desc']"
      ]
     },
     "metadata": {},
     "output_type": "display_data"
    },
    {
     "data": {
      "text/plain": [
       "['fields', 'oSets', 'obsName']"
      ]
     },
     "metadata": {},
     "output_type": "display_data"
    },
    {
     "data": {
      "text/plain": [
       "['fields', 'oSets', 'totalSets']"
      ]
     },
     "metadata": {},
     "output_type": "display_data"
    },
    {
     "data": {
      "text/plain": [
       "['fields', 'oSets', 'completeSets']"
      ]
     },
     "metadata": {},
     "output_type": "display_data"
    },
    {
     "data": {
      "text/plain": [
       "['fields', 'oSets', 'results']"
      ]
     },
     "metadata": {},
     "output_type": "display_data"
    },
    {
     "data": {
      "text/plain": [
       "['fields', 'oSets', 'oPoints', 'id']"
      ]
     },
     "metadata": {},
     "output_type": "display_data"
    },
    {
     "data": {
      "text/plain": [
       "['fields', 'oSets', 'oPoints', 'name']"
      ]
     },
     "metadata": {},
     "output_type": "display_data"
    },
    {
     "data": {
      "text/plain": [
       "['fields', 'oSets', 'oPoints', 'observations', 'id']"
      ]
     },
     "metadata": {},
     "output_type": "display_data"
    },
    {
     "data": {
      "text/plain": [
       "['fields', 'oSets', 'oPoints', 'observations', 'name']"
      ]
     },
     "metadata": {},
     "output_type": "display_data"
    },
    {
     "data": {
      "text/plain": [
       "['fields', 'oSets', 'oPoints', 'observations', 'enum']"
      ]
     },
     "metadata": {},
     "output_type": "display_data"
    },
    {
     "data": {
      "text/plain": [
       "['fields', 'oSets', 'oPoints', 'observations', 'eVnum']"
      ]
     },
     "metadata": {},
     "output_type": "display_data"
    },
    {
     "data": {
      "text/plain": [
       "['fields', 'oSets', 'oPoints', 'observations', 'anum']"
      ]
     },
     "metadata": {},
     "output_type": "display_data"
    },
    {
     "data": {
      "text/plain": [
       "['fields', 'oSets', 'oPoints', 'observations', 'a1', 'number']"
      ]
     },
     "metadata": {},
     "output_type": "display_data"
    },
    {
     "data": {
      "text/plain": [
       "['fields', 'oSets', 'oPoints', 'observations', 'a2', 'number']"
      ]
     },
     "metadata": {},
     "output_type": "display_data"
    },
    {
     "data": {
      "text/plain": [
       "['fields', 'oSets', 'oPoints', 'observations', 'a3', 'number']"
      ]
     },
     "metadata": {},
     "output_type": "display_data"
    },
    {
     "data": {
      "text/plain": [
       "['fields', 'oSets', 'oPoints', 'observations', 'disabled']"
      ]
     },
     "metadata": {},
     "output_type": "display_data"
    },
    {
     "data": {
      "text/plain": [
       "['fields', 'oSets', 'oPoints', 'observations', 'complete']"
      ]
     },
     "metadata": {},
     "output_type": "display_data"
    },
    {
     "data": {
      "text/plain": [
       "['fields', 'oSets', 'oPoints', 'observations', '|']"
      ]
     },
     "metadata": {},
     "output_type": "display_data"
    },
    {
     "data": {
      "text/plain": [
       "['fields', 'oSets', 'oPoints', 'observations', '|', 'number']"
      ]
     },
     "metadata": {},
     "output_type": "display_data"
    },
    {
     "data": {
      "text/plain": [
       "['fields', 'oSets', 'oPoints', 'location', 'coords', 'latitude']"
      ]
     },
     "metadata": {},
     "output_type": "display_data"
    },
    {
     "data": {
      "text/plain": [
       "['fields', 'oSets', 'oPoints', 'location', 'coords', 'longitude']"
      ]
     },
     "metadata": {},
     "output_type": "display_data"
    },
    {
     "data": {
      "text/plain": [
       "['fields', 'oSets', 'oPoints', 'location', 'coords', 'accuracy']"
      ]
     },
     "metadata": {},
     "output_type": "display_data"
    },
    {
     "data": {
      "text/plain": [
       "['fields', 'oSets', 'oPoints', 'location', 'coords', 'altitude']"
      ]
     },
     "metadata": {},
     "output_type": "display_data"
    },
    {
     "data": {
      "text/plain": [
       "['fields', 'oSets', 'oPoints', 'location', 'coords', 'heading']"
      ]
     },
     "metadata": {},
     "output_type": "display_data"
    },
    {
     "data": {
      "text/plain": [
       "['fields', 'oSets', 'oPoints', 'location', 'coords', 'speed']"
      ]
     },
     "metadata": {},
     "output_type": "display_data"
    },
    {
     "data": {
      "text/plain": [
       "['fields', 'oSets', 'oPoints', 'location', 'coords', 'altitudeAccuracy']"
      ]
     },
     "metadata": {},
     "output_type": "display_data"
    },
    {
     "data": {
      "text/plain": [
       "['fields', 'oSets', 'oPoints', 'location', 'timestamp']"
      ]
     },
     "metadata": {},
     "output_type": "display_data"
    },
    {
     "data": {
      "text/plain": [
       "['fields', 'oSets', 'totalA1']"
      ]
     },
     "metadata": {},
     "output_type": "display_data"
    },
    {
     "data": {
      "text/plain": [
       "['fields', 'oSets', 'totalA2']"
      ]
     },
     "metadata": {},
     "output_type": "display_data"
    },
    {
     "data": {
      "text/plain": [
       "['fields', 'oSets', 'totalA3']"
      ]
     },
     "metadata": {},
     "output_type": "display_data"
    },
    {
     "data": {
      "text/plain": [
       "['fields', 'oSets', 'totalA4']"
      ]
     },
     "metadata": {},
     "output_type": "display_data"
    },
    {
     "data": {
      "text/plain": [
       "['clients', 'company']"
      ]
     },
     "metadata": {},
     "output_type": "display_data"
    },
    {
     "data": {
      "text/plain": [
       "['clients', 'name']"
      ]
     },
     "metadata": {},
     "output_type": "display_data"
    },
    {
     "data": {
      "text/plain": [
       "['clients', 'fname']"
      ]
     },
     "metadata": {},
     "output_type": "display_data"
    },
    {
     "data": {
      "text/plain": [
       "['clients', 'lname']"
      ]
     },
     "metadata": {},
     "output_type": "display_data"
    },
    {
     "data": {
      "text/plain": [
       "['clients', 'displayText']"
      ]
     },
     "metadata": {},
     "output_type": "display_data"
    },
    {
     "data": {
      "text/plain": [
       "['observers']"
      ]
     },
     "metadata": {},
     "output_type": "display_data"
    }
   ],
   "source": [
    "for column_name in sheets['Erl'].columns:\n",
    "    display(column_name.split(SEPARATOR))"
   ]
  },
  {
   "cell_type": "markdown",
   "metadata": {},
   "source": [
    "Looks good to me. Some words aren't separated, like `dateCompare` and `growthStage`, but those shouldn't pose a problem because they're nicely grouped with related columns."
   ]
  },
  {
   "cell_type": "markdown",
   "metadata": {},
   "source": [
    "### Build a Tree of Words"
   ]
  },
  {
   "cell_type": "markdown",
   "metadata": {
    "ExecuteTime": {
     "end_time": "2018-04-17T19:35:00.796062Z",
     "start_time": "2018-04-17T19:35:00.709337Z"
    }
   },
   "source": [
    "#### Steps\n",
    "\n",
    "Here's the strategy for building a tree from those lists of words for each column name, with data:\n",
    "\n",
    "0. Given:\n",
    "   - a _pandas_ `DataFrame`\n",
    "   - a column name and separator string\n",
    "   - a `defaultdict` that makes more `defaultdict` objects if you just ask\n",
    "     for the key\n",
    "0. Set a pointer to the new `defaultdict`, which will be root of the tree, for starters.\n",
    "0. Split the column name apart, using the given separator string.\n",
    "0. Now, walk through the words in order from left to right:\n",
    "   0. access whichever `defaultdict` the pointer is currently referring to\n",
    "   0. lookup a key based the current word\n",
    "   0. update the pointer to the `defaultdict` for that key (whether it existed before or not)\n",
    "0. On the last word, update the pointer:\n",
    "   + store a reference to the data for that `DataFrame` column."
   ]
  },
  {
   "cell_type": "markdown",
   "metadata": {},
   "source": [
    "#### Define Function: `split_column_to_tree`"
   ]
  },
  {
   "cell_type": "code",
   "execution_count": 118,
   "metadata": {
    "ExecuteTime": {
     "start_time": "2018-04-18T20:07:32.248Z"
    },
    "init_cell": true
   },
   "outputs": [],
   "source": [
    "def split_column_to_tree(data_frame, column_name, tree=None,\n",
    "                         separator=SEPARATOR, data_key=SEPARATOR):\n",
    "    \"\"\"Split the column names like \"fields__oSets__oPoints__id\" into groupings\n",
    "    of keys so that related keys are easy to find, such as \n",
    "    columns['fields']['oSets']['oPoints']['id']. This produces a tree of\n",
    "    column name segments, with references to actual data at the ends.\n",
    "    \"\"\"\n",
    "    if tree is None:\n",
    "        def nested_dict():\n",
    "            return defaultdict(nested_dict)\n",
    "        tree = nested_dict()\n",
    "    pointer = tree\n",
    "    for word in str(column_name).split(separator):\n",
    "        pointer = pointer[word]\n",
    "    pointer[data_key] = data_frame[column_name]\n",
    "    return tree\n"
   ]
  },
  {
   "cell_type": "markdown",
   "metadata": {},
   "source": [
    "##### The Key to Real Data:\n",
    "\n",
    "Because there's always the chance that a node might have data as well as more nodes under it, we'll store the reference to data with a key having a name that can't possibly be a word: the separator!"
   ]
  },
  {
   "cell_type": "markdown",
   "metadata": {},
   "source": [
    "#### Use that Function in Another Function"
   ]
  },
  {
   "cell_type": "markdown",
   "metadata": {
    "scrolled": true
   },
   "source": [
    "By passing the partially constructed tree back into our function for re-use, we can accumulate all the columns together."
   ]
  },
  {
   "cell_type": "code",
   "execution_count": 119,
   "metadata": {
    "ExecuteTime": {
     "end_time": "2018-04-18T20:04:16.451869Z",
     "start_time": "2018-04-18T20:04:15.611238Z"
    },
    "init_cell": true
   },
   "outputs": [],
   "source": [
    "def make_column_tree(data_frame, separator=SEPARATOR, data_key=SEPARATOR):\n",
    "    tree = None  # initialize the variable, otherwise we can't reference it\n",
    "    for name in data.columns:\n",
    "        tree = split_column_to_tree(data_frame, name, tree, separator, data_key)\n",
    "    return tree"
   ]
  },
  {
   "cell_type": "code",
   "execution_count": 120,
   "metadata": {
    "init_cell": true
   },
   "outputs": [],
   "source": [
    "columns = make_column_tree(data)"
   ]
  },
  {
   "cell_type": "markdown",
   "metadata": {},
   "source": [
    "##### Check Column Groups"
   ]
  },
  {
   "cell_type": "markdown",
   "metadata": {},
   "source": [
    "If that worked as planned, there should be a list of the first segments of all the column names in that sheet:"
   ]
  },
  {
   "cell_type": "code",
   "execution_count": 121,
   "metadata": {
    "ExecuteTime": {
     "end_time": "2018-04-17T19:35:04.135886Z",
     "start_time": "2018-04-17T19:35:04.125212Z"
    }
   },
   "outputs": [
    {
     "data": {
      "text/plain": [
       "dict_keys(['clients', 'fields', 'observers'])"
      ]
     },
     "execution_count": 121,
     "metadata": {},
     "output_type": "execute_result"
    }
   ],
   "source": [
    "columns.keys()"
   ]
  },
  {
   "cell_type": "markdown",
   "metadata": {},
   "source": [
    "Continuing deeper, more segments that share a common prefix:"
   ]
  },
  {
   "cell_type": "code",
   "execution_count": 122,
   "metadata": {
    "ExecuteTime": {
     "end_time": "2018-04-17T19:35:04.957536Z",
     "start_time": "2018-04-17T19:35:04.946951Z"
    }
   },
   "outputs": [
    {
     "data": {
      "text/plain": [
       "dict_keys(['client', 'crop', 'date', 'desc', 'image', 'name', 'oSets'])"
      ]
     },
     "execution_count": 122,
     "metadata": {},
     "output_type": "execute_result"
    }
   ],
   "source": [
    "fields_node = columns['fields']\n",
    "fields_node.keys()"
   ]
  },
  {
   "cell_type": "code",
   "execution_count": 123,
   "metadata": {
    "ExecuteTime": {
     "end_time": "2018-04-17T19:35:05.037399Z",
     "start_time": "2018-04-17T19:35:05.027726Z"
    }
   },
   "outputs": [
    {
     "data": {
      "text/plain": [
       "dict_keys(['completeSets', 'date', 'dateCompare', 'desc', 'growthStage', 'oPoints', 'obsName', 'results', 'totalA1', 'totalA2', 'totalA3', 'totalA4', 'totalSets'])"
      ]
     },
     "execution_count": 123,
     "metadata": {},
     "output_type": "execute_result"
    }
   ],
   "source": [
    "sets_node = fields_node['oSets']\n",
    "sets_node.keys()"
   ]
  },
  {
   "cell_type": "markdown",
   "metadata": {},
   "source": [
    "#### Visualize the Tree"
   ]
  },
  {
   "cell_type": "markdown",
   "metadata": {},
   "source": [
    "Browsing the column structure by using the dictionary accessors is a bit tedious. It's great for machines, but my human brain has a bit of trouble holding it all in my head when I see it only one level at a time."
   ]
  },
  {
   "cell_type": "markdown",
   "metadata": {},
   "source": [
    "We can see the structure of the hierarchy in a dictionary by using a function like this:"
   ]
  },
  {
   "cell_type": "code",
   "execution_count": 124,
   "metadata": {
    "ExecuteTime": {
     "end_time": "2018-04-17T19:35:07.704949Z",
     "start_time": "2018-04-17T19:35:07.692198Z"
    }
   },
   "outputs": [],
   "source": [
    "def visualize_tree(tree, depth=1, maximum_depth=None, data_key=SEPARATOR):\n",
    "    if isinstance(tree, (dict, defaultdict)):\n",
    "        for key, val in tree.items():\n",
    "            if key != data_key:\n",
    "                print(\".   \" * (depth - 1) + key)\n",
    "                if maximum_depth is None or depth <= maximum_depth:\n",
    "                    visualize_tree(val, depth + 1, maximum_depth, data_key)"
   ]
  },
  {
   "cell_type": "markdown",
   "metadata": {},
   "source": [
    "It may seem strange to see math symbols used with text, but Python understands what we want: to repeat the text if we multiply it, to append if we add.\n",
    "\n",
    "Here's the output for the whole tree:"
   ]
  },
  {
   "cell_type": "code",
   "execution_count": 125,
   "metadata": {
    "ExecuteTime": {
     "end_time": "2018-04-17T19:35:08.470323Z",
     "start_time": "2018-04-17T19:35:08.398135Z"
    },
    "scrolled": true
   },
   "outputs": [
    {
     "name": "stdout",
     "output_type": "stream",
     "text": [
      "clients\n",
      ".   company\n",
      ".   displayText\n",
      ".   fname\n",
      ".   lname\n",
      ".   name\n",
      "fields\n",
      ".   client\n",
      ".   .   company\n",
      ".   .   displayText\n",
      ".   .   fname\n",
      ".   .   lname\n",
      ".   .   name\n",
      ".   crop\n",
      ".   date\n",
      ".   desc\n",
      ".   image\n",
      ".   name\n",
      ".   oSets\n",
      ".   .   completeSets\n",
      ".   .   date\n",
      ".   .   dateCompare\n",
      ".   .   desc\n",
      ".   .   growthStage\n",
      ".   .   oPoints\n",
      ".   .   .   id\n",
      ".   .   .   location\n",
      ".   .   .   .   coords\n",
      ".   .   .   .   .   accuracy\n",
      ".   .   .   .   .   altitude\n",
      ".   .   .   .   .   altitudeAccuracy\n",
      ".   .   .   .   .   heading\n",
      ".   .   .   .   .   latitude\n",
      ".   .   .   .   .   longitude\n",
      ".   .   .   .   .   speed\n",
      ".   .   .   .   timestamp\n",
      ".   .   .   name\n",
      ".   .   .   observations\n",
      ".   .   .   .   a1\n",
      ".   .   .   .   .   number\n",
      ".   .   .   .   a2\n",
      ".   .   .   .   .   number\n",
      ".   .   .   .   a3\n",
      ".   .   .   .   .   number\n",
      ".   .   .   .   anum\n",
      ".   .   .   .   complete\n",
      ".   .   .   .   disabled\n",
      ".   .   .   .   eVnum\n",
      ".   .   .   .   enum\n",
      ".   .   .   .   id\n",
      ".   .   .   .   name\n",
      ".   .   .   .   |\n",
      ".   .   .   .   .   number\n",
      ".   .   obsName\n",
      ".   .   results\n",
      ".   .   totalA1\n",
      ".   .   totalA2\n",
      ".   .   totalA3\n",
      ".   .   totalA4\n",
      ".   .   totalSets\n",
      "observers\n"
     ]
    }
   ],
   "source": [
    "visualize_tree(columns)"
   ]
  },
  {
   "cell_type": "markdown",
   "metadata": {},
   "source": [
    "Using this new function, we can also limit the depth, even to zero, which is the equivalent of `column_dictionary.keys()`:"
   ]
  },
  {
   "cell_type": "code",
   "execution_count": 126,
   "metadata": {
    "ExecuteTime": {
     "end_time": "2018-04-17T19:35:09.256584Z",
     "start_time": "2018-04-17T19:35:09.246797Z"
    }
   },
   "outputs": [
    {
     "data": {
      "text/plain": [
       "dict_keys(['clients', 'fields', 'observers'])"
      ]
     },
     "execution_count": 126,
     "metadata": {},
     "output_type": "execute_result"
    }
   ],
   "source": [
    "columns.keys()"
   ]
  },
  {
   "cell_type": "code",
   "execution_count": 127,
   "metadata": {
    "ExecuteTime": {
     "end_time": "2018-04-17T19:35:09.361843Z",
     "start_time": "2018-04-17T19:35:09.350926Z"
    }
   },
   "outputs": [
    {
     "name": "stdout",
     "output_type": "stream",
     "text": [
      "clients\n",
      "fields\n",
      "observers\n"
     ]
    }
   ],
   "source": [
    "visualize_tree(columns, maximum_depth=0)"
   ]
  },
  {
   "cell_type": "markdown",
   "metadata": {},
   "source": [
    "Or, just a shallow peek into the next level:"
   ]
  },
  {
   "cell_type": "code",
   "execution_count": 128,
   "metadata": {
    "ExecuteTime": {
     "end_time": "2018-04-17T19:35:10.176879Z",
     "start_time": "2018-04-17T19:35:10.151274Z"
    }
   },
   "outputs": [
    {
     "name": "stdout",
     "output_type": "stream",
     "text": [
      "clients\n",
      ".   company\n",
      ".   displayText\n",
      ".   fname\n",
      ".   lname\n",
      ".   name\n",
      "fields\n",
      ".   client\n",
      ".   crop\n",
      ".   date\n",
      ".   desc\n",
      ".   image\n",
      ".   name\n",
      ".   oSets\n",
      "observers\n"
     ]
    }
   ],
   "source": [
    "visualize_tree(columns, maximum_depth=1)"
   ]
  },
  {
   "cell_type": "markdown",
   "metadata": {},
   "source": [
    "#### Refer to the Data"
   ]
  },
  {
   "cell_type": "markdown",
   "metadata": {},
   "source": [
    "Earlier, we declared a `SEPARATOR` string, then decided to also use that as the key for storing a reference to data at the end of each branch in our tree index. For example, the `date` of the set:"
   ]
  },
  {
   "cell_type": "code",
   "execution_count": 129,
   "metadata": {
    "ExecuteTime": {
     "end_time": "2018-04-17T19:35:11.699078Z",
     "start_time": "2018-04-17T19:35:11.687497Z"
    }
   },
   "outputs": [
    {
     "data": {
      "text/plain": [
       "dict_keys(['__'])"
      ]
     },
     "execution_count": 129,
     "metadata": {},
     "output_type": "execute_result"
    }
   ],
   "source": [
    "sets_node = columns['fields']['oSets']\n",
    "sets_node['date'].keys()"
   ]
  },
  {
   "cell_type": "markdown",
   "metadata": {},
   "source": [
    "Since we're not using that separator string anymore, let's give our data key a better name."
   ]
  },
  {
   "cell_type": "code",
   "execution_count": 130,
   "metadata": {},
   "outputs": [],
   "source": [
    "DATA = SEPARATOR"
   ]
  },
  {
   "cell_type": "markdown",
   "metadata": {},
   "source": [
    "And we can check for that any time by using Python's `in` operator:"
   ]
  },
  {
   "cell_type": "code",
   "execution_count": 131,
   "metadata": {
    "ExecuteTime": {
     "end_time": "2018-04-17T19:35:12.571329Z",
     "start_time": "2018-04-17T19:35:12.561592Z"
    }
   },
   "outputs": [
    {
     "data": {
      "text/plain": [
       "True"
      ]
     },
     "execution_count": 131,
     "metadata": {},
     "output_type": "execute_result"
    }
   ],
   "source": [
    "DATA in sets_node['date']"
   ]
  },
  {
   "cell_type": "markdown",
   "metadata": {},
   "source": [
    "We can look at some data now!"
   ]
  },
  {
   "cell_type": "code",
   "execution_count": 132,
   "metadata": {
    "ExecuteTime": {
     "end_time": "2018-04-17T19:35:13.434297Z",
     "start_time": "2018-04-17T19:35:13.421961Z"
    }
   },
   "outputs": [
    {
     "data": {
      "text/plain": [
       "Erl  0    2017-08-02T13:12:09.542\n",
       "     1                        NaN\n",
       "     2                        NaN\n",
       "     3                        NaN\n",
       "     4                        NaN\n",
       "Name: fields__oSets__date, dtype: object"
      ]
     },
     "execution_count": 132,
     "metadata": {},
     "output_type": "execute_result"
    }
   ],
   "source": [
    "sets_node['date'][DATA].head()"
   ]
  },
  {
   "cell_type": "markdown",
   "metadata": {},
   "source": [
    "There are many missing values, represented by `NaN`. There are ways to skip over them, but let's come back to that problem later when we're dealing with entire sections of the DataFrame."
   ]
  },
  {
   "cell_type": "markdown",
   "metadata": {},
   "source": [
    "#### Resulting Gain"
   ]
  },
  {
   "cell_type": "markdown",
   "metadata": {},
   "source": [
    "Now, every column can be found in two places:\n",
    "\n",
    "- Built-in _pandas_ DataFrame methods and properties\n",
    "  - `data['fields__name'].describe()`\n",
    "  - `data['fields__client__name'].unique()`\n",
    "- Our index tree\n",
    "  - `columns['fields']['name']['__'].describe()`\n",
    "  - `columns['fields']['client']['name']['__'].unique()`\n",
    "\n",
    "In concrete terms, the data came from the real world, and each column of data pertains to a particular thing, place, or time. The column names reflect those particulars. Now, during analysis in Jupyter Notebook, we can use Python's well-known dictionary access methods to directly query relationships between columns.\n",
    "\n",
    "Soon, we'll take advantage of this structure to make expressions which intuitively select the relevent columns for any given section."
   ]
  },
  {
   "cell_type": "markdown",
   "metadata": {
    "slideshow": {
     "slide_type": "subslide"
    }
   },
   "source": [
    "### Setup Filters"
   ]
  },
  {
   "cell_type": "markdown",
   "metadata": {
    "slideshow": {
     "slide_type": "skip"
    }
   },
   "source": [
    "#### Define Functions"
   ]
  },
  {
   "cell_type": "markdown",
   "metadata": {
    "slideshow": {
     "slide_type": "fragment"
    }
   },
   "source": [
    "As soon as we want to read from groups of columns based on which batch of rows we're reading from, we'll want to easily produce a list of applicable columns for any given row. "
   ]
  },
  {
   "cell_type": "markdown",
   "metadata": {
    "slideshow": {
     "slide_type": "fragment"
    }
   },
   "source": [
    "Unfortunately, we can't simply ignore the columns with missing values, because the app also uses the absence of a value to indicate a value of zero. This is logically a practice that loses information, and this may be an example of why it's generally unwise. We'll have to work around the developers' choice."
   ]
  },
  {
   "cell_type": "markdown",
   "metadata": {
    "slideshow": {
     "slide_type": "fragment"
    }
   },
   "source": [
    "Instead, we can get lists of columns from any node in our index tree by using methods like `keys()` and `items()`. From there, we can follow the keys down to the next node, and so on, all the way to the data reference. All we have to do is figure out which keys point to data and which point to more nodes, and we can use `for` in Python to make a list of whatever we want."
   ]
  },
  {
   "cell_type": "markdown",
   "metadata": {
    "slideshow": {
     "slide_type": "subslide"
    }
   },
   "source": [
    "For detecting data that we've placed in the hierarchy of columns, we can look for the special key that we chose earlier, which we ultimately named `DATA`.\n",
    "\n",
    "`isinstance` is a built-in Python function which checks if an object is a dictionary, list, or whatever type you specify and returns `True` or `False`."
   ]
  },
  {
   "cell_type": "code",
   "execution_count": 133,
   "metadata": {
    "ExecuteTime": {
     "end_time": "2018-04-17T19:35:16.616829Z",
     "start_time": "2018-04-17T19:35:16.592721Z"
    },
    "slideshow": {
     "slide_type": "fragment"
    }
   },
   "outputs": [],
   "source": [
    "# DATA = SEPARATOR = '__'\n",
    "def has_data(node, data_key=DATA):\n",
    "    \"\"\" We know node has data if it has a key that's the data key. \"\"\"\n",
    "    return isinstance(node, dict) and data_key in node.keys()"
   ]
  },
  {
   "cell_type": "markdown",
   "metadata": {
    "slideshow": {
     "slide_type": "subslide"
    }
   },
   "source": [
    "We can easily use `for` and `has_data` together to build a filtered dictionary from any node.\n",
    "\n",
    "Here's a function which looks at all items in a node and filters out any items that aren't data containers:"
   ]
  },
  {
   "cell_type": "code",
   "execution_count": 134,
   "metadata": {
    "ExecuteTime": {
     "end_time": "2018-04-17T19:35:16.616829Z",
     "start_time": "2018-04-17T19:35:16.592721Z"
    },
    "slideshow": {
     "slide_type": "fragment"
    }
   },
   "outputs": [],
   "source": [
    "def child_data(node):\n",
    "    \"\"\" Filter children that have data. \"\"\"\n",
    "    return {parent_key: child for parent_key, child in node.items()\n",
    "            if isinstance(node, dict) and has_data(child)}"
   ]
  },
  {
   "cell_type": "markdown",
   "metadata": {
    "slideshow": {
     "slide_type": "subslide"
    }
   },
   "source": [
    "It's easy to assume that any item in a node that isn't a data container is therefore a node leading to more nodes. However, that isn't a valid assumption, because we've already seen that there are columns that disprove that case:\n",
    "\n",
    "- `fields__oSets__oPoints__observations__|`\n",
    "- `fields__oSets__oPoints__observations__|__number`\n",
    "\n",
    "We'll have to check whether the item also has children that aren't _merely_ a data container."
   ]
  },
  {
   "cell_type": "markdown",
   "metadata": {
    "slideshow": {
     "slide_type": "subslide"
    }
   },
   "source": [
    "It's a bit trickier to also check if a data container is also an intermediate node, but it can be done.\n",
    "\n",
    "Here's the logic:\n",
    "\n",
    "- If a node has more than one key:\n",
    "  - Because there can only be one data key, any other keys must something else:\n",
    "    - Assume it is a child node because we aren't expecting anything else.\n",
    "- If a node has one key:\n",
    "  - Check if that key is the data key:\n",
    "    - If yes:\n",
    "      - That can't possibly be a child node, because it's a data reference.\n",
    "    - If no:\n",
    "      - Assume it is a child node because we aren't expecting anything else."
   ]
  },
  {
   "cell_type": "code",
   "execution_count": 135,
   "metadata": {
    "ExecuteTime": {
     "end_time": "2018-04-17T19:35:16.616829Z",
     "start_time": "2018-04-17T19:35:16.592721Z"
    },
    "slideshow": {
     "slide_type": "fragment"
    }
   },
   "outputs": [],
   "source": [
    "def child_children(node):\n",
    "    \"\"\" Filter children that have children. We know an child has children if\n",
    "    it has any values that are dictionaries with at least one key that isn't\n",
    "    a data reference. \"\"\"\n",
    "    return {parent_key: child for parent_key, child in node.items()\n",
    "            if isinstance(child, dict) and len(child) > 1 or len(child) == 1 and not has_data(child)}"
   ]
  },
  {
   "cell_type": "code",
   "execution_count": 136,
   "metadata": {
    "tags": [
     "@todo-WIP"
    ]
   },
   "outputs": [],
   "source": [
    "def descendants(node):\n",
    "    \"\"\" Recursively return all children.\"\"\"\n",
    "    # @todo\n",
    "    pass"
   ]
  },
  {
   "cell_type": "code",
   "execution_count": 137,
   "metadata": {
    "ExecuteTime": {
     "end_time": "2018-04-17T19:35:16.694299Z",
     "start_time": "2018-04-17T19:35:16.686668Z"
    }
   },
   "outputs": [],
   "source": [
    "points_node = sets_node['oPoints']\n",
    "observations_node = points_node['observations']"
   ]
  },
  {
   "cell_type": "code",
   "execution_count": 138,
   "metadata": {
    "ExecuteTime": {
     "end_time": "2018-04-17T19:35:16.783143Z",
     "start_time": "2018-04-17T19:35:16.765817Z"
    }
   },
   "outputs": [
    {
     "data": {
      "text/html": [
       "<h5>children with children:</h5>"
      ],
      "text/plain": [
       "<IPython.core.display.HTML object>"
      ]
     },
     "metadata": {},
     "output_type": "display_data"
    },
    {
     "data": {
      "text/plain": [
       "dict_keys(['a1', 'a2', 'a3', '|'])"
      ]
     },
     "metadata": {},
     "output_type": "display_data"
    }
   ],
   "source": [
    "display(heading('children with children:'),\n",
    "        child_children(observations_node).keys())"
   ]
  },
  {
   "cell_type": "code",
   "execution_count": 139,
   "metadata": {
    "ExecuteTime": {
     "end_time": "2018-04-17T19:35:16.886634Z",
     "start_time": "2018-04-17T19:35:16.872932Z"
    }
   },
   "outputs": [
    {
     "data": {
      "text/html": [
       "<h5>children with data:</h5>"
      ],
      "text/plain": [
       "<IPython.core.display.HTML object>"
      ]
     },
     "metadata": {},
     "output_type": "display_data"
    },
    {
     "data": {
      "text/plain": [
       "dict_keys(['anum', 'complete', 'disabled', 'eVnum', 'enum', 'id', 'name', '|'])"
      ]
     },
     "metadata": {},
     "output_type": "display_data"
    }
   ],
   "source": [
    "display(heading('children with data:'),\n",
    "        child_data(observations_node).keys())"
   ]
  },
  {
   "cell_type": "code",
   "execution_count": 140,
   "metadata": {
    "ExecuteTime": {
     "end_time": "2018-04-17T19:35:16.954317Z",
     "start_time": "2018-04-17T19:35:16.939795Z"
    }
   },
   "outputs": [
    {
     "data": {
      "text/html": [
       "<h5>children with children & data:</h5>"
      ],
      "text/plain": [
       "<IPython.core.display.HTML object>"
      ]
     },
     "metadata": {},
     "output_type": "display_data"
    },
    {
     "data": {
      "text/plain": [
       "{'|'}"
      ]
     },
     "metadata": {},
     "output_type": "display_data"
    }
   ],
   "source": [
    "# With Python sets, the ampersand (`&`) is the set intersetion operator.\n",
    "display(heading('children with children & data:'),\n",
    "        set(child_children(observations_node).keys()) & set(child_data(observations_node).keys()))"
   ]
  },
  {
   "cell_type": "markdown",
   "metadata": {},
   "source": [
    "Oh? Children and data under `|`? What could it be?"
   ]
  },
  {
   "cell_type": "code",
   "execution_count": 141,
   "metadata": {
    "ExecuteTime": {
     "end_time": "2018-04-17T19:35:17.765041Z",
     "start_time": "2018-04-17T19:35:17.749724Z"
    }
   },
   "outputs": [
    {
     "data": {
      "text/plain": [
       "Erl  5     e1\n",
       "     6     e2\n",
       "     7     e3\n",
       "     8     e4\n",
       "     9     e5\n",
       "     10    e6\n",
       "     11    e7\n",
       "     12    e8\n",
       "     13    e9\n",
       "     19    e1\n",
       "     20    e2\n",
       "     21    e3\n",
       "     22    e4\n",
       "     23    e5\n",
       "     24    e6\n",
       "     25    e7\n",
       "     26    e8\n",
       "     27    e9\n",
       "Name: fields__oSets__oPoints__observations__|, dtype: object"
      ]
     },
     "metadata": {},
     "output_type": "display_data"
    }
   ],
   "source": [
    "display(observations_node['|'][DATA].dropna().head(18))"
   ]
  },
  {
   "cell_type": "code",
   "execution_count": 142,
   "metadata": {
    "ExecuteTime": {
     "end_time": "2018-04-17T19:35:17.831040Z",
     "start_time": "2018-04-17T19:35:17.815418Z"
    }
   },
   "outputs": [
    {
     "data": {
      "text/plain": [
       "Erl  90     5.0\n",
       "     94     1.0\n",
       "     96     2.0\n",
       "     104    5.0\n",
       "     110    1.0\n",
       "     118    4.0\n",
       "     132    2.0\n",
       "     136    1.0\n",
       "     145    1.0\n",
       "     152    1.0\n",
       "     160    1.0\n",
       "     166    1.0\n",
       "     502    2.0\n",
       "     509    1.0\n",
       "     544    1.0\n",
       "     558    2.0\n",
       "     572    7.0\n",
       "     586    6.0\n",
       "Name: fields__oSets__oPoints__observations__|__number, dtype: float64"
      ]
     },
     "metadata": {},
     "output_type": "display_data"
    }
   ],
   "source": [
    "display(observations_node['|']['number'][DATA].dropna().head(18))"
   ]
  },
  {
   "cell_type": "markdown",
   "metadata": {},
   "source": [
    "Based on my experience with using the app, I think it has something to do with natural enemy counts, because that's the only other information gathered by the app that hasn't been accounted for in the well-named columns."
   ]
  },
  {
   "cell_type": "markdown",
   "metadata": {},
   "source": [
    "As far as I've been able to discern, the source app's data doesn't distinguish between a count of zero and unreported (missing) data points. That's why the `observations__|__number` data (which doesn't necessarily exist) isn't always present on the same rows as all the `observations__|` labels.\n",
    "\n",
    "Later on, we'll need to dig up the actual list of naturaly enemies and match them to the corresponding \"e\" labels, `e1` through `e9`."
   ]
  },
  {
   "cell_type": "markdown",
   "metadata": {},
   "source": [
    "#### Improve `visualize_tree`"
   ]
  },
  {
   "cell_type": "markdown",
   "metadata": {},
   "source": [
    "Now that we have filters for helping us traverse the tree, let's take a moment to improve `visualize_tree`:"
   ]
  },
  {
   "cell_type": "code",
   "execution_count": 143,
   "metadata": {
    "ExecuteTime": {
     "end_time": "2018-04-17T19:35:21.171684Z",
     "start_time": "2018-04-17T19:35:21.126449Z"
    }
   },
   "outputs": [],
   "source": [
    "def visualize_tree(tree, depth=1, maximum_depth=None, data_key=DATA,\n",
    "                   show_leaf_nodes=True):\n",
    "    if isinstance(tree, (dict, defaultdict)):\n",
    "        if show_leaf_nodes:\n",
    "            nodes = tree\n",
    "        else:\n",
    "            nodes = child_children(tree)\n",
    "        for key, val in nodes.items():\n",
    "            if key != data_key:\n",
    "                if has_data(val):\n",
    "                    prefix = '* '\n",
    "                else:\n",
    "                    prefix = ''\n",
    "                if child_children(val) or child_data(val):\n",
    "                    suffix = '/'\n",
    "                else:\n",
    "                    suffix = ''\n",
    "                print(\".   \" * (depth - 1) + f\"{prefix}{key}{suffix}\")\n",
    "                if maximum_depth is None or depth <= maximum_depth:\n",
    "                    visualize_tree(val, depth + 1, maximum_depth, data_key,\n",
    "                                   show_leaf_nodes)"
   ]
  },
  {
   "cell_type": "markdown",
   "metadata": {},
   "source": [
    "Now we can visualize the structure in terms of what's at the ends of the branches (leaf nodes) or all descendants. The additional punctuation also makes it more obvious which nodes have data values. For example, the node at `fields__oSets__oPoints__observations__|`, which is both a data node and a branch."
   ]
  },
  {
   "cell_type": "code",
   "execution_count": 144,
   "metadata": {
    "ExecuteTime": {
     "end_time": "2018-04-17T19:35:22.034944Z",
     "start_time": "2018-04-17T19:35:22.019252Z"
    }
   },
   "outputs": [
    {
     "name": "stdout",
     "output_type": "stream",
     "text": [
      "a1/\n",
      "a2/\n",
      "a3/\n",
      "* |/\n"
     ]
    }
   ],
   "source": [
    "visualize_tree(observations_node, show_leaf_nodes=False)"
   ]
  },
  {
   "cell_type": "code",
   "execution_count": 145,
   "metadata": {
    "ExecuteTime": {
     "end_time": "2018-04-17T19:35:22.102077Z",
     "start_time": "2018-04-17T19:35:22.087060Z"
    }
   },
   "outputs": [
    {
     "name": "stdout",
     "output_type": "stream",
     "text": [
      "a1/\n",
      ".   * number\n",
      "a2/\n",
      ".   * number\n",
      "a3/\n",
      ".   * number\n",
      "* anum\n",
      "* complete\n",
      "* disabled\n",
      "* eVnum\n",
      "* enum\n",
      "* id\n",
      "* name\n",
      "* |/\n",
      ".   * number\n"
     ]
    }
   ],
   "source": [
    "visualize_tree(observations_node, show_leaf_nodes=True)"
   ]
  },
  {
   "cell_type": "markdown",
   "metadata": {},
   "source": [
    "## Putting it all together"
   ]
  },
  {
   "cell_type": "markdown",
   "metadata": {},
   "source": [
    "### Accessing data from any section & ignoring irrelevant rows"
   ]
  },
  {
   "cell_type": "markdown",
   "metadata": {},
   "source": [
    "Let's take a look at the columns containing data about observation sets.\n",
    "\n",
    "We'll use `has_data` to filter our `sets_node` so we can express a list of names of data-containing columns about `fields__oSets`."
   ]
  },
  {
   "cell_type": "code",
   "execution_count": 146,
   "metadata": {
    "ExecuteTime": {
     "end_time": "2018-04-17T19:35:24.711859Z",
     "start_time": "2018-04-17T19:35:24.699486Z"
    }
   },
   "outputs": [
    {
     "data": {
      "text/plain": [
       "['fields__oSets__completeSets',\n",
       " 'fields__oSets__date',\n",
       " 'fields__oSets__dateCompare',\n",
       " 'fields__oSets__desc',\n",
       " 'fields__oSets__growthStage',\n",
       " 'fields__oSets__obsName',\n",
       " 'fields__oSets__results',\n",
       " 'fields__oSets__totalA1',\n",
       " 'fields__oSets__totalA2',\n",
       " 'fields__oSets__totalA3',\n",
       " 'fields__oSets__totalA4',\n",
       " 'fields__oSets__totalSets']"
      ]
     },
     "metadata": {},
     "output_type": "display_data"
    }
   ],
   "source": [
    "sets_columns_names = [column[DATA].name for column in child_data(sets_node).values()]\n",
    "display(sets_columns_names)"
   ]
  },
  {
   "cell_type": "markdown",
   "metadata": {},
   "source": [
    "Passing that list to _pandas_, we should get exactly which columns of data we need:"
   ]
  },
  {
   "cell_type": "code",
   "execution_count": 147,
   "metadata": {
    "ExecuteTime": {
     "end_time": "2018-04-17T19:35:25.568072Z",
     "start_time": "2018-04-17T19:35:25.520796Z"
    }
   },
   "outputs": [
    {
     "data": {
      "text/html": [
       "<div>\n",
       "<style scoped>\n",
       "    .dataframe tbody tr th:only-of-type {\n",
       "        vertical-align: middle;\n",
       "    }\n",
       "\n",
       "    .dataframe tbody tr th {\n",
       "        vertical-align: top;\n",
       "    }\n",
       "\n",
       "    .dataframe thead th {\n",
       "        text-align: right;\n",
       "    }\n",
       "</style>\n",
       "<table border=\"1\" class=\"dataframe\">\n",
       "  <thead>\n",
       "    <tr style=\"text-align: right;\">\n",
       "      <th></th>\n",
       "      <th></th>\n",
       "      <th>fields__oSets__completeSets</th>\n",
       "      <th>fields__oSets__date</th>\n",
       "      <th>fields__oSets__dateCompare</th>\n",
       "      <th>fields__oSets__desc</th>\n",
       "      <th>fields__oSets__growthStage</th>\n",
       "      <th>fields__oSets__obsName</th>\n",
       "      <th>fields__oSets__results</th>\n",
       "      <th>fields__oSets__totalA1</th>\n",
       "      <th>fields__oSets__totalA2</th>\n",
       "      <th>fields__oSets__totalA3</th>\n",
       "      <th>fields__oSets__totalA4</th>\n",
       "      <th>fields__oSets__totalSets</th>\n",
       "    </tr>\n",
       "  </thead>\n",
       "  <tbody>\n",
       "    <tr>\n",
       "      <th rowspan=\"5\" valign=\"top\">Erl</th>\n",
       "      <th>0</th>\n",
       "      <td>0.0</td>\n",
       "      <td>2017-08-02T13:12:09.542</td>\n",
       "      <td>2017-08-02</td>\n",
       "      <td>NaN</td>\n",
       "      <td>7.0</td>\n",
       "      <td>Tyler</td>\n",
       "      <td>NaN</td>\n",
       "      <td>NaN</td>\n",
       "      <td>NaN</td>\n",
       "      <td>NaN</td>\n",
       "      <td>NaN</td>\n",
       "      <td>1.0</td>\n",
       "    </tr>\n",
       "    <tr>\n",
       "      <th>1</th>\n",
       "      <td>NaN</td>\n",
       "      <td>NaN</td>\n",
       "      <td>NaT</td>\n",
       "      <td>NaN</td>\n",
       "      <td>NaN</td>\n",
       "      <td>NaN</td>\n",
       "      <td>NaN</td>\n",
       "      <td>NaN</td>\n",
       "      <td>NaN</td>\n",
       "      <td>NaN</td>\n",
       "      <td>NaN</td>\n",
       "      <td>NaN</td>\n",
       "    </tr>\n",
       "    <tr>\n",
       "      <th>2</th>\n",
       "      <td>NaN</td>\n",
       "      <td>NaN</td>\n",
       "      <td>NaT</td>\n",
       "      <td>NaN</td>\n",
       "      <td>NaN</td>\n",
       "      <td>NaN</td>\n",
       "      <td>NaN</td>\n",
       "      <td>NaN</td>\n",
       "      <td>NaN</td>\n",
       "      <td>NaN</td>\n",
       "      <td>NaN</td>\n",
       "      <td>NaN</td>\n",
       "    </tr>\n",
       "    <tr>\n",
       "      <th>3</th>\n",
       "      <td>NaN</td>\n",
       "      <td>NaN</td>\n",
       "      <td>NaT</td>\n",
       "      <td>NaN</td>\n",
       "      <td>NaN</td>\n",
       "      <td>NaN</td>\n",
       "      <td>NaN</td>\n",
       "      <td>NaN</td>\n",
       "      <td>NaN</td>\n",
       "      <td>NaN</td>\n",
       "      <td>NaN</td>\n",
       "      <td>NaN</td>\n",
       "    </tr>\n",
       "    <tr>\n",
       "      <th>4</th>\n",
       "      <td>NaN</td>\n",
       "      <td>NaN</td>\n",
       "      <td>NaT</td>\n",
       "      <td>NaN</td>\n",
       "      <td>NaN</td>\n",
       "      <td>NaN</td>\n",
       "      <td>NaN</td>\n",
       "      <td>NaN</td>\n",
       "      <td>NaN</td>\n",
       "      <td>NaN</td>\n",
       "      <td>NaN</td>\n",
       "      <td>NaN</td>\n",
       "    </tr>\n",
       "  </tbody>\n",
       "</table>\n",
       "</div>"
      ],
      "text/plain": [
       "       fields__oSets__completeSets      fields__oSets__date  \\\n",
       "Erl 0                          0.0  2017-08-02T13:12:09.542   \n",
       "    1                          NaN                      NaN   \n",
       "    2                          NaN                      NaN   \n",
       "    3                          NaN                      NaN   \n",
       "    4                          NaN                      NaN   \n",
       "\n",
       "      fields__oSets__dateCompare  fields__oSets__desc  \\\n",
       "Erl 0                 2017-08-02                  NaN   \n",
       "    1                        NaT                  NaN   \n",
       "    2                        NaT                  NaN   \n",
       "    3                        NaT                  NaN   \n",
       "    4                        NaT                  NaN   \n",
       "\n",
       "       fields__oSets__growthStage fields__oSets__obsName  \\\n",
       "Erl 0                         7.0                  Tyler   \n",
       "    1                         NaN                    NaN   \n",
       "    2                         NaN                    NaN   \n",
       "    3                         NaN                    NaN   \n",
       "    4                         NaN                    NaN   \n",
       "\n",
       "      fields__oSets__results  fields__oSets__totalA1  fields__oSets__totalA2  \\\n",
       "Erl 0                    NaN                     NaN                     NaN   \n",
       "    1                    NaN                     NaN                     NaN   \n",
       "    2                    NaN                     NaN                     NaN   \n",
       "    3                    NaN                     NaN                     NaN   \n",
       "    4                    NaN                     NaN                     NaN   \n",
       "\n",
       "       fields__oSets__totalA3  fields__oSets__totalA4  \\\n",
       "Erl 0                     NaN                     NaN   \n",
       "    1                     NaN                     NaN   \n",
       "    2                     NaN                     NaN   \n",
       "    3                     NaN                     NaN   \n",
       "    4                     NaN                     NaN   \n",
       "\n",
       "       fields__oSets__totalSets  \n",
       "Erl 0                       1.0  \n",
       "    1                       NaN  \n",
       "    2                       NaN  \n",
       "    3                       NaN  \n",
       "    4                       NaN  "
      ]
     },
     "metadata": {},
     "output_type": "display_data"
    }
   ],
   "source": [
    "display(data[sets_columns_names].head())"
   ]
  },
  {
   "cell_type": "markdown",
   "metadata": {},
   "source": [
    "### Drop Missing Values"
   ]
  },
  {
   "cell_type": "markdown",
   "metadata": {},
   "source": [
    "Many, many empty cells. If we want to skip over blanks as we scan down a column, _pandas_ has a [`dropna()`] method for that. Let's use `head` to peek at the first bit of that:\n",
    "\n",
    "[`dropna()`]: https://pandas.pydata.org/pandas-docs/stable/generated/pandas.DataFrame.dropna.html"
   ]
  },
  {
   "cell_type": "code",
   "execution_count": 148,
   "metadata": {
    "ExecuteTime": {
     "end_time": "2018-04-17T19:35:14.247306Z",
     "start_time": "2018-04-17T19:35:14.231426Z"
    }
   },
   "outputs": [
    {
     "data": {
      "text/plain": [
       "Erl    0      2017-08-02T13:12:09.542\n",
       "       70     2017-08-09T09:25:11.710\n",
       "       140    2017-08-09T10:06:25.480\n",
       "       210    2017-08-09T11:21:01.555\n",
       "       350    2017-08-09T11:37:20.862\n",
       "       490    2017-08-22T15:42:05.751\n",
       "       560    2017-08-17T11:12:02.820\n",
       "       700    2017-08-17T13:06:30.183\n",
       "       840    2017-08-22T16:02:50.682\n",
       "Tyler  0      2017-07-14T12:31:24.194\n",
       "       70     2017-07-18T10:31:22.263\n",
       "Name: fields__oSets__date, dtype: object"
      ]
     },
     "execution_count": 148,
     "metadata": {},
     "output_type": "execute_result"
    }
   ],
   "source": [
    "sets_node['date'][DATA].dropna().head(11)"
   ]
  },
  {
   "cell_type": "markdown",
   "metadata": {},
   "source": [
    "So much better!\n",
    "\n",
    "We now have enough information to find the beginning of chunks in the sheet by scanning for non-blank cells: we have those row numbers for each of the non-null records of that column, where related columns will also reveal data we need for that section."
   ]
  },
  {
   "cell_type": "markdown",
   "metadata": {},
   "source": [
    "### Lookup by Condition"
   ]
  },
  {
   "cell_type": "markdown",
   "metadata": {},
   "source": [
    "Once again, the problem we faced at the outset. How about skipping irrelevant rows? We fixed this earlier with `dropna()`, but this time we're operating on some columns that _may_ be null, plus certain ones that _must not_ be null.\n",
    "\n",
    "Let's use the date column as the crucial record upon which we'll predicate our filter, because it should never be null. \n",
    "\n",
    "_pandas_ has a way to filter on conditions, which is sometimes called [boolean indexing] because the condition is either `True` or `False`. In this case, _pandas_ expects the actual column data object itself (Series), rather than just the name of the column to check. We already have that in the hierarchy from earlier:\n",
    "\n",
    "[boolean indexing]: https://pandas.pydata.org/pandas-docs/stable/10min.html#boolean-indexing"
   ]
  },
  {
   "cell_type": "code",
   "execution_count": 149,
   "metadata": {
    "ExecuteTime": {
     "end_time": "2018-04-17T19:35:26.382873Z",
     "start_time": "2018-04-17T19:35:26.372908Z"
    }
   },
   "outputs": [
    {
     "data": {
      "text/plain": [
       "pandas.core.series.Series"
      ]
     },
     "execution_count": 149,
     "metadata": {},
     "output_type": "execute_result"
    }
   ],
   "source": [
    "date_column = sets_node['date'][DATA]\n",
    "type(date_column)"
   ]
  },
  {
   "cell_type": "markdown",
   "metadata": {},
   "source": [
    "Passing a check for whether the value in the Series [is not null] to _pandas_, as well as specifying the column names we want to get:\n",
    "\n",
    "[is not null]: https://pandas.pydata.org/pandas-docs/stable/generated/pandas.Series.notna.html"
   ]
  },
  {
   "cell_type": "code",
   "execution_count": 150,
   "metadata": {
    "ExecuteTime": {
     "end_time": "2018-04-17T19:35:27.379493Z",
     "start_time": "2018-04-17T19:35:27.308786Z"
    },
    "scrolled": false
   },
   "outputs": [
    {
     "data": {
      "text/html": [
       "<div>\n",
       "<style scoped>\n",
       "    .dataframe tbody tr th:only-of-type {\n",
       "        vertical-align: middle;\n",
       "    }\n",
       "\n",
       "    .dataframe tbody tr th {\n",
       "        vertical-align: top;\n",
       "    }\n",
       "\n",
       "    .dataframe thead th {\n",
       "        text-align: right;\n",
       "    }\n",
       "</style>\n",
       "<table border=\"1\" class=\"dataframe\">\n",
       "  <thead>\n",
       "    <tr style=\"text-align: right;\">\n",
       "      <th></th>\n",
       "      <th></th>\n",
       "      <th>fields__oSets__completeSets</th>\n",
       "      <th>fields__oSets__date</th>\n",
       "      <th>fields__oSets__dateCompare</th>\n",
       "      <th>fields__oSets__desc</th>\n",
       "      <th>fields__oSets__growthStage</th>\n",
       "      <th>fields__oSets__obsName</th>\n",
       "      <th>fields__oSets__results</th>\n",
       "      <th>fields__oSets__totalA1</th>\n",
       "      <th>fields__oSets__totalA2</th>\n",
       "      <th>fields__oSets__totalA3</th>\n",
       "      <th>fields__oSets__totalA4</th>\n",
       "      <th>fields__oSets__totalSets</th>\n",
       "    </tr>\n",
       "  </thead>\n",
       "  <tbody>\n",
       "    <tr>\n",
       "      <th rowspan=\"9\" valign=\"top\">Erl</th>\n",
       "      <th>0</th>\n",
       "      <td>0.0</td>\n",
       "      <td>2017-08-02T13:12:09.542</td>\n",
       "      <td>2017-08-02</td>\n",
       "      <td>NaN</td>\n",
       "      <td>7.0</td>\n",
       "      <td>Tyler</td>\n",
       "      <td>NaN</td>\n",
       "      <td>NaN</td>\n",
       "      <td>NaN</td>\n",
       "      <td>NaN</td>\n",
       "      <td>NaN</td>\n",
       "      <td>1.0</td>\n",
       "    </tr>\n",
       "    <tr>\n",
       "      <th>70</th>\n",
       "      <td>1.0</td>\n",
       "      <td>2017-08-09T09:25:11.710</td>\n",
       "      <td>2017-08-09</td>\n",
       "      <td>NaN</td>\n",
       "      <td>8.0</td>\n",
       "      <td>Tyler</td>\n",
       "      <td>RESULTS.5</td>\n",
       "      <td>164.0</td>\n",
       "      <td>0.0</td>\n",
       "      <td>0.0</td>\n",
       "      <td>0.0</td>\n",
       "      <td>1.0</td>\n",
       "    </tr>\n",
       "    <tr>\n",
       "      <th>140</th>\n",
       "      <td>1.0</td>\n",
       "      <td>2017-08-09T10:06:25.480</td>\n",
       "      <td>2017-08-09</td>\n",
       "      <td>NaN</td>\n",
       "      <td>7.0</td>\n",
       "      <td>Tyler</td>\n",
       "      <td>RESULTS.5</td>\n",
       "      <td>66.0</td>\n",
       "      <td>0.0</td>\n",
       "      <td>0.0</td>\n",
       "      <td>0.0</td>\n",
       "      <td>1.0</td>\n",
       "    </tr>\n",
       "    <tr>\n",
       "      <th>210</th>\n",
       "      <td>2.0</td>\n",
       "      <td>2017-08-09T11:21:01.555</td>\n",
       "      <td>2017-08-09</td>\n",
       "      <td>NaN</td>\n",
       "      <td>9.0</td>\n",
       "      <td>Stean</td>\n",
       "      <td>RESULTS.1</td>\n",
       "      <td>0.0</td>\n",
       "      <td>0.0</td>\n",
       "      <td>0.0</td>\n",
       "      <td>0.0</td>\n",
       "      <td>2.0</td>\n",
       "    </tr>\n",
       "    <tr>\n",
       "      <th>350</th>\n",
       "      <td>2.0</td>\n",
       "      <td>2017-08-09T11:37:20.862</td>\n",
       "      <td>2017-08-09</td>\n",
       "      <td>NaN</td>\n",
       "      <td>8.0</td>\n",
       "      <td>Stean</td>\n",
       "      <td>RESULTS.1</td>\n",
       "      <td>5.0</td>\n",
       "      <td>5.0</td>\n",
       "      <td>0.0</td>\n",
       "      <td>0.0</td>\n",
       "      <td>2.0</td>\n",
       "    </tr>\n",
       "    <tr>\n",
       "      <th>490</th>\n",
       "      <td>1.0</td>\n",
       "      <td>2017-08-22T15:42:05.751</td>\n",
       "      <td>2017-08-22</td>\n",
       "      <td>NaN</td>\n",
       "      <td>8.0</td>\n",
       "      <td>Mikki</td>\n",
       "      <td>RESULTS.5</td>\n",
       "      <td>1.0</td>\n",
       "      <td>0.0</td>\n",
       "      <td>0.0</td>\n",
       "      <td>0.0</td>\n",
       "      <td>1.0</td>\n",
       "    </tr>\n",
       "    <tr>\n",
       "      <th>560</th>\n",
       "      <td>2.0</td>\n",
       "      <td>2017-08-17T11:12:02.820</td>\n",
       "      <td>2017-08-17</td>\n",
       "      <td>NaN</td>\n",
       "      <td>8.0</td>\n",
       "      <td>Gabrielle</td>\n",
       "      <td>RESULTS.1</td>\n",
       "      <td>169.0</td>\n",
       "      <td>96.0</td>\n",
       "      <td>0.0</td>\n",
       "      <td>0.0</td>\n",
       "      <td>2.0</td>\n",
       "    </tr>\n",
       "    <tr>\n",
       "      <th>700</th>\n",
       "      <td>2.0</td>\n",
       "      <td>2017-08-17T13:06:30.183</td>\n",
       "      <td>2017-08-17</td>\n",
       "      <td>NaN</td>\n",
       "      <td>9.0</td>\n",
       "      <td>Stean</td>\n",
       "      <td>RESULTS.1</td>\n",
       "      <td>78.0</td>\n",
       "      <td>102.0</td>\n",
       "      <td>0.0</td>\n",
       "      <td>0.0</td>\n",
       "      <td>2.0</td>\n",
       "    </tr>\n",
       "    <tr>\n",
       "      <th>840</th>\n",
       "      <td>1.0</td>\n",
       "      <td>2017-08-22T16:02:50.682</td>\n",
       "      <td>2017-08-22</td>\n",
       "      <td>NaN</td>\n",
       "      <td>8.0</td>\n",
       "      <td>Mikki</td>\n",
       "      <td>RESULTS.5</td>\n",
       "      <td>187.0</td>\n",
       "      <td>0.0</td>\n",
       "      <td>0.0</td>\n",
       "      <td>0.0</td>\n",
       "      <td>1.0</td>\n",
       "    </tr>\n",
       "    <tr>\n",
       "      <th rowspan=\"6\" valign=\"top\">Tyler</th>\n",
       "      <th>0</th>\n",
       "      <td>0.0</td>\n",
       "      <td>2017-07-14T12:31:24.194</td>\n",
       "      <td>2017-07-14</td>\n",
       "      <td>NaN</td>\n",
       "      <td>6.0</td>\n",
       "      <td>Tyler</td>\n",
       "      <td>NaN</td>\n",
       "      <td>NaN</td>\n",
       "      <td>NaN</td>\n",
       "      <td>NaN</td>\n",
       "      <td>NaN</td>\n",
       "      <td>1.0</td>\n",
       "    </tr>\n",
       "    <tr>\n",
       "      <th>70</th>\n",
       "      <td>1.0</td>\n",
       "      <td>2017-07-18T10:31:22.263</td>\n",
       "      <td>2017-07-18</td>\n",
       "      <td>NaN</td>\n",
       "      <td>6.0</td>\n",
       "      <td>Tyler</td>\n",
       "      <td>RESULTS.5</td>\n",
       "      <td>8.0</td>\n",
       "      <td>0.0</td>\n",
       "      <td>0.0</td>\n",
       "      <td>0.0</td>\n",
       "      <td>1.0</td>\n",
       "    </tr>\n",
       "    <tr>\n",
       "      <th>140</th>\n",
       "      <td>1.0</td>\n",
       "      <td>2017-07-28T13:05:44.673</td>\n",
       "      <td>2017-07-28</td>\n",
       "      <td>NaN</td>\n",
       "      <td>8.0</td>\n",
       "      <td>Mikki</td>\n",
       "      <td>RESULTS.5</td>\n",
       "      <td>37.0</td>\n",
       "      <td>0.0</td>\n",
       "      <td>0.0</td>\n",
       "      <td>0.0</td>\n",
       "      <td>1.0</td>\n",
       "    </tr>\n",
       "    <tr>\n",
       "      <th>210</th>\n",
       "      <td>1.0</td>\n",
       "      <td>2017-08-01T15:27:40.174</td>\n",
       "      <td>2017-08-01</td>\n",
       "      <td>NaN</td>\n",
       "      <td>8.0</td>\n",
       "      <td>Stean</td>\n",
       "      <td>RESULTS.5</td>\n",
       "      <td>52.0</td>\n",
       "      <td>0.0</td>\n",
       "      <td>0.0</td>\n",
       "      <td>0.0</td>\n",
       "      <td>1.0</td>\n",
       "    </tr>\n",
       "    <tr>\n",
       "      <th>280</th>\n",
       "      <td>1.0</td>\n",
       "      <td>2017-08-04T10:18:29.654</td>\n",
       "      <td>2017-08-04</td>\n",
       "      <td>NaN</td>\n",
       "      <td>8.5</td>\n",
       "      <td>Stean</td>\n",
       "      <td>RESULTS.5</td>\n",
       "      <td>47.0</td>\n",
       "      <td>0.0</td>\n",
       "      <td>0.0</td>\n",
       "      <td>0.0</td>\n",
       "      <td>1.0</td>\n",
       "    </tr>\n",
       "    <tr>\n",
       "      <th>350</th>\n",
       "      <td>1.0</td>\n",
       "      <td>2017-07-18T10:51:30.195</td>\n",
       "      <td>2017-07-18</td>\n",
       "      <td>NaN</td>\n",
       "      <td>6.0</td>\n",
       "      <td>Tyler</td>\n",
       "      <td>RESULTS.5</td>\n",
       "      <td>2.0</td>\n",
       "      <td>0.0</td>\n",
       "      <td>0.0</td>\n",
       "      <td>0.0</td>\n",
       "      <td>1.0</td>\n",
       "    </tr>\n",
       "  </tbody>\n",
       "</table>\n",
       "</div>"
      ],
      "text/plain": [
       "           fields__oSets__completeSets      fields__oSets__date  \\\n",
       "Erl   0                            0.0  2017-08-02T13:12:09.542   \n",
       "      70                           1.0  2017-08-09T09:25:11.710   \n",
       "      140                          1.0  2017-08-09T10:06:25.480   \n",
       "      210                          2.0  2017-08-09T11:21:01.555   \n",
       "      350                          2.0  2017-08-09T11:37:20.862   \n",
       "      490                          1.0  2017-08-22T15:42:05.751   \n",
       "      560                          2.0  2017-08-17T11:12:02.820   \n",
       "      700                          2.0  2017-08-17T13:06:30.183   \n",
       "      840                          1.0  2017-08-22T16:02:50.682   \n",
       "Tyler 0                            0.0  2017-07-14T12:31:24.194   \n",
       "      70                           1.0  2017-07-18T10:31:22.263   \n",
       "      140                          1.0  2017-07-28T13:05:44.673   \n",
       "      210                          1.0  2017-08-01T15:27:40.174   \n",
       "      280                          1.0  2017-08-04T10:18:29.654   \n",
       "      350                          1.0  2017-07-18T10:51:30.195   \n",
       "\n",
       "          fields__oSets__dateCompare  fields__oSets__desc  \\\n",
       "Erl   0                   2017-08-02                  NaN   \n",
       "      70                  2017-08-09                  NaN   \n",
       "      140                 2017-08-09                  NaN   \n",
       "      210                 2017-08-09                  NaN   \n",
       "      350                 2017-08-09                  NaN   \n",
       "      490                 2017-08-22                  NaN   \n",
       "      560                 2017-08-17                  NaN   \n",
       "      700                 2017-08-17                  NaN   \n",
       "      840                 2017-08-22                  NaN   \n",
       "Tyler 0                   2017-07-14                  NaN   \n",
       "      70                  2017-07-18                  NaN   \n",
       "      140                 2017-07-28                  NaN   \n",
       "      210                 2017-08-01                  NaN   \n",
       "      280                 2017-08-04                  NaN   \n",
       "      350                 2017-07-18                  NaN   \n",
       "\n",
       "           fields__oSets__growthStage fields__oSets__obsName  \\\n",
       "Erl   0                           7.0                  Tyler   \n",
       "      70                          8.0                  Tyler   \n",
       "      140                         7.0                  Tyler   \n",
       "      210                         9.0                  Stean   \n",
       "      350                         8.0                  Stean   \n",
       "      490                         8.0                  Mikki   \n",
       "      560                         8.0              Gabrielle   \n",
       "      700                         9.0                  Stean   \n",
       "      840                         8.0                  Mikki   \n",
       "Tyler 0                           6.0                  Tyler   \n",
       "      70                          6.0                  Tyler   \n",
       "      140                         8.0                  Mikki   \n",
       "      210                         8.0                  Stean   \n",
       "      280                         8.5                  Stean   \n",
       "      350                         6.0                  Tyler   \n",
       "\n",
       "          fields__oSets__results  fields__oSets__totalA1  \\\n",
       "Erl   0                      NaN                     NaN   \n",
       "      70               RESULTS.5                   164.0   \n",
       "      140              RESULTS.5                    66.0   \n",
       "      210              RESULTS.1                     0.0   \n",
       "      350              RESULTS.1                     5.0   \n",
       "      490              RESULTS.5                     1.0   \n",
       "      560              RESULTS.1                   169.0   \n",
       "      700              RESULTS.1                    78.0   \n",
       "      840              RESULTS.5                   187.0   \n",
       "Tyler 0                      NaN                     NaN   \n",
       "      70               RESULTS.5                     8.0   \n",
       "      140              RESULTS.5                    37.0   \n",
       "      210              RESULTS.5                    52.0   \n",
       "      280              RESULTS.5                    47.0   \n",
       "      350              RESULTS.5                     2.0   \n",
       "\n",
       "           fields__oSets__totalA2  fields__oSets__totalA3  \\\n",
       "Erl   0                       NaN                     NaN   \n",
       "      70                      0.0                     0.0   \n",
       "      140                     0.0                     0.0   \n",
       "      210                     0.0                     0.0   \n",
       "      350                     5.0                     0.0   \n",
       "      490                     0.0                     0.0   \n",
       "      560                    96.0                     0.0   \n",
       "      700                   102.0                     0.0   \n",
       "      840                     0.0                     0.0   \n",
       "Tyler 0                       NaN                     NaN   \n",
       "      70                      0.0                     0.0   \n",
       "      140                     0.0                     0.0   \n",
       "      210                     0.0                     0.0   \n",
       "      280                     0.0                     0.0   \n",
       "      350                     0.0                     0.0   \n",
       "\n",
       "           fields__oSets__totalA4  fields__oSets__totalSets  \n",
       "Erl   0                       NaN                       1.0  \n",
       "      70                      0.0                       1.0  \n",
       "      140                     0.0                       1.0  \n",
       "      210                     0.0                       2.0  \n",
       "      350                     0.0                       2.0  \n",
       "      490                     0.0                       1.0  \n",
       "      560                     0.0                       2.0  \n",
       "      700                     0.0                       2.0  \n",
       "      840                     0.0                       1.0  \n",
       "Tyler 0                       NaN                       1.0  \n",
       "      70                      0.0                       1.0  \n",
       "      140                     0.0                       1.0  \n",
       "      210                     0.0                       1.0  \n",
       "      280                     0.0                       1.0  \n",
       "      350                     0.0                       1.0  "
      ]
     },
     "metadata": {},
     "output_type": "display_data"
    }
   ],
   "source": [
    "sets = data[date_column.notnull()][sets_columns_names]\n",
    "display(sets.head(15))"
   ]
  },
  {
   "cell_type": "markdown",
   "metadata": {},
   "source": [
    "Now, we can repeat this technique to get all the other data sections!"
   ]
  },
  {
   "cell_type": "markdown",
   "metadata": {},
   "source": [
    "### Outputting cleaner data"
   ]
  },
  {
   "cell_type": "markdown",
   "metadata": {},
   "source": [
    "To finish up, we should refer to that visualization of grouped columns, and start building a repeatable set of steps to grab the data from each section and relate them to each other before continuing on to the next set of nested sections in the DataFrame. As we grab sections and their related sub-sections, we can toss them into another DataFrame that will ultimately represent the same information in a cleaner form.\n",
    "\n",
    "Because we're doing this programmatically, we can apply those repeatable steps as functions, in a loop. No manual slogging required. Hit play and relax, it'll be done before you can say \"ahhh yeee\"!"
   ]
  },
  {
   "cell_type": "markdown",
   "metadata": {},
   "source": [
    "### Analyzing sections and subsections"
   ]
  },
  {
   "cell_type": "code",
   "execution_count": 151,
   "metadata": {
    "cell_style": "split",
    "scrolled": false
   },
   "outputs": [
    {
     "name": "stdout",
     "output_type": "stream",
     "text": [
      "clients/\n",
      ".   * company\n",
      ".   * displayText\n",
      ".   * fname\n",
      ".   * lname\n",
      ".   * name\n",
      "fields/\n",
      ".   client/\n",
      ".   .   * company\n",
      ".   .   * displayText\n",
      ".   .   * fname\n",
      ".   .   * lname\n",
      ".   .   * name\n",
      ".   * crop\n",
      ".   * date\n",
      ".   * desc\n",
      ".   * image\n",
      ".   * name\n",
      ".   oSets/\n",
      ".   .   * completeSets\n",
      ".   .   * date\n",
      ".   .   * dateCompare\n",
      ".   .   * desc\n",
      ".   .   * growthStage\n",
      ".   .   oPoints/\n",
      ".   .   .   * id\n",
      ".   .   .   location/\n",
      ".   .   .   .   coords/\n",
      ".   .   .   .   .   * accuracy\n",
      ".   .   .   .   .   * altitude\n",
      ".   .   .   .   .   * altitudeAccuracy\n",
      ".   .   .   .   .   * heading\n",
      ".   .   .   .   .   * latitude\n",
      ".   .   .   .   .   * longitude\n",
      ".   .   .   .   .   * speed\n",
      ".   .   .   .   * timestamp\n",
      ".   .   .   * name\n",
      ".   .   .   observations/\n",
      ".   .   .   .   a1/\n",
      ".   .   .   .   .   * number\n",
      ".   .   .   .   a2/\n",
      ".   .   .   .   .   * number\n",
      ".   .   .   .   a3/\n",
      ".   .   .   .   .   * number\n",
      ".   .   .   .   * anum\n",
      ".   .   .   .   * complete\n",
      ".   .   .   .   * disabled\n",
      ".   .   .   .   * eVnum\n",
      ".   .   .   .   * enum\n",
      ".   .   .   .   * id\n",
      ".   .   .   .   * name\n",
      ".   .   .   .   * |/\n",
      ".   .   .   .   .   * number\n",
      ".   .   * obsName\n",
      ".   .   * results\n",
      ".   .   * totalA1\n",
      ".   .   * totalA2\n",
      ".   .   * totalA3\n",
      ".   .   * totalA4\n",
      ".   .   * totalSets\n",
      "* observers\n"
     ]
    }
   ],
   "source": [
    "visualize_tree(columns)"
   ]
  },
  {
   "cell_type": "code",
   "execution_count": 152,
   "metadata": {
    "cell_style": "split"
   },
   "outputs": [
    {
     "data": {
      "text/html": [
       "<div>\n",
       "<style scoped>\n",
       "    .dataframe tbody tr th:only-of-type {\n",
       "        vertical-align: middle;\n",
       "    }\n",
       "\n",
       "    .dataframe tbody tr th {\n",
       "        vertical-align: top;\n",
       "    }\n",
       "\n",
       "    .dataframe thead th {\n",
       "        text-align: right;\n",
       "    }\n",
       "</style>\n",
       "<table border=\"1\" class=\"dataframe\">\n",
       "  <thead>\n",
       "    <tr style=\"text-align: right;\">\n",
       "      <th></th>\n",
       "      <th>Legend Symbol</th>\n",
       "      <th>Meaning</th>\n",
       "    </tr>\n",
       "  </thead>\n",
       "  <tbody>\n",
       "    <tr>\n",
       "      <th>0</th>\n",
       "      <td>*</td>\n",
       "      <td>Data</td>\n",
       "    </tr>\n",
       "    <tr>\n",
       "      <th>1</th>\n",
       "      <td>/</td>\n",
       "      <td>More Keys</td>\n",
       "    </tr>\n",
       "  </tbody>\n",
       "</table>\n",
       "</div>"
      ],
      "text/plain": [
       "  Legend Symbol    Meaning\n",
       "0             *       Data\n",
       "1             /  More Keys"
      ]
     },
     "execution_count": 152,
     "metadata": {},
     "output_type": "execute_result"
    }
   ],
   "source": [
    "pandas.DataFrame(data={\"Legend Symbol\": ('*', '/'),\n",
    "                       \"Meaning\": (\"Data\", \"More Keys\")})"
   ]
  },
  {
   "cell_type": "markdown",
   "metadata": {},
   "source": [
    "For each section, I'd like to open with a summary. In my mind, this would include a picture of what's at the node. If any of these exist, let's see:\n",
    "\n",
    "- Description of this data series\n",
    "- Names of all related data series grouped here\n",
    "- Names of all subsections that go deeper\n",
    "\n",
    "Rather than repeating the same commands for each section, let's make a function that does all that, so we can just call it once for each section."
   ]
  },
  {
   "cell_type": "code",
   "execution_count": 153,
   "metadata": {
    "ExecuteTime": {
     "end_time": "2018-04-17T19:35:32.181002Z",
     "start_time": "2018-04-17T19:35:32.156504Z"
    },
    "init_cell": true,
    "tags": [
     "@todo-WIP"
    ]
   },
   "outputs": [],
   "source": [
    "def summarize_node(node):\n",
    "    reports = {\"Data nodes\": child_data(node),\n",
    "               \"Subsections\": child_children(node)}\n",
    "    report_frames = [\n",
    "        pandas.Series(data=list(value.keys()), name=key)\n",
    "        for key, value in reports.items()\n",
    "        if value  # (not empty)\n",
    "    ]\n",
    "    if has_data(node):\n",
    "        display(node[DATA].describe().to_frame())  # looks nicer as frame\n",
    "    for series in report_frames:\n",
    "        display(series.to_frame().T)  # easier to read in landscape orientation\n"
   ]
  },
  {
   "cell_type": "markdown",
   "metadata": {},
   "source": [
    "# Source App Data Structure"
   ]
  },
  {
   "cell_type": "markdown",
   "metadata": {},
   "source": [
    "## Section: `clients`"
   ]
  },
  {
   "cell_type": "code",
   "execution_count": 154,
   "metadata": {
    "ExecuteTime": {
     "end_time": "2018-04-17T19:35:35.023838Z",
     "start_time": "2018-04-17T19:35:35.000302Z"
    },
    "init_cell": true
   },
   "outputs": [
    {
     "data": {
      "text/html": [
       "<div>\n",
       "<style scoped>\n",
       "    .dataframe tbody tr th:only-of-type {\n",
       "        vertical-align: middle;\n",
       "    }\n",
       "\n",
       "    .dataframe tbody tr th {\n",
       "        vertical-align: top;\n",
       "    }\n",
       "\n",
       "    .dataframe thead th {\n",
       "        text-align: right;\n",
       "    }\n",
       "</style>\n",
       "<table border=\"1\" class=\"dataframe\">\n",
       "  <thead>\n",
       "    <tr style=\"text-align: right;\">\n",
       "      <th></th>\n",
       "      <th>0</th>\n",
       "      <th>1</th>\n",
       "      <th>2</th>\n",
       "      <th>3</th>\n",
       "      <th>4</th>\n",
       "    </tr>\n",
       "  </thead>\n",
       "  <tbody>\n",
       "    <tr>\n",
       "      <th>Data nodes</th>\n",
       "      <td>company</td>\n",
       "      <td>displayText</td>\n",
       "      <td>fname</td>\n",
       "      <td>lname</td>\n",
       "      <td>name</td>\n",
       "    </tr>\n",
       "  </tbody>\n",
       "</table>\n",
       "</div>"
      ],
      "text/plain": [
       "                  0            1      2      3     4\n",
       "Data nodes  company  displayText  fname  lname  name"
      ]
     },
     "metadata": {},
     "output_type": "display_data"
    }
   ],
   "source": [
    "clients_node = columns['clients']\n",
    "summarize_node(clients_node)"
   ]
  },
  {
   "cell_type": "markdown",
   "metadata": {},
   "source": [
    "## Section: `observers`"
   ]
  },
  {
   "cell_type": "code",
   "execution_count": 155,
   "metadata": {
    "ExecuteTime": {
     "end_time": "2018-04-17T19:35:35.919189Z",
     "start_time": "2018-04-17T19:35:35.890849Z"
    },
    "init_cell": true
   },
   "outputs": [
    {
     "data": {
      "text/html": [
       "<div>\n",
       "<style scoped>\n",
       "    .dataframe tbody tr th:only-of-type {\n",
       "        vertical-align: middle;\n",
       "    }\n",
       "\n",
       "    .dataframe tbody tr th {\n",
       "        vertical-align: top;\n",
       "    }\n",
       "\n",
       "    .dataframe thead th {\n",
       "        text-align: right;\n",
       "    }\n",
       "</style>\n",
       "<table border=\"1\" class=\"dataframe\">\n",
       "  <thead>\n",
       "    <tr style=\"text-align: right;\">\n",
       "      <th></th>\n",
       "      <th>observers</th>\n",
       "    </tr>\n",
       "  </thead>\n",
       "  <tbody>\n",
       "    <tr>\n",
       "      <th>count</th>\n",
       "      <td>3</td>\n",
       "    </tr>\n",
       "    <tr>\n",
       "      <th>unique</th>\n",
       "      <td>3</td>\n",
       "    </tr>\n",
       "    <tr>\n",
       "      <th>top</th>\n",
       "      <td>Stean</td>\n",
       "    </tr>\n",
       "    <tr>\n",
       "      <th>freq</th>\n",
       "      <td>1</td>\n",
       "    </tr>\n",
       "  </tbody>\n",
       "</table>\n",
       "</div>"
      ],
      "text/plain": [
       "       observers\n",
       "count          3\n",
       "unique         3\n",
       "top        Stean\n",
       "freq           1"
      ]
     },
     "metadata": {},
     "output_type": "display_data"
    }
   ],
   "source": [
    "observers_node = columns['observers']\n",
    "summarize_node(observers_node)"
   ]
  },
  {
   "cell_type": "markdown",
   "metadata": {},
   "source": [
    "## Section: `fields`"
   ]
  },
  {
   "cell_type": "code",
   "execution_count": 156,
   "metadata": {
    "ExecuteTime": {
     "end_time": "2018-04-17T19:35:36.822383Z",
     "start_time": "2018-04-17T19:35:36.777679Z"
    },
    "init_cell": true
   },
   "outputs": [
    {
     "name": "stdout",
     "output_type": "stream",
     "text": [
      "client/\n",
      "oSets/\n",
      ".   oPoints/\n",
      ".   .   location/\n",
      ".   .   .   coords/\n",
      ".   .   observations/\n",
      ".   .   .   a1/\n",
      ".   .   .   a2/\n",
      ".   .   .   a3/\n",
      ".   .   .   * |/\n"
     ]
    },
    {
     "data": {
      "text/html": [
       "<div>\n",
       "<style scoped>\n",
       "    .dataframe tbody tr th:only-of-type {\n",
       "        vertical-align: middle;\n",
       "    }\n",
       "\n",
       "    .dataframe tbody tr th {\n",
       "        vertical-align: top;\n",
       "    }\n",
       "\n",
       "    .dataframe thead th {\n",
       "        text-align: right;\n",
       "    }\n",
       "</style>\n",
       "<table border=\"1\" class=\"dataframe\">\n",
       "  <thead>\n",
       "    <tr style=\"text-align: right;\">\n",
       "      <th></th>\n",
       "      <th>0</th>\n",
       "      <th>1</th>\n",
       "      <th>2</th>\n",
       "      <th>3</th>\n",
       "      <th>4</th>\n",
       "    </tr>\n",
       "  </thead>\n",
       "  <tbody>\n",
       "    <tr>\n",
       "      <th>Data nodes</th>\n",
       "      <td>crop</td>\n",
       "      <td>date</td>\n",
       "      <td>desc</td>\n",
       "      <td>image</td>\n",
       "      <td>name</td>\n",
       "    </tr>\n",
       "  </tbody>\n",
       "</table>\n",
       "</div>"
      ],
      "text/plain": [
       "               0     1     2      3     4\n",
       "Data nodes  crop  date  desc  image  name"
      ]
     },
     "metadata": {},
     "output_type": "display_data"
    },
    {
     "data": {
      "text/html": [
       "<div>\n",
       "<style scoped>\n",
       "    .dataframe tbody tr th:only-of-type {\n",
       "        vertical-align: middle;\n",
       "    }\n",
       "\n",
       "    .dataframe tbody tr th {\n",
       "        vertical-align: top;\n",
       "    }\n",
       "\n",
       "    .dataframe thead th {\n",
       "        text-align: right;\n",
       "    }\n",
       "</style>\n",
       "<table border=\"1\" class=\"dataframe\">\n",
       "  <thead>\n",
       "    <tr style=\"text-align: right;\">\n",
       "      <th></th>\n",
       "      <th>0</th>\n",
       "      <th>1</th>\n",
       "    </tr>\n",
       "  </thead>\n",
       "  <tbody>\n",
       "    <tr>\n",
       "      <th>Subsections</th>\n",
       "      <td>client</td>\n",
       "      <td>oSets</td>\n",
       "    </tr>\n",
       "  </tbody>\n",
       "</table>\n",
       "</div>"
      ],
      "text/plain": [
       "                  0      1\n",
       "Subsections  client  oSets"
      ]
     },
     "metadata": {},
     "output_type": "display_data"
    }
   ],
   "source": [
    "fields_node = columns['fields']\n",
    "visualize_tree(fields_node, show_leaf_nodes=False)\n",
    "summarize_node(fields_node)"
   ]
  },
  {
   "cell_type": "markdown",
   "metadata": {},
   "source": [
    "### `fields` Subsection: `client`"
   ]
  },
  {
   "cell_type": "code",
   "execution_count": 157,
   "metadata": {
    "ExecuteTime": {
     "end_time": "2018-04-17T19:35:37.740787Z",
     "start_time": "2018-04-17T19:35:37.716332Z"
    },
    "init_cell": true
   },
   "outputs": [
    {
     "data": {
      "text/html": [
       "<div>\n",
       "<style scoped>\n",
       "    .dataframe tbody tr th:only-of-type {\n",
       "        vertical-align: middle;\n",
       "    }\n",
       "\n",
       "    .dataframe tbody tr th {\n",
       "        vertical-align: top;\n",
       "    }\n",
       "\n",
       "    .dataframe thead th {\n",
       "        text-align: right;\n",
       "    }\n",
       "</style>\n",
       "<table border=\"1\" class=\"dataframe\">\n",
       "  <thead>\n",
       "    <tr style=\"text-align: right;\">\n",
       "      <th></th>\n",
       "      <th>0</th>\n",
       "      <th>1</th>\n",
       "      <th>2</th>\n",
       "      <th>3</th>\n",
       "      <th>4</th>\n",
       "    </tr>\n",
       "  </thead>\n",
       "  <tbody>\n",
       "    <tr>\n",
       "      <th>Data nodes</th>\n",
       "      <td>company</td>\n",
       "      <td>displayText</td>\n",
       "      <td>fname</td>\n",
       "      <td>lname</td>\n",
       "      <td>name</td>\n",
       "    </tr>\n",
       "  </tbody>\n",
       "</table>\n",
       "</div>"
      ],
      "text/plain": [
       "                  0            1      2      3     4\n",
       "Data nodes  company  displayText  fname  lname  name"
      ]
     },
     "metadata": {},
     "output_type": "display_data"
    }
   ],
   "source": [
    "field_client_node = fields_node['client']\n",
    "summarize_node(field_client_node)"
   ]
  },
  {
   "cell_type": "markdown",
   "metadata": {},
   "source": [
    "### `fields` Subsection: `oSets`"
   ]
  },
  {
   "cell_type": "code",
   "execution_count": 158,
   "metadata": {
    "ExecuteTime": {
     "end_time": "2018-04-17T19:35:38.653473Z",
     "start_time": "2018-04-17T19:35:38.593966Z"
    },
    "init_cell": true
   },
   "outputs": [
    {
     "name": "stdout",
     "output_type": "stream",
     "text": [
      "oPoints/\n",
      ".   location/\n",
      ".   .   coords/\n",
      ".   observations/\n",
      ".   .   a1/\n",
      ".   .   a2/\n",
      ".   .   a3/\n",
      ".   .   * |/\n"
     ]
    },
    {
     "data": {
      "text/html": [
       "<div>\n",
       "<style scoped>\n",
       "    .dataframe tbody tr th:only-of-type {\n",
       "        vertical-align: middle;\n",
       "    }\n",
       "\n",
       "    .dataframe tbody tr th {\n",
       "        vertical-align: top;\n",
       "    }\n",
       "\n",
       "    .dataframe thead th {\n",
       "        text-align: right;\n",
       "    }\n",
       "</style>\n",
       "<table border=\"1\" class=\"dataframe\">\n",
       "  <thead>\n",
       "    <tr style=\"text-align: right;\">\n",
       "      <th></th>\n",
       "      <th>0</th>\n",
       "      <th>1</th>\n",
       "      <th>2</th>\n",
       "      <th>3</th>\n",
       "      <th>4</th>\n",
       "      <th>5</th>\n",
       "      <th>6</th>\n",
       "      <th>7</th>\n",
       "      <th>8</th>\n",
       "      <th>9</th>\n",
       "      <th>10</th>\n",
       "      <th>11</th>\n",
       "    </tr>\n",
       "  </thead>\n",
       "  <tbody>\n",
       "    <tr>\n",
       "      <th>Data nodes</th>\n",
       "      <td>completeSets</td>\n",
       "      <td>date</td>\n",
       "      <td>dateCompare</td>\n",
       "      <td>desc</td>\n",
       "      <td>growthStage</td>\n",
       "      <td>obsName</td>\n",
       "      <td>results</td>\n",
       "      <td>totalA1</td>\n",
       "      <td>totalA2</td>\n",
       "      <td>totalA3</td>\n",
       "      <td>totalA4</td>\n",
       "      <td>totalSets</td>\n",
       "    </tr>\n",
       "  </tbody>\n",
       "</table>\n",
       "</div>"
      ],
      "text/plain": [
       "                      0     1            2     3            4        5   \\\n",
       "Data nodes  completeSets  date  dateCompare  desc  growthStage  obsName   \n",
       "\n",
       "                 6        7        8        9        10         11  \n",
       "Data nodes  results  totalA1  totalA2  totalA3  totalA4  totalSets  "
      ]
     },
     "metadata": {},
     "output_type": "display_data"
    },
    {
     "data": {
      "text/html": [
       "<div>\n",
       "<style scoped>\n",
       "    .dataframe tbody tr th:only-of-type {\n",
       "        vertical-align: middle;\n",
       "    }\n",
       "\n",
       "    .dataframe tbody tr th {\n",
       "        vertical-align: top;\n",
       "    }\n",
       "\n",
       "    .dataframe thead th {\n",
       "        text-align: right;\n",
       "    }\n",
       "</style>\n",
       "<table border=\"1\" class=\"dataframe\">\n",
       "  <thead>\n",
       "    <tr style=\"text-align: right;\">\n",
       "      <th></th>\n",
       "      <th>0</th>\n",
       "    </tr>\n",
       "  </thead>\n",
       "  <tbody>\n",
       "    <tr>\n",
       "      <th>Subsections</th>\n",
       "      <td>oPoints</td>\n",
       "    </tr>\n",
       "  </tbody>\n",
       "</table>\n",
       "</div>"
      ],
      "text/plain": [
       "                   0\n",
       "Subsections  oPoints"
      ]
     },
     "metadata": {},
     "output_type": "display_data"
    }
   ],
   "source": [
    "osets_node = fields_node['oSets']\n",
    "visualize_tree(osets_node, show_leaf_nodes=False)\n",
    "summarize_node(osets_node)"
   ]
  },
  {
   "cell_type": "markdown",
   "metadata": {},
   "source": [
    "### `oSets` Subsection: `oPoints`"
   ]
  },
  {
   "cell_type": "code",
   "execution_count": 159,
   "metadata": {
    "ExecuteTime": {
     "end_time": "2018-04-17T19:35:39.617855Z",
     "start_time": "2018-04-17T19:35:39.549641Z"
    },
    "init_cell": true
   },
   "outputs": [
    {
     "name": "stdout",
     "output_type": "stream",
     "text": [
      "location/\n",
      ".   coords/\n",
      "observations/\n",
      ".   a1/\n",
      ".   a2/\n",
      ".   a3/\n",
      ".   * |/\n"
     ]
    },
    {
     "data": {
      "text/html": [
       "<div>\n",
       "<style scoped>\n",
       "    .dataframe tbody tr th:only-of-type {\n",
       "        vertical-align: middle;\n",
       "    }\n",
       "\n",
       "    .dataframe tbody tr th {\n",
       "        vertical-align: top;\n",
       "    }\n",
       "\n",
       "    .dataframe thead th {\n",
       "        text-align: right;\n",
       "    }\n",
       "</style>\n",
       "<table border=\"1\" class=\"dataframe\">\n",
       "  <thead>\n",
       "    <tr style=\"text-align: right;\">\n",
       "      <th></th>\n",
       "      <th>0</th>\n",
       "      <th>1</th>\n",
       "    </tr>\n",
       "  </thead>\n",
       "  <tbody>\n",
       "    <tr>\n",
       "      <th>Data nodes</th>\n",
       "      <td>id</td>\n",
       "      <td>name</td>\n",
       "    </tr>\n",
       "  </tbody>\n",
       "</table>\n",
       "</div>"
      ],
      "text/plain": [
       "             0     1\n",
       "Data nodes  id  name"
      ]
     },
     "metadata": {},
     "output_type": "display_data"
    },
    {
     "data": {
      "text/html": [
       "<div>\n",
       "<style scoped>\n",
       "    .dataframe tbody tr th:only-of-type {\n",
       "        vertical-align: middle;\n",
       "    }\n",
       "\n",
       "    .dataframe tbody tr th {\n",
       "        vertical-align: top;\n",
       "    }\n",
       "\n",
       "    .dataframe thead th {\n",
       "        text-align: right;\n",
       "    }\n",
       "</style>\n",
       "<table border=\"1\" class=\"dataframe\">\n",
       "  <thead>\n",
       "    <tr style=\"text-align: right;\">\n",
       "      <th></th>\n",
       "      <th>0</th>\n",
       "      <th>1</th>\n",
       "    </tr>\n",
       "  </thead>\n",
       "  <tbody>\n",
       "    <tr>\n",
       "      <th>Subsections</th>\n",
       "      <td>location</td>\n",
       "      <td>observations</td>\n",
       "    </tr>\n",
       "  </tbody>\n",
       "</table>\n",
       "</div>"
      ],
      "text/plain": [
       "                    0             1\n",
       "Subsections  location  observations"
      ]
     },
     "metadata": {},
     "output_type": "display_data"
    }
   ],
   "source": [
    "opoints_node = osets_node['oPoints']\n",
    "visualize_tree(opoints_node, show_leaf_nodes=False)\n",
    "summarize_node(opoints_node)"
   ]
  },
  {
   "cell_type": "markdown",
   "metadata": {},
   "source": [
    "#### `oPoints` Subsection: `location`"
   ]
  },
  {
   "cell_type": "code",
   "execution_count": 160,
   "metadata": {
    "ExecuteTime": {
     "end_time": "2018-04-17T19:35:40.618616Z",
     "start_time": "2018-04-17T19:35:40.580334Z"
    },
    "init_cell": true
   },
   "outputs": [
    {
     "name": "stdout",
     "output_type": "stream",
     "text": [
      "coords/\n",
      ".   * accuracy\n",
      ".   * altitude\n",
      ".   * altitudeAccuracy\n",
      ".   * heading\n",
      ".   * latitude\n",
      ".   * longitude\n",
      ".   * speed\n",
      "* timestamp\n"
     ]
    },
    {
     "data": {
      "text/html": [
       "<div>\n",
       "<style scoped>\n",
       "    .dataframe tbody tr th:only-of-type {\n",
       "        vertical-align: middle;\n",
       "    }\n",
       "\n",
       "    .dataframe tbody tr th {\n",
       "        vertical-align: top;\n",
       "    }\n",
       "\n",
       "    .dataframe thead th {\n",
       "        text-align: right;\n",
       "    }\n",
       "</style>\n",
       "<table border=\"1\" class=\"dataframe\">\n",
       "  <thead>\n",
       "    <tr style=\"text-align: right;\">\n",
       "      <th></th>\n",
       "      <th>0</th>\n",
       "    </tr>\n",
       "  </thead>\n",
       "  <tbody>\n",
       "    <tr>\n",
       "      <th>Data nodes</th>\n",
       "      <td>timestamp</td>\n",
       "    </tr>\n",
       "  </tbody>\n",
       "</table>\n",
       "</div>"
      ],
      "text/plain": [
       "                    0\n",
       "Data nodes  timestamp"
      ]
     },
     "metadata": {},
     "output_type": "display_data"
    },
    {
     "data": {
      "text/html": [
       "<div>\n",
       "<style scoped>\n",
       "    .dataframe tbody tr th:only-of-type {\n",
       "        vertical-align: middle;\n",
       "    }\n",
       "\n",
       "    .dataframe tbody tr th {\n",
       "        vertical-align: top;\n",
       "    }\n",
       "\n",
       "    .dataframe thead th {\n",
       "        text-align: right;\n",
       "    }\n",
       "</style>\n",
       "<table border=\"1\" class=\"dataframe\">\n",
       "  <thead>\n",
       "    <tr style=\"text-align: right;\">\n",
       "      <th></th>\n",
       "      <th>0</th>\n",
       "    </tr>\n",
       "  </thead>\n",
       "  <tbody>\n",
       "    <tr>\n",
       "      <th>Subsections</th>\n",
       "      <td>coords</td>\n",
       "    </tr>\n",
       "  </tbody>\n",
       "</table>\n",
       "</div>"
      ],
      "text/plain": [
       "                  0\n",
       "Subsections  coords"
      ]
     },
     "metadata": {},
     "output_type": "display_data"
    }
   ],
   "source": [
    "location_node = opoints_node['location']\n",
    "visualize_tree(location_node)\n",
    "summarize_node(location_node)"
   ]
  },
  {
   "cell_type": "markdown",
   "metadata": {},
   "source": [
    "##### `location` Subsection: `coords`"
   ]
  },
  {
   "cell_type": "code",
   "execution_count": 161,
   "metadata": {
    "ExecuteTime": {
     "end_time": "2018-04-17T19:35:41.547200Z",
     "start_time": "2018-04-17T19:35:41.518155Z"
    },
    "init_cell": true
   },
   "outputs": [
    {
     "data": {
      "text/html": [
       "<div>\n",
       "<style scoped>\n",
       "    .dataframe tbody tr th:only-of-type {\n",
       "        vertical-align: middle;\n",
       "    }\n",
       "\n",
       "    .dataframe tbody tr th {\n",
       "        vertical-align: top;\n",
       "    }\n",
       "\n",
       "    .dataframe thead th {\n",
       "        text-align: right;\n",
       "    }\n",
       "</style>\n",
       "<table border=\"1\" class=\"dataframe\">\n",
       "  <thead>\n",
       "    <tr style=\"text-align: right;\">\n",
       "      <th></th>\n",
       "      <th>0</th>\n",
       "      <th>1</th>\n",
       "      <th>2</th>\n",
       "      <th>3</th>\n",
       "      <th>4</th>\n",
       "      <th>5</th>\n",
       "      <th>6</th>\n",
       "    </tr>\n",
       "  </thead>\n",
       "  <tbody>\n",
       "    <tr>\n",
       "      <th>Data nodes</th>\n",
       "      <td>accuracy</td>\n",
       "      <td>altitude</td>\n",
       "      <td>altitudeAccuracy</td>\n",
       "      <td>heading</td>\n",
       "      <td>latitude</td>\n",
       "      <td>longitude</td>\n",
       "      <td>speed</td>\n",
       "    </tr>\n",
       "  </tbody>\n",
       "</table>\n",
       "</div>"
      ],
      "text/plain": [
       "                   0         1                 2        3         4  \\\n",
       "Data nodes  accuracy  altitude  altitudeAccuracy  heading  latitude   \n",
       "\n",
       "                    5      6  \n",
       "Data nodes  longitude  speed  "
      ]
     },
     "metadata": {},
     "output_type": "display_data"
    }
   ],
   "source": [
    "coords_node = location_node['coords']\n",
    "summarize_node(coords_node)"
   ]
  },
  {
   "cell_type": "markdown",
   "metadata": {},
   "source": [
    "#### `oPoints` Subsection: `observations`"
   ]
  },
  {
   "cell_type": "code",
   "execution_count": 162,
   "metadata": {
    "ExecuteTime": {
     "end_time": "2018-04-17T19:35:42.591482Z",
     "start_time": "2018-04-17T19:35:42.517327Z"
    },
    "init_cell": true
   },
   "outputs": [
    {
     "name": "stdout",
     "output_type": "stream",
     "text": [
      "a1/\n",
      ".   * number\n",
      "a2/\n",
      ".   * number\n",
      "a3/\n",
      ".   * number\n",
      "* anum\n",
      "* complete\n",
      "* disabled\n",
      "* eVnum\n",
      "* enum\n",
      "* id\n",
      "* name\n",
      "* |/\n",
      ".   * number\n"
     ]
    },
    {
     "data": {
      "text/html": [
       "<div>\n",
       "<style scoped>\n",
       "    .dataframe tbody tr th:only-of-type {\n",
       "        vertical-align: middle;\n",
       "    }\n",
       "\n",
       "    .dataframe tbody tr th {\n",
       "        vertical-align: top;\n",
       "    }\n",
       "\n",
       "    .dataframe thead th {\n",
       "        text-align: right;\n",
       "    }\n",
       "</style>\n",
       "<table border=\"1\" class=\"dataframe\">\n",
       "  <thead>\n",
       "    <tr style=\"text-align: right;\">\n",
       "      <th></th>\n",
       "      <th>0</th>\n",
       "      <th>1</th>\n",
       "      <th>2</th>\n",
       "      <th>3</th>\n",
       "      <th>4</th>\n",
       "      <th>5</th>\n",
       "      <th>6</th>\n",
       "      <th>7</th>\n",
       "    </tr>\n",
       "  </thead>\n",
       "  <tbody>\n",
       "    <tr>\n",
       "      <th>Data nodes</th>\n",
       "      <td>anum</td>\n",
       "      <td>complete</td>\n",
       "      <td>disabled</td>\n",
       "      <td>eVnum</td>\n",
       "      <td>enum</td>\n",
       "      <td>id</td>\n",
       "      <td>name</td>\n",
       "      <td>|</td>\n",
       "    </tr>\n",
       "  </tbody>\n",
       "</table>\n",
       "</div>"
      ],
      "text/plain": [
       "               0         1         2      3     4   5     6  7\n",
       "Data nodes  anum  complete  disabled  eVnum  enum  id  name  |"
      ]
     },
     "metadata": {},
     "output_type": "display_data"
    },
    {
     "data": {
      "text/html": [
       "<div>\n",
       "<style scoped>\n",
       "    .dataframe tbody tr th:only-of-type {\n",
       "        vertical-align: middle;\n",
       "    }\n",
       "\n",
       "    .dataframe tbody tr th {\n",
       "        vertical-align: top;\n",
       "    }\n",
       "\n",
       "    .dataframe thead th {\n",
       "        text-align: right;\n",
       "    }\n",
       "</style>\n",
       "<table border=\"1\" class=\"dataframe\">\n",
       "  <thead>\n",
       "    <tr style=\"text-align: right;\">\n",
       "      <th></th>\n",
       "      <th>0</th>\n",
       "      <th>1</th>\n",
       "      <th>2</th>\n",
       "      <th>3</th>\n",
       "    </tr>\n",
       "  </thead>\n",
       "  <tbody>\n",
       "    <tr>\n",
       "      <th>Subsections</th>\n",
       "      <td>a1</td>\n",
       "      <td>a2</td>\n",
       "      <td>a3</td>\n",
       "      <td>|</td>\n",
       "    </tr>\n",
       "  </tbody>\n",
       "</table>\n",
       "</div>"
      ],
      "text/plain": [
       "              0   1   2  3\n",
       "Subsections  a1  a2  a3  |"
      ]
     },
     "metadata": {},
     "output_type": "display_data"
    }
   ],
   "source": [
    "observations_node = opoints_node['observations']\n",
    "visualize_tree(observations_node)\n",
    "summarize_node(observations_node)"
   ]
  },
  {
   "cell_type": "markdown",
   "metadata": {},
   "source": [
    "##### `observations` Subsections: `a1`, `a2`, `a3`"
   ]
  },
  {
   "cell_type": "code",
   "execution_count": 163,
   "metadata": {
    "ExecuteTime": {
     "end_time": "2018-04-17T19:35:43.535288Z",
     "start_time": "2018-04-17T19:35:43.508564Z"
    }
   },
   "outputs": [
    {
     "data": {
      "text/html": [
       "<div>\n",
       "<style scoped>\n",
       "    .dataframe tbody tr th:only-of-type {\n",
       "        vertical-align: middle;\n",
       "    }\n",
       "\n",
       "    .dataframe tbody tr th {\n",
       "        vertical-align: top;\n",
       "    }\n",
       "\n",
       "    .dataframe thead th {\n",
       "        text-align: right;\n",
       "    }\n",
       "</style>\n",
       "<table border=\"1\" class=\"dataframe\">\n",
       "  <thead>\n",
       "    <tr style=\"text-align: right;\">\n",
       "      <th></th>\n",
       "      <th>0</th>\n",
       "    </tr>\n",
       "  </thead>\n",
       "  <tbody>\n",
       "    <tr>\n",
       "      <th>Data nodes</th>\n",
       "      <td>number</td>\n",
       "    </tr>\n",
       "  </tbody>\n",
       "</table>\n",
       "</div>"
      ],
      "text/plain": [
       "                 0\n",
       "Data nodes  number"
      ]
     },
     "metadata": {},
     "output_type": "display_data"
    }
   ],
   "source": [
    "summarize_node(observations_node['a1'])"
   ]
  },
  {
   "cell_type": "markdown",
   "metadata": {},
   "source": [
    "##### `observations` Subsection: `|` (natural enemies)"
   ]
  },
  {
   "cell_type": "code",
   "execution_count": 164,
   "metadata": {
    "ExecuteTime": {
     "end_time": "2018-04-17T19:35:44.590026Z",
     "start_time": "2018-04-17T19:35:44.549717Z"
    },
    "init_cell": true
   },
   "outputs": [
    {
     "data": {
      "text/html": [
       "<div>\n",
       "<style scoped>\n",
       "    .dataframe tbody tr th:only-of-type {\n",
       "        vertical-align: middle;\n",
       "    }\n",
       "\n",
       "    .dataframe tbody tr th {\n",
       "        vertical-align: top;\n",
       "    }\n",
       "\n",
       "    .dataframe thead th {\n",
       "        text-align: right;\n",
       "    }\n",
       "</style>\n",
       "<table border=\"1\" class=\"dataframe\">\n",
       "  <thead>\n",
       "    <tr style=\"text-align: right;\">\n",
       "      <th></th>\n",
       "      <th>fields__oSets__oPoints__observations__|</th>\n",
       "    </tr>\n",
       "  </thead>\n",
       "  <tbody>\n",
       "    <tr>\n",
       "      <th>count</th>\n",
       "      <td>3015</td>\n",
       "    </tr>\n",
       "    <tr>\n",
       "      <th>unique</th>\n",
       "      <td>9</td>\n",
       "    </tr>\n",
       "    <tr>\n",
       "      <th>top</th>\n",
       "      <td>e9</td>\n",
       "    </tr>\n",
       "    <tr>\n",
       "      <th>freq</th>\n",
       "      <td>335</td>\n",
       "    </tr>\n",
       "  </tbody>\n",
       "</table>\n",
       "</div>"
      ],
      "text/plain": [
       "       fields__oSets__oPoints__observations__|\n",
       "count                                     3015\n",
       "unique                                       9\n",
       "top                                         e9\n",
       "freq                                       335"
      ]
     },
     "metadata": {},
     "output_type": "display_data"
    },
    {
     "data": {
      "text/html": [
       "<div>\n",
       "<style scoped>\n",
       "    .dataframe tbody tr th:only-of-type {\n",
       "        vertical-align: middle;\n",
       "    }\n",
       "\n",
       "    .dataframe tbody tr th {\n",
       "        vertical-align: top;\n",
       "    }\n",
       "\n",
       "    .dataframe thead th {\n",
       "        text-align: right;\n",
       "    }\n",
       "</style>\n",
       "<table border=\"1\" class=\"dataframe\">\n",
       "  <thead>\n",
       "    <tr style=\"text-align: right;\">\n",
       "      <th></th>\n",
       "      <th>0</th>\n",
       "    </tr>\n",
       "  </thead>\n",
       "  <tbody>\n",
       "    <tr>\n",
       "      <th>Data nodes</th>\n",
       "      <td>number</td>\n",
       "    </tr>\n",
       "  </tbody>\n",
       "</table>\n",
       "</div>"
      ],
      "text/plain": [
       "                 0\n",
       "Data nodes  number"
      ]
     },
     "metadata": {},
     "output_type": "display_data"
    }
   ],
   "source": [
    "natural_enemies_node = observations_node['|']\n",
    "summarize_node(natural_enemies_node)"
   ]
  },
  {
   "cell_type": "markdown",
   "metadata": {},
   "source": [
    "As far as I've been able to discern, the source app's data doesn't distinguish between a count of zero and unreported (missing) data points. That's why the `observations__|__number` data (which doesn't necessarily exist) isn't always present on the same rows as all the `observations__|` labels.\n",
    "\n",
    "Later on, we'll need to dig up the actual list of naturaly enemies and match them to the corresponding \"e\" labels, `e1` through `e9`."
   ]
  },
  {
   "cell_type": "markdown",
   "metadata": {},
   "source": [
    "All possible values of `|`, which are the identities of the natural enemies:"
   ]
  },
  {
   "cell_type": "code",
   "execution_count": 165,
   "metadata": {
    "ExecuteTime": {
     "end_time": "2018-04-17T19:35:45.565533Z",
     "start_time": "2018-04-17T19:35:45.534832Z"
    }
   },
   "outputs": [
    {
     "data": {
      "text/html": [
       "<div>\n",
       "<style scoped>\n",
       "    .dataframe tbody tr th:only-of-type {\n",
       "        vertical-align: middle;\n",
       "    }\n",
       "\n",
       "    .dataframe tbody tr th {\n",
       "        vertical-align: top;\n",
       "    }\n",
       "\n",
       "    .dataframe thead th {\n",
       "        text-align: right;\n",
       "    }\n",
       "</style>\n",
       "<table border=\"1\" class=\"dataframe\">\n",
       "  <thead>\n",
       "    <tr style=\"text-align: right;\">\n",
       "      <th></th>\n",
       "      <th>0</th>\n",
       "      <th>1</th>\n",
       "      <th>2</th>\n",
       "      <th>3</th>\n",
       "      <th>4</th>\n",
       "      <th>5</th>\n",
       "      <th>6</th>\n",
       "      <th>7</th>\n",
       "      <th>8</th>\n",
       "    </tr>\n",
       "  </thead>\n",
       "  <tbody>\n",
       "    <tr>\n",
       "      <th>0</th>\n",
       "      <td>e1</td>\n",
       "      <td>e2</td>\n",
       "      <td>e3</td>\n",
       "      <td>e4</td>\n",
       "      <td>e5</td>\n",
       "      <td>e6</td>\n",
       "      <td>e7</td>\n",
       "      <td>e8</td>\n",
       "      <td>e9</td>\n",
       "    </tr>\n",
       "  </tbody>\n",
       "</table>\n",
       "</div>"
      ],
      "text/plain": [
       "    0   1   2   3   4   5   6   7   8\n",
       "0  e1  e2  e3  e4  e5  e6  e7  e8  e9"
      ]
     },
     "execution_count": 165,
     "metadata": {},
     "output_type": "execute_result"
    }
   ],
   "source": [
    "pandas.DataFrame(observations_node['|'][DATA].dropna().unique()).T"
   ]
  }
 ],
 "metadata": {
  "gist": {
   "data": {
    "description": "chunked parsing — 2017 CAM data from iPads.ipynb",
    "public": false
   },
   "id": ""
  },
  "hide_input": false,
  "kernelspec": {
   "display_name": "Python 3",
   "language": "python",
   "name": "python3"
  },
  "language_info": {
   "codemirror_mode": {
    "name": "ipython",
    "version": 3
   },
   "file_extension": ".py",
   "mimetype": "text/x-python",
   "name": "python",
   "nbconvert_exporter": "python",
   "pygments_lexer": "ipython3",
   "version": "3.6.3"
  },
  "nbTranslate": {
   "displayLangs": [
    "*"
   ],
   "hotkey": "alt-t",
   "langInMainMenu": true,
   "sourceLang": "en",
   "targetLang": "fr",
   "useGoogleTranslate": true
  },
  "toc": {
   "base_numbering": "1",
   "nav_menu": {
    "height": "774px",
    "width": "487px"
   },
   "number_sections": true,
   "sideBar": true,
   "skip_h1_title": false,
   "title_cell": "Table of Contents",
   "title_sidebar": "Contents",
   "toc_cell": true,
   "toc_position": {
    "height": "588px",
    "left": "79px",
    "top": "185px",
    "width": "394px"
   },
   "toc_section_display": true,
   "toc_window_display": false
  },
  "varInspector": {
   "cols": {
    "lenName": 16,
    "lenType": 16,
    "lenVar": 40
   },
   "kernels_config": {
    "python": {
     "delete_cmd_postfix": "",
     "delete_cmd_prefix": "del ",
     "library": "var_list.py",
     "varRefreshCmd": "print(var_dic_list())"
    },
    "r": {
     "delete_cmd_postfix": ") ",
     "delete_cmd_prefix": "rm(",
     "library": "var_list.r",
     "varRefreshCmd": "cat(var_dic_list()) "
    }
   },
   "types_to_exclude": [
    "module",
    "function",
    "builtin_function_or_method",
    "instance",
    "_Feature"
   ],
   "window_display": false
  }
 },
 "nbformat": 4,
 "nbformat_minor": 2
}
