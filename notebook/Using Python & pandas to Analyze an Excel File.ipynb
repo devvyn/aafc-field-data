{
 "cells": [
  {
   "cell_type": "markdown",
   "metadata": {
    "toc": true
   },
   "source": [
    "<h1>Table of Contents<span class=\"tocSkip\"></span></h1>\n",
    "<div class=\"toc\"><ul class=\"toc-item\"><li><span><a href=\"#Objectives\" data-toc-modified-id=\"Objectives-1\">Objectives</a></span></li><li><span><a href=\"#This-Document\" data-toc-modified-id=\"This-Document-2\">This Document</a></span></li><li><span><a href=\"#Concepts-&amp;-Tools\" data-toc-modified-id=\"Concepts-&amp;-Tools-3\">Concepts &amp; Tools</a></span><ul class=\"toc-item\"><li><span><a href=\"#Jupyter\" data-toc-modified-id=\"Jupyter-3.1\">Jupyter</a></span></li><li><span><a href=\"#pandas\" data-toc-modified-id=\"pandas-3.2\"><em>pandas</em></a></span></li><li><span><a href=\"#Python-Data-Structures\" data-toc-modified-id=\"Python-Data-Structures-3.3\">Python Data Structures</a></span><ul class=\"toc-item\"><li><span><a href=\"#Lists-&amp;-tuples\" data-toc-modified-id=\"Lists-&amp;-tuples-3.3.1\">Lists &amp; tuples</a></span><ul class=\"toc-item\"><li><span><a href=\"#Basic-definition-and-access\" data-toc-modified-id=\"Basic-definition-and-access-3.3.1.1\">Basic definition and access</a></span></li><li><span><a href=\"#Slicing-to-access-portions\" data-toc-modified-id=\"Slicing-to-access-portions-3.3.1.2\">Slicing to access portions</a></span></li><li><span><a href=\"#Using-for-to-access-a-list:\" data-toc-modified-id=\"Using-for-to-access-a-list:-3.3.1.3\">Using <code>for</code> to access a <code>list</code>:</a></span></li><li><span><a href=\"#Using-for-to-define-a-list:\" data-toc-modified-id=\"Using-for-to-define-a-list:-3.3.1.4\">Using <code>for</code> to define a <code>list</code>:</a></span></li></ul></li><li><span><a href=\"#Python-dictionaries\" data-toc-modified-id=\"Python-dictionaries-3.3.2\">Python dictionaries</a></span><ul class=\"toc-item\"><li><span><a href=\"#Basic-definition-and-access\" data-toc-modified-id=\"Basic-definition-and-access-3.3.2.1\">Basic definition and access</a></span></li><li><span><a href=\"#Using-for-to-access-a-dict\" data-toc-modified-id=\"Using-for-to-access-a-dict-3.3.2.2\">Using <code>for</code> to access a <code>dict</code></a></span></li><li><span><a href=\"#Using-for-to-define-a-dict\" data-toc-modified-id=\"Using-for-to-define-a-dict-3.3.2.3\">Using <code>for</code> to define a <code>dict</code></a></span></li></ul></li><li><span><a href=\"#More-about-lists,-dictionaries,-and-other-data-structures-in-Python\" data-toc-modified-id=\"More-about-lists,-dictionaries,-and-other-data-structures-in-Python-3.3.3\">More about lists, dictionaries, and other data structures in Python</a></span></li></ul></li><li><span><a href=\"#Note-on-Programming-Techniques\" data-toc-modified-id=\"Note-on-Programming-Techniques-3.4\">Note on Programming Techniques</a></span></li></ul></li><li><span><a href=\"#Setup\" data-toc-modified-id=\"Setup-4\">Setup</a></span><ul class=\"toc-item\"><li><span><a href=\"#Displaying-results-in-the-notebook\" data-toc-modified-id=\"Displaying-results-in-the-notebook-4.1\">Displaying results in the notebook</a></span></li><li><span><a href=\"#Reading-Excel-files,-processing-data\" data-toc-modified-id=\"Reading-Excel-files,-processing-data-4.2\">Reading Excel files, processing data</a></span></li></ul></li><li><span><a href=\"#The-Excel-workbook:-2017-CAM-data-from-iPads.xlxs\" data-toc-modified-id=\"The-Excel-workbook:-2017-CAM-data-from-iPads.xlxs-5\">The Excel workbook: <code>2017 CAM data from iPads.xlxs</code></a></span><ul class=\"toc-item\"><li><span><a href=\"#Worksheets-in-the-file\" data-toc-modified-id=\"Worksheets-in-the-file-5.1\">Worksheets in the file</a></span></li><li><span><a href=\"#Unifying-the-DataFrames-(worksheets)\" data-toc-modified-id=\"Unifying-the-DataFrames-(worksheets)-5.2\">Unifying the DataFrames (worksheets)</a></span><ul class=\"toc-item\"><li><span><a href=\"#pandas-functions-for-merging-DataFrames\" data-toc-modified-id=\"pandas-functions-for-merging-DataFrames-5.2.1\"><em>pandas</em> functions for merging DataFrames</a></span></li><li><span><a href=\"#Column-names-differ\" data-toc-modified-id=\"Column-names-differ-5.2.2\">Column names differ</a></span><ul class=\"toc-item\"><li><span><a href=\"#How-shall-we-solve-the-name-mismatch?\" data-toc-modified-id=\"How-shall-we-solve-the-name-mismatch?-5.2.2.1\">How shall we solve the name mismatch?</a></span></li><li><span><a href=\"#How-(where)-should-we-rename-the-columns/indices?\" data-toc-modified-id=\"How-(where)-should-we-rename-the-columns/indices?-5.2.2.2\">How (where) should we rename the columns/indices?</a></span></li><li><span><a href=\"#Renaming-axis-labels-(columns-or-rows)-with-pandas\" data-toc-modified-id=\"Renaming-axis-labels-(columns-or-rows)-with-pandas-5.2.2.3\">Renaming axis labels (columns or rows) with <em>pandas</em></a></span></li></ul></li><li><span><a href=\"#Finally-uniting-our-dataset\" data-toc-modified-id=\"Finally-uniting-our-dataset-5.2.3\">Finally uniting our dataset</a></span></li></ul></li><li><span><a href=\"#Making-sense-of-really-long,-repetitive-column-names\" data-toc-modified-id=\"Making-sense-of-really-long,-repetitive-column-names-5.3\">Making sense of really long, repetitive column names</a></span><ul class=\"toc-item\"><li><span><a href=\"#Nested-dictionaries,-for-a-hierarchy\" data-toc-modified-id=\"Nested-dictionaries,-for-a-hierarchy-5.3.1\">Nested dictionaries, for a hierarchy</a></span></li><li><span><a href=\"#Visualizing-the-tree\" data-toc-modified-id=\"Visualizing-the-tree-5.3.2\">Visualizing the tree</a></span></li><li><span><a href=\"#Accessing-data-using-the-tree\" data-toc-modified-id=\"Accessing-data-using-the-tree-5.3.3\">Accessing data using the tree</a></span></li><li><span><a href=\"#Helper-functions,-for-browsing-the-data\" data-toc-modified-id=\"Helper-functions,-for-browsing-the-data-5.3.4\">Helper functions, for browsing the data</a></span><ul class=\"toc-item\"><li><span><a href=\"#Personal-thought:\" data-toc-modified-id=\"Personal-thought:-5.3.4.1\">Personal thought:</a></span></li><li><span><a href=\"#Improve-the-tree-visualizer-function-with-child_data\" data-toc-modified-id=\"Improve-the-tree-visualizer-function-with-child_data-5.3.4.2\">Improve the tree visualizer function with <code>child_data</code></a></span></li></ul></li></ul></li><li><span><a href=\"#Putting-it-all-together\" data-toc-modified-id=\"Putting-it-all-together-5.4\">Putting it all together</a></span><ul class=\"toc-item\"><li><span><a href=\"#Accessing-data-from-any-section-&amp;-ignoring-irrelevant-rows\" data-toc-modified-id=\"Accessing-data-from-any-section-&amp;-ignoring-irrelevant-rows-5.4.1\">Accessing data from any section &amp; ignoring irrelevant rows</a></span></li><li><span><a href=\"#Outputting-cleaner-data\" data-toc-modified-id=\"Outputting-cleaner-data-5.4.2\">Outputting cleaner data</a></span></li></ul></li></ul></li><li><span><a href=\"#Analyzing-sections-and-subsections\" data-toc-modified-id=\"Analyzing-sections-and-subsections-6\">Analyzing sections and subsections</a></span></li><li><span><a href=\"#Appendix:-Annotated-Data-Structure\" data-toc-modified-id=\"Appendix:-Annotated-Data-Structure-7\">Appendix: Annotated Data Structure</a></span><ul class=\"toc-item\"><li><span><a href=\"#Section:-clients\" data-toc-modified-id=\"Section:-clients-7.1\">Section: <code>clients</code></a></span></li><li><span><a href=\"#Section:-observers\" data-toc-modified-id=\"Section:-observers-7.2\">Section: <code>observers</code></a></span></li><li><span><a href=\"#Section:-fields\" data-toc-modified-id=\"Section:-fields-7.3\">Section: <code>fields</code></a></span><ul class=\"toc-item\"><li><span><a href=\"#fields-Subsection:-client\" data-toc-modified-id=\"fields-Subsection:-client-7.3.1\"><code>fields</code> Subsection: <code>client</code></a></span></li><li><span><a href=\"#fields-Subsection:-oSets\" data-toc-modified-id=\"fields-Subsection:-oSets-7.3.2\"><code>fields</code> Subsection: <code>oSets</code></a></span></li><li><span><a href=\"#oSets-Subsection:-oPoints\" data-toc-modified-id=\"oSets-Subsection:-oPoints-7.3.3\"><code>oSets</code> Subsection: <code>oPoints</code></a></span><ul class=\"toc-item\"><li><span><a href=\"#oPoints-Subsection:-location\" data-toc-modified-id=\"oPoints-Subsection:-location-7.3.3.1\"><code>oPoints</code> Subsection: <code>location</code></a></span></li><li><span><a href=\"#oPoints-Subsection:-observations\" data-toc-modified-id=\"oPoints-Subsection:-observations-7.3.3.2\"><code>oPoints</code> Subsection: <code>observations</code></a></span></li></ul></li></ul></li></ul></li></ul></div>"
   ]
  },
  {
   "cell_type": "markdown",
   "metadata": {},
   "source": [
    "# Objectives"
   ]
  },
  {
   "cell_type": "markdown",
   "metadata": {},
   "source": [
    "* Read two Excel worksheets\n",
    "* Merge the data between the two sheets into one\n",
    "* Demonstrate ability to query the data\n",
    "* Output at least one Excel file for external analysis that has all relevant information on each row\n",
    "* Share whatever knowledge is necessary to reproduce these results"
   ]
  },
  {
   "cell_type": "markdown",
   "metadata": {},
   "source": [
    "# This Document"
   ]
  },
  {
   "cell_type": "markdown",
   "metadata": {},
   "source": [
    "* You may view or download this notebook on [NBViewer], though it won't be interactive.\n",
    "* You may interact with this notebook on [mybinder.org], though changes won't be saved for very long.\n",
    "* The [source] for this notebook is online at GitHub.com, where it can be viewed or downloaded. Instructions on how to use this notebook on your own computer are in the [README].\n",
    "\n",
    "[![Binder](https://mybinder.org/badge.svg)][mybinder.org]\n",
    "\n",
    "[README]: https://github.com/devvyn/aafc-field-data/blob/master/README.md\n",
    "[source]: https://github.com/devvyn/aafc-field-data/blob/master/notebook/Using%20Python%20%26%20pandas%20to%20Analyze%20an%20Excel%20File.ipynb\n",
    "[mybinder.org]: https://mybinder.org/v2/gh/devvyn/aafc-field-data/master?filepath=notebook%2FUsing%20Python%20%26%20pandas%20to%20Analyze%20an%20Excel%20File.ipynb\n",
    "[NBViewer]: https://nbviewer.jupyter.org/github/devvyn/aafc-field-data/blob/master/notebook/Using%20Python%20%26%20pandas%20to%20Analyze%20an%20Excel%20File.ipynb"
   ]
  },
  {
   "cell_type": "markdown",
   "metadata": {},
   "source": [
    "# Concepts & Tools"
   ]
  },
  {
   "cell_type": "markdown",
   "metadata": {
    "heading_collapsed": true
   },
   "source": [
    "## Jupyter"
   ]
  },
  {
   "cell_type": "markdown",
   "metadata": {},
   "source": [
    "## _pandas_"
   ]
  },
  {
   "cell_type": "markdown",
   "metadata": {},
   "source": [
    "@todo: intro to _pandas_\n",
    "\n",
    "* Series\n",
    "* Index\n",
    "* DataFrame\n",
    "* I/O"
   ]
  },
  {
   "cell_type": "markdown",
   "metadata": {},
   "source": [
    "## Python Data Structures"
   ]
  },
  {
   "cell_type": "markdown",
   "metadata": {},
   "source": [
    "### Lists & tuples"
   ]
  },
  {
   "cell_type": "markdown",
   "metadata": {},
   "source": [
    "A [`list`] in Python is simply a sequence of objects, which can be numbers, text, or anything else. It uses square brackets.\n",
    "\n",
    "A [`tuple`] is almost identical to a `list`, except it can't be edited after it's defined. It uses round parentheses. You won't need to worry too much about needing tuples unless you want to make sure the sequence can't be altered.\n",
    "\n",
    "[`list`]: https://docs.python.org/3/library/stdtypes.html#list\n",
    "[`tuple`]: https://docs.python.org/3/library/stdtypes.html#tuples"
   ]
  },
  {
   "cell_type": "markdown",
   "metadata": {},
   "source": [
    "#### Basic definition and access"
   ]
  },
  {
   "cell_type": "markdown",
   "metadata": {},
   "source": [
    "##### Define a tuple:"
   ]
  },
  {
   "cell_type": "code",
   "execution_count": 242,
   "metadata": {
    "ExecuteTime": {
     "end_time": "2018-04-17T22:27:33.458677Z",
     "start_time": "2018-04-17T22:27:33.449606Z"
    }
   },
   "outputs": [],
   "source": [
    "my_tuple = (1, 2, 3, \"four\", (\"nested 1\", \"nested 2\"), 30, 0)"
   ]
  },
  {
   "cell_type": "markdown",
   "metadata": {},
   "source": [
    "##### Define a list:"
   ]
  },
  {
   "cell_type": "code",
   "execution_count": 245,
   "metadata": {
    "ExecuteTime": {
     "end_time": "2018-04-17T22:28:33.185221Z",
     "start_time": "2018-04-17T22:28:33.176361Z"
    },
    "cell_style": "center"
   },
   "outputs": [],
   "source": [
    "my_list = [1, 2, 3, \"four\"]\n",
    "a_tiny_list = [8]\n",
    "another_list = [my_list, 5, 6, 7, my_tuple]"
   ]
  },
  {
   "cell_type": "code",
   "execution_count": 246,
   "metadata": {
    "ExecuteTime": {
     "end_time": "2018-04-17T22:28:34.249019Z",
     "start_time": "2018-04-17T22:28:34.240468Z"
    },
    "cell_style": "split"
   },
   "outputs": [
    {
     "data": {
      "text/plain": [
       "[1, 2, 3, 'four']"
      ]
     },
     "execution_count": 246,
     "metadata": {},
     "output_type": "execute_result"
    }
   ],
   "source": [
    "my_list"
   ]
  },
  {
   "cell_type": "code",
   "execution_count": 247,
   "metadata": {
    "ExecuteTime": {
     "end_time": "2018-04-17T22:28:34.920671Z",
     "start_time": "2018-04-17T22:28:34.906323Z"
    },
    "cell_style": "split"
   },
   "outputs": [
    {
     "data": {
      "text/plain": [
       "[8]"
      ]
     },
     "execution_count": 247,
     "metadata": {},
     "output_type": "execute_result"
    }
   ],
   "source": [
    "a_tiny_list"
   ]
  },
  {
   "cell_type": "code",
   "execution_count": 248,
   "metadata": {
    "ExecuteTime": {
     "end_time": "2018-04-17T22:28:35.707855Z",
     "start_time": "2018-04-17T22:28:35.698782Z"
    },
    "cell_style": "split"
   },
   "outputs": [
    {
     "data": {
      "text/plain": [
       "[[1, 2, 3, 'four'],\n",
       " 5,\n",
       " 6,\n",
       " 7,\n",
       " (1, 2, 3, 'four', ('nested 1', 'nested 2'), 30, 0)]"
      ]
     },
     "execution_count": 248,
     "metadata": {},
     "output_type": "execute_result"
    }
   ],
   "source": [
    "another_list"
   ]
  },
  {
   "cell_type": "markdown",
   "metadata": {},
   "source": [
    "##### Access items in a `list` or `tuple`:"
   ]
  },
  {
   "cell_type": "code",
   "execution_count": 243,
   "metadata": {
    "ExecuteTime": {
     "end_time": "2018-04-17T22:27:58.075826Z",
     "start_time": "2018-04-17T22:27:58.063939Z"
    },
    "cell_style": "split"
   },
   "outputs": [
    {
     "data": {
      "text/plain": [
       "1"
      ]
     },
     "execution_count": 243,
     "metadata": {},
     "output_type": "execute_result"
    }
   ],
   "source": [
    "my_list[0]"
   ]
  },
  {
   "cell_type": "code",
   "execution_count": 244,
   "metadata": {
    "ExecuteTime": {
     "end_time": "2018-04-17T22:28:04.824441Z",
     "start_time": "2018-04-17T22:28:04.815252Z"
    },
    "cell_style": "split"
   },
   "outputs": [
    {
     "data": {
      "text/plain": [
       "1"
      ]
     },
     "execution_count": 244,
     "metadata": {},
     "output_type": "execute_result"
    }
   ],
   "source": [
    "my_tuple[0]"
   ]
  },
  {
   "cell_type": "markdown",
   "metadata": {},
   "source": [
    "There's an \"item zero\". That's normal, because 0 is the origin, just like in Cartesian coordinates.\n",
    "\n",
    "The index sequence continues as you might expect:"
   ]
  },
  {
   "cell_type": "code",
   "execution_count": 172,
   "metadata": {
    "ExecuteTime": {
     "end_time": "2018-04-17T21:53:03.383366Z",
     "start_time": "2018-04-17T21:53:03.375970Z"
    },
    "cell_style": "split"
   },
   "outputs": [
    {
     "data": {
      "text/plain": [
       "2"
      ]
     },
     "execution_count": 172,
     "metadata": {},
     "output_type": "execute_result"
    }
   ],
   "source": [
    "my_list[1]"
   ]
  },
  {
   "cell_type": "code",
   "execution_count": 173,
   "metadata": {
    "ExecuteTime": {
     "end_time": "2018-04-17T21:53:04.074858Z",
     "start_time": "2018-04-17T21:53:04.064844Z"
    },
    "cell_style": "split"
   },
   "outputs": [
    {
     "data": {
      "text/plain": [
       "3"
      ]
     },
     "execution_count": 173,
     "metadata": {},
     "output_type": "execute_result"
    }
   ],
   "source": [
    "my_list[2]"
   ]
  },
  {
   "cell_type": "code",
   "execution_count": 174,
   "metadata": {
    "ExecuteTime": {
     "end_time": "2018-04-17T21:53:04.658503Z",
     "start_time": "2018-04-17T21:53:04.645656Z"
    },
    "cell_style": "split"
   },
   "outputs": [
    {
     "data": {
      "text/plain": [
       "'four'"
      ]
     },
     "execution_count": 174,
     "metadata": {},
     "output_type": "execute_result"
    }
   ],
   "source": [
    "my_list[3]"
   ]
  },
  {
   "cell_type": "code",
   "execution_count": 175,
   "metadata": {
    "ExecuteTime": {
     "end_time": "2018-04-17T21:53:05.333219Z",
     "start_time": "2018-04-17T21:53:05.304345Z"
    },
    "cell_style": "split"
   },
   "outputs": [
    {
     "ename": "IndexError",
     "evalue": "list index out of range",
     "output_type": "error",
     "traceback": [
      "\u001b[0;31m---------------------------------------------------------------------------\u001b[0m",
      "\u001b[0;31mIndexError\u001b[0m                                Traceback (most recent call last)",
      "\u001b[0;32m<ipython-input-175-d8d3b5435ffd>\u001b[0m in \u001b[0;36m<module>\u001b[0;34m()\u001b[0m\n\u001b[0;32m----> 1\u001b[0;31m \u001b[0mmy_list\u001b[0m\u001b[0;34m[\u001b[0m\u001b[0;36m4\u001b[0m\u001b[0;34m]\u001b[0m\u001b[0;34m\u001b[0m\u001b[0m\n\u001b[0m",
      "\u001b[0;31mIndexError\u001b[0m: list index out of range"
     ]
    }
   ],
   "source": [
    "my_list[4]"
   ]
  },
  {
   "cell_type": "markdown",
   "metadata": {},
   "source": [
    "If you attempt to access a non existent item by using an index that's out of range, you'll receive an error."
   ]
  },
  {
   "cell_type": "markdown",
   "metadata": {},
   "source": [
    "You can, however, use negative numbers! Negative numbers are assumed to be relative to the upper boundary of the range. -1 refers to the _last_ item, -2 to the _second last_, and so on."
   ]
  },
  {
   "cell_type": "code",
   "execution_count": 176,
   "metadata": {
    "ExecuteTime": {
     "end_time": "2018-04-17T21:53:09.706410Z",
     "start_time": "2018-04-17T21:53:09.696515Z"
    },
    "cell_style": "split"
   },
   "outputs": [
    {
     "data": {
      "text/plain": [
       "'four'"
      ]
     },
     "execution_count": 176,
     "metadata": {},
     "output_type": "execute_result"
    }
   ],
   "source": [
    "my_list[-1]"
   ]
  },
  {
   "cell_type": "code",
   "execution_count": 249,
   "metadata": {
    "ExecuteTime": {
     "end_time": "2018-04-17T22:29:30.879232Z",
     "start_time": "2018-04-17T22:29:30.868415Z"
    },
    "cell_style": "split"
   },
   "outputs": [
    {
     "data": {
      "text/plain": [
       "30"
      ]
     },
     "execution_count": 249,
     "metadata": {},
     "output_type": "execute_result"
    }
   ],
   "source": [
    "my_tuple[-2]"
   ]
  },
  {
   "cell_type": "markdown",
   "metadata": {},
   "source": [
    "##### Adding items to a list:"
   ]
  },
  {
   "cell_type": "code",
   "execution_count": 181,
   "metadata": {
    "ExecuteTime": {
     "end_time": "2018-04-17T21:53:31.333160Z",
     "start_time": "2018-04-17T21:53:31.320505Z"
    }
   },
   "outputs": [
    {
     "data": {
      "text/plain": [
       "[8]"
      ]
     },
     "execution_count": 181,
     "metadata": {},
     "output_type": "execute_result"
    }
   ],
   "source": [
    "a_tiny_list"
   ]
  },
  {
   "cell_type": "code",
   "execution_count": 185,
   "metadata": {
    "ExecuteTime": {
     "end_time": "2018-04-17T21:53:56.447878Z",
     "start_time": "2018-04-17T21:53:56.435420Z"
    }
   },
   "outputs": [
    {
     "data": {
      "text/plain": [
       "[8, 'another item', 'another item']"
      ]
     },
     "execution_count": 185,
     "metadata": {},
     "output_type": "execute_result"
    }
   ],
   "source": [
    "a_tiny_list.append(\"another item\")\n",
    "\n",
    "a_tiny_list"
   ]
  },
  {
   "cell_type": "markdown",
   "metadata": {},
   "source": [
    "#### Slicing to access portions"
   ]
  },
  {
   "cell_type": "markdown",
   "metadata": {},
   "source": [
    "If you want to choose a portion of a list, you can use the colon character to separate the start and end index numbers you want to use as the selected range of the list. The end is where you'll stop, so if there's an item at that index, it'll be excluded:"
   ]
  },
  {
   "cell_type": "code",
   "execution_count": 250,
   "metadata": {
    "ExecuteTime": {
     "end_time": "2018-04-17T22:31:50.305716Z",
     "start_time": "2018-04-17T22:31:50.290048Z"
    },
    "cell_style": "split"
   },
   "outputs": [
    {
     "data": {
      "text/plain": [
       "[1, 2]"
      ]
     },
     "execution_count": 250,
     "metadata": {},
     "output_type": "execute_result"
    }
   ],
   "source": [
    "my_list[0:2]"
   ]
  },
  {
   "cell_type": "code",
   "execution_count": 255,
   "metadata": {
    "ExecuteTime": {
     "end_time": "2018-04-17T22:33:28.464465Z",
     "start_time": "2018-04-17T22:33:28.452429Z"
    },
    "cell_style": "split"
   },
   "outputs": [
    {
     "data": {
      "text/plain": [
       "(30, 0)"
      ]
     },
     "execution_count": 255,
     "metadata": {},
     "output_type": "execute_result"
    }
   ],
   "source": [
    "my_tuple[5:7]"
   ]
  },
  {
   "cell_type": "markdown",
   "metadata": {},
   "source": [
    "You can omit the first or last number in your slice to use the natural upper or lower boundary:"
   ]
  },
  {
   "cell_type": "code",
   "execution_count": 179,
   "metadata": {
    "ExecuteTime": {
     "end_time": "2018-04-17T21:53:15.233437Z",
     "start_time": "2018-04-17T21:53:15.217716Z"
    },
    "cell_style": "split"
   },
   "outputs": [
    {
     "data": {
      "text/plain": [
       "[1, 2]"
      ]
     },
     "execution_count": 179,
     "metadata": {},
     "output_type": "execute_result"
    }
   ],
   "source": [
    "my_list[:2]  # until index 2"
   ]
  },
  {
   "cell_type": "code",
   "execution_count": 256,
   "metadata": {
    "ExecuteTime": {
     "end_time": "2018-04-17T22:33:48.194152Z",
     "start_time": "2018-04-17T22:33:48.178773Z"
    },
    "cell_style": "split"
   },
   "outputs": [
    {
     "data": {
      "text/plain": [
       "(30, 0)"
      ]
     },
     "execution_count": 256,
     "metadata": {},
     "output_type": "execute_result"
    }
   ],
   "source": [
    "my_tuple[5:]  # index 5 and on"
   ]
  },
  {
   "cell_type": "markdown",
   "metadata": {},
   "source": [
    "#### Using `for` to access a `list`:"
   ]
  },
  {
   "cell_type": "code",
   "execution_count": 233,
   "metadata": {
    "ExecuteTime": {
     "end_time": "2018-04-17T22:15:11.389056Z",
     "start_time": "2018-04-17T22:15:11.379021Z"
    },
    "cell_style": "split"
   },
   "outputs": [
    {
     "name": "stdout",
     "output_type": "stream",
     "text": [
      "1\n",
      "2\n",
      "3\n",
      "four\n"
     ]
    }
   ],
   "source": [
    "for item in my_list:\n",
    "    print(item)"
   ]
  },
  {
   "cell_type": "code",
   "execution_count": 232,
   "metadata": {
    "ExecuteTime": {
     "end_time": "2018-04-17T22:14:47.247920Z",
     "start_time": "2018-04-17T22:14:47.236017Z"
    },
    "cell_style": "split"
   },
   "outputs": [
    {
     "name": "stdout",
     "output_type": "stream",
     "text": [
      "[1, 2, 3, 'four']\n",
      "5\n",
      "6\n",
      "7\n"
     ]
    }
   ],
   "source": [
    "for item in another_list:\n",
    "    print(item)"
   ]
  },
  {
   "cell_type": "markdown",
   "metadata": {},
   "source": [
    "#### Using `for` to define a `list`:"
   ]
  },
  {
   "cell_type": "markdown",
   "metadata": {},
   "source": [
    "Apply an expression to every item in a list:"
   ]
  },
  {
   "cell_type": "code",
   "execution_count": 235,
   "metadata": {
    "ExecuteTime": {
     "end_time": "2018-04-17T22:17:28.215880Z",
     "start_time": "2018-04-17T22:17:28.205182Z"
    }
   },
   "outputs": [
    {
     "data": {
      "text/plain": [
       "['I have 1!', 'I have 2!', 'I have 3!', 'I have four!']"
      ]
     },
     "execution_count": 235,
     "metadata": {},
     "output_type": "execute_result"
    }
   ],
   "source": [
    "my_new_list = [f\"I have {item}!\" for item in my_list]\n",
    "my_new_list"
   ]
  },
  {
   "cell_type": "markdown",
   "metadata": {},
   "source": [
    "Use `if` to filter a list:"
   ]
  },
  {
   "cell_type": "code",
   "execution_count": 237,
   "metadata": {
    "ExecuteTime": {
     "end_time": "2018-04-17T22:19:40.752583Z",
     "start_time": "2018-04-17T22:19:40.741337Z"
    }
   },
   "outputs": [
    {
     "data": {
      "text/plain": [
       "[3, 'four']"
      ]
     },
     "execution_count": 237,
     "metadata": {},
     "output_type": "execute_result"
    }
   ],
   "source": [
    "my_filtered_list = [item for item in my_list if item == \"four\" or item > 2]\n",
    "my_filtered_list"
   ]
  },
  {
   "cell_type": "markdown",
   "metadata": {},
   "source": [
    "### Python dictionaries"
   ]
  },
  {
   "cell_type": "markdown",
   "metadata": {},
   "source": [
    "#### Basic definition and access"
   ]
  },
  {
   "cell_type": "markdown",
   "metadata": {},
   "source": [
    "Dictionaries in Python are just a collection of named things. The things can be another dictionary, a string, a number, or whatver. Even the names of the things don't necessarily have to be words—they can be numbers, for example."
   ]
  },
  {
   "cell_type": "markdown",
   "metadata": {
    "ExecuteTime": {
     "end_time": "2018-04-17T20:48:22.463274Z",
     "start_time": "2018-04-17T20:48:22.453042Z"
    }
   },
   "source": [
    "##### Define a dictionary:"
   ]
  },
  {
   "cell_type": "code",
   "execution_count": 257,
   "metadata": {
    "ExecuteTime": {
     "end_time": "2018-04-17T22:35:52.947610Z",
     "start_time": "2018-04-17T22:35:52.932551Z"
    }
   },
   "outputs": [],
   "source": [
    "my_dictionary = {\n",
    "    'one': 1,\n",
    "    2: 'two',\n",
    "    'green': 'I like colour green.',\n",
    "    'another dictionary': {'more stuff': 1024,\n",
    "                           'even more stuff': 2048},\n",
    "    'a list': [1, 2, 3, 4]\n",
    "}"
   ]
  },
  {
   "cell_type": "code",
   "execution_count": 258,
   "metadata": {
    "ExecuteTime": {
     "end_time": "2018-04-17T22:35:53.917950Z",
     "start_time": "2018-04-17T22:35:53.904858Z"
    }
   },
   "outputs": [
    {
     "data": {
      "text/plain": [
       "{2: 'two',\n",
       " 'a list': [1, 2, 3, 4],\n",
       " 'another dictionary': {'even more stuff': 2048, 'more stuff': 1024},\n",
       " 'green': 'I like colour green.',\n",
       " 'one': 1}"
      ]
     },
     "execution_count": 258,
     "metadata": {},
     "output_type": "execute_result"
    }
   ],
   "source": [
    "my_dictionary"
   ]
  },
  {
   "cell_type": "markdown",
   "metadata": {},
   "source": [
    "##### Access stored values:"
   ]
  },
  {
   "cell_type": "code",
   "execution_count": 259,
   "metadata": {
    "ExecuteTime": {
     "end_time": "2018-04-17T22:35:54.712944Z",
     "start_time": "2018-04-17T22:35:54.697762Z"
    },
    "cell_style": "split"
   },
   "outputs": [
    {
     "data": {
      "text/plain": [
       "1"
      ]
     },
     "execution_count": 259,
     "metadata": {},
     "output_type": "execute_result"
    }
   ],
   "source": [
    "my_dictionary[\"one\"]"
   ]
  },
  {
   "cell_type": "code",
   "execution_count": 260,
   "metadata": {
    "ExecuteTime": {
     "end_time": "2018-04-17T22:35:55.438058Z",
     "start_time": "2018-04-17T22:35:55.429669Z"
    },
    "cell_style": "split"
   },
   "outputs": [
    {
     "data": {
      "text/plain": [
       "'two'"
      ]
     },
     "execution_count": 260,
     "metadata": {},
     "output_type": "execute_result"
    }
   ],
   "source": [
    "my_dictionary[2]"
   ]
  },
  {
   "cell_type": "code",
   "execution_count": 261,
   "metadata": {
    "ExecuteTime": {
     "end_time": "2018-04-17T22:35:56.103228Z",
     "start_time": "2018-04-17T22:35:56.089423Z"
    },
    "cell_style": "center"
   },
   "outputs": [
    {
     "data": {
      "text/plain": [
       "2048"
      ]
     },
     "execution_count": 261,
     "metadata": {},
     "output_type": "execute_result"
    }
   ],
   "source": [
    "my_dictionary[\"another dictionary\"][\"even more stuff\"]"
   ]
  },
  {
   "cell_type": "markdown",
   "metadata": {},
   "source": [
    "Note that the attempt to use a non-existant key results in a Python exception called a `KeyError`. This is helpful if you accidentally lose track of which keys are in the dictionary. "
   ]
  },
  {
   "cell_type": "code",
   "execution_count": 262,
   "metadata": {
    "ExecuteTime": {
     "end_time": "2018-04-17T22:35:57.828740Z",
     "start_time": "2018-04-17T22:35:57.808759Z"
    },
    "scrolled": true
   },
   "outputs": [
    {
     "ename": "KeyError",
     "evalue": "\"some key that doesn't exist\"",
     "output_type": "error",
     "traceback": [
      "\u001b[0;31m---------------------------------------------------------------------------\u001b[0m",
      "\u001b[0;31mKeyError\u001b[0m                                  Traceback (most recent call last)",
      "\u001b[0;32m<ipython-input-262-6706547ecbde>\u001b[0m in \u001b[0;36m<module>\u001b[0;34m()\u001b[0m\n\u001b[0;32m----> 1\u001b[0;31m \u001b[0mmy_dictionary\u001b[0m\u001b[0;34m[\u001b[0m\u001b[0;34m\"some key that doesn't exist\"\u001b[0m\u001b[0;34m]\u001b[0m\u001b[0;34m\u001b[0m\u001b[0m\n\u001b[0m",
      "\u001b[0;31mKeyError\u001b[0m: \"some key that doesn't exist\""
     ]
    }
   ],
   "source": [
    "my_dictionary[\"some key that doesn't exist\"]"
   ]
  },
  {
   "cell_type": "markdown",
   "metadata": {},
   "source": [
    "If you don't want this to happen, there are ways to get around it. Later on, we'll use something called a [`defaultdict`], which just makes up the new key on the spot, instead of stopping dead.\n",
    "\n",
    "[`defaultdict`]: https://docs.python.org/3/library/collections.html?highlight=defaultdict#defaultdict-objects"
   ]
  },
  {
   "cell_type": "markdown",
   "metadata": {},
   "source": [
    "##### Assign values to existing keys or new keys:"
   ]
  },
  {
   "cell_type": "code",
   "execution_count": 263,
   "metadata": {
    "ExecuteTime": {
     "end_time": "2018-04-17T22:36:00.690963Z",
     "start_time": "2018-04-17T22:36:00.675126Z"
    },
    "cell_style": "split"
   },
   "outputs": [],
   "source": [
    "my_dictionary[\"two\"] = my_dictionary[2]\n",
    "my_dictionary[2] = \"fourteen\""
   ]
  },
  {
   "cell_type": "code",
   "execution_count": 264,
   "metadata": {
    "ExecuteTime": {
     "end_time": "2018-04-17T22:36:01.411239Z",
     "start_time": "2018-04-17T22:36:01.405791Z"
    },
    "cell_style": "split"
   },
   "outputs": [],
   "source": [
    "my_dictionary[\"some key that didn't exist before\"] = \"Some value that didn't exist before\""
   ]
  },
  {
   "cell_type": "code",
   "execution_count": 265,
   "metadata": {
    "ExecuteTime": {
     "end_time": "2018-04-17T22:36:02.314894Z",
     "start_time": "2018-04-17T22:36:02.303597Z"
    }
   },
   "outputs": [
    {
     "data": {
      "text/plain": [
       "dict_keys(['one', 2, 'green', 'another dictionary', 'a list', 'two', \"some key that didn't exist before\"])"
      ]
     },
     "execution_count": 265,
     "metadata": {},
     "output_type": "execute_result"
    }
   ],
   "source": [
    "my_dictionary.keys()"
   ]
  },
  {
   "cell_type": "markdown",
   "metadata": {},
   "source": [
    "#### Using `for` to access a `dict`"
   ]
  },
  {
   "cell_type": "markdown",
   "metadata": {},
   "source": [
    "##### Dictionary iterables"
   ]
  },
  {
   "cell_type": "markdown",
   "metadata": {},
   "source": [
    "Python's `for` statements are handy for doing something to each item in a collection. Dictionaries are a type of collection, but since they have keys and values, you need to specify which you want. To address this, there are three handy methods that all dictionaries have:\n",
    "\n",
    "- [`keys()`] - Only the key names\n",
    "- [`values()`] - Only the values\n",
    "- [`items()`] - Pairs of keys and values\n",
    "\n",
    "[`keys()`]: https://docs.python.org/3/library/stdtypes.html#dict.keys\n",
    "[`values()`]: https://docs.python.org/3/library/stdtypes.html#dict.values\n",
    "[`items()`]: https://docs.python.org/3/library/stdtypes.html#dict.items\n",
    "\n"
   ]
  },
  {
   "cell_type": "markdown",
   "metadata": {},
   "source": [
    "##### `keys()`"
   ]
  },
  {
   "cell_type": "code",
   "execution_count": 266,
   "metadata": {
    "ExecuteTime": {
     "end_time": "2018-04-17T22:39:44.305717Z",
     "start_time": "2018-04-17T22:39:44.274083Z"
    }
   },
   "outputs": [
    {
     "data": {
      "text/plain": [
       "'one'"
      ]
     },
     "metadata": {},
     "output_type": "display_data"
    },
    {
     "data": {
      "text/plain": [
       "2"
      ]
     },
     "metadata": {},
     "output_type": "display_data"
    },
    {
     "data": {
      "text/plain": [
       "'green'"
      ]
     },
     "metadata": {},
     "output_type": "display_data"
    },
    {
     "data": {
      "text/plain": [
       "'another dictionary'"
      ]
     },
     "metadata": {},
     "output_type": "display_data"
    },
    {
     "data": {
      "text/plain": [
       "'a list'"
      ]
     },
     "metadata": {},
     "output_type": "display_data"
    },
    {
     "data": {
      "text/plain": [
       "'two'"
      ]
     },
     "metadata": {},
     "output_type": "display_data"
    },
    {
     "data": {
      "text/plain": [
       "\"some key that didn't exist before\""
      ]
     },
     "metadata": {},
     "output_type": "display_data"
    }
   ],
   "source": [
    "for key in my_dictionary.keys():\n",
    "    display(key)"
   ]
  },
  {
   "cell_type": "markdown",
   "metadata": {},
   "source": [
    "##### `values()`"
   ]
  },
  {
   "cell_type": "code",
   "execution_count": 267,
   "metadata": {
    "ExecuteTime": {
     "end_time": "2018-04-17T22:39:49.952139Z",
     "start_time": "2018-04-17T22:39:49.924953Z"
    }
   },
   "outputs": [
    {
     "data": {
      "text/plain": [
       "1"
      ]
     },
     "metadata": {},
     "output_type": "display_data"
    },
    {
     "data": {
      "text/plain": [
       "'fourteen'"
      ]
     },
     "metadata": {},
     "output_type": "display_data"
    },
    {
     "data": {
      "text/plain": [
       "'I like colour green.'"
      ]
     },
     "metadata": {},
     "output_type": "display_data"
    },
    {
     "data": {
      "text/plain": [
       "{'even more stuff': 2048, 'more stuff': 1024}"
      ]
     },
     "metadata": {},
     "output_type": "display_data"
    },
    {
     "data": {
      "text/plain": [
       "[1, 2, 3, 4]"
      ]
     },
     "metadata": {},
     "output_type": "display_data"
    },
    {
     "data": {
      "text/plain": [
       "'two'"
      ]
     },
     "metadata": {},
     "output_type": "display_data"
    },
    {
     "data": {
      "text/plain": [
       "\"Some value that didn't exist before\""
      ]
     },
     "metadata": {},
     "output_type": "display_data"
    }
   ],
   "source": [
    "for value in my_dictionary.values():\n",
    "    display(value)"
   ]
  },
  {
   "cell_type": "markdown",
   "metadata": {},
   "source": [
    "##### `items()`"
   ]
  },
  {
   "cell_type": "code",
   "execution_count": 268,
   "metadata": {
    "ExecuteTime": {
     "end_time": "2018-04-17T22:39:52.947489Z",
     "start_time": "2018-04-17T22:39:52.920582Z"
    }
   },
   "outputs": [
    {
     "data": {
      "text/plain": [
       "('one', 1)"
      ]
     },
     "metadata": {},
     "output_type": "display_data"
    },
    {
     "data": {
      "text/plain": [
       "(2, 'fourteen')"
      ]
     },
     "metadata": {},
     "output_type": "display_data"
    },
    {
     "data": {
      "text/plain": [
       "('green', 'I like colour green.')"
      ]
     },
     "metadata": {},
     "output_type": "display_data"
    },
    {
     "data": {
      "text/plain": [
       "('another dictionary', {'even more stuff': 2048, 'more stuff': 1024})"
      ]
     },
     "metadata": {},
     "output_type": "display_data"
    },
    {
     "data": {
      "text/plain": [
       "('a list', [1, 2, 3, 4])"
      ]
     },
     "metadata": {},
     "output_type": "display_data"
    },
    {
     "data": {
      "text/plain": [
       "('two', 'two')"
      ]
     },
     "metadata": {},
     "output_type": "display_data"
    },
    {
     "data": {
      "text/plain": [
       "(\"some key that didn't exist before\", \"Some value that didn't exist before\")"
      ]
     },
     "metadata": {},
     "output_type": "display_data"
    }
   ],
   "source": [
    "for item in my_dictionary.items():\n",
    "    display(item)"
   ]
  },
  {
   "cell_type": "markdown",
   "metadata": {},
   "source": [
    "#### Using `for` to define a `dict`"
   ]
  },
  {
   "cell_type": "markdown",
   "metadata": {},
   "source": [
    "With a list of items, it's often useful to make a dictionary with keys or values based those items. For example, let's say we have this list:"
   ]
  },
  {
   "cell_type": "code",
   "execution_count": 221,
   "metadata": {
    "ExecuteTime": {
     "end_time": "2018-04-17T22:11:53.229166Z",
     "start_time": "2018-04-17T22:11:53.218485Z"
    }
   },
   "outputs": [
    {
     "data": {
      "text/plain": [
       "[1, 2, 3]"
      ]
     },
     "execution_count": 221,
     "metadata": {},
     "output_type": "execute_result"
    }
   ],
   "source": [
    "my_list[:3]"
   ]
  },
  {
   "cell_type": "markdown",
   "metadata": {},
   "source": [
    "Simply use `for` to access the list and make the dictionary at the same time. You can use expressions to transform the values as you apply them to the new dictionary. The syntax is almost the same as for regular dictionary definition:"
   ]
  },
  {
   "cell_type": "code",
   "execution_count": 269,
   "metadata": {
    "ExecuteTime": {
     "end_time": "2018-04-17T22:40:52.246638Z",
     "start_time": "2018-04-17T22:40:52.237116Z"
    }
   },
   "outputs": [],
   "source": [
    "my_new_dict = {f\"Key #{item}\": item + 100\n",
    "               for item in my_list\n",
    "               if item != \"four\"}"
   ]
  },
  {
   "cell_type": "code",
   "execution_count": 270,
   "metadata": {
    "ExecuteTime": {
     "end_time": "2018-04-17T22:40:53.015389Z",
     "start_time": "2018-04-17T22:40:53.002248Z"
    }
   },
   "outputs": [
    {
     "data": {
      "text/plain": [
       "{'Key #1': 101, 'Key #2': 102, 'Key #3': 103}"
      ]
     },
     "execution_count": 270,
     "metadata": {},
     "output_type": "execute_result"
    }
   ],
   "source": [
    "my_new_dict"
   ]
  },
  {
   "cell_type": "markdown",
   "metadata": {},
   "source": [
    "This is the same as using the regular assignment syntax in a regular `for` loop:"
   ]
  },
  {
   "cell_type": "code",
   "execution_count": 271,
   "metadata": {
    "ExecuteTime": {
     "end_time": "2018-04-17T22:40:54.959651Z",
     "start_time": "2018-04-17T22:40:54.945451Z"
    }
   },
   "outputs": [],
   "source": [
    "my_new_dict = {}\n",
    "for item in my_list:\n",
    "    if item != \"four\":\n",
    "        my_new_dict[f\"Key #{item}\"] = item + 100"
   ]
  },
  {
   "cell_type": "code",
   "execution_count": 272,
   "metadata": {
    "ExecuteTime": {
     "end_time": "2018-04-17T22:40:55.759581Z",
     "start_time": "2018-04-17T22:40:55.750735Z"
    }
   },
   "outputs": [
    {
     "data": {
      "text/plain": [
       "{'Key #1': 101, 'Key #2': 102, 'Key #3': 103}"
      ]
     },
     "execution_count": 272,
     "metadata": {},
     "output_type": "execute_result"
    }
   ],
   "source": [
    "my_new_dict"
   ]
  },
  {
   "cell_type": "markdown",
   "metadata": {},
   "source": [
    "### More about lists, dictionaries, and other data structures in Python"
   ]
  },
  {
   "cell_type": "markdown",
   "metadata": {},
   "source": [
    "If you want to learn more about using dictionaries, see the official [Python tutorial on dictionaries], which is part of the page demonstrating other Python collections, such as [lists], which we'll be using extensively.\n",
    "\n",
    "[Python tutorial on dictionaries]: https://docs.python.org/3/tutorial/datastructures.html#dictionaries\n",
    "[lists]: https://docs.python.org/3/tutorial/datastructures.html#more-on-lists"
   ]
  },
  {
   "cell_type": "markdown",
   "metadata": {},
   "source": [
    "## Note on Programming Techniques"
   ]
  },
  {
   "cell_type": "markdown",
   "metadata": {
    "ExecuteTime": {
     "end_time": "2018-04-16T21:39:03.357572Z",
     "start_time": "2018-04-16T21:39:03.333477Z"
    }
   },
   "source": [
    "@todo: OOP vs FP vs procedural"
   ]
  },
  {
   "cell_type": "markdown",
   "metadata": {},
   "source": [
    "# Setup"
   ]
  },
  {
   "cell_type": "markdown",
   "metadata": {},
   "source": [
    "To work with the source data, we need to be able to:\n",
    "\n",
    "* open an Excel file\n",
    "* display results of intermediate processing in the notebook\n",
    "* save results to an Excel file\n",
    "\n",
    "Most functions to accomplish our goals have been published already. We only need to import them."
   ]
  },
  {
   "cell_type": "markdown",
   "metadata": {},
   "source": [
    "## Displaying results in the notebook"
   ]
  },
  {
   "cell_type": "markdown",
   "metadata": {},
   "source": [
    "You can use the regular [`print()`] function in Python, but you'll always get plain text output. [`display()`] can do plain text as well as HTML, images, audio, etc.\n",
    "\n",
    "[`print()`]: https://docs.python.org/3/library/functions.html#print \n",
    "[`display()`]: http://ipython.readthedocs.io/en/stable/api/generated/IPython.display.html"
   ]
  },
  {
   "cell_type": "markdown",
   "metadata": {},
   "source": [
    "You may need all the core display objects imported before using [`display()`]. I found I didn't need to import them on new versions of Jupyter Notebook, but since the display function for isn't always imported by default in some implementations, you can run:"
   ]
  },
  {
   "cell_type": "code",
   "execution_count": 10,
   "metadata": {
    "ExecuteTime": {
     "end_time": "2018-04-17T19:34:31.134358Z",
     "start_time": "2018-04-17T19:34:31.129562Z"
    }
   },
   "outputs": [],
   "source": [
    "from IPython.core.display import *"
   ]
  },
  {
   "cell_type": "markdown",
   "metadata": {},
   "source": [
    "Here are simple helpers to make headings and other embellishments easy. There are probably libraries already to make HTML tags, but this should suffice, without importing a large library. In general, these methods are unnecessary, but I'll be using them later on in this document to make code output more understandable."
   ]
  },
  {
   "cell_type": "code",
   "execution_count": 3,
   "metadata": {
    "ExecuteTime": {
     "end_time": "2018-04-17T20:20:31.914840Z",
     "start_time": "2018-04-17T20:20:31.888645Z"
    },
    "cell_style": "center"
   },
   "outputs": [],
   "source": [
    "def html_wrap(content, element=\"span\", attributes_str=None):\n",
    "    \"\"\" Convenience method for wrapping any string in any HTML tag. \"\"\"\n",
    "    if attributes_str:\n",
    "        element_open = f\"{element} {attributes_str}\"\n",
    "    else:\n",
    "        element_open = element\n",
    "    return f\"<{element_open}>{content}</{element}>\"\n",
    "\n",
    "\n",
    "def make_heading(content, level=5):\n",
    "    \"\"\" Convenience method for wrapping any string in an HTML header tag. \"\"\"\n",
    "    element = f\"h{level}\"\n",
    "    return html_wrap(content, element)\n",
    "\n",
    "\n",
    "def heading(*args, **kwargs):\n",
    "    \"\"\" Call IPython.core.display.HTML on the results of the make_heading\n",
    "    function, so users don't have to repeatedly do `HTML(heading(…))` \"\"\"\n",
    "    return HTML(make_heading(*args, **kwargs))"
   ]
  },
  {
   "cell_type": "markdown",
   "metadata": {},
   "source": [
    "## Reading Excel files, processing data"
   ]
  },
  {
   "cell_type": "markdown",
   "metadata": {},
   "source": [
    "[_pandas_] is really good with columnar data, such as the kind of spreadsheets Excel works with.\n",
    "\n",
    "[_pandas_]: https://pandas.pydata.org"
   ]
  },
  {
   "cell_type": "code",
   "execution_count": 2,
   "metadata": {
    "ExecuteTime": {
     "end_time": "2018-04-17T20:20:24.906120Z",
     "start_time": "2018-04-17T20:20:24.506850Z"
    }
   },
   "outputs": [],
   "source": [
    "import pandas"
   ]
  },
  {
   "cell_type": "markdown",
   "metadata": {},
   "source": [
    "_pandas_ also has the ability to read and write Excel files, as long as the `xlrd` distribution is installed. This notebook already has _pandas_ and `xlrd`, but if you need to install them, you can run this command in a Jupyter Notebook cell, like so:"
   ]
  },
  {
   "cell_type": "code",
   "execution_count": 13,
   "metadata": {
    "ExecuteTime": {
     "end_time": "2018-04-17T19:34:36.153498Z",
     "start_time": "2018-04-17T19:34:33.522072Z"
    },
    "cell_style": "center"
   },
   "outputs": [
    {
     "name": "stdout",
     "output_type": "stream",
     "text": [
      "Requirement already satisfied: pandas in /srv/venv/lib/python3.6/site-packages\r\n",
      "Requirement already satisfied: xlrd in /srv/venv/lib/python3.6/site-packages\r\n",
      "Requirement already satisfied: python-dateutil>=2 in /srv/venv/lib/python3.6/site-packages (from pandas)\r\n",
      "Requirement already satisfied: pytz>=2011k in /srv/venv/lib/python3.6/site-packages (from pandas)\r\n",
      "Requirement already satisfied: numpy>=1.9.0 in /srv/venv/lib/python3.6/site-packages (from pandas)\r\n",
      "Requirement already satisfied: six>=1.5 in /srv/venv/lib/python3.6/site-packages (from python-dateutil>=2->pandas)\r\n"
     ]
    }
   ],
   "source": [
    "# Install xlrd to the Python environment, if it's not already installed.\n",
    "!pip install pandas xlrd"
   ]
  },
  {
   "cell_type": "markdown",
   "metadata": {},
   "source": [
    "Depending on how your Jupyter host is deployed, you may be able to add `xlrd` and `pandas` to `requirements.txt` or `environment.yml`, as appropriate for your configuration."
   ]
  },
  {
   "cell_type": "markdown",
   "metadata": {},
   "source": [
    "If you prefer, you can install this from the regular command line shell on your Jupyter host by running the `pip` command without the exclamation mark."
   ]
  },
  {
   "cell_type": "markdown",
   "metadata": {},
   "source": [
    "# The Excel workbook: `2017 CAM data from iPads.xlxs`"
   ]
  },
  {
   "cell_type": "code",
   "execution_count": 5,
   "metadata": {
    "ExecuteTime": {
     "end_time": "2018-04-17T20:27:24.114879Z",
     "start_time": "2018-04-17T20:27:24.106302Z"
    }
   },
   "outputs": [],
   "source": [
    "# The file I'm interested in parsing for cleanup:\n",
    "file_path = \"./data/real/2017/CAM data from iPads/2017 CAM data from iPads.xlsx\""
   ]
  },
  {
   "cell_type": "markdown",
   "metadata": {},
   "source": [
    "## Worksheets in the file"
   ]
  },
  {
   "cell_type": "code",
   "execution_count": 8,
   "metadata": {
    "ExecuteTime": {
     "end_time": "2018-04-17T20:28:47.736844Z",
     "start_time": "2018-04-17T20:28:46.128929Z"
    }
   },
   "outputs": [
    {
     "data": {
      "text/plain": [
       "['2017 CAM data Erl',\n",
       " '2017 CAM iPad data Tyler',\n",
       " 'Combined iPad 2017 CAM data',\n",
       " 'schema (WIP reverse engineer)']"
      ]
     },
     "execution_count": 8,
     "metadata": {},
     "output_type": "execute_result"
    }
   ],
   "source": [
    "data_file = pandas.ExcelFile(file_path)\n",
    "data_file_sheet_names = sorted(data_file.sheet_names)\n",
    "data_file_sheet_names"
   ]
  },
  {
   "cell_type": "markdown",
   "metadata": {},
   "source": [
    "I'm only interested in first two, which should have all the data. The other sheets are either unfinished or unrelated to the task at hand."
   ]
  },
  {
   "cell_type": "code",
   "execution_count": 7,
   "metadata": {
    "ExecuteTime": {
     "end_time": "2018-04-17T20:28:12.148752Z",
     "start_time": "2018-04-17T20:28:11.862428Z"
    }
   },
   "outputs": [
    {
     "data": {
      "text/plain": [
       "['2017 CAM data Erl', '2017 CAM iPad data Tyler']"
      ]
     },
     "execution_count": 7,
     "metadata": {},
     "output_type": "execute_result"
    }
   ],
   "source": [
    "cam_sheet_names = data_file_sheet_names[:2]\n",
    "cam_sheet_names"
   ]
  },
  {
   "cell_type": "markdown",
   "metadata": {},
   "source": [
    "Let's make a dictionary of DataFrames from all the sheets, using the last word as the name. If you're familiar with [lists] in Python, you may remember that an index of -1 means the last item, as in the largest possible index number.\n",
    "\n",
    "[lists]: https://docs.python.org/3/tutorial/datastructures.html#lists"
   ]
  },
  {
   "cell_type": "code",
   "execution_count": 9,
   "metadata": {
    "ExecuteTime": {
     "end_time": "2018-04-17T20:35:28.950987Z",
     "start_time": "2018-04-17T20:35:28.937099Z"
    },
    "cell_style": "split"
   },
   "outputs": [],
   "source": [
    "def last_word(string, word_separator=' '):\n",
    "    words = string.split(word_separator)\n",
    "    return words[-1]"
   ]
  },
  {
   "cell_type": "code",
   "execution_count": 10,
   "metadata": {
    "ExecuteTime": {
     "end_time": "2018-04-17T20:35:30.118324Z",
     "start_time": "2018-04-17T20:35:29.859021Z"
    },
    "cell_style": "split"
   },
   "outputs": [],
   "source": [
    "sheets = {last_word(sheet_name):\n",
    "          data_file.parse(sheet_name)\n",
    "          for sheet_name in cam_sheet_names}"
   ]
  },
  {
   "cell_type": "code",
   "execution_count": 15,
   "metadata": {
    "ExecuteTime": {
     "end_time": "2018-04-17T20:36:47.298529Z",
     "start_time": "2018-04-17T20:36:47.288604Z"
    }
   },
   "outputs": [
    {
     "data": {
      "text/plain": [
       "dict_keys(['Erl', 'Tyler'])"
      ]
     },
     "execution_count": 15,
     "metadata": {},
     "output_type": "execute_result"
    }
   ],
   "source": [
    "sheets.keys()"
   ]
  },
  {
   "cell_type": "markdown",
   "metadata": {},
   "source": [
    "## Unifying the DataFrames (worksheets)"
   ]
  },
  {
   "cell_type": "markdown",
   "metadata": {},
   "source": [
    "Now that we have a convenient list of sheets that are loaded as _pandas_ DataFrames, we can work toward merging them into one. Once they're merged, we can process the data more easily from a single DataFrame."
   ]
  },
  {
   "cell_type": "markdown",
   "metadata": {},
   "source": [
    "### _pandas_ functions for merging DataFrames"
   ]
  },
  {
   "cell_type": "markdown",
   "metadata": {},
   "source": [
    "_pandas_ has multiple methods for combining datasets:\n",
    "\n",
    "- [`concat`]: The concatenate method has an option to ignore row numbers, which has the effect of gluing each dataframe to the bottom of the previous one.\n",
    "- [`append`]: Append would be almost equivalent, but always updates the first DataFrame or Series it's given.\n",
    "- [`merge`]: Merge is more for database-style relational merges.\n",
    "\n",
    "[`concat`]: https://pandas.pydata.org/pandas-docs/stable/merging.html\n",
    "[`append`]: https://pandas.pydata.org/pandas-docs/stable/merging.html#concatenating-using-append\n",
    "[`merge`]: https://pandas.pydata.org/pandas-docs/stable/merging.html#database-style-dataframe-joining-merging\n",
    "\n",
    "From reading up on all three methods, it looks to me like `concat` will suffice, here, as long as the column names are identical. I like to have the option of creating a new DataFrame rather than overwriting anything, because the results are easier to repeat.\n",
    "\n",
    "Let's see how close that concatenation method gets us:"
   ]
  },
  {
   "cell_type": "code",
   "execution_count": 20,
   "metadata": {
    "ExecuteTime": {
     "end_time": "2018-04-17T19:34:39.943410Z",
     "start_time": "2018-04-17T19:34:39.879798Z"
    }
   },
   "outputs": [
    {
     "name": "stdout",
     "output_type": "stream",
     "text": [
      "<class 'pandas.core.frame.DataFrame'>\n",
      "MultiIndex: 4690 entries, (Erl, 0) to (Tyler, 3779)\n",
      "Data columns (total 56 columns):\n",
      "clients__company                                                    1 non-null object\n",
      "clients__displayText                                                1 non-null object\n",
      "clients__fname                                                      1 non-null object\n",
      "clients__lname                                                      1 non-null object\n",
      "clients__name                                                       1 non-null object\n",
      "fields__client__company                                             21 non-null object\n",
      "fields__client__displayText                                         21 non-null object\n",
      "fields__client__fname                                               21 non-null object\n",
      "fields__client__lname                                               21 non-null object\n",
      "fields__client__name                                                21 non-null object\n",
      "fields__crop                                                        21 non-null object\n",
      "fields__date                                                        21 non-null object\n",
      "fields__desc                                                        15 non-null object\n",
      "fields__image                                                       21 non-null object\n",
      "fields__name                                                        21 non-null object\n",
      "fields__oSets__completeSets                                         54 non-null float64\n",
      "fields__oSets__date                                                 54 non-null object\n",
      "fields__oSets__dateCompare                                          54 non-null datetime64[ns]\n",
      "fields__oSets__desc                                                 0 non-null float64\n",
      "fields__oSets__growthStage                                          45 non-null float64\n",
      "fields__oSets__growthStage Zadoks                                   9 non-null float64\n",
      "fields__oSets__oPoints__id                                          335 non-null float64\n",
      "fields__oSets__oPoints__location__coords__accuracy                  250 non-null float64\n",
      "fields__oSets__oPoints__location__coords__altitude                  250 non-null float64\n",
      "fields__oSets__oPoints__location__coords__altitudeAccuracy          250 non-null float64\n",
      "fields__oSets__oPoints__location__coords__heading                   247 non-null float64\n",
      "fields__oSets__oPoints__location__coords__latitude                  250 non-null float64\n",
      "fields__oSets__oPoints__location__coords__longitude                 250 non-null float64\n",
      "fields__oSets__oPoints__location__coords__speed                     250 non-null float64\n",
      "fields__oSets__oPoints__location__timestamp                         250 non-null float64\n",
      "fields__oSets__oPoints__name                                        335 non-null object\n",
      "fields__oSets__oPoints__observations__a1__number                    324 non-null float64\n",
      "fields__oSets__oPoints__observations__a1__number EGA                124 non-null float64\n",
      "fields__oSets__oPoints__observations__a2__number                    112 non-null float64\n",
      "fields__oSets__oPoints__observations__a2__number BCO                30 non-null float64\n",
      "fields__oSets__oPoints__observations__a3__number                    25 non-null float64\n",
      "fields__oSets__oPoints__observations__a3__number Greenbug           0 non-null float64\n",
      "fields__oSets__oPoints__observations__anum                          1350 non-null float64\n",
      "fields__oSets__oPoints__observations__anum TotalAPhids              325 non-null float64\n",
      "fields__oSets__oPoints__observations__complete                      1937 non-null float64\n",
      "fields__oSets__oPoints__observations__disabled                      0 non-null float64\n",
      "fields__oSets__oPoints__observations__eVnum                         270 non-null float64\n",
      "fields__oSets__oPoints__observations__eVnum Natural enemy totals    65 non-null float64\n",
      "fields__oSets__oPoints__observations__enum                          335 non-null float64\n",
      "fields__oSets__oPoints__observations__id                            2010 non-null float64\n",
      "fields__oSets__oPoints__observations__name                          2010 non-null object\n",
      "fields__oSets__oPoints__observations__|                             3015 non-null object\n",
      "fields__oSets__oPoints__observations__|__number                     172 non-null float64\n",
      "fields__oSets__obsName                                              54 non-null object\n",
      "fields__oSets__results                                              52 non-null object\n",
      "fields__oSets__totalA1                                              52 non-null float64\n",
      "fields__oSets__totalA2                                              52 non-null float64\n",
      "fields__oSets__totalA3                                              52 non-null float64\n",
      "fields__oSets__totalA4                                              52 non-null float64\n",
      "fields__oSets__totalSets                                            54 non-null float64\n",
      "observers                                                           3 non-null object\n",
      "dtypes: datetime64[ns](1), float64(33), object(22)\n",
      "memory usage: 2.0+ MB\n"
     ]
    }
   ],
   "source": [
    "pandas.concat(sheets).info()"
   ]
  },
  {
   "cell_type": "markdown",
   "metadata": {},
   "source": [
    "We can see the RangeIndex size in the info: \n",
    "\n",
    ">MultiIndex: 4690 entries, (Erl, 0) to (Tyler, 3779)\n",
    "\n",
    "Which means 4690 \"rows\", if this were a spreadsheet. Compare to the total row count for all sheets, by using Python's function `len` (an abbreviation for \"length\"), which counts the number of items (in this case, rows):"
   ]
  },
  {
   "cell_type": "code",
   "execution_count": 21,
   "metadata": {
    "ExecuteTime": {
     "end_time": "2018-04-17T19:34:40.533447Z",
     "start_time": "2018-04-17T19:34:40.521437Z"
    }
   },
   "outputs": [
    {
     "data": {
      "text/plain": [
       "4690"
      ]
     },
     "execution_count": 21,
     "metadata": {},
     "output_type": "execute_result"
    }
   ],
   "source": [
    "sum(len(sheet) for sheet in sheets.values())"
   ]
  },
  {
   "cell_type": "markdown",
   "metadata": {},
   "source": [
    "Also in the `info()` readout:\n",
    "\n",
    ">Data columns (total 56 columns):\n",
    "\n",
    "Compare to the column count for the source worksheets:"
   ]
  },
  {
   "cell_type": "code",
   "execution_count": 22,
   "metadata": {
    "ExecuteTime": {
     "end_time": "2018-04-17T19:34:41.160157Z",
     "start_time": "2018-04-17T19:34:41.150111Z"
    }
   },
   "outputs": [
    {
     "data": {
      "text/plain": [
       "[50, 50]"
      ]
     },
     "execution_count": 22,
     "metadata": {},
     "output_type": "execute_result"
    }
   ],
   "source": [
    "[len(sheet.columns) for sheet in sheets.values()]"
   ]
  },
  {
   "cell_type": "markdown",
   "metadata": {},
   "source": [
    "So, 50 columns in each source sheet.\n",
    "\n",
    "Pretty good, so far, except for some extra columns due to variations in the column names—I see `growthStage` and `growthStage Zadoks`, as well as some aphid names amongst the `a1__number`, `a2__number`, `a3__number` group:\n",
    "\n",
    "```\n",
    "fields__oSets__growthStage                                  45 non-null float64\n",
    "fields__oSets__growthStage Zadoks                           9 non-null float64\n",
    "```\n",
    "\n",
    "```\n",
    "fields__oSets__oPoints__observations__a1__number            324 non-null float64\n",
    "fields__oSets__oPoints__observations__a1__number EGA        124 non-null float64\n",
    "fields__oSets__oPoints__observations__a2__number            112 non-null float64\n",
    "fields__oSets__oPoints__observations__a2__number BCO        30 non-null float64\n",
    "fields__oSets__oPoints__observations__a3__number            25 non-null float64\n",
    "fields__oSets__oPoints__observations__a3__number Greenbug   0 non-null float64\n",
    "```\n",
    "\n",
    "The total number of rows is correct, and the other columns line up when the names match.\n",
    "\n",
    "Column names (which become Series names in _pandas_) are the only problem standing in the way of a successful unification of DataFrames."
   ]
  },
  {
   "cell_type": "markdown",
   "metadata": {},
   "source": [
    "### Column names differ"
   ]
  },
  {
   "cell_type": "markdown",
   "metadata": {},
   "source": [
    "It's already pretty obvious what the naming problem is. But just to demonstrate how to use Python to calculate differences, let's look again at our DataFrames column names.\n",
    "\n",
    "For our frames:"
   ]
  },
  {
   "cell_type": "code",
   "execution_count": 23,
   "metadata": {
    "ExecuteTime": {
     "end_time": "2018-04-17T19:34:42.940908Z",
     "start_time": "2018-04-17T19:34:42.930249Z"
    }
   },
   "outputs": [
    {
     "data": {
      "text/plain": [
       "dict_keys(['Erl', 'Tyler'])"
      ]
     },
     "execution_count": 23,
     "metadata": {},
     "output_type": "execute_result"
    }
   ],
   "source": [
    "sheets.keys()"
   ]
  },
  {
   "cell_type": "markdown",
   "metadata": {},
   "source": [
    "Calculate the difference in column names, using \"Erl\" as the base, and Python's set theory models:"
   ]
  },
  {
   "cell_type": "code",
   "execution_count": 24,
   "metadata": {
    "ExecuteTime": {
     "end_time": "2018-04-17T19:34:43.560982Z",
     "start_time": "2018-04-17T19:34:43.546199Z"
    }
   },
   "outputs": [
    {
     "data": {
      "text/plain": [
       "{'fields__oSets__growthStage Zadoks',\n",
       " 'fields__oSets__oPoints__observations__a1__number EGA',\n",
       " 'fields__oSets__oPoints__observations__a2__number BCO',\n",
       " 'fields__oSets__oPoints__observations__a3__number Greenbug',\n",
       " 'fields__oSets__oPoints__observations__anum TotalAPhids',\n",
       " 'fields__oSets__oPoints__observations__eVnum Natural enemy totals'}"
      ]
     },
     "metadata": {},
     "output_type": "display_data"
    }
   ],
   "source": [
    "display(set.difference(*[set(sheet.columns) for sheet in sheets.values()]))"
   ]
  },
  {
   "cell_type": "markdown",
   "metadata": {},
   "source": [
    "Or, if we want to list the names of columns from *all* sheets that don't have a match (symmetric difference):"
   ]
  },
  {
   "cell_type": "code",
   "execution_count": 25,
   "metadata": {
    "ExecuteTime": {
     "end_time": "2018-04-17T19:34:44.249238Z",
     "start_time": "2018-04-17T19:34:44.238139Z"
    }
   },
   "outputs": [
    {
     "data": {
      "text/plain": [
       "['fields__oSets__growthStage',\n",
       " 'fields__oSets__growthStage Zadoks',\n",
       " 'fields__oSets__oPoints__observations__a1__number',\n",
       " 'fields__oSets__oPoints__observations__a1__number EGA',\n",
       " 'fields__oSets__oPoints__observations__a2__number',\n",
       " 'fields__oSets__oPoints__observations__a2__number BCO',\n",
       " 'fields__oSets__oPoints__observations__a3__number',\n",
       " 'fields__oSets__oPoints__observations__a3__number Greenbug',\n",
       " 'fields__oSets__oPoints__observations__anum',\n",
       " 'fields__oSets__oPoints__observations__anum TotalAPhids',\n",
       " 'fields__oSets__oPoints__observations__eVnum',\n",
       " 'fields__oSets__oPoints__observations__eVnum Natural enemy totals']"
      ]
     },
     "metadata": {},
     "output_type": "display_data"
    }
   ],
   "source": [
    "column_list = sorted(set.symmetric_difference(*[set(sheet.columns) for sheet in sheets.values()]))\n",
    "display(column_list)"
   ]
  },
  {
   "cell_type": "markdown",
   "metadata": {},
   "source": [
    "Let's pop it into a two column layout for _pandas_ to display. I found a handy list-to-grid [recipe] on the official documentation for Python's `itertools` library. I based my function on their `grouper` example.\n",
    "\n",
    "[recipe]: https://docs.python.org/3/library/itertools.html#itertools-recipes"
   ]
  },
  {
   "cell_type": "code",
   "execution_count": 26,
   "metadata": {
    "ExecuteTime": {
     "end_time": "2018-04-17T19:34:44.938958Z",
     "start_time": "2018-04-17T19:34:44.930207Z"
    }
   },
   "outputs": [],
   "source": [
    "def grid(items, width=2):\n",
    "    \"\"\" Layout items in a grid, from left to right, top to bottom. \"\"\"\n",
    "    return [*zip(*[iter(items)] * width)]"
   ]
  },
  {
   "cell_type": "code",
   "execution_count": 27,
   "metadata": {
    "ExecuteTime": {
     "end_time": "2018-04-17T19:34:45.012648Z",
     "start_time": "2018-04-17T19:34:45.004570Z"
    }
   },
   "outputs": [],
   "source": [
    "column_grid = pandas.DataFrame(grid(column_list))"
   ]
  },
  {
   "cell_type": "code",
   "execution_count": 28,
   "metadata": {
    "ExecuteTime": {
     "end_time": "2018-04-17T19:34:45.102066Z",
     "start_time": "2018-04-17T19:34:45.077838Z"
    }
   },
   "outputs": [
    {
     "data": {
      "text/html": [
       "<div>\n",
       "<style scoped>\n",
       "    .dataframe tbody tr th:only-of-type {\n",
       "        vertical-align: middle;\n",
       "    }\n",
       "\n",
       "    .dataframe tbody tr th {\n",
       "        vertical-align: top;\n",
       "    }\n",
       "\n",
       "    .dataframe thead th {\n",
       "        text-align: right;\n",
       "    }\n",
       "</style>\n",
       "<table border=\"1\" class=\"dataframe\">\n",
       "  <thead>\n",
       "    <tr style=\"text-align: right;\">\n",
       "      <th></th>\n",
       "      <th>0</th>\n",
       "      <th>1</th>\n",
       "    </tr>\n",
       "  </thead>\n",
       "  <tbody>\n",
       "    <tr>\n",
       "      <th>0</th>\n",
       "      <td>fields__oSets__growthStage</td>\n",
       "      <td>fields__oSets__growthStage Zadoks</td>\n",
       "    </tr>\n",
       "    <tr>\n",
       "      <th>1</th>\n",
       "      <td>fields__oSets__oPoints__observations__a1__number</td>\n",
       "      <td>fields__oSets__oPoints__observations__a1__number EGA</td>\n",
       "    </tr>\n",
       "    <tr>\n",
       "      <th>2</th>\n",
       "      <td>fields__oSets__oPoints__observations__a2__number</td>\n",
       "      <td>fields__oSets__oPoints__observations__a2__number BCO</td>\n",
       "    </tr>\n",
       "    <tr>\n",
       "      <th>3</th>\n",
       "      <td>fields__oSets__oPoints__observations__a3__number</td>\n",
       "      <td>fields__oSets__oPoints__observations__a3__number Greenbug</td>\n",
       "    </tr>\n",
       "    <tr>\n",
       "      <th>4</th>\n",
       "      <td>fields__oSets__oPoints__observations__anum</td>\n",
       "      <td>fields__oSets__oPoints__observations__anum TotalAPhids</td>\n",
       "    </tr>\n",
       "    <tr>\n",
       "      <th>5</th>\n",
       "      <td>fields__oSets__oPoints__observations__eVnum</td>\n",
       "      <td>fields__oSets__oPoints__observations__eVnum Natural enemy totals</td>\n",
       "    </tr>\n",
       "  </tbody>\n",
       "</table>\n",
       "</div>"
      ],
      "text/plain": [
       "                                                  0  \\\n",
       "0  fields__oSets__growthStage                         \n",
       "1  fields__oSets__oPoints__observations__a1__number   \n",
       "2  fields__oSets__oPoints__observations__a2__number   \n",
       "3  fields__oSets__oPoints__observations__a3__number   \n",
       "4  fields__oSets__oPoints__observations__anum         \n",
       "5  fields__oSets__oPoints__observations__eVnum        \n",
       "\n",
       "                                                                  1  \n",
       "0  fields__oSets__growthStage Zadoks                                 \n",
       "1  fields__oSets__oPoints__observations__a1__number EGA              \n",
       "2  fields__oSets__oPoints__observations__a2__number BCO              \n",
       "3  fields__oSets__oPoints__observations__a3__number Greenbug         \n",
       "4  fields__oSets__oPoints__observations__anum TotalAPhids            \n",
       "5  fields__oSets__oPoints__observations__eVnum Natural enemy totals  "
      ]
     },
     "metadata": {},
     "output_type": "display_data"
    }
   ],
   "source": [
    "# Display entire column, even if cell data is long\n",
    "pandas.set_option('display.max_colwidth', 0)  # Zero means no limit\n",
    "\n",
    "# Show the differing column names side-by-side\n",
    "display(column_grid)"
   ]
  },
  {
   "cell_type": "markdown",
   "metadata": {},
   "source": [
    "Transpose the frame by viewing the `T` attribute of our DataFrame, so differences are vertically adjacent:"
   ]
  },
  {
   "cell_type": "code",
   "execution_count": 29,
   "metadata": {
    "ExecuteTime": {
     "end_time": "2018-04-17T19:34:45.794096Z",
     "start_time": "2018-04-17T19:34:45.769996Z"
    }
   },
   "outputs": [
    {
     "data": {
      "text/html": [
       "<div>\n",
       "<style scoped>\n",
       "    .dataframe tbody tr th:only-of-type {\n",
       "        vertical-align: middle;\n",
       "    }\n",
       "\n",
       "    .dataframe tbody tr th {\n",
       "        vertical-align: top;\n",
       "    }\n",
       "\n",
       "    .dataframe thead th {\n",
       "        text-align: right;\n",
       "    }\n",
       "</style>\n",
       "<table border=\"1\" class=\"dataframe\">\n",
       "  <thead>\n",
       "    <tr style=\"text-align: right;\">\n",
       "      <th></th>\n",
       "      <th>0</th>\n",
       "      <th>1</th>\n",
       "      <th>2</th>\n",
       "      <th>3</th>\n",
       "      <th>4</th>\n",
       "      <th>5</th>\n",
       "    </tr>\n",
       "  </thead>\n",
       "  <tbody>\n",
       "    <tr>\n",
       "      <th>0</th>\n",
       "      <td>fields__oSets__growthStage</td>\n",
       "      <td>fields__oSets__oPoints__observations__a1__number</td>\n",
       "      <td>fields__oSets__oPoints__observations__a2__number</td>\n",
       "      <td>fields__oSets__oPoints__observations__a3__number</td>\n",
       "      <td>fields__oSets__oPoints__observations__anum</td>\n",
       "      <td>fields__oSets__oPoints__observations__eVnum</td>\n",
       "    </tr>\n",
       "    <tr>\n",
       "      <th>1</th>\n",
       "      <td>fields__oSets__growthStage Zadoks</td>\n",
       "      <td>fields__oSets__oPoints__observations__a1__number EGA</td>\n",
       "      <td>fields__oSets__oPoints__observations__a2__number BCO</td>\n",
       "      <td>fields__oSets__oPoints__observations__a3__number Greenbug</td>\n",
       "      <td>fields__oSets__oPoints__observations__anum TotalAPhids</td>\n",
       "      <td>fields__oSets__oPoints__observations__eVnum Natural enemy totals</td>\n",
       "    </tr>\n",
       "  </tbody>\n",
       "</table>\n",
       "</div>"
      ],
      "text/plain": [
       "                                   0  \\\n",
       "0  fields__oSets__growthStage          \n",
       "1  fields__oSets__growthStage Zadoks   \n",
       "\n",
       "                                                      1  \\\n",
       "0  fields__oSets__oPoints__observations__a1__number       \n",
       "1  fields__oSets__oPoints__observations__a1__number EGA   \n",
       "\n",
       "                                                      2  \\\n",
       "0  fields__oSets__oPoints__observations__a2__number       \n",
       "1  fields__oSets__oPoints__observations__a2__number BCO   \n",
       "\n",
       "                                                           3  \\\n",
       "0  fields__oSets__oPoints__observations__a3__number            \n",
       "1  fields__oSets__oPoints__observations__a3__number Greenbug   \n",
       "\n",
       "                                                        4  \\\n",
       "0  fields__oSets__oPoints__observations__anum               \n",
       "1  fields__oSets__oPoints__observations__anum TotalAPhids   \n",
       "\n",
       "                                                                  5  \n",
       "0  fields__oSets__oPoints__observations__eVnum                       \n",
       "1  fields__oSets__oPoints__observations__eVnum Natural enemy totals  "
      ]
     },
     "metadata": {},
     "output_type": "display_data"
    }
   ],
   "source": [
    "display(column_grid.T)"
   ]
  },
  {
   "cell_type": "code",
   "execution_count": 30,
   "metadata": {
    "ExecuteTime": {
     "end_time": "2018-04-17T19:34:45.843412Z",
     "start_time": "2018-04-17T19:34:45.837762Z"
    }
   },
   "outputs": [],
   "source": [
    "# Reset the column width, since we're done looking at the names this way\n",
    "pandas.reset_option('display.max_colwidth')"
   ]
  },
  {
   "cell_type": "markdown",
   "metadata": {},
   "source": [
    "Before we concatenate, we'll standardize on the names from the first sheet (0), since it's more regular. But which sheet is the one to fix? Which sheet has `fields__oSets__growthStage Zadoks` instead of `fields__oSets__growthStage`? I believe \"Erl\" was our base for comparison initially, but let's make sure of what we're about to do:"
   ]
  },
  {
   "cell_type": "code",
   "execution_count": 31,
   "metadata": {
    "ExecuteTime": {
     "end_time": "2018-04-17T19:34:46.586437Z",
     "start_time": "2018-04-17T19:34:46.567229Z"
    }
   },
   "outputs": [
    {
     "data": {
      "text/html": [
       "<h5>Bad:</h5>"
      ],
      "text/plain": [
       "<IPython.core.display.HTML object>"
      ]
     },
     "metadata": {},
     "output_type": "display_data"
    },
    {
     "data": {
      "text/plain": [
       "{'Erl'}"
      ]
     },
     "metadata": {},
     "output_type": "display_data"
    }
   ],
   "source": [
    "# make a filtered dictionary, for later reference\n",
    "sheets_with_bad_column_names = {sheet_name: sheet for sheet_name, sheet in sheets.items() \n",
    "                                if 'fields__oSets__growthStage Zadoks' in sheet.columns}\n",
    "display(heading('Bad:'),\n",
    "        set(sheets_with_bad_column_names.keys()))"
   ]
  },
  {
   "cell_type": "code",
   "execution_count": 32,
   "metadata": {
    "ExecuteTime": {
     "end_time": "2018-04-17T19:34:46.671650Z",
     "start_time": "2018-04-17T19:34:46.654774Z"
    }
   },
   "outputs": [
    {
     "data": {
      "text/html": [
       "<h5>Good:</h5>"
      ],
      "text/plain": [
       "<IPython.core.display.HTML object>"
      ]
     },
     "metadata": {},
     "output_type": "display_data"
    },
    {
     "data": {
      "text/plain": [
       "{'Tyler'}"
      ]
     },
     "metadata": {},
     "output_type": "display_data"
    }
   ],
   "source": [
    "display(heading('Good:'),\n",
    "        set(sheets.keys()) - set(sheets_with_bad_column_names.keys()))"
   ]
  },
  {
   "cell_type": "markdown",
   "metadata": {},
   "source": [
    "Okay, \"Tyler\" has the column names we prefer, \"Erl\" does not. Duly noted.\n",
    "\n",
    "There's now a `sheets_with_bad_column_names` variable we can use when we fix that. (It's only got one DataFrame, but it's still good practice to be ready for batch processing in case this code is reused in the future.)"
   ]
  },
  {
   "cell_type": "markdown",
   "metadata": {},
   "source": [
    "#### How shall we solve the name mismatch?"
   ]
  },
  {
   "cell_type": "markdown",
   "metadata": {},
   "source": [
    "Our options:\n",
    "\n",
    "- rename the columns\n",
    "- try to merge the sheets in a way that ignores the column names of the bad sheet\n",
    "\n",
    "If we try to do a special merge, ignoring the column names, we have to worry about the _precise order_ of those columns instead of relying on the names. Since we'd have to spend time checking—and possibly rearranging—the column sequence, we might as well spend that time creating a _reusable_, documented solution for quick and painless name fixing."
   ]
  },
  {
   "cell_type": "markdown",
   "metadata": {},
   "source": [
    "#### How (where) should we rename the columns/indices?"
   ]
  },
  {
   "cell_type": "markdown",
   "metadata": {},
   "source": [
    "Possibilities:\n",
    "\n",
    "- fix the spreadsheet document in Excel format, and move ahead as if this had never happened\n",
    "- keep the names in the file, but correct the names in memory once they become indices\n",
    "\n",
    "Since this notebook you're reading has already mentioned the problem, let's go ahead and solve it here. That way our notebook will detail the fix and how to use it in the future, if there are more Excel spreadsheets with similarly altered names."
   ]
  },
  {
   "cell_type": "markdown",
   "metadata": {},
   "source": [
    "#### Renaming axis labels (columns or rows) with _pandas_"
   ]
  },
  {
   "cell_type": "markdown",
   "metadata": {},
   "source": [
    "_pandas_ has a [`rename`] method which lets us apply a transform function to the indices named after our worksheet columns (or explicitly map each column through a dictionary).\n",
    "\n",
    "[`rename`]: https://pandas.pydata.org/pandas-docs/stable/generated/pandas.DataFrame.rename.html\n",
    "\n",
    "Since the bad names merely have extra words tacked onto the end, let's just split the name and use the first \"word\". In Python, we get the first item of a sequence by using index zero:"
   ]
  },
  {
   "cell_type": "code",
   "execution_count": 33,
   "metadata": {
    "ExecuteTime": {
     "end_time": "2018-04-17T19:34:51.553083Z",
     "start_time": "2018-04-17T19:34:51.543009Z"
    }
   },
   "outputs": [],
   "source": [
    "def first_word(string, word_separator=' '):\n",
    "    \"\"\" Split string into words (by space character), return first word. \"\"\"\n",
    "    return string.split(word_separator)[0]"
   ]
  },
  {
   "cell_type": "markdown",
   "metadata": {},
   "source": [
    "We just need to apply this function to every Series in the DataFrame, through the _pandas_ rename function. For the sake of visualizing the changes, let's also report on changes in a dry run before using the _pandas_ rename function."
   ]
  },
  {
   "cell_type": "code",
   "execution_count": 34,
   "metadata": {
    "ExecuteTime": {
     "end_time": "2018-04-17T19:34:52.315504Z",
     "start_time": "2018-04-17T19:34:52.274285Z"
    }
   },
   "outputs": [
    {
     "data": {
      "text/html": [
       "<h3>Erl</h3><ol><li>fields__client__company</li><li>fields__client__name</li><li>fields__client__fname</li><li>fields__client__lname</li><li>fields__client__displayText</li><li>fields__name</li><li>fields__crop</li><li>fields__desc</li><li>fields__image</li><li>fields__date</li><li>fields__oSets__date</li><li>fields__oSets__dateCompare</li><li style='font-weight: bold'>fields__oSets__growthStage Zadoks &rarr; fields__oSets__growthStage</li><li>fields__oSets__desc</li><li>fields__oSets__obsName</li><li>fields__oSets__totalSets</li><li>fields__oSets__completeSets</li><li>fields__oSets__results</li><li>fields__oSets__oPoints__id</li><li>fields__oSets__oPoints__name</li><li>fields__oSets__oPoints__observations__id</li><li>fields__oSets__oPoints__observations__name</li><li>fields__oSets__oPoints__observations__enum</li><li style='font-weight: bold'>fields__oSets__oPoints__observations__eVnum Natural enemy totals &rarr; fields__oSets__oPoints__observations__eVnum</li><li style='font-weight: bold'>fields__oSets__oPoints__observations__anum TotalAPhids &rarr; fields__oSets__oPoints__observations__anum</li><li style='font-weight: bold'>fields__oSets__oPoints__observations__a1__number EGA &rarr; fields__oSets__oPoints__observations__a1__number</li><li style='font-weight: bold'>fields__oSets__oPoints__observations__a2__number BCO &rarr; fields__oSets__oPoints__observations__a2__number</li><li style='font-weight: bold'>fields__oSets__oPoints__observations__a3__number Greenbug &rarr; fields__oSets__oPoints__observations__a3__number</li><li>fields__oSets__oPoints__observations__disabled</li><li>fields__oSets__oPoints__observations__complete</li><li>fields__oSets__oPoints__observations__|</li><li>fields__oSets__oPoints__observations__|__number</li><li>fields__oSets__oPoints__location__coords__latitude</li><li>fields__oSets__oPoints__location__coords__longitude</li><li>fields__oSets__oPoints__location__coords__accuracy</li><li>fields__oSets__oPoints__location__coords__altitude</li><li>fields__oSets__oPoints__location__coords__heading</li><li>fields__oSets__oPoints__location__coords__speed</li><li>fields__oSets__oPoints__location__coords__altitudeAccuracy</li><li>fields__oSets__oPoints__location__timestamp</li><li>fields__oSets__totalA1</li><li>fields__oSets__totalA2</li><li>fields__oSets__totalA3</li><li>fields__oSets__totalA4</li><li>clients__company</li><li>clients__name</li><li>clients__fname</li><li>clients__lname</li><li>clients__displayText</li><li>observers</li></ol>"
      ],
      "text/plain": [
       "<IPython.core.display.HTML object>"
      ]
     },
     "metadata": {},
     "output_type": "display_data"
    }
   ],
   "source": [
    "report = []  # For the lines of the report which we'll display later.\n",
    "\n",
    "for sheet_name, sheet in sheets_with_bad_column_names.items():\n",
    "    report.append(make_heading(sheet_name, level=3))  # heading\n",
    "    report_lines = []  # the body of the report for each DataFrame\n",
    "    for column_name in sheet.columns:\n",
    "        after = first_word(column_name)\n",
    "        if after == column_name:\n",
    "            content = column_name\n",
    "            attributes = None\n",
    "        else:\n",
    "            content = f\"{column_name} &rarr; {after}\"  # old --> new\n",
    "            attributes = \"style='font-weight: bold'\"\n",
    "        report_lines.append(html_wrap(content, 'li', attributes))  # add an HTML list item\n",
    "    report.append(html_wrap(''.join(report_lines), 'ol')) # add an ordered list of items to the report\n",
    "    \n",
    "# join all the strings together and display as HTML\n",
    "display(HTML(''.join(report)))"
   ]
  },
  {
   "cell_type": "markdown",
   "metadata": {},
   "source": [
    "Actually change the names:"
   ]
  },
  {
   "cell_type": "code",
   "execution_count": 35,
   "metadata": {
    "ExecuteTime": {
     "end_time": "2018-04-17T19:34:53.009551Z",
     "start_time": "2018-04-17T19:34:52.994873Z"
    }
   },
   "outputs": [],
   "source": [
    "for sheet in sheets_with_bad_column_names.values():\n",
    "    sheet.rename(mapper=first_word, axis='columns', inplace=True)"
   ]
  },
  {
   "cell_type": "markdown",
   "metadata": {},
   "source": [
    "As mentioned before, we know there's only one sheet, so the `for` loop isn't absolutely necessary, but it's still a good habit when dealing with reusable scripts that can work on batches of datasets. (Sometimes other people find your work useful, and sometimes you'll revisit your work to copy something that succeeded in the past.)"
   ]
  },
  {
   "cell_type": "markdown",
   "metadata": {},
   "source": [
    "### Finally uniting our dataset"
   ]
  },
  {
   "cell_type": "code",
   "execution_count": 36,
   "metadata": {
    "ExecuteTime": {
     "end_time": "2018-04-17T19:34:54.394708Z",
     "start_time": "2018-04-17T19:34:54.371394Z"
    }
   },
   "outputs": [],
   "source": [
    "data = pandas.concat(sheets)"
   ]
  },
  {
   "cell_type": "code",
   "execution_count": 37,
   "metadata": {
    "ExecuteTime": {
     "end_time": "2018-04-17T19:34:54.475198Z",
     "start_time": "2018-04-17T19:34:54.437216Z"
    }
   },
   "outputs": [
    {
     "name": "stdout",
     "output_type": "stream",
     "text": [
      "<class 'pandas.core.frame.DataFrame'>\n",
      "MultiIndex: 4690 entries, (Erl, 0) to (Tyler, 3779)\n",
      "Columns: 50 entries, clients__company to observers\n",
      "dtypes: datetime64[ns](1), float64(27), object(22)\n",
      "memory usage: 1.8+ MB\n"
     ]
    }
   ],
   "source": [
    "data.info(verbose=False)"
   ]
  },
  {
   "cell_type": "markdown",
   "metadata": {},
   "source": [
    "Splendid! That's what we expected. 😁"
   ]
  },
  {
   "cell_type": "markdown",
   "metadata": {},
   "source": [
    "## Making sense of really long, repetitive column names"
   ]
  },
  {
   "cell_type": "markdown",
   "metadata": {},
   "source": [
    "_pandas_ has a concept of [indexing hierarchically], which may help group columns together. However, I'm new to _pandas_ and I'm not new to Python. Furthermore, from what I've read, if we use a multi-level labelling system for grouping, we have to pay attention to which level we're operating on as we work with the spreadsheet as DataFrame. \n",
    "\n",
    "To avoid complications due to my own ignorance, let's use a nested dictionary in Python to accomplish the same thing without _pandas_. We can probably use the dictionary to help us add more indices to the DataFrame later, if we need.\n",
    "\n",
    "[indexing hierarchically]: https://pandas.pydata.org/pandas-docs/stable/advanced.html"
   ]
  },
  {
   "cell_type": "markdown",
   "metadata": {},
   "source": [
    "### Nested dictionaries, for a hierarchy"
   ]
  },
  {
   "cell_type": "markdown",
   "metadata": {},
   "source": [
    "Instead of a regular dictionary in Python, let's use something called a [`defaultdict`], which will simplify the creation of our hierarchy. [`defaultdict`] is like a regular dictionary, except it doesn't complain if you try to access a key that doesn't exist yet—it just adds it.\n",
    "\n",
    "[`defaultdict`]: https://docs.python.org/3/library/collections.html#collections.defaultdict"
   ]
  },
  {
   "cell_type": "markdown",
   "metadata": {},
   "source": [
    "Because there's always the chance that a node might have data as well as more nodes under it, we'll store the reference to data in a key that can't possibly be a segment in the name: the separator (which in this case is '__') "
   ]
  },
  {
   "cell_type": "markdown",
   "metadata": {},
   "source": [
    "Before we forget, we should save that separator for quick reference:"
   ]
  },
  {
   "cell_type": "code",
   "execution_count": 38,
   "metadata": {
    "ExecuteTime": {
     "end_time": "2018-04-17T19:34:59.292622Z",
     "start_time": "2018-04-17T19:34:59.279688Z"
    }
   },
   "outputs": [
    {
     "data": {
      "text/plain": [
       "'__'"
      ]
     },
     "metadata": {},
     "output_type": "display_data"
    }
   ],
   "source": [
    "SEPARATOR = '__'\n",
    "display(SEPARATOR)"
   ]
  },
  {
   "cell_type": "markdown",
   "metadata": {},
   "source": [
    "I don't know about you, but I'll feel weird referring to the data Series as `SEPARATOR` all the time. Let's make an alias, so it's easier to remember. Just because we're storing data under a label that _happens_ to also be the separator for the split we did earlier, doesn't mean we humans have to keep track of that fact long after it's no longer important."
   ]
  },
  {
   "cell_type": "code",
   "execution_count": 39,
   "metadata": {
    "ExecuteTime": {
     "end_time": "2018-04-17T19:34:59.967404Z",
     "start_time": "2018-04-17T19:34:59.961223Z"
    }
   },
   "outputs": [],
   "source": [
    "DATA = SEPARATOR"
   ]
  },
  {
   "cell_type": "markdown",
   "metadata": {},
   "source": [
    "The following method looks long but it's mostly comments for your benefit. "
   ]
  },
  {
   "cell_type": "code",
   "execution_count": 40,
   "metadata": {
    "ExecuteTime": {
     "end_time": "2018-04-17T19:35:00.796062Z",
     "start_time": "2018-04-17T19:35:00.709337Z"
    }
   },
   "outputs": [],
   "source": [
    "from collections import defaultdict\n",
    "\n",
    "def split_column_to_dict(column, column_name=None, column_dictionary=None, separator=SEPARATOR):\n",
    "    \"\"\" Split the column names like \"fields__oSets__oPoints__observations\" into groupings of keys\n",
    "    so that related keys are easy to find, ie columns['fields']['oSets']['oPoints']['observations'].\n",
    "    This produces a tree of column name segments, with references to actual data at the ends.\n",
    "    \n",
    "    If `column_name` is provided, it's used instead of the actual column name.\n",
    "    \n",
    "    If `column_dictionary` is provided, attempt to add to it as if it were already initialized as\n",
    "    a nested defaultdict, from an earlier call to this function. \"\"\"\n",
    "\n",
    "    # If a dictionary is not provided, make an empty one.\n",
    "    if column_dictionary is None:\n",
    "        def nested_dict():\n",
    "            \"\"\" This function will be called by defaultdict\n",
    "            whenever a non-existent key is used. \"\"\"\n",
    "            return defaultdict(nested_dict)\n",
    "        \n",
    "        column_dictionary = nested_dict()\n",
    "\n",
    "    # Set a pointer to the root of the tree, for starters.\n",
    "    pointer = column_dictionary\n",
    "    \n",
    "    # Now, walk through the segments in order from left to right,\n",
    "    # touching the tree for each one.\n",
    "    for segment in str(column_name or column.name).split(separator):\n",
    "        pointer = pointer[segment]\n",
    "        \n",
    "    # Now that the loop is done, the pointer is pointing at the deepest\n",
    "    # level of the branch, which either already existed or else it was created.\n",
    "    \n",
    "    # At the end of the branch, put the data under a special key.\n",
    "    pointer[separator] = column\n",
    "\n",
    "    # Since `pointer` was actually just pointing to parts of `column_dictionary`,\n",
    "    # the column dictionary has been filled out with nodes because of how defaultdict\n",
    "    # was setup with our `nested_dict` constructor.\n",
    "    return column_dictionary\n"
   ]
  },
  {
   "cell_type": "markdown",
   "metadata": {},
   "source": [
    "Just to demonstrate that the functional code is actually quite slim and simple, here it is without any comments:\n",
    "\n",
    "```python\n",
    "def split_column_to_dict(dataframe, column_name=None, column_dictionary=None, separator=SEPARATOR):\n",
    "    if column_dictionary is None:\n",
    "        def nested_dict():\n",
    "            return defaultdict(nested_dict)\n",
    "        column_dictionary = nested_dict()\n",
    "    pointer = column_dictionary\n",
    "    for segment in str(column_name or column.name).split(separator):\n",
    "        pointer = pointer[segment]\n",
    "    pointer[separator] = dataframe[column_name]\n",
    "    return column_dictionary\n",
    "```"
   ]
  },
  {
   "cell_type": "markdown",
   "metadata": {
    "scrolled": true
   },
   "source": [
    "Now, make a dictionary of column trees:"
   ]
  },
  {
   "cell_type": "code",
   "execution_count": 41,
   "metadata": {
    "ExecuteTime": {
     "end_time": "2018-04-17T19:35:02.240002Z",
     "start_time": "2018-04-17T19:35:02.230855Z"
    }
   },
   "outputs": [],
   "source": [
    "column_dictionary = None  # initialize the variable, otherwise we can't reference it\n",
    "for name, column in data.items():\n",
    "    column_dictionary = split_column_to_dict(column, name, column_dictionary)"
   ]
  },
  {
   "cell_type": "markdown",
   "metadata": {},
   "source": [
    "Optionally, we can also insist that from now on, our dictionary should not blithely create keys:"
   ]
  },
  {
   "cell_type": "code",
   "execution_count": 42,
   "metadata": {
    "ExecuteTime": {
     "end_time": "2018-04-17T19:35:03.166151Z",
     "start_time": "2018-04-17T19:35:03.155898Z"
    },
    "scrolled": true
   },
   "outputs": [],
   "source": [
    "# Turn off the defaultdict behaviour, so errors are easier to detect later on\n",
    "column_dictionary.default_factory = None"
   ]
  },
  {
   "cell_type": "markdown",
   "metadata": {},
   "source": [
    "If that worked as planned, there should be a list of the first segments of all the column names in that sheet:"
   ]
  },
  {
   "cell_type": "code",
   "execution_count": 43,
   "metadata": {
    "ExecuteTime": {
     "end_time": "2018-04-17T19:35:04.135886Z",
     "start_time": "2018-04-17T19:35:04.125212Z"
    }
   },
   "outputs": [
    {
     "data": {
      "text/plain": [
       "dict_keys(['clients', 'fields', 'observers'])"
      ]
     },
     "execution_count": 43,
     "metadata": {},
     "output_type": "execute_result"
    }
   ],
   "source": [
    "column_dictionary.keys()"
   ]
  },
  {
   "cell_type": "markdown",
   "metadata": {},
   "source": [
    "Continuing deeper, more segments that share a common prefix:"
   ]
  },
  {
   "cell_type": "code",
   "execution_count": 44,
   "metadata": {
    "ExecuteTime": {
     "end_time": "2018-04-17T19:35:04.957536Z",
     "start_time": "2018-04-17T19:35:04.946951Z"
    }
   },
   "outputs": [
    {
     "data": {
      "text/plain": [
       "dict_keys(['client', 'crop', 'date', 'desc', 'image', 'name', 'oSets'])"
      ]
     },
     "execution_count": 44,
     "metadata": {},
     "output_type": "execute_result"
    }
   ],
   "source": [
    "fields_node = column_dictionary['fields']\n",
    "fields_node.keys()"
   ]
  },
  {
   "cell_type": "code",
   "execution_count": 45,
   "metadata": {
    "ExecuteTime": {
     "end_time": "2018-04-17T19:35:05.037399Z",
     "start_time": "2018-04-17T19:35:05.027726Z"
    }
   },
   "outputs": [
    {
     "data": {
      "text/plain": [
       "dict_keys(['completeSets', 'date', 'dateCompare', 'desc', 'growthStage', 'oPoints', 'obsName', 'results', 'totalA1', 'totalA2', 'totalA3', 'totalA4', 'totalSets'])"
      ]
     },
     "execution_count": 45,
     "metadata": {},
     "output_type": "execute_result"
    }
   ],
   "source": [
    "sets_node = fields_node['oSets']\n",
    "sets_node.keys()"
   ]
  },
  {
   "cell_type": "markdown",
   "metadata": {},
   "source": [
    "### Visualizing the tree"
   ]
  },
  {
   "cell_type": "markdown",
   "metadata": {},
   "source": [
    "Browsing the column structure by using the dictionary accessors is a bit tedious. It's great for machines, but my human brain has a bit of trouble holding it all in my head when I see it only one level at a time."
   ]
  },
  {
   "cell_type": "markdown",
   "metadata": {},
   "source": [
    "We can see the structure of the hierarchy in a dictionary by using a function like this:"
   ]
  },
  {
   "cell_type": "code",
   "execution_count": 46,
   "metadata": {
    "ExecuteTime": {
     "end_time": "2018-04-17T19:35:07.704949Z",
     "start_time": "2018-04-17T19:35:07.692198Z"
    }
   },
   "outputs": [],
   "source": [
    "def visualize_tree(tree, depth=1, maximum_depth=None, data_key=DATA):\n",
    "    if isinstance(tree, (dict, defaultdict)):\n",
    "        for key, val in tree.items():\n",
    "            if key != data_key:\n",
    "                print(\".   \" * (depth - 1) + key)\n",
    "                if maximum_depth is None or depth <= maximum_depth:\n",
    "                    visualize_tree(val, depth + 1, maximum_depth, data_key,\n",
    "                                   show_leaf_nodes)"
   ]
  },
  {
   "cell_type": "markdown",
   "metadata": {},
   "source": [
    "It may seem strange to see math symbols used with text, but Python understands what we want: to repeat the text if we multiply it, to append if we add.\n",
    "\n",
    "Here's the output for the whole tree:"
   ]
  },
  {
   "cell_type": "code",
   "execution_count": 47,
   "metadata": {
    "ExecuteTime": {
     "end_time": "2018-04-17T19:35:08.470323Z",
     "start_time": "2018-04-17T19:35:08.398135Z"
    },
    "scrolled": true
   },
   "outputs": [
    {
     "name": "stdout",
     "output_type": "stream",
     "text": [
      "clients\n"
     ]
    },
    {
     "ename": "NameError",
     "evalue": "name 'show_leaf_nodes' is not defined",
     "output_type": "error",
     "traceback": [
      "\u001b[0;31m---------------------------------------------------------------------------\u001b[0m",
      "\u001b[0;31mNameError\u001b[0m                                 Traceback (most recent call last)",
      "\u001b[0;32m<ipython-input-47-0e9dc5e91acb>\u001b[0m in \u001b[0;36m<module>\u001b[0;34m()\u001b[0m\n\u001b[0;32m----> 1\u001b[0;31m \u001b[0mvisualize_tree\u001b[0m\u001b[0;34m(\u001b[0m\u001b[0mcolumn_dictionary\u001b[0m\u001b[0;34m)\u001b[0m\u001b[0;34m\u001b[0m\u001b[0m\n\u001b[0m",
      "\u001b[0;32m<ipython-input-46-d0bd75267cc3>\u001b[0m in \u001b[0;36mvisualize_tree\u001b[0;34m(tree, depth, maximum_depth, data_key)\u001b[0m\n\u001b[1;32m      6\u001b[0m                 \u001b[0;32mif\u001b[0m \u001b[0mmaximum_depth\u001b[0m \u001b[0;32mis\u001b[0m \u001b[0;32mNone\u001b[0m \u001b[0;32mor\u001b[0m \u001b[0mdepth\u001b[0m \u001b[0;34m<=\u001b[0m \u001b[0mmaximum_depth\u001b[0m\u001b[0;34m:\u001b[0m\u001b[0;34m\u001b[0m\u001b[0m\n\u001b[1;32m      7\u001b[0m                     visualize_tree(val, depth + 1, maximum_depth, data_key,\n\u001b[0;32m----> 8\u001b[0;31m                                    show_leaf_nodes)\n\u001b[0m",
      "\u001b[0;31mNameError\u001b[0m: name 'show_leaf_nodes' is not defined"
     ]
    }
   ],
   "source": [
    "visualize_tree(column_dictionary)"
   ]
  },
  {
   "cell_type": "markdown",
   "metadata": {},
   "source": [
    "Using this new function, we can also limit the depth, even to zero, which is the equivalent of `column_dictionary.keys()`:"
   ]
  },
  {
   "cell_type": "code",
   "execution_count": 48,
   "metadata": {
    "ExecuteTime": {
     "end_time": "2018-04-17T19:35:09.256584Z",
     "start_time": "2018-04-17T19:35:09.246797Z"
    }
   },
   "outputs": [
    {
     "data": {
      "text/plain": [
       "dict_keys(['clients', 'fields', 'observers'])"
      ]
     },
     "execution_count": 48,
     "metadata": {},
     "output_type": "execute_result"
    }
   ],
   "source": [
    "column_dictionary.keys()"
   ]
  },
  {
   "cell_type": "code",
   "execution_count": 49,
   "metadata": {
    "ExecuteTime": {
     "end_time": "2018-04-17T19:35:09.361843Z",
     "start_time": "2018-04-17T19:35:09.350926Z"
    }
   },
   "outputs": [
    {
     "name": "stdout",
     "output_type": "stream",
     "text": [
      "clients\n",
      "fields\n",
      "observers\n"
     ]
    }
   ],
   "source": [
    "visualize_tree(column_dictionary, maximum_depth=0)"
   ]
  },
  {
   "cell_type": "markdown",
   "metadata": {},
   "source": [
    "Or, just a shallow peek into the next level:"
   ]
  },
  {
   "cell_type": "code",
   "execution_count": 50,
   "metadata": {
    "ExecuteTime": {
     "end_time": "2018-04-17T19:35:10.176879Z",
     "start_time": "2018-04-17T19:35:10.151274Z"
    }
   },
   "outputs": [
    {
     "name": "stdout",
     "output_type": "stream",
     "text": [
      "clients\n"
     ]
    },
    {
     "ename": "NameError",
     "evalue": "name 'show_leaf_nodes' is not defined",
     "output_type": "error",
     "traceback": [
      "\u001b[0;31m---------------------------------------------------------------------------\u001b[0m",
      "\u001b[0;31mNameError\u001b[0m                                 Traceback (most recent call last)",
      "\u001b[0;32m<ipython-input-50-39580135bab1>\u001b[0m in \u001b[0;36m<module>\u001b[0;34m()\u001b[0m\n\u001b[0;32m----> 1\u001b[0;31m \u001b[0mvisualize_tree\u001b[0m\u001b[0;34m(\u001b[0m\u001b[0mcolumn_dictionary\u001b[0m\u001b[0;34m,\u001b[0m \u001b[0mmaximum_depth\u001b[0m\u001b[0;34m=\u001b[0m\u001b[0;36m1\u001b[0m\u001b[0;34m)\u001b[0m\u001b[0;34m\u001b[0m\u001b[0m\n\u001b[0m",
      "\u001b[0;32m<ipython-input-46-d0bd75267cc3>\u001b[0m in \u001b[0;36mvisualize_tree\u001b[0;34m(tree, depth, maximum_depth, data_key)\u001b[0m\n\u001b[1;32m      6\u001b[0m                 \u001b[0;32mif\u001b[0m \u001b[0mmaximum_depth\u001b[0m \u001b[0;32mis\u001b[0m \u001b[0;32mNone\u001b[0m \u001b[0;32mor\u001b[0m \u001b[0mdepth\u001b[0m \u001b[0;34m<=\u001b[0m \u001b[0mmaximum_depth\u001b[0m\u001b[0;34m:\u001b[0m\u001b[0;34m\u001b[0m\u001b[0m\n\u001b[1;32m      7\u001b[0m                     visualize_tree(val, depth + 1, maximum_depth, data_key,\n\u001b[0;32m----> 8\u001b[0;31m                                    show_leaf_nodes)\n\u001b[0m",
      "\u001b[0;31mNameError\u001b[0m: name 'show_leaf_nodes' is not defined"
     ]
    }
   ],
   "source": [
    "visualize_tree(column_dictionary, maximum_depth=1)"
   ]
  },
  {
   "cell_type": "markdown",
   "metadata": {},
   "source": [
    "### Accessing data using the tree"
   ]
  },
  {
   "cell_type": "markdown",
   "metadata": {},
   "source": [
    "At the end of each branch in the tree should be a '\\_\\_' key for the actual data. For example, the `date` of the set:"
   ]
  },
  {
   "cell_type": "code",
   "execution_count": 51,
   "metadata": {
    "ExecuteTime": {
     "end_time": "2018-04-17T19:35:11.699078Z",
     "start_time": "2018-04-17T19:35:11.687497Z"
    }
   },
   "outputs": [
    {
     "data": {
      "text/plain": [
       "dict_keys(['__'])"
      ]
     },
     "execution_count": 51,
     "metadata": {},
     "output_type": "execute_result"
    }
   ],
   "source": [
    "sets_node['date'].keys()"
   ]
  },
  {
   "cell_type": "markdown",
   "metadata": {},
   "source": [
    "And we can check for that any time by using Python's `in` operator:"
   ]
  },
  {
   "cell_type": "code",
   "execution_count": 52,
   "metadata": {
    "ExecuteTime": {
     "end_time": "2018-04-17T19:35:12.571329Z",
     "start_time": "2018-04-17T19:35:12.561592Z"
    }
   },
   "outputs": [
    {
     "data": {
      "text/plain": [
       "True"
      ]
     },
     "execution_count": 52,
     "metadata": {},
     "output_type": "execute_result"
    }
   ],
   "source": [
    "DATA in sets_node['date']"
   ]
  },
  {
   "cell_type": "markdown",
   "metadata": {},
   "source": [
    "We can look at some data now!"
   ]
  },
  {
   "cell_type": "code",
   "execution_count": 53,
   "metadata": {
    "ExecuteTime": {
     "end_time": "2018-04-17T19:35:13.365647Z",
     "start_time": "2018-04-17T19:35:13.355894Z"
    }
   },
   "outputs": [
    {
     "data": {
      "text/plain": [
       "3"
      ]
     },
     "metadata": {},
     "output_type": "display_data"
    }
   ],
   "source": [
    "display(column_dictionary['observers'][DATA].count())"
   ]
  },
  {
   "cell_type": "code",
   "execution_count": 54,
   "metadata": {
    "ExecuteTime": {
     "end_time": "2018-04-17T19:35:13.434297Z",
     "start_time": "2018-04-17T19:35:13.421961Z"
    }
   },
   "outputs": [
    {
     "data": {
      "text/plain": [
       "Erl  0     2017-08-02T13:12:09.542\n",
       "     1                         NaN\n",
       "     2                         NaN\n",
       "     3                         NaN\n",
       "     4                         NaN\n",
       "     5                         NaN\n",
       "     6                         NaN\n",
       "     7                         NaN\n",
       "     8                         NaN\n",
       "     9                         NaN\n",
       "     10                        NaN\n",
       "     11                        NaN\n",
       "     12                        NaN\n",
       "     13                        NaN\n",
       "     14                        NaN\n",
       "     15                        NaN\n",
       "     16                        NaN\n",
       "     17                        NaN\n",
       "     18                        NaN\n",
       "     19                        NaN\n",
       "Name: fields__oSets__date, dtype: object"
      ]
     },
     "execution_count": 54,
     "metadata": {},
     "output_type": "execute_result"
    }
   ],
   "source": [
    "sets_node['date'][DATA].head(20)"
   ]
  },
  {
   "cell_type": "markdown",
   "metadata": {},
   "source": [
    "So, this is the problem with which we launched this whole endeavour. Many, many empty cells. If we want to skip over blanks as we scan down a column, _pandas_ has a [`dropna()`] method for that. Let's use `head` to peek at the first bit of that:\n",
    "\n",
    "[`dropna()`]: https://pandas.pydata.org/pandas-docs/stable/generated/pandas.DataFrame.dropna.html"
   ]
  },
  {
   "cell_type": "code",
   "execution_count": 55,
   "metadata": {
    "ExecuteTime": {
     "end_time": "2018-04-17T19:35:14.247306Z",
     "start_time": "2018-04-17T19:35:14.231426Z"
    }
   },
   "outputs": [
    {
     "data": {
      "text/plain": [
       "Erl    0      2017-08-02T13:12:09.542\n",
       "       70     2017-08-09T09:25:11.710\n",
       "       140    2017-08-09T10:06:25.480\n",
       "       210    2017-08-09T11:21:01.555\n",
       "       350    2017-08-09T11:37:20.862\n",
       "       490    2017-08-22T15:42:05.751\n",
       "       560    2017-08-17T11:12:02.820\n",
       "       700    2017-08-17T13:06:30.183\n",
       "       840    2017-08-22T16:02:50.682\n",
       "Tyler  0      2017-07-14T12:31:24.194\n",
       "Name: fields__oSets__date, dtype: object"
      ]
     },
     "execution_count": 55,
     "metadata": {},
     "output_type": "execute_result"
    }
   ],
   "source": [
    "sets_node['date'][DATA].dropna().head(10)"
   ]
  },
  {
   "cell_type": "markdown",
   "metadata": {},
   "source": [
    "So much better!\n",
    "\n",
    "We now have enough information to find the beginning of chunks in the sheet by scanning for non-blank cells: we have those row numbers for each of the non-null records of that column, where related columns will also reveal data we need for that section.\n",
    "\n",
    "As a side note, the number of non-null (not empty) records in any given column was displayed when we called [`info()`] on the DataFrame. We can also get information like that from the column (which is a Series in _pandas_) by using [`describe()`] or [`count()`]:\n",
    "\n",
    "[`info()`]: https://pandas.pydata.org/pandas-docs/stable/generated/pandas.DataFrame.info.html\n",
    "[`describe()`]: https://pandas.pydata.org/pandas-docs/stable/generated/pandas.Series.describe.html\n",
    "[`count()`]: https://pandas.pydata.org/pandas-docs/stable/generated/pandas.Series.count.html"
   ]
  },
  {
   "cell_type": "code",
   "execution_count": 56,
   "metadata": {
    "ExecuteTime": {
     "end_time": "2018-04-17T19:35:14.998825Z",
     "start_time": "2018-04-17T19:35:14.984250Z"
    }
   },
   "outputs": [
    {
     "data": {
      "text/plain": [
       "count                          54\n",
       "unique                         54\n",
       "top       2017-08-22T16:02:50.682\n",
       "freq                            1\n",
       "Name: fields__oSets__date, dtype: object"
      ]
     },
     "execution_count": 56,
     "metadata": {},
     "output_type": "execute_result"
    }
   ],
   "source": [
    "sets_node['date'][DATA].describe()"
   ]
  },
  {
   "cell_type": "markdown",
   "metadata": {},
   "source": [
    "### Helper functions, for browsing the data"
   ]
  },
  {
   "cell_type": "markdown",
   "metadata": {},
   "source": [
    "Once we start actually reading groups of columns based on which type of chunk we're reading from, we'll have to start typing lists of column names for each section.\n",
    "\n",
    "It's a bit of extra work to pay attention to whether a given node in the hierarchy is holding a reference to a data Series (column) or whether it's only an intermediate step on the way to the end of the branch.\n",
    "\n",
    "To save time and mental energy, we can filter columns by whether they have data or not, if we make some simple filter functions. For detecting data that we've placed in the hierarchy of columns, we can look for the special key that we chose earlier: the separator, which is two underscore characters (`__`)."
   ]
  },
  {
   "cell_type": "code",
   "execution_count": 57,
   "metadata": {
    "ExecuteTime": {
     "end_time": "2018-04-17T19:35:16.616829Z",
     "start_time": "2018-04-17T19:35:16.592721Z"
    }
   },
   "outputs": [],
   "source": [
    "def has_data(node, data_key=DATA):\n",
    "    \"\"\" We know node has data if it has a key that's the data key. \"\"\"\n",
    "    return isinstance(node, dict) and data_key in node.keys()\n",
    "\n",
    "def child_data(node):\n",
    "    \"\"\" Filter children that have data. \"\"\"\n",
    "    return {parent_key: child for parent_key, child in node.items()\n",
    "            if has_data(child)}\n",
    "\n",
    "def child_children(node):\n",
    "    \"\"\" Filter children that have children. We know an child has children if\n",
    "    it has any values that are dictionaries with at least one key that isn't\n",
    "    a data reference. \"\"\"\n",
    "    return {parent_key: child for parent_key, child in node.items()\n",
    "            if isinstance(child, dict) and len(child) > 1 or len(child) == 1 and not has_data(child)}"
   ]
  },
  {
   "cell_type": "code",
   "execution_count": 58,
   "metadata": {
    "ExecuteTime": {
     "end_time": "2018-04-17T19:35:16.694299Z",
     "start_time": "2018-04-17T19:35:16.686668Z"
    }
   },
   "outputs": [],
   "source": [
    "points_node = sets_node['oPoints']\n",
    "observations_node = points_node['observations']"
   ]
  },
  {
   "cell_type": "code",
   "execution_count": 59,
   "metadata": {
    "ExecuteTime": {
     "end_time": "2018-04-17T19:35:16.783143Z",
     "start_time": "2018-04-17T19:35:16.765817Z"
    }
   },
   "outputs": [
    {
     "data": {
      "text/html": [
       "<h5>children with children:</h5>"
      ],
      "text/plain": [
       "<IPython.core.display.HTML object>"
      ]
     },
     "metadata": {},
     "output_type": "display_data"
    },
    {
     "data": {
      "text/plain": [
       "dict_keys(['a1', 'a2', 'a3', '|'])"
      ]
     },
     "metadata": {},
     "output_type": "display_data"
    }
   ],
   "source": [
    "display(heading('children with children:'),\n",
    "        child_children(observations_node).keys())"
   ]
  },
  {
   "cell_type": "code",
   "execution_count": 60,
   "metadata": {
    "ExecuteTime": {
     "end_time": "2018-04-17T19:35:16.886634Z",
     "start_time": "2018-04-17T19:35:16.872932Z"
    }
   },
   "outputs": [
    {
     "data": {
      "text/html": [
       "<h5>children with data:</h5>"
      ],
      "text/plain": [
       "<IPython.core.display.HTML object>"
      ]
     },
     "metadata": {},
     "output_type": "display_data"
    },
    {
     "data": {
      "text/plain": [
       "dict_keys(['anum', 'complete', 'disabled', 'eVnum', 'enum', 'id', 'name', '|'])"
      ]
     },
     "metadata": {},
     "output_type": "display_data"
    }
   ],
   "source": [
    "display(heading('children with data:'),\n",
    "        child_data(observations_node).keys())"
   ]
  },
  {
   "cell_type": "code",
   "execution_count": 61,
   "metadata": {
    "ExecuteTime": {
     "end_time": "2018-04-17T19:35:16.954317Z",
     "start_time": "2018-04-17T19:35:16.939795Z"
    }
   },
   "outputs": [
    {
     "data": {
      "text/html": [
       "<h5>children with children & data:</h5>"
      ],
      "text/plain": [
       "<IPython.core.display.HTML object>"
      ]
     },
     "metadata": {},
     "output_type": "display_data"
    },
    {
     "data": {
      "text/plain": [
       "{'|'}"
      ]
     },
     "metadata": {},
     "output_type": "display_data"
    }
   ],
   "source": [
    "# With Python sets, the ampersand (`&`) is the set intersetion operator.\n",
    "display(heading('children with children & data:'),\n",
    "        set(child_children(observations_node).keys()) & set(child_data(observations_node).keys()))"
   ]
  },
  {
   "cell_type": "markdown",
   "metadata": {},
   "source": [
    "Oh? Children and data under `|`? What could it be?"
   ]
  },
  {
   "cell_type": "code",
   "execution_count": 62,
   "metadata": {
    "ExecuteTime": {
     "end_time": "2018-04-17T19:35:17.765041Z",
     "start_time": "2018-04-17T19:35:17.749724Z"
    }
   },
   "outputs": [
    {
     "data": {
      "text/plain": [
       "Erl  5     e1\n",
       "     6     e2\n",
       "     7     e3\n",
       "     8     e4\n",
       "     9     e5\n",
       "     10    e6\n",
       "     11    e7\n",
       "     12    e8\n",
       "     13    e9\n",
       "     19    e1\n",
       "     20    e2\n",
       "     21    e3\n",
       "     22    e4\n",
       "     23    e5\n",
       "     24    e6\n",
       "     25    e7\n",
       "     26    e8\n",
       "     27    e9\n",
       "Name: fields__oSets__oPoints__observations__|, dtype: object"
      ]
     },
     "metadata": {},
     "output_type": "display_data"
    }
   ],
   "source": [
    "display(observations_node['|'][DATA].dropna().head(18))"
   ]
  },
  {
   "cell_type": "code",
   "execution_count": 63,
   "metadata": {
    "ExecuteTime": {
     "end_time": "2018-04-17T19:35:17.831040Z",
     "start_time": "2018-04-17T19:35:17.815418Z"
    }
   },
   "outputs": [
    {
     "data": {
      "text/plain": [
       "Erl  90     5.0\n",
       "     94     1.0\n",
       "     96     2.0\n",
       "     104    5.0\n",
       "     110    1.0\n",
       "     118    4.0\n",
       "     132    2.0\n",
       "     136    1.0\n",
       "     145    1.0\n",
       "     152    1.0\n",
       "     160    1.0\n",
       "     166    1.0\n",
       "     502    2.0\n",
       "     509    1.0\n",
       "     544    1.0\n",
       "     558    2.0\n",
       "     572    7.0\n",
       "     586    6.0\n",
       "Name: fields__oSets__oPoints__observations__|__number, dtype: float64"
      ]
     },
     "metadata": {},
     "output_type": "display_data"
    }
   ],
   "source": [
    "display(observations_node['|']['number'][DATA].dropna().head(18))"
   ]
  },
  {
   "cell_type": "markdown",
   "metadata": {},
   "source": [
    "Based on my experience using the app, and analyzing other datasets, I think it has something to do with natural enemy counts. As far as I've been able to discern, the source app's data doesn't distinguish between a count of zero and unreported (missing) data points. That's why the `observations__|__number` data (which doesn't necessarily exist) isn't always present on the same rows as all the `observations__|` labels.\n",
    "\n",
    "Later on, we'll need to dig up the actual list of naturaly enemies and match them to the corresponding \"e\" labels, `e1` through `e9`."
   ]
  },
  {
   "cell_type": "markdown",
   "metadata": {},
   "source": [
    "#### Personal thought:\n",
    "\n",
    "I have to wonder why the developers of the app that output this data chose to use an unpronounceable column name, and put something important there. Not only data, but also another, related column with more data. Why not `enemy__name` and `enemy__number`?\n",
    "\n",
    "Regardless of how questionable that is, or how that happened, we can handle it now."
   ]
  },
  {
   "cell_type": "markdown",
   "metadata": {},
   "source": [
    "#### Improve the tree visualizer function with `child_data`"
   ]
  },
  {
   "cell_type": "markdown",
   "metadata": {},
   "source": [
    "Now that we have filters for helping us traverse the tree, let's take a moment to improve `visualize_tree`:"
   ]
  },
  {
   "cell_type": "code",
   "execution_count": 64,
   "metadata": {
    "ExecuteTime": {
     "end_time": "2018-04-17T19:35:21.171684Z",
     "start_time": "2018-04-17T19:35:21.126449Z"
    }
   },
   "outputs": [],
   "source": [
    "def visualize_tree(tree, depth=1, maximum_depth=None, data_key=DATA,\n",
    "                   show_leaf_nodes=True):\n",
    "    if isinstance(tree, (dict, defaultdict)):\n",
    "        if show_leaf_nodes:\n",
    "            nodes = tree\n",
    "        else:\n",
    "            nodes = child_children(tree)\n",
    "        for key, val in nodes.items():\n",
    "            if key != data_key:\n",
    "                if has_data(val):\n",
    "                    prefix = '* '\n",
    "                else:\n",
    "                    prefix = ''\n",
    "                if child_children(val) or child_data(val):\n",
    "                    suffix = '/'\n",
    "                else:\n",
    "                    suffix = ''\n",
    "                print(\".   \" * (depth - 1) + f\"{prefix}{key}{suffix}\")\n",
    "                if maximum_depth is None or depth <= maximum_depth:\n",
    "                    visualize_tree(val, depth + 1, maximum_depth, data_key,\n",
    "                                   show_leaf_nodes)"
   ]
  },
  {
   "cell_type": "markdown",
   "metadata": {},
   "source": [
    "Now we can visualize the structure in terms of what's at the ends of the branches (leaf nodes) or all descendants. The additional punctuation also makes it more obvious which nodes have data values. For example, the node at `fields__oSets__oPoints__observations__|`, which is both a data node and a branch."
   ]
  },
  {
   "cell_type": "code",
   "execution_count": 65,
   "metadata": {
    "ExecuteTime": {
     "end_time": "2018-04-17T19:35:22.034944Z",
     "start_time": "2018-04-17T19:35:22.019252Z"
    }
   },
   "outputs": [
    {
     "name": "stdout",
     "output_type": "stream",
     "text": [
      "a1/\n",
      "a2/\n",
      "a3/\n",
      "* |/\n"
     ]
    }
   ],
   "source": [
    "visualize_tree(observations_node, show_leaf_nodes=False)"
   ]
  },
  {
   "cell_type": "code",
   "execution_count": 66,
   "metadata": {
    "ExecuteTime": {
     "end_time": "2018-04-17T19:35:22.102077Z",
     "start_time": "2018-04-17T19:35:22.087060Z"
    }
   },
   "outputs": [
    {
     "name": "stdout",
     "output_type": "stream",
     "text": [
      "a1/\n",
      ".   * number\n",
      "a2/\n",
      ".   * number\n",
      "a3/\n",
      ".   * number\n",
      "* anum\n",
      "* complete\n",
      "* disabled\n",
      "* eVnum\n",
      "* enum\n",
      "* id\n",
      "* name\n",
      "* |/\n",
      ".   * number\n"
     ]
    }
   ],
   "source": [
    "visualize_tree(observations_node, show_leaf_nodes=True)"
   ]
  },
  {
   "cell_type": "markdown",
   "metadata": {},
   "source": [
    "## Putting it all together"
   ]
  },
  {
   "cell_type": "markdown",
   "metadata": {},
   "source": [
    "### Accessing data from any section & ignoring irrelevant rows"
   ]
  },
  {
   "cell_type": "markdown",
   "metadata": {},
   "source": [
    "Let's take a look at the columns containing data about observation sets.\n",
    "\n",
    "We'll use `has_data` to filter our `sets_node` so we can express a list of names of data-containing columns about `fields__oSets`."
   ]
  },
  {
   "cell_type": "code",
   "execution_count": 67,
   "metadata": {
    "ExecuteTime": {
     "end_time": "2018-04-17T19:35:24.711859Z",
     "start_time": "2018-04-17T19:35:24.699486Z"
    }
   },
   "outputs": [
    {
     "data": {
      "text/plain": [
       "['fields__oSets__completeSets',\n",
       " 'fields__oSets__date',\n",
       " 'fields__oSets__dateCompare',\n",
       " 'fields__oSets__desc',\n",
       " 'fields__oSets__growthStage',\n",
       " 'fields__oSets__obsName',\n",
       " 'fields__oSets__results',\n",
       " 'fields__oSets__totalA1',\n",
       " 'fields__oSets__totalA2',\n",
       " 'fields__oSets__totalA3',\n",
       " 'fields__oSets__totalA4',\n",
       " 'fields__oSets__totalSets']"
      ]
     },
     "metadata": {},
     "output_type": "display_data"
    }
   ],
   "source": [
    "sets_columns_names = [column[DATA].name for column in child_data(sets_node).values()]\n",
    "display(sets_columns_names)"
   ]
  },
  {
   "cell_type": "markdown",
   "metadata": {},
   "source": [
    "Passing that list to _pandas_, we should get exactly which columns of data we need:"
   ]
  },
  {
   "cell_type": "code",
   "execution_count": 68,
   "metadata": {
    "ExecuteTime": {
     "end_time": "2018-04-17T19:35:25.568072Z",
     "start_time": "2018-04-17T19:35:25.520796Z"
    }
   },
   "outputs": [
    {
     "data": {
      "text/html": [
       "<div>\n",
       "<style scoped>\n",
       "    .dataframe tbody tr th:only-of-type {\n",
       "        vertical-align: middle;\n",
       "    }\n",
       "\n",
       "    .dataframe tbody tr th {\n",
       "        vertical-align: top;\n",
       "    }\n",
       "\n",
       "    .dataframe thead th {\n",
       "        text-align: right;\n",
       "    }\n",
       "</style>\n",
       "<table border=\"1\" class=\"dataframe\">\n",
       "  <thead>\n",
       "    <tr style=\"text-align: right;\">\n",
       "      <th></th>\n",
       "      <th></th>\n",
       "      <th>fields__oSets__completeSets</th>\n",
       "      <th>fields__oSets__date</th>\n",
       "      <th>fields__oSets__dateCompare</th>\n",
       "      <th>fields__oSets__desc</th>\n",
       "      <th>fields__oSets__growthStage</th>\n",
       "      <th>fields__oSets__obsName</th>\n",
       "      <th>fields__oSets__results</th>\n",
       "      <th>fields__oSets__totalA1</th>\n",
       "      <th>fields__oSets__totalA2</th>\n",
       "      <th>fields__oSets__totalA3</th>\n",
       "      <th>fields__oSets__totalA4</th>\n",
       "      <th>fields__oSets__totalSets</th>\n",
       "    </tr>\n",
       "  </thead>\n",
       "  <tbody>\n",
       "    <tr>\n",
       "      <th rowspan=\"5\" valign=\"top\">Erl</th>\n",
       "      <th>0</th>\n",
       "      <td>0.0</td>\n",
       "      <td>2017-08-02T13:12:09.542</td>\n",
       "      <td>2017-08-02</td>\n",
       "      <td>NaN</td>\n",
       "      <td>7.0</td>\n",
       "      <td>Tyler</td>\n",
       "      <td>NaN</td>\n",
       "      <td>NaN</td>\n",
       "      <td>NaN</td>\n",
       "      <td>NaN</td>\n",
       "      <td>NaN</td>\n",
       "      <td>1.0</td>\n",
       "    </tr>\n",
       "    <tr>\n",
       "      <th>1</th>\n",
       "      <td>NaN</td>\n",
       "      <td>NaN</td>\n",
       "      <td>NaT</td>\n",
       "      <td>NaN</td>\n",
       "      <td>NaN</td>\n",
       "      <td>NaN</td>\n",
       "      <td>NaN</td>\n",
       "      <td>NaN</td>\n",
       "      <td>NaN</td>\n",
       "      <td>NaN</td>\n",
       "      <td>NaN</td>\n",
       "      <td>NaN</td>\n",
       "    </tr>\n",
       "    <tr>\n",
       "      <th>2</th>\n",
       "      <td>NaN</td>\n",
       "      <td>NaN</td>\n",
       "      <td>NaT</td>\n",
       "      <td>NaN</td>\n",
       "      <td>NaN</td>\n",
       "      <td>NaN</td>\n",
       "      <td>NaN</td>\n",
       "      <td>NaN</td>\n",
       "      <td>NaN</td>\n",
       "      <td>NaN</td>\n",
       "      <td>NaN</td>\n",
       "      <td>NaN</td>\n",
       "    </tr>\n",
       "    <tr>\n",
       "      <th>3</th>\n",
       "      <td>NaN</td>\n",
       "      <td>NaN</td>\n",
       "      <td>NaT</td>\n",
       "      <td>NaN</td>\n",
       "      <td>NaN</td>\n",
       "      <td>NaN</td>\n",
       "      <td>NaN</td>\n",
       "      <td>NaN</td>\n",
       "      <td>NaN</td>\n",
       "      <td>NaN</td>\n",
       "      <td>NaN</td>\n",
       "      <td>NaN</td>\n",
       "    </tr>\n",
       "    <tr>\n",
       "      <th>4</th>\n",
       "      <td>NaN</td>\n",
       "      <td>NaN</td>\n",
       "      <td>NaT</td>\n",
       "      <td>NaN</td>\n",
       "      <td>NaN</td>\n",
       "      <td>NaN</td>\n",
       "      <td>NaN</td>\n",
       "      <td>NaN</td>\n",
       "      <td>NaN</td>\n",
       "      <td>NaN</td>\n",
       "      <td>NaN</td>\n",
       "      <td>NaN</td>\n",
       "    </tr>\n",
       "  </tbody>\n",
       "</table>\n",
       "</div>"
      ],
      "text/plain": [
       "       fields__oSets__completeSets      fields__oSets__date  \\\n",
       "Erl 0                          0.0  2017-08-02T13:12:09.542   \n",
       "    1                          NaN                      NaN   \n",
       "    2                          NaN                      NaN   \n",
       "    3                          NaN                      NaN   \n",
       "    4                          NaN                      NaN   \n",
       "\n",
       "      fields__oSets__dateCompare  fields__oSets__desc  \\\n",
       "Erl 0                 2017-08-02                  NaN   \n",
       "    1                        NaT                  NaN   \n",
       "    2                        NaT                  NaN   \n",
       "    3                        NaT                  NaN   \n",
       "    4                        NaT                  NaN   \n",
       "\n",
       "       fields__oSets__growthStage fields__oSets__obsName  \\\n",
       "Erl 0                         7.0                  Tyler   \n",
       "    1                         NaN                    NaN   \n",
       "    2                         NaN                    NaN   \n",
       "    3                         NaN                    NaN   \n",
       "    4                         NaN                    NaN   \n",
       "\n",
       "      fields__oSets__results  fields__oSets__totalA1  fields__oSets__totalA2  \\\n",
       "Erl 0                    NaN                     NaN                     NaN   \n",
       "    1                    NaN                     NaN                     NaN   \n",
       "    2                    NaN                     NaN                     NaN   \n",
       "    3                    NaN                     NaN                     NaN   \n",
       "    4                    NaN                     NaN                     NaN   \n",
       "\n",
       "       fields__oSets__totalA3  fields__oSets__totalA4  \\\n",
       "Erl 0                     NaN                     NaN   \n",
       "    1                     NaN                     NaN   \n",
       "    2                     NaN                     NaN   \n",
       "    3                     NaN                     NaN   \n",
       "    4                     NaN                     NaN   \n",
       "\n",
       "       fields__oSets__totalSets  \n",
       "Erl 0                       1.0  \n",
       "    1                       NaN  \n",
       "    2                       NaN  \n",
       "    3                       NaN  \n",
       "    4                       NaN  "
      ]
     },
     "metadata": {},
     "output_type": "display_data"
    }
   ],
   "source": [
    "display(data[sets_columns_names].head())"
   ]
  },
  {
   "cell_type": "markdown",
   "metadata": {},
   "source": [
    "Once again, the problem we faced at the outset. How about skipping irrelevant rows? We fixed this earlier with `dropna()`, but this time we're operating on some columns that _may_ be null, plus certain ones that _must not_ be null.\n",
    "\n",
    "Let's use the date column as the crucial record upon which we'll predicate our filter, because it should never be null. \n",
    "\n",
    "_pandas_ has a way to filter on conditions, which is sometimes called [boolean indexing] because the condition is either `True` or `False`. In this case, _pandas_ expects the actual column data object itself (Series), rather than just the name of the column to check. We already have that in the hierarchy from earlier:\n",
    "\n",
    "[boolean indexing]: https://pandas.pydata.org/pandas-docs/stable/10min.html#boolean-indexing"
   ]
  },
  {
   "cell_type": "code",
   "execution_count": 69,
   "metadata": {
    "ExecuteTime": {
     "end_time": "2018-04-17T19:35:26.382873Z",
     "start_time": "2018-04-17T19:35:26.372908Z"
    }
   },
   "outputs": [
    {
     "data": {
      "text/plain": [
       "pandas.core.series.Series"
      ]
     },
     "execution_count": 69,
     "metadata": {},
     "output_type": "execute_result"
    }
   ],
   "source": [
    "date_column = sets_node['date'][DATA]\n",
    "type(date_column)"
   ]
  },
  {
   "cell_type": "markdown",
   "metadata": {},
   "source": [
    "Passing a check for whether the value in the Series [is not null] to _pandas_, as well as specifying the column names we want to get:\n",
    "\n",
    "[is not null]: https://pandas.pydata.org/pandas-docs/stable/generated/pandas.Series.notna.html"
   ]
  },
  {
   "cell_type": "code",
   "execution_count": 70,
   "metadata": {
    "ExecuteTime": {
     "end_time": "2018-04-17T19:35:27.379493Z",
     "start_time": "2018-04-17T19:35:27.308786Z"
    },
    "scrolled": false
   },
   "outputs": [
    {
     "data": {
      "text/html": [
       "<div>\n",
       "<style scoped>\n",
       "    .dataframe tbody tr th:only-of-type {\n",
       "        vertical-align: middle;\n",
       "    }\n",
       "\n",
       "    .dataframe tbody tr th {\n",
       "        vertical-align: top;\n",
       "    }\n",
       "\n",
       "    .dataframe thead th {\n",
       "        text-align: right;\n",
       "    }\n",
       "</style>\n",
       "<table border=\"1\" class=\"dataframe\">\n",
       "  <thead>\n",
       "    <tr style=\"text-align: right;\">\n",
       "      <th></th>\n",
       "      <th></th>\n",
       "      <th>fields__oSets__completeSets</th>\n",
       "      <th>fields__oSets__date</th>\n",
       "      <th>fields__oSets__dateCompare</th>\n",
       "      <th>fields__oSets__desc</th>\n",
       "      <th>fields__oSets__growthStage</th>\n",
       "      <th>fields__oSets__obsName</th>\n",
       "      <th>fields__oSets__results</th>\n",
       "      <th>fields__oSets__totalA1</th>\n",
       "      <th>fields__oSets__totalA2</th>\n",
       "      <th>fields__oSets__totalA3</th>\n",
       "      <th>fields__oSets__totalA4</th>\n",
       "      <th>fields__oSets__totalSets</th>\n",
       "    </tr>\n",
       "  </thead>\n",
       "  <tbody>\n",
       "    <tr>\n",
       "      <th rowspan=\"9\" valign=\"top\">Erl</th>\n",
       "      <th>0</th>\n",
       "      <td>0.0</td>\n",
       "      <td>2017-08-02T13:12:09.542</td>\n",
       "      <td>2017-08-02</td>\n",
       "      <td>NaN</td>\n",
       "      <td>7.0</td>\n",
       "      <td>Tyler</td>\n",
       "      <td>NaN</td>\n",
       "      <td>NaN</td>\n",
       "      <td>NaN</td>\n",
       "      <td>NaN</td>\n",
       "      <td>NaN</td>\n",
       "      <td>1.0</td>\n",
       "    </tr>\n",
       "    <tr>\n",
       "      <th>70</th>\n",
       "      <td>1.0</td>\n",
       "      <td>2017-08-09T09:25:11.710</td>\n",
       "      <td>2017-08-09</td>\n",
       "      <td>NaN</td>\n",
       "      <td>8.0</td>\n",
       "      <td>Tyler</td>\n",
       "      <td>RESULTS.5</td>\n",
       "      <td>164.0</td>\n",
       "      <td>0.0</td>\n",
       "      <td>0.0</td>\n",
       "      <td>0.0</td>\n",
       "      <td>1.0</td>\n",
       "    </tr>\n",
       "    <tr>\n",
       "      <th>140</th>\n",
       "      <td>1.0</td>\n",
       "      <td>2017-08-09T10:06:25.480</td>\n",
       "      <td>2017-08-09</td>\n",
       "      <td>NaN</td>\n",
       "      <td>7.0</td>\n",
       "      <td>Tyler</td>\n",
       "      <td>RESULTS.5</td>\n",
       "      <td>66.0</td>\n",
       "      <td>0.0</td>\n",
       "      <td>0.0</td>\n",
       "      <td>0.0</td>\n",
       "      <td>1.0</td>\n",
       "    </tr>\n",
       "    <tr>\n",
       "      <th>210</th>\n",
       "      <td>2.0</td>\n",
       "      <td>2017-08-09T11:21:01.555</td>\n",
       "      <td>2017-08-09</td>\n",
       "      <td>NaN</td>\n",
       "      <td>9.0</td>\n",
       "      <td>Stean</td>\n",
       "      <td>RESULTS.1</td>\n",
       "      <td>0.0</td>\n",
       "      <td>0.0</td>\n",
       "      <td>0.0</td>\n",
       "      <td>0.0</td>\n",
       "      <td>2.0</td>\n",
       "    </tr>\n",
       "    <tr>\n",
       "      <th>350</th>\n",
       "      <td>2.0</td>\n",
       "      <td>2017-08-09T11:37:20.862</td>\n",
       "      <td>2017-08-09</td>\n",
       "      <td>NaN</td>\n",
       "      <td>8.0</td>\n",
       "      <td>Stean</td>\n",
       "      <td>RESULTS.1</td>\n",
       "      <td>5.0</td>\n",
       "      <td>5.0</td>\n",
       "      <td>0.0</td>\n",
       "      <td>0.0</td>\n",
       "      <td>2.0</td>\n",
       "    </tr>\n",
       "    <tr>\n",
       "      <th>490</th>\n",
       "      <td>1.0</td>\n",
       "      <td>2017-08-22T15:42:05.751</td>\n",
       "      <td>2017-08-22</td>\n",
       "      <td>NaN</td>\n",
       "      <td>8.0</td>\n",
       "      <td>Mikki</td>\n",
       "      <td>RESULTS.5</td>\n",
       "      <td>1.0</td>\n",
       "      <td>0.0</td>\n",
       "      <td>0.0</td>\n",
       "      <td>0.0</td>\n",
       "      <td>1.0</td>\n",
       "    </tr>\n",
       "    <tr>\n",
       "      <th>560</th>\n",
       "      <td>2.0</td>\n",
       "      <td>2017-08-17T11:12:02.820</td>\n",
       "      <td>2017-08-17</td>\n",
       "      <td>NaN</td>\n",
       "      <td>8.0</td>\n",
       "      <td>Gabrielle</td>\n",
       "      <td>RESULTS.1</td>\n",
       "      <td>169.0</td>\n",
       "      <td>96.0</td>\n",
       "      <td>0.0</td>\n",
       "      <td>0.0</td>\n",
       "      <td>2.0</td>\n",
       "    </tr>\n",
       "    <tr>\n",
       "      <th>700</th>\n",
       "      <td>2.0</td>\n",
       "      <td>2017-08-17T13:06:30.183</td>\n",
       "      <td>2017-08-17</td>\n",
       "      <td>NaN</td>\n",
       "      <td>9.0</td>\n",
       "      <td>Stean</td>\n",
       "      <td>RESULTS.1</td>\n",
       "      <td>78.0</td>\n",
       "      <td>102.0</td>\n",
       "      <td>0.0</td>\n",
       "      <td>0.0</td>\n",
       "      <td>2.0</td>\n",
       "    </tr>\n",
       "    <tr>\n",
       "      <th>840</th>\n",
       "      <td>1.0</td>\n",
       "      <td>2017-08-22T16:02:50.682</td>\n",
       "      <td>2017-08-22</td>\n",
       "      <td>NaN</td>\n",
       "      <td>8.0</td>\n",
       "      <td>Mikki</td>\n",
       "      <td>RESULTS.5</td>\n",
       "      <td>187.0</td>\n",
       "      <td>0.0</td>\n",
       "      <td>0.0</td>\n",
       "      <td>0.0</td>\n",
       "      <td>1.0</td>\n",
       "    </tr>\n",
       "    <tr>\n",
       "      <th rowspan=\"6\" valign=\"top\">Tyler</th>\n",
       "      <th>0</th>\n",
       "      <td>0.0</td>\n",
       "      <td>2017-07-14T12:31:24.194</td>\n",
       "      <td>2017-07-14</td>\n",
       "      <td>NaN</td>\n",
       "      <td>6.0</td>\n",
       "      <td>Tyler</td>\n",
       "      <td>NaN</td>\n",
       "      <td>NaN</td>\n",
       "      <td>NaN</td>\n",
       "      <td>NaN</td>\n",
       "      <td>NaN</td>\n",
       "      <td>1.0</td>\n",
       "    </tr>\n",
       "    <tr>\n",
       "      <th>70</th>\n",
       "      <td>1.0</td>\n",
       "      <td>2017-07-18T10:31:22.263</td>\n",
       "      <td>2017-07-18</td>\n",
       "      <td>NaN</td>\n",
       "      <td>6.0</td>\n",
       "      <td>Tyler</td>\n",
       "      <td>RESULTS.5</td>\n",
       "      <td>8.0</td>\n",
       "      <td>0.0</td>\n",
       "      <td>0.0</td>\n",
       "      <td>0.0</td>\n",
       "      <td>1.0</td>\n",
       "    </tr>\n",
       "    <tr>\n",
       "      <th>140</th>\n",
       "      <td>1.0</td>\n",
       "      <td>2017-07-28T13:05:44.673</td>\n",
       "      <td>2017-07-28</td>\n",
       "      <td>NaN</td>\n",
       "      <td>8.0</td>\n",
       "      <td>Mikki</td>\n",
       "      <td>RESULTS.5</td>\n",
       "      <td>37.0</td>\n",
       "      <td>0.0</td>\n",
       "      <td>0.0</td>\n",
       "      <td>0.0</td>\n",
       "      <td>1.0</td>\n",
       "    </tr>\n",
       "    <tr>\n",
       "      <th>210</th>\n",
       "      <td>1.0</td>\n",
       "      <td>2017-08-01T15:27:40.174</td>\n",
       "      <td>2017-08-01</td>\n",
       "      <td>NaN</td>\n",
       "      <td>8.0</td>\n",
       "      <td>Stean</td>\n",
       "      <td>RESULTS.5</td>\n",
       "      <td>52.0</td>\n",
       "      <td>0.0</td>\n",
       "      <td>0.0</td>\n",
       "      <td>0.0</td>\n",
       "      <td>1.0</td>\n",
       "    </tr>\n",
       "    <tr>\n",
       "      <th>280</th>\n",
       "      <td>1.0</td>\n",
       "      <td>2017-08-04T10:18:29.654</td>\n",
       "      <td>2017-08-04</td>\n",
       "      <td>NaN</td>\n",
       "      <td>8.5</td>\n",
       "      <td>Stean</td>\n",
       "      <td>RESULTS.5</td>\n",
       "      <td>47.0</td>\n",
       "      <td>0.0</td>\n",
       "      <td>0.0</td>\n",
       "      <td>0.0</td>\n",
       "      <td>1.0</td>\n",
       "    </tr>\n",
       "    <tr>\n",
       "      <th>350</th>\n",
       "      <td>1.0</td>\n",
       "      <td>2017-07-18T10:51:30.195</td>\n",
       "      <td>2017-07-18</td>\n",
       "      <td>NaN</td>\n",
       "      <td>6.0</td>\n",
       "      <td>Tyler</td>\n",
       "      <td>RESULTS.5</td>\n",
       "      <td>2.0</td>\n",
       "      <td>0.0</td>\n",
       "      <td>0.0</td>\n",
       "      <td>0.0</td>\n",
       "      <td>1.0</td>\n",
       "    </tr>\n",
       "  </tbody>\n",
       "</table>\n",
       "</div>"
      ],
      "text/plain": [
       "           fields__oSets__completeSets      fields__oSets__date  \\\n",
       "Erl   0                            0.0  2017-08-02T13:12:09.542   \n",
       "      70                           1.0  2017-08-09T09:25:11.710   \n",
       "      140                          1.0  2017-08-09T10:06:25.480   \n",
       "      210                          2.0  2017-08-09T11:21:01.555   \n",
       "      350                          2.0  2017-08-09T11:37:20.862   \n",
       "      490                          1.0  2017-08-22T15:42:05.751   \n",
       "      560                          2.0  2017-08-17T11:12:02.820   \n",
       "      700                          2.0  2017-08-17T13:06:30.183   \n",
       "      840                          1.0  2017-08-22T16:02:50.682   \n",
       "Tyler 0                            0.0  2017-07-14T12:31:24.194   \n",
       "      70                           1.0  2017-07-18T10:31:22.263   \n",
       "      140                          1.0  2017-07-28T13:05:44.673   \n",
       "      210                          1.0  2017-08-01T15:27:40.174   \n",
       "      280                          1.0  2017-08-04T10:18:29.654   \n",
       "      350                          1.0  2017-07-18T10:51:30.195   \n",
       "\n",
       "          fields__oSets__dateCompare  fields__oSets__desc  \\\n",
       "Erl   0                   2017-08-02                  NaN   \n",
       "      70                  2017-08-09                  NaN   \n",
       "      140                 2017-08-09                  NaN   \n",
       "      210                 2017-08-09                  NaN   \n",
       "      350                 2017-08-09                  NaN   \n",
       "      490                 2017-08-22                  NaN   \n",
       "      560                 2017-08-17                  NaN   \n",
       "      700                 2017-08-17                  NaN   \n",
       "      840                 2017-08-22                  NaN   \n",
       "Tyler 0                   2017-07-14                  NaN   \n",
       "      70                  2017-07-18                  NaN   \n",
       "      140                 2017-07-28                  NaN   \n",
       "      210                 2017-08-01                  NaN   \n",
       "      280                 2017-08-04                  NaN   \n",
       "      350                 2017-07-18                  NaN   \n",
       "\n",
       "           fields__oSets__growthStage fields__oSets__obsName  \\\n",
       "Erl   0                           7.0                  Tyler   \n",
       "      70                          8.0                  Tyler   \n",
       "      140                         7.0                  Tyler   \n",
       "      210                         9.0                  Stean   \n",
       "      350                         8.0                  Stean   \n",
       "      490                         8.0                  Mikki   \n",
       "      560                         8.0              Gabrielle   \n",
       "      700                         9.0                  Stean   \n",
       "      840                         8.0                  Mikki   \n",
       "Tyler 0                           6.0                  Tyler   \n",
       "      70                          6.0                  Tyler   \n",
       "      140                         8.0                  Mikki   \n",
       "      210                         8.0                  Stean   \n",
       "      280                         8.5                  Stean   \n",
       "      350                         6.0                  Tyler   \n",
       "\n",
       "          fields__oSets__results  fields__oSets__totalA1  \\\n",
       "Erl   0                      NaN                     NaN   \n",
       "      70               RESULTS.5                   164.0   \n",
       "      140              RESULTS.5                    66.0   \n",
       "      210              RESULTS.1                     0.0   \n",
       "      350              RESULTS.1                     5.0   \n",
       "      490              RESULTS.5                     1.0   \n",
       "      560              RESULTS.1                   169.0   \n",
       "      700              RESULTS.1                    78.0   \n",
       "      840              RESULTS.5                   187.0   \n",
       "Tyler 0                      NaN                     NaN   \n",
       "      70               RESULTS.5                     8.0   \n",
       "      140              RESULTS.5                    37.0   \n",
       "      210              RESULTS.5                    52.0   \n",
       "      280              RESULTS.5                    47.0   \n",
       "      350              RESULTS.5                     2.0   \n",
       "\n",
       "           fields__oSets__totalA2  fields__oSets__totalA3  \\\n",
       "Erl   0                       NaN                     NaN   \n",
       "      70                      0.0                     0.0   \n",
       "      140                     0.0                     0.0   \n",
       "      210                     0.0                     0.0   \n",
       "      350                     5.0                     0.0   \n",
       "      490                     0.0                     0.0   \n",
       "      560                    96.0                     0.0   \n",
       "      700                   102.0                     0.0   \n",
       "      840                     0.0                     0.0   \n",
       "Tyler 0                       NaN                     NaN   \n",
       "      70                      0.0                     0.0   \n",
       "      140                     0.0                     0.0   \n",
       "      210                     0.0                     0.0   \n",
       "      280                     0.0                     0.0   \n",
       "      350                     0.0                     0.0   \n",
       "\n",
       "           fields__oSets__totalA4  fields__oSets__totalSets  \n",
       "Erl   0                       NaN                       1.0  \n",
       "      70                      0.0                       1.0  \n",
       "      140                     0.0                       1.0  \n",
       "      210                     0.0                       2.0  \n",
       "      350                     0.0                       2.0  \n",
       "      490                     0.0                       1.0  \n",
       "      560                     0.0                       2.0  \n",
       "      700                     0.0                       2.0  \n",
       "      840                     0.0                       1.0  \n",
       "Tyler 0                       NaN                       1.0  \n",
       "      70                      0.0                       1.0  \n",
       "      140                     0.0                       1.0  \n",
       "      210                     0.0                       1.0  \n",
       "      280                     0.0                       1.0  \n",
       "      350                     0.0                       1.0  "
      ]
     },
     "metadata": {},
     "output_type": "display_data"
    }
   ],
   "source": [
    "sets = data[date_column.notnull()][sets_columns_names]\n",
    "display(sets.head(15))"
   ]
  },
  {
   "cell_type": "markdown",
   "metadata": {},
   "source": [
    "Now, we can repeat this technique to get all the other data sections!"
   ]
  },
  {
   "cell_type": "markdown",
   "metadata": {},
   "source": [
    "### Outputting cleaner data"
   ]
  },
  {
   "cell_type": "markdown",
   "metadata": {},
   "source": [
    "To finish up, we should refer to that visualization of grouped columns, and start building a repeatable set of steps to grab the data from each section and relate them to each other before continuing on to the next set of nested sections in the DataFrame. As we grab sections and their related sub-sections, we can toss them into another DataFrame that will ultimately represent the same information in a cleaner form.\n",
    "\n",
    "Because we're doing this programmatically, we can apply those repeatable steps as functions, in a loop. No manual slogging required. Hit play and relax, it'll be done before you can say \"ahhh yeee\"!"
   ]
  },
  {
   "cell_type": "markdown",
   "metadata": {},
   "source": [
    "# Analyzing sections and subsections"
   ]
  },
  {
   "cell_type": "markdown",
   "metadata": {},
   "source": [
    "For each section, I'd like to open with a summary. In my mind, this would include a picture of what's at the node. If any of these exist, let's see:\n",
    "\n",
    "- Description of this data series\n",
    "- Names of all related data series grouped here\n",
    "- Names of all subsections that go deeper\n",
    "\n",
    "Rather than repeating the same commands for each section, let's make a function that does all that, so we can just call it once for each section."
   ]
  },
  {
   "cell_type": "code",
   "execution_count": 71,
   "metadata": {
    "ExecuteTime": {
     "end_time": "2018-04-17T19:35:32.181002Z",
     "start_time": "2018-04-17T19:35:32.156504Z"
    }
   },
   "outputs": [],
   "source": [
    "def summarize_node(node):\n",
    "    reports = {\"Data nodes\": child_data(node),\n",
    "               \"Subsections\": child_children(node)}\n",
    "    report_frames = [\n",
    "        pandas.Series(data=list(value.keys()), name=key)\n",
    "        for key, value in reports.items()\n",
    "        if value  # (not empty)\n",
    "    ]\n",
    "    if has_data(node):\n",
    "        display(node[DATA].describe().to_frame())  # looks nicer as frame\n",
    "    for series in report_frames:\n",
    "        display(series.to_frame().T)  # easier to read in landscape orientation\n"
   ]
  },
  {
   "cell_type": "markdown",
   "metadata": {},
   "source": [
    "# Appendix: Annotated Data Structure"
   ]
  },
  {
   "cell_type": "markdown",
   "metadata": {},
   "source": [
    "After summarizing, I'll describe the purpose of each section and its relationship to the others."
   ]
  },
  {
   "cell_type": "markdown",
   "metadata": {},
   "source": [
    "## Section: `clients`"
   ]
  },
  {
   "cell_type": "code",
   "execution_count": 72,
   "metadata": {
    "ExecuteTime": {
     "end_time": "2018-04-17T19:35:35.023838Z",
     "start_time": "2018-04-17T19:35:35.000302Z"
    }
   },
   "outputs": [
    {
     "data": {
      "text/html": [
       "<div>\n",
       "<style scoped>\n",
       "    .dataframe tbody tr th:only-of-type {\n",
       "        vertical-align: middle;\n",
       "    }\n",
       "\n",
       "    .dataframe tbody tr th {\n",
       "        vertical-align: top;\n",
       "    }\n",
       "\n",
       "    .dataframe thead th {\n",
       "        text-align: right;\n",
       "    }\n",
       "</style>\n",
       "<table border=\"1\" class=\"dataframe\">\n",
       "  <thead>\n",
       "    <tr style=\"text-align: right;\">\n",
       "      <th></th>\n",
       "      <th>0</th>\n",
       "      <th>1</th>\n",
       "      <th>2</th>\n",
       "      <th>3</th>\n",
       "      <th>4</th>\n",
       "    </tr>\n",
       "  </thead>\n",
       "  <tbody>\n",
       "    <tr>\n",
       "      <th>Data nodes</th>\n",
       "      <td>company</td>\n",
       "      <td>displayText</td>\n",
       "      <td>fname</td>\n",
       "      <td>lname</td>\n",
       "      <td>name</td>\n",
       "    </tr>\n",
       "  </tbody>\n",
       "</table>\n",
       "</div>"
      ],
      "text/plain": [
       "                  0            1      2      3     4\n",
       "Data nodes  company  displayText  fname  lname  name"
      ]
     },
     "metadata": {},
     "output_type": "display_data"
    }
   ],
   "source": [
    "clients_node = column_dictionary['clients']\n",
    "summarize_node(clients_node)"
   ]
  },
  {
   "cell_type": "markdown",
   "metadata": {},
   "source": [
    "## Section: `observers`"
   ]
  },
  {
   "cell_type": "code",
   "execution_count": 73,
   "metadata": {
    "ExecuteTime": {
     "end_time": "2018-04-17T19:35:35.919189Z",
     "start_time": "2018-04-17T19:35:35.890849Z"
    }
   },
   "outputs": [
    {
     "data": {
      "text/html": [
       "<div>\n",
       "<style scoped>\n",
       "    .dataframe tbody tr th:only-of-type {\n",
       "        vertical-align: middle;\n",
       "    }\n",
       "\n",
       "    .dataframe tbody tr th {\n",
       "        vertical-align: top;\n",
       "    }\n",
       "\n",
       "    .dataframe thead th {\n",
       "        text-align: right;\n",
       "    }\n",
       "</style>\n",
       "<table border=\"1\" class=\"dataframe\">\n",
       "  <thead>\n",
       "    <tr style=\"text-align: right;\">\n",
       "      <th></th>\n",
       "      <th>observers</th>\n",
       "    </tr>\n",
       "  </thead>\n",
       "  <tbody>\n",
       "    <tr>\n",
       "      <th>count</th>\n",
       "      <td>3</td>\n",
       "    </tr>\n",
       "    <tr>\n",
       "      <th>unique</th>\n",
       "      <td>3</td>\n",
       "    </tr>\n",
       "    <tr>\n",
       "      <th>top</th>\n",
       "      <td>Stean</td>\n",
       "    </tr>\n",
       "    <tr>\n",
       "      <th>freq</th>\n",
       "      <td>1</td>\n",
       "    </tr>\n",
       "  </tbody>\n",
       "</table>\n",
       "</div>"
      ],
      "text/plain": [
       "       observers\n",
       "count          3\n",
       "unique         3\n",
       "top        Stean\n",
       "freq           1"
      ]
     },
     "metadata": {},
     "output_type": "display_data"
    }
   ],
   "source": [
    "observers_node = column_dictionary['observers']\n",
    "summarize_node(observers_node)"
   ]
  },
  {
   "cell_type": "markdown",
   "metadata": {},
   "source": [
    "## Section: `fields`"
   ]
  },
  {
   "cell_type": "code",
   "execution_count": 74,
   "metadata": {
    "ExecuteTime": {
     "end_time": "2018-04-17T19:35:36.822383Z",
     "start_time": "2018-04-17T19:35:36.777679Z"
    }
   },
   "outputs": [
    {
     "name": "stdout",
     "output_type": "stream",
     "text": [
      "client/\n",
      "oSets/\n",
      ".   oPoints/\n",
      ".   .   location/\n",
      ".   .   .   coords/\n",
      ".   .   observations/\n",
      ".   .   .   a1/\n",
      ".   .   .   a2/\n",
      ".   .   .   a3/\n",
      ".   .   .   * |/\n"
     ]
    },
    {
     "data": {
      "text/html": [
       "<div>\n",
       "<style scoped>\n",
       "    .dataframe tbody tr th:only-of-type {\n",
       "        vertical-align: middle;\n",
       "    }\n",
       "\n",
       "    .dataframe tbody tr th {\n",
       "        vertical-align: top;\n",
       "    }\n",
       "\n",
       "    .dataframe thead th {\n",
       "        text-align: right;\n",
       "    }\n",
       "</style>\n",
       "<table border=\"1\" class=\"dataframe\">\n",
       "  <thead>\n",
       "    <tr style=\"text-align: right;\">\n",
       "      <th></th>\n",
       "      <th>0</th>\n",
       "      <th>1</th>\n",
       "      <th>2</th>\n",
       "      <th>3</th>\n",
       "      <th>4</th>\n",
       "    </tr>\n",
       "  </thead>\n",
       "  <tbody>\n",
       "    <tr>\n",
       "      <th>Data nodes</th>\n",
       "      <td>crop</td>\n",
       "      <td>date</td>\n",
       "      <td>desc</td>\n",
       "      <td>image</td>\n",
       "      <td>name</td>\n",
       "    </tr>\n",
       "  </tbody>\n",
       "</table>\n",
       "</div>"
      ],
      "text/plain": [
       "               0     1     2      3     4\n",
       "Data nodes  crop  date  desc  image  name"
      ]
     },
     "metadata": {},
     "output_type": "display_data"
    },
    {
     "data": {
      "text/html": [
       "<div>\n",
       "<style scoped>\n",
       "    .dataframe tbody tr th:only-of-type {\n",
       "        vertical-align: middle;\n",
       "    }\n",
       "\n",
       "    .dataframe tbody tr th {\n",
       "        vertical-align: top;\n",
       "    }\n",
       "\n",
       "    .dataframe thead th {\n",
       "        text-align: right;\n",
       "    }\n",
       "</style>\n",
       "<table border=\"1\" class=\"dataframe\">\n",
       "  <thead>\n",
       "    <tr style=\"text-align: right;\">\n",
       "      <th></th>\n",
       "      <th>0</th>\n",
       "      <th>1</th>\n",
       "    </tr>\n",
       "  </thead>\n",
       "  <tbody>\n",
       "    <tr>\n",
       "      <th>Subsections</th>\n",
       "      <td>client</td>\n",
       "      <td>oSets</td>\n",
       "    </tr>\n",
       "  </tbody>\n",
       "</table>\n",
       "</div>"
      ],
      "text/plain": [
       "                  0      1\n",
       "Subsections  client  oSets"
      ]
     },
     "metadata": {},
     "output_type": "display_data"
    }
   ],
   "source": [
    "fields_node = column_dictionary['fields']\n",
    "visualize_tree(fields_node, show_leaf_nodes=False)\n",
    "summarize_node(fields_node)"
   ]
  },
  {
   "cell_type": "markdown",
   "metadata": {},
   "source": [
    "### `fields` Subsection: `client`"
   ]
  },
  {
   "cell_type": "code",
   "execution_count": 75,
   "metadata": {
    "ExecuteTime": {
     "end_time": "2018-04-17T19:35:37.740787Z",
     "start_time": "2018-04-17T19:35:37.716332Z"
    }
   },
   "outputs": [
    {
     "data": {
      "text/html": [
       "<div>\n",
       "<style scoped>\n",
       "    .dataframe tbody tr th:only-of-type {\n",
       "        vertical-align: middle;\n",
       "    }\n",
       "\n",
       "    .dataframe tbody tr th {\n",
       "        vertical-align: top;\n",
       "    }\n",
       "\n",
       "    .dataframe thead th {\n",
       "        text-align: right;\n",
       "    }\n",
       "</style>\n",
       "<table border=\"1\" class=\"dataframe\">\n",
       "  <thead>\n",
       "    <tr style=\"text-align: right;\">\n",
       "      <th></th>\n",
       "      <th>0</th>\n",
       "      <th>1</th>\n",
       "      <th>2</th>\n",
       "      <th>3</th>\n",
       "      <th>4</th>\n",
       "    </tr>\n",
       "  </thead>\n",
       "  <tbody>\n",
       "    <tr>\n",
       "      <th>Data nodes</th>\n",
       "      <td>company</td>\n",
       "      <td>displayText</td>\n",
       "      <td>fname</td>\n",
       "      <td>lname</td>\n",
       "      <td>name</td>\n",
       "    </tr>\n",
       "  </tbody>\n",
       "</table>\n",
       "</div>"
      ],
      "text/plain": [
       "                  0            1      2      3     4\n",
       "Data nodes  company  displayText  fname  lname  name"
      ]
     },
     "metadata": {},
     "output_type": "display_data"
    }
   ],
   "source": [
    "field_client_node = fields_node['client']\n",
    "summarize_node(field_client_node)"
   ]
  },
  {
   "cell_type": "markdown",
   "metadata": {},
   "source": [
    "### `fields` Subsection: `oSets`"
   ]
  },
  {
   "cell_type": "code",
   "execution_count": 76,
   "metadata": {
    "ExecuteTime": {
     "end_time": "2018-04-17T19:35:38.653473Z",
     "start_time": "2018-04-17T19:35:38.593966Z"
    }
   },
   "outputs": [
    {
     "name": "stdout",
     "output_type": "stream",
     "text": [
      "oPoints/\n",
      ".   location/\n",
      ".   .   coords/\n",
      ".   observations/\n",
      ".   .   a1/\n",
      ".   .   a2/\n",
      ".   .   a3/\n",
      ".   .   * |/\n"
     ]
    },
    {
     "data": {
      "text/html": [
       "<div>\n",
       "<style scoped>\n",
       "    .dataframe tbody tr th:only-of-type {\n",
       "        vertical-align: middle;\n",
       "    }\n",
       "\n",
       "    .dataframe tbody tr th {\n",
       "        vertical-align: top;\n",
       "    }\n",
       "\n",
       "    .dataframe thead th {\n",
       "        text-align: right;\n",
       "    }\n",
       "</style>\n",
       "<table border=\"1\" class=\"dataframe\">\n",
       "  <thead>\n",
       "    <tr style=\"text-align: right;\">\n",
       "      <th></th>\n",
       "      <th>0</th>\n",
       "      <th>1</th>\n",
       "      <th>2</th>\n",
       "      <th>3</th>\n",
       "      <th>4</th>\n",
       "      <th>5</th>\n",
       "      <th>6</th>\n",
       "      <th>7</th>\n",
       "      <th>8</th>\n",
       "      <th>9</th>\n",
       "      <th>10</th>\n",
       "      <th>11</th>\n",
       "    </tr>\n",
       "  </thead>\n",
       "  <tbody>\n",
       "    <tr>\n",
       "      <th>Data nodes</th>\n",
       "      <td>completeSets</td>\n",
       "      <td>date</td>\n",
       "      <td>dateCompare</td>\n",
       "      <td>desc</td>\n",
       "      <td>growthStage</td>\n",
       "      <td>obsName</td>\n",
       "      <td>results</td>\n",
       "      <td>totalA1</td>\n",
       "      <td>totalA2</td>\n",
       "      <td>totalA3</td>\n",
       "      <td>totalA4</td>\n",
       "      <td>totalSets</td>\n",
       "    </tr>\n",
       "  </tbody>\n",
       "</table>\n",
       "</div>"
      ],
      "text/plain": [
       "                      0     1            2     3            4        5   \\\n",
       "Data nodes  completeSets  date  dateCompare  desc  growthStage  obsName   \n",
       "\n",
       "                 6        7        8        9        10         11  \n",
       "Data nodes  results  totalA1  totalA2  totalA3  totalA4  totalSets  "
      ]
     },
     "metadata": {},
     "output_type": "display_data"
    },
    {
     "data": {
      "text/html": [
       "<div>\n",
       "<style scoped>\n",
       "    .dataframe tbody tr th:only-of-type {\n",
       "        vertical-align: middle;\n",
       "    }\n",
       "\n",
       "    .dataframe tbody tr th {\n",
       "        vertical-align: top;\n",
       "    }\n",
       "\n",
       "    .dataframe thead th {\n",
       "        text-align: right;\n",
       "    }\n",
       "</style>\n",
       "<table border=\"1\" class=\"dataframe\">\n",
       "  <thead>\n",
       "    <tr style=\"text-align: right;\">\n",
       "      <th></th>\n",
       "      <th>0</th>\n",
       "    </tr>\n",
       "  </thead>\n",
       "  <tbody>\n",
       "    <tr>\n",
       "      <th>Subsections</th>\n",
       "      <td>oPoints</td>\n",
       "    </tr>\n",
       "  </tbody>\n",
       "</table>\n",
       "</div>"
      ],
      "text/plain": [
       "                   0\n",
       "Subsections  oPoints"
      ]
     },
     "metadata": {},
     "output_type": "display_data"
    }
   ],
   "source": [
    "osets_node = fields_node['oSets']\n",
    "visualize_tree(osets_node, show_leaf_nodes=False)\n",
    "summarize_node(osets_node)"
   ]
  },
  {
   "cell_type": "markdown",
   "metadata": {},
   "source": [
    "### `oSets` Subsection: `oPoints`"
   ]
  },
  {
   "cell_type": "code",
   "execution_count": 77,
   "metadata": {
    "ExecuteTime": {
     "end_time": "2018-04-17T19:35:39.617855Z",
     "start_time": "2018-04-17T19:35:39.549641Z"
    }
   },
   "outputs": [
    {
     "name": "stdout",
     "output_type": "stream",
     "text": [
      "location/\n",
      ".   coords/\n",
      "observations/\n",
      ".   a1/\n",
      ".   a2/\n",
      ".   a3/\n",
      ".   * |/\n"
     ]
    },
    {
     "data": {
      "text/html": [
       "<div>\n",
       "<style scoped>\n",
       "    .dataframe tbody tr th:only-of-type {\n",
       "        vertical-align: middle;\n",
       "    }\n",
       "\n",
       "    .dataframe tbody tr th {\n",
       "        vertical-align: top;\n",
       "    }\n",
       "\n",
       "    .dataframe thead th {\n",
       "        text-align: right;\n",
       "    }\n",
       "</style>\n",
       "<table border=\"1\" class=\"dataframe\">\n",
       "  <thead>\n",
       "    <tr style=\"text-align: right;\">\n",
       "      <th></th>\n",
       "      <th>0</th>\n",
       "      <th>1</th>\n",
       "    </tr>\n",
       "  </thead>\n",
       "  <tbody>\n",
       "    <tr>\n",
       "      <th>Data nodes</th>\n",
       "      <td>id</td>\n",
       "      <td>name</td>\n",
       "    </tr>\n",
       "  </tbody>\n",
       "</table>\n",
       "</div>"
      ],
      "text/plain": [
       "             0     1\n",
       "Data nodes  id  name"
      ]
     },
     "metadata": {},
     "output_type": "display_data"
    },
    {
     "data": {
      "text/html": [
       "<div>\n",
       "<style scoped>\n",
       "    .dataframe tbody tr th:only-of-type {\n",
       "        vertical-align: middle;\n",
       "    }\n",
       "\n",
       "    .dataframe tbody tr th {\n",
       "        vertical-align: top;\n",
       "    }\n",
       "\n",
       "    .dataframe thead th {\n",
       "        text-align: right;\n",
       "    }\n",
       "</style>\n",
       "<table border=\"1\" class=\"dataframe\">\n",
       "  <thead>\n",
       "    <tr style=\"text-align: right;\">\n",
       "      <th></th>\n",
       "      <th>0</th>\n",
       "      <th>1</th>\n",
       "    </tr>\n",
       "  </thead>\n",
       "  <tbody>\n",
       "    <tr>\n",
       "      <th>Subsections</th>\n",
       "      <td>location</td>\n",
       "      <td>observations</td>\n",
       "    </tr>\n",
       "  </tbody>\n",
       "</table>\n",
       "</div>"
      ],
      "text/plain": [
       "                    0             1\n",
       "Subsections  location  observations"
      ]
     },
     "metadata": {},
     "output_type": "display_data"
    }
   ],
   "source": [
    "opoints_node = osets_node['oPoints']\n",
    "visualize_tree(opoints_node, show_leaf_nodes=False)\n",
    "summarize_node(opoints_node)"
   ]
  },
  {
   "cell_type": "markdown",
   "metadata": {},
   "source": [
    "#### `oPoints` Subsection: `location`"
   ]
  },
  {
   "cell_type": "code",
   "execution_count": 78,
   "metadata": {
    "ExecuteTime": {
     "end_time": "2018-04-17T19:35:40.618616Z",
     "start_time": "2018-04-17T19:35:40.580334Z"
    }
   },
   "outputs": [
    {
     "name": "stdout",
     "output_type": "stream",
     "text": [
      "coords/\n",
      ".   * accuracy\n",
      ".   * altitude\n",
      ".   * altitudeAccuracy\n",
      ".   * heading\n",
      ".   * latitude\n",
      ".   * longitude\n",
      ".   * speed\n",
      "* timestamp\n"
     ]
    },
    {
     "data": {
      "text/html": [
       "<div>\n",
       "<style scoped>\n",
       "    .dataframe tbody tr th:only-of-type {\n",
       "        vertical-align: middle;\n",
       "    }\n",
       "\n",
       "    .dataframe tbody tr th {\n",
       "        vertical-align: top;\n",
       "    }\n",
       "\n",
       "    .dataframe thead th {\n",
       "        text-align: right;\n",
       "    }\n",
       "</style>\n",
       "<table border=\"1\" class=\"dataframe\">\n",
       "  <thead>\n",
       "    <tr style=\"text-align: right;\">\n",
       "      <th></th>\n",
       "      <th>0</th>\n",
       "    </tr>\n",
       "  </thead>\n",
       "  <tbody>\n",
       "    <tr>\n",
       "      <th>Data nodes</th>\n",
       "      <td>timestamp</td>\n",
       "    </tr>\n",
       "  </tbody>\n",
       "</table>\n",
       "</div>"
      ],
      "text/plain": [
       "                    0\n",
       "Data nodes  timestamp"
      ]
     },
     "metadata": {},
     "output_type": "display_data"
    },
    {
     "data": {
      "text/html": [
       "<div>\n",
       "<style scoped>\n",
       "    .dataframe tbody tr th:only-of-type {\n",
       "        vertical-align: middle;\n",
       "    }\n",
       "\n",
       "    .dataframe tbody tr th {\n",
       "        vertical-align: top;\n",
       "    }\n",
       "\n",
       "    .dataframe thead th {\n",
       "        text-align: right;\n",
       "    }\n",
       "</style>\n",
       "<table border=\"1\" class=\"dataframe\">\n",
       "  <thead>\n",
       "    <tr style=\"text-align: right;\">\n",
       "      <th></th>\n",
       "      <th>0</th>\n",
       "    </tr>\n",
       "  </thead>\n",
       "  <tbody>\n",
       "    <tr>\n",
       "      <th>Subsections</th>\n",
       "      <td>coords</td>\n",
       "    </tr>\n",
       "  </tbody>\n",
       "</table>\n",
       "</div>"
      ],
      "text/plain": [
       "                  0\n",
       "Subsections  coords"
      ]
     },
     "metadata": {},
     "output_type": "display_data"
    }
   ],
   "source": [
    "location_node = opoints_node['location']\n",
    "visualize_tree(location_node)\n",
    "summarize_node(location_node)"
   ]
  },
  {
   "cell_type": "markdown",
   "metadata": {},
   "source": [
    "##### `location` Subsection: `coords`"
   ]
  },
  {
   "cell_type": "code",
   "execution_count": 79,
   "metadata": {
    "ExecuteTime": {
     "end_time": "2018-04-17T19:35:41.547200Z",
     "start_time": "2018-04-17T19:35:41.518155Z"
    }
   },
   "outputs": [
    {
     "data": {
      "text/html": [
       "<div>\n",
       "<style scoped>\n",
       "    .dataframe tbody tr th:only-of-type {\n",
       "        vertical-align: middle;\n",
       "    }\n",
       "\n",
       "    .dataframe tbody tr th {\n",
       "        vertical-align: top;\n",
       "    }\n",
       "\n",
       "    .dataframe thead th {\n",
       "        text-align: right;\n",
       "    }\n",
       "</style>\n",
       "<table border=\"1\" class=\"dataframe\">\n",
       "  <thead>\n",
       "    <tr style=\"text-align: right;\">\n",
       "      <th></th>\n",
       "      <th>0</th>\n",
       "      <th>1</th>\n",
       "      <th>2</th>\n",
       "      <th>3</th>\n",
       "      <th>4</th>\n",
       "      <th>5</th>\n",
       "      <th>6</th>\n",
       "    </tr>\n",
       "  </thead>\n",
       "  <tbody>\n",
       "    <tr>\n",
       "      <th>Data nodes</th>\n",
       "      <td>accuracy</td>\n",
       "      <td>altitude</td>\n",
       "      <td>altitudeAccuracy</td>\n",
       "      <td>heading</td>\n",
       "      <td>latitude</td>\n",
       "      <td>longitude</td>\n",
       "      <td>speed</td>\n",
       "    </tr>\n",
       "  </tbody>\n",
       "</table>\n",
       "</div>"
      ],
      "text/plain": [
       "                   0         1                 2        3         4  \\\n",
       "Data nodes  accuracy  altitude  altitudeAccuracy  heading  latitude   \n",
       "\n",
       "                    5      6  \n",
       "Data nodes  longitude  speed  "
      ]
     },
     "metadata": {},
     "output_type": "display_data"
    }
   ],
   "source": [
    "coords_node = location_node['coords']\n",
    "summarize_node(coords_node)"
   ]
  },
  {
   "cell_type": "markdown",
   "metadata": {},
   "source": [
    "#### `oPoints` Subsection: `observations`"
   ]
  },
  {
   "cell_type": "code",
   "execution_count": 80,
   "metadata": {
    "ExecuteTime": {
     "end_time": "2018-04-17T19:35:42.591482Z",
     "start_time": "2018-04-17T19:35:42.517327Z"
    }
   },
   "outputs": [
    {
     "name": "stdout",
     "output_type": "stream",
     "text": [
      "a1/\n",
      ".   * number\n",
      "a2/\n",
      ".   * number\n",
      "a3/\n",
      ".   * number\n",
      "* anum\n",
      "* complete\n",
      "* disabled\n",
      "* eVnum\n",
      "* enum\n",
      "* id\n",
      "* name\n",
      "* |/\n",
      ".   * number\n"
     ]
    },
    {
     "data": {
      "text/html": [
       "<div>\n",
       "<style scoped>\n",
       "    .dataframe tbody tr th:only-of-type {\n",
       "        vertical-align: middle;\n",
       "    }\n",
       "\n",
       "    .dataframe tbody tr th {\n",
       "        vertical-align: top;\n",
       "    }\n",
       "\n",
       "    .dataframe thead th {\n",
       "        text-align: right;\n",
       "    }\n",
       "</style>\n",
       "<table border=\"1\" class=\"dataframe\">\n",
       "  <thead>\n",
       "    <tr style=\"text-align: right;\">\n",
       "      <th></th>\n",
       "      <th>0</th>\n",
       "      <th>1</th>\n",
       "      <th>2</th>\n",
       "      <th>3</th>\n",
       "      <th>4</th>\n",
       "      <th>5</th>\n",
       "      <th>6</th>\n",
       "      <th>7</th>\n",
       "    </tr>\n",
       "  </thead>\n",
       "  <tbody>\n",
       "    <tr>\n",
       "      <th>Data nodes</th>\n",
       "      <td>anum</td>\n",
       "      <td>complete</td>\n",
       "      <td>disabled</td>\n",
       "      <td>eVnum</td>\n",
       "      <td>enum</td>\n",
       "      <td>id</td>\n",
       "      <td>name</td>\n",
       "      <td>|</td>\n",
       "    </tr>\n",
       "  </tbody>\n",
       "</table>\n",
       "</div>"
      ],
      "text/plain": [
       "               0         1         2      3     4   5     6  7\n",
       "Data nodes  anum  complete  disabled  eVnum  enum  id  name  |"
      ]
     },
     "metadata": {},
     "output_type": "display_data"
    },
    {
     "data": {
      "text/html": [
       "<div>\n",
       "<style scoped>\n",
       "    .dataframe tbody tr th:only-of-type {\n",
       "        vertical-align: middle;\n",
       "    }\n",
       "\n",
       "    .dataframe tbody tr th {\n",
       "        vertical-align: top;\n",
       "    }\n",
       "\n",
       "    .dataframe thead th {\n",
       "        text-align: right;\n",
       "    }\n",
       "</style>\n",
       "<table border=\"1\" class=\"dataframe\">\n",
       "  <thead>\n",
       "    <tr style=\"text-align: right;\">\n",
       "      <th></th>\n",
       "      <th>0</th>\n",
       "      <th>1</th>\n",
       "      <th>2</th>\n",
       "      <th>3</th>\n",
       "    </tr>\n",
       "  </thead>\n",
       "  <tbody>\n",
       "    <tr>\n",
       "      <th>Subsections</th>\n",
       "      <td>a1</td>\n",
       "      <td>a2</td>\n",
       "      <td>a3</td>\n",
       "      <td>|</td>\n",
       "    </tr>\n",
       "  </tbody>\n",
       "</table>\n",
       "</div>"
      ],
      "text/plain": [
       "              0   1   2  3\n",
       "Subsections  a1  a2  a3  |"
      ]
     },
     "metadata": {},
     "output_type": "display_data"
    }
   ],
   "source": [
    "observations_node = opoints_node['observations']\n",
    "visualize_tree(observations_node)\n",
    "summarize_node(observations_node)"
   ]
  },
  {
   "cell_type": "markdown",
   "metadata": {},
   "source": [
    "##### `observations` Subsections: `a1`, `a2`, `a3`"
   ]
  },
  {
   "cell_type": "code",
   "execution_count": 81,
   "metadata": {
    "ExecuteTime": {
     "end_time": "2018-04-17T19:35:43.535288Z",
     "start_time": "2018-04-17T19:35:43.508564Z"
    }
   },
   "outputs": [
    {
     "data": {
      "text/html": [
       "<div>\n",
       "<style scoped>\n",
       "    .dataframe tbody tr th:only-of-type {\n",
       "        vertical-align: middle;\n",
       "    }\n",
       "\n",
       "    .dataframe tbody tr th {\n",
       "        vertical-align: top;\n",
       "    }\n",
       "\n",
       "    .dataframe thead th {\n",
       "        text-align: right;\n",
       "    }\n",
       "</style>\n",
       "<table border=\"1\" class=\"dataframe\">\n",
       "  <thead>\n",
       "    <tr style=\"text-align: right;\">\n",
       "      <th></th>\n",
       "      <th>0</th>\n",
       "    </tr>\n",
       "  </thead>\n",
       "  <tbody>\n",
       "    <tr>\n",
       "      <th>Data nodes</th>\n",
       "      <td>number</td>\n",
       "    </tr>\n",
       "  </tbody>\n",
       "</table>\n",
       "</div>"
      ],
      "text/plain": [
       "                 0\n",
       "Data nodes  number"
      ]
     },
     "metadata": {},
     "output_type": "display_data"
    }
   ],
   "source": [
    "summarize_node(observations_node['a1'])"
   ]
  },
  {
   "cell_type": "markdown",
   "metadata": {},
   "source": [
    "##### `observations` Subsection: `|` (natural enemies)"
   ]
  },
  {
   "cell_type": "code",
   "execution_count": 82,
   "metadata": {
    "ExecuteTime": {
     "end_time": "2018-04-17T19:35:44.590026Z",
     "start_time": "2018-04-17T19:35:44.549717Z"
    }
   },
   "outputs": [
    {
     "data": {
      "text/html": [
       "<div>\n",
       "<style scoped>\n",
       "    .dataframe tbody tr th:only-of-type {\n",
       "        vertical-align: middle;\n",
       "    }\n",
       "\n",
       "    .dataframe tbody tr th {\n",
       "        vertical-align: top;\n",
       "    }\n",
       "\n",
       "    .dataframe thead th {\n",
       "        text-align: right;\n",
       "    }\n",
       "</style>\n",
       "<table border=\"1\" class=\"dataframe\">\n",
       "  <thead>\n",
       "    <tr style=\"text-align: right;\">\n",
       "      <th></th>\n",
       "      <th>fields__oSets__oPoints__observations__|</th>\n",
       "    </tr>\n",
       "  </thead>\n",
       "  <tbody>\n",
       "    <tr>\n",
       "      <th>count</th>\n",
       "      <td>3015</td>\n",
       "    </tr>\n",
       "    <tr>\n",
       "      <th>unique</th>\n",
       "      <td>9</td>\n",
       "    </tr>\n",
       "    <tr>\n",
       "      <th>top</th>\n",
       "      <td>e7</td>\n",
       "    </tr>\n",
       "    <tr>\n",
       "      <th>freq</th>\n",
       "      <td>335</td>\n",
       "    </tr>\n",
       "  </tbody>\n",
       "</table>\n",
       "</div>"
      ],
      "text/plain": [
       "       fields__oSets__oPoints__observations__|\n",
       "count                                     3015\n",
       "unique                                       9\n",
       "top                                         e7\n",
       "freq                                       335"
      ]
     },
     "metadata": {},
     "output_type": "display_data"
    },
    {
     "data": {
      "text/html": [
       "<div>\n",
       "<style scoped>\n",
       "    .dataframe tbody tr th:only-of-type {\n",
       "        vertical-align: middle;\n",
       "    }\n",
       "\n",
       "    .dataframe tbody tr th {\n",
       "        vertical-align: top;\n",
       "    }\n",
       "\n",
       "    .dataframe thead th {\n",
       "        text-align: right;\n",
       "    }\n",
       "</style>\n",
       "<table border=\"1\" class=\"dataframe\">\n",
       "  <thead>\n",
       "    <tr style=\"text-align: right;\">\n",
       "      <th></th>\n",
       "      <th>0</th>\n",
       "    </tr>\n",
       "  </thead>\n",
       "  <tbody>\n",
       "    <tr>\n",
       "      <th>Data nodes</th>\n",
       "      <td>number</td>\n",
       "    </tr>\n",
       "  </tbody>\n",
       "</table>\n",
       "</div>"
      ],
      "text/plain": [
       "                 0\n",
       "Data nodes  number"
      ]
     },
     "metadata": {},
     "output_type": "display_data"
    }
   ],
   "source": [
    "natural_enemies_node = observations_node['|']\n",
    "summarize_node(natural_enemies_node)"
   ]
  },
  {
   "cell_type": "markdown",
   "metadata": {},
   "source": [
    "All possible values of `|`, which are the identities of the natural enemies:"
   ]
  },
  {
   "cell_type": "code",
   "execution_count": 83,
   "metadata": {
    "ExecuteTime": {
     "end_time": "2018-04-17T19:35:45.565533Z",
     "start_time": "2018-04-17T19:35:45.534832Z"
    }
   },
   "outputs": [
    {
     "data": {
      "text/html": [
       "<div>\n",
       "<style scoped>\n",
       "    .dataframe tbody tr th:only-of-type {\n",
       "        vertical-align: middle;\n",
       "    }\n",
       "\n",
       "    .dataframe tbody tr th {\n",
       "        vertical-align: top;\n",
       "    }\n",
       "\n",
       "    .dataframe thead th {\n",
       "        text-align: right;\n",
       "    }\n",
       "</style>\n",
       "<table border=\"1\" class=\"dataframe\">\n",
       "  <thead>\n",
       "    <tr style=\"text-align: right;\">\n",
       "      <th></th>\n",
       "      <th>0</th>\n",
       "      <th>1</th>\n",
       "      <th>2</th>\n",
       "      <th>3</th>\n",
       "      <th>4</th>\n",
       "      <th>5</th>\n",
       "      <th>6</th>\n",
       "      <th>7</th>\n",
       "      <th>8</th>\n",
       "    </tr>\n",
       "  </thead>\n",
       "  <tbody>\n",
       "    <tr>\n",
       "      <th>0</th>\n",
       "      <td>e1</td>\n",
       "      <td>e2</td>\n",
       "      <td>e3</td>\n",
       "      <td>e4</td>\n",
       "      <td>e5</td>\n",
       "      <td>e6</td>\n",
       "      <td>e7</td>\n",
       "      <td>e8</td>\n",
       "      <td>e9</td>\n",
       "    </tr>\n",
       "  </tbody>\n",
       "</table>\n",
       "</div>"
      ],
      "text/plain": [
       "    0   1   2   3   4   5   6   7   8\n",
       "0  e1  e2  e3  e4  e5  e6  e7  e8  e9"
      ]
     },
     "execution_count": 83,
     "metadata": {},
     "output_type": "execute_result"
    }
   ],
   "source": [
    "pandas.DataFrame(observations_node['|'][DATA].dropna().unique()).T"
   ]
  }
 ],
 "metadata": {
  "gist": {
   "data": {
    "description": "chunked parsing — 2017 CAM data from iPads.ipynb",
    "public": false
   },
   "id": ""
  },
  "hide_input": false,
  "kernelspec": {
   "display_name": "Python 3",
   "language": "python",
   "name": "python3"
  },
  "language_info": {
   "codemirror_mode": {
    "name": "ipython",
    "version": 3
   },
   "file_extension": ".py",
   "mimetype": "text/x-python",
   "name": "python",
   "nbconvert_exporter": "python",
   "pygments_lexer": "ipython3",
   "version": "3.6.3"
  },
  "nbTranslate": {
   "displayLangs": [
    "*"
   ],
   "hotkey": "alt-t",
   "langInMainMenu": true,
   "sourceLang": "en",
   "targetLang": "fr",
   "useGoogleTranslate": true
  },
  "toc": {
   "base_numbering": "1",
   "nav_menu": {
    "height": "774px",
    "width": "487px"
   },
   "number_sections": false,
   "sideBar": true,
   "skip_h1_title": false,
   "title_cell": "Table of Contents",
   "title_sidebar": "Contents",
   "toc_cell": true,
   "toc_position": {},
   "toc_section_display": true,
   "toc_window_display": true
  },
  "varInspector": {
   "cols": {
    "lenName": 16,
    "lenType": 16,
    "lenVar": 40
   },
   "kernels_config": {
    "python": {
     "delete_cmd_postfix": "",
     "delete_cmd_prefix": "del ",
     "library": "var_list.py",
     "varRefreshCmd": "print(var_dic_list())"
    },
    "r": {
     "delete_cmd_postfix": ") ",
     "delete_cmd_prefix": "rm(",
     "library": "var_list.r",
     "varRefreshCmd": "cat(var_dic_list()) "
    }
   },
   "types_to_exclude": [
    "module",
    "function",
    "builtin_function_or_method",
    "instance",
    "_Feature"
   ],
   "window_display": false
  }
 },
 "nbformat": 4,
 "nbformat_minor": 2
}
