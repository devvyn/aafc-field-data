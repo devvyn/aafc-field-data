{
 "cells": [
  {
   "cell_type": "code",
   "execution_count": 1,
   "metadata": {},
   "outputs": [],
   "source": [
    "import pandas as pd"
   ]
  },
  {
   "cell_type": "code",
   "execution_count": 2,
   "metadata": {},
   "outputs": [],
   "source": [
    "data_file = pd.ExcelFile('./src/real data/2017 CAM data from iPads/2017 CAM data from iPads.xlsx')"
   ]
  },
  {
   "cell_type": "code",
   "execution_count": 3,
   "metadata": {},
   "outputs": [
    {
     "data": {
      "text/plain": [
       "['2017 CAM data Erl',\n",
       " 'schema (WIP reverse engineer)',\n",
       " '2017 CAM iPad data Tyler',\n",
       " 'Combined iPad 2017 CAM data']"
      ]
     },
     "execution_count": 3,
     "metadata": {},
     "output_type": "execute_result"
    }
   ],
   "source": [
    "data_file.sheet_names"
   ]
  },
  {
   "cell_type": "code",
   "execution_count": 4,
   "metadata": {},
   "outputs": [],
   "source": [
    "cam_combo_df = data_file.parse(_[0])"
   ]
  },
  {
   "cell_type": "code",
   "execution_count": 5,
   "metadata": {},
   "outputs": [
    {
     "name": "stdout",
     "output_type": "stream",
     "text": [
      "<class 'pandas.core.frame.DataFrame'>\n",
      "RangeIndex: 910 entries, 0 to 909\n",
      "Data columns (total 50 columns):\n",
      "fields__client__company                                             8 non-null object\n",
      "fields__client__name                                                8 non-null object\n",
      "fields__client__fname                                               8 non-null object\n",
      "fields__client__lname                                               8 non-null object\n",
      "fields__client__displayText                                         8 non-null object\n",
      "fields__name                                                        8 non-null object\n",
      "fields__crop                                                        8 non-null object\n",
      "fields__desc                                                        7 non-null object\n",
      "fields__image                                                       8 non-null object\n",
      "fields__date                                                        8 non-null object\n",
      "fields__oSets__date                                                 9 non-null object\n",
      "fields__oSets__dateCompare                                          9 non-null datetime64[ns]\n",
      "fields__oSets__growthStage Zadoks                                   9 non-null float64\n",
      "fields__oSets__desc                                                 0 non-null float64\n",
      "fields__oSets__obsName                                              9 non-null object\n",
      "fields__oSets__totalSets                                            9 non-null float64\n",
      "fields__oSets__completeSets                                         9 non-null float64\n",
      "fields__oSets__results                                              8 non-null object\n",
      "fields__oSets__oPoints__id                                          65 non-null float64\n",
      "fields__oSets__oPoints__name                                        65 non-null object\n",
      "fields__oSets__oPoints__observations__id                            390 non-null float64\n",
      "fields__oSets__oPoints__observations__name                          390 non-null object\n",
      "fields__oSets__oPoints__observations__enum                          65 non-null float64\n",
      "fields__oSets__oPoints__observations__eVnum Natural enemy totals    65 non-null float64\n",
      "fields__oSets__oPoints__observations__anum TotalAPhids              325 non-null float64\n",
      "fields__oSets__oPoints__observations__a1__number EGA                325 non-null object\n",
      "fields__oSets__oPoints__observations__a2__number BCO                325 non-null object\n",
      "fields__oSets__oPoints__observations__a3__number Greenbug           325 non-null object\n",
      "fields__oSets__oPoints__observations__disabled                      390 non-null object\n",
      "fields__oSets__oPoints__observations__complete                      390 non-null object\n",
      "fields__oSets__oPoints__observations__|                             585 non-null object\n",
      "fields__oSets__oPoints__observations__|__number                     585 non-null object\n",
      "fields__oSets__oPoints__location__coords__latitude                  56 non-null float64\n",
      "fields__oSets__oPoints__location__coords__longitude                 56 non-null float64\n",
      "fields__oSets__oPoints__location__coords__accuracy                  56 non-null float64\n",
      "fields__oSets__oPoints__location__coords__altitude                  56 non-null float64\n",
      "fields__oSets__oPoints__location__coords__heading                   56 non-null float64\n",
      "fields__oSets__oPoints__location__coords__speed                     56 non-null float64\n",
      "fields__oSets__oPoints__location__coords__altitudeAccuracy          56 non-null float64\n",
      "fields__oSets__oPoints__location__timestamp                         56 non-null float64\n",
      "fields__oSets__totalA1                                              8 non-null float64\n",
      "fields__oSets__totalA2                                              8 non-null float64\n",
      "fields__oSets__totalA3                                              8 non-null float64\n",
      "fields__oSets__totalA4                                              8 non-null float64\n",
      "clients__company                                                    0 non-null float64\n",
      "clients__name                                                       0 non-null float64\n",
      "clients__fname                                                      0 non-null float64\n",
      "clients__lname                                                      0 non-null float64\n",
      "clients__displayText                                                0 non-null float64\n",
      "observers                                                           0 non-null float64\n",
      "dtypes: datetime64[ns](1), float64(27), object(22)\n",
      "memory usage: 355.5+ KB\n"
     ]
    }
   ],
   "source": [
    "cam_combo_df.info()"
   ]
  },
  {
   "cell_type": "code",
   "execution_count": 6,
   "metadata": {},
   "outputs": [
    {
     "data": {
      "text/plain": [
       "0    2017-08-02T13:12:09.542\n",
       "1    2017-08-09T09:25:11.710\n",
       "2    2017-08-09T10:06:25.480\n",
       "3    2017-08-09T11:21:01.555\n",
       "4    2017-08-09T11:37:20.862\n",
       "5    2017-08-17T11:12:02.820\n",
       "6    2017-08-17T13:06:30.183\n",
       "7    2017-08-22T15:42:05.751\n",
       "8    2017-08-22T16:02:50.682\n",
       "9                        NaN\n",
       "dtype: object"
      ]
     },
     "execution_count": 6,
     "metadata": {},
     "output_type": "execute_result"
    }
   ],
   "source": [
    "pd.Series(cam_combo_df.fields__oSets__date.sort_values().unique())"
   ]
  }
 ],
 "metadata": {
  "kernelspec": {
   "display_name": "Python 3",
   "language": "python",
   "name": "python3"
  },
  "language_info": {
   "codemirror_mode": {
    "name": "ipython",
    "version": 3
   },
   "file_extension": ".py",
   "mimetype": "text/x-python",
   "name": "python",
   "nbconvert_exporter": "python",
   "pygments_lexer": "ipython3",
   "version": "3.6.3"
  }
 },
 "nbformat": 4,
 "nbformat_minor": 2
}
